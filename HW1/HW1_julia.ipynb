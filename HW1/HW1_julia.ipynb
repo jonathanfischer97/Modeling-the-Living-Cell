{
 "cells": [
  {
   "cell_type": "markdown",
   "metadata": {},
   "source": [
    "# Problem Set 1"
   ]
  },
  {
   "cell_type": "code",
   "execution_count": 176,
   "metadata": {},
   "outputs": [
    {
     "name": "stderr",
     "output_type": "stream",
     "text": [
      "┌ Info: Precompiling PlotlyJS [f0f68f2c-4968-5e81-91da-67840de0976a]\n",
      "└ @ Base loading.jl:1662\n",
      "\u001b[33m\u001b[1m┌ \u001b[22m\u001b[39m\u001b[33m\u001b[1mWarning: \u001b[22m\u001b[39mModule ColorSchemes with build ID 637063755858376 is missing from the cache.\n",
      "\u001b[33m\u001b[1m│ \u001b[22m\u001b[39mThis may mean ColorSchemes [35d6a980-a343-548e-a6ea-1d62b119f2f4] does not support precompilation but is imported by a module that does.\n",
      "\u001b[33m\u001b[1m└ \u001b[22m\u001b[39m\u001b[90m@ Base loading.jl:1325\u001b[39m\n",
      "\u001b[33m\u001b[1m┌ \u001b[22m\u001b[39m\u001b[33m\u001b[1mWarning: \u001b[22m\u001b[39mModule ColorSchemes with build ID 637063755858376 is missing from the cache.\n",
      "\u001b[33m\u001b[1m│ \u001b[22m\u001b[39mThis may mean ColorSchemes [35d6a980-a343-548e-a6ea-1d62b119f2f4] does not support precompilation but is imported by a module that does.\n",
      "\u001b[33m\u001b[1m└ \u001b[22m\u001b[39m\u001b[90m@ Base loading.jl:1325\u001b[39m\n",
      "┌ Info: Skipping precompilation since __precompile__(false). Importing PlotlyJS [f0f68f2c-4968-5e81-91da-67840de0976a].\n",
      "└ @ Base loading.jl:1341\n",
      "┌ Info: Precompiling PlotlyBase [a03496cd-edff-5a9b-9e67-9cda94a718b5]\n",
      "└ @ Base loading.jl:1662\n",
      "\u001b[33m\u001b[1m┌ \u001b[22m\u001b[39m\u001b[33m\u001b[1mWarning: \u001b[22m\u001b[39mModule ColorSchemes with build ID 637063755858376 is missing from the cache.\n",
      "\u001b[33m\u001b[1m│ \u001b[22m\u001b[39mThis may mean ColorSchemes [35d6a980-a343-548e-a6ea-1d62b119f2f4] does not support precompilation but is imported by a module that does.\n",
      "\u001b[33m\u001b[1m└ \u001b[22m\u001b[39m\u001b[90m@ Base loading.jl:1325\u001b[39m\n",
      "┌ Info: Skipping precompilation since __precompile__(false). Importing PlotlyBase [a03496cd-edff-5a9b-9e67-9cda94a718b5].\n",
      "└ @ Base loading.jl:1341\n"
     ]
    },
    {
     "data": {
      "application/vnd.webio.node+json": {
       "children": [],
       "instanceArgs": {
        "namespace": "html",
        "tag": "div"
       },
       "nodeType": "DOM",
       "props": {},
       "type": "node"
      },
      "text/html": [
       "<div style=\"padding: 1em; background-color: #f8d6da; border: 1px solid #f5c6cb; font-weight: bold;\">\n",
       "<p>The WebIO Jupyter extension was not detected. See the\n",
       "<a href=\"https://juliagizmos.github.io/WebIO.jl/latest/providers/ijulia/\" target=\"_blank\">\n",
       "    WebIO Jupyter integration documentation\n",
       "</a>\n",
       "for more information.\n",
       "</div>\n"
      ],
      "text/plain": [
       "WebIO._IJuliaInit()"
      ]
     },
     "metadata": {},
     "output_type": "display_data"
    }
   ],
   "source": [
    "using DataFrames\n",
    "using DelimitedFiles\n",
    "using Plots; plotlyjs()\n",
    "using Statistics"
   ]
  },
  {
   "cell_type": "markdown",
   "metadata": {},
   "source": [
    "## Problem 1: Load and Plot"
   ]
  },
  {
   "cell_type": "markdown",
   "metadata": {},
   "source": [
    "load in a file, data_prob2.dat. It is xy data, column 1 is x, column 2 is y"
   ]
  },
  {
   "cell_type": "code",
   "execution_count": 18,
   "metadata": {},
   "outputs": [
    {
     "data": {
      "text/html": [
       "<div class=\"data-frame\"><p>50 rows × 2 columns</p><table class=\"data-frame\"><thead><tr><th></th><th>x</th><th>y</th></tr><tr><th></th><th title=\"Float64\">Float64</th><th title=\"Float64\">Float64</th></tr></thead><tbody><tr><th>1</th><td>-3.65446</td><td>0.000316921</td></tr><tr><th>2</th><td>-3.49668</td><td>0.000316921</td></tr><tr><th>3</th><td>-3.3389</td><td>0.000316921</td></tr><tr><th>4</th><td>-3.18111</td><td>0.000950763</td></tr><tr><th>5</th><td>-3.02333</td><td>0.00253537</td></tr><tr><th>6</th><td>-2.86554</td><td>0.00380305</td></tr><tr><th>7</th><td>-2.70776</td><td>0.00665534</td></tr><tr><th>8</th><td>-2.54998</td><td>0.0104584</td></tr><tr><th>9</th><td>-2.39219</td><td>0.0129938</td></tr><tr><th>10</th><td>-2.23441</td><td>0.0164799</td></tr><tr><th>11</th><td>-2.07662</td><td>0.019966</td></tr><tr><th>12</th><td>-1.91884</td><td>0.0313752</td></tr><tr><th>13</th><td>-1.76106</td><td>0.0475381</td></tr><tr><th>14</th><td>-1.60327</td><td>0.0595811</td></tr><tr><th>15</th><td>-1.44549</td><td>0.0738426</td></tr><tr><th>16</th><td>-1.28771</td><td>0.0874702</td></tr><tr><th>17</th><td>-1.12992</td><td>0.109338</td></tr><tr><th>18</th><td>-0.972138</td><td>0.10807</td></tr><tr><th>19</th><td>-0.814354</td><td>0.137544</td></tr><tr><th>20</th><td>-0.65657</td><td>0.160362</td></tr><tr><th>21</th><td>-0.498786</td><td>0.167334</td></tr><tr><th>22</th><td>-0.341002</td><td>0.196491</td></tr><tr><th>23</th><td>-0.183219</td><td>0.193639</td></tr><tr><th>24</th><td>-0.0254348</td><td>0.198076</td></tr><tr><th>25</th><td>0.132349</td><td>0.18635</td></tr><tr><th>26</th><td>0.290133</td><td>0.199026</td></tr><tr><th>27</th><td>0.447917</td><td>0.173673</td></tr><tr><th>28</th><td>0.6057</td><td>0.163214</td></tr><tr><th>29</th><td>0.763484</td><td>0.156876</td></tr><tr><th>30</th><td>0.921268</td><td>0.142931</td></tr><tr><th>&vellip;</th><td>&vellip;</td><td>&vellip;</td></tr></tbody></table></div>"
      ],
      "text/latex": [
       "\\begin{tabular}{r|cc}\n",
       "\t& x & y\\\\\n",
       "\t\\hline\n",
       "\t& Float64 & Float64\\\\\n",
       "\t\\hline\n",
       "\t1 & -3.65446 & 0.000316921 \\\\\n",
       "\t2 & -3.49668 & 0.000316921 \\\\\n",
       "\t3 & -3.3389 & 0.000316921 \\\\\n",
       "\t4 & -3.18111 & 0.000950763 \\\\\n",
       "\t5 & -3.02333 & 0.00253537 \\\\\n",
       "\t6 & -2.86554 & 0.00380305 \\\\\n",
       "\t7 & -2.70776 & 0.00665534 \\\\\n",
       "\t8 & -2.54998 & 0.0104584 \\\\\n",
       "\t9 & -2.39219 & 0.0129938 \\\\\n",
       "\t10 & -2.23441 & 0.0164799 \\\\\n",
       "\t11 & -2.07662 & 0.019966 \\\\\n",
       "\t12 & -1.91884 & 0.0313752 \\\\\n",
       "\t13 & -1.76106 & 0.0475381 \\\\\n",
       "\t14 & -1.60327 & 0.0595811 \\\\\n",
       "\t15 & -1.44549 & 0.0738426 \\\\\n",
       "\t16 & -1.28771 & 0.0874702 \\\\\n",
       "\t17 & -1.12992 & 0.109338 \\\\\n",
       "\t18 & -0.972138 & 0.10807 \\\\\n",
       "\t19 & -0.814354 & 0.137544 \\\\\n",
       "\t20 & -0.65657 & 0.160362 \\\\\n",
       "\t21 & -0.498786 & 0.167334 \\\\\n",
       "\t22 & -0.341002 & 0.196491 \\\\\n",
       "\t23 & -0.183219 & 0.193639 \\\\\n",
       "\t24 & -0.0254348 & 0.198076 \\\\\n",
       "\t25 & 0.132349 & 0.18635 \\\\\n",
       "\t26 & 0.290133 & 0.199026 \\\\\n",
       "\t27 & 0.447917 & 0.173673 \\\\\n",
       "\t28 & 0.6057 & 0.163214 \\\\\n",
       "\t29 & 0.763484 & 0.156876 \\\\\n",
       "\t30 & 0.921268 & 0.142931 \\\\\n",
       "\t$\\dots$ & $\\dots$ & $\\dots$ \\\\\n",
       "\\end{tabular}\n"
      ],
      "text/plain": [
       "\u001b[1m50×2 DataFrame\u001b[0m\n",
       "\u001b[1m Row \u001b[0m│\u001b[1m x        \u001b[0m\u001b[1m y           \u001b[0m\n",
       "\u001b[1m     \u001b[0m│\u001b[90m Float64  \u001b[0m\u001b[90m Float64     \u001b[0m\n",
       "─────┼───────────────────────\n",
       "   1 │ -3.65446  0.000316921\n",
       "   2 │ -3.49668  0.000316921\n",
       "   3 │ -3.3389   0.000316921\n",
       "   4 │ -3.18111  0.000950763\n",
       "   5 │ -3.02333  0.00253537\n",
       "   6 │ -2.86554  0.00380305\n",
       "   7 │ -2.70776  0.00665534\n",
       "   8 │ -2.54998  0.0104584\n",
       "   9 │ -2.39219  0.0129938\n",
       "  10 │ -2.23441  0.0164799\n",
       "  11 │ -2.07662  0.019966\n",
       "  ⋮  │    ⋮           ⋮\n",
       "  41 │  2.65689  0.00443689\n",
       "  42 │  2.81467  0.00285229\n",
       "  43 │  2.97246  0.00190153\n",
       "  44 │  3.13024  0.0015846\n",
       "  45 │  3.28803  0.000633842\n",
       "  46 │  3.44581  0.000950763\n",
       "  47 │  3.60359  0.000316921\n",
       "  48 │  3.76138  0.0\n",
       "  49 │  3.91916  0.0\n",
       "  50 │  4.07694  0.000316921\n",
       "\u001b[36m              29 rows omitted\u001b[0m"
      ]
     },
     "execution_count": 18,
     "metadata": {},
     "output_type": "execute_result"
    }
   ],
   "source": [
    "data = readdlm(\"data_prob2.dat\")\n",
    "df = DataFrame(data, [:x,:y])"
   ]
  },
  {
   "cell_type": "markdown",
   "metadata": {},
   "source": [
    "1.a) what is the size of this?"
   ]
  },
  {
   "cell_type": "markdown",
   "metadata": {},
   "source": [
    "50x2 "
   ]
  },
  {
   "cell_type": "markdown",
   "metadata": {},
   "source": [
    "1.b) how many rows?"
   ]
  },
  {
   "cell_type": "markdown",
   "metadata": {},
   "source": [
    "50"
   ]
  },
  {
   "cell_type": "markdown",
   "metadata": {},
   "source": [
    "1.c) how many columns?"
   ]
  },
  {
   "cell_type": "markdown",
   "metadata": {},
   "source": [
    "2"
   ]
  },
  {
   "cell_type": "markdown",
   "metadata": {},
   "source": [
    "1.d) rename column1 as xvar"
   ]
  },
  {
   "cell_type": "code",
   "execution_count": 19,
   "metadata": {},
   "outputs": [
    {
     "data": {
      "text/html": [
       "<div class=\"data-frame\"><p>50 rows × 2 columns</p><table class=\"data-frame\"><thead><tr><th></th><th>xvar</th><th>y</th></tr><tr><th></th><th title=\"Float64\">Float64</th><th title=\"Float64\">Float64</th></tr></thead><tbody><tr><th>1</th><td>-3.65446</td><td>0.000316921</td></tr><tr><th>2</th><td>-3.49668</td><td>0.000316921</td></tr><tr><th>3</th><td>-3.3389</td><td>0.000316921</td></tr><tr><th>4</th><td>-3.18111</td><td>0.000950763</td></tr><tr><th>5</th><td>-3.02333</td><td>0.00253537</td></tr><tr><th>6</th><td>-2.86554</td><td>0.00380305</td></tr><tr><th>7</th><td>-2.70776</td><td>0.00665534</td></tr><tr><th>8</th><td>-2.54998</td><td>0.0104584</td></tr><tr><th>9</th><td>-2.39219</td><td>0.0129938</td></tr><tr><th>10</th><td>-2.23441</td><td>0.0164799</td></tr><tr><th>11</th><td>-2.07662</td><td>0.019966</td></tr><tr><th>12</th><td>-1.91884</td><td>0.0313752</td></tr><tr><th>13</th><td>-1.76106</td><td>0.0475381</td></tr><tr><th>14</th><td>-1.60327</td><td>0.0595811</td></tr><tr><th>15</th><td>-1.44549</td><td>0.0738426</td></tr><tr><th>16</th><td>-1.28771</td><td>0.0874702</td></tr><tr><th>17</th><td>-1.12992</td><td>0.109338</td></tr><tr><th>18</th><td>-0.972138</td><td>0.10807</td></tr><tr><th>19</th><td>-0.814354</td><td>0.137544</td></tr><tr><th>20</th><td>-0.65657</td><td>0.160362</td></tr><tr><th>21</th><td>-0.498786</td><td>0.167334</td></tr><tr><th>22</th><td>-0.341002</td><td>0.196491</td></tr><tr><th>23</th><td>-0.183219</td><td>0.193639</td></tr><tr><th>24</th><td>-0.0254348</td><td>0.198076</td></tr><tr><th>25</th><td>0.132349</td><td>0.18635</td></tr><tr><th>26</th><td>0.290133</td><td>0.199026</td></tr><tr><th>27</th><td>0.447917</td><td>0.173673</td></tr><tr><th>28</th><td>0.6057</td><td>0.163214</td></tr><tr><th>29</th><td>0.763484</td><td>0.156876</td></tr><tr><th>30</th><td>0.921268</td><td>0.142931</td></tr><tr><th>&vellip;</th><td>&vellip;</td><td>&vellip;</td></tr></tbody></table></div>"
      ],
      "text/latex": [
       "\\begin{tabular}{r|cc}\n",
       "\t& xvar & y\\\\\n",
       "\t\\hline\n",
       "\t& Float64 & Float64\\\\\n",
       "\t\\hline\n",
       "\t1 & -3.65446 & 0.000316921 \\\\\n",
       "\t2 & -3.49668 & 0.000316921 \\\\\n",
       "\t3 & -3.3389 & 0.000316921 \\\\\n",
       "\t4 & -3.18111 & 0.000950763 \\\\\n",
       "\t5 & -3.02333 & 0.00253537 \\\\\n",
       "\t6 & -2.86554 & 0.00380305 \\\\\n",
       "\t7 & -2.70776 & 0.00665534 \\\\\n",
       "\t8 & -2.54998 & 0.0104584 \\\\\n",
       "\t9 & -2.39219 & 0.0129938 \\\\\n",
       "\t10 & -2.23441 & 0.0164799 \\\\\n",
       "\t11 & -2.07662 & 0.019966 \\\\\n",
       "\t12 & -1.91884 & 0.0313752 \\\\\n",
       "\t13 & -1.76106 & 0.0475381 \\\\\n",
       "\t14 & -1.60327 & 0.0595811 \\\\\n",
       "\t15 & -1.44549 & 0.0738426 \\\\\n",
       "\t16 & -1.28771 & 0.0874702 \\\\\n",
       "\t17 & -1.12992 & 0.109338 \\\\\n",
       "\t18 & -0.972138 & 0.10807 \\\\\n",
       "\t19 & -0.814354 & 0.137544 \\\\\n",
       "\t20 & -0.65657 & 0.160362 \\\\\n",
       "\t21 & -0.498786 & 0.167334 \\\\\n",
       "\t22 & -0.341002 & 0.196491 \\\\\n",
       "\t23 & -0.183219 & 0.193639 \\\\\n",
       "\t24 & -0.0254348 & 0.198076 \\\\\n",
       "\t25 & 0.132349 & 0.18635 \\\\\n",
       "\t26 & 0.290133 & 0.199026 \\\\\n",
       "\t27 & 0.447917 & 0.173673 \\\\\n",
       "\t28 & 0.6057 & 0.163214 \\\\\n",
       "\t29 & 0.763484 & 0.156876 \\\\\n",
       "\t30 & 0.921268 & 0.142931 \\\\\n",
       "\t$\\dots$ & $\\dots$ & $\\dots$ \\\\\n",
       "\\end{tabular}\n"
      ],
      "text/plain": [
       "\u001b[1m50×2 DataFrame\u001b[0m\n",
       "\u001b[1m Row \u001b[0m│\u001b[1m xvar     \u001b[0m\u001b[1m y           \u001b[0m\n",
       "\u001b[1m     \u001b[0m│\u001b[90m Float64  \u001b[0m\u001b[90m Float64     \u001b[0m\n",
       "─────┼───────────────────────\n",
       "   1 │ -3.65446  0.000316921\n",
       "   2 │ -3.49668  0.000316921\n",
       "   3 │ -3.3389   0.000316921\n",
       "   4 │ -3.18111  0.000950763\n",
       "   5 │ -3.02333  0.00253537\n",
       "   6 │ -2.86554  0.00380305\n",
       "   7 │ -2.70776  0.00665534\n",
       "   8 │ -2.54998  0.0104584\n",
       "   9 │ -2.39219  0.0129938\n",
       "  10 │ -2.23441  0.0164799\n",
       "  11 │ -2.07662  0.019966\n",
       "  ⋮  │    ⋮           ⋮\n",
       "  41 │  2.65689  0.00443689\n",
       "  42 │  2.81467  0.00285229\n",
       "  43 │  2.97246  0.00190153\n",
       "  44 │  3.13024  0.0015846\n",
       "  45 │  3.28803  0.000633842\n",
       "  46 │  3.44581  0.000950763\n",
       "  47 │  3.60359  0.000316921\n",
       "  48 │  3.76138  0.0\n",
       "  49 │  3.91916  0.0\n",
       "  50 │  4.07694  0.000316921\n",
       "\u001b[36m              29 rows omitted\u001b[0m"
      ]
     },
     "execution_count": 19,
     "metadata": {},
     "output_type": "execute_result"
    }
   ],
   "source": [
    "rename!(df, :x => :xvar)"
   ]
  },
  {
   "cell_type": "markdown",
   "metadata": {},
   "source": [
    "1.e) rename column2 as yvar"
   ]
  },
  {
   "cell_type": "code",
   "execution_count": 20,
   "metadata": {},
   "outputs": [
    {
     "data": {
      "text/html": [
       "<div class=\"data-frame\"><p>50 rows × 2 columns</p><table class=\"data-frame\"><thead><tr><th></th><th>xvar</th><th>yvar</th></tr><tr><th></th><th title=\"Float64\">Float64</th><th title=\"Float64\">Float64</th></tr></thead><tbody><tr><th>1</th><td>-3.65446</td><td>0.000316921</td></tr><tr><th>2</th><td>-3.49668</td><td>0.000316921</td></tr><tr><th>3</th><td>-3.3389</td><td>0.000316921</td></tr><tr><th>4</th><td>-3.18111</td><td>0.000950763</td></tr><tr><th>5</th><td>-3.02333</td><td>0.00253537</td></tr><tr><th>6</th><td>-2.86554</td><td>0.00380305</td></tr><tr><th>7</th><td>-2.70776</td><td>0.00665534</td></tr><tr><th>8</th><td>-2.54998</td><td>0.0104584</td></tr><tr><th>9</th><td>-2.39219</td><td>0.0129938</td></tr><tr><th>10</th><td>-2.23441</td><td>0.0164799</td></tr><tr><th>11</th><td>-2.07662</td><td>0.019966</td></tr><tr><th>12</th><td>-1.91884</td><td>0.0313752</td></tr><tr><th>13</th><td>-1.76106</td><td>0.0475381</td></tr><tr><th>14</th><td>-1.60327</td><td>0.0595811</td></tr><tr><th>15</th><td>-1.44549</td><td>0.0738426</td></tr><tr><th>16</th><td>-1.28771</td><td>0.0874702</td></tr><tr><th>17</th><td>-1.12992</td><td>0.109338</td></tr><tr><th>18</th><td>-0.972138</td><td>0.10807</td></tr><tr><th>19</th><td>-0.814354</td><td>0.137544</td></tr><tr><th>20</th><td>-0.65657</td><td>0.160362</td></tr><tr><th>21</th><td>-0.498786</td><td>0.167334</td></tr><tr><th>22</th><td>-0.341002</td><td>0.196491</td></tr><tr><th>23</th><td>-0.183219</td><td>0.193639</td></tr><tr><th>24</th><td>-0.0254348</td><td>0.198076</td></tr><tr><th>25</th><td>0.132349</td><td>0.18635</td></tr><tr><th>26</th><td>0.290133</td><td>0.199026</td></tr><tr><th>27</th><td>0.447917</td><td>0.173673</td></tr><tr><th>28</th><td>0.6057</td><td>0.163214</td></tr><tr><th>29</th><td>0.763484</td><td>0.156876</td></tr><tr><th>30</th><td>0.921268</td><td>0.142931</td></tr><tr><th>&vellip;</th><td>&vellip;</td><td>&vellip;</td></tr></tbody></table></div>"
      ],
      "text/latex": [
       "\\begin{tabular}{r|cc}\n",
       "\t& xvar & yvar\\\\\n",
       "\t\\hline\n",
       "\t& Float64 & Float64\\\\\n",
       "\t\\hline\n",
       "\t1 & -3.65446 & 0.000316921 \\\\\n",
       "\t2 & -3.49668 & 0.000316921 \\\\\n",
       "\t3 & -3.3389 & 0.000316921 \\\\\n",
       "\t4 & -3.18111 & 0.000950763 \\\\\n",
       "\t5 & -3.02333 & 0.00253537 \\\\\n",
       "\t6 & -2.86554 & 0.00380305 \\\\\n",
       "\t7 & -2.70776 & 0.00665534 \\\\\n",
       "\t8 & -2.54998 & 0.0104584 \\\\\n",
       "\t9 & -2.39219 & 0.0129938 \\\\\n",
       "\t10 & -2.23441 & 0.0164799 \\\\\n",
       "\t11 & -2.07662 & 0.019966 \\\\\n",
       "\t12 & -1.91884 & 0.0313752 \\\\\n",
       "\t13 & -1.76106 & 0.0475381 \\\\\n",
       "\t14 & -1.60327 & 0.0595811 \\\\\n",
       "\t15 & -1.44549 & 0.0738426 \\\\\n",
       "\t16 & -1.28771 & 0.0874702 \\\\\n",
       "\t17 & -1.12992 & 0.109338 \\\\\n",
       "\t18 & -0.972138 & 0.10807 \\\\\n",
       "\t19 & -0.814354 & 0.137544 \\\\\n",
       "\t20 & -0.65657 & 0.160362 \\\\\n",
       "\t21 & -0.498786 & 0.167334 \\\\\n",
       "\t22 & -0.341002 & 0.196491 \\\\\n",
       "\t23 & -0.183219 & 0.193639 \\\\\n",
       "\t24 & -0.0254348 & 0.198076 \\\\\n",
       "\t25 & 0.132349 & 0.18635 \\\\\n",
       "\t26 & 0.290133 & 0.199026 \\\\\n",
       "\t27 & 0.447917 & 0.173673 \\\\\n",
       "\t28 & 0.6057 & 0.163214 \\\\\n",
       "\t29 & 0.763484 & 0.156876 \\\\\n",
       "\t30 & 0.921268 & 0.142931 \\\\\n",
       "\t$\\dots$ & $\\dots$ & $\\dots$ \\\\\n",
       "\\end{tabular}\n"
      ],
      "text/plain": [
       "\u001b[1m50×2 DataFrame\u001b[0m\n",
       "\u001b[1m Row \u001b[0m│\u001b[1m xvar     \u001b[0m\u001b[1m yvar        \u001b[0m\n",
       "\u001b[1m     \u001b[0m│\u001b[90m Float64  \u001b[0m\u001b[90m Float64     \u001b[0m\n",
       "─────┼───────────────────────\n",
       "   1 │ -3.65446  0.000316921\n",
       "   2 │ -3.49668  0.000316921\n",
       "   3 │ -3.3389   0.000316921\n",
       "   4 │ -3.18111  0.000950763\n",
       "   5 │ -3.02333  0.00253537\n",
       "   6 │ -2.86554  0.00380305\n",
       "   7 │ -2.70776  0.00665534\n",
       "   8 │ -2.54998  0.0104584\n",
       "   9 │ -2.39219  0.0129938\n",
       "  10 │ -2.23441  0.0164799\n",
       "  11 │ -2.07662  0.019966\n",
       "  ⋮  │    ⋮           ⋮\n",
       "  41 │  2.65689  0.00443689\n",
       "  42 │  2.81467  0.00285229\n",
       "  43 │  2.97246  0.00190153\n",
       "  44 │  3.13024  0.0015846\n",
       "  45 │  3.28803  0.000633842\n",
       "  46 │  3.44581  0.000950763\n",
       "  47 │  3.60359  0.000316921\n",
       "  48 │  3.76138  0.0\n",
       "  49 │  3.91916  0.0\n",
       "  50 │  4.07694  0.000316921\n",
       "\u001b[36m              29 rows omitted\u001b[0m"
      ]
     },
     "execution_count": 20,
     "metadata": {},
     "output_type": "execute_result"
    }
   ],
   "source": [
    "rename!(df, :y => :yvar)"
   ]
  },
  {
   "cell_type": "markdown",
   "metadata": {},
   "source": [
    "1.f) multiply column 2 by 2, name as y2."
   ]
  },
  {
   "cell_type": "code",
   "execution_count": 21,
   "metadata": {},
   "outputs": [
    {
     "data": {
      "text/html": [
       "<div class=\"data-frame\"><p>50 rows × 2 columns</p><table class=\"data-frame\"><thead><tr><th></th><th>xvar</th><th>y2</th></tr><tr><th></th><th title=\"Float64\">Float64</th><th title=\"Float64\">Float64</th></tr></thead><tbody><tr><th>1</th><td>-3.65446</td><td>0.000633842</td></tr><tr><th>2</th><td>-3.49668</td><td>0.000633842</td></tr><tr><th>3</th><td>-3.3389</td><td>0.000633842</td></tr><tr><th>4</th><td>-3.18111</td><td>0.00190153</td></tr><tr><th>5</th><td>-3.02333</td><td>0.00507074</td></tr><tr><th>6</th><td>-2.86554</td><td>0.0076061</td></tr><tr><th>7</th><td>-2.70776</td><td>0.0133107</td></tr><tr><th>8</th><td>-2.54998</td><td>0.0209168</td></tr><tr><th>9</th><td>-2.39219</td><td>0.0259875</td></tr><tr><th>10</th><td>-2.23441</td><td>0.0329598</td></tr><tr><th>11</th><td>-2.07662</td><td>0.039932</td></tr><tr><th>12</th><td>-1.91884</td><td>0.0627503</td></tr><tr><th>13</th><td>-1.76106</td><td>0.0950763</td></tr><tr><th>14</th><td>-1.60327</td><td>0.119162</td></tr><tr><th>15</th><td>-1.44549</td><td>0.147685</td></tr><tr><th>16</th><td>-1.28771</td><td>0.17494</td></tr><tr><th>17</th><td>-1.12992</td><td>0.218675</td></tr><tr><th>18</th><td>-0.972138</td><td>0.21614</td></tr><tr><th>19</th><td>-0.814354</td><td>0.275087</td></tr><tr><th>20</th><td>-0.65657</td><td>0.320724</td></tr><tr><th>21</th><td>-0.498786</td><td>0.334669</td></tr><tr><th>22</th><td>-0.341002</td><td>0.392982</td></tr><tr><th>23</th><td>-0.183219</td><td>0.387277</td></tr><tr><th>24</th><td>-0.0254348</td><td>0.396151</td></tr><tr><th>25</th><td>0.132349</td><td>0.372699</td></tr><tr><th>26</th><td>0.290133</td><td>0.398053</td></tr><tr><th>27</th><td>0.447917</td><td>0.347345</td></tr><tr><th>28</th><td>0.6057</td><td>0.326429</td></tr><tr><th>29</th><td>0.763484</td><td>0.313752</td></tr><tr><th>30</th><td>0.921268</td><td>0.285863</td></tr><tr><th>&vellip;</th><td>&vellip;</td><td>&vellip;</td></tr></tbody></table></div>"
      ],
      "text/latex": [
       "\\begin{tabular}{r|cc}\n",
       "\t& xvar & y2\\\\\n",
       "\t\\hline\n",
       "\t& Float64 & Float64\\\\\n",
       "\t\\hline\n",
       "\t1 & -3.65446 & 0.000633842 \\\\\n",
       "\t2 & -3.49668 & 0.000633842 \\\\\n",
       "\t3 & -3.3389 & 0.000633842 \\\\\n",
       "\t4 & -3.18111 & 0.00190153 \\\\\n",
       "\t5 & -3.02333 & 0.00507074 \\\\\n",
       "\t6 & -2.86554 & 0.0076061 \\\\\n",
       "\t7 & -2.70776 & 0.0133107 \\\\\n",
       "\t8 & -2.54998 & 0.0209168 \\\\\n",
       "\t9 & -2.39219 & 0.0259875 \\\\\n",
       "\t10 & -2.23441 & 0.0329598 \\\\\n",
       "\t11 & -2.07662 & 0.039932 \\\\\n",
       "\t12 & -1.91884 & 0.0627503 \\\\\n",
       "\t13 & -1.76106 & 0.0950763 \\\\\n",
       "\t14 & -1.60327 & 0.119162 \\\\\n",
       "\t15 & -1.44549 & 0.147685 \\\\\n",
       "\t16 & -1.28771 & 0.17494 \\\\\n",
       "\t17 & -1.12992 & 0.218675 \\\\\n",
       "\t18 & -0.972138 & 0.21614 \\\\\n",
       "\t19 & -0.814354 & 0.275087 \\\\\n",
       "\t20 & -0.65657 & 0.320724 \\\\\n",
       "\t21 & -0.498786 & 0.334669 \\\\\n",
       "\t22 & -0.341002 & 0.392982 \\\\\n",
       "\t23 & -0.183219 & 0.387277 \\\\\n",
       "\t24 & -0.0254348 & 0.396151 \\\\\n",
       "\t25 & 0.132349 & 0.372699 \\\\\n",
       "\t26 & 0.290133 & 0.398053 \\\\\n",
       "\t27 & 0.447917 & 0.347345 \\\\\n",
       "\t28 & 0.6057 & 0.326429 \\\\\n",
       "\t29 & 0.763484 & 0.313752 \\\\\n",
       "\t30 & 0.921268 & 0.285863 \\\\\n",
       "\t$\\dots$ & $\\dots$ & $\\dots$ \\\\\n",
       "\\end{tabular}\n"
      ],
      "text/plain": [
       "\u001b[1m50×2 DataFrame\u001b[0m\n",
       "\u001b[1m Row \u001b[0m│\u001b[1m xvar     \u001b[0m\u001b[1m y2          \u001b[0m\n",
       "\u001b[1m     \u001b[0m│\u001b[90m Float64  \u001b[0m\u001b[90m Float64     \u001b[0m\n",
       "─────┼───────────────────────\n",
       "   1 │ -3.65446  0.000633842\n",
       "   2 │ -3.49668  0.000633842\n",
       "   3 │ -3.3389   0.000633842\n",
       "   4 │ -3.18111  0.00190153\n",
       "   5 │ -3.02333  0.00507074\n",
       "   6 │ -2.86554  0.0076061\n",
       "   7 │ -2.70776  0.0133107\n",
       "   8 │ -2.54998  0.0209168\n",
       "   9 │ -2.39219  0.0259875\n",
       "  10 │ -2.23441  0.0329598\n",
       "  11 │ -2.07662  0.039932\n",
       "  ⋮  │    ⋮           ⋮\n",
       "  41 │  2.65689  0.00887379\n",
       "  42 │  2.81467  0.00570458\n",
       "  43 │  2.97246  0.00380305\n",
       "  44 │  3.13024  0.00316921\n",
       "  45 │  3.28803  0.00126768\n",
       "  46 │  3.44581  0.00190153\n",
       "  47 │  3.60359  0.000633842\n",
       "  48 │  3.76138  0.0\n",
       "  49 │  3.91916  0.0\n",
       "  50 │  4.07694  0.000633842\n",
       "\u001b[36m              29 rows omitted\u001b[0m"
      ]
     },
     "execution_count": 21,
     "metadata": {},
     "output_type": "execute_result"
    }
   ],
   "source": [
    "df.yvar = df.yvar*2\n",
    "rename!(df, :yvar => :y2)"
   ]
  },
  {
   "cell_type": "markdown",
   "metadata": {},
   "source": [
    "1.g) plot xvar vs the new variable, y2."
   ]
  },
  {
   "cell_type": "code",
   "execution_count": 180,
   "metadata": {},
   "outputs": [
    {
     "data": {
      "application/vnd.plotly.v1+json": {
       "data": [
        {
         "colorbar": {
          "title": ""
         },
         "legendgroup": "y1",
         "line": {
          "color": "rgba(0, 154, 250, 1.000)",
          "dash": "solid",
          "shape": "linear",
          "width": 1
         },
         "mode": "lines",
         "name": "y1",
         "showlegend": true,
         "type": "scatter",
         "x": [
          -3.6544627,
          -3.4966789,
          -3.3388951,
          -3.1811112,
          -3.0233274,
          -2.8655436,
          -2.7077598,
          -2.5499759,
          -2.3921921,
          -2.2344083,
          -2.0766245,
          -1.9188407,
          -1.7610568,
          -1.603273,
          -1.4454892,
          -1.2877054,
          -1.1299215,
          -0.97213773,
          -0.8143539,
          -0.65657008,
          -0.49878626,
          -0.34100244,
          -0.18321862,
          -0.025434794,
          0.13234903,
          0.29013285,
          0.44791667,
          0.60570049,
          0.76348432,
          0.92126814,
          1.079052,
          1.2368358,
          1.3946196,
          1.5524034,
          1.7101872,
          1.8679711,
          2.0257549,
          2.1835387,
          2.3413225,
          2.4991064,
          2.6568902,
          2.814674,
          2.9724578,
          3.1302416,
          3.2880255,
          3.4458093,
          3.6035931,
          3.7613769,
          3.9191608,
          4.0769446
         ],
         "xaxis": "x",
         "y": [
          0.00063384192,
          0.00063384192,
          0.00063384192,
          0.00190152576,
          0.0050707354,
          0.007606103,
          0.0133106804,
          0.020916784,
          0.025987518,
          0.03295978,
          0.039932042,
          0.06275035,
          0.095076288,
          0.119162282,
          0.147685168,
          0.17494037,
          0.21867546,
          0.2161401,
          0.2750874,
          0.32072402,
          0.33466854,
          0.392982,
          0.38727742,
          0.3961512,
          0.37269906,
          0.39805272,
          0.34734538,
          0.3264286,
          0.31375176,
          0.2858627,
          0.23008462,
          0.189518734,
          0.160995848,
          0.116626914,
          0.089371712,
          0.070356454,
          0.042467408,
          0.032325938,
          0.027889044,
          0.0177475738,
          0.008873787,
          0.0057045774,
          0.0038030516,
          0.0031692096,
          0.00126768384,
          0.00190152576,
          0.00063384192,
          0,
          0,
          0.00063384192
         ],
         "yaxis": "y",
         "zmax": null,
         "zmin": null
        }
       ],
       "layout": {
        "annotations": [
         {
          "font": {
           "color": "rgba(0, 0, 0, 1.000)",
           "family": "sans-serif",
           "size": 20
          },
          "rotation": 0,
          "showarrow": false,
          "text": "Problem 1 xvar vs. y2",
          "x": 0.5349537037037038,
          "xanchor": "center",
          "xref": "paper",
          "y": 1,
          "yanchor": "top",
          "yref": "paper"
         }
        ],
        "height": 400,
        "margin": {
         "b": 20,
         "l": 0,
         "r": 0,
         "t": 20
        },
        "paper_bgcolor": "rgba(255, 255, 255, 1.000)",
        "plot_bgcolor": "rgba(255, 255, 255, 1.000)",
        "showlegend": false,
        "width": 600,
        "xaxis": {
         "anchor": "y",
         "domain": [
          0.07646908719743364,
          0.9934383202099737
         ],
         "gridcolor": "rgba(0, 0, 0, 0.100)",
         "gridwidth": 0.5,
         "linecolor": "rgba(0, 0, 0, 1.000)",
         "mirror": false,
         "range": [
          -3.886404919,
          4.308886819
         ],
         "showgrid": true,
         "showline": true,
         "showticklabels": true,
         "tickangle": 0,
         "tickcolor": "rgb(0, 0, 0)",
         "tickfont": {
          "color": "rgba(0, 0, 0, 1.000)",
          "family": "sans-serif",
          "size": 11
         },
         "tickmode": "array",
         "ticks": "inside",
         "ticktext": [
          "-2",
          "0",
          "2",
          "4"
         ],
         "tickvals": [
          -2,
          0,
          2,
          4
         ],
         "title": "xvar",
         "titlefont": {
          "color": "rgba(0, 0, 0, 1.000)",
          "family": "sans-serif",
          "size": 15
         },
         "type": "-",
         "visible": true,
         "zeroline": false,
         "zerolinecolor": "rgba(0, 0, 0, 1.000)"
        },
        "yaxis": {
         "anchor": "x",
         "domain": [
          0.07581474190726165,
          0.9415463692038496
         ],
         "gridcolor": "rgba(0, 0, 0, 0.100)",
         "gridwidth": 0.5,
         "linecolor": "rgba(0, 0, 0, 1.000)",
         "mirror": false,
         "range": [
          -0.0119415816,
          0.40999430160000006
         ],
         "showgrid": true,
         "showline": true,
         "showticklabels": true,
         "tickangle": 0,
         "tickcolor": "rgb(0, 0, 0)",
         "tickfont": {
          "color": "rgba(0, 0, 0, 1.000)",
          "family": "sans-serif",
          "size": 11
         },
         "tickmode": "array",
         "ticks": "inside",
         "ticktext": [
          "0.0",
          "0.1",
          "0.2",
          "0.3",
          "0.4"
         ],
         "tickvals": [
          0,
          0.1,
          0.2,
          0.30000000000000004,
          0.4
         ],
         "title": "y2",
         "titlefont": {
          "color": "rgba(0, 0, 0, 1.000)",
          "family": "sans-serif",
          "size": 15
         },
         "type": "-",
         "visible": true,
         "zeroline": false,
         "zerolinecolor": "rgba(0, 0, 0, 1.000)"
        }
       }
      },
      "text/html": [
       "    <div id=\"286100cd-d551-41d9-811b-9a4f135e89c9\" style=\"width:600px;height:400px;\"></div>\n",
       "    <script>\n",
       "        requirejs.config({\n",
       "        paths: {\n",
       "            Plotly: 'https://cdn.plot.ly/plotly-2.6.3.min'\n",
       "        }\n",
       "    });\n",
       "    require(['Plotly'], function (Plotly) {\n",
       "\n",
       "        Plotly.newPlot('286100cd-d551-41d9-811b-9a4f135e89c9', [\n",
       "    {\n",
       "        \"xaxis\": \"x\",\n",
       "        \"colorbar\": {\n",
       "            \"title\": \"\"\n",
       "        },\n",
       "        \"yaxis\": \"y\",\n",
       "        \"x\": [\n",
       "            -3.6544627,\n",
       "            -3.4966789,\n",
       "            -3.3388951,\n",
       "            -3.1811112,\n",
       "            -3.0233274,\n",
       "            -2.8655436,\n",
       "            -2.7077598,\n",
       "            -2.5499759,\n",
       "            -2.3921921,\n",
       "            -2.2344083,\n",
       "            -2.0766245,\n",
       "            -1.9188407,\n",
       "            -1.7610568,\n",
       "            -1.603273,\n",
       "            -1.4454892,\n",
       "            -1.2877054,\n",
       "            -1.1299215,\n",
       "            -0.97213773,\n",
       "            -0.8143539,\n",
       "            -0.65657008,\n",
       "            -0.49878626,\n",
       "            -0.34100244,\n",
       "            -0.18321862,\n",
       "            -0.025434794,\n",
       "            0.13234903,\n",
       "            0.29013285,\n",
       "            0.44791667,\n",
       "            0.60570049,\n",
       "            0.76348432,\n",
       "            0.92126814,\n",
       "            1.079052,\n",
       "            1.2368358,\n",
       "            1.3946196,\n",
       "            1.5524034,\n",
       "            1.7101872,\n",
       "            1.8679711,\n",
       "            2.0257549,\n",
       "            2.1835387,\n",
       "            2.3413225,\n",
       "            2.4991064,\n",
       "            2.6568902,\n",
       "            2.814674,\n",
       "            2.9724578,\n",
       "            3.1302416,\n",
       "            3.2880255,\n",
       "            3.4458093,\n",
       "            3.6035931,\n",
       "            3.7613769,\n",
       "            3.9191608,\n",
       "            4.0769446\n",
       "        ],\n",
       "        \"showlegend\": true,\n",
       "        \"mode\": \"lines\",\n",
       "        \"name\": \"y1\",\n",
       "        \"zmin\": null,\n",
       "        \"legendgroup\": \"y1\",\n",
       "        \"zmax\": null,\n",
       "        \"line\": {\n",
       "            \"color\": \"rgba(0, 154, 250, 1.000)\",\n",
       "            \"shape\": \"linear\",\n",
       "            \"dash\": \"solid\",\n",
       "            \"width\": 1\n",
       "        },\n",
       "        \"y\": [\n",
       "            0.00063384192,\n",
       "            0.00063384192,\n",
       "            0.00063384192,\n",
       "            0.00190152576,\n",
       "            0.0050707354,\n",
       "            0.007606103,\n",
       "            0.0133106804,\n",
       "            0.020916784,\n",
       "            0.025987518,\n",
       "            0.03295978,\n",
       "            0.039932042,\n",
       "            0.06275035,\n",
       "            0.095076288,\n",
       "            0.119162282,\n",
       "            0.147685168,\n",
       "            0.17494037,\n",
       "            0.21867546,\n",
       "            0.2161401,\n",
       "            0.2750874,\n",
       "            0.32072402,\n",
       "            0.33466854,\n",
       "            0.392982,\n",
       "            0.38727742,\n",
       "            0.3961512,\n",
       "            0.37269906,\n",
       "            0.39805272,\n",
       "            0.34734538,\n",
       "            0.3264286,\n",
       "            0.31375176,\n",
       "            0.2858627,\n",
       "            0.23008462,\n",
       "            0.189518734,\n",
       "            0.160995848,\n",
       "            0.116626914,\n",
       "            0.089371712,\n",
       "            0.070356454,\n",
       "            0.042467408,\n",
       "            0.032325938,\n",
       "            0.027889044,\n",
       "            0.0177475738,\n",
       "            0.008873787,\n",
       "            0.0057045774,\n",
       "            0.0038030516,\n",
       "            0.0031692096,\n",
       "            0.00126768384,\n",
       "            0.00190152576,\n",
       "            0.00063384192,\n",
       "            0.0,\n",
       "            0.0,\n",
       "            0.00063384192\n",
       "        ],\n",
       "        \"type\": \"scatter\"\n",
       "    }\n",
       "]\n",
       ", {\n",
       "    \"showlegend\": false,\n",
       "    \"xaxis\": {\n",
       "        \"showticklabels\": true,\n",
       "        \"gridwidth\": 0.5,\n",
       "        \"tickvals\": [\n",
       "            -2.0,\n",
       "            0.0,\n",
       "            2.0,\n",
       "            4.0\n",
       "        ],\n",
       "        \"range\": [\n",
       "            -3.886404919,\n",
       "            4.308886819\n",
       "        ],\n",
       "        \"domain\": [\n",
       "            0.07646908719743364,\n",
       "            0.9934383202099737\n",
       "        ],\n",
       "        \"mirror\": false,\n",
       "        \"tickangle\": 0,\n",
       "        \"showline\": true,\n",
       "        \"ticktext\": [\n",
       "            \"-2\",\n",
       "            \"0\",\n",
       "            \"2\",\n",
       "            \"4\"\n",
       "        ],\n",
       "        \"zeroline\": false,\n",
       "        \"tickfont\": {\n",
       "            \"color\": \"rgba(0, 0, 0, 1.000)\",\n",
       "            \"family\": \"sans-serif\",\n",
       "            \"size\": 11\n",
       "        },\n",
       "        \"zerolinecolor\": \"rgba(0, 0, 0, 1.000)\",\n",
       "        \"anchor\": \"y\",\n",
       "        \"visible\": true,\n",
       "        \"ticks\": \"inside\",\n",
       "        \"tickmode\": \"array\",\n",
       "        \"linecolor\": \"rgba(0, 0, 0, 1.000)\",\n",
       "        \"showgrid\": true,\n",
       "        \"title\": \"xvar\",\n",
       "        \"gridcolor\": \"rgba(0, 0, 0, 0.100)\",\n",
       "        \"titlefont\": {\n",
       "            \"color\": \"rgba(0, 0, 0, 1.000)\",\n",
       "            \"family\": \"sans-serif\",\n",
       "            \"size\": 15\n",
       "        },\n",
       "        \"tickcolor\": \"rgb(0, 0, 0)\",\n",
       "        \"type\": \"-\"\n",
       "    },\n",
       "    \"paper_bgcolor\": \"rgba(255, 255, 255, 1.000)\",\n",
       "    \"annotations\": [\n",
       "        {\n",
       "            \"yanchor\": \"top\",\n",
       "            \"xanchor\": \"center\",\n",
       "            \"rotation\": -0.0,\n",
       "            \"y\": 1.0,\n",
       "            \"font\": {\n",
       "                \"color\": \"rgba(0, 0, 0, 1.000)\",\n",
       "                \"family\": \"sans-serif\",\n",
       "                \"size\": 20\n",
       "            },\n",
       "            \"yref\": \"paper\",\n",
       "            \"showarrow\": false,\n",
       "            \"text\": \"Problem 1 xvar vs. y2\",\n",
       "            \"xref\": \"paper\",\n",
       "            \"x\": 0.5349537037037038\n",
       "        }\n",
       "    ],\n",
       "    \"height\": 400,\n",
       "    \"margin\": {\n",
       "        \"l\": 0,\n",
       "        \"b\": 20,\n",
       "        \"r\": 0,\n",
       "        \"t\": 20\n",
       "    },\n",
       "    \"plot_bgcolor\": \"rgba(255, 255, 255, 1.000)\",\n",
       "    \"yaxis\": {\n",
       "        \"showticklabels\": true,\n",
       "        \"gridwidth\": 0.5,\n",
       "        \"tickvals\": [\n",
       "            0.0,\n",
       "            0.1,\n",
       "            0.2,\n",
       "            0.30000000000000004,\n",
       "            0.4\n",
       "        ],\n",
       "        \"range\": [\n",
       "            -0.0119415816,\n",
       "            0.40999430160000006\n",
       "        ],\n",
       "        \"domain\": [\n",
       "            0.07581474190726165,\n",
       "            0.9415463692038496\n",
       "        ],\n",
       "        \"mirror\": false,\n",
       "        \"tickangle\": 0,\n",
       "        \"showline\": true,\n",
       "        \"ticktext\": [\n",
       "            \"0.0\",\n",
       "            \"0.1\",\n",
       "            \"0.2\",\n",
       "            \"0.3\",\n",
       "            \"0.4\"\n",
       "        ],\n",
       "        \"zeroline\": false,\n",
       "        \"tickfont\": {\n",
       "            \"color\": \"rgba(0, 0, 0, 1.000)\",\n",
       "            \"family\": \"sans-serif\",\n",
       "            \"size\": 11\n",
       "        },\n",
       "        \"zerolinecolor\": \"rgba(0, 0, 0, 1.000)\",\n",
       "        \"anchor\": \"x\",\n",
       "        \"visible\": true,\n",
       "        \"ticks\": \"inside\",\n",
       "        \"tickmode\": \"array\",\n",
       "        \"linecolor\": \"rgba(0, 0, 0, 1.000)\",\n",
       "        \"showgrid\": true,\n",
       "        \"title\": \"y2\",\n",
       "        \"gridcolor\": \"rgba(0, 0, 0, 0.100)\",\n",
       "        \"titlefont\": {\n",
       "            \"color\": \"rgba(0, 0, 0, 1.000)\",\n",
       "            \"family\": \"sans-serif\",\n",
       "            \"size\": 15\n",
       "        },\n",
       "        \"tickcolor\": \"rgb(0, 0, 0)\",\n",
       "        \"type\": \"-\"\n",
       "    },\n",
       "    \"width\": 600\n",
       "}\n",
       ");\n",
       "\n",
       "    });\n",
       "    </script>\n"
      ]
     },
     "metadata": {},
     "output_type": "display_data"
    }
   ],
   "source": [
    "plot1 = plot(df[!,:xvar],df[!,:y2],title = \"Problem 1 xvar vs. y2\", legend=false)\n",
    "xlabel!(\"xvar\")\n",
    "ylabel!(\"y2\")\n",
    "savefig(plot1, \"problem1.png\")\n",
    "display(plot1)"
   ]
  },
  {
   "cell_type": "markdown",
   "metadata": {},
   "source": [
    "## problem 2, function input output"
   ]
  },
  {
   "cell_type": "markdown",
   "metadata": {},
   "source": [
    "create a new script with the first line: \n",
    "  %function[xValues, yValues]=calc_gauss(mu, sigma)"
   ]
  },
  {
   "cell_type": "code",
   "execution_count": 160,
   "metadata": {},
   "outputs": [
    {
     "data": {
      "text/plain": [
       "calc_gauss (generic function with 1 method)"
      ]
     },
     "execution_count": 160,
     "metadata": {},
     "output_type": "execute_result"
    }
   ],
   "source": [
    "include(\"calc_gauss.jl\")"
   ]
  },
  {
   "cell_type": "markdown",
   "metadata": {},
   "source": [
    "Other script looks like this"
   ]
  },
  {
   "cell_type": "code",
   "execution_count": 37,
   "metadata": {},
   "outputs": [
    {
     "data": {
      "text/plain": [
       "calc_gauss (generic function with 1 method)"
      ]
     },
     "execution_count": 37,
     "metadata": {},
     "output_type": "execute_result"
    }
   ],
   "source": [
    "function calc_gauss(mu,sigma)\n",
    "    xmin = mu-(sigma*4)\n",
    "    xmax = mu+(sigma*4)\n",
    "    nPts = 100\n",
    "    dx = (xmax-xmin)/100\n",
    "    xValues = collect(xmin:dx:xmax)\n",
    "\n",
    "    f(x) = 1/sqrt(2*pi*sigma^2)*exp(-1/(2*sigma^2)*(x-mu)^2)\n",
    "    yValues = map(f, xValues)\n",
    "\n",
    "    (xValues, yValues)\n",
    "end"
   ]
  },
  {
   "cell_type": "markdown",
   "metadata": {},
   "source": [
    "## problem 3: call your function from another program"
   ]
  },
  {
   "cell_type": "code",
   "execution_count": 167,
   "metadata": {},
   "outputs": [
    {
     "name": "stderr",
     "output_type": "stream",
     "text": [
      "┌ Info: Saved animation to \n",
      "│   fn = /Users/jonathanfischer/Desktop/Modeling the Living Cell/HW1/tmp.gif\n",
      "└ @ Plots /Users/jonathanfischer/.julia/packages/Plots/lW9ll/src/animation.jl:137\n"
     ]
    },
    {
     "data": {
      "text/html": [
       "<img src=\"data:image/gif;base64,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\" />"
      ],
      "text/plain": [
       "Plots.AnimatedGif(\"/Users/jonathanfischer/Desktop/Modeling the Living Cell/HW1/tmp.gif\")"
      ]
     },
     "execution_count": 167,
     "metadata": {},
     "output_type": "execute_result"
    }
   ],
   "source": [
    "plt = plot(title = \"Gaussian Distributions\", xlabel=\"x\",ylabel=\"p(x)\")\n",
    "@gif for i=1:10\n",
    "    width = i*0.1\n",
    "    gauss = calc_gauss(1,width)\n",
    "    plot!(plt,gauss[1],gauss[2]) #adds new gaussian to plot each loop\n",
    "end \n",
    "    "
   ]
  },
  {
   "cell_type": "markdown",
   "metadata": {},
   "source": [
    "## problem 4, surface & contour plots"
   ]
  },
  {
   "cell_type": "markdown",
   "metadata": {},
   "source": [
    "create a meshgrid of x values from -5 to +5, and y values from -10 to +10"
   ]
  },
  {
   "cell_type": "code",
   "execution_count": 182,
   "metadata": {},
   "outputs": [
    {
     "data": {
      "application/vnd.plotly.v1+json": {
       "data": [
        {
         "colorbar": {
          "title": ""
         },
         "colorscale": [
          [
           0,
           "rgba(0, 0, 4, 1.000)"
          ],
          [
           0.00392156862745098,
           "rgba(1, 0, 5, 1.000)"
          ],
          [
           0.00784313725490196,
           "rgba(1, 1, 6, 1.000)"
          ],
          [
           0.011764705882352941,
           "rgba(1, 1, 8, 1.000)"
          ],
          [
           0.01568627450980392,
           "rgba(2, 1, 10, 1.000)"
          ],
          [
           0.0196078431372549,
           "rgba(2, 2, 12, 1.000)"
          ],
          [
           0.023529411764705882,
           "rgba(2, 2, 14, 1.000)"
          ],
          [
           0.027450980392156862,
           "rgba(3, 2, 16, 1.000)"
          ],
          [
           0.03137254901960784,
           "rgba(4, 3, 18, 1.000)"
          ],
          [
           0.03529411764705882,
           "rgba(4, 3, 20, 1.000)"
          ],
          [
           0.0392156862745098,
           "rgba(5, 4, 23, 1.000)"
          ],
          [
           0.043137254901960784,
           "rgba(6, 4, 25, 1.000)"
          ],
          [
           0.047058823529411764,
           "rgba(7, 5, 27, 1.000)"
          ],
          [
           0.050980392156862744,
           "rgba(8, 5, 29, 1.000)"
          ],
          [
           0.054901960784313725,
           "rgba(9, 6, 31, 1.000)"
          ],
          [
           0.058823529411764705,
           "rgba(10, 7, 34, 1.000)"
          ],
          [
           0.06274509803921569,
           "rgba(11, 7, 36, 1.000)"
          ],
          [
           0.06666666666666667,
           "rgba(12, 8, 38, 1.000)"
          ],
          [
           0.07058823529411765,
           "rgba(13, 8, 41, 1.000)"
          ],
          [
           0.07450980392156863,
           "rgba(14, 9, 43, 1.000)"
          ],
          [
           0.0784313725490196,
           "rgba(16, 9, 45, 1.000)"
          ],
          [
           0.08235294117647059,
           "rgba(17, 10, 48, 1.000)"
          ],
          [
           0.08627450980392157,
           "rgba(18, 10, 50, 1.000)"
          ],
          [
           0.09019607843137255,
           "rgba(20, 11, 52, 1.000)"
          ],
          [
           0.09411764705882353,
           "rgba(21, 11, 55, 1.000)"
          ],
          [
           0.09803921568627451,
           "rgba(22, 11, 57, 1.000)"
          ],
          [
           0.10196078431372549,
           "rgba(24, 12, 60, 1.000)"
          ],
          [
           0.10588235294117647,
           "rgba(25, 12, 62, 1.000)"
          ],
          [
           0.10980392156862745,
           "rgba(27, 12, 65, 1.000)"
          ],
          [
           0.11372549019607843,
           "rgba(28, 12, 67, 1.000)"
          ],
          [
           0.11764705882352941,
           "rgba(30, 12, 69, 1.000)"
          ],
          [
           0.12156862745098039,
           "rgba(31, 12, 72, 1.000)"
          ],
          [
           0.12549019607843137,
           "rgba(33, 12, 74, 1.000)"
          ],
          [
           0.12941176470588237,
           "rgba(35, 12, 76, 1.000)"
          ],
          [
           0.13333333333333333,
           "rgba(36, 12, 79, 1.000)"
          ],
          [
           0.13725490196078433,
           "rgba(38, 12, 81, 1.000)"
          ],
          [
           0.1411764705882353,
           "rgba(40, 11, 83, 1.000)"
          ],
          [
           0.1450980392156863,
           "rgba(41, 11, 85, 1.000)"
          ],
          [
           0.14901960784313725,
           "rgba(43, 11, 87, 1.000)"
          ],
          [
           0.15294117647058825,
           "rgba(45, 11, 89, 1.000)"
          ],
          [
           0.1568627450980392,
           "rgba(47, 10, 91, 1.000)"
          ],
          [
           0.1607843137254902,
           "rgba(49, 10, 92, 1.000)"
          ],
          [
           0.16470588235294117,
           "rgba(50, 10, 94, 1.000)"
          ],
          [
           0.16862745098039217,
           "rgba(52, 10, 95, 1.000)"
          ],
          [
           0.17254901960784313,
           "rgba(54, 9, 97, 1.000)"
          ],
          [
           0.17647058823529413,
           "rgba(56, 9, 98, 1.000)"
          ],
          [
           0.1803921568627451,
           "rgba(57, 9, 99, 1.000)"
          ],
          [
           0.1843137254901961,
           "rgba(59, 9, 100, 1.000)"
          ],
          [
           0.18823529411764706,
           "rgba(61, 9, 101, 1.000)"
          ],
          [
           0.19215686274509805,
           "rgba(62, 9, 102, 1.000)"
          ],
          [
           0.19607843137254902,
           "rgba(64, 10, 103, 1.000)"
          ],
          [
           0.2,
           "rgba(66, 10, 104, 1.000)"
          ],
          [
           0.20392156862745098,
           "rgba(68, 10, 104, 1.000)"
          ],
          [
           0.20784313725490197,
           "rgba(69, 10, 105, 1.000)"
          ],
          [
           0.21176470588235294,
           "rgba(71, 11, 106, 1.000)"
          ],
          [
           0.21568627450980393,
           "rgba(73, 11, 106, 1.000)"
          ],
          [
           0.2196078431372549,
           "rgba(74, 12, 107, 1.000)"
          ],
          [
           0.2235294117647059,
           "rgba(76, 12, 107, 1.000)"
          ],
          [
           0.22745098039215686,
           "rgba(77, 13, 108, 1.000)"
          ],
          [
           0.23137254901960785,
           "rgba(79, 13, 108, 1.000)"
          ],
          [
           0.23529411764705882,
           "rgba(81, 14, 108, 1.000)"
          ],
          [
           0.23921568627450981,
           "rgba(82, 14, 109, 1.000)"
          ],
          [
           0.24313725490196078,
           "rgba(84, 15, 109, 1.000)"
          ],
          [
           0.24705882352941178,
           "rgba(85, 15, 109, 1.000)"
          ],
          [
           0.25098039215686274,
           "rgba(87, 16, 110, 1.000)"
          ],
          [
           0.2549019607843137,
           "rgba(89, 16, 110, 1.000)"
          ],
          [
           0.25882352941176473,
           "rgba(90, 17, 110, 1.000)"
          ],
          [
           0.2627450980392157,
           "rgba(92, 18, 110, 1.000)"
          ],
          [
           0.26666666666666666,
           "rgba(93, 18, 110, 1.000)"
          ],
          [
           0.27058823529411763,
           "rgba(95, 19, 110, 1.000)"
          ],
          [
           0.27450980392156865,
           "rgba(97, 19, 110, 1.000)"
          ],
          [
           0.2784313725490196,
           "rgba(98, 20, 110, 1.000)"
          ],
          [
           0.2823529411764706,
           "rgba(100, 21, 110, 1.000)"
          ],
          [
           0.28627450980392155,
           "rgba(101, 21, 110, 1.000)"
          ],
          [
           0.2901960784313726,
           "rgba(103, 22, 110, 1.000)"
          ],
          [
           0.29411764705882354,
           "rgba(105, 22, 110, 1.000)"
          ],
          [
           0.2980392156862745,
           "rgba(106, 23, 110, 1.000)"
          ],
          [
           0.30196078431372547,
           "rgba(108, 24, 110, 1.000)"
          ],
          [
           0.3058823529411765,
           "rgba(109, 24, 110, 1.000)"
          ],
          [
           0.30980392156862746,
           "rgba(111, 25, 110, 1.000)"
          ],
          [
           0.3137254901960784,
           "rgba(113, 25, 110, 1.000)"
          ],
          [
           0.3176470588235294,
           "rgba(114, 26, 110, 1.000)"
          ],
          [
           0.3215686274509804,
           "rgba(116, 26, 110, 1.000)"
          ],
          [
           0.3254901960784314,
           "rgba(117, 27, 110, 1.000)"
          ],
          [
           0.32941176470588235,
           "rgba(119, 28, 109, 1.000)"
          ],
          [
           0.3333333333333333,
           "rgba(120, 28, 109, 1.000)"
          ],
          [
           0.33725490196078434,
           "rgba(122, 29, 109, 1.000)"
          ],
          [
           0.3411764705882353,
           "rgba(124, 29, 109, 1.000)"
          ],
          [
           0.34509803921568627,
           "rgba(125, 30, 109, 1.000)"
          ],
          [
           0.34901960784313724,
           "rgba(127, 30, 108, 1.000)"
          ],
          [
           0.35294117647058826,
           "rgba(128, 31, 108, 1.000)"
          ],
          [
           0.3568627450980392,
           "rgba(130, 32, 108, 1.000)"
          ],
          [
           0.3607843137254902,
           "rgba(132, 32, 107, 1.000)"
          ],
          [
           0.36470588235294116,
           "rgba(133, 33, 107, 1.000)"
          ],
          [
           0.3686274509803922,
           "rgba(135, 33, 107, 1.000)"
          ],
          [
           0.37254901960784315,
           "rgba(136, 34, 106, 1.000)"
          ],
          [
           0.3764705882352941,
           "rgba(138, 34, 106, 1.000)"
          ],
          [
           0.3803921568627451,
           "rgba(140, 35, 105, 1.000)"
          ],
          [
           0.3843137254901961,
           "rgba(141, 35, 105, 1.000)"
          ],
          [
           0.38823529411764707,
           "rgba(143, 36, 105, 1.000)"
          ],
          [
           0.39215686274509803,
           "rgba(144, 37, 104, 1.000)"
          ],
          [
           0.396078431372549,
           "rgba(146, 37, 104, 1.000)"
          ],
          [
           0.4,
           "rgba(147, 38, 103, 1.000)"
          ],
          [
           0.403921568627451,
           "rgba(149, 38, 103, 1.000)"
          ],
          [
           0.40784313725490196,
           "rgba(151, 39, 102, 1.000)"
          ],
          [
           0.4117647058823529,
           "rgba(152, 39, 102, 1.000)"
          ],
          [
           0.41568627450980394,
           "rgba(154, 40, 101, 1.000)"
          ],
          [
           0.4196078431372549,
           "rgba(155, 41, 100, 1.000)"
          ],
          [
           0.4235294117647059,
           "rgba(157, 41, 100, 1.000)"
          ],
          [
           0.42745098039215684,
           "rgba(159, 42, 99, 1.000)"
          ],
          [
           0.43137254901960786,
           "rgba(160, 42, 99, 1.000)"
          ],
          [
           0.43529411764705883,
           "rgba(162, 43, 98, 1.000)"
          ],
          [
           0.4392156862745098,
           "rgba(163, 44, 97, 1.000)"
          ],
          [
           0.44313725490196076,
           "rgba(165, 44, 96, 1.000)"
          ],
          [
           0.4470588235294118,
           "rgba(166, 45, 96, 1.000)"
          ],
          [
           0.45098039215686275,
           "rgba(168, 46, 95, 1.000)"
          ],
          [
           0.4549019607843137,
           "rgba(169, 46, 94, 1.000)"
          ],
          [
           0.4588235294117647,
           "rgba(171, 47, 94, 1.000)"
          ],
          [
           0.4627450980392157,
           "rgba(173, 48, 93, 1.000)"
          ],
          [
           0.4666666666666667,
           "rgba(174, 48, 92, 1.000)"
          ],
          [
           0.47058823529411764,
           "rgba(176, 49, 91, 1.000)"
          ],
          [
           0.4745098039215686,
           "rgba(177, 50, 90, 1.000)"
          ],
          [
           0.47843137254901963,
           "rgba(179, 50, 90, 1.000)"
          ],
          [
           0.4823529411764706,
           "rgba(180, 51, 89, 1.000)"
          ],
          [
           0.48627450980392156,
           "rgba(182, 52, 88, 1.000)"
          ],
          [
           0.49019607843137253,
           "rgba(183, 53, 87, 1.000)"
          ],
          [
           0.49411764705882355,
           "rgba(185, 53, 86, 1.000)"
          ],
          [
           0.4980392156862745,
           "rgba(186, 54, 85, 1.000)"
          ],
          [
           0.5019607843137255,
           "rgba(188, 55, 84, 1.000)"
          ],
          [
           0.5058823529411764,
           "rgba(189, 56, 83, 1.000)"
          ],
          [
           0.5098039215686274,
           "rgba(191, 57, 82, 1.000)"
          ],
          [
           0.5137254901960784,
           "rgba(192, 58, 81, 1.000)"
          ],
          [
           0.5176470588235295,
           "rgba(193, 58, 80, 1.000)"
          ],
          [
           0.5215686274509804,
           "rgba(195, 59, 79, 1.000)"
          ],
          [
           0.5254901960784314,
           "rgba(196, 60, 78, 1.000)"
          ],
          [
           0.5294117647058824,
           "rgba(198, 61, 77, 1.000)"
          ],
          [
           0.5333333333333333,
           "rgba(199, 62, 76, 1.000)"
          ],
          [
           0.5372549019607843,
           "rgba(200, 63, 75, 1.000)"
          ],
          [
           0.5411764705882353,
           "rgba(202, 64, 74, 1.000)"
          ],
          [
           0.5450980392156862,
           "rgba(203, 65, 73, 1.000)"
          ],
          [
           0.5490196078431373,
           "rgba(204, 66, 72, 1.000)"
          ],
          [
           0.5529411764705883,
           "rgba(206, 67, 71, 1.000)"
          ],
          [
           0.5568627450980392,
           "rgba(207, 68, 70, 1.000)"
          ],
          [
           0.5607843137254902,
           "rgba(208, 69, 69, 1.000)"
          ],
          [
           0.5647058823529412,
           "rgba(210, 70, 68, 1.000)"
          ],
          [
           0.5686274509803921,
           "rgba(211, 71, 67, 1.000)"
          ],
          [
           0.5725490196078431,
           "rgba(212, 72, 66, 1.000)"
          ],
          [
           0.5764705882352941,
           "rgba(213, 74, 65, 1.000)"
          ],
          [
           0.5803921568627451,
           "rgba(215, 75, 63, 1.000)"
          ],
          [
           0.5843137254901961,
           "rgba(216, 76, 62, 1.000)"
          ],
          [
           0.5882352941176471,
           "rgba(217, 77, 61, 1.000)"
          ],
          [
           0.592156862745098,
           "rgba(218, 78, 60, 1.000)"
          ],
          [
           0.596078431372549,
           "rgba(219, 80, 59, 1.000)"
          ],
          [
           0.6,
           "rgba(221, 81, 58, 1.000)"
          ],
          [
           0.6039215686274509,
           "rgba(222, 82, 56, 1.000)"
          ],
          [
           0.6078431372549019,
           "rgba(223, 83, 55, 1.000)"
          ],
          [
           0.611764705882353,
           "rgba(224, 85, 54, 1.000)"
          ],
          [
           0.615686274509804,
           "rgba(225, 86, 53, 1.000)"
          ],
          [
           0.6196078431372549,
           "rgba(226, 87, 52, 1.000)"
          ],
          [
           0.6235294117647059,
           "rgba(227, 89, 51, 1.000)"
          ],
          [
           0.6274509803921569,
           "rgba(228, 90, 49, 1.000)"
          ],
          [
           0.6313725490196078,
           "rgba(229, 92, 48, 1.000)"
          ],
          [
           0.6352941176470588,
           "rgba(230, 93, 47, 1.000)"
          ],
          [
           0.6392156862745098,
           "rgba(231, 94, 46, 1.000)"
          ],
          [
           0.6431372549019608,
           "rgba(232, 96, 45, 1.000)"
          ],
          [
           0.6470588235294118,
           "rgba(233, 97, 43, 1.000)"
          ],
          [
           0.6509803921568628,
           "rgba(234, 99, 42, 1.000)"
          ],
          [
           0.6549019607843137,
           "rgba(235, 100, 41, 1.000)"
          ],
          [
           0.6588235294117647,
           "rgba(235, 102, 40, 1.000)"
          ],
          [
           0.6627450980392157,
           "rgba(236, 103, 38, 1.000)"
          ],
          [
           0.6666666666666666,
           "rgba(237, 105, 37, 1.000)"
          ],
          [
           0.6705882352941176,
           "rgba(238, 106, 36, 1.000)"
          ],
          [
           0.6745098039215687,
           "rgba(239, 108, 35, 1.000)"
          ],
          [
           0.6784313725490196,
           "rgba(239, 110, 33, 1.000)"
          ],
          [
           0.6823529411764706,
           "rgba(240, 111, 32, 1.000)"
          ],
          [
           0.6862745098039216,
           "rgba(241, 113, 31, 1.000)"
          ],
          [
           0.6901960784313725,
           "rgba(241, 115, 29, 1.000)"
          ],
          [
           0.6941176470588235,
           "rgba(242, 116, 28, 1.000)"
          ],
          [
           0.6980392156862745,
           "rgba(243, 118, 27, 1.000)"
          ],
          [
           0.7019607843137254,
           "rgba(243, 120, 25, 1.000)"
          ],
          [
           0.7058823529411765,
           "rgba(244, 121, 24, 1.000)"
          ],
          [
           0.7098039215686275,
           "rgba(245, 123, 23, 1.000)"
          ],
          [
           0.7137254901960784,
           "rgba(245, 125, 21, 1.000)"
          ],
          [
           0.7176470588235294,
           "rgba(246, 126, 20, 1.000)"
          ],
          [
           0.7215686274509804,
           "rgba(246, 128, 19, 1.000)"
          ],
          [
           0.7254901960784313,
           "rgba(247, 130, 18, 1.000)"
          ],
          [
           0.7294117647058823,
           "rgba(247, 132, 16, 1.000)"
          ],
          [
           0.7333333333333333,
           "rgba(248, 133, 15, 1.000)"
          ],
          [
           0.7372549019607844,
           "rgba(248, 135, 14, 1.000)"
          ],
          [
           0.7411764705882353,
           "rgba(248, 137, 12, 1.000)"
          ],
          [
           0.7450980392156863,
           "rgba(249, 139, 11, 1.000)"
          ],
          [
           0.7490196078431373,
           "rgba(249, 140, 10, 1.000)"
          ],
          [
           0.7529411764705882,
           "rgba(249, 142, 9, 1.000)"
          ],
          [
           0.7568627450980392,
           "rgba(250, 144, 8, 1.000)"
          ],
          [
           0.7607843137254902,
           "rgba(250, 146, 7, 1.000)"
          ],
          [
           0.7647058823529411,
           "rgba(250, 148, 7, 1.000)"
          ],
          [
           0.7686274509803922,
           "rgba(251, 150, 6, 1.000)"
          ],
          [
           0.7725490196078432,
           "rgba(251, 151, 6, 1.000)"
          ],
          [
           0.7764705882352941,
           "rgba(251, 153, 6, 1.000)"
          ],
          [
           0.7803921568627451,
           "rgba(251, 155, 6, 1.000)"
          ],
          [
           0.7843137254901961,
           "rgba(251, 157, 7, 1.000)"
          ],
          [
           0.788235294117647,
           "rgba(252, 159, 7, 1.000)"
          ],
          [
           0.792156862745098,
           "rgba(252, 161, 8, 1.000)"
          ],
          [
           0.796078431372549,
           "rgba(252, 163, 9, 1.000)"
          ],
          [
           0.8,
           "rgba(252, 165, 10, 1.000)"
          ],
          [
           0.803921568627451,
           "rgba(252, 166, 12, 1.000)"
          ],
          [
           0.807843137254902,
           "rgba(252, 168, 13, 1.000)"
          ],
          [
           0.8117647058823529,
           "rgba(252, 170, 15, 1.000)"
          ],
          [
           0.8156862745098039,
           "rgba(252, 172, 17, 1.000)"
          ],
          [
           0.8196078431372549,
           "rgba(252, 174, 18, 1.000)"
          ],
          [
           0.8235294117647058,
           "rgba(252, 176, 20, 1.000)"
          ],
          [
           0.8274509803921568,
           "rgba(252, 178, 22, 1.000)"
          ],
          [
           0.8313725490196079,
           "rgba(252, 180, 24, 1.000)"
          ],
          [
           0.8352941176470589,
           "rgba(251, 182, 26, 1.000)"
          ],
          [
           0.8392156862745098,
           "rgba(251, 184, 29, 1.000)"
          ],
          [
           0.8431372549019608,
           "rgba(251, 186, 31, 1.000)"
          ],
          [
           0.8470588235294118,
           "rgba(251, 188, 33, 1.000)"
          ],
          [
           0.8509803921568627,
           "rgba(251, 190, 35, 1.000)"
          ],
          [
           0.8549019607843137,
           "rgba(250, 192, 38, 1.000)"
          ],
          [
           0.8588235294117647,
           "rgba(250, 194, 40, 1.000)"
          ],
          [
           0.8627450980392157,
           "rgba(250, 196, 42, 1.000)"
          ],
          [
           0.8666666666666667,
           "rgba(250, 198, 45, 1.000)"
          ],
          [
           0.8705882352941177,
           "rgba(249, 199, 47, 1.000)"
          ],
          [
           0.8745098039215686,
           "rgba(249, 201, 50, 1.000)"
          ],
          [
           0.8784313725490196,
           "rgba(249, 203, 53, 1.000)"
          ],
          [
           0.8823529411764706,
           "rgba(248, 205, 55, 1.000)"
          ],
          [
           0.8862745098039215,
           "rgba(248, 207, 58, 1.000)"
          ],
          [
           0.8901960784313725,
           "rgba(247, 209, 61, 1.000)"
          ],
          [
           0.8941176470588236,
           "rgba(247, 211, 64, 1.000)"
          ],
          [
           0.8980392156862745,
           "rgba(246, 213, 67, 1.000)"
          ],
          [
           0.9019607843137255,
           "rgba(246, 215, 70, 1.000)"
          ],
          [
           0.9058823529411765,
           "rgba(245, 217, 73, 1.000)"
          ],
          [
           0.9098039215686274,
           "rgba(245, 219, 76, 1.000)"
          ],
          [
           0.9137254901960784,
           "rgba(244, 221, 79, 1.000)"
          ],
          [
           0.9176470588235294,
           "rgba(244, 223, 83, 1.000)"
          ],
          [
           0.9215686274509803,
           "rgba(244, 225, 86, 1.000)"
          ],
          [
           0.9254901960784314,
           "rgba(243, 227, 90, 1.000)"
          ],
          [
           0.9294117647058824,
           "rgba(243, 229, 93, 1.000)"
          ],
          [
           0.9333333333333333,
           "rgba(242, 230, 97, 1.000)"
          ],
          [
           0.9372549019607843,
           "rgba(242, 232, 101, 1.000)"
          ],
          [
           0.9411764705882353,
           "rgba(242, 234, 105, 1.000)"
          ],
          [
           0.9450980392156862,
           "rgba(241, 236, 109, 1.000)"
          ],
          [
           0.9490196078431372,
           "rgba(241, 237, 113, 1.000)"
          ],
          [
           0.9529411764705882,
           "rgba(241, 239, 117, 1.000)"
          ],
          [
           0.9568627450980393,
           "rgba(241, 241, 121, 1.000)"
          ],
          [
           0.9607843137254902,
           "rgba(242, 242, 125, 1.000)"
          ],
          [
           0.9647058823529412,
           "rgba(242, 244, 130, 1.000)"
          ],
          [
           0.9686274509803922,
           "rgba(243, 245, 134, 1.000)"
          ],
          [
           0.9725490196078431,
           "rgba(243, 246, 138, 1.000)"
          ],
          [
           0.9764705882352941,
           "rgba(244, 248, 142, 1.000)"
          ],
          [
           0.9803921568627451,
           "rgba(245, 249, 146, 1.000)"
          ],
          [
           0.984313725490196,
           "rgba(246, 250, 150, 1.000)"
          ],
          [
           0.9882352941176471,
           "rgba(248, 251, 154, 1.000)"
          ],
          [
           0.9921568627450981,
           "rgba(249, 252, 157, 1.000)"
          ],
          [
           0.996078431372549,
           "rgba(250, 253, 161, 1.000)"
          ],
          [
           1,
           "rgba(252, 255, 164, 1.000)"
          ]
         ],
         "name": "y1",
         "opacity": null,
         "scene": "scene",
         "showlegend": false,
         "showscale": true,
         "type": "surface",
         "x": [
          -5,
          -4,
          -3,
          -2,
          -1,
          0,
          1,
          2,
          3,
          4,
          5
         ],
         "xaxis": "x",
         "y": [
          -10,
          -9,
          -8,
          -7,
          -6,
          -5,
          -4,
          -3,
          -2,
          -1,
          0,
          1,
          2,
          3,
          4,
          5,
          6,
          7,
          8,
          9,
          10
         ],
         "yaxis": "y",
         "z": [
          [
           -92.90844536341935,
           -110.45829793381779,
           -108.90993246940401,
           -101.66458734618857,
           -99.45969769413186,
           -100,
           -99.45969769413186,
           -101.66458734618857,
           -108.90993246940401,
           -110.45829793381779,
           -92.90844536341935
          ],
          [
           -73.90844536341935,
           -91.45829793381779,
           -89.90993246940401,
           -82.66458734618857,
           -80.45969769413186,
           -81,
           -80.45969769413186,
           -82.66458734618857,
           -89.90993246940401,
           -91.45829793381779,
           -73.90844536341935
          ],
          [
           -56.90844536341935,
           -74.45829793381779,
           -72.90993246940401,
           -65.66458734618857,
           -63.45969769413186,
           -64,
           -63.45969769413186,
           -65.66458734618857,
           -72.90993246940401,
           -74.45829793381779,
           -56.90844536341935
          ],
          [
           -41.90844536341935,
           -59.45829793381779,
           -57.90993246940401,
           -50.66458734618857,
           -48.45969769413186,
           -49,
           -48.45969769413186,
           -50.66458734618857,
           -57.90993246940401,
           -59.45829793381779,
           -41.90844536341935
          ],
          [
           -28.908445363419343,
           -46.45829793381779,
           -44.90993246940401,
           -37.66458734618857,
           -35.45969769413186,
           -36,
           -35.45969769413186,
           -37.66458734618857,
           -44.90993246940401,
           -46.45829793381779,
           -28.908445363419343
          ],
          [
           -17.908445363419343,
           -35.45829793381779,
           -33.90993246940401,
           -26.66458734618857,
           -24.45969769413186,
           -25,
           -24.45969769413186,
           -26.66458734618857,
           -33.90993246940401,
           -35.45829793381779,
           -17.908445363419343
          ],
          [
           -8.908445363419343,
           -26.45829793381779,
           -24.90993246940401,
           -17.66458734618857,
           -15.45969769413186,
           -16,
           -15.45969769413186,
           -17.66458734618857,
           -24.90993246940401,
           -26.45829793381779,
           -8.908445363419343
          ],
          [
           -1.908445363419344,
           -19.45829793381779,
           -17.90993246940401,
           -10.66458734618857,
           -8.45969769413186,
           -9,
           -8.45969769413186,
           -10.66458734618857,
           -17.90993246940401,
           -19.45829793381779,
           -1.908445363419344
          ],
          [
           3.091554636580656,
           -14.458297933817791,
           -12.909932469404009,
           -5.664587346188569,
           -3.4596976941318602,
           -4,
           -3.4596976941318602,
           -5.664587346188569,
           -12.909932469404009,
           -14.458297933817791,
           3.091554636580656
          ],
          [
           6.091554636580656,
           -11.458297933817791,
           -9.909932469404009,
           -2.6645873461885694,
           -0.45969769413186023,
           -1,
           -0.45969769413186023,
           -2.6645873461885694,
           -9.909932469404009,
           -11.458297933817791,
           6.091554636580656
          ],
          [
           7.091554636580656,
           -10.458297933817791,
           -8.909932469404009,
           -1.6645873461885696,
           0.5403023058681398,
           0,
           0.5403023058681398,
           -1.6645873461885696,
           -8.909932469404009,
           -10.458297933817791,
           7.091554636580656
          ],
          [
           6.091554636580656,
           -11.458297933817791,
           -9.909932469404009,
           -2.6645873461885694,
           -0.45969769413186023,
           -1,
           -0.45969769413186023,
           -2.6645873461885694,
           -9.909932469404009,
           -11.458297933817791,
           6.091554636580656
          ],
          [
           3.091554636580656,
           -14.458297933817791,
           -12.909932469404009,
           -5.664587346188569,
           -3.4596976941318602,
           -4,
           -3.4596976941318602,
           -5.664587346188569,
           -12.909932469404009,
           -14.458297933817791,
           3.091554636580656
          ],
          [
           -1.908445363419344,
           -19.45829793381779,
           -17.90993246940401,
           -10.66458734618857,
           -8.45969769413186,
           -9,
           -8.45969769413186,
           -10.66458734618857,
           -17.90993246940401,
           -19.45829793381779,
           -1.908445363419344
          ],
          [
           -8.908445363419343,
           -26.45829793381779,
           -24.90993246940401,
           -17.66458734618857,
           -15.45969769413186,
           -16,
           -15.45969769413186,
           -17.66458734618857,
           -24.90993246940401,
           -26.45829793381779,
           -8.908445363419343
          ],
          [
           -17.908445363419343,
           -35.45829793381779,
           -33.90993246940401,
           -26.66458734618857,
           -24.45969769413186,
           -25,
           -24.45969769413186,
           -26.66458734618857,
           -33.90993246940401,
           -35.45829793381779,
           -17.908445363419343
          ],
          [
           -28.908445363419343,
           -46.45829793381779,
           -44.90993246940401,
           -37.66458734618857,
           -35.45969769413186,
           -36,
           -35.45969769413186,
           -37.66458734618857,
           -44.90993246940401,
           -46.45829793381779,
           -28.908445363419343
          ],
          [
           -41.90844536341935,
           -59.45829793381779,
           -57.90993246940401,
           -50.66458734618857,
           -48.45969769413186,
           -49,
           -48.45969769413186,
           -50.66458734618857,
           -57.90993246940401,
           -59.45829793381779,
           -41.90844536341935
          ],
          [
           -56.90844536341935,
           -74.45829793381779,
           -72.90993246940401,
           -65.66458734618857,
           -63.45969769413186,
           -64,
           -63.45969769413186,
           -65.66458734618857,
           -72.90993246940401,
           -74.45829793381779,
           -56.90844536341935
          ],
          [
           -73.90844536341935,
           -91.45829793381779,
           -89.90993246940401,
           -82.66458734618857,
           -80.45969769413186,
           -81,
           -80.45969769413186,
           -82.66458734618857,
           -89.90993246940401,
           -91.45829793381779,
           -73.90844536341935
          ],
          [
           -92.90844536341935,
           -110.45829793381779,
           -108.90993246940401,
           -101.66458734618857,
           -99.45969769413186,
           -100,
           -99.45969769413186,
           -101.66458734618857,
           -108.90993246940401,
           -110.45829793381779,
           -92.90844536341935
          ]
         ],
         "zaxis": "z",
         "zmax": 7.091554636580656,
         "zmin": -110.45829793381779
        }
       ],
       "layout": {
        "annotations": [
         {
          "font": {
           "color": "rgba(0, 0, 0, 1.000)",
           "family": "sans-serif",
           "size": 20
          },
          "rotation": 0,
          "showarrow": false,
          "text": "Surface Plot",
          "x": 0.5349537037037038,
          "xanchor": "center",
          "xref": "paper",
          "y": 1,
          "yanchor": "top",
          "yref": "paper"
         }
        ],
        "height": 400,
        "legend_position": {
         "bgcolor": "rgba(255, 255, 255, 1.000)",
         "bordercolor": "rgba(0, 0, 0, 1.000)",
         "borderwidth": 1,
         "font": {
          "color": "rgba(0, 0, 0, 1.000)",
          "family": "sans-serif",
          "size": 11
         },
         "title": {
          "font": {
           "color": "rgba(0, 0, 0, 1.000)",
           "family": "sans-serif",
           "size": 15
          },
          "text": ""
         },
         "tracegroupgap": 0,
         "traceorder": "normal",
         "x": 1,
         "xanchor": "auto",
         "y": 1,
         "yanchor": "auto"
        },
        "margin": {
         "b": 20,
         "l": 0,
         "r": 0,
         "t": 20
        },
        "paper_bgcolor": "rgba(255, 255, 255, 1.000)",
        "plot_bgcolor": "rgba(255, 255, 255, 1.000)",
        "scene": {
         "camera": {
          "eye": {
           "x": 1.12583302491977,
           "y": -1.9499999999999997,
           "z": 1.3
          }
         },
         "domain": {
          "x": [
           0.07646908719743364,
           0.9934383202099737
          ],
          "y": [
           0.07581474190726165,
           0.9415463692038496
          ]
         },
         "xaxis": {
          "gridcolor": "rgba(0, 0, 0, 0.100)",
          "gridwidth": 0.5,
          "linecolor": "rgba(0, 0, 0, 1.000)",
          "mirror": false,
          "range": [
           -5,
           5
          ],
          "showgrid": true,
          "showline": true,
          "showticklabels": true,
          "tickangle": 0,
          "tickcolor": "rgb(0, 0, 0)",
          "tickfont": {
           "color": "rgba(0, 0, 0, 1.000)",
           "family": "sans-serif",
           "size": 11
          },
          "tickmode": "array",
          "ticks": "inside",
          "ticktext": [
           "-5.0",
           "-2.5",
           "0.0",
           "2.5",
           "5.0"
          ],
          "tickvals": [
           -5,
           -2.5,
           0,
           2.5,
           5
          ],
          "title": "x",
          "titlefont": {
           "color": "rgba(0, 0, 0, 1.000)",
           "family": "sans-serif",
           "size": 15
          },
          "type": "-",
          "visible": true,
          "zeroline": false,
          "zerolinecolor": "rgba(0, 0, 0, 1.000)"
         },
         "yaxis": {
          "gridcolor": "rgba(0, 0, 0, 0.100)",
          "gridwidth": 0.5,
          "linecolor": "rgba(0, 0, 0, 1.000)",
          "mirror": false,
          "range": [
           -10,
           10
          ],
          "showgrid": true,
          "showline": true,
          "showticklabels": true,
          "tickangle": 0,
          "tickcolor": "rgb(0, 0, 0)",
          "tickfont": {
           "color": "rgba(0, 0, 0, 1.000)",
           "family": "sans-serif",
           "size": 11
          },
          "tickmode": "array",
          "ticks": "inside",
          "ticktext": [
           "-10",
           "-5",
           "0",
           "5",
           "10"
          ],
          "tickvals": [
           -10,
           -5,
           0,
           5,
           10
          ],
          "title": "y",
          "titlefont": {
           "color": "rgba(0, 0, 0, 1.000)",
           "family": "sans-serif",
           "size": 15
          },
          "type": "-",
          "visible": true,
          "zeroline": false,
          "zerolinecolor": "rgba(0, 0, 0, 1.000)"
         },
         "zaxis": {
          "gridcolor": "rgba(0, 0, 0, 0.100)",
          "gridwidth": 0.5,
          "linecolor": "rgba(0, 0, 0, 1.000)",
          "mirror": false,
          "range": [
           -110.45829793381779,
           7.091554636580656
          ],
          "showgrid": true,
          "showline": true,
          "showticklabels": true,
          "tickangle": 0,
          "tickcolor": "rgb(0, 0, 0)",
          "tickfont": {
           "color": "rgba(0, 0, 0, 1.000)",
           "family": "sans-serif",
           "size": 11
          },
          "tickmode": "array",
          "ticks": "inside",
          "ticktext": [
           "-100",
           "-75",
           "-50",
           "-25",
           "0"
          ],
          "tickvals": [
           -100,
           -75,
           -50,
           -25,
           0
          ],
          "title": "z",
          "titlefont": {
           "color": "rgba(0, 0, 0, 1.000)",
           "family": "sans-serif",
           "size": 15
          },
          "type": "-",
          "visible": true,
          "zeroline": false,
          "zerolinecolor": "rgba(0, 0, 0, 1.000)"
         }
        },
        "showlegend": true,
        "width": 600
       }
      },
      "text/html": [
       "    <div id=\"7078b42f-8be4-46ee-93ab-45d75f49bf86\" style=\"width:600px;height:400px;\"></div>\n",
       "    <script>\n",
       "        requirejs.config({\n",
       "        paths: {\n",
       "            Plotly: 'https://cdn.plot.ly/plotly-2.6.3.min'\n",
       "        }\n",
       "    });\n",
       "    require(['Plotly'], function (Plotly) {\n",
       "\n",
       "        Plotly.newPlot('7078b42f-8be4-46ee-93ab-45d75f49bf86', [\n",
       "    {\n",
       "        \"xaxis\": \"x\",\n",
       "        \"colorbar\": {\n",
       "            \"title\": \"\"\n",
       "        },\n",
       "        \"colorscale\": [\n",
       "            [\n",
       "                0.0,\n",
       "                \"rgba(0, 0, 4, 1.000)\"\n",
       "            ],\n",
       "            [\n",
       "                0.00392156862745098,\n",
       "                \"rgba(1, 0, 5, 1.000)\"\n",
       "            ],\n",
       "            [\n",
       "                0.00784313725490196,\n",
       "                \"rgba(1, 1, 6, 1.000)\"\n",
       "            ],\n",
       "            [\n",
       "                0.011764705882352941,\n",
       "                \"rgba(1, 1, 8, 1.000)\"\n",
       "            ],\n",
       "            [\n",
       "                0.01568627450980392,\n",
       "                \"rgba(2, 1, 10, 1.000)\"\n",
       "            ],\n",
       "            [\n",
       "                0.0196078431372549,\n",
       "                \"rgba(2, 2, 12, 1.000)\"\n",
       "            ],\n",
       "            [\n",
       "                0.023529411764705882,\n",
       "                \"rgba(2, 2, 14, 1.000)\"\n",
       "            ],\n",
       "            [\n",
       "                0.027450980392156862,\n",
       "                \"rgba(3, 2, 16, 1.000)\"\n",
       "            ],\n",
       "            [\n",
       "                0.03137254901960784,\n",
       "                \"rgba(4, 3, 18, 1.000)\"\n",
       "            ],\n",
       "            [\n",
       "                0.03529411764705882,\n",
       "                \"rgba(4, 3, 20, 1.000)\"\n",
       "            ],\n",
       "            [\n",
       "                0.0392156862745098,\n",
       "                \"rgba(5, 4, 23, 1.000)\"\n",
       "            ],\n",
       "            [\n",
       "                0.043137254901960784,\n",
       "                \"rgba(6, 4, 25, 1.000)\"\n",
       "            ],\n",
       "            [\n",
       "                0.047058823529411764,\n",
       "                \"rgba(7, 5, 27, 1.000)\"\n",
       "            ],\n",
       "            [\n",
       "                0.050980392156862744,\n",
       "                \"rgba(8, 5, 29, 1.000)\"\n",
       "            ],\n",
       "            [\n",
       "                0.054901960784313725,\n",
       "                \"rgba(9, 6, 31, 1.000)\"\n",
       "            ],\n",
       "            [\n",
       "                0.058823529411764705,\n",
       "                \"rgba(10, 7, 34, 1.000)\"\n",
       "            ],\n",
       "            [\n",
       "                0.06274509803921569,\n",
       "                \"rgba(11, 7, 36, 1.000)\"\n",
       "            ],\n",
       "            [\n",
       "                0.06666666666666667,\n",
       "                \"rgba(12, 8, 38, 1.000)\"\n",
       "            ],\n",
       "            [\n",
       "                0.07058823529411765,\n",
       "                \"rgba(13, 8, 41, 1.000)\"\n",
       "            ],\n",
       "            [\n",
       "                0.07450980392156863,\n",
       "                \"rgba(14, 9, 43, 1.000)\"\n",
       "            ],\n",
       "            [\n",
       "                0.0784313725490196,\n",
       "                \"rgba(16, 9, 45, 1.000)\"\n",
       "            ],\n",
       "            [\n",
       "                0.08235294117647059,\n",
       "                \"rgba(17, 10, 48, 1.000)\"\n",
       "            ],\n",
       "            [\n",
       "                0.08627450980392157,\n",
       "                \"rgba(18, 10, 50, 1.000)\"\n",
       "            ],\n",
       "            [\n",
       "                0.09019607843137255,\n",
       "                \"rgba(20, 11, 52, 1.000)\"\n",
       "            ],\n",
       "            [\n",
       "                0.09411764705882353,\n",
       "                \"rgba(21, 11, 55, 1.000)\"\n",
       "            ],\n",
       "            [\n",
       "                0.09803921568627451,\n",
       "                \"rgba(22, 11, 57, 1.000)\"\n",
       "            ],\n",
       "            [\n",
       "                0.10196078431372549,\n",
       "                \"rgba(24, 12, 60, 1.000)\"\n",
       "            ],\n",
       "            [\n",
       "                0.10588235294117647,\n",
       "                \"rgba(25, 12, 62, 1.000)\"\n",
       "            ],\n",
       "            [\n",
       "                0.10980392156862745,\n",
       "                \"rgba(27, 12, 65, 1.000)\"\n",
       "            ],\n",
       "            [\n",
       "                0.11372549019607843,\n",
       "                \"rgba(28, 12, 67, 1.000)\"\n",
       "            ],\n",
       "            [\n",
       "                0.11764705882352941,\n",
       "                \"rgba(30, 12, 69, 1.000)\"\n",
       "            ],\n",
       "            [\n",
       "                0.12156862745098039,\n",
       "                \"rgba(31, 12, 72, 1.000)\"\n",
       "            ],\n",
       "            [\n",
       "                0.12549019607843137,\n",
       "                \"rgba(33, 12, 74, 1.000)\"\n",
       "            ],\n",
       "            [\n",
       "                0.12941176470588237,\n",
       "                \"rgba(35, 12, 76, 1.000)\"\n",
       "            ],\n",
       "            [\n",
       "                0.13333333333333333,\n",
       "                \"rgba(36, 12, 79, 1.000)\"\n",
       "            ],\n",
       "            [\n",
       "                0.13725490196078433,\n",
       "                \"rgba(38, 12, 81, 1.000)\"\n",
       "            ],\n",
       "            [\n",
       "                0.1411764705882353,\n",
       "                \"rgba(40, 11, 83, 1.000)\"\n",
       "            ],\n",
       "            [\n",
       "                0.1450980392156863,\n",
       "                \"rgba(41, 11, 85, 1.000)\"\n",
       "            ],\n",
       "            [\n",
       "                0.14901960784313725,\n",
       "                \"rgba(43, 11, 87, 1.000)\"\n",
       "            ],\n",
       "            [\n",
       "                0.15294117647058825,\n",
       "                \"rgba(45, 11, 89, 1.000)\"\n",
       "            ],\n",
       "            [\n",
       "                0.1568627450980392,\n",
       "                \"rgba(47, 10, 91, 1.000)\"\n",
       "            ],\n",
       "            [\n",
       "                0.1607843137254902,\n",
       "                \"rgba(49, 10, 92, 1.000)\"\n",
       "            ],\n",
       "            [\n",
       "                0.16470588235294117,\n",
       "                \"rgba(50, 10, 94, 1.000)\"\n",
       "            ],\n",
       "            [\n",
       "                0.16862745098039217,\n",
       "                \"rgba(52, 10, 95, 1.000)\"\n",
       "            ],\n",
       "            [\n",
       "                0.17254901960784313,\n",
       "                \"rgba(54, 9, 97, 1.000)\"\n",
       "            ],\n",
       "            [\n",
       "                0.17647058823529413,\n",
       "                \"rgba(56, 9, 98, 1.000)\"\n",
       "            ],\n",
       "            [\n",
       "                0.1803921568627451,\n",
       "                \"rgba(57, 9, 99, 1.000)\"\n",
       "            ],\n",
       "            [\n",
       "                0.1843137254901961,\n",
       "                \"rgba(59, 9, 100, 1.000)\"\n",
       "            ],\n",
       "            [\n",
       "                0.18823529411764706,\n",
       "                \"rgba(61, 9, 101, 1.000)\"\n",
       "            ],\n",
       "            [\n",
       "                0.19215686274509805,\n",
       "                \"rgba(62, 9, 102, 1.000)\"\n",
       "            ],\n",
       "            [\n",
       "                0.19607843137254902,\n",
       "                \"rgba(64, 10, 103, 1.000)\"\n",
       "            ],\n",
       "            [\n",
       "                0.2,\n",
       "                \"rgba(66, 10, 104, 1.000)\"\n",
       "            ],\n",
       "            [\n",
       "                0.20392156862745098,\n",
       "                \"rgba(68, 10, 104, 1.000)\"\n",
       "            ],\n",
       "            [\n",
       "                0.20784313725490197,\n",
       "                \"rgba(69, 10, 105, 1.000)\"\n",
       "            ],\n",
       "            [\n",
       "                0.21176470588235294,\n",
       "                \"rgba(71, 11, 106, 1.000)\"\n",
       "            ],\n",
       "            [\n",
       "                0.21568627450980393,\n",
       "                \"rgba(73, 11, 106, 1.000)\"\n",
       "            ],\n",
       "            [\n",
       "                0.2196078431372549,\n",
       "                \"rgba(74, 12, 107, 1.000)\"\n",
       "            ],\n",
       "            [\n",
       "                0.2235294117647059,\n",
       "                \"rgba(76, 12, 107, 1.000)\"\n",
       "            ],\n",
       "            [\n",
       "                0.22745098039215686,\n",
       "                \"rgba(77, 13, 108, 1.000)\"\n",
       "            ],\n",
       "            [\n",
       "                0.23137254901960785,\n",
       "                \"rgba(79, 13, 108, 1.000)\"\n",
       "            ],\n",
       "            [\n",
       "                0.23529411764705882,\n",
       "                \"rgba(81, 14, 108, 1.000)\"\n",
       "            ],\n",
       "            [\n",
       "                0.23921568627450981,\n",
       "                \"rgba(82, 14, 109, 1.000)\"\n",
       "            ],\n",
       "            [\n",
       "                0.24313725490196078,\n",
       "                \"rgba(84, 15, 109, 1.000)\"\n",
       "            ],\n",
       "            [\n",
       "                0.24705882352941178,\n",
       "                \"rgba(85, 15, 109, 1.000)\"\n",
       "            ],\n",
       "            [\n",
       "                0.25098039215686274,\n",
       "                \"rgba(87, 16, 110, 1.000)\"\n",
       "            ],\n",
       "            [\n",
       "                0.2549019607843137,\n",
       "                \"rgba(89, 16, 110, 1.000)\"\n",
       "            ],\n",
       "            [\n",
       "                0.25882352941176473,\n",
       "                \"rgba(90, 17, 110, 1.000)\"\n",
       "            ],\n",
       "            [\n",
       "                0.2627450980392157,\n",
       "                \"rgba(92, 18, 110, 1.000)\"\n",
       "            ],\n",
       "            [\n",
       "                0.26666666666666666,\n",
       "                \"rgba(93, 18, 110, 1.000)\"\n",
       "            ],\n",
       "            [\n",
       "                0.27058823529411763,\n",
       "                \"rgba(95, 19, 110, 1.000)\"\n",
       "            ],\n",
       "            [\n",
       "                0.27450980392156865,\n",
       "                \"rgba(97, 19, 110, 1.000)\"\n",
       "            ],\n",
       "            [\n",
       "                0.2784313725490196,\n",
       "                \"rgba(98, 20, 110, 1.000)\"\n",
       "            ],\n",
       "            [\n",
       "                0.2823529411764706,\n",
       "                \"rgba(100, 21, 110, 1.000)\"\n",
       "            ],\n",
       "            [\n",
       "                0.28627450980392155,\n",
       "                \"rgba(101, 21, 110, 1.000)\"\n",
       "            ],\n",
       "            [\n",
       "                0.2901960784313726,\n",
       "                \"rgba(103, 22, 110, 1.000)\"\n",
       "            ],\n",
       "            [\n",
       "                0.29411764705882354,\n",
       "                \"rgba(105, 22, 110, 1.000)\"\n",
       "            ],\n",
       "            [\n",
       "                0.2980392156862745,\n",
       "                \"rgba(106, 23, 110, 1.000)\"\n",
       "            ],\n",
       "            [\n",
       "                0.30196078431372547,\n",
       "                \"rgba(108, 24, 110, 1.000)\"\n",
       "            ],\n",
       "            [\n",
       "                0.3058823529411765,\n",
       "                \"rgba(109, 24, 110, 1.000)\"\n",
       "            ],\n",
       "            [\n",
       "                0.30980392156862746,\n",
       "                \"rgba(111, 25, 110, 1.000)\"\n",
       "            ],\n",
       "            [\n",
       "                0.3137254901960784,\n",
       "                \"rgba(113, 25, 110, 1.000)\"\n",
       "            ],\n",
       "            [\n",
       "                0.3176470588235294,\n",
       "                \"rgba(114, 26, 110, 1.000)\"\n",
       "            ],\n",
       "            [\n",
       "                0.3215686274509804,\n",
       "                \"rgba(116, 26, 110, 1.000)\"\n",
       "            ],\n",
       "            [\n",
       "                0.3254901960784314,\n",
       "                \"rgba(117, 27, 110, 1.000)\"\n",
       "            ],\n",
       "            [\n",
       "                0.32941176470588235,\n",
       "                \"rgba(119, 28, 109, 1.000)\"\n",
       "            ],\n",
       "            [\n",
       "                0.3333333333333333,\n",
       "                \"rgba(120, 28, 109, 1.000)\"\n",
       "            ],\n",
       "            [\n",
       "                0.33725490196078434,\n",
       "                \"rgba(122, 29, 109, 1.000)\"\n",
       "            ],\n",
       "            [\n",
       "                0.3411764705882353,\n",
       "                \"rgba(124, 29, 109, 1.000)\"\n",
       "            ],\n",
       "            [\n",
       "                0.34509803921568627,\n",
       "                \"rgba(125, 30, 109, 1.000)\"\n",
       "            ],\n",
       "            [\n",
       "                0.34901960784313724,\n",
       "                \"rgba(127, 30, 108, 1.000)\"\n",
       "            ],\n",
       "            [\n",
       "                0.35294117647058826,\n",
       "                \"rgba(128, 31, 108, 1.000)\"\n",
       "            ],\n",
       "            [\n",
       "                0.3568627450980392,\n",
       "                \"rgba(130, 32, 108, 1.000)\"\n",
       "            ],\n",
       "            [\n",
       "                0.3607843137254902,\n",
       "                \"rgba(132, 32, 107, 1.000)\"\n",
       "            ],\n",
       "            [\n",
       "                0.36470588235294116,\n",
       "                \"rgba(133, 33, 107, 1.000)\"\n",
       "            ],\n",
       "            [\n",
       "                0.3686274509803922,\n",
       "                \"rgba(135, 33, 107, 1.000)\"\n",
       "            ],\n",
       "            [\n",
       "                0.37254901960784315,\n",
       "                \"rgba(136, 34, 106, 1.000)\"\n",
       "            ],\n",
       "            [\n",
       "                0.3764705882352941,\n",
       "                \"rgba(138, 34, 106, 1.000)\"\n",
       "            ],\n",
       "            [\n",
       "                0.3803921568627451,\n",
       "                \"rgba(140, 35, 105, 1.000)\"\n",
       "            ],\n",
       "            [\n",
       "                0.3843137254901961,\n",
       "                \"rgba(141, 35, 105, 1.000)\"\n",
       "            ],\n",
       "            [\n",
       "                0.38823529411764707,\n",
       "                \"rgba(143, 36, 105, 1.000)\"\n",
       "            ],\n",
       "            [\n",
       "                0.39215686274509803,\n",
       "                \"rgba(144, 37, 104, 1.000)\"\n",
       "            ],\n",
       "            [\n",
       "                0.396078431372549,\n",
       "                \"rgba(146, 37, 104, 1.000)\"\n",
       "            ],\n",
       "            [\n",
       "                0.4,\n",
       "                \"rgba(147, 38, 103, 1.000)\"\n",
       "            ],\n",
       "            [\n",
       "                0.403921568627451,\n",
       "                \"rgba(149, 38, 103, 1.000)\"\n",
       "            ],\n",
       "            [\n",
       "                0.40784313725490196,\n",
       "                \"rgba(151, 39, 102, 1.000)\"\n",
       "            ],\n",
       "            [\n",
       "                0.4117647058823529,\n",
       "                \"rgba(152, 39, 102, 1.000)\"\n",
       "            ],\n",
       "            [\n",
       "                0.41568627450980394,\n",
       "                \"rgba(154, 40, 101, 1.000)\"\n",
       "            ],\n",
       "            [\n",
       "                0.4196078431372549,\n",
       "                \"rgba(155, 41, 100, 1.000)\"\n",
       "            ],\n",
       "            [\n",
       "                0.4235294117647059,\n",
       "                \"rgba(157, 41, 100, 1.000)\"\n",
       "            ],\n",
       "            [\n",
       "                0.42745098039215684,\n",
       "                \"rgba(159, 42, 99, 1.000)\"\n",
       "            ],\n",
       "            [\n",
       "                0.43137254901960786,\n",
       "                \"rgba(160, 42, 99, 1.000)\"\n",
       "            ],\n",
       "            [\n",
       "                0.43529411764705883,\n",
       "                \"rgba(162, 43, 98, 1.000)\"\n",
       "            ],\n",
       "            [\n",
       "                0.4392156862745098,\n",
       "                \"rgba(163, 44, 97, 1.000)\"\n",
       "            ],\n",
       "            [\n",
       "                0.44313725490196076,\n",
       "                \"rgba(165, 44, 96, 1.000)\"\n",
       "            ],\n",
       "            [\n",
       "                0.4470588235294118,\n",
       "                \"rgba(166, 45, 96, 1.000)\"\n",
       "            ],\n",
       "            [\n",
       "                0.45098039215686275,\n",
       "                \"rgba(168, 46, 95, 1.000)\"\n",
       "            ],\n",
       "            [\n",
       "                0.4549019607843137,\n",
       "                \"rgba(169, 46, 94, 1.000)\"\n",
       "            ],\n",
       "            [\n",
       "                0.4588235294117647,\n",
       "                \"rgba(171, 47, 94, 1.000)\"\n",
       "            ],\n",
       "            [\n",
       "                0.4627450980392157,\n",
       "                \"rgba(173, 48, 93, 1.000)\"\n",
       "            ],\n",
       "            [\n",
       "                0.4666666666666667,\n",
       "                \"rgba(174, 48, 92, 1.000)\"\n",
       "            ],\n",
       "            [\n",
       "                0.47058823529411764,\n",
       "                \"rgba(176, 49, 91, 1.000)\"\n",
       "            ],\n",
       "            [\n",
       "                0.4745098039215686,\n",
       "                \"rgba(177, 50, 90, 1.000)\"\n",
       "            ],\n",
       "            [\n",
       "                0.47843137254901963,\n",
       "                \"rgba(179, 50, 90, 1.000)\"\n",
       "            ],\n",
       "            [\n",
       "                0.4823529411764706,\n",
       "                \"rgba(180, 51, 89, 1.000)\"\n",
       "            ],\n",
       "            [\n",
       "                0.48627450980392156,\n",
       "                \"rgba(182, 52, 88, 1.000)\"\n",
       "            ],\n",
       "            [\n",
       "                0.49019607843137253,\n",
       "                \"rgba(183, 53, 87, 1.000)\"\n",
       "            ],\n",
       "            [\n",
       "                0.49411764705882355,\n",
       "                \"rgba(185, 53, 86, 1.000)\"\n",
       "            ],\n",
       "            [\n",
       "                0.4980392156862745,\n",
       "                \"rgba(186, 54, 85, 1.000)\"\n",
       "            ],\n",
       "            [\n",
       "                0.5019607843137255,\n",
       "                \"rgba(188, 55, 84, 1.000)\"\n",
       "            ],\n",
       "            [\n",
       "                0.5058823529411764,\n",
       "                \"rgba(189, 56, 83, 1.000)\"\n",
       "            ],\n",
       "            [\n",
       "                0.5098039215686274,\n",
       "                \"rgba(191, 57, 82, 1.000)\"\n",
       "            ],\n",
       "            [\n",
       "                0.5137254901960784,\n",
       "                \"rgba(192, 58, 81, 1.000)\"\n",
       "            ],\n",
       "            [\n",
       "                0.5176470588235295,\n",
       "                \"rgba(193, 58, 80, 1.000)\"\n",
       "            ],\n",
       "            [\n",
       "                0.5215686274509804,\n",
       "                \"rgba(195, 59, 79, 1.000)\"\n",
       "            ],\n",
       "            [\n",
       "                0.5254901960784314,\n",
       "                \"rgba(196, 60, 78, 1.000)\"\n",
       "            ],\n",
       "            [\n",
       "                0.5294117647058824,\n",
       "                \"rgba(198, 61, 77, 1.000)\"\n",
       "            ],\n",
       "            [\n",
       "                0.5333333333333333,\n",
       "                \"rgba(199, 62, 76, 1.000)\"\n",
       "            ],\n",
       "            [\n",
       "                0.5372549019607843,\n",
       "                \"rgba(200, 63, 75, 1.000)\"\n",
       "            ],\n",
       "            [\n",
       "                0.5411764705882353,\n",
       "                \"rgba(202, 64, 74, 1.000)\"\n",
       "            ],\n",
       "            [\n",
       "                0.5450980392156862,\n",
       "                \"rgba(203, 65, 73, 1.000)\"\n",
       "            ],\n",
       "            [\n",
       "                0.5490196078431373,\n",
       "                \"rgba(204, 66, 72, 1.000)\"\n",
       "            ],\n",
       "            [\n",
       "                0.5529411764705883,\n",
       "                \"rgba(206, 67, 71, 1.000)\"\n",
       "            ],\n",
       "            [\n",
       "                0.5568627450980392,\n",
       "                \"rgba(207, 68, 70, 1.000)\"\n",
       "            ],\n",
       "            [\n",
       "                0.5607843137254902,\n",
       "                \"rgba(208, 69, 69, 1.000)\"\n",
       "            ],\n",
       "            [\n",
       "                0.5647058823529412,\n",
       "                \"rgba(210, 70, 68, 1.000)\"\n",
       "            ],\n",
       "            [\n",
       "                0.5686274509803921,\n",
       "                \"rgba(211, 71, 67, 1.000)\"\n",
       "            ],\n",
       "            [\n",
       "                0.5725490196078431,\n",
       "                \"rgba(212, 72, 66, 1.000)\"\n",
       "            ],\n",
       "            [\n",
       "                0.5764705882352941,\n",
       "                \"rgba(213, 74, 65, 1.000)\"\n",
       "            ],\n",
       "            [\n",
       "                0.5803921568627451,\n",
       "                \"rgba(215, 75, 63, 1.000)\"\n",
       "            ],\n",
       "            [\n",
       "                0.5843137254901961,\n",
       "                \"rgba(216, 76, 62, 1.000)\"\n",
       "            ],\n",
       "            [\n",
       "                0.5882352941176471,\n",
       "                \"rgba(217, 77, 61, 1.000)\"\n",
       "            ],\n",
       "            [\n",
       "                0.592156862745098,\n",
       "                \"rgba(218, 78, 60, 1.000)\"\n",
       "            ],\n",
       "            [\n",
       "                0.596078431372549,\n",
       "                \"rgba(219, 80, 59, 1.000)\"\n",
       "            ],\n",
       "            [\n",
       "                0.6,\n",
       "                \"rgba(221, 81, 58, 1.000)\"\n",
       "            ],\n",
       "            [\n",
       "                0.6039215686274509,\n",
       "                \"rgba(222, 82, 56, 1.000)\"\n",
       "            ],\n",
       "            [\n",
       "                0.6078431372549019,\n",
       "                \"rgba(223, 83, 55, 1.000)\"\n",
       "            ],\n",
       "            [\n",
       "                0.611764705882353,\n",
       "                \"rgba(224, 85, 54, 1.000)\"\n",
       "            ],\n",
       "            [\n",
       "                0.615686274509804,\n",
       "                \"rgba(225, 86, 53, 1.000)\"\n",
       "            ],\n",
       "            [\n",
       "                0.6196078431372549,\n",
       "                \"rgba(226, 87, 52, 1.000)\"\n",
       "            ],\n",
       "            [\n",
       "                0.6235294117647059,\n",
       "                \"rgba(227, 89, 51, 1.000)\"\n",
       "            ],\n",
       "            [\n",
       "                0.6274509803921569,\n",
       "                \"rgba(228, 90, 49, 1.000)\"\n",
       "            ],\n",
       "            [\n",
       "                0.6313725490196078,\n",
       "                \"rgba(229, 92, 48, 1.000)\"\n",
       "            ],\n",
       "            [\n",
       "                0.6352941176470588,\n",
       "                \"rgba(230, 93, 47, 1.000)\"\n",
       "            ],\n",
       "            [\n",
       "                0.6392156862745098,\n",
       "                \"rgba(231, 94, 46, 1.000)\"\n",
       "            ],\n",
       "            [\n",
       "                0.6431372549019608,\n",
       "                \"rgba(232, 96, 45, 1.000)\"\n",
       "            ],\n",
       "            [\n",
       "                0.6470588235294118,\n",
       "                \"rgba(233, 97, 43, 1.000)\"\n",
       "            ],\n",
       "            [\n",
       "                0.6509803921568628,\n",
       "                \"rgba(234, 99, 42, 1.000)\"\n",
       "            ],\n",
       "            [\n",
       "                0.6549019607843137,\n",
       "                \"rgba(235, 100, 41, 1.000)\"\n",
       "            ],\n",
       "            [\n",
       "                0.6588235294117647,\n",
       "                \"rgba(235, 102, 40, 1.000)\"\n",
       "            ],\n",
       "            [\n",
       "                0.6627450980392157,\n",
       "                \"rgba(236, 103, 38, 1.000)\"\n",
       "            ],\n",
       "            [\n",
       "                0.6666666666666666,\n",
       "                \"rgba(237, 105, 37, 1.000)\"\n",
       "            ],\n",
       "            [\n",
       "                0.6705882352941176,\n",
       "                \"rgba(238, 106, 36, 1.000)\"\n",
       "            ],\n",
       "            [\n",
       "                0.6745098039215687,\n",
       "                \"rgba(239, 108, 35, 1.000)\"\n",
       "            ],\n",
       "            [\n",
       "                0.6784313725490196,\n",
       "                \"rgba(239, 110, 33, 1.000)\"\n",
       "            ],\n",
       "            [\n",
       "                0.6823529411764706,\n",
       "                \"rgba(240, 111, 32, 1.000)\"\n",
       "            ],\n",
       "            [\n",
       "                0.6862745098039216,\n",
       "                \"rgba(241, 113, 31, 1.000)\"\n",
       "            ],\n",
       "            [\n",
       "                0.6901960784313725,\n",
       "                \"rgba(241, 115, 29, 1.000)\"\n",
       "            ],\n",
       "            [\n",
       "                0.6941176470588235,\n",
       "                \"rgba(242, 116, 28, 1.000)\"\n",
       "            ],\n",
       "            [\n",
       "                0.6980392156862745,\n",
       "                \"rgba(243, 118, 27, 1.000)\"\n",
       "            ],\n",
       "            [\n",
       "                0.7019607843137254,\n",
       "                \"rgba(243, 120, 25, 1.000)\"\n",
       "            ],\n",
       "            [\n",
       "                0.7058823529411765,\n",
       "                \"rgba(244, 121, 24, 1.000)\"\n",
       "            ],\n",
       "            [\n",
       "                0.7098039215686275,\n",
       "                \"rgba(245, 123, 23, 1.000)\"\n",
       "            ],\n",
       "            [\n",
       "                0.7137254901960784,\n",
       "                \"rgba(245, 125, 21, 1.000)\"\n",
       "            ],\n",
       "            [\n",
       "                0.7176470588235294,\n",
       "                \"rgba(246, 126, 20, 1.000)\"\n",
       "            ],\n",
       "            [\n",
       "                0.7215686274509804,\n",
       "                \"rgba(246, 128, 19, 1.000)\"\n",
       "            ],\n",
       "            [\n",
       "                0.7254901960784313,\n",
       "                \"rgba(247, 130, 18, 1.000)\"\n",
       "            ],\n",
       "            [\n",
       "                0.7294117647058823,\n",
       "                \"rgba(247, 132, 16, 1.000)\"\n",
       "            ],\n",
       "            [\n",
       "                0.7333333333333333,\n",
       "                \"rgba(248, 133, 15, 1.000)\"\n",
       "            ],\n",
       "            [\n",
       "                0.7372549019607844,\n",
       "                \"rgba(248, 135, 14, 1.000)\"\n",
       "            ],\n",
       "            [\n",
       "                0.7411764705882353,\n",
       "                \"rgba(248, 137, 12, 1.000)\"\n",
       "            ],\n",
       "            [\n",
       "                0.7450980392156863,\n",
       "                \"rgba(249, 139, 11, 1.000)\"\n",
       "            ],\n",
       "            [\n",
       "                0.7490196078431373,\n",
       "                \"rgba(249, 140, 10, 1.000)\"\n",
       "            ],\n",
       "            [\n",
       "                0.7529411764705882,\n",
       "                \"rgba(249, 142, 9, 1.000)\"\n",
       "            ],\n",
       "            [\n",
       "                0.7568627450980392,\n",
       "                \"rgba(250, 144, 8, 1.000)\"\n",
       "            ],\n",
       "            [\n",
       "                0.7607843137254902,\n",
       "                \"rgba(250, 146, 7, 1.000)\"\n",
       "            ],\n",
       "            [\n",
       "                0.7647058823529411,\n",
       "                \"rgba(250, 148, 7, 1.000)\"\n",
       "            ],\n",
       "            [\n",
       "                0.7686274509803922,\n",
       "                \"rgba(251, 150, 6, 1.000)\"\n",
       "            ],\n",
       "            [\n",
       "                0.7725490196078432,\n",
       "                \"rgba(251, 151, 6, 1.000)\"\n",
       "            ],\n",
       "            [\n",
       "                0.7764705882352941,\n",
       "                \"rgba(251, 153, 6, 1.000)\"\n",
       "            ],\n",
       "            [\n",
       "                0.7803921568627451,\n",
       "                \"rgba(251, 155, 6, 1.000)\"\n",
       "            ],\n",
       "            [\n",
       "                0.7843137254901961,\n",
       "                \"rgba(251, 157, 7, 1.000)\"\n",
       "            ],\n",
       "            [\n",
       "                0.788235294117647,\n",
       "                \"rgba(252, 159, 7, 1.000)\"\n",
       "            ],\n",
       "            [\n",
       "                0.792156862745098,\n",
       "                \"rgba(252, 161, 8, 1.000)\"\n",
       "            ],\n",
       "            [\n",
       "                0.796078431372549,\n",
       "                \"rgba(252, 163, 9, 1.000)\"\n",
       "            ],\n",
       "            [\n",
       "                0.8,\n",
       "                \"rgba(252, 165, 10, 1.000)\"\n",
       "            ],\n",
       "            [\n",
       "                0.803921568627451,\n",
       "                \"rgba(252, 166, 12, 1.000)\"\n",
       "            ],\n",
       "            [\n",
       "                0.807843137254902,\n",
       "                \"rgba(252, 168, 13, 1.000)\"\n",
       "            ],\n",
       "            [\n",
       "                0.8117647058823529,\n",
       "                \"rgba(252, 170, 15, 1.000)\"\n",
       "            ],\n",
       "            [\n",
       "                0.8156862745098039,\n",
       "                \"rgba(252, 172, 17, 1.000)\"\n",
       "            ],\n",
       "            [\n",
       "                0.8196078431372549,\n",
       "                \"rgba(252, 174, 18, 1.000)\"\n",
       "            ],\n",
       "            [\n",
       "                0.8235294117647058,\n",
       "                \"rgba(252, 176, 20, 1.000)\"\n",
       "            ],\n",
       "            [\n",
       "                0.8274509803921568,\n",
       "                \"rgba(252, 178, 22, 1.000)\"\n",
       "            ],\n",
       "            [\n",
       "                0.8313725490196079,\n",
       "                \"rgba(252, 180, 24, 1.000)\"\n",
       "            ],\n",
       "            [\n",
       "                0.8352941176470589,\n",
       "                \"rgba(251, 182, 26, 1.000)\"\n",
       "            ],\n",
       "            [\n",
       "                0.8392156862745098,\n",
       "                \"rgba(251, 184, 29, 1.000)\"\n",
       "            ],\n",
       "            [\n",
       "                0.8431372549019608,\n",
       "                \"rgba(251, 186, 31, 1.000)\"\n",
       "            ],\n",
       "            [\n",
       "                0.8470588235294118,\n",
       "                \"rgba(251, 188, 33, 1.000)\"\n",
       "            ],\n",
       "            [\n",
       "                0.8509803921568627,\n",
       "                \"rgba(251, 190, 35, 1.000)\"\n",
       "            ],\n",
       "            [\n",
       "                0.8549019607843137,\n",
       "                \"rgba(250, 192, 38, 1.000)\"\n",
       "            ],\n",
       "            [\n",
       "                0.8588235294117647,\n",
       "                \"rgba(250, 194, 40, 1.000)\"\n",
       "            ],\n",
       "            [\n",
       "                0.8627450980392157,\n",
       "                \"rgba(250, 196, 42, 1.000)\"\n",
       "            ],\n",
       "            [\n",
       "                0.8666666666666667,\n",
       "                \"rgba(250, 198, 45, 1.000)\"\n",
       "            ],\n",
       "            [\n",
       "                0.8705882352941177,\n",
       "                \"rgba(249, 199, 47, 1.000)\"\n",
       "            ],\n",
       "            [\n",
       "                0.8745098039215686,\n",
       "                \"rgba(249, 201, 50, 1.000)\"\n",
       "            ],\n",
       "            [\n",
       "                0.8784313725490196,\n",
       "                \"rgba(249, 203, 53, 1.000)\"\n",
       "            ],\n",
       "            [\n",
       "                0.8823529411764706,\n",
       "                \"rgba(248, 205, 55, 1.000)\"\n",
       "            ],\n",
       "            [\n",
       "                0.8862745098039215,\n",
       "                \"rgba(248, 207, 58, 1.000)\"\n",
       "            ],\n",
       "            [\n",
       "                0.8901960784313725,\n",
       "                \"rgba(247, 209, 61, 1.000)\"\n",
       "            ],\n",
       "            [\n",
       "                0.8941176470588236,\n",
       "                \"rgba(247, 211, 64, 1.000)\"\n",
       "            ],\n",
       "            [\n",
       "                0.8980392156862745,\n",
       "                \"rgba(246, 213, 67, 1.000)\"\n",
       "            ],\n",
       "            [\n",
       "                0.9019607843137255,\n",
       "                \"rgba(246, 215, 70, 1.000)\"\n",
       "            ],\n",
       "            [\n",
       "                0.9058823529411765,\n",
       "                \"rgba(245, 217, 73, 1.000)\"\n",
       "            ],\n",
       "            [\n",
       "                0.9098039215686274,\n",
       "                \"rgba(245, 219, 76, 1.000)\"\n",
       "            ],\n",
       "            [\n",
       "                0.9137254901960784,\n",
       "                \"rgba(244, 221, 79, 1.000)\"\n",
       "            ],\n",
       "            [\n",
       "                0.9176470588235294,\n",
       "                \"rgba(244, 223, 83, 1.000)\"\n",
       "            ],\n",
       "            [\n",
       "                0.9215686274509803,\n",
       "                \"rgba(244, 225, 86, 1.000)\"\n",
       "            ],\n",
       "            [\n",
       "                0.9254901960784314,\n",
       "                \"rgba(243, 227, 90, 1.000)\"\n",
       "            ],\n",
       "            [\n",
       "                0.9294117647058824,\n",
       "                \"rgba(243, 229, 93, 1.000)\"\n",
       "            ],\n",
       "            [\n",
       "                0.9333333333333333,\n",
       "                \"rgba(242, 230, 97, 1.000)\"\n",
       "            ],\n",
       "            [\n",
       "                0.9372549019607843,\n",
       "                \"rgba(242, 232, 101, 1.000)\"\n",
       "            ],\n",
       "            [\n",
       "                0.9411764705882353,\n",
       "                \"rgba(242, 234, 105, 1.000)\"\n",
       "            ],\n",
       "            [\n",
       "                0.9450980392156862,\n",
       "                \"rgba(241, 236, 109, 1.000)\"\n",
       "            ],\n",
       "            [\n",
       "                0.9490196078431372,\n",
       "                \"rgba(241, 237, 113, 1.000)\"\n",
       "            ],\n",
       "            [\n",
       "                0.9529411764705882,\n",
       "                \"rgba(241, 239, 117, 1.000)\"\n",
       "            ],\n",
       "            [\n",
       "                0.9568627450980393,\n",
       "                \"rgba(241, 241, 121, 1.000)\"\n",
       "            ],\n",
       "            [\n",
       "                0.9607843137254902,\n",
       "                \"rgba(242, 242, 125, 1.000)\"\n",
       "            ],\n",
       "            [\n",
       "                0.9647058823529412,\n",
       "                \"rgba(242, 244, 130, 1.000)\"\n",
       "            ],\n",
       "            [\n",
       "                0.9686274509803922,\n",
       "                \"rgba(243, 245, 134, 1.000)\"\n",
       "            ],\n",
       "            [\n",
       "                0.9725490196078431,\n",
       "                \"rgba(243, 246, 138, 1.000)\"\n",
       "            ],\n",
       "            [\n",
       "                0.9764705882352941,\n",
       "                \"rgba(244, 248, 142, 1.000)\"\n",
       "            ],\n",
       "            [\n",
       "                0.9803921568627451,\n",
       "                \"rgba(245, 249, 146, 1.000)\"\n",
       "            ],\n",
       "            [\n",
       "                0.984313725490196,\n",
       "                \"rgba(246, 250, 150, 1.000)\"\n",
       "            ],\n",
       "            [\n",
       "                0.9882352941176471,\n",
       "                \"rgba(248, 251, 154, 1.000)\"\n",
       "            ],\n",
       "            [\n",
       "                0.9921568627450981,\n",
       "                \"rgba(249, 252, 157, 1.000)\"\n",
       "            ],\n",
       "            [\n",
       "                0.996078431372549,\n",
       "                \"rgba(250, 253, 161, 1.000)\"\n",
       "            ],\n",
       "            [\n",
       "                1.0,\n",
       "                \"rgba(252, 255, 164, 1.000)\"\n",
       "            ]\n",
       "        ],\n",
       "        \"yaxis\": \"y\",\n",
       "        \"zaxis\": \"z\",\n",
       "        \"showscale\": true,\n",
       "        \"x\": [\n",
       "            -5.0,\n",
       "            -4.0,\n",
       "            -3.0,\n",
       "            -2.0,\n",
       "            -1.0,\n",
       "            0.0,\n",
       "            1.0,\n",
       "            2.0,\n",
       "            3.0,\n",
       "            4.0,\n",
       "            5.0\n",
       "        ],\n",
       "        \"showlegend\": false,\n",
       "        \"name\": \"y1\",\n",
       "        \"opacity\": null,\n",
       "        \"zmin\": -110.45829793381779,\n",
       "        \"z\": [\n",
       "            [\n",
       "                -92.90844536341935,\n",
       "                -110.45829793381779,\n",
       "                -108.90993246940401,\n",
       "                -101.66458734618857,\n",
       "                -99.45969769413186,\n",
       "                -100.0,\n",
       "                -99.45969769413186,\n",
       "                -101.66458734618857,\n",
       "                -108.90993246940401,\n",
       "                -110.45829793381779,\n",
       "                -92.90844536341935\n",
       "            ],\n",
       "            [\n",
       "                -73.90844536341935,\n",
       "                -91.45829793381779,\n",
       "                -89.90993246940401,\n",
       "                -82.66458734618857,\n",
       "                -80.45969769413186,\n",
       "                -81.0,\n",
       "                -80.45969769413186,\n",
       "                -82.66458734618857,\n",
       "                -89.90993246940401,\n",
       "                -91.45829793381779,\n",
       "                -73.90844536341935\n",
       "            ],\n",
       "            [\n",
       "                -56.90844536341935,\n",
       "                -74.45829793381779,\n",
       "                -72.90993246940401,\n",
       "                -65.66458734618857,\n",
       "                -63.45969769413186,\n",
       "                -64.0,\n",
       "                -63.45969769413186,\n",
       "                -65.66458734618857,\n",
       "                -72.90993246940401,\n",
       "                -74.45829793381779,\n",
       "                -56.90844536341935\n",
       "            ],\n",
       "            [\n",
       "                -41.90844536341935,\n",
       "                -59.45829793381779,\n",
       "                -57.90993246940401,\n",
       "                -50.66458734618857,\n",
       "                -48.45969769413186,\n",
       "                -49.0,\n",
       "                -48.45969769413186,\n",
       "                -50.66458734618857,\n",
       "                -57.90993246940401,\n",
       "                -59.45829793381779,\n",
       "                -41.90844536341935\n",
       "            ],\n",
       "            [\n",
       "                -28.908445363419343,\n",
       "                -46.45829793381779,\n",
       "                -44.90993246940401,\n",
       "                -37.66458734618857,\n",
       "                -35.45969769413186,\n",
       "                -36.0,\n",
       "                -35.45969769413186,\n",
       "                -37.66458734618857,\n",
       "                -44.90993246940401,\n",
       "                -46.45829793381779,\n",
       "                -28.908445363419343\n",
       "            ],\n",
       "            [\n",
       "                -17.908445363419343,\n",
       "                -35.45829793381779,\n",
       "                -33.90993246940401,\n",
       "                -26.66458734618857,\n",
       "                -24.45969769413186,\n",
       "                -25.0,\n",
       "                -24.45969769413186,\n",
       "                -26.66458734618857,\n",
       "                -33.90993246940401,\n",
       "                -35.45829793381779,\n",
       "                -17.908445363419343\n",
       "            ],\n",
       "            [\n",
       "                -8.908445363419343,\n",
       "                -26.45829793381779,\n",
       "                -24.90993246940401,\n",
       "                -17.66458734618857,\n",
       "                -15.45969769413186,\n",
       "                -16.0,\n",
       "                -15.45969769413186,\n",
       "                -17.66458734618857,\n",
       "                -24.90993246940401,\n",
       "                -26.45829793381779,\n",
       "                -8.908445363419343\n",
       "            ],\n",
       "            [\n",
       "                -1.908445363419344,\n",
       "                -19.45829793381779,\n",
       "                -17.90993246940401,\n",
       "                -10.66458734618857,\n",
       "                -8.45969769413186,\n",
       "                -9.0,\n",
       "                -8.45969769413186,\n",
       "                -10.66458734618857,\n",
       "                -17.90993246940401,\n",
       "                -19.45829793381779,\n",
       "                -1.908445363419344\n",
       "            ],\n",
       "            [\n",
       "                3.091554636580656,\n",
       "                -14.458297933817791,\n",
       "                -12.909932469404009,\n",
       "                -5.664587346188569,\n",
       "                -3.4596976941318602,\n",
       "                -4.0,\n",
       "                -3.4596976941318602,\n",
       "                -5.664587346188569,\n",
       "                -12.909932469404009,\n",
       "                -14.458297933817791,\n",
       "                3.091554636580656\n",
       "            ],\n",
       "            [\n",
       "                6.091554636580656,\n",
       "                -11.458297933817791,\n",
       "                -9.909932469404009,\n",
       "                -2.6645873461885694,\n",
       "                -0.45969769413186023,\n",
       "                -1.0,\n",
       "                -0.45969769413186023,\n",
       "                -2.6645873461885694,\n",
       "                -9.909932469404009,\n",
       "                -11.458297933817791,\n",
       "                6.091554636580656\n",
       "            ],\n",
       "            [\n",
       "                7.091554636580656,\n",
       "                -10.458297933817791,\n",
       "                -8.909932469404009,\n",
       "                -1.6645873461885696,\n",
       "                0.5403023058681398,\n",
       "                0.0,\n",
       "                0.5403023058681398,\n",
       "                -1.6645873461885696,\n",
       "                -8.909932469404009,\n",
       "                -10.458297933817791,\n",
       "                7.091554636580656\n",
       "            ],\n",
       "            [\n",
       "                6.091554636580656,\n",
       "                -11.458297933817791,\n",
       "                -9.909932469404009,\n",
       "                -2.6645873461885694,\n",
       "                -0.45969769413186023,\n",
       "                -1.0,\n",
       "                -0.45969769413186023,\n",
       "                -2.6645873461885694,\n",
       "                -9.909932469404009,\n",
       "                -11.458297933817791,\n",
       "                6.091554636580656\n",
       "            ],\n",
       "            [\n",
       "                3.091554636580656,\n",
       "                -14.458297933817791,\n",
       "                -12.909932469404009,\n",
       "                -5.664587346188569,\n",
       "                -3.4596976941318602,\n",
       "                -4.0,\n",
       "                -3.4596976941318602,\n",
       "                -5.664587346188569,\n",
       "                -12.909932469404009,\n",
       "                -14.458297933817791,\n",
       "                3.091554636580656\n",
       "            ],\n",
       "            [\n",
       "                -1.908445363419344,\n",
       "                -19.45829793381779,\n",
       "                -17.90993246940401,\n",
       "                -10.66458734618857,\n",
       "                -8.45969769413186,\n",
       "                -9.0,\n",
       "                -8.45969769413186,\n",
       "                -10.66458734618857,\n",
       "                -17.90993246940401,\n",
       "                -19.45829793381779,\n",
       "                -1.908445363419344\n",
       "            ],\n",
       "            [\n",
       "                -8.908445363419343,\n",
       "                -26.45829793381779,\n",
       "                -24.90993246940401,\n",
       "                -17.66458734618857,\n",
       "                -15.45969769413186,\n",
       "                -16.0,\n",
       "                -15.45969769413186,\n",
       "                -17.66458734618857,\n",
       "                -24.90993246940401,\n",
       "                -26.45829793381779,\n",
       "                -8.908445363419343\n",
       "            ],\n",
       "            [\n",
       "                -17.908445363419343,\n",
       "                -35.45829793381779,\n",
       "                -33.90993246940401,\n",
       "                -26.66458734618857,\n",
       "                -24.45969769413186,\n",
       "                -25.0,\n",
       "                -24.45969769413186,\n",
       "                -26.66458734618857,\n",
       "                -33.90993246940401,\n",
       "                -35.45829793381779,\n",
       "                -17.908445363419343\n",
       "            ],\n",
       "            [\n",
       "                -28.908445363419343,\n",
       "                -46.45829793381779,\n",
       "                -44.90993246940401,\n",
       "                -37.66458734618857,\n",
       "                -35.45969769413186,\n",
       "                -36.0,\n",
       "                -35.45969769413186,\n",
       "                -37.66458734618857,\n",
       "                -44.90993246940401,\n",
       "                -46.45829793381779,\n",
       "                -28.908445363419343\n",
       "            ],\n",
       "            [\n",
       "                -41.90844536341935,\n",
       "                -59.45829793381779,\n",
       "                -57.90993246940401,\n",
       "                -50.66458734618857,\n",
       "                -48.45969769413186,\n",
       "                -49.0,\n",
       "                -48.45969769413186,\n",
       "                -50.66458734618857,\n",
       "                -57.90993246940401,\n",
       "                -59.45829793381779,\n",
       "                -41.90844536341935\n",
       "            ],\n",
       "            [\n",
       "                -56.90844536341935,\n",
       "                -74.45829793381779,\n",
       "                -72.90993246940401,\n",
       "                -65.66458734618857,\n",
       "                -63.45969769413186,\n",
       "                -64.0,\n",
       "                -63.45969769413186,\n",
       "                -65.66458734618857,\n",
       "                -72.90993246940401,\n",
       "                -74.45829793381779,\n",
       "                -56.90844536341935\n",
       "            ],\n",
       "            [\n",
       "                -73.90844536341935,\n",
       "                -91.45829793381779,\n",
       "                -89.90993246940401,\n",
       "                -82.66458734618857,\n",
       "                -80.45969769413186,\n",
       "                -81.0,\n",
       "                -80.45969769413186,\n",
       "                -82.66458734618857,\n",
       "                -89.90993246940401,\n",
       "                -91.45829793381779,\n",
       "                -73.90844536341935\n",
       "            ],\n",
       "            [\n",
       "                -92.90844536341935,\n",
       "                -110.45829793381779,\n",
       "                -108.90993246940401,\n",
       "                -101.66458734618857,\n",
       "                -99.45969769413186,\n",
       "                -100.0,\n",
       "                -99.45969769413186,\n",
       "                -101.66458734618857,\n",
       "                -108.90993246940401,\n",
       "                -110.45829793381779,\n",
       "                -92.90844536341935\n",
       "            ]\n",
       "        ],\n",
       "        \"zmax\": 7.091554636580656,\n",
       "        \"y\": [\n",
       "            -10.0,\n",
       "            -9.0,\n",
       "            -8.0,\n",
       "            -7.0,\n",
       "            -6.0,\n",
       "            -5.0,\n",
       "            -4.0,\n",
       "            -3.0,\n",
       "            -2.0,\n",
       "            -1.0,\n",
       "            0.0,\n",
       "            1.0,\n",
       "            2.0,\n",
       "            3.0,\n",
       "            4.0,\n",
       "            5.0,\n",
       "            6.0,\n",
       "            7.0,\n",
       "            8.0,\n",
       "            9.0,\n",
       "            10.0\n",
       "        ],\n",
       "        \"type\": \"surface\",\n",
       "        \"scene\": \"scene\"\n",
       "    }\n",
       "]\n",
       ", {\n",
       "    \"showlegend\": true,\n",
       "    \"paper_bgcolor\": \"rgba(255, 255, 255, 1.000)\",\n",
       "    \"annotations\": [\n",
       "        {\n",
       "            \"yanchor\": \"top\",\n",
       "            \"xanchor\": \"center\",\n",
       "            \"rotation\": -0.0,\n",
       "            \"y\": 1.0,\n",
       "            \"font\": {\n",
       "                \"color\": \"rgba(0, 0, 0, 1.000)\",\n",
       "                \"family\": \"sans-serif\",\n",
       "                \"size\": 20\n",
       "            },\n",
       "            \"yref\": \"paper\",\n",
       "            \"showarrow\": false,\n",
       "            \"text\": \"Surface Plot\",\n",
       "            \"xref\": \"paper\",\n",
       "            \"x\": 0.5349537037037038\n",
       "        }\n",
       "    ],\n",
       "    \"height\": 400,\n",
       "    \"margin\": {\n",
       "        \"l\": 0,\n",
       "        \"b\": 20,\n",
       "        \"r\": 0,\n",
       "        \"t\": 20\n",
       "    },\n",
       "    \"plot_bgcolor\": \"rgba(255, 255, 255, 1.000)\",\n",
       "    \"scene\": {\n",
       "        \"camera\": {\n",
       "            \"eye\": {\n",
       "                \"y\": -1.9499999999999997,\n",
       "                \"z\": 1.3,\n",
       "                \"x\": 1.12583302491977\n",
       "            }\n",
       "        },\n",
       "        \"xaxis\": {\n",
       "            \"tickangle\": 0,\n",
       "            \"showline\": true,\n",
       "            \"gridcolor\": \"rgba(0, 0, 0, 0.100)\",\n",
       "            \"showticklabels\": true,\n",
       "            \"gridwidth\": 0.5,\n",
       "            \"titlefont\": {\n",
       "                \"color\": \"rgba(0, 0, 0, 1.000)\",\n",
       "                \"family\": \"sans-serif\",\n",
       "                \"size\": 15\n",
       "            },\n",
       "            \"visible\": true,\n",
       "            \"ticks\": \"inside\",\n",
       "            \"range\": [\n",
       "                -5.0,\n",
       "                5.0\n",
       "            ],\n",
       "            \"tickmode\": \"array\",\n",
       "            \"tickvals\": [\n",
       "                -5.0,\n",
       "                -2.5,\n",
       "                0.0,\n",
       "                2.5,\n",
       "                5.0\n",
       "            ],\n",
       "            \"tickcolor\": \"rgb(0, 0, 0)\",\n",
       "            \"ticktext\": [\n",
       "                \"-5.0\",\n",
       "                \"-2.5\",\n",
       "                \"0.0\",\n",
       "                \"2.5\",\n",
       "                \"5.0\"\n",
       "            ],\n",
       "            \"linecolor\": \"rgba(0, 0, 0, 1.000)\",\n",
       "            \"showgrid\": true,\n",
       "            \"zeroline\": false,\n",
       "            \"type\": \"-\",\n",
       "            \"tickfont\": {\n",
       "                \"color\": \"rgba(0, 0, 0, 1.000)\",\n",
       "                \"family\": \"sans-serif\",\n",
       "                \"size\": 11\n",
       "            },\n",
       "            \"title\": \"x\",\n",
       "            \"zerolinecolor\": \"rgba(0, 0, 0, 1.000)\",\n",
       "            \"mirror\": false\n",
       "        },\n",
       "        \"domain\": {\n",
       "            \"y\": [\n",
       "                0.07581474190726165,\n",
       "                0.9415463692038496\n",
       "            ],\n",
       "            \"x\": [\n",
       "                0.07646908719743364,\n",
       "                0.9934383202099737\n",
       "            ]\n",
       "        },\n",
       "        \"yaxis\": {\n",
       "            \"tickangle\": 0,\n",
       "            \"showline\": true,\n",
       "            \"gridcolor\": \"rgba(0, 0, 0, 0.100)\",\n",
       "            \"showticklabels\": true,\n",
       "            \"gridwidth\": 0.5,\n",
       "            \"titlefont\": {\n",
       "                \"color\": \"rgba(0, 0, 0, 1.000)\",\n",
       "                \"family\": \"sans-serif\",\n",
       "                \"size\": 15\n",
       "            },\n",
       "            \"visible\": true,\n",
       "            \"ticks\": \"inside\",\n",
       "            \"range\": [\n",
       "                -10.0,\n",
       "                10.0\n",
       "            ],\n",
       "            \"tickmode\": \"array\",\n",
       "            \"tickvals\": [\n",
       "                -10.0,\n",
       "                -5.0,\n",
       "                0.0,\n",
       "                5.0,\n",
       "                10.0\n",
       "            ],\n",
       "            \"tickcolor\": \"rgb(0, 0, 0)\",\n",
       "            \"ticktext\": [\n",
       "                \"-10\",\n",
       "                \"-5\",\n",
       "                \"0\",\n",
       "                \"5\",\n",
       "                \"10\"\n",
       "            ],\n",
       "            \"linecolor\": \"rgba(0, 0, 0, 1.000)\",\n",
       "            \"showgrid\": true,\n",
       "            \"zeroline\": false,\n",
       "            \"type\": \"-\",\n",
       "            \"tickfont\": {\n",
       "                \"color\": \"rgba(0, 0, 0, 1.000)\",\n",
       "                \"family\": \"sans-serif\",\n",
       "                \"size\": 11\n",
       "            },\n",
       "            \"title\": \"y\",\n",
       "            \"zerolinecolor\": \"rgba(0, 0, 0, 1.000)\",\n",
       "            \"mirror\": false\n",
       "        },\n",
       "        \"zaxis\": {\n",
       "            \"tickangle\": 0,\n",
       "            \"showline\": true,\n",
       "            \"gridcolor\": \"rgba(0, 0, 0, 0.100)\",\n",
       "            \"showticklabels\": true,\n",
       "            \"gridwidth\": 0.5,\n",
       "            \"titlefont\": {\n",
       "                \"color\": \"rgba(0, 0, 0, 1.000)\",\n",
       "                \"family\": \"sans-serif\",\n",
       "                \"size\": 15\n",
       "            },\n",
       "            \"visible\": true,\n",
       "            \"ticks\": \"inside\",\n",
       "            \"range\": [\n",
       "                -110.45829793381779,\n",
       "                7.091554636580656\n",
       "            ],\n",
       "            \"tickmode\": \"array\",\n",
       "            \"tickvals\": [\n",
       "                -100.0,\n",
       "                -75.0,\n",
       "                -50.0,\n",
       "                -25.0,\n",
       "                0.0\n",
       "            ],\n",
       "            \"tickcolor\": \"rgb(0, 0, 0)\",\n",
       "            \"ticktext\": [\n",
       "                \"-100\",\n",
       "                \"-75\",\n",
       "                \"-50\",\n",
       "                \"-25\",\n",
       "                \"0\"\n",
       "            ],\n",
       "            \"linecolor\": \"rgba(0, 0, 0, 1.000)\",\n",
       "            \"showgrid\": true,\n",
       "            \"zeroline\": false,\n",
       "            \"type\": \"-\",\n",
       "            \"tickfont\": {\n",
       "                \"color\": \"rgba(0, 0, 0, 1.000)\",\n",
       "                \"family\": \"sans-serif\",\n",
       "                \"size\": 11\n",
       "            },\n",
       "            \"title\": \"z\",\n",
       "            \"zerolinecolor\": \"rgba(0, 0, 0, 1.000)\",\n",
       "            \"mirror\": false\n",
       "        }\n",
       "    },\n",
       "    \"legend_position\": {\n",
       "        \"yanchor\": \"auto\",\n",
       "        \"xanchor\": \"auto\",\n",
       "        \"bordercolor\": \"rgba(0, 0, 0, 1.000)\",\n",
       "        \"bgcolor\": \"rgba(255, 255, 255, 1.000)\",\n",
       "        \"borderwidth\": 1,\n",
       "        \"tracegroupgap\": 0,\n",
       "        \"y\": 1.0,\n",
       "        \"font\": {\n",
       "            \"color\": \"rgba(0, 0, 0, 1.000)\",\n",
       "            \"family\": \"sans-serif\",\n",
       "            \"size\": 11\n",
       "        },\n",
       "        \"title\": {\n",
       "            \"font\": {\n",
       "                \"color\": \"rgba(0, 0, 0, 1.000)\",\n",
       "                \"family\": \"sans-serif\",\n",
       "                \"size\": 15\n",
       "            },\n",
       "            \"text\": \"\"\n",
       "        },\n",
       "        \"traceorder\": \"normal\",\n",
       "        \"x\": 1.0\n",
       "    },\n",
       "    \"width\": 600\n",
       "}\n",
       ");\n",
       "\n",
       "    });\n",
       "    </script>\n"
      ]
     },
     "metadata": {},
     "output_type": "display_data"
    }
   ],
   "source": [
    "Z(x,y)=x^2 * cos(x)-y^2\n",
    "\n",
    "xs = collect(-5:5) #array from -5 to 5\n",
    "ys = collect(-10:10) #array from -10 to 10\n",
    "\n",
    "#surface function automatically produces evaluated meshgrid\n",
    "plot4 = surface(xs,ys,Z, title=\"Surface Plot\",xlabel=\"x\",ylabel=\"y\",zlabel=\"z\")\n",
    "display(plot4)\n",
    "savefig(plot4, \"surfaceplot.png\")"
   ]
  },
  {
   "cell_type": "code",
   "execution_count": 183,
   "metadata": {},
   "outputs": [
    {
     "data": {
      "application/vnd.plotly.v1+json": {
       "data": [
        {
         "colorbar": {
          "title": ""
         },
         "colorscale": [
          [
           0,
           "rgba(0, 0, 4, 1.000)"
          ],
          [
           0.00392156862745098,
           "rgba(1, 0, 5, 1.000)"
          ],
          [
           0.00784313725490196,
           "rgba(1, 1, 6, 1.000)"
          ],
          [
           0.011764705882352941,
           "rgba(1, 1, 8, 1.000)"
          ],
          [
           0.01568627450980392,
           "rgba(2, 1, 10, 1.000)"
          ],
          [
           0.0196078431372549,
           "rgba(2, 2, 12, 1.000)"
          ],
          [
           0.023529411764705882,
           "rgba(2, 2, 14, 1.000)"
          ],
          [
           0.027450980392156862,
           "rgba(3, 2, 16, 1.000)"
          ],
          [
           0.03137254901960784,
           "rgba(4, 3, 18, 1.000)"
          ],
          [
           0.03529411764705882,
           "rgba(4, 3, 20, 1.000)"
          ],
          [
           0.0392156862745098,
           "rgba(5, 4, 23, 1.000)"
          ],
          [
           0.043137254901960784,
           "rgba(6, 4, 25, 1.000)"
          ],
          [
           0.047058823529411764,
           "rgba(7, 5, 27, 1.000)"
          ],
          [
           0.050980392156862744,
           "rgba(8, 5, 29, 1.000)"
          ],
          [
           0.054901960784313725,
           "rgba(9, 6, 31, 1.000)"
          ],
          [
           0.058823529411764705,
           "rgba(10, 7, 34, 1.000)"
          ],
          [
           0.06274509803921569,
           "rgba(11, 7, 36, 1.000)"
          ],
          [
           0.06666666666666667,
           "rgba(12, 8, 38, 1.000)"
          ],
          [
           0.07058823529411765,
           "rgba(13, 8, 41, 1.000)"
          ],
          [
           0.07450980392156863,
           "rgba(14, 9, 43, 1.000)"
          ],
          [
           0.0784313725490196,
           "rgba(16, 9, 45, 1.000)"
          ],
          [
           0.08235294117647059,
           "rgba(17, 10, 48, 1.000)"
          ],
          [
           0.08627450980392157,
           "rgba(18, 10, 50, 1.000)"
          ],
          [
           0.09019607843137255,
           "rgba(20, 11, 52, 1.000)"
          ],
          [
           0.09411764705882353,
           "rgba(21, 11, 55, 1.000)"
          ],
          [
           0.09803921568627451,
           "rgba(22, 11, 57, 1.000)"
          ],
          [
           0.10196078431372549,
           "rgba(24, 12, 60, 1.000)"
          ],
          [
           0.10588235294117647,
           "rgba(25, 12, 62, 1.000)"
          ],
          [
           0.10980392156862745,
           "rgba(27, 12, 65, 1.000)"
          ],
          [
           0.11372549019607843,
           "rgba(28, 12, 67, 1.000)"
          ],
          [
           0.11764705882352941,
           "rgba(30, 12, 69, 1.000)"
          ],
          [
           0.12156862745098039,
           "rgba(31, 12, 72, 1.000)"
          ],
          [
           0.12549019607843137,
           "rgba(33, 12, 74, 1.000)"
          ],
          [
           0.12941176470588237,
           "rgba(35, 12, 76, 1.000)"
          ],
          [
           0.13333333333333333,
           "rgba(36, 12, 79, 1.000)"
          ],
          [
           0.13725490196078433,
           "rgba(38, 12, 81, 1.000)"
          ],
          [
           0.1411764705882353,
           "rgba(40, 11, 83, 1.000)"
          ],
          [
           0.1450980392156863,
           "rgba(41, 11, 85, 1.000)"
          ],
          [
           0.14901960784313725,
           "rgba(43, 11, 87, 1.000)"
          ],
          [
           0.15294117647058825,
           "rgba(45, 11, 89, 1.000)"
          ],
          [
           0.1568627450980392,
           "rgba(47, 10, 91, 1.000)"
          ],
          [
           0.1607843137254902,
           "rgba(49, 10, 92, 1.000)"
          ],
          [
           0.16470588235294117,
           "rgba(50, 10, 94, 1.000)"
          ],
          [
           0.16862745098039217,
           "rgba(52, 10, 95, 1.000)"
          ],
          [
           0.17254901960784313,
           "rgba(54, 9, 97, 1.000)"
          ],
          [
           0.17647058823529413,
           "rgba(56, 9, 98, 1.000)"
          ],
          [
           0.1803921568627451,
           "rgba(57, 9, 99, 1.000)"
          ],
          [
           0.1843137254901961,
           "rgba(59, 9, 100, 1.000)"
          ],
          [
           0.18823529411764706,
           "rgba(61, 9, 101, 1.000)"
          ],
          [
           0.19215686274509805,
           "rgba(62, 9, 102, 1.000)"
          ],
          [
           0.19607843137254902,
           "rgba(64, 10, 103, 1.000)"
          ],
          [
           0.2,
           "rgba(66, 10, 104, 1.000)"
          ],
          [
           0.20392156862745098,
           "rgba(68, 10, 104, 1.000)"
          ],
          [
           0.20784313725490197,
           "rgba(69, 10, 105, 1.000)"
          ],
          [
           0.21176470588235294,
           "rgba(71, 11, 106, 1.000)"
          ],
          [
           0.21568627450980393,
           "rgba(73, 11, 106, 1.000)"
          ],
          [
           0.2196078431372549,
           "rgba(74, 12, 107, 1.000)"
          ],
          [
           0.2235294117647059,
           "rgba(76, 12, 107, 1.000)"
          ],
          [
           0.22745098039215686,
           "rgba(77, 13, 108, 1.000)"
          ],
          [
           0.23137254901960785,
           "rgba(79, 13, 108, 1.000)"
          ],
          [
           0.23529411764705882,
           "rgba(81, 14, 108, 1.000)"
          ],
          [
           0.23921568627450981,
           "rgba(82, 14, 109, 1.000)"
          ],
          [
           0.24313725490196078,
           "rgba(84, 15, 109, 1.000)"
          ],
          [
           0.24705882352941178,
           "rgba(85, 15, 109, 1.000)"
          ],
          [
           0.25098039215686274,
           "rgba(87, 16, 110, 1.000)"
          ],
          [
           0.2549019607843137,
           "rgba(89, 16, 110, 1.000)"
          ],
          [
           0.25882352941176473,
           "rgba(90, 17, 110, 1.000)"
          ],
          [
           0.2627450980392157,
           "rgba(92, 18, 110, 1.000)"
          ],
          [
           0.26666666666666666,
           "rgba(93, 18, 110, 1.000)"
          ],
          [
           0.27058823529411763,
           "rgba(95, 19, 110, 1.000)"
          ],
          [
           0.27450980392156865,
           "rgba(97, 19, 110, 1.000)"
          ],
          [
           0.2784313725490196,
           "rgba(98, 20, 110, 1.000)"
          ],
          [
           0.2823529411764706,
           "rgba(100, 21, 110, 1.000)"
          ],
          [
           0.28627450980392155,
           "rgba(101, 21, 110, 1.000)"
          ],
          [
           0.2901960784313726,
           "rgba(103, 22, 110, 1.000)"
          ],
          [
           0.29411764705882354,
           "rgba(105, 22, 110, 1.000)"
          ],
          [
           0.2980392156862745,
           "rgba(106, 23, 110, 1.000)"
          ],
          [
           0.30196078431372547,
           "rgba(108, 24, 110, 1.000)"
          ],
          [
           0.3058823529411765,
           "rgba(109, 24, 110, 1.000)"
          ],
          [
           0.30980392156862746,
           "rgba(111, 25, 110, 1.000)"
          ],
          [
           0.3137254901960784,
           "rgba(113, 25, 110, 1.000)"
          ],
          [
           0.3176470588235294,
           "rgba(114, 26, 110, 1.000)"
          ],
          [
           0.3215686274509804,
           "rgba(116, 26, 110, 1.000)"
          ],
          [
           0.3254901960784314,
           "rgba(117, 27, 110, 1.000)"
          ],
          [
           0.32941176470588235,
           "rgba(119, 28, 109, 1.000)"
          ],
          [
           0.3333333333333333,
           "rgba(120, 28, 109, 1.000)"
          ],
          [
           0.33725490196078434,
           "rgba(122, 29, 109, 1.000)"
          ],
          [
           0.3411764705882353,
           "rgba(124, 29, 109, 1.000)"
          ],
          [
           0.34509803921568627,
           "rgba(125, 30, 109, 1.000)"
          ],
          [
           0.34901960784313724,
           "rgba(127, 30, 108, 1.000)"
          ],
          [
           0.35294117647058826,
           "rgba(128, 31, 108, 1.000)"
          ],
          [
           0.3568627450980392,
           "rgba(130, 32, 108, 1.000)"
          ],
          [
           0.3607843137254902,
           "rgba(132, 32, 107, 1.000)"
          ],
          [
           0.36470588235294116,
           "rgba(133, 33, 107, 1.000)"
          ],
          [
           0.3686274509803922,
           "rgba(135, 33, 107, 1.000)"
          ],
          [
           0.37254901960784315,
           "rgba(136, 34, 106, 1.000)"
          ],
          [
           0.3764705882352941,
           "rgba(138, 34, 106, 1.000)"
          ],
          [
           0.3803921568627451,
           "rgba(140, 35, 105, 1.000)"
          ],
          [
           0.3843137254901961,
           "rgba(141, 35, 105, 1.000)"
          ],
          [
           0.38823529411764707,
           "rgba(143, 36, 105, 1.000)"
          ],
          [
           0.39215686274509803,
           "rgba(144, 37, 104, 1.000)"
          ],
          [
           0.396078431372549,
           "rgba(146, 37, 104, 1.000)"
          ],
          [
           0.4,
           "rgba(147, 38, 103, 1.000)"
          ],
          [
           0.403921568627451,
           "rgba(149, 38, 103, 1.000)"
          ],
          [
           0.40784313725490196,
           "rgba(151, 39, 102, 1.000)"
          ],
          [
           0.4117647058823529,
           "rgba(152, 39, 102, 1.000)"
          ],
          [
           0.41568627450980394,
           "rgba(154, 40, 101, 1.000)"
          ],
          [
           0.4196078431372549,
           "rgba(155, 41, 100, 1.000)"
          ],
          [
           0.4235294117647059,
           "rgba(157, 41, 100, 1.000)"
          ],
          [
           0.42745098039215684,
           "rgba(159, 42, 99, 1.000)"
          ],
          [
           0.43137254901960786,
           "rgba(160, 42, 99, 1.000)"
          ],
          [
           0.43529411764705883,
           "rgba(162, 43, 98, 1.000)"
          ],
          [
           0.4392156862745098,
           "rgba(163, 44, 97, 1.000)"
          ],
          [
           0.44313725490196076,
           "rgba(165, 44, 96, 1.000)"
          ],
          [
           0.4470588235294118,
           "rgba(166, 45, 96, 1.000)"
          ],
          [
           0.45098039215686275,
           "rgba(168, 46, 95, 1.000)"
          ],
          [
           0.4549019607843137,
           "rgba(169, 46, 94, 1.000)"
          ],
          [
           0.4588235294117647,
           "rgba(171, 47, 94, 1.000)"
          ],
          [
           0.4627450980392157,
           "rgba(173, 48, 93, 1.000)"
          ],
          [
           0.4666666666666667,
           "rgba(174, 48, 92, 1.000)"
          ],
          [
           0.47058823529411764,
           "rgba(176, 49, 91, 1.000)"
          ],
          [
           0.4745098039215686,
           "rgba(177, 50, 90, 1.000)"
          ],
          [
           0.47843137254901963,
           "rgba(179, 50, 90, 1.000)"
          ],
          [
           0.4823529411764706,
           "rgba(180, 51, 89, 1.000)"
          ],
          [
           0.48627450980392156,
           "rgba(182, 52, 88, 1.000)"
          ],
          [
           0.49019607843137253,
           "rgba(183, 53, 87, 1.000)"
          ],
          [
           0.49411764705882355,
           "rgba(185, 53, 86, 1.000)"
          ],
          [
           0.4980392156862745,
           "rgba(186, 54, 85, 1.000)"
          ],
          [
           0.5019607843137255,
           "rgba(188, 55, 84, 1.000)"
          ],
          [
           0.5058823529411764,
           "rgba(189, 56, 83, 1.000)"
          ],
          [
           0.5098039215686274,
           "rgba(191, 57, 82, 1.000)"
          ],
          [
           0.5137254901960784,
           "rgba(192, 58, 81, 1.000)"
          ],
          [
           0.5176470588235295,
           "rgba(193, 58, 80, 1.000)"
          ],
          [
           0.5215686274509804,
           "rgba(195, 59, 79, 1.000)"
          ],
          [
           0.5254901960784314,
           "rgba(196, 60, 78, 1.000)"
          ],
          [
           0.5294117647058824,
           "rgba(198, 61, 77, 1.000)"
          ],
          [
           0.5333333333333333,
           "rgba(199, 62, 76, 1.000)"
          ],
          [
           0.5372549019607843,
           "rgba(200, 63, 75, 1.000)"
          ],
          [
           0.5411764705882353,
           "rgba(202, 64, 74, 1.000)"
          ],
          [
           0.5450980392156862,
           "rgba(203, 65, 73, 1.000)"
          ],
          [
           0.5490196078431373,
           "rgba(204, 66, 72, 1.000)"
          ],
          [
           0.5529411764705883,
           "rgba(206, 67, 71, 1.000)"
          ],
          [
           0.5568627450980392,
           "rgba(207, 68, 70, 1.000)"
          ],
          [
           0.5607843137254902,
           "rgba(208, 69, 69, 1.000)"
          ],
          [
           0.5647058823529412,
           "rgba(210, 70, 68, 1.000)"
          ],
          [
           0.5686274509803921,
           "rgba(211, 71, 67, 1.000)"
          ],
          [
           0.5725490196078431,
           "rgba(212, 72, 66, 1.000)"
          ],
          [
           0.5764705882352941,
           "rgba(213, 74, 65, 1.000)"
          ],
          [
           0.5803921568627451,
           "rgba(215, 75, 63, 1.000)"
          ],
          [
           0.5843137254901961,
           "rgba(216, 76, 62, 1.000)"
          ],
          [
           0.5882352941176471,
           "rgba(217, 77, 61, 1.000)"
          ],
          [
           0.592156862745098,
           "rgba(218, 78, 60, 1.000)"
          ],
          [
           0.596078431372549,
           "rgba(219, 80, 59, 1.000)"
          ],
          [
           0.6,
           "rgba(221, 81, 58, 1.000)"
          ],
          [
           0.6039215686274509,
           "rgba(222, 82, 56, 1.000)"
          ],
          [
           0.6078431372549019,
           "rgba(223, 83, 55, 1.000)"
          ],
          [
           0.611764705882353,
           "rgba(224, 85, 54, 1.000)"
          ],
          [
           0.615686274509804,
           "rgba(225, 86, 53, 1.000)"
          ],
          [
           0.6196078431372549,
           "rgba(226, 87, 52, 1.000)"
          ],
          [
           0.6235294117647059,
           "rgba(227, 89, 51, 1.000)"
          ],
          [
           0.6274509803921569,
           "rgba(228, 90, 49, 1.000)"
          ],
          [
           0.6313725490196078,
           "rgba(229, 92, 48, 1.000)"
          ],
          [
           0.6352941176470588,
           "rgba(230, 93, 47, 1.000)"
          ],
          [
           0.6392156862745098,
           "rgba(231, 94, 46, 1.000)"
          ],
          [
           0.6431372549019608,
           "rgba(232, 96, 45, 1.000)"
          ],
          [
           0.6470588235294118,
           "rgba(233, 97, 43, 1.000)"
          ],
          [
           0.6509803921568628,
           "rgba(234, 99, 42, 1.000)"
          ],
          [
           0.6549019607843137,
           "rgba(235, 100, 41, 1.000)"
          ],
          [
           0.6588235294117647,
           "rgba(235, 102, 40, 1.000)"
          ],
          [
           0.6627450980392157,
           "rgba(236, 103, 38, 1.000)"
          ],
          [
           0.6666666666666666,
           "rgba(237, 105, 37, 1.000)"
          ],
          [
           0.6705882352941176,
           "rgba(238, 106, 36, 1.000)"
          ],
          [
           0.6745098039215687,
           "rgba(239, 108, 35, 1.000)"
          ],
          [
           0.6784313725490196,
           "rgba(239, 110, 33, 1.000)"
          ],
          [
           0.6823529411764706,
           "rgba(240, 111, 32, 1.000)"
          ],
          [
           0.6862745098039216,
           "rgba(241, 113, 31, 1.000)"
          ],
          [
           0.6901960784313725,
           "rgba(241, 115, 29, 1.000)"
          ],
          [
           0.6941176470588235,
           "rgba(242, 116, 28, 1.000)"
          ],
          [
           0.6980392156862745,
           "rgba(243, 118, 27, 1.000)"
          ],
          [
           0.7019607843137254,
           "rgba(243, 120, 25, 1.000)"
          ],
          [
           0.7058823529411765,
           "rgba(244, 121, 24, 1.000)"
          ],
          [
           0.7098039215686275,
           "rgba(245, 123, 23, 1.000)"
          ],
          [
           0.7137254901960784,
           "rgba(245, 125, 21, 1.000)"
          ],
          [
           0.7176470588235294,
           "rgba(246, 126, 20, 1.000)"
          ],
          [
           0.7215686274509804,
           "rgba(246, 128, 19, 1.000)"
          ],
          [
           0.7254901960784313,
           "rgba(247, 130, 18, 1.000)"
          ],
          [
           0.7294117647058823,
           "rgba(247, 132, 16, 1.000)"
          ],
          [
           0.7333333333333333,
           "rgba(248, 133, 15, 1.000)"
          ],
          [
           0.7372549019607844,
           "rgba(248, 135, 14, 1.000)"
          ],
          [
           0.7411764705882353,
           "rgba(248, 137, 12, 1.000)"
          ],
          [
           0.7450980392156863,
           "rgba(249, 139, 11, 1.000)"
          ],
          [
           0.7490196078431373,
           "rgba(249, 140, 10, 1.000)"
          ],
          [
           0.7529411764705882,
           "rgba(249, 142, 9, 1.000)"
          ],
          [
           0.7568627450980392,
           "rgba(250, 144, 8, 1.000)"
          ],
          [
           0.7607843137254902,
           "rgba(250, 146, 7, 1.000)"
          ],
          [
           0.7647058823529411,
           "rgba(250, 148, 7, 1.000)"
          ],
          [
           0.7686274509803922,
           "rgba(251, 150, 6, 1.000)"
          ],
          [
           0.7725490196078432,
           "rgba(251, 151, 6, 1.000)"
          ],
          [
           0.7764705882352941,
           "rgba(251, 153, 6, 1.000)"
          ],
          [
           0.7803921568627451,
           "rgba(251, 155, 6, 1.000)"
          ],
          [
           0.7843137254901961,
           "rgba(251, 157, 7, 1.000)"
          ],
          [
           0.788235294117647,
           "rgba(252, 159, 7, 1.000)"
          ],
          [
           0.792156862745098,
           "rgba(252, 161, 8, 1.000)"
          ],
          [
           0.796078431372549,
           "rgba(252, 163, 9, 1.000)"
          ],
          [
           0.8,
           "rgba(252, 165, 10, 1.000)"
          ],
          [
           0.803921568627451,
           "rgba(252, 166, 12, 1.000)"
          ],
          [
           0.807843137254902,
           "rgba(252, 168, 13, 1.000)"
          ],
          [
           0.8117647058823529,
           "rgba(252, 170, 15, 1.000)"
          ],
          [
           0.8156862745098039,
           "rgba(252, 172, 17, 1.000)"
          ],
          [
           0.8196078431372549,
           "rgba(252, 174, 18, 1.000)"
          ],
          [
           0.8235294117647058,
           "rgba(252, 176, 20, 1.000)"
          ],
          [
           0.8274509803921568,
           "rgba(252, 178, 22, 1.000)"
          ],
          [
           0.8313725490196079,
           "rgba(252, 180, 24, 1.000)"
          ],
          [
           0.8352941176470589,
           "rgba(251, 182, 26, 1.000)"
          ],
          [
           0.8392156862745098,
           "rgba(251, 184, 29, 1.000)"
          ],
          [
           0.8431372549019608,
           "rgba(251, 186, 31, 1.000)"
          ],
          [
           0.8470588235294118,
           "rgba(251, 188, 33, 1.000)"
          ],
          [
           0.8509803921568627,
           "rgba(251, 190, 35, 1.000)"
          ],
          [
           0.8549019607843137,
           "rgba(250, 192, 38, 1.000)"
          ],
          [
           0.8588235294117647,
           "rgba(250, 194, 40, 1.000)"
          ],
          [
           0.8627450980392157,
           "rgba(250, 196, 42, 1.000)"
          ],
          [
           0.8666666666666667,
           "rgba(250, 198, 45, 1.000)"
          ],
          [
           0.8705882352941177,
           "rgba(249, 199, 47, 1.000)"
          ],
          [
           0.8745098039215686,
           "rgba(249, 201, 50, 1.000)"
          ],
          [
           0.8784313725490196,
           "rgba(249, 203, 53, 1.000)"
          ],
          [
           0.8823529411764706,
           "rgba(248, 205, 55, 1.000)"
          ],
          [
           0.8862745098039215,
           "rgba(248, 207, 58, 1.000)"
          ],
          [
           0.8901960784313725,
           "rgba(247, 209, 61, 1.000)"
          ],
          [
           0.8941176470588236,
           "rgba(247, 211, 64, 1.000)"
          ],
          [
           0.8980392156862745,
           "rgba(246, 213, 67, 1.000)"
          ],
          [
           0.9019607843137255,
           "rgba(246, 215, 70, 1.000)"
          ],
          [
           0.9058823529411765,
           "rgba(245, 217, 73, 1.000)"
          ],
          [
           0.9098039215686274,
           "rgba(245, 219, 76, 1.000)"
          ],
          [
           0.9137254901960784,
           "rgba(244, 221, 79, 1.000)"
          ],
          [
           0.9176470588235294,
           "rgba(244, 223, 83, 1.000)"
          ],
          [
           0.9215686274509803,
           "rgba(244, 225, 86, 1.000)"
          ],
          [
           0.9254901960784314,
           "rgba(243, 227, 90, 1.000)"
          ],
          [
           0.9294117647058824,
           "rgba(243, 229, 93, 1.000)"
          ],
          [
           0.9333333333333333,
           "rgba(242, 230, 97, 1.000)"
          ],
          [
           0.9372549019607843,
           "rgba(242, 232, 101, 1.000)"
          ],
          [
           0.9411764705882353,
           "rgba(242, 234, 105, 1.000)"
          ],
          [
           0.9450980392156862,
           "rgba(241, 236, 109, 1.000)"
          ],
          [
           0.9490196078431372,
           "rgba(241, 237, 113, 1.000)"
          ],
          [
           0.9529411764705882,
           "rgba(241, 239, 117, 1.000)"
          ],
          [
           0.9568627450980393,
           "rgba(241, 241, 121, 1.000)"
          ],
          [
           0.9607843137254902,
           "rgba(242, 242, 125, 1.000)"
          ],
          [
           0.9647058823529412,
           "rgba(242, 244, 130, 1.000)"
          ],
          [
           0.9686274509803922,
           "rgba(243, 245, 134, 1.000)"
          ],
          [
           0.9725490196078431,
           "rgba(243, 246, 138, 1.000)"
          ],
          [
           0.9764705882352941,
           "rgba(244, 248, 142, 1.000)"
          ],
          [
           0.9803921568627451,
           "rgba(245, 249, 146, 1.000)"
          ],
          [
           0.984313725490196,
           "rgba(246, 250, 150, 1.000)"
          ],
          [
           0.9882352941176471,
           "rgba(248, 251, 154, 1.000)"
          ],
          [
           0.9921568627450981,
           "rgba(249, 252, 157, 1.000)"
          ],
          [
           0.996078431372549,
           "rgba(250, 253, 161, 1.000)"
          ],
          [
           1,
           "rgba(252, 255, 164, 1.000)"
          ]
         ],
         "contours": {
          "coloring": "lines",
          "showlabels": false
         },
         "name": "y1",
         "ncontours": 17,
         "showlegend": false,
         "showscale": true,
         "type": "contour",
         "x": [
          -5,
          -4,
          -3,
          -2,
          -1,
          0,
          1,
          2,
          3,
          4,
          5
         ],
         "xaxis": "x",
         "y": [
          -10,
          -9,
          -8,
          -7,
          -6,
          -5,
          -4,
          -3,
          -2,
          -1,
          0,
          1,
          2,
          3,
          4,
          5,
          6,
          7,
          8,
          9,
          10
         ],
         "yaxis": "y",
         "z": [
          [
           -92.90844536341935,
           -110.45829793381779,
           -108.90993246940401,
           -101.66458734618857,
           -99.45969769413186,
           -100,
           -99.45969769413186,
           -101.66458734618857,
           -108.90993246940401,
           -110.45829793381779,
           -92.90844536341935
          ],
          [
           -73.90844536341935,
           -91.45829793381779,
           -89.90993246940401,
           -82.66458734618857,
           -80.45969769413186,
           -81,
           -80.45969769413186,
           -82.66458734618857,
           -89.90993246940401,
           -91.45829793381779,
           -73.90844536341935
          ],
          [
           -56.90844536341935,
           -74.45829793381779,
           -72.90993246940401,
           -65.66458734618857,
           -63.45969769413186,
           -64,
           -63.45969769413186,
           -65.66458734618857,
           -72.90993246940401,
           -74.45829793381779,
           -56.90844536341935
          ],
          [
           -41.90844536341935,
           -59.45829793381779,
           -57.90993246940401,
           -50.66458734618857,
           -48.45969769413186,
           -49,
           -48.45969769413186,
           -50.66458734618857,
           -57.90993246940401,
           -59.45829793381779,
           -41.90844536341935
          ],
          [
           -28.908445363419343,
           -46.45829793381779,
           -44.90993246940401,
           -37.66458734618857,
           -35.45969769413186,
           -36,
           -35.45969769413186,
           -37.66458734618857,
           -44.90993246940401,
           -46.45829793381779,
           -28.908445363419343
          ],
          [
           -17.908445363419343,
           -35.45829793381779,
           -33.90993246940401,
           -26.66458734618857,
           -24.45969769413186,
           -25,
           -24.45969769413186,
           -26.66458734618857,
           -33.90993246940401,
           -35.45829793381779,
           -17.908445363419343
          ],
          [
           -8.908445363419343,
           -26.45829793381779,
           -24.90993246940401,
           -17.66458734618857,
           -15.45969769413186,
           -16,
           -15.45969769413186,
           -17.66458734618857,
           -24.90993246940401,
           -26.45829793381779,
           -8.908445363419343
          ],
          [
           -1.908445363419344,
           -19.45829793381779,
           -17.90993246940401,
           -10.66458734618857,
           -8.45969769413186,
           -9,
           -8.45969769413186,
           -10.66458734618857,
           -17.90993246940401,
           -19.45829793381779,
           -1.908445363419344
          ],
          [
           3.091554636580656,
           -14.458297933817791,
           -12.909932469404009,
           -5.664587346188569,
           -3.4596976941318602,
           -4,
           -3.4596976941318602,
           -5.664587346188569,
           -12.909932469404009,
           -14.458297933817791,
           3.091554636580656
          ],
          [
           6.091554636580656,
           -11.458297933817791,
           -9.909932469404009,
           -2.6645873461885694,
           -0.45969769413186023,
           -1,
           -0.45969769413186023,
           -2.6645873461885694,
           -9.909932469404009,
           -11.458297933817791,
           6.091554636580656
          ],
          [
           7.091554636580656,
           -10.458297933817791,
           -8.909932469404009,
           -1.6645873461885696,
           0.5403023058681398,
           0,
           0.5403023058681398,
           -1.6645873461885696,
           -8.909932469404009,
           -10.458297933817791,
           7.091554636580656
          ],
          [
           6.091554636580656,
           -11.458297933817791,
           -9.909932469404009,
           -2.6645873461885694,
           -0.45969769413186023,
           -1,
           -0.45969769413186023,
           -2.6645873461885694,
           -9.909932469404009,
           -11.458297933817791,
           6.091554636580656
          ],
          [
           3.091554636580656,
           -14.458297933817791,
           -12.909932469404009,
           -5.664587346188569,
           -3.4596976941318602,
           -4,
           -3.4596976941318602,
           -5.664587346188569,
           -12.909932469404009,
           -14.458297933817791,
           3.091554636580656
          ],
          [
           -1.908445363419344,
           -19.45829793381779,
           -17.90993246940401,
           -10.66458734618857,
           -8.45969769413186,
           -9,
           -8.45969769413186,
           -10.66458734618857,
           -17.90993246940401,
           -19.45829793381779,
           -1.908445363419344
          ],
          [
           -8.908445363419343,
           -26.45829793381779,
           -24.90993246940401,
           -17.66458734618857,
           -15.45969769413186,
           -16,
           -15.45969769413186,
           -17.66458734618857,
           -24.90993246940401,
           -26.45829793381779,
           -8.908445363419343
          ],
          [
           -17.908445363419343,
           -35.45829793381779,
           -33.90993246940401,
           -26.66458734618857,
           -24.45969769413186,
           -25,
           -24.45969769413186,
           -26.66458734618857,
           -33.90993246940401,
           -35.45829793381779,
           -17.908445363419343
          ],
          [
           -28.908445363419343,
           -46.45829793381779,
           -44.90993246940401,
           -37.66458734618857,
           -35.45969769413186,
           -36,
           -35.45969769413186,
           -37.66458734618857,
           -44.90993246940401,
           -46.45829793381779,
           -28.908445363419343
          ],
          [
           -41.90844536341935,
           -59.45829793381779,
           -57.90993246940401,
           -50.66458734618857,
           -48.45969769413186,
           -49,
           -48.45969769413186,
           -50.66458734618857,
           -57.90993246940401,
           -59.45829793381779,
           -41.90844536341935
          ],
          [
           -56.90844536341935,
           -74.45829793381779,
           -72.90993246940401,
           -65.66458734618857,
           -63.45969769413186,
           -64,
           -63.45969769413186,
           -65.66458734618857,
           -72.90993246940401,
           -74.45829793381779,
           -56.90844536341935
          ],
          [
           -73.90844536341935,
           -91.45829793381779,
           -89.90993246940401,
           -82.66458734618857,
           -80.45969769413186,
           -81,
           -80.45969769413186,
           -82.66458734618857,
           -89.90993246940401,
           -91.45829793381779,
           -73.90844536341935
          ],
          [
           -92.90844536341935,
           -110.45829793381779,
           -108.90993246940401,
           -101.66458734618857,
           -99.45969769413186,
           -100,
           -99.45969769413186,
           -101.66458734618857,
           -108.90993246940401,
           -110.45829793381779,
           -92.90844536341935
          ]
         ],
         "zmax": 7.091554636580656,
         "zmin": -110.45829793381779
        }
       ],
       "layout": {
        "annotations": [
         {
          "font": {
           "color": "rgba(0, 0, 0, 1.000)",
           "family": "sans-serif",
           "size": 20
          },
          "rotation": 0,
          "showarrow": false,
          "text": "Contour Plot",
          "x": 0.5349537037037038,
          "xanchor": "center",
          "xref": "paper",
          "y": 1,
          "yanchor": "top",
          "yref": "paper"
         }
        ],
        "height": 400,
        "legend_position": {
         "bgcolor": "rgba(255, 255, 255, 1.000)",
         "bordercolor": "rgba(0, 0, 0, 1.000)",
         "borderwidth": 1,
         "font": {
          "color": "rgba(0, 0, 0, 1.000)",
          "family": "sans-serif",
          "size": 11
         },
         "title": {
          "font": {
           "color": "rgba(0, 0, 0, 1.000)",
           "family": "sans-serif",
           "size": 15
          },
          "text": ""
         },
         "tracegroupgap": 0,
         "traceorder": "normal",
         "x": 1,
         "xanchor": "auto",
         "y": 1,
         "yanchor": "auto"
        },
        "margin": {
         "b": 20,
         "l": 0,
         "r": 0,
         "t": 20
        },
        "paper_bgcolor": "rgba(255, 255, 255, 1.000)",
        "plot_bgcolor": "rgba(255, 255, 255, 1.000)",
        "showlegend": true,
        "width": 600,
        "xaxis": {
         "anchor": "y",
         "domain": [
          0.07646908719743364,
          0.9934383202099737
         ],
         "gridcolor": "rgba(0, 0, 0, 0.100)",
         "gridwidth": 0.5,
         "linecolor": "rgba(0, 0, 0, 1.000)",
         "mirror": false,
         "range": [
          -5,
          5
         ],
         "showgrid": true,
         "showline": true,
         "showticklabels": true,
         "tickangle": 0,
         "tickcolor": "rgb(0, 0, 0)",
         "tickfont": {
          "color": "rgba(0, 0, 0, 1.000)",
          "family": "sans-serif",
          "size": 11
         },
         "tickmode": "array",
         "ticks": "inside",
         "ticktext": [
          "-5.0",
          "-2.5",
          "0.0",
          "2.5",
          "5.0"
         ],
         "tickvals": [
          -5,
          -2.5,
          0,
          2.5,
          5
         ],
         "title": "x",
         "titlefont": {
          "color": "rgba(0, 0, 0, 1.000)",
          "family": "sans-serif",
          "size": 15
         },
         "type": "-",
         "visible": true,
         "zeroline": false,
         "zerolinecolor": "rgba(0, 0, 0, 1.000)"
        },
        "yaxis": {
         "anchor": "x",
         "domain": [
          0.07581474190726165,
          0.9415463692038496
         ],
         "gridcolor": "rgba(0, 0, 0, 0.100)",
         "gridwidth": 0.5,
         "linecolor": "rgba(0, 0, 0, 1.000)",
         "mirror": false,
         "range": [
          -10,
          10
         ],
         "showgrid": true,
         "showline": true,
         "showticklabels": true,
         "tickangle": 0,
         "tickcolor": "rgb(0, 0, 0)",
         "tickfont": {
          "color": "rgba(0, 0, 0, 1.000)",
          "family": "sans-serif",
          "size": 11
         },
         "tickmode": "array",
         "ticks": "inside",
         "ticktext": [
          "-10",
          "-5",
          "0",
          "5",
          "10"
         ],
         "tickvals": [
          -10,
          -5,
          0,
          5,
          10
         ],
         "title": "y",
         "titlefont": {
          "color": "rgba(0, 0, 0, 1.000)",
          "family": "sans-serif",
          "size": 15
         },
         "type": "-",
         "visible": true,
         "zeroline": false,
         "zerolinecolor": "rgba(0, 0, 0, 1.000)"
        }
       }
      },
      "text/html": [
       "    <div id=\"b2bd711a-944e-4eec-99fa-d4bda7b42835\" style=\"width:600px;height:400px;\"></div>\n",
       "    <script>\n",
       "        requirejs.config({\n",
       "        paths: {\n",
       "            Plotly: 'https://cdn.plot.ly/plotly-2.6.3.min'\n",
       "        }\n",
       "    });\n",
       "    require(['Plotly'], function (Plotly) {\n",
       "\n",
       "        Plotly.newPlot('b2bd711a-944e-4eec-99fa-d4bda7b42835', [\n",
       "    {\n",
       "        \"xaxis\": \"x\",\n",
       "        \"colorbar\": {\n",
       "            \"title\": \"\"\n",
       "        },\n",
       "        \"colorscale\": [\n",
       "            [\n",
       "                0.0,\n",
       "                \"rgba(0, 0, 4, 1.000)\"\n",
       "            ],\n",
       "            [\n",
       "                0.00392156862745098,\n",
       "                \"rgba(1, 0, 5, 1.000)\"\n",
       "            ],\n",
       "            [\n",
       "                0.00784313725490196,\n",
       "                \"rgba(1, 1, 6, 1.000)\"\n",
       "            ],\n",
       "            [\n",
       "                0.011764705882352941,\n",
       "                \"rgba(1, 1, 8, 1.000)\"\n",
       "            ],\n",
       "            [\n",
       "                0.01568627450980392,\n",
       "                \"rgba(2, 1, 10, 1.000)\"\n",
       "            ],\n",
       "            [\n",
       "                0.0196078431372549,\n",
       "                \"rgba(2, 2, 12, 1.000)\"\n",
       "            ],\n",
       "            [\n",
       "                0.023529411764705882,\n",
       "                \"rgba(2, 2, 14, 1.000)\"\n",
       "            ],\n",
       "            [\n",
       "                0.027450980392156862,\n",
       "                \"rgba(3, 2, 16, 1.000)\"\n",
       "            ],\n",
       "            [\n",
       "                0.03137254901960784,\n",
       "                \"rgba(4, 3, 18, 1.000)\"\n",
       "            ],\n",
       "            [\n",
       "                0.03529411764705882,\n",
       "                \"rgba(4, 3, 20, 1.000)\"\n",
       "            ],\n",
       "            [\n",
       "                0.0392156862745098,\n",
       "                \"rgba(5, 4, 23, 1.000)\"\n",
       "            ],\n",
       "            [\n",
       "                0.043137254901960784,\n",
       "                \"rgba(6, 4, 25, 1.000)\"\n",
       "            ],\n",
       "            [\n",
       "                0.047058823529411764,\n",
       "                \"rgba(7, 5, 27, 1.000)\"\n",
       "            ],\n",
       "            [\n",
       "                0.050980392156862744,\n",
       "                \"rgba(8, 5, 29, 1.000)\"\n",
       "            ],\n",
       "            [\n",
       "                0.054901960784313725,\n",
       "                \"rgba(9, 6, 31, 1.000)\"\n",
       "            ],\n",
       "            [\n",
       "                0.058823529411764705,\n",
       "                \"rgba(10, 7, 34, 1.000)\"\n",
       "            ],\n",
       "            [\n",
       "                0.06274509803921569,\n",
       "                \"rgba(11, 7, 36, 1.000)\"\n",
       "            ],\n",
       "            [\n",
       "                0.06666666666666667,\n",
       "                \"rgba(12, 8, 38, 1.000)\"\n",
       "            ],\n",
       "            [\n",
       "                0.07058823529411765,\n",
       "                \"rgba(13, 8, 41, 1.000)\"\n",
       "            ],\n",
       "            [\n",
       "                0.07450980392156863,\n",
       "                \"rgba(14, 9, 43, 1.000)\"\n",
       "            ],\n",
       "            [\n",
       "                0.0784313725490196,\n",
       "                \"rgba(16, 9, 45, 1.000)\"\n",
       "            ],\n",
       "            [\n",
       "                0.08235294117647059,\n",
       "                \"rgba(17, 10, 48, 1.000)\"\n",
       "            ],\n",
       "            [\n",
       "                0.08627450980392157,\n",
       "                \"rgba(18, 10, 50, 1.000)\"\n",
       "            ],\n",
       "            [\n",
       "                0.09019607843137255,\n",
       "                \"rgba(20, 11, 52, 1.000)\"\n",
       "            ],\n",
       "            [\n",
       "                0.09411764705882353,\n",
       "                \"rgba(21, 11, 55, 1.000)\"\n",
       "            ],\n",
       "            [\n",
       "                0.09803921568627451,\n",
       "                \"rgba(22, 11, 57, 1.000)\"\n",
       "            ],\n",
       "            [\n",
       "                0.10196078431372549,\n",
       "                \"rgba(24, 12, 60, 1.000)\"\n",
       "            ],\n",
       "            [\n",
       "                0.10588235294117647,\n",
       "                \"rgba(25, 12, 62, 1.000)\"\n",
       "            ],\n",
       "            [\n",
       "                0.10980392156862745,\n",
       "                \"rgba(27, 12, 65, 1.000)\"\n",
       "            ],\n",
       "            [\n",
       "                0.11372549019607843,\n",
       "                \"rgba(28, 12, 67, 1.000)\"\n",
       "            ],\n",
       "            [\n",
       "                0.11764705882352941,\n",
       "                \"rgba(30, 12, 69, 1.000)\"\n",
       "            ],\n",
       "            [\n",
       "                0.12156862745098039,\n",
       "                \"rgba(31, 12, 72, 1.000)\"\n",
       "            ],\n",
       "            [\n",
       "                0.12549019607843137,\n",
       "                \"rgba(33, 12, 74, 1.000)\"\n",
       "            ],\n",
       "            [\n",
       "                0.12941176470588237,\n",
       "                \"rgba(35, 12, 76, 1.000)\"\n",
       "            ],\n",
       "            [\n",
       "                0.13333333333333333,\n",
       "                \"rgba(36, 12, 79, 1.000)\"\n",
       "            ],\n",
       "            [\n",
       "                0.13725490196078433,\n",
       "                \"rgba(38, 12, 81, 1.000)\"\n",
       "            ],\n",
       "            [\n",
       "                0.1411764705882353,\n",
       "                \"rgba(40, 11, 83, 1.000)\"\n",
       "            ],\n",
       "            [\n",
       "                0.1450980392156863,\n",
       "                \"rgba(41, 11, 85, 1.000)\"\n",
       "            ],\n",
       "            [\n",
       "                0.14901960784313725,\n",
       "                \"rgba(43, 11, 87, 1.000)\"\n",
       "            ],\n",
       "            [\n",
       "                0.15294117647058825,\n",
       "                \"rgba(45, 11, 89, 1.000)\"\n",
       "            ],\n",
       "            [\n",
       "                0.1568627450980392,\n",
       "                \"rgba(47, 10, 91, 1.000)\"\n",
       "            ],\n",
       "            [\n",
       "                0.1607843137254902,\n",
       "                \"rgba(49, 10, 92, 1.000)\"\n",
       "            ],\n",
       "            [\n",
       "                0.16470588235294117,\n",
       "                \"rgba(50, 10, 94, 1.000)\"\n",
       "            ],\n",
       "            [\n",
       "                0.16862745098039217,\n",
       "                \"rgba(52, 10, 95, 1.000)\"\n",
       "            ],\n",
       "            [\n",
       "                0.17254901960784313,\n",
       "                \"rgba(54, 9, 97, 1.000)\"\n",
       "            ],\n",
       "            [\n",
       "                0.17647058823529413,\n",
       "                \"rgba(56, 9, 98, 1.000)\"\n",
       "            ],\n",
       "            [\n",
       "                0.1803921568627451,\n",
       "                \"rgba(57, 9, 99, 1.000)\"\n",
       "            ],\n",
       "            [\n",
       "                0.1843137254901961,\n",
       "                \"rgba(59, 9, 100, 1.000)\"\n",
       "            ],\n",
       "            [\n",
       "                0.18823529411764706,\n",
       "                \"rgba(61, 9, 101, 1.000)\"\n",
       "            ],\n",
       "            [\n",
       "                0.19215686274509805,\n",
       "                \"rgba(62, 9, 102, 1.000)\"\n",
       "            ],\n",
       "            [\n",
       "                0.19607843137254902,\n",
       "                \"rgba(64, 10, 103, 1.000)\"\n",
       "            ],\n",
       "            [\n",
       "                0.2,\n",
       "                \"rgba(66, 10, 104, 1.000)\"\n",
       "            ],\n",
       "            [\n",
       "                0.20392156862745098,\n",
       "                \"rgba(68, 10, 104, 1.000)\"\n",
       "            ],\n",
       "            [\n",
       "                0.20784313725490197,\n",
       "                \"rgba(69, 10, 105, 1.000)\"\n",
       "            ],\n",
       "            [\n",
       "                0.21176470588235294,\n",
       "                \"rgba(71, 11, 106, 1.000)\"\n",
       "            ],\n",
       "            [\n",
       "                0.21568627450980393,\n",
       "                \"rgba(73, 11, 106, 1.000)\"\n",
       "            ],\n",
       "            [\n",
       "                0.2196078431372549,\n",
       "                \"rgba(74, 12, 107, 1.000)\"\n",
       "            ],\n",
       "            [\n",
       "                0.2235294117647059,\n",
       "                \"rgba(76, 12, 107, 1.000)\"\n",
       "            ],\n",
       "            [\n",
       "                0.22745098039215686,\n",
       "                \"rgba(77, 13, 108, 1.000)\"\n",
       "            ],\n",
       "            [\n",
       "                0.23137254901960785,\n",
       "                \"rgba(79, 13, 108, 1.000)\"\n",
       "            ],\n",
       "            [\n",
       "                0.23529411764705882,\n",
       "                \"rgba(81, 14, 108, 1.000)\"\n",
       "            ],\n",
       "            [\n",
       "                0.23921568627450981,\n",
       "                \"rgba(82, 14, 109, 1.000)\"\n",
       "            ],\n",
       "            [\n",
       "                0.24313725490196078,\n",
       "                \"rgba(84, 15, 109, 1.000)\"\n",
       "            ],\n",
       "            [\n",
       "                0.24705882352941178,\n",
       "                \"rgba(85, 15, 109, 1.000)\"\n",
       "            ],\n",
       "            [\n",
       "                0.25098039215686274,\n",
       "                \"rgba(87, 16, 110, 1.000)\"\n",
       "            ],\n",
       "            [\n",
       "                0.2549019607843137,\n",
       "                \"rgba(89, 16, 110, 1.000)\"\n",
       "            ],\n",
       "            [\n",
       "                0.25882352941176473,\n",
       "                \"rgba(90, 17, 110, 1.000)\"\n",
       "            ],\n",
       "            [\n",
       "                0.2627450980392157,\n",
       "                \"rgba(92, 18, 110, 1.000)\"\n",
       "            ],\n",
       "            [\n",
       "                0.26666666666666666,\n",
       "                \"rgba(93, 18, 110, 1.000)\"\n",
       "            ],\n",
       "            [\n",
       "                0.27058823529411763,\n",
       "                \"rgba(95, 19, 110, 1.000)\"\n",
       "            ],\n",
       "            [\n",
       "                0.27450980392156865,\n",
       "                \"rgba(97, 19, 110, 1.000)\"\n",
       "            ],\n",
       "            [\n",
       "                0.2784313725490196,\n",
       "                \"rgba(98, 20, 110, 1.000)\"\n",
       "            ],\n",
       "            [\n",
       "                0.2823529411764706,\n",
       "                \"rgba(100, 21, 110, 1.000)\"\n",
       "            ],\n",
       "            [\n",
       "                0.28627450980392155,\n",
       "                \"rgba(101, 21, 110, 1.000)\"\n",
       "            ],\n",
       "            [\n",
       "                0.2901960784313726,\n",
       "                \"rgba(103, 22, 110, 1.000)\"\n",
       "            ],\n",
       "            [\n",
       "                0.29411764705882354,\n",
       "                \"rgba(105, 22, 110, 1.000)\"\n",
       "            ],\n",
       "            [\n",
       "                0.2980392156862745,\n",
       "                \"rgba(106, 23, 110, 1.000)\"\n",
       "            ],\n",
       "            [\n",
       "                0.30196078431372547,\n",
       "                \"rgba(108, 24, 110, 1.000)\"\n",
       "            ],\n",
       "            [\n",
       "                0.3058823529411765,\n",
       "                \"rgba(109, 24, 110, 1.000)\"\n",
       "            ],\n",
       "            [\n",
       "                0.30980392156862746,\n",
       "                \"rgba(111, 25, 110, 1.000)\"\n",
       "            ],\n",
       "            [\n",
       "                0.3137254901960784,\n",
       "                \"rgba(113, 25, 110, 1.000)\"\n",
       "            ],\n",
       "            [\n",
       "                0.3176470588235294,\n",
       "                \"rgba(114, 26, 110, 1.000)\"\n",
       "            ],\n",
       "            [\n",
       "                0.3215686274509804,\n",
       "                \"rgba(116, 26, 110, 1.000)\"\n",
       "            ],\n",
       "            [\n",
       "                0.3254901960784314,\n",
       "                \"rgba(117, 27, 110, 1.000)\"\n",
       "            ],\n",
       "            [\n",
       "                0.32941176470588235,\n",
       "                \"rgba(119, 28, 109, 1.000)\"\n",
       "            ],\n",
       "            [\n",
       "                0.3333333333333333,\n",
       "                \"rgba(120, 28, 109, 1.000)\"\n",
       "            ],\n",
       "            [\n",
       "                0.33725490196078434,\n",
       "                \"rgba(122, 29, 109, 1.000)\"\n",
       "            ],\n",
       "            [\n",
       "                0.3411764705882353,\n",
       "                \"rgba(124, 29, 109, 1.000)\"\n",
       "            ],\n",
       "            [\n",
       "                0.34509803921568627,\n",
       "                \"rgba(125, 30, 109, 1.000)\"\n",
       "            ],\n",
       "            [\n",
       "                0.34901960784313724,\n",
       "                \"rgba(127, 30, 108, 1.000)\"\n",
       "            ],\n",
       "            [\n",
       "                0.35294117647058826,\n",
       "                \"rgba(128, 31, 108, 1.000)\"\n",
       "            ],\n",
       "            [\n",
       "                0.3568627450980392,\n",
       "                \"rgba(130, 32, 108, 1.000)\"\n",
       "            ],\n",
       "            [\n",
       "                0.3607843137254902,\n",
       "                \"rgba(132, 32, 107, 1.000)\"\n",
       "            ],\n",
       "            [\n",
       "                0.36470588235294116,\n",
       "                \"rgba(133, 33, 107, 1.000)\"\n",
       "            ],\n",
       "            [\n",
       "                0.3686274509803922,\n",
       "                \"rgba(135, 33, 107, 1.000)\"\n",
       "            ],\n",
       "            [\n",
       "                0.37254901960784315,\n",
       "                \"rgba(136, 34, 106, 1.000)\"\n",
       "            ],\n",
       "            [\n",
       "                0.3764705882352941,\n",
       "                \"rgba(138, 34, 106, 1.000)\"\n",
       "            ],\n",
       "            [\n",
       "                0.3803921568627451,\n",
       "                \"rgba(140, 35, 105, 1.000)\"\n",
       "            ],\n",
       "            [\n",
       "                0.3843137254901961,\n",
       "                \"rgba(141, 35, 105, 1.000)\"\n",
       "            ],\n",
       "            [\n",
       "                0.38823529411764707,\n",
       "                \"rgba(143, 36, 105, 1.000)\"\n",
       "            ],\n",
       "            [\n",
       "                0.39215686274509803,\n",
       "                \"rgba(144, 37, 104, 1.000)\"\n",
       "            ],\n",
       "            [\n",
       "                0.396078431372549,\n",
       "                \"rgba(146, 37, 104, 1.000)\"\n",
       "            ],\n",
       "            [\n",
       "                0.4,\n",
       "                \"rgba(147, 38, 103, 1.000)\"\n",
       "            ],\n",
       "            [\n",
       "                0.403921568627451,\n",
       "                \"rgba(149, 38, 103, 1.000)\"\n",
       "            ],\n",
       "            [\n",
       "                0.40784313725490196,\n",
       "                \"rgba(151, 39, 102, 1.000)\"\n",
       "            ],\n",
       "            [\n",
       "                0.4117647058823529,\n",
       "                \"rgba(152, 39, 102, 1.000)\"\n",
       "            ],\n",
       "            [\n",
       "                0.41568627450980394,\n",
       "                \"rgba(154, 40, 101, 1.000)\"\n",
       "            ],\n",
       "            [\n",
       "                0.4196078431372549,\n",
       "                \"rgba(155, 41, 100, 1.000)\"\n",
       "            ],\n",
       "            [\n",
       "                0.4235294117647059,\n",
       "                \"rgba(157, 41, 100, 1.000)\"\n",
       "            ],\n",
       "            [\n",
       "                0.42745098039215684,\n",
       "                \"rgba(159, 42, 99, 1.000)\"\n",
       "            ],\n",
       "            [\n",
       "                0.43137254901960786,\n",
       "                \"rgba(160, 42, 99, 1.000)\"\n",
       "            ],\n",
       "            [\n",
       "                0.43529411764705883,\n",
       "                \"rgba(162, 43, 98, 1.000)\"\n",
       "            ],\n",
       "            [\n",
       "                0.4392156862745098,\n",
       "                \"rgba(163, 44, 97, 1.000)\"\n",
       "            ],\n",
       "            [\n",
       "                0.44313725490196076,\n",
       "                \"rgba(165, 44, 96, 1.000)\"\n",
       "            ],\n",
       "            [\n",
       "                0.4470588235294118,\n",
       "                \"rgba(166, 45, 96, 1.000)\"\n",
       "            ],\n",
       "            [\n",
       "                0.45098039215686275,\n",
       "                \"rgba(168, 46, 95, 1.000)\"\n",
       "            ],\n",
       "            [\n",
       "                0.4549019607843137,\n",
       "                \"rgba(169, 46, 94, 1.000)\"\n",
       "            ],\n",
       "            [\n",
       "                0.4588235294117647,\n",
       "                \"rgba(171, 47, 94, 1.000)\"\n",
       "            ],\n",
       "            [\n",
       "                0.4627450980392157,\n",
       "                \"rgba(173, 48, 93, 1.000)\"\n",
       "            ],\n",
       "            [\n",
       "                0.4666666666666667,\n",
       "                \"rgba(174, 48, 92, 1.000)\"\n",
       "            ],\n",
       "            [\n",
       "                0.47058823529411764,\n",
       "                \"rgba(176, 49, 91, 1.000)\"\n",
       "            ],\n",
       "            [\n",
       "                0.4745098039215686,\n",
       "                \"rgba(177, 50, 90, 1.000)\"\n",
       "            ],\n",
       "            [\n",
       "                0.47843137254901963,\n",
       "                \"rgba(179, 50, 90, 1.000)\"\n",
       "            ],\n",
       "            [\n",
       "                0.4823529411764706,\n",
       "                \"rgba(180, 51, 89, 1.000)\"\n",
       "            ],\n",
       "            [\n",
       "                0.48627450980392156,\n",
       "                \"rgba(182, 52, 88, 1.000)\"\n",
       "            ],\n",
       "            [\n",
       "                0.49019607843137253,\n",
       "                \"rgba(183, 53, 87, 1.000)\"\n",
       "            ],\n",
       "            [\n",
       "                0.49411764705882355,\n",
       "                \"rgba(185, 53, 86, 1.000)\"\n",
       "            ],\n",
       "            [\n",
       "                0.4980392156862745,\n",
       "                \"rgba(186, 54, 85, 1.000)\"\n",
       "            ],\n",
       "            [\n",
       "                0.5019607843137255,\n",
       "                \"rgba(188, 55, 84, 1.000)\"\n",
       "            ],\n",
       "            [\n",
       "                0.5058823529411764,\n",
       "                \"rgba(189, 56, 83, 1.000)\"\n",
       "            ],\n",
       "            [\n",
       "                0.5098039215686274,\n",
       "                \"rgba(191, 57, 82, 1.000)\"\n",
       "            ],\n",
       "            [\n",
       "                0.5137254901960784,\n",
       "                \"rgba(192, 58, 81, 1.000)\"\n",
       "            ],\n",
       "            [\n",
       "                0.5176470588235295,\n",
       "                \"rgba(193, 58, 80, 1.000)\"\n",
       "            ],\n",
       "            [\n",
       "                0.5215686274509804,\n",
       "                \"rgba(195, 59, 79, 1.000)\"\n",
       "            ],\n",
       "            [\n",
       "                0.5254901960784314,\n",
       "                \"rgba(196, 60, 78, 1.000)\"\n",
       "            ],\n",
       "            [\n",
       "                0.5294117647058824,\n",
       "                \"rgba(198, 61, 77, 1.000)\"\n",
       "            ],\n",
       "            [\n",
       "                0.5333333333333333,\n",
       "                \"rgba(199, 62, 76, 1.000)\"\n",
       "            ],\n",
       "            [\n",
       "                0.5372549019607843,\n",
       "                \"rgba(200, 63, 75, 1.000)\"\n",
       "            ],\n",
       "            [\n",
       "                0.5411764705882353,\n",
       "                \"rgba(202, 64, 74, 1.000)\"\n",
       "            ],\n",
       "            [\n",
       "                0.5450980392156862,\n",
       "                \"rgba(203, 65, 73, 1.000)\"\n",
       "            ],\n",
       "            [\n",
       "                0.5490196078431373,\n",
       "                \"rgba(204, 66, 72, 1.000)\"\n",
       "            ],\n",
       "            [\n",
       "                0.5529411764705883,\n",
       "                \"rgba(206, 67, 71, 1.000)\"\n",
       "            ],\n",
       "            [\n",
       "                0.5568627450980392,\n",
       "                \"rgba(207, 68, 70, 1.000)\"\n",
       "            ],\n",
       "            [\n",
       "                0.5607843137254902,\n",
       "                \"rgba(208, 69, 69, 1.000)\"\n",
       "            ],\n",
       "            [\n",
       "                0.5647058823529412,\n",
       "                \"rgba(210, 70, 68, 1.000)\"\n",
       "            ],\n",
       "            [\n",
       "                0.5686274509803921,\n",
       "                \"rgba(211, 71, 67, 1.000)\"\n",
       "            ],\n",
       "            [\n",
       "                0.5725490196078431,\n",
       "                \"rgba(212, 72, 66, 1.000)\"\n",
       "            ],\n",
       "            [\n",
       "                0.5764705882352941,\n",
       "                \"rgba(213, 74, 65, 1.000)\"\n",
       "            ],\n",
       "            [\n",
       "                0.5803921568627451,\n",
       "                \"rgba(215, 75, 63, 1.000)\"\n",
       "            ],\n",
       "            [\n",
       "                0.5843137254901961,\n",
       "                \"rgba(216, 76, 62, 1.000)\"\n",
       "            ],\n",
       "            [\n",
       "                0.5882352941176471,\n",
       "                \"rgba(217, 77, 61, 1.000)\"\n",
       "            ],\n",
       "            [\n",
       "                0.592156862745098,\n",
       "                \"rgba(218, 78, 60, 1.000)\"\n",
       "            ],\n",
       "            [\n",
       "                0.596078431372549,\n",
       "                \"rgba(219, 80, 59, 1.000)\"\n",
       "            ],\n",
       "            [\n",
       "                0.6,\n",
       "                \"rgba(221, 81, 58, 1.000)\"\n",
       "            ],\n",
       "            [\n",
       "                0.6039215686274509,\n",
       "                \"rgba(222, 82, 56, 1.000)\"\n",
       "            ],\n",
       "            [\n",
       "                0.6078431372549019,\n",
       "                \"rgba(223, 83, 55, 1.000)\"\n",
       "            ],\n",
       "            [\n",
       "                0.611764705882353,\n",
       "                \"rgba(224, 85, 54, 1.000)\"\n",
       "            ],\n",
       "            [\n",
       "                0.615686274509804,\n",
       "                \"rgba(225, 86, 53, 1.000)\"\n",
       "            ],\n",
       "            [\n",
       "                0.6196078431372549,\n",
       "                \"rgba(226, 87, 52, 1.000)\"\n",
       "            ],\n",
       "            [\n",
       "                0.6235294117647059,\n",
       "                \"rgba(227, 89, 51, 1.000)\"\n",
       "            ],\n",
       "            [\n",
       "                0.6274509803921569,\n",
       "                \"rgba(228, 90, 49, 1.000)\"\n",
       "            ],\n",
       "            [\n",
       "                0.6313725490196078,\n",
       "                \"rgba(229, 92, 48, 1.000)\"\n",
       "            ],\n",
       "            [\n",
       "                0.6352941176470588,\n",
       "                \"rgba(230, 93, 47, 1.000)\"\n",
       "            ],\n",
       "            [\n",
       "                0.6392156862745098,\n",
       "                \"rgba(231, 94, 46, 1.000)\"\n",
       "            ],\n",
       "            [\n",
       "                0.6431372549019608,\n",
       "                \"rgba(232, 96, 45, 1.000)\"\n",
       "            ],\n",
       "            [\n",
       "                0.6470588235294118,\n",
       "                \"rgba(233, 97, 43, 1.000)\"\n",
       "            ],\n",
       "            [\n",
       "                0.6509803921568628,\n",
       "                \"rgba(234, 99, 42, 1.000)\"\n",
       "            ],\n",
       "            [\n",
       "                0.6549019607843137,\n",
       "                \"rgba(235, 100, 41, 1.000)\"\n",
       "            ],\n",
       "            [\n",
       "                0.6588235294117647,\n",
       "                \"rgba(235, 102, 40, 1.000)\"\n",
       "            ],\n",
       "            [\n",
       "                0.6627450980392157,\n",
       "                \"rgba(236, 103, 38, 1.000)\"\n",
       "            ],\n",
       "            [\n",
       "                0.6666666666666666,\n",
       "                \"rgba(237, 105, 37, 1.000)\"\n",
       "            ],\n",
       "            [\n",
       "                0.6705882352941176,\n",
       "                \"rgba(238, 106, 36, 1.000)\"\n",
       "            ],\n",
       "            [\n",
       "                0.6745098039215687,\n",
       "                \"rgba(239, 108, 35, 1.000)\"\n",
       "            ],\n",
       "            [\n",
       "                0.6784313725490196,\n",
       "                \"rgba(239, 110, 33, 1.000)\"\n",
       "            ],\n",
       "            [\n",
       "                0.6823529411764706,\n",
       "                \"rgba(240, 111, 32, 1.000)\"\n",
       "            ],\n",
       "            [\n",
       "                0.6862745098039216,\n",
       "                \"rgba(241, 113, 31, 1.000)\"\n",
       "            ],\n",
       "            [\n",
       "                0.6901960784313725,\n",
       "                \"rgba(241, 115, 29, 1.000)\"\n",
       "            ],\n",
       "            [\n",
       "                0.6941176470588235,\n",
       "                \"rgba(242, 116, 28, 1.000)\"\n",
       "            ],\n",
       "            [\n",
       "                0.6980392156862745,\n",
       "                \"rgba(243, 118, 27, 1.000)\"\n",
       "            ],\n",
       "            [\n",
       "                0.7019607843137254,\n",
       "                \"rgba(243, 120, 25, 1.000)\"\n",
       "            ],\n",
       "            [\n",
       "                0.7058823529411765,\n",
       "                \"rgba(244, 121, 24, 1.000)\"\n",
       "            ],\n",
       "            [\n",
       "                0.7098039215686275,\n",
       "                \"rgba(245, 123, 23, 1.000)\"\n",
       "            ],\n",
       "            [\n",
       "                0.7137254901960784,\n",
       "                \"rgba(245, 125, 21, 1.000)\"\n",
       "            ],\n",
       "            [\n",
       "                0.7176470588235294,\n",
       "                \"rgba(246, 126, 20, 1.000)\"\n",
       "            ],\n",
       "            [\n",
       "                0.7215686274509804,\n",
       "                \"rgba(246, 128, 19, 1.000)\"\n",
       "            ],\n",
       "            [\n",
       "                0.7254901960784313,\n",
       "                \"rgba(247, 130, 18, 1.000)\"\n",
       "            ],\n",
       "            [\n",
       "                0.7294117647058823,\n",
       "                \"rgba(247, 132, 16, 1.000)\"\n",
       "            ],\n",
       "            [\n",
       "                0.7333333333333333,\n",
       "                \"rgba(248, 133, 15, 1.000)\"\n",
       "            ],\n",
       "            [\n",
       "                0.7372549019607844,\n",
       "                \"rgba(248, 135, 14, 1.000)\"\n",
       "            ],\n",
       "            [\n",
       "                0.7411764705882353,\n",
       "                \"rgba(248, 137, 12, 1.000)\"\n",
       "            ],\n",
       "            [\n",
       "                0.7450980392156863,\n",
       "                \"rgba(249, 139, 11, 1.000)\"\n",
       "            ],\n",
       "            [\n",
       "                0.7490196078431373,\n",
       "                \"rgba(249, 140, 10, 1.000)\"\n",
       "            ],\n",
       "            [\n",
       "                0.7529411764705882,\n",
       "                \"rgba(249, 142, 9, 1.000)\"\n",
       "            ],\n",
       "            [\n",
       "                0.7568627450980392,\n",
       "                \"rgba(250, 144, 8, 1.000)\"\n",
       "            ],\n",
       "            [\n",
       "                0.7607843137254902,\n",
       "                \"rgba(250, 146, 7, 1.000)\"\n",
       "            ],\n",
       "            [\n",
       "                0.7647058823529411,\n",
       "                \"rgba(250, 148, 7, 1.000)\"\n",
       "            ],\n",
       "            [\n",
       "                0.7686274509803922,\n",
       "                \"rgba(251, 150, 6, 1.000)\"\n",
       "            ],\n",
       "            [\n",
       "                0.7725490196078432,\n",
       "                \"rgba(251, 151, 6, 1.000)\"\n",
       "            ],\n",
       "            [\n",
       "                0.7764705882352941,\n",
       "                \"rgba(251, 153, 6, 1.000)\"\n",
       "            ],\n",
       "            [\n",
       "                0.7803921568627451,\n",
       "                \"rgba(251, 155, 6, 1.000)\"\n",
       "            ],\n",
       "            [\n",
       "                0.7843137254901961,\n",
       "                \"rgba(251, 157, 7, 1.000)\"\n",
       "            ],\n",
       "            [\n",
       "                0.788235294117647,\n",
       "                \"rgba(252, 159, 7, 1.000)\"\n",
       "            ],\n",
       "            [\n",
       "                0.792156862745098,\n",
       "                \"rgba(252, 161, 8, 1.000)\"\n",
       "            ],\n",
       "            [\n",
       "                0.796078431372549,\n",
       "                \"rgba(252, 163, 9, 1.000)\"\n",
       "            ],\n",
       "            [\n",
       "                0.8,\n",
       "                \"rgba(252, 165, 10, 1.000)\"\n",
       "            ],\n",
       "            [\n",
       "                0.803921568627451,\n",
       "                \"rgba(252, 166, 12, 1.000)\"\n",
       "            ],\n",
       "            [\n",
       "                0.807843137254902,\n",
       "                \"rgba(252, 168, 13, 1.000)\"\n",
       "            ],\n",
       "            [\n",
       "                0.8117647058823529,\n",
       "                \"rgba(252, 170, 15, 1.000)\"\n",
       "            ],\n",
       "            [\n",
       "                0.8156862745098039,\n",
       "                \"rgba(252, 172, 17, 1.000)\"\n",
       "            ],\n",
       "            [\n",
       "                0.8196078431372549,\n",
       "                \"rgba(252, 174, 18, 1.000)\"\n",
       "            ],\n",
       "            [\n",
       "                0.8235294117647058,\n",
       "                \"rgba(252, 176, 20, 1.000)\"\n",
       "            ],\n",
       "            [\n",
       "                0.8274509803921568,\n",
       "                \"rgba(252, 178, 22, 1.000)\"\n",
       "            ],\n",
       "            [\n",
       "                0.8313725490196079,\n",
       "                \"rgba(252, 180, 24, 1.000)\"\n",
       "            ],\n",
       "            [\n",
       "                0.8352941176470589,\n",
       "                \"rgba(251, 182, 26, 1.000)\"\n",
       "            ],\n",
       "            [\n",
       "                0.8392156862745098,\n",
       "                \"rgba(251, 184, 29, 1.000)\"\n",
       "            ],\n",
       "            [\n",
       "                0.8431372549019608,\n",
       "                \"rgba(251, 186, 31, 1.000)\"\n",
       "            ],\n",
       "            [\n",
       "                0.8470588235294118,\n",
       "                \"rgba(251, 188, 33, 1.000)\"\n",
       "            ],\n",
       "            [\n",
       "                0.8509803921568627,\n",
       "                \"rgba(251, 190, 35, 1.000)\"\n",
       "            ],\n",
       "            [\n",
       "                0.8549019607843137,\n",
       "                \"rgba(250, 192, 38, 1.000)\"\n",
       "            ],\n",
       "            [\n",
       "                0.8588235294117647,\n",
       "                \"rgba(250, 194, 40, 1.000)\"\n",
       "            ],\n",
       "            [\n",
       "                0.8627450980392157,\n",
       "                \"rgba(250, 196, 42, 1.000)\"\n",
       "            ],\n",
       "            [\n",
       "                0.8666666666666667,\n",
       "                \"rgba(250, 198, 45, 1.000)\"\n",
       "            ],\n",
       "            [\n",
       "                0.8705882352941177,\n",
       "                \"rgba(249, 199, 47, 1.000)\"\n",
       "            ],\n",
       "            [\n",
       "                0.8745098039215686,\n",
       "                \"rgba(249, 201, 50, 1.000)\"\n",
       "            ],\n",
       "            [\n",
       "                0.8784313725490196,\n",
       "                \"rgba(249, 203, 53, 1.000)\"\n",
       "            ],\n",
       "            [\n",
       "                0.8823529411764706,\n",
       "                \"rgba(248, 205, 55, 1.000)\"\n",
       "            ],\n",
       "            [\n",
       "                0.8862745098039215,\n",
       "                \"rgba(248, 207, 58, 1.000)\"\n",
       "            ],\n",
       "            [\n",
       "                0.8901960784313725,\n",
       "                \"rgba(247, 209, 61, 1.000)\"\n",
       "            ],\n",
       "            [\n",
       "                0.8941176470588236,\n",
       "                \"rgba(247, 211, 64, 1.000)\"\n",
       "            ],\n",
       "            [\n",
       "                0.8980392156862745,\n",
       "                \"rgba(246, 213, 67, 1.000)\"\n",
       "            ],\n",
       "            [\n",
       "                0.9019607843137255,\n",
       "                \"rgba(246, 215, 70, 1.000)\"\n",
       "            ],\n",
       "            [\n",
       "                0.9058823529411765,\n",
       "                \"rgba(245, 217, 73, 1.000)\"\n",
       "            ],\n",
       "            [\n",
       "                0.9098039215686274,\n",
       "                \"rgba(245, 219, 76, 1.000)\"\n",
       "            ],\n",
       "            [\n",
       "                0.9137254901960784,\n",
       "                \"rgba(244, 221, 79, 1.000)\"\n",
       "            ],\n",
       "            [\n",
       "                0.9176470588235294,\n",
       "                \"rgba(244, 223, 83, 1.000)\"\n",
       "            ],\n",
       "            [\n",
       "                0.9215686274509803,\n",
       "                \"rgba(244, 225, 86, 1.000)\"\n",
       "            ],\n",
       "            [\n",
       "                0.9254901960784314,\n",
       "                \"rgba(243, 227, 90, 1.000)\"\n",
       "            ],\n",
       "            [\n",
       "                0.9294117647058824,\n",
       "                \"rgba(243, 229, 93, 1.000)\"\n",
       "            ],\n",
       "            [\n",
       "                0.9333333333333333,\n",
       "                \"rgba(242, 230, 97, 1.000)\"\n",
       "            ],\n",
       "            [\n",
       "                0.9372549019607843,\n",
       "                \"rgba(242, 232, 101, 1.000)\"\n",
       "            ],\n",
       "            [\n",
       "                0.9411764705882353,\n",
       "                \"rgba(242, 234, 105, 1.000)\"\n",
       "            ],\n",
       "            [\n",
       "                0.9450980392156862,\n",
       "                \"rgba(241, 236, 109, 1.000)\"\n",
       "            ],\n",
       "            [\n",
       "                0.9490196078431372,\n",
       "                \"rgba(241, 237, 113, 1.000)\"\n",
       "            ],\n",
       "            [\n",
       "                0.9529411764705882,\n",
       "                \"rgba(241, 239, 117, 1.000)\"\n",
       "            ],\n",
       "            [\n",
       "                0.9568627450980393,\n",
       "                \"rgba(241, 241, 121, 1.000)\"\n",
       "            ],\n",
       "            [\n",
       "                0.9607843137254902,\n",
       "                \"rgba(242, 242, 125, 1.000)\"\n",
       "            ],\n",
       "            [\n",
       "                0.9647058823529412,\n",
       "                \"rgba(242, 244, 130, 1.000)\"\n",
       "            ],\n",
       "            [\n",
       "                0.9686274509803922,\n",
       "                \"rgba(243, 245, 134, 1.000)\"\n",
       "            ],\n",
       "            [\n",
       "                0.9725490196078431,\n",
       "                \"rgba(243, 246, 138, 1.000)\"\n",
       "            ],\n",
       "            [\n",
       "                0.9764705882352941,\n",
       "                \"rgba(244, 248, 142, 1.000)\"\n",
       "            ],\n",
       "            [\n",
       "                0.9803921568627451,\n",
       "                \"rgba(245, 249, 146, 1.000)\"\n",
       "            ],\n",
       "            [\n",
       "                0.984313725490196,\n",
       "                \"rgba(246, 250, 150, 1.000)\"\n",
       "            ],\n",
       "            [\n",
       "                0.9882352941176471,\n",
       "                \"rgba(248, 251, 154, 1.000)\"\n",
       "            ],\n",
       "            [\n",
       "                0.9921568627450981,\n",
       "                \"rgba(249, 252, 157, 1.000)\"\n",
       "            ],\n",
       "            [\n",
       "                0.996078431372549,\n",
       "                \"rgba(250, 253, 161, 1.000)\"\n",
       "            ],\n",
       "            [\n",
       "                1.0,\n",
       "                \"rgba(252, 255, 164, 1.000)\"\n",
       "            ]\n",
       "        ],\n",
       "        \"yaxis\": \"y\",\n",
       "        \"contours\": {\n",
       "            \"showlabels\": false,\n",
       "            \"coloring\": \"lines\"\n",
       "        },\n",
       "        \"ncontours\": 17,\n",
       "        \"showscale\": true,\n",
       "        \"x\": [\n",
       "            -5.0,\n",
       "            -4.0,\n",
       "            -3.0,\n",
       "            -2.0,\n",
       "            -1.0,\n",
       "            0.0,\n",
       "            1.0,\n",
       "            2.0,\n",
       "            3.0,\n",
       "            4.0,\n",
       "            5.0\n",
       "        ],\n",
       "        \"showlegend\": false,\n",
       "        \"name\": \"y1\",\n",
       "        \"zmin\": -110.45829793381779,\n",
       "        \"z\": [\n",
       "            [\n",
       "                -92.90844536341935,\n",
       "                -110.45829793381779,\n",
       "                -108.90993246940401,\n",
       "                -101.66458734618857,\n",
       "                -99.45969769413186,\n",
       "                -100.0,\n",
       "                -99.45969769413186,\n",
       "                -101.66458734618857,\n",
       "                -108.90993246940401,\n",
       "                -110.45829793381779,\n",
       "                -92.90844536341935\n",
       "            ],\n",
       "            [\n",
       "                -73.90844536341935,\n",
       "                -91.45829793381779,\n",
       "                -89.90993246940401,\n",
       "                -82.66458734618857,\n",
       "                -80.45969769413186,\n",
       "                -81.0,\n",
       "                -80.45969769413186,\n",
       "                -82.66458734618857,\n",
       "                -89.90993246940401,\n",
       "                -91.45829793381779,\n",
       "                -73.90844536341935\n",
       "            ],\n",
       "            [\n",
       "                -56.90844536341935,\n",
       "                -74.45829793381779,\n",
       "                -72.90993246940401,\n",
       "                -65.66458734618857,\n",
       "                -63.45969769413186,\n",
       "                -64.0,\n",
       "                -63.45969769413186,\n",
       "                -65.66458734618857,\n",
       "                -72.90993246940401,\n",
       "                -74.45829793381779,\n",
       "                -56.90844536341935\n",
       "            ],\n",
       "            [\n",
       "                -41.90844536341935,\n",
       "                -59.45829793381779,\n",
       "                -57.90993246940401,\n",
       "                -50.66458734618857,\n",
       "                -48.45969769413186,\n",
       "                -49.0,\n",
       "                -48.45969769413186,\n",
       "                -50.66458734618857,\n",
       "                -57.90993246940401,\n",
       "                -59.45829793381779,\n",
       "                -41.90844536341935\n",
       "            ],\n",
       "            [\n",
       "                -28.908445363419343,\n",
       "                -46.45829793381779,\n",
       "                -44.90993246940401,\n",
       "                -37.66458734618857,\n",
       "                -35.45969769413186,\n",
       "                -36.0,\n",
       "                -35.45969769413186,\n",
       "                -37.66458734618857,\n",
       "                -44.90993246940401,\n",
       "                -46.45829793381779,\n",
       "                -28.908445363419343\n",
       "            ],\n",
       "            [\n",
       "                -17.908445363419343,\n",
       "                -35.45829793381779,\n",
       "                -33.90993246940401,\n",
       "                -26.66458734618857,\n",
       "                -24.45969769413186,\n",
       "                -25.0,\n",
       "                -24.45969769413186,\n",
       "                -26.66458734618857,\n",
       "                -33.90993246940401,\n",
       "                -35.45829793381779,\n",
       "                -17.908445363419343\n",
       "            ],\n",
       "            [\n",
       "                -8.908445363419343,\n",
       "                -26.45829793381779,\n",
       "                -24.90993246940401,\n",
       "                -17.66458734618857,\n",
       "                -15.45969769413186,\n",
       "                -16.0,\n",
       "                -15.45969769413186,\n",
       "                -17.66458734618857,\n",
       "                -24.90993246940401,\n",
       "                -26.45829793381779,\n",
       "                -8.908445363419343\n",
       "            ],\n",
       "            [\n",
       "                -1.908445363419344,\n",
       "                -19.45829793381779,\n",
       "                -17.90993246940401,\n",
       "                -10.66458734618857,\n",
       "                -8.45969769413186,\n",
       "                -9.0,\n",
       "                -8.45969769413186,\n",
       "                -10.66458734618857,\n",
       "                -17.90993246940401,\n",
       "                -19.45829793381779,\n",
       "                -1.908445363419344\n",
       "            ],\n",
       "            [\n",
       "                3.091554636580656,\n",
       "                -14.458297933817791,\n",
       "                -12.909932469404009,\n",
       "                -5.664587346188569,\n",
       "                -3.4596976941318602,\n",
       "                -4.0,\n",
       "                -3.4596976941318602,\n",
       "                -5.664587346188569,\n",
       "                -12.909932469404009,\n",
       "                -14.458297933817791,\n",
       "                3.091554636580656\n",
       "            ],\n",
       "            [\n",
       "                6.091554636580656,\n",
       "                -11.458297933817791,\n",
       "                -9.909932469404009,\n",
       "                -2.6645873461885694,\n",
       "                -0.45969769413186023,\n",
       "                -1.0,\n",
       "                -0.45969769413186023,\n",
       "                -2.6645873461885694,\n",
       "                -9.909932469404009,\n",
       "                -11.458297933817791,\n",
       "                6.091554636580656\n",
       "            ],\n",
       "            [\n",
       "                7.091554636580656,\n",
       "                -10.458297933817791,\n",
       "                -8.909932469404009,\n",
       "                -1.6645873461885696,\n",
       "                0.5403023058681398,\n",
       "                0.0,\n",
       "                0.5403023058681398,\n",
       "                -1.6645873461885696,\n",
       "                -8.909932469404009,\n",
       "                -10.458297933817791,\n",
       "                7.091554636580656\n",
       "            ],\n",
       "            [\n",
       "                6.091554636580656,\n",
       "                -11.458297933817791,\n",
       "                -9.909932469404009,\n",
       "                -2.6645873461885694,\n",
       "                -0.45969769413186023,\n",
       "                -1.0,\n",
       "                -0.45969769413186023,\n",
       "                -2.6645873461885694,\n",
       "                -9.909932469404009,\n",
       "                -11.458297933817791,\n",
       "                6.091554636580656\n",
       "            ],\n",
       "            [\n",
       "                3.091554636580656,\n",
       "                -14.458297933817791,\n",
       "                -12.909932469404009,\n",
       "                -5.664587346188569,\n",
       "                -3.4596976941318602,\n",
       "                -4.0,\n",
       "                -3.4596976941318602,\n",
       "                -5.664587346188569,\n",
       "                -12.909932469404009,\n",
       "                -14.458297933817791,\n",
       "                3.091554636580656\n",
       "            ],\n",
       "            [\n",
       "                -1.908445363419344,\n",
       "                -19.45829793381779,\n",
       "                -17.90993246940401,\n",
       "                -10.66458734618857,\n",
       "                -8.45969769413186,\n",
       "                -9.0,\n",
       "                -8.45969769413186,\n",
       "                -10.66458734618857,\n",
       "                -17.90993246940401,\n",
       "                -19.45829793381779,\n",
       "                -1.908445363419344\n",
       "            ],\n",
       "            [\n",
       "                -8.908445363419343,\n",
       "                -26.45829793381779,\n",
       "                -24.90993246940401,\n",
       "                -17.66458734618857,\n",
       "                -15.45969769413186,\n",
       "                -16.0,\n",
       "                -15.45969769413186,\n",
       "                -17.66458734618857,\n",
       "                -24.90993246940401,\n",
       "                -26.45829793381779,\n",
       "                -8.908445363419343\n",
       "            ],\n",
       "            [\n",
       "                -17.908445363419343,\n",
       "                -35.45829793381779,\n",
       "                -33.90993246940401,\n",
       "                -26.66458734618857,\n",
       "                -24.45969769413186,\n",
       "                -25.0,\n",
       "                -24.45969769413186,\n",
       "                -26.66458734618857,\n",
       "                -33.90993246940401,\n",
       "                -35.45829793381779,\n",
       "                -17.908445363419343\n",
       "            ],\n",
       "            [\n",
       "                -28.908445363419343,\n",
       "                -46.45829793381779,\n",
       "                -44.90993246940401,\n",
       "                -37.66458734618857,\n",
       "                -35.45969769413186,\n",
       "                -36.0,\n",
       "                -35.45969769413186,\n",
       "                -37.66458734618857,\n",
       "                -44.90993246940401,\n",
       "                -46.45829793381779,\n",
       "                -28.908445363419343\n",
       "            ],\n",
       "            [\n",
       "                -41.90844536341935,\n",
       "                -59.45829793381779,\n",
       "                -57.90993246940401,\n",
       "                -50.66458734618857,\n",
       "                -48.45969769413186,\n",
       "                -49.0,\n",
       "                -48.45969769413186,\n",
       "                -50.66458734618857,\n",
       "                -57.90993246940401,\n",
       "                -59.45829793381779,\n",
       "                -41.90844536341935\n",
       "            ],\n",
       "            [\n",
       "                -56.90844536341935,\n",
       "                -74.45829793381779,\n",
       "                -72.90993246940401,\n",
       "                -65.66458734618857,\n",
       "                -63.45969769413186,\n",
       "                -64.0,\n",
       "                -63.45969769413186,\n",
       "                -65.66458734618857,\n",
       "                -72.90993246940401,\n",
       "                -74.45829793381779,\n",
       "                -56.90844536341935\n",
       "            ],\n",
       "            [\n",
       "                -73.90844536341935,\n",
       "                -91.45829793381779,\n",
       "                -89.90993246940401,\n",
       "                -82.66458734618857,\n",
       "                -80.45969769413186,\n",
       "                -81.0,\n",
       "                -80.45969769413186,\n",
       "                -82.66458734618857,\n",
       "                -89.90993246940401,\n",
       "                -91.45829793381779,\n",
       "                -73.90844536341935\n",
       "            ],\n",
       "            [\n",
       "                -92.90844536341935,\n",
       "                -110.45829793381779,\n",
       "                -108.90993246940401,\n",
       "                -101.66458734618857,\n",
       "                -99.45969769413186,\n",
       "                -100.0,\n",
       "                -99.45969769413186,\n",
       "                -101.66458734618857,\n",
       "                -108.90993246940401,\n",
       "                -110.45829793381779,\n",
       "                -92.90844536341935\n",
       "            ]\n",
       "        ],\n",
       "        \"zmax\": 7.091554636580656,\n",
       "        \"y\": [\n",
       "            -10.0,\n",
       "            -9.0,\n",
       "            -8.0,\n",
       "            -7.0,\n",
       "            -6.0,\n",
       "            -5.0,\n",
       "            -4.0,\n",
       "            -3.0,\n",
       "            -2.0,\n",
       "            -1.0,\n",
       "            0.0,\n",
       "            1.0,\n",
       "            2.0,\n",
       "            3.0,\n",
       "            4.0,\n",
       "            5.0,\n",
       "            6.0,\n",
       "            7.0,\n",
       "            8.0,\n",
       "            9.0,\n",
       "            10.0\n",
       "        ],\n",
       "        \"type\": \"contour\"\n",
       "    }\n",
       "]\n",
       ", {\n",
       "    \"showlegend\": true,\n",
       "    \"xaxis\": {\n",
       "        \"showticklabels\": true,\n",
       "        \"gridwidth\": 0.5,\n",
       "        \"tickvals\": [\n",
       "            -5.0,\n",
       "            -2.5,\n",
       "            0.0,\n",
       "            2.5,\n",
       "            5.0\n",
       "        ],\n",
       "        \"range\": [\n",
       "            -5.0,\n",
       "            5.0\n",
       "        ],\n",
       "        \"domain\": [\n",
       "            0.07646908719743364,\n",
       "            0.9934383202099737\n",
       "        ],\n",
       "        \"mirror\": false,\n",
       "        \"tickangle\": 0,\n",
       "        \"showline\": true,\n",
       "        \"ticktext\": [\n",
       "            \"-5.0\",\n",
       "            \"-2.5\",\n",
       "            \"0.0\",\n",
       "            \"2.5\",\n",
       "            \"5.0\"\n",
       "        ],\n",
       "        \"zeroline\": false,\n",
       "        \"tickfont\": {\n",
       "            \"color\": \"rgba(0, 0, 0, 1.000)\",\n",
       "            \"family\": \"sans-serif\",\n",
       "            \"size\": 11\n",
       "        },\n",
       "        \"zerolinecolor\": \"rgba(0, 0, 0, 1.000)\",\n",
       "        \"anchor\": \"y\",\n",
       "        \"visible\": true,\n",
       "        \"ticks\": \"inside\",\n",
       "        \"tickmode\": \"array\",\n",
       "        \"linecolor\": \"rgba(0, 0, 0, 1.000)\",\n",
       "        \"showgrid\": true,\n",
       "        \"title\": \"x\",\n",
       "        \"gridcolor\": \"rgba(0, 0, 0, 0.100)\",\n",
       "        \"titlefont\": {\n",
       "            \"color\": \"rgba(0, 0, 0, 1.000)\",\n",
       "            \"family\": \"sans-serif\",\n",
       "            \"size\": 15\n",
       "        },\n",
       "        \"tickcolor\": \"rgb(0, 0, 0)\",\n",
       "        \"type\": \"-\"\n",
       "    },\n",
       "    \"paper_bgcolor\": \"rgba(255, 255, 255, 1.000)\",\n",
       "    \"annotations\": [\n",
       "        {\n",
       "            \"yanchor\": \"top\",\n",
       "            \"xanchor\": \"center\",\n",
       "            \"rotation\": -0.0,\n",
       "            \"y\": 1.0,\n",
       "            \"font\": {\n",
       "                \"color\": \"rgba(0, 0, 0, 1.000)\",\n",
       "                \"family\": \"sans-serif\",\n",
       "                \"size\": 20\n",
       "            },\n",
       "            \"yref\": \"paper\",\n",
       "            \"showarrow\": false,\n",
       "            \"text\": \"Contour Plot\",\n",
       "            \"xref\": \"paper\",\n",
       "            \"x\": 0.5349537037037038\n",
       "        }\n",
       "    ],\n",
       "    \"height\": 400,\n",
       "    \"margin\": {\n",
       "        \"l\": 0,\n",
       "        \"b\": 20,\n",
       "        \"r\": 0,\n",
       "        \"t\": 20\n",
       "    },\n",
       "    \"plot_bgcolor\": \"rgba(255, 255, 255, 1.000)\",\n",
       "    \"yaxis\": {\n",
       "        \"showticklabels\": true,\n",
       "        \"gridwidth\": 0.5,\n",
       "        \"tickvals\": [\n",
       "            -10.0,\n",
       "            -5.0,\n",
       "            0.0,\n",
       "            5.0,\n",
       "            10.0\n",
       "        ],\n",
       "        \"range\": [\n",
       "            -10.0,\n",
       "            10.0\n",
       "        ],\n",
       "        \"domain\": [\n",
       "            0.07581474190726165,\n",
       "            0.9415463692038496\n",
       "        ],\n",
       "        \"mirror\": false,\n",
       "        \"tickangle\": 0,\n",
       "        \"showline\": true,\n",
       "        \"ticktext\": [\n",
       "            \"-10\",\n",
       "            \"-5\",\n",
       "            \"0\",\n",
       "            \"5\",\n",
       "            \"10\"\n",
       "        ],\n",
       "        \"zeroline\": false,\n",
       "        \"tickfont\": {\n",
       "            \"color\": \"rgba(0, 0, 0, 1.000)\",\n",
       "            \"family\": \"sans-serif\",\n",
       "            \"size\": 11\n",
       "        },\n",
       "        \"zerolinecolor\": \"rgba(0, 0, 0, 1.000)\",\n",
       "        \"anchor\": \"x\",\n",
       "        \"visible\": true,\n",
       "        \"ticks\": \"inside\",\n",
       "        \"tickmode\": \"array\",\n",
       "        \"linecolor\": \"rgba(0, 0, 0, 1.000)\",\n",
       "        \"showgrid\": true,\n",
       "        \"title\": \"y\",\n",
       "        \"gridcolor\": \"rgba(0, 0, 0, 0.100)\",\n",
       "        \"titlefont\": {\n",
       "            \"color\": \"rgba(0, 0, 0, 1.000)\",\n",
       "            \"family\": \"sans-serif\",\n",
       "            \"size\": 15\n",
       "        },\n",
       "        \"tickcolor\": \"rgb(0, 0, 0)\",\n",
       "        \"type\": \"-\"\n",
       "    },\n",
       "    \"legend_position\": {\n",
       "        \"yanchor\": \"auto\",\n",
       "        \"xanchor\": \"auto\",\n",
       "        \"bordercolor\": \"rgba(0, 0, 0, 1.000)\",\n",
       "        \"bgcolor\": \"rgba(255, 255, 255, 1.000)\",\n",
       "        \"borderwidth\": 1,\n",
       "        \"tracegroupgap\": 0,\n",
       "        \"y\": 1.0,\n",
       "        \"font\": {\n",
       "            \"color\": \"rgba(0, 0, 0, 1.000)\",\n",
       "            \"family\": \"sans-serif\",\n",
       "            \"size\": 11\n",
       "        },\n",
       "        \"title\": {\n",
       "            \"font\": {\n",
       "                \"color\": \"rgba(0, 0, 0, 1.000)\",\n",
       "                \"family\": \"sans-serif\",\n",
       "                \"size\": 15\n",
       "            },\n",
       "            \"text\": \"\"\n",
       "        },\n",
       "        \"traceorder\": \"normal\",\n",
       "        \"x\": 1.0\n",
       "    },\n",
       "    \"width\": 600\n",
       "}\n",
       ");\n",
       "\n",
       "    });\n",
       "    </script>\n"
      ]
     },
     "metadata": {},
     "output_type": "display_data"
    }
   ],
   "source": [
    "plot5 = contour(xs,ys,Z, title=\"Contour Plot\",xlabel=\"x\",ylabel=\"y\")\n",
    "display(plot5)\n",
    "savefig(plot5,\"contourplot.png\")"
   ]
  },
  {
   "cell_type": "markdown",
   "metadata": {},
   "source": [
    "## problem 5, calculate means and errors, plot"
   ]
  },
  {
   "cell_type": "code",
   "execution_count": 93,
   "metadata": {},
   "outputs": [
    {
     "data": {
      "text/plain": [
       "1000-element Vector{Float64}:\n",
       "   4.1520131\n",
       "  -0.51659515\n",
       "   3.2872357\n",
       "  -1.0079117\n",
       " -11.255172\n",
       "  -2.3900631\n",
       "   0.58820216\n",
       "   5.0213824\n",
       "  -8.3304275\n",
       "  -5.3253565\n",
       "  10.010925\n",
       "  -0.74793115\n",
       "  -0.64897833\n",
       "   ⋮\n",
       "   0.45015899\n",
       "  -1.599452\n",
       "   2.8587967\n",
       "  -0.42890338\n",
       "  -1.1182918\n",
       "  -2.9645227\n",
       "   9.8599848\n",
       "  -9.9598079\n",
       "  -0.24935756\n",
       "   3.9899108\n",
       "   1.4682182\n",
       "  -7.0979457"
      ]
     },
     "execution_count": 93,
     "metadata": {},
     "output_type": "execute_result"
    }
   ],
   "source": [
    "data3 = vec(readdlm(\"datapts3.dat\"))"
   ]
  },
  {
   "cell_type": "markdown",
   "metadata": {},
   "source": [
    "5.a) what is the size of the array?"
   ]
  },
  {
   "cell_type": "markdown",
   "metadata": {},
   "source": [
    "1000x1"
   ]
  },
  {
   "cell_type": "markdown",
   "metadata": {},
   "source": [
    "5.b) calculate the mean of the data pts"
   ]
  },
  {
   "cell_type": "code",
   "execution_count": 97,
   "metadata": {},
   "outputs": [
    {
     "data": {
      "text/plain": [
       "0.19109971074809998"
      ]
     },
     "execution_count": 97,
     "metadata": {},
     "output_type": "execute_result"
    }
   ],
   "source": [
    "avg = mean(data3) #mean of population"
   ]
  },
  {
   "cell_type": "markdown",
   "metadata": {},
   "source": [
    "5.c) calculate the standard deviation of the data pts"
   ]
  },
  {
   "cell_type": "code",
   "execution_count": 103,
   "metadata": {},
   "outputs": [
    {
     "data": {
      "text/plain": [
       "5.716359599617324"
      ]
     },
     "execution_count": 103,
     "metadata": {},
     "output_type": "execute_result"
    }
   ],
   "source": [
    "pop_std = std(data3) #std of population"
   ]
  },
  {
   "cell_type": "markdown",
   "metadata": {},
   "source": [
    "5.d) calculate the standard error of the mean (SEM) for the first 10 data points.\n",
    "SEM is the sample standard deviation divided by the square root of the\n",
    "sample size."
   ]
  },
  {
   "cell_type": "code",
   "execution_count": 119,
   "metadata": {},
   "outputs": [
    {
     "name": "stdout",
     "output_type": "stream",
     "text": [
      "1.7001453876081138"
     ]
    }
   ],
   "source": [
    "first10 = data3[1:10] #first 10 data points\n",
    "std10 = std(first10) #std of the first 10\n",
    "sem10 = std10/sqrt(length(first10)) #standard error of mean for first 10\n",
    "print(sem10)"
   ]
  },
  {
   "cell_type": "markdown",
   "metadata": {},
   "source": [
    "5.e) calculate the mean of the first 10 data points"
   ]
  },
  {
   "cell_type": "code",
   "execution_count": 107,
   "metadata": {},
   "outputs": [
    {
     "data": {
      "text/plain": [
       "-1.577669259"
      ]
     },
     "execution_count": 107,
     "metadata": {},
     "output_type": "execute_result"
    }
   ],
   "source": [
    "avg10 = mean(first10)"
   ]
  },
  {
   "cell_type": "markdown",
   "metadata": {},
   "source": [
    "5.f) make an errorplot of the mean as a function of number of datapoints, with\n",
    "the SEM used as the size of the bars"
   ]
  },
  {
   "cell_type": "code",
   "execution_count": 184,
   "metadata": {},
   "outputs": [
    {
     "data": {
      "application/vnd.plotly.v1+json": {
       "data": [
        {
         "colorbar": {
          "title": ""
         },
         "legendgroup": "y1",
         "line": {
          "color": "rgba(0, 154, 250, 1.000)",
          "dash": "solid",
          "shape": "linear",
          "width": 1
         },
         "mode": "lines",
         "name": "y1",
         "showlegend": true,
         "type": "scatter",
         "x": [
          10,
          100,
          200,
          1000
         ],
         "xaxis": "x",
         "y": [
          -1.577669259,
          -0.08834425459999996,
          0.79701464274,
          0.19109971074809998
         ],
         "yaxis": "y",
         "zmax": null,
         "zmin": null
        },
        {
         "colorbar": {
          "title": ""
         },
         "legendgroup": "",
         "line": {
          "color": "rgba(0, 0, 0, 1.000)",
          "dash": "solid",
          "shape": "linear",
          "width": 1
         },
         "marker": {
          "color": "rgba(0, 0, 0, 1.000)",
          "line": {
           "color": "rgba(0, 0, 0, 1.000)",
           "width": 1
          },
          "size": 8,
          "symbol": "line-ew"
         },
         "mode": "lines+markers",
         "name": "",
         "showlegend": false,
         "type": "scatter",
         "x": [
          10,
          10
         ],
         "xaxis": "x",
         "y": [
          -3.277814646608114,
          0.12247612860811374
         ],
         "yaxis": "y",
         "zmax": null,
         "zmin": null
        },
        {
         "colorbar": {
          "title": ""
         },
         "legendgroup": "",
         "line": {
          "color": "rgba(0, 0, 0, 1.000)",
          "dash": "solid",
          "shape": "linear",
          "width": 1
         },
         "marker": {
          "color": "rgba(0, 0, 0, 1.000)",
          "line": {
           "color": "rgba(0, 0, 0, 1.000)",
           "width": 1
          },
          "size": 8,
          "symbol": "line-ew"
         },
         "mode": "lines+markers",
         "name": "",
         "showlegend": false,
         "type": "scatter",
         "x": [
          100,
          100
         ],
         "xaxis": "x",
         "y": [
          -0.6545664553201926,
          0.47787794612019274
         ],
         "yaxis": "y",
         "zmax": null,
         "zmin": null
        },
        {
         "colorbar": {
          "title": ""
         },
         "legendgroup": "",
         "line": {
          "color": "rgba(0, 0, 0, 1.000)",
          "dash": "solid",
          "shape": "linear",
          "width": 1
         },
         "marker": {
          "color": "rgba(0, 0, 0, 1.000)",
          "line": {
           "color": "rgba(0, 0, 0, 1.000)",
           "width": 1
          },
          "size": 8,
          "symbol": "line-ew"
         },
         "mode": "lines+markers",
         "name": "",
         "showlegend": false,
         "type": "scatter",
         "x": [
          200,
          200
         ],
         "xaxis": "x",
         "y": [
          0.38794888989544685,
          1.2060803955845532
         ],
         "yaxis": "y",
         "zmax": null,
         "zmin": null
        },
        {
         "colorbar": {
          "title": ""
         },
         "legendgroup": "",
         "line": {
          "color": "rgba(0, 0, 0, 1.000)",
          "dash": "solid",
          "shape": "linear",
          "width": 1
         },
         "marker": {
          "color": "rgba(0, 0, 0, 1.000)",
          "line": {
           "color": "rgba(0, 0, 0, 1.000)",
           "width": 1
          },
          "size": 8,
          "symbol": "line-ew"
         },
         "mode": "lines+markers",
         "name": "",
         "showlegend": false,
         "type": "scatter",
         "x": [
          1000,
          1000
         ],
         "xaxis": "x",
         "y": [
          0.010332548154510707,
          0.3718668733416892
         ],
         "yaxis": "y",
         "zmax": null,
         "zmin": null
        }
       ],
       "layout": {
        "annotations": [
         {
          "font": {
           "color": "rgba(0, 0, 0, 1.000)",
           "family": "sans-serif",
           "size": 20
          },
          "rotation": 0,
          "showarrow": false,
          "text": "Error Plot",
          "x": 0.5275462962962963,
          "xanchor": "center",
          "xref": "paper",
          "y": 1,
          "yanchor": "top",
          "yref": "paper"
         }
        ],
        "height": 400,
        "margin": {
         "b": 20,
         "l": 0,
         "r": 0,
         "t": 20
        },
        "paper_bgcolor": "rgba(255, 255, 255, 1.000)",
        "plot_bgcolor": "rgba(255, 255, 255, 1.000)",
        "showlegend": false,
        "width": 600,
        "xaxis": {
         "anchor": "y",
         "domain": [
          0.061654272382618835,
          0.9934383202099737
         ],
         "gridcolor": "rgba(0, 0, 0, 0.100)",
         "gridwidth": 0.5,
         "linecolor": "rgba(0, 0, 0, 1.000)",
         "mirror": false,
         "range": [
          -19.7,
          1029.7
         ],
         "showgrid": true,
         "showline": true,
         "showticklabels": true,
         "tickangle": 0,
         "tickcolor": "rgb(0, 0, 0)",
         "tickfont": {
          "color": "rgba(0, 0, 0, 1.000)",
          "family": "sans-serif",
          "size": 11
         },
         "tickmode": "array",
         "ticks": "inside",
         "ticktext": [
          "0",
          "250",
          "500",
          "750",
          "1000"
         ],
         "tickvals": [
          0,
          250,
          500,
          750,
          1000
         ],
         "title": "Sample Size",
         "titlefont": {
          "color": "rgba(0, 0, 0, 1.000)",
          "family": "sans-serif",
          "size": 15
         },
         "type": "-",
         "visible": true,
         "zeroline": false,
         "zerolinecolor": "rgba(0, 0, 0, 1.000)"
        },
        "yaxis": {
         "anchor": "x",
         "domain": [
          0.07581474190726165,
          0.9415463692038496
         ],
         "gridcolor": "rgba(0, 0, 0, 0.100)",
         "gridwidth": 0.5,
         "linecolor": "rgba(0, 0, 0, 1.000)",
         "mirror": false,
         "range": [
          -3.412331497873894,
          1.340597246850333
         ],
         "showgrid": true,
         "showline": true,
         "showticklabels": true,
         "tickangle": 0,
         "tickcolor": "rgb(0, 0, 0)",
         "tickfont": {
          "color": "rgba(0, 0, 0, 1.000)",
          "family": "sans-serif",
          "size": 11
         },
         "tickmode": "array",
         "ticks": "inside",
         "ticktext": [
          "-3",
          "-2",
          "-1",
          "0",
          "1"
         ],
         "tickvals": [
          -3,
          -2,
          -1,
          0,
          1
         ],
         "title": "Sample Mean",
         "titlefont": {
          "color": "rgba(0, 0, 0, 1.000)",
          "family": "sans-serif",
          "size": 15
         },
         "type": "-",
         "visible": true,
         "zeroline": false,
         "zerolinecolor": "rgba(0, 0, 0, 1.000)"
        }
       }
      },
      "text/html": [
       "    <div id=\"3dcce2e3-8a19-4250-aeeb-5b951d537875\" style=\"width:600px;height:400px;\"></div>\n",
       "    <script>\n",
       "        requirejs.config({\n",
       "        paths: {\n",
       "            Plotly: 'https://cdn.plot.ly/plotly-2.6.3.min'\n",
       "        }\n",
       "    });\n",
       "    require(['Plotly'], function (Plotly) {\n",
       "\n",
       "        Plotly.newPlot('3dcce2e3-8a19-4250-aeeb-5b951d537875', [\n",
       "    {\n",
       "        \"xaxis\": \"x\",\n",
       "        \"colorbar\": {\n",
       "            \"title\": \"\"\n",
       "        },\n",
       "        \"yaxis\": \"y\",\n",
       "        \"x\": [\n",
       "            10.0,\n",
       "            100.0,\n",
       "            200.0,\n",
       "            1000.0\n",
       "        ],\n",
       "        \"showlegend\": true,\n",
       "        \"mode\": \"lines\",\n",
       "        \"name\": \"y1\",\n",
       "        \"zmin\": null,\n",
       "        \"legendgroup\": \"y1\",\n",
       "        \"zmax\": null,\n",
       "        \"line\": {\n",
       "            \"color\": \"rgba(0, 154, 250, 1.000)\",\n",
       "            \"shape\": \"linear\",\n",
       "            \"dash\": \"solid\",\n",
       "            \"width\": 1\n",
       "        },\n",
       "        \"y\": [\n",
       "            -1.577669259,\n",
       "            -0.08834425459999996,\n",
       "            0.79701464274,\n",
       "            0.19109971074809998\n",
       "        ],\n",
       "        \"type\": \"scatter\"\n",
       "    },\n",
       "    {\n",
       "        \"xaxis\": \"x\",\n",
       "        \"colorbar\": {\n",
       "            \"title\": \"\"\n",
       "        },\n",
       "        \"yaxis\": \"y\",\n",
       "        \"x\": [\n",
       "            10.0,\n",
       "            10.0\n",
       "        ],\n",
       "        \"showlegend\": false,\n",
       "        \"mode\": \"lines+markers\",\n",
       "        \"name\": \"\",\n",
       "        \"zmin\": null,\n",
       "        \"legendgroup\": \"\",\n",
       "        \"marker\": {\n",
       "            \"symbol\": \"line-ew\",\n",
       "            \"color\": \"rgba(0, 0, 0, 1.000)\",\n",
       "            \"line\": {\n",
       "                \"color\": \"rgba(0, 0, 0, 1.000)\",\n",
       "                \"width\": 1\n",
       "            },\n",
       "            \"size\": 8\n",
       "        },\n",
       "        \"zmax\": null,\n",
       "        \"line\": {\n",
       "            \"color\": \"rgba(0, 0, 0, 1.000)\",\n",
       "            \"shape\": \"linear\",\n",
       "            \"dash\": \"solid\",\n",
       "            \"width\": 1\n",
       "        },\n",
       "        \"y\": [\n",
       "            -3.277814646608114,\n",
       "            0.12247612860811374\n",
       "        ],\n",
       "        \"type\": \"scatter\"\n",
       "    },\n",
       "    {\n",
       "        \"xaxis\": \"x\",\n",
       "        \"colorbar\": {\n",
       "            \"title\": \"\"\n",
       "        },\n",
       "        \"yaxis\": \"y\",\n",
       "        \"x\": [\n",
       "            100.0,\n",
       "            100.0\n",
       "        ],\n",
       "        \"showlegend\": false,\n",
       "        \"mode\": \"lines+markers\",\n",
       "        \"name\": \"\",\n",
       "        \"zmin\": null,\n",
       "        \"legendgroup\": \"\",\n",
       "        \"marker\": {\n",
       "            \"symbol\": \"line-ew\",\n",
       "            \"color\": \"rgba(0, 0, 0, 1.000)\",\n",
       "            \"line\": {\n",
       "                \"color\": \"rgba(0, 0, 0, 1.000)\",\n",
       "                \"width\": 1\n",
       "            },\n",
       "            \"size\": 8\n",
       "        },\n",
       "        \"zmax\": null,\n",
       "        \"line\": {\n",
       "            \"color\": \"rgba(0, 0, 0, 1.000)\",\n",
       "            \"shape\": \"linear\",\n",
       "            \"dash\": \"solid\",\n",
       "            \"width\": 1\n",
       "        },\n",
       "        \"y\": [\n",
       "            -0.6545664553201926,\n",
       "            0.47787794612019274\n",
       "        ],\n",
       "        \"type\": \"scatter\"\n",
       "    },\n",
       "    {\n",
       "        \"xaxis\": \"x\",\n",
       "        \"colorbar\": {\n",
       "            \"title\": \"\"\n",
       "        },\n",
       "        \"yaxis\": \"y\",\n",
       "        \"x\": [\n",
       "            200.0,\n",
       "            200.0\n",
       "        ],\n",
       "        \"showlegend\": false,\n",
       "        \"mode\": \"lines+markers\",\n",
       "        \"name\": \"\",\n",
       "        \"zmin\": null,\n",
       "        \"legendgroup\": \"\",\n",
       "        \"marker\": {\n",
       "            \"symbol\": \"line-ew\",\n",
       "            \"color\": \"rgba(0, 0, 0, 1.000)\",\n",
       "            \"line\": {\n",
       "                \"color\": \"rgba(0, 0, 0, 1.000)\",\n",
       "                \"width\": 1\n",
       "            },\n",
       "            \"size\": 8\n",
       "        },\n",
       "        \"zmax\": null,\n",
       "        \"line\": {\n",
       "            \"color\": \"rgba(0, 0, 0, 1.000)\",\n",
       "            \"shape\": \"linear\",\n",
       "            \"dash\": \"solid\",\n",
       "            \"width\": 1\n",
       "        },\n",
       "        \"y\": [\n",
       "            0.38794888989544685,\n",
       "            1.2060803955845532\n",
       "        ],\n",
       "        \"type\": \"scatter\"\n",
       "    },\n",
       "    {\n",
       "        \"xaxis\": \"x\",\n",
       "        \"colorbar\": {\n",
       "            \"title\": \"\"\n",
       "        },\n",
       "        \"yaxis\": \"y\",\n",
       "        \"x\": [\n",
       "            1000.0,\n",
       "            1000.0\n",
       "        ],\n",
       "        \"showlegend\": false,\n",
       "        \"mode\": \"lines+markers\",\n",
       "        \"name\": \"\",\n",
       "        \"zmin\": null,\n",
       "        \"legendgroup\": \"\",\n",
       "        \"marker\": {\n",
       "            \"symbol\": \"line-ew\",\n",
       "            \"color\": \"rgba(0, 0, 0, 1.000)\",\n",
       "            \"line\": {\n",
       "                \"color\": \"rgba(0, 0, 0, 1.000)\",\n",
       "                \"width\": 1\n",
       "            },\n",
       "            \"size\": 8\n",
       "        },\n",
       "        \"zmax\": null,\n",
       "        \"line\": {\n",
       "            \"color\": \"rgba(0, 0, 0, 1.000)\",\n",
       "            \"shape\": \"linear\",\n",
       "            \"dash\": \"solid\",\n",
       "            \"width\": 1\n",
       "        },\n",
       "        \"y\": [\n",
       "            0.010332548154510707,\n",
       "            0.3718668733416892\n",
       "        ],\n",
       "        \"type\": \"scatter\"\n",
       "    }\n",
       "]\n",
       ", {\n",
       "    \"showlegend\": false,\n",
       "    \"xaxis\": {\n",
       "        \"showticklabels\": true,\n",
       "        \"gridwidth\": 0.5,\n",
       "        \"tickvals\": [\n",
       "            0.0,\n",
       "            250.0,\n",
       "            500.0,\n",
       "            750.0,\n",
       "            1000.0\n",
       "        ],\n",
       "        \"range\": [\n",
       "            -19.7,\n",
       "            1029.7\n",
       "        ],\n",
       "        \"domain\": [\n",
       "            0.061654272382618835,\n",
       "            0.9934383202099737\n",
       "        ],\n",
       "        \"mirror\": false,\n",
       "        \"tickangle\": 0,\n",
       "        \"showline\": true,\n",
       "        \"ticktext\": [\n",
       "            \"0\",\n",
       "            \"250\",\n",
       "            \"500\",\n",
       "            \"750\",\n",
       "            \"1000\"\n",
       "        ],\n",
       "        \"zeroline\": false,\n",
       "        \"tickfont\": {\n",
       "            \"color\": \"rgba(0, 0, 0, 1.000)\",\n",
       "            \"family\": \"sans-serif\",\n",
       "            \"size\": 11\n",
       "        },\n",
       "        \"zerolinecolor\": \"rgba(0, 0, 0, 1.000)\",\n",
       "        \"anchor\": \"y\",\n",
       "        \"visible\": true,\n",
       "        \"ticks\": \"inside\",\n",
       "        \"tickmode\": \"array\",\n",
       "        \"linecolor\": \"rgba(0, 0, 0, 1.000)\",\n",
       "        \"showgrid\": true,\n",
       "        \"title\": \"Sample Size\",\n",
       "        \"gridcolor\": \"rgba(0, 0, 0, 0.100)\",\n",
       "        \"titlefont\": {\n",
       "            \"color\": \"rgba(0, 0, 0, 1.000)\",\n",
       "            \"family\": \"sans-serif\",\n",
       "            \"size\": 15\n",
       "        },\n",
       "        \"tickcolor\": \"rgb(0, 0, 0)\",\n",
       "        \"type\": \"-\"\n",
       "    },\n",
       "    \"paper_bgcolor\": \"rgba(255, 255, 255, 1.000)\",\n",
       "    \"annotations\": [\n",
       "        {\n",
       "            \"yanchor\": \"top\",\n",
       "            \"xanchor\": \"center\",\n",
       "            \"rotation\": -0.0,\n",
       "            \"y\": 1.0,\n",
       "            \"font\": {\n",
       "                \"color\": \"rgba(0, 0, 0, 1.000)\",\n",
       "                \"family\": \"sans-serif\",\n",
       "                \"size\": 20\n",
       "            },\n",
       "            \"yref\": \"paper\",\n",
       "            \"showarrow\": false,\n",
       "            \"text\": \"Error Plot\",\n",
       "            \"xref\": \"paper\",\n",
       "            \"x\": 0.5275462962962963\n",
       "        }\n",
       "    ],\n",
       "    \"height\": 400,\n",
       "    \"margin\": {\n",
       "        \"l\": 0,\n",
       "        \"b\": 20,\n",
       "        \"r\": 0,\n",
       "        \"t\": 20\n",
       "    },\n",
       "    \"plot_bgcolor\": \"rgba(255, 255, 255, 1.000)\",\n",
       "    \"yaxis\": {\n",
       "        \"showticklabels\": true,\n",
       "        \"gridwidth\": 0.5,\n",
       "        \"tickvals\": [\n",
       "            -3.0,\n",
       "            -2.0,\n",
       "            -1.0,\n",
       "            0.0,\n",
       "            1.0\n",
       "        ],\n",
       "        \"range\": [\n",
       "            -3.412331497873894,\n",
       "            1.340597246850333\n",
       "        ],\n",
       "        \"domain\": [\n",
       "            0.07581474190726165,\n",
       "            0.9415463692038496\n",
       "        ],\n",
       "        \"mirror\": false,\n",
       "        \"tickangle\": 0,\n",
       "        \"showline\": true,\n",
       "        \"ticktext\": [\n",
       "            \"-3\",\n",
       "            \"-2\",\n",
       "            \"-1\",\n",
       "            \"0\",\n",
       "            \"1\"\n",
       "        ],\n",
       "        \"zeroline\": false,\n",
       "        \"tickfont\": {\n",
       "            \"color\": \"rgba(0, 0, 0, 1.000)\",\n",
       "            \"family\": \"sans-serif\",\n",
       "            \"size\": 11\n",
       "        },\n",
       "        \"zerolinecolor\": \"rgba(0, 0, 0, 1.000)\",\n",
       "        \"anchor\": \"x\",\n",
       "        \"visible\": true,\n",
       "        \"ticks\": \"inside\",\n",
       "        \"tickmode\": \"array\",\n",
       "        \"linecolor\": \"rgba(0, 0, 0, 1.000)\",\n",
       "        \"showgrid\": true,\n",
       "        \"title\": \"Sample Mean\",\n",
       "        \"gridcolor\": \"rgba(0, 0, 0, 0.100)\",\n",
       "        \"titlefont\": {\n",
       "            \"color\": \"rgba(0, 0, 0, 1.000)\",\n",
       "            \"family\": \"sans-serif\",\n",
       "            \"size\": 15\n",
       "        },\n",
       "        \"tickcolor\": \"rgb(0, 0, 0)\",\n",
       "        \"type\": \"-\"\n",
       "    },\n",
       "    \"width\": 600\n",
       "}\n",
       ");\n",
       "\n",
       "    });\n",
       "    </script>\n"
      ]
     },
     "metadata": {},
     "output_type": "display_data"
    }
   ],
   "source": [
    "npts = [10,100,200,1000] #array with sample sizes\n",
    "means = [mean(data3[1:n]) for n in npts] #array with means for each sample size\n",
    "sems = [std(data3[1:n])/sqrt(n) for n in npts] #array with SEM for each sample size\n",
    "\n",
    "plot6 = plot(npts,means, yerr=sems, title=\"Error Plot\",xlabel=\"Sample Size\",ylabel=\"Sample Mean\", legend=false)\n",
    "display(plot6)\n",
    "savefig(plot6,\"errorplot.png\")"
   ]
  },
  {
   "cell_type": "markdown",
   "metadata": {},
   "source": [
    "## problem 7, Organelle sizes"
   ]
  },
  {
   "cell_type": "markdown",
   "metadata": {},
   "source": [
    "Average diameter and length as estimated from the figure"
   ]
  },
  {
   "cell_type": "code",
   "execution_count": 153,
   "metadata": {},
   "outputs": [
    {
     "name": "stdout",
     "output_type": "stream",
     "text": [
      "Average diameter: 1 um\n",
      "Average length 3 um\n"
     ]
    }
   ],
   "source": [
    "d = 1#um Average diameter from picture, approximating tube shape\n",
    "l = 3#um Average length from picture \n",
    "println(\"Average diameter: $d um\")\n",
    "println(\"Average length $l um\")"
   ]
  },
  {
   "cell_type": "markdown",
   "metadata": {},
   "source": [
    "Calculate average volume for a single mitochondrion, assuming tube shape"
   ]
  },
  {
   "cell_type": "code",
   "execution_count": 150,
   "metadata": {},
   "outputs": [
    {
     "name": "stdout",
     "output_type": "stream",
     "text": [
      "2.356194490192345 um^3\n"
     ]
    }
   ],
   "source": [
    "r = d/2#um Average radius\n",
    "face_area = pi*r^2 #area for the face of the cylinder \n",
    "\n",
    "V = face_area*l #volume of cylinder \n",
    "println(\"$V um^3\")"
   ]
  },
  {
   "cell_type": "markdown",
   "metadata": {},
   "source": [
    "Calculate average surface area for single mitochondrion"
   ]
  },
  {
   "cell_type": "code",
   "execution_count": 151,
   "metadata": {},
   "outputs": [
    {
     "name": "stdout",
     "output_type": "stream",
     "text": [
      "4.570796326794897 um^2\n"
     ]
    }
   ],
   "source": [
    "SA = (2*face_area)+(d*l) \n",
    "println(\"$SA um^2\")"
   ]
  }
 ],
 "metadata": {
  "kernelspec": {
   "display_name": "Julia 1.8.0-rc3",
   "language": "julia",
   "name": "julia-1.8"
  },
  "language_info": {
   "file_extension": ".jl",
   "mimetype": "application/julia",
   "name": "julia",
   "version": "1.8.0"
  },
  "orig_nbformat": 4
 },
 "nbformat": 4,
 "nbformat_minor": 2
}
