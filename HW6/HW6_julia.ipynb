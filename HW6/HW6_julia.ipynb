{
 "cells": [
  {
   "cell_type": "code",
   "execution_count": 1,
   "metadata": {},
   "outputs": [],
   "source": [
    "using Random, Distributions\n",
    "using Plots\n",
    "# plotlyjs()\n",
    "# using PlotlyJS\n",
    "using DataFrames\n",
    "using StatsBase\n",
    "using DelimitedFiles\n",
    "using LinearAlgebra\n",
    "# using Distances\n",
    "# using Symbolics\n",
    "# using Latexify\n",
    "using LsqFit\n",
    "using Clustering"
   ]
  },
  {
   "cell_type": "code",
   "execution_count": 69,
   "metadata": {},
   "outputs": [
    {
     "data": {
      "application/vnd.webio.node+json": {
       "children": [],
       "instanceArgs": {
        "namespace": "html",
        "tag": "div"
       },
       "nodeType": "DOM",
       "props": {},
       "type": "node"
      },
      "text/html": [
       "<div style=\"padding: 1em; background-color: #f8d6da; border: 1px solid #f5c6cb; font-weight: bold;\">\n",
       "<p>The WebIO Jupyter extension was not detected. See the\n",
       "<a href=\"https://juliagizmos.github.io/WebIO.jl/latest/providers/ijulia/\" target=\"_blank\">\n",
       "    WebIO Jupyter integration documentation\n",
       "</a>\n",
       "for more information.\n",
       "</div>\n"
      ],
      "text/plain": [
       "WebIO._IJuliaInit()"
      ]
     },
     "metadata": {},
     "output_type": "display_data"
    },
    {
     "data": {
      "text/plain": [
       "Plots.PlotlyJSBackend()"
      ]
     },
     "execution_count": 69,
     "metadata": {},
     "output_type": "execute_result"
    }
   ],
   "source": [
    "plotlyjs()"
   ]
  },
  {
   "cell_type": "markdown",
   "metadata": {},
   "source": [
    "# Problem Set 6 (Jonathan Fischer using Julia)"
   ]
  },
  {
   "cell_type": "markdown",
   "metadata": {},
   "source": [
    "## 1) Non-linear fitting"
   ]
  },
  {
   "cell_type": "code",
   "execution_count": 77,
   "metadata": {},
   "outputs": [
    {
     "data": {
      "text/plain": [
       "read_rxnrates (generic function with 1 method)"
      ]
     },
     "execution_count": 77,
     "metadata": {},
     "output_type": "execute_result"
    }
   ],
   "source": [
    "function read_rxnrates()\n",
    "    readdlm(\"rate_vs_conc.dat\")\n",
    "end"
   ]
  },
  {
   "cell_type": "code",
   "execution_count": 78,
   "metadata": {},
   "outputs": [
    {
     "data": {
      "text/plain": [
       "25×2 Matrix{Float64}:\n",
       " 0.1  2.0947\n",
       " 0.3  3.02743\n",
       " 0.5  3.45027\n",
       " 0.7  3.53353\n",
       " 0.9  3.66932\n",
       " 1.1  3.76629\n",
       " 1.3  3.64593\n",
       " 1.5  3.65032\n",
       " 1.7  3.85984\n",
       " 1.9  3.78112\n",
       " 2.1  3.87496\n",
       " 2.3  3.94252\n",
       " 2.5  3.79529\n",
       " 2.7  3.81019\n",
       " 2.9  3.87909\n",
       " 3.1  3.88815\n",
       " 3.3  3.91745\n",
       " 3.5  3.91305\n",
       " 3.7  3.81003\n",
       " 3.9  3.87948\n",
       " 4.1  3.87203\n",
       " 4.3  3.80416\n",
       " 4.5  3.84712\n",
       " 4.7  4.04025\n",
       " 4.9  4.02233"
      ]
     },
     "execution_count": 78,
     "metadata": {},
     "output_type": "execute_result"
    }
   ],
   "source": [
    "data = read_rxnrates()"
   ]
  },
  {
   "cell_type": "code",
   "execution_count": 79,
   "metadata": {},
   "outputs": [
    {
     "data": {
      "text/plain": [
       "mm_model (generic function with 1 method)"
      ]
     },
     "execution_count": 79,
     "metadata": {},
     "output_type": "execute_result"
    }
   ],
   "source": [
    "#construct Michaelis-Menten model using broadcasting \n",
    "@. mm_model(S,beta) = (beta[1]*S)/(beta[2]+S)"
   ]
  },
  {
   "cell_type": "code",
   "execution_count": 80,
   "metadata": {},
   "outputs": [
    {
     "data": {
      "text/plain": [
       "2-element Vector{Float64}:\n",
       " 4.0\n",
       " 0.2"
      ]
     },
     "execution_count": 80,
     "metadata": {},
     "output_type": "execute_result"
    }
   ],
   "source": [
    "xdata = data[:,1] #independent data, concentrations S\n",
    "ydata = data[:,2] #dependent data, reaction rates\n",
    "beta0 = [4.0, 0.2] #inital guess for parameters Vmax and Km "
   ]
  },
  {
   "cell_type": "code",
   "execution_count": 81,
   "metadata": {},
   "outputs": [
    {
     "data": {
      "text/plain": [
       "LsqFit.LsqFitResult{Vector{Float64}, Vector{Float64}, Matrix{Float64}, Vector{Float64}}([3.9910454568457787, 0.08993779127200312], [0.006538516006389994, 0.04309184485229167, -0.06767623122512356, 0.003113386276485386, -0.040864956069228686, -0.07689804951897461, 0.08687240115708361, 0.11496784014494121, -0.06933249974881583, 0.029547537503409327  …  -0.009624336023883018, -0.032293306949893186, -0.021992381955471263, 0.08630474442975933, 0.021605597516531905, 0.0333511263958548, 0.10512277602854647, 0.0657222947217635, -0.1241436118430479, -0.10321446863976735], [0.5264881692508658 -11.062770626469117; 0.7693534884600133 -7.874396414826567; … ; 0.981223599291017 -0.8175696969153982; 0.981976169840106 -0.7854028838322992], true, Float64[])"
      ]
     },
     "execution_count": 81,
     "metadata": {},
     "output_type": "execute_result"
    }
   ],
   "source": [
    "fit = curve_fit(mm_model,xdata,ydata,beta0) #fit curve using non-linear lsq "
   ]
  },
  {
   "cell_type": "code",
   "execution_count": 85,
   "metadata": {},
   "outputs": [
    {
     "name": "stdout",
     "output_type": "stream",
     "text": [
      "Optimal Vmax: 3.9910454568457787 \n",
      "Optimal Km: 0.08993779127200312\n"
     ]
    }
   ],
   "source": [
    "println(\"Optimal Vmax: $(fit.param[1]) \\nOptimal Km: $(fit.param[2])\") #optimal parameters for curve fitting "
   ]
  },
  {
   "cell_type": "code",
   "execution_count": 91,
   "metadata": {},
   "outputs": [
    {
     "data": {
      "application/vnd.plotly.v1+json": {
       "data": [
        {
         "colorbar": {
          "title": ""
         },
         "legendgroup": "Data",
         "line": {
          "color": "rgba(0, 154, 250, 1.000)",
          "dash": "solid",
          "shape": "linear",
          "width": 1
         },
         "mode": "lines",
         "name": "Data",
         "showlegend": true,
         "type": "scatter",
         "x": [
          0.1,
          0.3,
          0.5,
          0.7,
          0.9,
          1.1,
          1.3,
          1.5,
          1.7,
          1.9,
          2.1,
          2.3,
          2.5,
          2.7,
          2.9,
          3.1,
          3.3,
          3.5,
          3.7,
          3.9,
          4.1,
          4.3,
          4.5,
          4.7,
          4.9
         ],
         "xaxis": "x",
         "y": [
          2.0946997,
          3.0274329,
          3.4502748,
          3.5335345,
          3.6693161,
          3.7662926,
          3.6459271,
          3.6503167,
          3.8598426,
          3.7811175,
          3.8749559,
          3.9425204,
          3.795287,
          3.8101929,
          3.8790908,
          3.8881454,
          3.9174531,
          3.9130512,
          3.8100305,
          3.8794771,
          3.8720258,
          3.8041571,
          3.8471204,
          4.0402516,
          4.022326
         ],
         "yaxis": "y",
         "zmax": null,
         "zmin": null
        },
        {
         "colorbar": {
          "title": ""
         },
         "legendgroup": "Fit: Vmax = 3.99, Km = 0.09",
         "line": {
          "color": "rgba(227, 111, 71, 1.000)",
          "dash": "solid",
          "shape": "linear",
          "width": 1
         },
         "mode": "lines",
         "name": "Fit: Vmax = 3.99, Km = 0.09",
         "showlegend": true,
         "type": "scatter",
         "x": [
          0.1,
          0.3,
          0.5,
          0.7,
          0.9,
          1.1,
          1.3,
          1.5,
          1.7,
          1.9,
          2.1,
          2.3,
          2.5,
          2.7,
          2.9,
          3.1,
          3.3,
          3.5,
          3.7,
          3.9,
          4.1,
          4.3,
          4.5,
          4.7,
          4.9
         ],
         "xaxis": "x",
         "y": [
          2.10123821600639,
          3.0705247448522917,
          3.3825985687748763,
          3.5366478862764854,
          3.6284511439307714,
          3.6893945504810253,
          3.732799501157084,
          3.765284540144941,
          3.790510100251184,
          3.8106650375034095,
          3.827138603105252,
          3.8408550148327136,
          3.8524530109327895,
          3.8623881748168416,
          3.870994192132955,
          3.878521063976117,
          3.8851597930501067,
          3.8910588180445287,
          3.896335244429759,
          3.901082697516532,
          3.9053769263958547,
          3.9092798760285463,
          3.9128426947217636,
          3.9161079881569525,
          3.9191115313602323
         ],
         "yaxis": "y",
         "zmax": null,
         "zmin": null
        }
       ],
       "layout": {
        "annotations": [
         {
          "font": {
           "color": "rgba(0, 0, 0, 1.000)",
           "family": "sans-serif",
           "size": 20
          },
          "rotation": 0,
          "showarrow": false,
          "text": "Reaction Rate vs. Initial Concentration",
          "x": 0.5349537037037038,
          "xanchor": "center",
          "xref": "paper",
          "y": 1,
          "yanchor": "top",
          "yref": "paper"
         }
        ],
        "height": 400,
        "legend_position": {
         "bgcolor": "rgba(255, 255, 255, 1.000)",
         "bordercolor": "rgba(0, 0, 0, 1.000)",
         "borderwidth": 1,
         "font": {
          "color": "rgba(0, 0, 0, 1.000)",
          "family": "sans-serif",
          "size": 11
         },
         "title": {
          "font": {
           "color": "rgba(0, 0, 0, 1.000)",
           "family": "sans-serif",
           "size": 15
          },
          "text": ""
         },
         "tracegroupgap": 0,
         "traceorder": "normal",
         "x": 1,
         "xanchor": "right",
         "y": 0.07,
         "yanchor": "bottom"
        },
        "margin": {
         "b": 20,
         "l": 0,
         "r": 0,
         "t": 20
        },
        "paper_bgcolor": "rgba(255, 255, 255, 1.000)",
        "plot_bgcolor": "rgba(255, 255, 255, 1.000)",
        "showlegend": true,
        "width": 600,
        "xaxis": {
         "anchor": "y",
         "domain": [
          0.07646908719743364,
          0.9934383202099737
         ],
         "gridcolor": "rgba(0, 0, 0, 0.100)",
         "gridwidth": 0.5,
         "linecolor": "rgba(0, 0, 0, 1.000)",
         "mirror": false,
         "range": [
          -0.04400000000000001,
          5.0440000000000005
         ],
         "showgrid": true,
         "showline": true,
         "showticklabels": true,
         "tickangle": 0,
         "tickcolor": "rgb(0, 0, 0)",
         "tickfont": {
          "color": "rgba(0, 0, 0, 1.000)",
          "family": "sans-serif",
          "size": 11
         },
         "tickmode": "array",
         "ticks": "inside",
         "ticktext": [
          "0",
          "1",
          "2",
          "3",
          "4",
          "5"
         ],
         "tickvals": [
          0,
          1,
          2,
          3,
          4,
          5
         ],
         "title": "Concentration [S]",
         "titlefont": {
          "color": "rgba(0, 0, 0, 1.000)",
          "family": "sans-serif",
          "size": 15
         },
         "type": "-",
         "visible": true,
         "zeroline": false,
         "zerolinecolor": "rgba(0, 0, 0, 1.000)"
        },
        "yaxis": {
         "anchor": "x",
         "domain": [
          0.07581474190726165,
          0.9415463692038496
         ],
         "gridcolor": "rgba(0, 0, 0, 0.100)",
         "gridwidth": 0.5,
         "linecolor": "rgba(0, 0, 0, 1.000)",
         "mirror": false,
         "range": [
          2.0363331430000002,
          4.098618157000001
         ],
         "showgrid": true,
         "showline": true,
         "showticklabels": true,
         "tickangle": 0,
         "tickcolor": "rgb(0, 0, 0)",
         "tickfont": {
          "color": "rgba(0, 0, 0, 1.000)",
          "family": "sans-serif",
          "size": 11
         },
         "tickmode": "array",
         "ticks": "inside",
         "ticktext": [
          "2.5",
          "3.0",
          "3.5",
          "4.0"
         ],
         "tickvals": [
          2.5,
          3,
          3.5,
          4
         ],
         "title": "Reaction Rate v",
         "titlefont": {
          "color": "rgba(0, 0, 0, 1.000)",
          "family": "sans-serif",
          "size": 15
         },
         "type": "-",
         "visible": true,
         "zeroline": false,
         "zerolinecolor": "rgba(0, 0, 0, 1.000)"
        }
       }
      },
      "text/html": [
       "    <div id=\"eee16fa1-e465-4f84-bba8-e92a836821bf\" style=\"width:600px;height:400px;\"></div>\n",
       "    <script>\n",
       "        requirejs.config({\n",
       "        paths: {\n",
       "            Plotly: 'https://cdn.plot.ly/plotly-2.6.3.min'\n",
       "        }\n",
       "    });\n",
       "    require(['Plotly'], function (Plotly) {\n",
       "\n",
       "        Plotly.newPlot('eee16fa1-e465-4f84-bba8-e92a836821bf', [\n",
       "    {\n",
       "        \"xaxis\": \"x\",\n",
       "        \"colorbar\": {\n",
       "            \"title\": \"\"\n",
       "        },\n",
       "        \"yaxis\": \"y\",\n",
       "        \"x\": [\n",
       "            0.1,\n",
       "            0.3,\n",
       "            0.5,\n",
       "            0.7,\n",
       "            0.9,\n",
       "            1.1,\n",
       "            1.3,\n",
       "            1.5,\n",
       "            1.7,\n",
       "            1.9,\n",
       "            2.1,\n",
       "            2.3,\n",
       "            2.5,\n",
       "            2.7,\n",
       "            2.9,\n",
       "            3.1,\n",
       "            3.3,\n",
       "            3.5,\n",
       "            3.7,\n",
       "            3.9,\n",
       "            4.1,\n",
       "            4.3,\n",
       "            4.5,\n",
       "            4.7,\n",
       "            4.9\n",
       "        ],\n",
       "        \"showlegend\": true,\n",
       "        \"mode\": \"lines\",\n",
       "        \"name\": \"Data\",\n",
       "        \"zmin\": null,\n",
       "        \"legendgroup\": \"Data\",\n",
       "        \"zmax\": null,\n",
       "        \"line\": {\n",
       "            \"color\": \"rgba(0, 154, 250, 1.000)\",\n",
       "            \"shape\": \"linear\",\n",
       "            \"dash\": \"solid\",\n",
       "            \"width\": 1\n",
       "        },\n",
       "        \"y\": [\n",
       "            2.0946997,\n",
       "            3.0274329,\n",
       "            3.4502748,\n",
       "            3.5335345,\n",
       "            3.6693161,\n",
       "            3.7662926,\n",
       "            3.6459271,\n",
       "            3.6503167,\n",
       "            3.8598426,\n",
       "            3.7811175,\n",
       "            3.8749559,\n",
       "            3.9425204,\n",
       "            3.795287,\n",
       "            3.8101929,\n",
       "            3.8790908,\n",
       "            3.8881454,\n",
       "            3.9174531,\n",
       "            3.9130512,\n",
       "            3.8100305,\n",
       "            3.8794771,\n",
       "            3.8720258,\n",
       "            3.8041571,\n",
       "            3.8471204,\n",
       "            4.0402516,\n",
       "            4.022326\n",
       "        ],\n",
       "        \"type\": \"scatter\"\n",
       "    },\n",
       "    {\n",
       "        \"xaxis\": \"x\",\n",
       "        \"colorbar\": {\n",
       "            \"title\": \"\"\n",
       "        },\n",
       "        \"yaxis\": \"y\",\n",
       "        \"x\": [\n",
       "            0.1,\n",
       "            0.3,\n",
       "            0.5,\n",
       "            0.7,\n",
       "            0.9,\n",
       "            1.1,\n",
       "            1.3,\n",
       "            1.5,\n",
       "            1.7,\n",
       "            1.9,\n",
       "            2.1,\n",
       "            2.3,\n",
       "            2.5,\n",
       "            2.7,\n",
       "            2.9,\n",
       "            3.1,\n",
       "            3.3,\n",
       "            3.5,\n",
       "            3.7,\n",
       "            3.9,\n",
       "            4.1,\n",
       "            4.3,\n",
       "            4.5,\n",
       "            4.7,\n",
       "            4.9\n",
       "        ],\n",
       "        \"showlegend\": true,\n",
       "        \"mode\": \"lines\",\n",
       "        \"name\": \"Fit: Vmax = 3.99, Km = 0.09\",\n",
       "        \"zmin\": null,\n",
       "        \"legendgroup\": \"Fit: Vmax = 3.99, Km = 0.09\",\n",
       "        \"zmax\": null,\n",
       "        \"line\": {\n",
       "            \"color\": \"rgba(227, 111, 71, 1.000)\",\n",
       "            \"shape\": \"linear\",\n",
       "            \"dash\": \"solid\",\n",
       "            \"width\": 1\n",
       "        },\n",
       "        \"y\": [\n",
       "            2.10123821600639,\n",
       "            3.0705247448522917,\n",
       "            3.3825985687748763,\n",
       "            3.5366478862764854,\n",
       "            3.6284511439307714,\n",
       "            3.6893945504810253,\n",
       "            3.732799501157084,\n",
       "            3.765284540144941,\n",
       "            3.790510100251184,\n",
       "            3.8106650375034095,\n",
       "            3.827138603105252,\n",
       "            3.8408550148327136,\n",
       "            3.8524530109327895,\n",
       "            3.8623881748168416,\n",
       "            3.870994192132955,\n",
       "            3.878521063976117,\n",
       "            3.8851597930501067,\n",
       "            3.8910588180445287,\n",
       "            3.896335244429759,\n",
       "            3.901082697516532,\n",
       "            3.9053769263958547,\n",
       "            3.9092798760285463,\n",
       "            3.9128426947217636,\n",
       "            3.9161079881569525,\n",
       "            3.9191115313602323\n",
       "        ],\n",
       "        \"type\": \"scatter\"\n",
       "    }\n",
       "]\n",
       ", {\n",
       "    \"showlegend\": true,\n",
       "    \"xaxis\": {\n",
       "        \"showticklabels\": true,\n",
       "        \"gridwidth\": 0.5,\n",
       "        \"tickvals\": [\n",
       "            0.0,\n",
       "            1.0,\n",
       "            2.0,\n",
       "            3.0,\n",
       "            4.0,\n",
       "            5.0\n",
       "        ],\n",
       "        \"range\": [\n",
       "            -0.04400000000000001,\n",
       "            5.0440000000000005\n",
       "        ],\n",
       "        \"domain\": [\n",
       "            0.07646908719743364,\n",
       "            0.9934383202099737\n",
       "        ],\n",
       "        \"mirror\": false,\n",
       "        \"tickangle\": 0,\n",
       "        \"showline\": true,\n",
       "        \"ticktext\": [\n",
       "            \"0\",\n",
       "            \"1\",\n",
       "            \"2\",\n",
       "            \"3\",\n",
       "            \"4\",\n",
       "            \"5\"\n",
       "        ],\n",
       "        \"zeroline\": false,\n",
       "        \"tickfont\": {\n",
       "            \"color\": \"rgba(0, 0, 0, 1.000)\",\n",
       "            \"family\": \"sans-serif\",\n",
       "            \"size\": 11\n",
       "        },\n",
       "        \"zerolinecolor\": \"rgba(0, 0, 0, 1.000)\",\n",
       "        \"anchor\": \"y\",\n",
       "        \"visible\": true,\n",
       "        \"ticks\": \"inside\",\n",
       "        \"tickmode\": \"array\",\n",
       "        \"linecolor\": \"rgba(0, 0, 0, 1.000)\",\n",
       "        \"showgrid\": true,\n",
       "        \"title\": \"Concentration [S]\",\n",
       "        \"gridcolor\": \"rgba(0, 0, 0, 0.100)\",\n",
       "        \"titlefont\": {\n",
       "            \"color\": \"rgba(0, 0, 0, 1.000)\",\n",
       "            \"family\": \"sans-serif\",\n",
       "            \"size\": 15\n",
       "        },\n",
       "        \"tickcolor\": \"rgb(0, 0, 0)\",\n",
       "        \"type\": \"-\"\n",
       "    },\n",
       "    \"paper_bgcolor\": \"rgba(255, 255, 255, 1.000)\",\n",
       "    \"annotations\": [\n",
       "        {\n",
       "            \"yanchor\": \"top\",\n",
       "            \"xanchor\": \"center\",\n",
       "            \"rotation\": -0.0,\n",
       "            \"y\": 1.0,\n",
       "            \"font\": {\n",
       "                \"color\": \"rgba(0, 0, 0, 1.000)\",\n",
       "                \"family\": \"sans-serif\",\n",
       "                \"size\": 20\n",
       "            },\n",
       "            \"yref\": \"paper\",\n",
       "            \"showarrow\": false,\n",
       "            \"text\": \"Reaction Rate vs. Initial Concentration\",\n",
       "            \"xref\": \"paper\",\n",
       "            \"x\": 0.5349537037037038\n",
       "        }\n",
       "    ],\n",
       "    \"height\": 400,\n",
       "    \"margin\": {\n",
       "        \"l\": 0,\n",
       "        \"b\": 20,\n",
       "        \"r\": 0,\n",
       "        \"t\": 20\n",
       "    },\n",
       "    \"plot_bgcolor\": \"rgba(255, 255, 255, 1.000)\",\n",
       "    \"yaxis\": {\n",
       "        \"showticklabels\": true,\n",
       "        \"gridwidth\": 0.5,\n",
       "        \"tickvals\": [\n",
       "            2.5,\n",
       "            3.0,\n",
       "            3.5,\n",
       "            4.0\n",
       "        ],\n",
       "        \"range\": [\n",
       "            2.0363331430000002,\n",
       "            4.098618157000001\n",
       "        ],\n",
       "        \"domain\": [\n",
       "            0.07581474190726165,\n",
       "            0.9415463692038496\n",
       "        ],\n",
       "        \"mirror\": false,\n",
       "        \"tickangle\": 0,\n",
       "        \"showline\": true,\n",
       "        \"ticktext\": [\n",
       "            \"2.5\",\n",
       "            \"3.0\",\n",
       "            \"3.5\",\n",
       "            \"4.0\"\n",
       "        ],\n",
       "        \"zeroline\": false,\n",
       "        \"tickfont\": {\n",
       "            \"color\": \"rgba(0, 0, 0, 1.000)\",\n",
       "            \"family\": \"sans-serif\",\n",
       "            \"size\": 11\n",
       "        },\n",
       "        \"zerolinecolor\": \"rgba(0, 0, 0, 1.000)\",\n",
       "        \"anchor\": \"x\",\n",
       "        \"visible\": true,\n",
       "        \"ticks\": \"inside\",\n",
       "        \"tickmode\": \"array\",\n",
       "        \"linecolor\": \"rgba(0, 0, 0, 1.000)\",\n",
       "        \"showgrid\": true,\n",
       "        \"title\": \"Reaction Rate v\",\n",
       "        \"gridcolor\": \"rgba(0, 0, 0, 0.100)\",\n",
       "        \"titlefont\": {\n",
       "            \"color\": \"rgba(0, 0, 0, 1.000)\",\n",
       "            \"family\": \"sans-serif\",\n",
       "            \"size\": 15\n",
       "        },\n",
       "        \"tickcolor\": \"rgb(0, 0, 0)\",\n",
       "        \"type\": \"-\"\n",
       "    },\n",
       "    \"legend_position\": {\n",
       "        \"yanchor\": \"bottom\",\n",
       "        \"xanchor\": \"right\",\n",
       "        \"bordercolor\": \"rgba(0, 0, 0, 1.000)\",\n",
       "        \"bgcolor\": \"rgba(255, 255, 255, 1.000)\",\n",
       "        \"borderwidth\": 1,\n",
       "        \"tracegroupgap\": 0,\n",
       "        \"y\": 0.07,\n",
       "        \"font\": {\n",
       "            \"color\": \"rgba(0, 0, 0, 1.000)\",\n",
       "            \"family\": \"sans-serif\",\n",
       "            \"size\": 11\n",
       "        },\n",
       "        \"title\": {\n",
       "            \"font\": {\n",
       "                \"color\": \"rgba(0, 0, 0, 1.000)\",\n",
       "                \"family\": \"sans-serif\",\n",
       "                \"size\": 15\n",
       "            },\n",
       "            \"text\": \"\"\n",
       "        },\n",
       "        \"traceorder\": \"normal\",\n",
       "        \"x\": 1.0\n",
       "    },\n",
       "    \"width\": 600\n",
       "}\n",
       ");\n",
       "\n",
       "    });\n",
       "    </script>\n"
      ]
     },
     "metadata": {},
     "output_type": "display_data"
    }
   ],
   "source": [
    "p1 = plot(xdata,ydata, label = \"Data\", title=\"Reaction Rate vs. Initial Concentration\",legend=:bottomright)\n",
    "plot!(xdata, mm_model(xdata,fit.param), label = \"Fit: Vmax = $(round(fit.param[1],digits = 2)), Km = $(round(fit.param[2],digits=2))\")\n",
    "xlabel!(\"Concentration [S]\")\n",
    "ylabel!(\"Reaction Rate v\")\n",
    "savefig(\"prob1.png\")\n",
    "display(p1)"
   ]
  },
  {
   "cell_type": "code",
   "execution_count": 92,
   "metadata": {},
   "outputs": [
    {
     "data": {
      "text/plain": [
       "2-element Vector{Tuple{Float64, Float64}}:\n",
       " (3.9508499222409044, 4.0312409914506535)\n",
       " (0.07913521961267564, 0.1007403629313306)"
      ]
     },
     "execution_count": 92,
     "metadata": {},
     "output_type": "execute_result"
    }
   ],
   "source": [
    "sigma = stderror(fit)\n",
    "# to get margin of error and confidence interval of each parameter at 5% significance level:\n",
    "margin_of_error = margin_error(fit, 0.05)\n",
    "confidence_inter = confidence_interval(fit, 0.05)"
   ]
  },
  {
   "cell_type": "markdown",
   "metadata": {},
   "source": [
    "### d) Variance of parameter fit"
   ]
  },
  {
   "cell_type": "code",
   "execution_count": 93,
   "metadata": {},
   "outputs": [
    {
     "name": "stdout",
     "output_type": "stream",
     "text": [
      "Variance of Vmax = 0.040195534604874385\n",
      "Variance of Km = 0.01080257165932748\n"
     ]
    }
   ],
   "source": [
    "println(\"Variance of Vmax = $(margin_of_error[1])\") \n",
    "println(\"Variance of Km = $(margin_of_error[2])\")"
   ]
  },
  {
   "cell_type": "markdown",
   "metadata": {},
   "source": [
    "## 2) Clustering using k-means"
   ]
  },
  {
   "cell_type": "code",
   "execution_count": 140,
   "metadata": {},
   "outputs": [
    {
     "data": {
      "text/plain": [
       "TaskLocalRNG()"
      ]
     },
     "execution_count": 140,
     "metadata": {},
     "output_type": "execute_result"
    }
   ],
   "source": [
    "Random.seed!(1234)"
   ]
  },
  {
   "cell_type": "code",
   "execution_count": 141,
   "metadata": {},
   "outputs": [
    {
     "data": {
      "text/plain": [
       "2×200 Matrix{Float64}:\n",
       "  2.88312  2.6798    3.81752   3.49016   …  -3.76524  -0.511051  0.616878\n",
       " -1.13397  1.18434  -4.53839  -0.194999      5.89073   6.27067   6.19463"
      ]
     },
     "execution_count": 141,
     "metadata": {},
     "output_type": "execute_result"
    }
   ],
   "source": [
    "clustdata = rotl90(readdlm(\"clust_data.dat\"))"
   ]
  },
  {
   "cell_type": "code",
   "execution_count": 142,
   "metadata": {},
   "outputs": [
    {
     "data": {
      "text/plain": [
       "2×2 Matrix{Float64}:\n",
       "  3.16367   -0.222084\n",
       " -0.608549   5.84392"
      ]
     },
     "execution_count": 142,
     "metadata": {},
     "output_type": "execute_result"
    }
   ],
   "source": [
    "clusters = kmeans(clustdata, 2)\n",
    "\n",
    "assigns = assignments(clusters) #get assignments of points to clusters\n",
    "sizes = counts(clusters) #get cluster sizes\n",
    "centers = clusters.centers #get cluster centers"
   ]
  },
  {
   "cell_type": "code",
   "execution_count": 143,
   "metadata": {},
   "outputs": [
    {
     "data": {
      "application/vnd.plotly.v1+json": {
       "data": [
        {
         "colorbar": {
          "title": ""
         },
         "legendgroup": "y1",
         "marker": {
          "color": "rgba(204, 76, 204, 1.000)",
          "line": {
           "color": "rgba(0, 0, 0, 1.000)",
           "width": 1
          },
          "size": 8,
          "symbol": "circle"
         },
         "mode": "markers",
         "name": "y1",
         "showlegend": true,
         "type": "scatter",
         "x": [
          -1.1339681
         ],
         "xaxis": "x",
         "y": [
          2.8831157
         ],
         "yaxis": "y",
         "zmax": 2,
         "zmin": 1
        },
        {
         "colorbar": {
          "title": ""
         },
         "legendgroup": "y1",
         "marker": {
          "color": "rgba(204, 76, 204, 1.000)",
          "line": {
           "color": "rgba(0, 0, 0, 1.000)",
           "width": 1
          },
          "size": 8,
          "symbol": "circle"
         },
         "mode": "markers",
         "name": "y1",
         "showlegend": false,
         "type": "scatter",
         "x": [
          1.1843365
         ],
         "xaxis": "x",
         "y": [
          2.6798038
         ],
         "yaxis": "y",
         "zmax": 2,
         "zmin": 1
        },
        {
         "colorbar": {
          "title": ""
         },
         "legendgroup": "y1",
         "marker": {
          "color": "rgba(204, 76, 204, 1.000)",
          "line": {
           "color": "rgba(0, 0, 0, 1.000)",
           "width": 1
          },
          "size": 8,
          "symbol": "circle"
         },
         "mode": "markers",
         "name": "y1",
         "showlegend": false,
         "type": "scatter",
         "x": [
          -4.5383877
         ],
         "xaxis": "x",
         "y": [
          3.8175163
         ],
         "yaxis": "y",
         "zmax": 2,
         "zmin": 1
        },
        {
         "colorbar": {
          "title": ""
         },
         "legendgroup": "y1",
         "marker": {
          "color": "rgba(204, 76, 204, 1.000)",
          "line": {
           "color": "rgba(0, 0, 0, 1.000)",
           "width": 1
          },
          "size": 8,
          "symbol": "circle"
         },
         "mode": "markers",
         "name": "y1",
         "showlegend": false,
         "type": "scatter",
         "x": [
          -0.19499936
         ],
         "xaxis": "x",
         "y": [
          3.4901592
         ],
         "yaxis": "y",
         "zmax": 2,
         "zmin": 1
        },
        {
         "colorbar": {
          "title": ""
         },
         "legendgroup": "y1",
         "marker": {
          "color": "rgba(204, 76, 204, 1.000)",
          "line": {
           "color": "rgba(0, 0, 0, 1.000)",
           "width": 1
          },
          "size": 8,
          "symbol": "circle"
         },
         "mode": "markers",
         "name": "y1",
         "showlegend": false,
         "type": "scatter",
         "x": [
          -0.63064436
         ],
         "xaxis": "x",
         "y": [
          3.7652512
         ],
         "yaxis": "y",
         "zmax": 2,
         "zmin": 1
        },
        {
         "colorbar": {
          "title": ""
         },
         "legendgroup": "y1",
         "marker": {
          "color": "rgba(204, 76, 204, 1.000)",
          "line": {
           "color": "rgba(0, 0, 0, 1.000)",
           "width": 1
          },
          "size": 8,
          "symbol": "circle"
         },
         "mode": "markers",
         "name": "y1",
         "showlegend": false,
         "type": "scatter",
         "x": [
          -1.7356955
         ],
         "xaxis": "x",
         "y": [
          3.778279
         ],
         "yaxis": "y",
         "zmax": 2,
         "zmin": 1
        },
        {
         "colorbar": {
          "title": ""
         },
         "legendgroup": "y1",
         "marker": {
          "color": "rgba(255, 76, 76, 1.000)",
          "line": {
           "color": "rgba(0, 0, 0, 1.000)",
           "width": 1
          },
          "size": 8,
          "symbol": "circle"
         },
         "mode": "markers",
         "name": "y1",
         "showlegend": false,
         "type": "scatter",
         "x": [
          2.9580958
         ],
         "xaxis": "x",
         "y": [
          1.5196948
         ],
         "yaxis": "y",
         "zmax": 2,
         "zmin": 1
        },
        {
         "colorbar": {
          "title": ""
         },
         "legendgroup": "y1",
         "marker": {
          "color": "rgba(204, 76, 204, 1.000)",
          "line": {
           "color": "rgba(0, 0, 0, 1.000)",
           "width": 1
          },
          "size": 8,
          "symbol": "circle"
         },
         "mode": "markers",
         "name": "y1",
         "showlegend": false,
         "type": "scatter",
         "x": [
          -1.2028138
         ],
         "xaxis": "x",
         "y": [
          3.540364
         ],
         "yaxis": "y",
         "zmax": 2,
         "zmin": 1
        },
        {
         "colorbar": {
          "title": ""
         },
         "legendgroup": "y1",
         "marker": {
          "color": "rgba(204, 76, 204, 1.000)",
          "line": {
           "color": "rgba(0, 0, 0, 1.000)",
           "width": 1
          },
          "size": 8,
          "symbol": "circle"
         },
         "mode": "markers",
         "name": "y1",
         "showlegend": false,
         "type": "scatter",
         "x": [
          2.6218993
         ],
         "xaxis": "x",
         "y": [
          2.908461
         ],
         "yaxis": "y",
         "zmax": 2,
         "zmin": 1
        },
        {
         "colorbar": {
          "title": ""
         },
         "legendgroup": "y1",
         "marker": {
          "color": "rgba(255, 76, 76, 1.000)",
          "line": {
           "color": "rgba(0, 0, 0, 1.000)",
           "width": 1
          },
          "size": 8,
          "symbol": "circle"
         },
         "mode": "markers",
         "name": "y1",
         "showlegend": false,
         "type": "scatter",
         "x": [
          3.9275227
         ],
         "xaxis": "x",
         "y": [
          2.2397476
         ],
         "yaxis": "y",
         "zmax": 2,
         "zmin": 1
        },
        {
         "colorbar": {
          "title": ""
         },
         "legendgroup": "y1",
         "marker": {
          "color": "rgba(204, 76, 204, 1.000)",
          "line": {
           "color": "rgba(0, 0, 0, 1.000)",
           "width": 1
          },
          "size": 8,
          "symbol": "circle"
         },
         "mode": "markers",
         "name": "y1",
         "showlegend": false,
         "type": "scatter",
         "x": [
          0.52938876
         ],
         "xaxis": "x",
         "y": [
          2.3064046
         ],
         "yaxis": "y",
         "zmax": 2,
         "zmin": 1
        },
        {
         "colorbar": {
          "title": ""
         },
         "legendgroup": "y1",
         "marker": {
          "color": "rgba(204, 76, 204, 1.000)",
          "line": {
           "color": "rgba(0, 0, 0, 1.000)",
           "width": 1
          },
          "size": 8,
          "symbol": "circle"
         },
         "mode": "markers",
         "name": "y1",
         "showlegend": false,
         "type": "scatter",
         "x": [
          1.833398
         ],
         "xaxis": "x",
         "y": [
          4.2814578
         ],
         "yaxis": "y",
         "zmax": 2,
         "zmin": 1
        },
        {
         "colorbar": {
          "title": ""
         },
         "legendgroup": "y1",
         "marker": {
          "color": "rgba(204, 76, 204, 1.000)",
          "line": {
           "color": "rgba(0, 0, 0, 1.000)",
           "width": 1
          },
          "size": 8,
          "symbol": "circle"
         },
         "mode": "markers",
         "name": "y1",
         "showlegend": false,
         "type": "scatter",
         "x": [
          2.9185519
         ],
         "xaxis": "x",
         "y": [
          2.1902624
         ],
         "yaxis": "y",
         "zmax": 2,
         "zmin": 1
        },
        {
         "colorbar": {
          "title": ""
         },
         "legendgroup": "y1",
         "marker": {
          "color": "rgba(204, 76, 204, 1.000)",
          "line": {
           "color": "rgba(0, 0, 0, 1.000)",
           "width": 1
          },
          "size": 8,
          "symbol": "circle"
         },
         "mode": "markers",
         "name": "y1",
         "showlegend": false,
         "type": "scatter",
         "x": [
          0.75706595
         ],
         "xaxis": "x",
         "y": [
          1.7631816
         ],
         "yaxis": "y",
         "zmax": 2,
         "zmin": 1
        },
        {
         "colorbar": {
          "title": ""
         },
         "legendgroup": "y1",
         "marker": {
          "color": "rgba(204, 76, 204, 1.000)",
          "line": {
           "color": "rgba(0, 0, 0, 1.000)",
           "width": 1
          },
          "size": 8,
          "symbol": "circle"
         },
         "mode": "markers",
         "name": "y1",
         "showlegend": false,
         "type": "scatter",
         "x": [
          2.6226104
         ],
         "xaxis": "x",
         "y": [
          3.2146864
         ],
         "yaxis": "y",
         "zmax": 2,
         "zmin": 1
        },
        {
         "colorbar": {
          "title": ""
         },
         "legendgroup": "y1",
         "marker": {
          "color": "rgba(204, 76, 204, 1.000)",
          "line": {
           "color": "rgba(0, 0, 0, 1.000)",
           "width": 1
          },
          "size": 8,
          "symbol": "circle"
         },
         "mode": "markers",
         "name": "y1",
         "showlegend": false,
         "type": "scatter",
         "x": [
          -2.7876945
         ],
         "xaxis": "x",
         "y": [
          5.0107718
         ],
         "yaxis": "y",
         "zmax": 2,
         "zmin": 1
        },
        {
         "colorbar": {
          "title": ""
         },
         "legendgroup": "y1",
         "marker": {
          "color": "rgba(255, 76, 76, 1.000)",
          "line": {
           "color": "rgba(0, 0, 0, 1.000)",
           "width": 1
          },
          "size": 8,
          "symbol": "circle"
         },
         "mode": "markers",
         "name": "y1",
         "showlegend": false,
         "type": "scatter",
         "x": [
          4.3312715
         ],
         "xaxis": "x",
         "y": [
          3.0255544
         ],
         "yaxis": "y",
         "zmax": 2,
         "zmin": 1
        },
        {
         "colorbar": {
          "title": ""
         },
         "legendgroup": "y1",
         "marker": {
          "color": "rgba(204, 76, 204, 1.000)",
          "line": {
           "color": "rgba(0, 0, 0, 1.000)",
           "width": 1
          },
          "size": 8,
          "symbol": "circle"
         },
         "mode": "markers",
         "name": "y1",
         "showlegend": false,
         "type": "scatter",
         "x": [
          -1.968688
         ],
         "xaxis": "x",
         "y": [
          3.3082994
         ],
         "yaxis": "y",
         "zmax": 2,
         "zmin": 1
        },
        {
         "colorbar": {
          "title": ""
         },
         "legendgroup": "y1",
         "marker": {
          "color": "rgba(204, 76, 204, 1.000)",
          "line": {
           "color": "rgba(0, 0, 0, 1.000)",
           "width": 1
          },
          "size": 8,
          "symbol": "circle"
         },
         "mode": "markers",
         "name": "y1",
         "showlegend": false,
         "type": "scatter",
         "x": [
          -4.4865078
         ],
         "xaxis": "x",
         "y": [
          2.0617528
         ],
         "yaxis": "y",
         "zmax": 2,
         "zmin": 1
        },
        {
         "colorbar": {
          "title": ""
         },
         "legendgroup": "y1",
         "marker": {
          "color": "rgba(255, 76, 76, 1.000)",
          "line": {
           "color": "rgba(0, 0, 0, 1.000)",
           "width": 1
          },
          "size": 8,
          "symbol": "circle"
         },
         "mode": "markers",
         "name": "y1",
         "showlegend": false,
         "type": "scatter",
         "x": [
          5.1534955
         ],
         "xaxis": "x",
         "y": [
          4.674216
         ],
         "yaxis": "y",
         "zmax": 2,
         "zmin": 1
        },
        {
         "colorbar": {
          "title": ""
         },
         "legendgroup": "y1",
         "marker": {
          "color": "rgba(204, 76, 204, 1.000)",
          "line": {
           "color": "rgba(0, 0, 0, 1.000)",
           "width": 1
          },
          "size": 8,
          "symbol": "circle"
         },
         "mode": "markers",
         "name": "y1",
         "showlegend": false,
         "type": "scatter",
         "x": [
          0.81181962
         ],
         "xaxis": "x",
         "y": [
          3.1249882
         ],
         "yaxis": "y",
         "zmax": 2,
         "zmin": 1
        },
        {
         "colorbar": {
          "title": ""
         },
         "legendgroup": "y1",
         "marker": {
          "color": "rgba(204, 76, 204, 1.000)",
          "line": {
           "color": "rgba(0, 0, 0, 1.000)",
           "width": 1
          },
          "size": 8,
          "symbol": "circle"
         },
         "mode": "markers",
         "name": "y1",
         "showlegend": false,
         "type": "scatter",
         "x": [
          2.3467634
         ],
         "xaxis": "x",
         "y": [
          3.5301013
         ],
         "yaxis": "y",
         "zmax": 2,
         "zmin": 1
        },
        {
         "colorbar": {
          "title": ""
         },
         "legendgroup": "y1",
         "marker": {
          "color": "rgba(204, 76, 204, 1.000)",
          "line": {
           "color": "rgba(0, 0, 0, 1.000)",
           "width": 1
          },
          "size": 8,
          "symbol": "circle"
         },
         "mode": "markers",
         "name": "y1",
         "showlegend": false,
         "type": "scatter",
         "x": [
          -0.089775417
         ],
         "xaxis": "x",
         "y": [
          2.0479318
         ],
         "yaxis": "y",
         "zmax": 2,
         "zmin": 1
        },
        {
         "colorbar": {
          "title": ""
         },
         "legendgroup": "y1",
         "marker": {
          "color": "rgba(204, 76, 204, 1.000)",
          "line": {
           "color": "rgba(0, 0, 0, 1.000)",
           "width": 1
          },
          "size": 8,
          "symbol": "circle"
         },
         "mode": "markers",
         "name": "y1",
         "showlegend": false,
         "type": "scatter",
         "x": [
          -2.0617502
         ],
         "xaxis": "x",
         "y": [
          3.8540428
         ],
         "yaxis": "y",
         "zmax": 2,
         "zmin": 1
        },
        {
         "colorbar": {
          "title": ""
         },
         "legendgroup": "y1",
         "marker": {
          "color": "rgba(204, 76, 204, 1.000)",
          "line": {
           "color": "rgba(0, 0, 0, 1.000)",
           "width": 1
          },
          "size": 8,
          "symbol": "circle"
         },
         "mode": "markers",
         "name": "y1",
         "showlegend": false,
         "type": "scatter",
         "x": [
          -8.2189656
         ],
         "xaxis": "x",
         "y": [
          3.3891457
         ],
         "yaxis": "y",
         "zmax": 2,
         "zmin": 1
        },
        {
         "colorbar": {
          "title": ""
         },
         "legendgroup": "y1",
         "marker": {
          "color": "rgba(255, 76, 76, 1.000)",
          "line": {
           "color": "rgba(0, 0, 0, 1.000)",
           "width": 1
          },
          "size": 8,
          "symbol": "circle"
         },
         "mode": "markers",
         "name": "y1",
         "showlegend": false,
         "type": "scatter",
         "x": [
          2.878837
         ],
         "xaxis": "x",
         "y": [
          1.8439989
         ],
         "yaxis": "y",
         "zmax": 2,
         "zmin": 1
        },
        {
         "colorbar": {
          "title": ""
         },
         "legendgroup": "y1",
         "marker": {
          "color": "rgba(204, 76, 204, 1.000)",
          "line": {
           "color": "rgba(0, 0, 0, 1.000)",
           "width": 1
          },
          "size": 8,
          "symbol": "circle"
         },
         "mode": "markers",
         "name": "y1",
         "showlegend": false,
         "type": "scatter",
         "x": [
          0.1399464
         ],
         "xaxis": "x",
         "y": [
          3.0397401
         ],
         "yaxis": "y",
         "zmax": 2,
         "zmin": 1
        },
        {
         "colorbar": {
          "title": ""
         },
         "legendgroup": "y1",
         "marker": {
          "color": "rgba(204, 76, 204, 1.000)",
          "line": {
           "color": "rgba(0, 0, 0, 1.000)",
           "width": 1
          },
          "size": 8,
          "symbol": "circle"
         },
         "mode": "markers",
         "name": "y1",
         "showlegend": false,
         "type": "scatter",
         "x": [
          0.40797128
         ],
         "xaxis": "x",
         "y": [
          2.5494014
         ],
         "yaxis": "y",
         "zmax": 2,
         "zmin": 1
        },
        {
         "colorbar": {
          "title": ""
         },
         "legendgroup": "y1",
         "marker": {
          "color": "rgba(204, 76, 204, 1.000)",
          "line": {
           "color": "rgba(0, 0, 0, 1.000)",
           "width": 1
          },
          "size": 8,
          "symbol": "circle"
         },
         "mode": "markers",
         "name": "y1",
         "showlegend": false,
         "type": "scatter",
         "x": [
          2.2168161
         ],
         "xaxis": "x",
         "y": [
          3.1092479
         ],
         "yaxis": "y",
         "zmax": 2,
         "zmin": 1
        },
        {
         "colorbar": {
          "title": ""
         },
         "legendgroup": "y1",
         "marker": {
          "color": "rgba(204, 76, 204, 1.000)",
          "line": {
           "color": "rgba(0, 0, 0, 1.000)",
           "width": 1
          },
          "size": 8,
          "symbol": "circle"
         },
         "mode": "markers",
         "name": "y1",
         "showlegend": false,
         "type": "scatter",
         "x": [
          -3.2580454
         ],
         "xaxis": "x",
         "y": [
          2.7494472
         ],
         "yaxis": "y",
         "zmax": 2,
         "zmin": 1
        },
        {
         "colorbar": {
          "title": ""
         },
         "legendgroup": "y1",
         "marker": {
          "color": "rgba(204, 76, 204, 1.000)",
          "line": {
           "color": "rgba(0, 0, 0, 1.000)",
           "width": 1
          },
          "size": 8,
          "symbol": "circle"
         },
         "mode": "markers",
         "name": "y1",
         "showlegend": false,
         "type": "scatter",
         "x": [
          -1.1883357
         ],
         "xaxis": "x",
         "y": [
          2.8100983
         ],
         "yaxis": "y",
         "zmax": 2,
         "zmin": 1
        },
        {
         "colorbar": {
          "title": ""
         },
         "legendgroup": "y1",
         "marker": {
          "color": "rgba(255, 76, 76, 1.000)",
          "line": {
           "color": "rgba(0, 0, 0, 1.000)",
           "width": 1
          },
          "size": 8,
          "symbol": "circle"
         },
         "mode": "markers",
         "name": "y1",
         "showlegend": false,
         "type": "scatter",
         "x": [
          4.4419835
         ],
         "xaxis": "x",
         "y": [
          1.9670865
         ],
         "yaxis": "y",
         "zmax": 2,
         "zmin": 1
        },
        {
         "colorbar": {
          "title": ""
         },
         "legendgroup": "y1",
         "marker": {
          "color": "rgba(204, 76, 204, 1.000)",
          "line": {
           "color": "rgba(0, 0, 0, 1.000)",
           "width": 1
          },
          "size": 8,
          "symbol": "circle"
         },
         "mode": "markers",
         "name": "y1",
         "showlegend": false,
         "type": "scatter",
         "x": [
          2.7935939
         ],
         "xaxis": "x",
         "y": [
          2.6767081
         ],
         "yaxis": "y",
         "zmax": 2,
         "zmin": 1
        },
        {
         "colorbar": {
          "title": ""
         },
         "legendgroup": "y1",
         "marker": {
          "color": "rgba(204, 76, 204, 1.000)",
          "line": {
           "color": "rgba(0, 0, 0, 1.000)",
           "width": 1
          },
          "size": 8,
          "symbol": "circle"
         },
         "mode": "markers",
         "name": "y1",
         "showlegend": false,
         "type": "scatter",
         "x": [
          -2.8438438
         ],
         "xaxis": "x",
         "y": [
          3.7665269
         ],
         "yaxis": "y",
         "zmax": 2,
         "zmin": 1
        },
        {
         "colorbar": {
          "title": ""
         },
         "legendgroup": "y1",
         "marker": {
          "color": "rgba(204, 76, 204, 1.000)",
          "line": {
           "color": "rgba(0, 0, 0, 1.000)",
           "width": 1
          },
          "size": 8,
          "symbol": "circle"
         },
         "mode": "markers",
         "name": "y1",
         "showlegend": false,
         "type": "scatter",
         "x": [
          -5.6097927
         ],
         "xaxis": "x",
         "y": [
          4.7446732
         ],
         "yaxis": "y",
         "zmax": 2,
         "zmin": 1
        },
        {
         "colorbar": {
          "title": ""
         },
         "legendgroup": "y1",
         "marker": {
          "color": "rgba(204, 76, 204, 1.000)",
          "line": {
           "color": "rgba(0, 0, 0, 1.000)",
           "width": 1
          },
          "size": 8,
          "symbol": "circle"
         },
         "mode": "markers",
         "name": "y1",
         "showlegend": false,
         "type": "scatter",
         "x": [
          -0.71373896
         ],
         "xaxis": "x",
         "y": [
          1.8394801
         ],
         "yaxis": "y",
         "zmax": 2,
         "zmin": 1
        },
        {
         "colorbar": {
          "title": ""
         },
         "legendgroup": "y1",
         "marker": {
          "color": "rgba(204, 76, 204, 1.000)",
          "line": {
           "color": "rgba(0, 0, 0, 1.000)",
           "width": 1
          },
          "size": 8,
          "symbol": "circle"
         },
         "mode": "markers",
         "name": "y1",
         "showlegend": false,
         "type": "scatter",
         "x": [
          1.6419894
         ],
         "xaxis": "x",
         "y": [
          5.3774119
         ],
         "yaxis": "y",
         "zmax": 2,
         "zmin": 1
        },
        {
         "colorbar": {
          "title": ""
         },
         "legendgroup": "y1",
         "marker": {
          "color": "rgba(204, 76, 204, 1.000)",
          "line": {
           "color": "rgba(0, 0, 0, 1.000)",
           "width": 1
          },
          "size": 8,
          "symbol": "circle"
         },
         "mode": "markers",
         "name": "y1",
         "showlegend": false,
         "type": "scatter",
         "x": [
          3.8271308
         ],
         "xaxis": "x",
         "y": [
          4.526078
         ],
         "yaxis": "y",
         "zmax": 2,
         "zmin": 1
        },
        {
         "colorbar": {
          "title": ""
         },
         "legendgroup": "y1",
         "marker": {
          "color": "rgba(204, 76, 204, 1.000)",
          "line": {
           "color": "rgba(0, 0, 0, 1.000)",
           "width": 1
          },
          "size": 8,
          "symbol": "circle"
         },
         "mode": "markers",
         "name": "y1",
         "showlegend": false,
         "type": "scatter",
         "x": [
          1.2811765
         ],
         "xaxis": "x",
         "y": [
          3.1685075
         ],
         "yaxis": "y",
         "zmax": 2,
         "zmin": 1
        },
        {
         "colorbar": {
          "title": ""
         },
         "legendgroup": "y1",
         "marker": {
          "color": "rgba(204, 76, 204, 1.000)",
          "line": {
           "color": "rgba(0, 0, 0, 1.000)",
           "width": 1
          },
          "size": 8,
          "symbol": "circle"
         },
         "mode": "markers",
         "name": "y1",
         "showlegend": false,
         "type": "scatter",
         "x": [
          -2.3669352
         ],
         "xaxis": "x",
         "y": [
          2.6987935
         ],
         "yaxis": "y",
         "zmax": 2,
         "zmin": 1
        },
        {
         "colorbar": {
          "title": ""
         },
         "legendgroup": "y1",
         "marker": {
          "color": "rgba(204, 76, 204, 1.000)",
          "line": {
           "color": "rgba(0, 0, 0, 1.000)",
           "width": 1
          },
          "size": 8,
          "symbol": "circle"
         },
         "mode": "markers",
         "name": "y1",
         "showlegend": false,
         "type": "scatter",
         "x": [
          1.9184735
         ],
         "xaxis": "x",
         "y": [
          2.3013457
         ],
         "yaxis": "y",
         "zmax": 2,
         "zmin": 1
        },
        {
         "colorbar": {
          "title": ""
         },
         "legendgroup": "y1",
         "marker": {
          "color": "rgba(204, 76, 204, 1.000)",
          "line": {
           "color": "rgba(0, 0, 0, 1.000)",
           "width": 1
          },
          "size": 8,
          "symbol": "circle"
         },
         "mode": "markers",
         "name": "y1",
         "showlegend": false,
         "type": "scatter",
         "x": [
          -2.5170046
         ],
         "xaxis": "x",
         "y": [
          3.8327706
         ],
         "yaxis": "y",
         "zmax": 2,
         "zmin": 1
        },
        {
         "colorbar": {
          "title": ""
         },
         "legendgroup": "y1",
         "marker": {
          "color": "rgba(204, 76, 204, 1.000)",
          "line": {
           "color": "rgba(0, 0, 0, 1.000)",
           "width": 1
          },
          "size": 8,
          "symbol": "circle"
         },
         "mode": "markers",
         "name": "y1",
         "showlegend": false,
         "type": "scatter",
         "x": [
          -1.8828997
         ],
         "xaxis": "x",
         "y": [
          2.3053947
         ],
         "yaxis": "y",
         "zmax": 2,
         "zmin": 1
        },
        {
         "colorbar": {
          "title": ""
         },
         "legendgroup": "y1",
         "marker": {
          "color": "rgba(204, 76, 204, 1.000)",
          "line": {
           "color": "rgba(0, 0, 0, 1.000)",
           "width": 1
          },
          "size": 8,
          "symbol": "circle"
         },
         "mode": "markers",
         "name": "y1",
         "showlegend": false,
         "type": "scatter",
         "x": [
          -0.96120505
         ],
         "xaxis": "x",
         "y": [
          2.538117
         ],
         "yaxis": "y",
         "zmax": 2,
         "zmin": 1
        },
        {
         "colorbar": {
          "title": ""
         },
         "legendgroup": "y1",
         "marker": {
          "color": "rgba(204, 76, 204, 1.000)",
          "line": {
           "color": "rgba(0, 0, 0, 1.000)",
           "width": 1
          },
          "size": 8,
          "symbol": "circle"
         },
         "mode": "markers",
         "name": "y1",
         "showlegend": false,
         "type": "scatter",
         "x": [
          -2.6881809
         ],
         "xaxis": "x",
         "y": [
          3.8836171
         ],
         "yaxis": "y",
         "zmax": 2,
         "zmin": 1
        },
        {
         "colorbar": {
          "title": ""
         },
         "legendgroup": "y1",
         "marker": {
          "color": "rgba(204, 76, 204, 1.000)",
          "line": {
           "color": "rgba(0, 0, 0, 1.000)",
           "width": 1
          },
          "size": 8,
          "symbol": "circle"
         },
         "mode": "markers",
         "name": "y1",
         "showlegend": false,
         "type": "scatter",
         "x": [
          0.18710461
         ],
         "xaxis": "x",
         "y": [
          3.4359442
         ],
         "yaxis": "y",
         "zmax": 2,
         "zmin": 1
        },
        {
         "colorbar": {
          "title": ""
         },
         "legendgroup": "y1",
         "marker": {
          "color": "rgba(204, 76, 204, 1.000)",
          "line": {
           "color": "rgba(0, 0, 0, 1.000)",
           "width": 1
          },
          "size": 8,
          "symbol": "circle"
         },
         "mode": "markers",
         "name": "y1",
         "showlegend": false,
         "type": "scatter",
         "x": [
          -1.6998502
         ],
         "xaxis": "x",
         "y": [
          3.8967474
         ],
         "yaxis": "y",
         "zmax": 2,
         "zmin": 1
        },
        {
         "colorbar": {
          "title": ""
         },
         "legendgroup": "y1",
         "marker": {
          "color": "rgba(204, 76, 204, 1.000)",
          "line": {
           "color": "rgba(0, 0, 0, 1.000)",
           "width": 1
          },
          "size": 8,
          "symbol": "circle"
         },
         "mode": "markers",
         "name": "y1",
         "showlegend": false,
         "type": "scatter",
         "x": [
          0.14294159
         ],
         "xaxis": "x",
         "y": [
          3.504732
         ],
         "yaxis": "y",
         "zmax": 2,
         "zmin": 1
        },
        {
         "colorbar": {
          "title": ""
         },
         "legendgroup": "y1",
         "marker": {
          "color": "rgba(204, 76, 204, 1.000)",
          "line": {
           "color": "rgba(0, 0, 0, 1.000)",
           "width": 1
          },
          "size": 8,
          "symbol": "circle"
         },
         "mode": "markers",
         "name": "y1",
         "showlegend": false,
         "type": "scatter",
         "x": [
          -0.38726463
         ],
         "xaxis": "x",
         "y": [
          2.5991029
         ],
         "yaxis": "y",
         "zmax": 2,
         "zmin": 1
        },
        {
         "colorbar": {
          "title": ""
         },
         "legendgroup": "y1",
         "marker": {
          "color": "rgba(204, 76, 204, 1.000)",
          "line": {
           "color": "rgba(0, 0, 0, 1.000)",
           "width": 1
          },
          "size": 8,
          "symbol": "circle"
         },
         "mode": "markers",
         "name": "y1",
         "showlegend": false,
         "type": "scatter",
         "x": [
          -0.22935564
         ],
         "xaxis": "x",
         "y": [
          2.486152
         ],
         "yaxis": "y",
         "zmax": 2,
         "zmin": 1
        },
        {
         "colorbar": {
          "title": ""
         },
         "legendgroup": "y1",
         "marker": {
          "color": "rgba(204, 76, 204, 1.000)",
          "line": {
           "color": "rgba(0, 0, 0, 1.000)",
           "width": 1
          },
          "size": 8,
          "symbol": "circle"
         },
         "mode": "markers",
         "name": "y1",
         "showlegend": false,
         "type": "scatter",
         "x": [
          -0.51061695
         ],
         "xaxis": "x",
         "y": [
          3.7963676
         ],
         "yaxis": "y",
         "zmax": 2,
         "zmin": 1
        },
        {
         "colorbar": {
          "title": ""
         },
         "legendgroup": "y1",
         "marker": {
          "color": "rgba(255, 76, 76, 1.000)",
          "line": {
           "color": "rgba(0, 0, 0, 1.000)",
           "width": 1
          },
          "size": 8,
          "symbol": "circle"
         },
         "mode": "markers",
         "name": "y1",
         "showlegend": false,
         "type": "scatter",
         "x": [
          4.6998913
         ],
         "xaxis": "x",
         "y": [
          2.3288098
         ],
         "yaxis": "y",
         "zmax": 2,
         "zmin": 1
        },
        {
         "colorbar": {
          "title": ""
         },
         "legendgroup": "y1",
         "marker": {
          "color": "rgba(204, 76, 204, 1.000)",
          "line": {
           "color": "rgba(0, 0, 0, 1.000)",
           "width": 1
          },
          "size": 8,
          "symbol": "circle"
         },
         "mode": "markers",
         "name": "y1",
         "showlegend": false,
         "type": "scatter",
         "x": [
          2.8309157
         ],
         "xaxis": "x",
         "y": [
          4.186659
         ],
         "yaxis": "y",
         "zmax": 2,
         "zmin": 1
        },
        {
         "colorbar": {
          "title": ""
         },
         "legendgroup": "y1",
         "marker": {
          "color": "rgba(204, 76, 204, 1.000)",
          "line": {
           "color": "rgba(0, 0, 0, 1.000)",
           "width": 1
          },
          "size": 8,
          "symbol": "circle"
         },
         "mode": "markers",
         "name": "y1",
         "showlegend": false,
         "type": "scatter",
         "x": [
          1.1772165
         ],
         "xaxis": "x",
         "y": [
          3.790702
         ],
         "yaxis": "y",
         "zmax": 2,
         "zmin": 1
        },
        {
         "colorbar": {
          "title": ""
         },
         "legendgroup": "y1",
         "marker": {
          "color": "rgba(204, 76, 204, 1.000)",
          "line": {
           "color": "rgba(0, 0, 0, 1.000)",
           "width": 1
          },
          "size": 8,
          "symbol": "circle"
         },
         "mode": "markers",
         "name": "y1",
         "showlegend": false,
         "type": "scatter",
         "x": [
          -3.4008402
         ],
         "xaxis": "x",
         "y": [
          3.2877215
         ],
         "yaxis": "y",
         "zmax": 2,
         "zmin": 1
        },
        {
         "colorbar": {
          "title": ""
         },
         "legendgroup": "y1",
         "marker": {
          "color": "rgba(204, 76, 204, 1.000)",
          "line": {
           "color": "rgba(0, 0, 0, 1.000)",
           "width": 1
          },
          "size": 8,
          "symbol": "circle"
         },
         "mode": "markers",
         "name": "y1",
         "showlegend": false,
         "type": "scatter",
         "x": [
          -3.8774098
         ],
         "xaxis": "x",
         "y": [
          3.0032261
         ],
         "yaxis": "y",
         "zmax": 2,
         "zmin": 1
        },
        {
         "colorbar": {
          "title": ""
         },
         "legendgroup": "y1",
         "marker": {
          "color": "rgba(204, 76, 204, 1.000)",
          "line": {
           "color": "rgba(0, 0, 0, 1.000)",
           "width": 1
          },
          "size": 8,
          "symbol": "circle"
         },
         "mode": "markers",
         "name": "y1",
         "showlegend": false,
         "type": "scatter",
         "x": [
          -4.8942572
         ],
         "xaxis": "x",
         "y": [
          3.3656172
         ],
         "yaxis": "y",
         "zmax": 2,
         "zmin": 1
        },
        {
         "colorbar": {
          "title": ""
         },
         "legendgroup": "y1",
         "marker": {
          "color": "rgba(255, 76, 76, 1.000)",
          "line": {
           "color": "rgba(0, 0, 0, 1.000)",
           "width": 1
          },
          "size": 8,
          "symbol": "circle"
         },
         "mode": "markers",
         "name": "y1",
         "showlegend": false,
         "type": "scatter",
         "x": [
          8.8155873
         ],
         "xaxis": "x",
         "y": [
          6.5266778
         ],
         "yaxis": "y",
         "zmax": 2,
         "zmin": 1
        },
        {
         "colorbar": {
          "title": ""
         },
         "legendgroup": "y1",
         "marker": {
          "color": "rgba(255, 76, 76, 1.000)",
          "line": {
           "color": "rgba(0, 0, 0, 1.000)",
           "width": 1
          },
          "size": 8,
          "symbol": "circle"
         },
         "mode": "markers",
         "name": "y1",
         "showlegend": false,
         "type": "scatter",
         "x": [
          3.9171244
         ],
         "xaxis": "x",
         "y": [
          2.8875633
         ],
         "yaxis": "y",
         "zmax": 2,
         "zmin": 1
        },
        {
         "colorbar": {
          "title": ""
         },
         "legendgroup": "y1",
         "marker": {
          "color": "rgba(204, 76, 204, 1.000)",
          "line": {
           "color": "rgba(0, 0, 0, 1.000)",
           "width": 1
          },
          "size": 8,
          "symbol": "circle"
         },
         "mode": "markers",
         "name": "y1",
         "showlegend": false,
         "type": "scatter",
         "x": [
          1.7709429
         ],
         "xaxis": "x",
         "y": [
          1.4434061
         ],
         "yaxis": "y",
         "zmax": 2,
         "zmin": 1
        },
        {
         "colorbar": {
          "title": ""
         },
         "legendgroup": "y1",
         "marker": {
          "color": "rgba(204, 76, 204, 1.000)",
          "line": {
           "color": "rgba(0, 0, 0, 1.000)",
           "width": 1
          },
          "size": 8,
          "symbol": "circle"
         },
         "mode": "markers",
         "name": "y1",
         "showlegend": false,
         "type": "scatter",
         "x": [
          -1.9227214
         ],
         "xaxis": "x",
         "y": [
          4.9151023
         ],
         "yaxis": "y",
         "zmax": 2,
         "zmin": 1
        },
        {
         "colorbar": {
          "title": ""
         },
         "legendgroup": "y1",
         "marker": {
          "color": "rgba(204, 76, 204, 1.000)",
          "line": {
           "color": "rgba(0, 0, 0, 1.000)",
           "width": 1
          },
          "size": 8,
          "symbol": "circle"
         },
         "mode": "markers",
         "name": "y1",
         "showlegend": false,
         "type": "scatter",
         "x": [
          -2.4390932
         ],
         "xaxis": "x",
         "y": [
          3.6098461
         ],
         "yaxis": "y",
         "zmax": 2,
         "zmin": 1
        },
        {
         "colorbar": {
          "title": ""
         },
         "legendgroup": "y1",
         "marker": {
          "color": "rgba(204, 76, 204, 1.000)",
          "line": {
           "color": "rgba(0, 0, 0, 1.000)",
           "width": 1
          },
          "size": 8,
          "symbol": "circle"
         },
         "mode": "markers",
         "name": "y1",
         "showlegend": false,
         "type": "scatter",
         "x": [
          2.6429185
         ],
         "xaxis": "x",
         "y": [
          2.3520884
         ],
         "yaxis": "y",
         "zmax": 2,
         "zmin": 1
        },
        {
         "colorbar": {
          "title": ""
         },
         "legendgroup": "y1",
         "marker": {
          "color": "rgba(255, 76, 76, 1.000)",
          "line": {
           "color": "rgba(0, 0, 0, 1.000)",
           "width": 1
          },
          "size": 8,
          "symbol": "circle"
         },
         "mode": "markers",
         "name": "y1",
         "showlegend": false,
         "type": "scatter",
         "x": [
          5.695252
         ],
         "xaxis": "x",
         "y": [
          5.6173349
         ],
         "yaxis": "y",
         "zmax": 2,
         "zmin": 1
        },
        {
         "colorbar": {
          "title": ""
         },
         "legendgroup": "y1",
         "marker": {
          "color": "rgba(204, 76, 204, 1.000)",
          "line": {
           "color": "rgba(0, 0, 0, 1.000)",
           "width": 1
          },
          "size": 8,
          "symbol": "circle"
         },
         "mode": "markers",
         "name": "y1",
         "showlegend": false,
         "type": "scatter",
         "x": [
          -4.080031
         ],
         "xaxis": "x",
         "y": [
          3.5509504
         ],
         "yaxis": "y",
         "zmax": 2,
         "zmin": 1
        },
        {
         "colorbar": {
          "title": ""
         },
         "legendgroup": "y1",
         "marker": {
          "color": "rgba(204, 76, 204, 1.000)",
          "line": {
           "color": "rgba(0, 0, 0, 1.000)",
           "width": 1
          },
          "size": 8,
          "symbol": "circle"
         },
         "mode": "markers",
         "name": "y1",
         "showlegend": false,
         "type": "scatter",
         "x": [
          -0.34819208
         ],
         "xaxis": "x",
         "y": [
          3.2942037
         ],
         "yaxis": "y",
         "zmax": 2,
         "zmin": 1
        },
        {
         "colorbar": {
          "title": ""
         },
         "legendgroup": "y1",
         "marker": {
          "color": "rgba(204, 76, 204, 1.000)",
          "line": {
           "color": "rgba(0, 0, 0, 1.000)",
           "width": 1
          },
          "size": 8,
          "symbol": "circle"
         },
         "mode": "markers",
         "name": "y1",
         "showlegend": false,
         "type": "scatter",
         "x": [
          0.74712378
         ],
         "xaxis": "x",
         "y": [
          2.2221562
         ],
         "yaxis": "y",
         "zmax": 2,
         "zmin": 1
        },
        {
         "colorbar": {
          "title": ""
         },
         "legendgroup": "y1",
         "marker": {
          "color": "rgba(204, 76, 204, 1.000)",
          "line": {
           "color": "rgba(0, 0, 0, 1.000)",
           "width": 1
          },
          "size": 8,
          "symbol": "circle"
         },
         "mode": "markers",
         "name": "y1",
         "showlegend": false,
         "type": "scatter",
         "x": [
          -4.9759915
         ],
         "xaxis": "x",
         "y": [
          1.9350699
         ],
         "yaxis": "y",
         "zmax": 2,
         "zmin": 1
        },
        {
         "colorbar": {
          "title": ""
         },
         "legendgroup": "y1",
         "marker": {
          "color": "rgba(255, 76, 76, 1.000)",
          "line": {
           "color": "rgba(0, 0, 0, 1.000)",
           "width": 1
          },
          "size": 8,
          "symbol": "circle"
         },
         "mode": "markers",
         "name": "y1",
         "showlegend": false,
         "type": "scatter",
         "x": [
          3.523737
         ],
         "xaxis": "x",
         "y": [
          1.231586
         ],
         "yaxis": "y",
         "zmax": 2,
         "zmin": 1
        },
        {
         "colorbar": {
          "title": ""
         },
         "legendgroup": "y1",
         "marker": {
          "color": "rgba(204, 76, 204, 1.000)",
          "line": {
           "color": "rgba(0, 0, 0, 1.000)",
           "width": 1
          },
          "size": 8,
          "symbol": "circle"
         },
         "mode": "markers",
         "name": "y1",
         "showlegend": false,
         "type": "scatter",
         "x": [
          -0.24397675
         ],
         "xaxis": "x",
         "y": [
          2.5770805
         ],
         "yaxis": "y",
         "zmax": 2,
         "zmin": 1
        },
        {
         "colorbar": {
          "title": ""
         },
         "legendgroup": "y1",
         "marker": {
          "color": "rgba(255, 76, 76, 1.000)",
          "line": {
           "color": "rgba(0, 0, 0, 1.000)",
           "width": 1
          },
          "size": 8,
          "symbol": "circle"
         },
         "mode": "markers",
         "name": "y1",
         "showlegend": false,
         "type": "scatter",
         "x": [
          6.7365425
         ],
         "xaxis": "x",
         "y": [
          1.9468976
         ],
         "yaxis": "y",
         "zmax": 2,
         "zmin": 1
        },
        {
         "colorbar": {
          "title": ""
         },
         "legendgroup": "y1",
         "marker": {
          "color": "rgba(204, 76, 204, 1.000)",
          "line": {
           "color": "rgba(0, 0, 0, 1.000)",
           "width": 1
          },
          "size": 8,
          "symbol": "circle"
         },
         "mode": "markers",
         "name": "y1",
         "showlegend": false,
         "type": "scatter",
         "x": [
          -0.1726962
         ],
         "xaxis": "x",
         "y": [
          3.6477552
         ],
         "yaxis": "y",
         "zmax": 2,
         "zmin": 1
        },
        {
         "colorbar": {
          "title": ""
         },
         "legendgroup": "y1",
         "marker": {
          "color": "rgba(204, 76, 204, 1.000)",
          "line": {
           "color": "rgba(0, 0, 0, 1.000)",
           "width": 1
          },
          "size": 8,
          "symbol": "circle"
         },
         "mode": "markers",
         "name": "y1",
         "showlegend": false,
         "type": "scatter",
         "x": [
          2.2275462
         ],
         "xaxis": "x",
         "y": [
          2.6823718
         ],
         "yaxis": "y",
         "zmax": 2,
         "zmin": 1
        },
        {
         "colorbar": {
          "title": ""
         },
         "legendgroup": "y1",
         "marker": {
          "color": "rgba(204, 76, 204, 1.000)",
          "line": {
           "color": "rgba(0, 0, 0, 1.000)",
           "width": 1
          },
          "size": 8,
          "symbol": "circle"
         },
         "mode": "markers",
         "name": "y1",
         "showlegend": false,
         "type": "scatter",
         "x": [
          -2.4272845
         ],
         "xaxis": "x",
         "y": [
          4.7689916
         ],
         "yaxis": "y",
         "zmax": 2,
         "zmin": 1
        },
        {
         "colorbar": {
          "title": ""
         },
         "legendgroup": "y1",
         "marker": {
          "color": "rgba(204, 76, 204, 1.000)",
          "line": {
           "color": "rgba(0, 0, 0, 1.000)",
           "width": 1
          },
          "size": 8,
          "symbol": "circle"
         },
         "mode": "markers",
         "name": "y1",
         "showlegend": false,
         "type": "scatter",
         "x": [
          -0.87459133
         ],
         "xaxis": "x",
         "y": [
          4.5105824
         ],
         "yaxis": "y",
         "zmax": 2,
         "zmin": 1
        },
        {
         "colorbar": {
          "title": ""
         },
         "legendgroup": "y1",
         "marker": {
          "color": "rgba(204, 76, 204, 1.000)",
          "line": {
           "color": "rgba(0, 0, 0, 1.000)",
           "width": 1
          },
          "size": 8,
          "symbol": "circle"
         },
         "mode": "markers",
         "name": "y1",
         "showlegend": false,
         "type": "scatter",
         "x": [
          -2.5061685
         ],
         "xaxis": "x",
         "y": [
          3.1640103
         ],
         "yaxis": "y",
         "zmax": 2,
         "zmin": 1
        },
        {
         "colorbar": {
          "title": ""
         },
         "legendgroup": "y1",
         "marker": {
          "color": "rgba(204, 76, 204, 1.000)",
          "line": {
           "color": "rgba(0, 0, 0, 1.000)",
           "width": 1
          },
          "size": 8,
          "symbol": "circle"
         },
         "mode": "markers",
         "name": "y1",
         "showlegend": false,
         "type": "scatter",
         "x": [
          2.1777258
         ],
         "xaxis": "x",
         "y": [
          2.7172363
         ],
         "yaxis": "y",
         "zmax": 2,
         "zmin": 1
        },
        {
         "colorbar": {
          "title": ""
         },
         "legendgroup": "y1",
         "marker": {
          "color": "rgba(255, 76, 76, 1.000)",
          "line": {
           "color": "rgba(0, 0, 0, 1.000)",
           "width": 1
          },
          "size": 8,
          "symbol": "circle"
         },
         "mode": "markers",
         "name": "y1",
         "showlegend": false,
         "type": "scatter",
         "x": [
          4.9055185
         ],
         "xaxis": "x",
         "y": [
          4.1521658
         ],
         "yaxis": "y",
         "zmax": 2,
         "zmin": 1
        },
        {
         "colorbar": {
          "title": ""
         },
         "legendgroup": "y1",
         "marker": {
          "color": "rgba(204, 76, 204, 1.000)",
          "line": {
           "color": "rgba(0, 0, 0, 1.000)",
           "width": 1
          },
          "size": 8,
          "symbol": "circle"
         },
         "mode": "markers",
         "name": "y1",
         "showlegend": false,
         "type": "scatter",
         "x": [
          -0.78092529
         ],
         "xaxis": "x",
         "y": [
          1.8534924
         ],
         "yaxis": "y",
         "zmax": 2,
         "zmin": 1
        },
        {
         "colorbar": {
          "title": ""
         },
         "legendgroup": "y1",
         "marker": {
          "color": "rgba(204, 76, 204, 1.000)",
          "line": {
           "color": "rgba(0, 0, 0, 1.000)",
           "width": 1
          },
          "size": 8,
          "symbol": "circle"
         },
         "mode": "markers",
         "name": "y1",
         "showlegend": false,
         "type": "scatter",
         "x": [
          2.3091262
         ],
         "xaxis": "x",
         "y": [
          3.6736987
         ],
         "yaxis": "y",
         "zmax": 2,
         "zmin": 1
        },
        {
         "colorbar": {
          "title": ""
         },
         "legendgroup": "y1",
         "marker": {
          "color": "rgba(204, 76, 204, 1.000)",
          "line": {
           "color": "rgba(0, 0, 0, 1.000)",
           "width": 1
          },
          "size": 8,
          "symbol": "circle"
         },
         "mode": "markers",
         "name": "y1",
         "showlegend": false,
         "type": "scatter",
         "x": [
          -0.51308744
         ],
         "xaxis": "x",
         "y": [
          2.330887
         ],
         "yaxis": "y",
         "zmax": 2,
         "zmin": 1
        },
        {
         "colorbar": {
          "title": ""
         },
         "legendgroup": "y1",
         "marker": {
          "color": "rgba(204, 76, 204, 1.000)",
          "line": {
           "color": "rgba(0, 0, 0, 1.000)",
           "width": 1
          },
          "size": 8,
          "symbol": "circle"
         },
         "mode": "markers",
         "name": "y1",
         "showlegend": false,
         "type": "scatter",
         "x": [
          1.3063231
         ],
         "xaxis": "x",
         "y": [
          2.5996773
         ],
         "yaxis": "y",
         "zmax": 2,
         "zmin": 1
        },
        {
         "colorbar": {
          "title": ""
         },
         "legendgroup": "y1",
         "marker": {
          "color": "rgba(255, 76, 76, 1.000)",
          "line": {
           "color": "rgba(0, 0, 0, 1.000)",
           "width": 1
          },
          "size": 8,
          "symbol": "circle"
         },
         "mode": "markers",
         "name": "y1",
         "showlegend": false,
         "type": "scatter",
         "x": [
          4.5887516
         ],
         "xaxis": "x",
         "y": [
          2.3281976
         ],
         "yaxis": "y",
         "zmax": 2,
         "zmin": 1
        },
        {
         "colorbar": {
          "title": ""
         },
         "legendgroup": "y1",
         "marker": {
          "color": "rgba(204, 76, 204, 1.000)",
          "line": {
           "color": "rgba(0, 0, 0, 1.000)",
           "width": 1
          },
          "size": 8,
          "symbol": "circle"
         },
         "mode": "markers",
         "name": "y1",
         "showlegend": false,
         "type": "scatter",
         "x": [
          1.3608484
         ],
         "xaxis": "x",
         "y": [
          3.575629
         ],
         "yaxis": "y",
         "zmax": 2,
         "zmin": 1
        },
        {
         "colorbar": {
          "title": ""
         },
         "legendgroup": "y1",
         "marker": {
          "color": "rgba(204, 76, 204, 1.000)",
          "line": {
           "color": "rgba(0, 0, 0, 1.000)",
           "width": 1
          },
          "size": 8,
          "symbol": "circle"
         },
         "mode": "markers",
         "name": "y1",
         "showlegend": false,
         "type": "scatter",
         "x": [
          -2.1105302
         ],
         "xaxis": "x",
         "y": [
          2.2219065
         ],
         "yaxis": "y",
         "zmax": 2,
         "zmin": 1
        },
        {
         "colorbar": {
          "title": ""
         },
         "legendgroup": "y1",
         "marker": {
          "color": "rgba(204, 76, 204, 1.000)",
          "line": {
           "color": "rgba(0, 0, 0, 1.000)",
           "width": 1
          },
          "size": 8,
          "symbol": "circle"
         },
         "mode": "markers",
         "name": "y1",
         "showlegend": false,
         "type": "scatter",
         "x": [
          -1.5713097
         ],
         "xaxis": "x",
         "y": [
          1.9364388
         ],
         "yaxis": "y",
         "zmax": 2,
         "zmin": 1
        },
        {
         "colorbar": {
          "title": ""
         },
         "legendgroup": "y1",
         "marker": {
          "color": "rgba(204, 76, 204, 1.000)",
          "line": {
           "color": "rgba(0, 0, 0, 1.000)",
           "width": 1
          },
          "size": 8,
          "symbol": "circle"
         },
         "mode": "markers",
         "name": "y1",
         "showlegend": false,
         "type": "scatter",
         "x": [
          0.49037709
         ],
         "xaxis": "x",
         "y": [
          3.5529783
         ],
         "yaxis": "y",
         "zmax": 2,
         "zmin": 1
        },
        {
         "colorbar": {
          "title": ""
         },
         "legendgroup": "y1",
         "marker": {
          "color": "rgba(204, 76, 204, 1.000)",
          "line": {
           "color": "rgba(0, 0, 0, 1.000)",
           "width": 1
          },
          "size": 8,
          "symbol": "circle"
         },
         "mode": "markers",
         "name": "y1",
         "showlegend": false,
         "type": "scatter",
         "x": [
          0.42499516
         ],
         "xaxis": "x",
         "y": [
          2.5765712
         ],
         "yaxis": "y",
         "zmax": 2,
         "zmin": 1
        },
        {
         "colorbar": {
          "title": ""
         },
         "legendgroup": "y1",
         "marker": {
          "color": "rgba(204, 76, 204, 1.000)",
          "line": {
           "color": "rgba(0, 0, 0, 1.000)",
           "width": 1
          },
          "size": 8,
          "symbol": "circle"
         },
         "mode": "markers",
         "name": "y1",
         "showlegend": false,
         "type": "scatter",
         "x": [
          -1.5974456
         ],
         "xaxis": "x",
         "y": [
          3.3615872
         ],
         "yaxis": "y",
         "zmax": 2,
         "zmin": 1
        },
        {
         "colorbar": {
          "title": ""
         },
         "legendgroup": "y1",
         "marker": {
          "color": "rgba(204, 76, 204, 1.000)",
          "line": {
           "color": "rgba(0, 0, 0, 1.000)",
           "width": 1
          },
          "size": 8,
          "symbol": "circle"
         },
         "mode": "markers",
         "name": "y1",
         "showlegend": false,
         "type": "scatter",
         "x": [
          1.5419924
         ],
         "xaxis": "x",
         "y": [
          2.6481108
         ],
         "yaxis": "y",
         "zmax": 2,
         "zmin": 1
        },
        {
         "colorbar": {
          "title": ""
         },
         "legendgroup": "y1",
         "marker": {
          "color": "rgba(255, 76, 76, 1.000)",
          "line": {
           "color": "rgba(0, 0, 0, 1.000)",
           "width": 1
          },
          "size": 8,
          "symbol": "circle"
         },
         "mode": "markers",
         "name": "y1",
         "showlegend": false,
         "type": "scatter",
         "x": [
          4.7995854
         ],
         "xaxis": "x",
         "y": [
          3.2695407
         ],
         "yaxis": "y",
         "zmax": 2,
         "zmin": 1
        },
        {
         "colorbar": {
          "title": ""
         },
         "legendgroup": "y1",
         "marker": {
          "color": "rgba(204, 76, 204, 1.000)",
          "line": {
           "color": "rgba(0, 0, 0, 1.000)",
           "width": 1
          },
          "size": 8,
          "symbol": "circle"
         },
         "mode": "markers",
         "name": "y1",
         "showlegend": false,
         "type": "scatter",
         "x": [
          0.24649214
         ],
         "xaxis": "x",
         "y": [
          0.43555064
         ],
         "yaxis": "y",
         "zmax": 2,
         "zmin": 1
        },
        {
         "colorbar": {
          "title": ""
         },
         "legendgroup": "y1",
         "marker": {
          "color": "rgba(204, 76, 204, 1.000)",
          "line": {
           "color": "rgba(0, 0, 0, 1.000)",
           "width": 1
          },
          "size": 8,
          "symbol": "circle"
         },
         "mode": "markers",
         "name": "y1",
         "showlegend": false,
         "type": "scatter",
         "x": [
          0.38628985
         ],
         "xaxis": "x",
         "y": [
          3.4658641
         ],
         "yaxis": "y",
         "zmax": 2,
         "zmin": 1
        },
        {
         "colorbar": {
          "title": ""
         },
         "legendgroup": "y1",
         "marker": {
          "color": "rgba(204, 76, 204, 1.000)",
          "line": {
           "color": "rgba(0, 0, 0, 1.000)",
           "width": 1
          },
          "size": 8,
          "symbol": "circle"
         },
         "mode": "markers",
         "name": "y1",
         "showlegend": false,
         "type": "scatter",
         "x": [
          -5.6045657
         ],
         "xaxis": "x",
         "y": [
          4.8535609
         ],
         "yaxis": "y",
         "zmax": 2,
         "zmin": 1
        },
        {
         "colorbar": {
          "title": ""
         },
         "legendgroup": "y1",
         "marker": {
          "color": "rgba(204, 76, 204, 1.000)",
          "line": {
           "color": "rgba(0, 0, 0, 1.000)",
           "width": 1
          },
          "size": 8,
          "symbol": "circle"
         },
         "mode": "markers",
         "name": "y1",
         "showlegend": false,
         "type": "scatter",
         "x": [
          -1.3235393
         ],
         "xaxis": "x",
         "y": [
          4.0392893
         ],
         "yaxis": "y",
         "zmax": 2,
         "zmin": 1
        },
        {
         "colorbar": {
          "title": ""
         },
         "legendgroup": "y1",
         "marker": {
          "color": "rgba(204, 76, 204, 1.000)",
          "line": {
           "color": "rgba(0, 0, 0, 1.000)",
           "width": 1
          },
          "size": 8,
          "symbol": "circle"
         },
         "mode": "markers",
         "name": "y1",
         "showlegend": false,
         "type": "scatter",
         "x": [
          -3.1798178
         ],
         "xaxis": "x",
         "y": [
          3.9108966
         ],
         "yaxis": "y",
         "zmax": 2,
         "zmin": 1
        },
        {
         "colorbar": {
          "title": ""
         },
         "legendgroup": "y1",
         "marker": {
          "color": "rgba(204, 76, 204, 1.000)",
          "line": {
           "color": "rgba(0, 0, 0, 1.000)",
           "width": 1
          },
          "size": 8,
          "symbol": "circle"
         },
         "mode": "markers",
         "name": "y1",
         "showlegend": false,
         "type": "scatter",
         "x": [
          -0.15870395
         ],
         "xaxis": "x",
         "y": [
          2.7602687
         ],
         "yaxis": "y",
         "zmax": 2,
         "zmin": 1
        },
        {
         "colorbar": {
          "title": ""
         },
         "legendgroup": "y1",
         "marker": {
          "color": "rgba(204, 76, 204, 1.000)",
          "line": {
           "color": "rgba(0, 0, 0, 1.000)",
           "width": 1
          },
          "size": 8,
          "symbol": "circle"
         },
         "mode": "markers",
         "name": "y1",
         "showlegend": false,
         "type": "scatter",
         "x": [
          2.5767591
         ],
         "xaxis": "x",
         "y": [
          3.1809981
         ],
         "yaxis": "y",
         "zmax": 2,
         "zmin": 1
        },
        {
         "colorbar": {
          "title": ""
         },
         "legendgroup": "y1",
         "marker": {
          "color": "rgba(255, 76, 76, 1.000)",
          "line": {
           "color": "rgba(0, 0, 0, 1.000)",
           "width": 1
          },
          "size": 8,
          "symbol": "circle"
         },
         "mode": "markers",
         "name": "y1",
         "showlegend": false,
         "type": "scatter",
         "x": [
          5.5698078
         ],
         "xaxis": "x",
         "y": [
          3.2442495
         ],
         "yaxis": "y",
         "zmax": 2,
         "zmin": 1
        },
        {
         "colorbar": {
          "title": ""
         },
         "legendgroup": "y1",
         "marker": {
          "color": "rgba(255, 76, 76, 1.000)",
          "line": {
           "color": "rgba(0, 0, 0, 1.000)",
           "width": 1
          },
          "size": 8,
          "symbol": "circle"
         },
         "mode": "markers",
         "name": "y1",
         "showlegend": false,
         "type": "scatter",
         "x": [
          6.3954834
         ],
         "xaxis": "x",
         "y": [
          3.0963929
         ],
         "yaxis": "y",
         "zmax": 2,
         "zmin": 1
        },
        {
         "colorbar": {
          "title": ""
         },
         "legendgroup": "y1",
         "marker": {
          "color": "rgba(255, 76, 76, 1.000)",
          "line": {
           "color": "rgba(0, 0, 0, 1.000)",
           "width": 1
          },
          "size": 8,
          "symbol": "circle"
         },
         "mode": "markers",
         "name": "y1",
         "showlegend": false,
         "type": "scatter",
         "x": [
          5.7296068
         ],
         "xaxis": "x",
         "y": [
          0.50245797
         ],
         "yaxis": "y",
         "zmax": 2,
         "zmin": 1
        },
        {
         "colorbar": {
          "title": ""
         },
         "legendgroup": "y1",
         "marker": {
          "color": "rgba(255, 76, 76, 1.000)",
          "line": {
           "color": "rgba(0, 0, 0, 1.000)",
           "width": 1
          },
          "size": 8,
          "symbol": "circle"
         },
         "mode": "markers",
         "name": "y1",
         "showlegend": false,
         "type": "scatter",
         "x": [
          5.8456791
         ],
         "xaxis": "x",
         "y": [
          2.5565118
         ],
         "yaxis": "y",
         "zmax": 2,
         "zmin": 1
        },
        {
         "colorbar": {
          "title": ""
         },
         "legendgroup": "y1",
         "marker": {
          "color": "rgba(255, 76, 76, 1.000)",
          "line": {
           "color": "rgba(0, 0, 0, 1.000)",
           "width": 1
          },
          "size": 8,
          "symbol": "circle"
         },
         "mode": "markers",
         "name": "y1",
         "showlegend": false,
         "type": "scatter",
         "x": [
          5.4517033
         ],
         "xaxis": "x",
         "y": [
          1.4461251
         ],
         "yaxis": "y",
         "zmax": 2,
         "zmin": 1
        },
        {
         "colorbar": {
          "title": ""
         },
         "legendgroup": "y1",
         "marker": {
          "color": "rgba(255, 76, 76, 1.000)",
          "line": {
           "color": "rgba(0, 0, 0, 1.000)",
           "width": 1
          },
          "size": 8,
          "symbol": "circle"
         },
         "mode": "markers",
         "name": "y1",
         "showlegend": false,
         "type": "scatter",
         "x": [
          5.7534951
         ],
         "xaxis": "x",
         "y": [
          -3.5665122
         ],
         "yaxis": "y",
         "zmax": 2,
         "zmin": 1
        },
        {
         "colorbar": {
          "title": ""
         },
         "legendgroup": "y1",
         "marker": {
          "color": "rgba(255, 76, 76, 1.000)",
          "line": {
           "color": "rgba(0, 0, 0, 1.000)",
           "width": 1
          },
          "size": 8,
          "symbol": "circle"
         },
         "mode": "markers",
         "name": "y1",
         "showlegend": false,
         "type": "scatter",
         "x": [
          5.9096303
         ],
         "xaxis": "x",
         "y": [
          -5.657909
         ],
         "yaxis": "y",
         "zmax": 2,
         "zmin": 1
        },
        {
         "colorbar": {
          "title": ""
         },
         "legendgroup": "y1",
         "marker": {
          "color": "rgba(255, 76, 76, 1.000)",
          "line": {
           "color": "rgba(0, 0, 0, 1.000)",
           "width": 1
          },
          "size": 8,
          "symbol": "circle"
         },
         "mode": "markers",
         "name": "y1",
         "showlegend": false,
         "type": "scatter",
         "x": [
          6.0229206
         ],
         "xaxis": "x",
         "y": [
          0.80386293
         ],
         "yaxis": "y",
         "zmax": 2,
         "zmin": 1
        },
        {
         "colorbar": {
          "title": ""
         },
         "legendgroup": "y1",
         "marker": {
          "color": "rgba(255, 76, 76, 1.000)",
          "line": {
           "color": "rgba(0, 0, 0, 1.000)",
           "width": 1
          },
          "size": 8,
          "symbol": "circle"
         },
         "mode": "markers",
         "name": "y1",
         "showlegend": false,
         "type": "scatter",
         "x": [
          5.9681084
         ],
         "xaxis": "x",
         "y": [
          -4.6712774
         ],
         "yaxis": "y",
         "zmax": 2,
         "zmin": 1
        },
        {
         "colorbar": {
          "title": ""
         },
         "legendgroup": "y1",
         "marker": {
          "color": "rgba(255, 76, 76, 1.000)",
          "line": {
           "color": "rgba(0, 0, 0, 1.000)",
           "width": 1
          },
          "size": 8,
          "symbol": "circle"
         },
         "mode": "markers",
         "name": "y1",
         "showlegend": false,
         "type": "scatter",
         "x": [
          6.3056676
         ],
         "xaxis": "x",
         "y": [
          -0.86648618
         ],
         "yaxis": "y",
         "zmax": 2,
         "zmin": 1
        },
        {
         "colorbar": {
          "title": ""
         },
         "legendgroup": "y1",
         "marker": {
          "color": "rgba(255, 76, 76, 1.000)",
          "line": {
           "color": "rgba(0, 0, 0, 1.000)",
           "width": 1
          },
          "size": 8,
          "symbol": "circle"
         },
         "mode": "markers",
         "name": "y1",
         "showlegend": false,
         "type": "scatter",
         "x": [
          6.0546588
         ],
         "xaxis": "x",
         "y": [
          -0.92904103
         ],
         "yaxis": "y",
         "zmax": 2,
         "zmin": 1
        },
        {
         "colorbar": {
          "title": ""
         },
         "legendgroup": "y1",
         "marker": {
          "color": "rgba(255, 76, 76, 1.000)",
          "line": {
           "color": "rgba(0, 0, 0, 1.000)",
           "width": 1
          },
          "size": 8,
          "symbol": "circle"
         },
         "mode": "markers",
         "name": "y1",
         "showlegend": false,
         "type": "scatter",
         "x": [
          6.9070077
         ],
         "xaxis": "x",
         "y": [
          3.4543362
         ],
         "yaxis": "y",
         "zmax": 2,
         "zmin": 1
        },
        {
         "colorbar": {
          "title": ""
         },
         "legendgroup": "y1",
         "marker": {
          "color": "rgba(255, 76, 76, 1.000)",
          "line": {
           "color": "rgba(0, 0, 0, 1.000)",
           "width": 1
          },
          "size": 8,
          "symbol": "circle"
         },
         "mode": "markers",
         "name": "y1",
         "showlegend": false,
         "type": "scatter",
         "x": [
          6.1560119
         ],
         "xaxis": "x",
         "y": [
          -1.1384285
         ],
         "yaxis": "y",
         "zmax": 2,
         "zmin": 1
        },
        {
         "colorbar": {
          "title": ""
         },
         "legendgroup": "y1",
         "marker": {
          "color": "rgba(255, 76, 76, 1.000)",
          "line": {
           "color": "rgba(0, 0, 0, 1.000)",
           "width": 1
          },
          "size": 8,
          "symbol": "circle"
         },
         "mode": "markers",
         "name": "y1",
         "showlegend": false,
         "type": "scatter",
         "x": [
          6.9022469
         ],
         "xaxis": "x",
         "y": [
          -2.0146461
         ],
         "yaxis": "y",
         "zmax": 2,
         "zmin": 1
        },
        {
         "colorbar": {
          "title": ""
         },
         "legendgroup": "y1",
         "marker": {
          "color": "rgba(255, 76, 76, 1.000)",
          "line": {
           "color": "rgba(0, 0, 0, 1.000)",
           "width": 1
          },
          "size": 8,
          "symbol": "circle"
         },
         "mode": "markers",
         "name": "y1",
         "showlegend": false,
         "type": "scatter",
         "x": [
          5.6384393
         ],
         "xaxis": "x",
         "y": [
          -0.52838065
         ],
         "yaxis": "y",
         "zmax": 2,
         "zmin": 1
        },
        {
         "colorbar": {
          "title": ""
         },
         "legendgroup": "y1",
         "marker": {
          "color": "rgba(255, 76, 76, 1.000)",
          "line": {
           "color": "rgba(0, 0, 0, 1.000)",
           "width": 1
          },
          "size": 8,
          "symbol": "circle"
         },
         "mode": "markers",
         "name": "y1",
         "showlegend": false,
         "type": "scatter",
         "x": [
          6.2632735
         ],
         "xaxis": "x",
         "y": [
          -0.5083903
         ],
         "yaxis": "y",
         "zmax": 2,
         "zmin": 1
        },
        {
         "colorbar": {
          "title": ""
         },
         "legendgroup": "y1",
         "marker": {
          "color": "rgba(255, 76, 76, 1.000)",
          "line": {
           "color": "rgba(0, 0, 0, 1.000)",
           "width": 1
          },
          "size": 8,
          "symbol": "circle"
         },
         "mode": "markers",
         "name": "y1",
         "showlegend": false,
         "type": "scatter",
         "x": [
          5.8698746
         ],
         "xaxis": "x",
         "y": [
          -0.85990958
         ],
         "yaxis": "y",
         "zmax": 2,
         "zmin": 1
        },
        {
         "colorbar": {
          "title": ""
         },
         "legendgroup": "y1",
         "marker": {
          "color": "rgba(255, 76, 76, 1.000)",
          "line": {
           "color": "rgba(0, 0, 0, 1.000)",
           "width": 1
          },
          "size": 8,
          "symbol": "circle"
         },
         "mode": "markers",
         "name": "y1",
         "showlegend": false,
         "type": "scatter",
         "x": [
          6.3000713
         ],
         "xaxis": "x",
         "y": [
          -2.217161
         ],
         "yaxis": "y",
         "zmax": 2,
         "zmin": 1
        },
        {
         "colorbar": {
          "title": ""
         },
         "legendgroup": "y1",
         "marker": {
          "color": "rgba(255, 76, 76, 1.000)",
          "line": {
           "color": "rgba(0, 0, 0, 1.000)",
           "width": 1
          },
          "size": 8,
          "symbol": "circle"
         },
         "mode": "markers",
         "name": "y1",
         "showlegend": false,
         "type": "scatter",
         "x": [
          6.2969654
         ],
         "xaxis": "x",
         "y": [
          -3.4451868
         ],
         "yaxis": "y",
         "zmax": 2,
         "zmin": 1
        },
        {
         "colorbar": {
          "title": ""
         },
         "legendgroup": "y1",
         "marker": {
          "color": "rgba(255, 76, 76, 1.000)",
          "line": {
           "color": "rgba(0, 0, 0, 1.000)",
           "width": 1
          },
          "size": 8,
          "symbol": "circle"
         },
         "mode": "markers",
         "name": "y1",
         "showlegend": false,
         "type": "scatter",
         "x": [
          4.9069892
         ],
         "xaxis": "x",
         "y": [
          -0.36699928
         ],
         "yaxis": "y",
         "zmax": 2,
         "zmin": 1
        },
        {
         "colorbar": {
          "title": ""
         },
         "legendgroup": "y1",
         "marker": {
          "color": "rgba(255, 76, 76, 1.000)",
          "line": {
           "color": "rgba(0, 0, 0, 1.000)",
           "width": 1
          },
          "size": 8,
          "symbol": "circle"
         },
         "mode": "markers",
         "name": "y1",
         "showlegend": false,
         "type": "scatter",
         "x": [
          5.3364784
         ],
         "xaxis": "x",
         "y": [
          -3.6857385
         ],
         "yaxis": "y",
         "zmax": 2,
         "zmin": 1
        },
        {
         "colorbar": {
          "title": ""
         },
         "legendgroup": "y1",
         "marker": {
          "color": "rgba(255, 76, 76, 1.000)",
          "line": {
           "color": "rgba(0, 0, 0, 1.000)",
           "width": 1
          },
          "size": 8,
          "symbol": "circle"
         },
         "mode": "markers",
         "name": "y1",
         "showlegend": false,
         "type": "scatter",
         "x": [
          5.2794932
         ],
         "xaxis": "x",
         "y": [
          -3.0643687
         ],
         "yaxis": "y",
         "zmax": 2,
         "zmin": 1
        },
        {
         "colorbar": {
          "title": ""
         },
         "legendgroup": "y1",
         "marker": {
          "color": "rgba(255, 76, 76, 1.000)",
          "line": {
           "color": "rgba(0, 0, 0, 1.000)",
           "width": 1
          },
          "size": 8,
          "symbol": "circle"
         },
         "mode": "markers",
         "name": "y1",
         "showlegend": false,
         "type": "scatter",
         "x": [
          6.2009222
         ],
         "xaxis": "x",
         "y": [
          1.6624318
         ],
         "yaxis": "y",
         "zmax": 2,
         "zmin": 1
        },
        {
         "colorbar": {
          "title": ""
         },
         "legendgroup": "y1",
         "marker": {
          "color": "rgba(255, 76, 76, 1.000)",
          "line": {
           "color": "rgba(0, 0, 0, 1.000)",
           "width": 1
          },
          "size": 8,
          "symbol": "circle"
         },
         "mode": "markers",
         "name": "y1",
         "showlegend": false,
         "type": "scatter",
         "x": [
          6.7351006
         ],
         "xaxis": "x",
         "y": [
          -1.8378064
         ],
         "yaxis": "y",
         "zmax": 2,
         "zmin": 1
        },
        {
         "colorbar": {
          "title": ""
         },
         "legendgroup": "y1",
         "marker": {
          "color": "rgba(255, 76, 76, 1.000)",
          "line": {
           "color": "rgba(0, 0, 0, 1.000)",
           "width": 1
          },
          "size": 8,
          "symbol": "circle"
         },
         "mode": "markers",
         "name": "y1",
         "showlegend": false,
         "type": "scatter",
         "x": [
          5.8365929
         ],
         "xaxis": "x",
         "y": [
          -1.2806434
         ],
         "yaxis": "y",
         "zmax": 2,
         "zmin": 1
        },
        {
         "colorbar": {
          "title": ""
         },
         "legendgroup": "y1",
         "marker": {
          "color": "rgba(255, 76, 76, 1.000)",
          "line": {
           "color": "rgba(0, 0, 0, 1.000)",
           "width": 1
          },
          "size": 8,
          "symbol": "circle"
         },
         "mode": "markers",
         "name": "y1",
         "showlegend": false,
         "type": "scatter",
         "x": [
          6.4061615
         ],
         "xaxis": "x",
         "y": [
          0.79964466
         ],
         "yaxis": "y",
         "zmax": 2,
         "zmin": 1
        },
        {
         "colorbar": {
          "title": ""
         },
         "legendgroup": "y1",
         "marker": {
          "color": "rgba(255, 76, 76, 1.000)",
          "line": {
           "color": "rgba(0, 0, 0, 1.000)",
           "width": 1
          },
          "size": 8,
          "symbol": "circle"
         },
         "mode": "markers",
         "name": "y1",
         "showlegend": false,
         "type": "scatter",
         "x": [
          6.2727701
         ],
         "xaxis": "x",
         "y": [
          -1.600222
         ],
         "yaxis": "y",
         "zmax": 2,
         "zmin": 1
        },
        {
         "colorbar": {
          "title": ""
         },
         "legendgroup": "y1",
         "marker": {
          "color": "rgba(255, 76, 76, 1.000)",
          "line": {
           "color": "rgba(0, 0, 0, 1.000)",
           "width": 1
          },
          "size": 8,
          "symbol": "circle"
         },
         "mode": "markers",
         "name": "y1",
         "showlegend": false,
         "type": "scatter",
         "x": [
          5.4741838
         ],
         "xaxis": "x",
         "y": [
          1.0587314
         ],
         "yaxis": "y",
         "zmax": 2,
         "zmin": 1
        },
        {
         "colorbar": {
          "title": ""
         },
         "legendgroup": "y1",
         "marker": {
          "color": "rgba(255, 76, 76, 1.000)",
          "line": {
           "color": "rgba(0, 0, 0, 1.000)",
           "width": 1
          },
          "size": 8,
          "symbol": "circle"
         },
         "mode": "markers",
         "name": "y1",
         "showlegend": false,
         "type": "scatter",
         "x": [
          6.1987335
         ],
         "xaxis": "x",
         "y": [
          -1.6901319
         ],
         "yaxis": "y",
         "zmax": 2,
         "zmin": 1
        },
        {
         "colorbar": {
          "title": ""
         },
         "legendgroup": "y1",
         "marker": {
          "color": "rgba(255, 76, 76, 1.000)",
          "line": {
           "color": "rgba(0, 0, 0, 1.000)",
           "width": 1
          },
          "size": 8,
          "symbol": "circle"
         },
         "mode": "markers",
         "name": "y1",
         "showlegend": false,
         "type": "scatter",
         "x": [
          5.6240526
         ],
         "xaxis": "x",
         "y": [
          1.0256037
         ],
         "yaxis": "y",
         "zmax": 2,
         "zmin": 1
        },
        {
         "colorbar": {
          "title": ""
         },
         "legendgroup": "y1",
         "marker": {
          "color": "rgba(255, 76, 76, 1.000)",
          "line": {
           "color": "rgba(0, 0, 0, 1.000)",
           "width": 1
          },
          "size": 8,
          "symbol": "circle"
         },
         "mode": "markers",
         "name": "y1",
         "showlegend": false,
         "type": "scatter",
         "x": [
          6.7581334
         ],
         "xaxis": "x",
         "y": [
          0.25866917
         ],
         "yaxis": "y",
         "zmax": 2,
         "zmin": 1
        },
        {
         "colorbar": {
          "title": ""
         },
         "legendgroup": "y1",
         "marker": {
          "color": "rgba(255, 76, 76, 1.000)",
          "line": {
           "color": "rgba(0, 0, 0, 1.000)",
           "width": 1
          },
          "size": 8,
          "symbol": "circle"
         },
         "mode": "markers",
         "name": "y1",
         "showlegend": false,
         "type": "scatter",
         "x": [
          5.9837167
         ],
         "xaxis": "x",
         "y": [
          -1.4260302
         ],
         "yaxis": "y",
         "zmax": 2,
         "zmin": 1
        },
        {
         "colorbar": {
          "title": ""
         },
         "legendgroup": "y1",
         "marker": {
          "color": "rgba(255, 76, 76, 1.000)",
          "line": {
           "color": "rgba(0, 0, 0, 1.000)",
           "width": 1
          },
          "size": 8,
          "symbol": "circle"
         },
         "mode": "markers",
         "name": "y1",
         "showlegend": false,
         "type": "scatter",
         "x": [
          6.8179998
         ],
         "xaxis": "x",
         "y": [
          -2.7313946
         ],
         "yaxis": "y",
         "zmax": 2,
         "zmin": 1
        },
        {
         "colorbar": {
          "title": ""
         },
         "legendgroup": "y1",
         "marker": {
          "color": "rgba(255, 76, 76, 1.000)",
          "line": {
           "color": "rgba(0, 0, 0, 1.000)",
           "width": 1
          },
          "size": 8,
          "symbol": "circle"
         },
         "mode": "markers",
         "name": "y1",
         "showlegend": false,
         "type": "scatter",
         "x": [
          5.7874708
         ],
         "xaxis": "x",
         "y": [
          -3.0862166
         ],
         "yaxis": "y",
         "zmax": 2,
         "zmin": 1
        },
        {
         "colorbar": {
          "title": ""
         },
         "legendgroup": "y1",
         "marker": {
          "color": "rgba(255, 76, 76, 1.000)",
          "line": {
           "color": "rgba(0, 0, 0, 1.000)",
           "width": 1
          },
          "size": 8,
          "symbol": "circle"
         },
         "mode": "markers",
         "name": "y1",
         "showlegend": false,
         "type": "scatter",
         "x": [
          6.2947167
         ],
         "xaxis": "x",
         "y": [
          -1.5401376
         ],
         "yaxis": "y",
         "zmax": 2,
         "zmin": 1
        },
        {
         "colorbar": {
          "title": ""
         },
         "legendgroup": "y1",
         "marker": {
          "color": "rgba(255, 76, 76, 1.000)",
          "line": {
           "color": "rgba(0, 0, 0, 1.000)",
           "width": 1
          },
          "size": 8,
          "symbol": "circle"
         },
         "mode": "markers",
         "name": "y1",
         "showlegend": false,
         "type": "scatter",
         "x": [
          5.9686044
         ],
         "xaxis": "x",
         "y": [
          -1.8762827
         ],
         "yaxis": "y",
         "zmax": 2,
         "zmin": 1
        },
        {
         "colorbar": {
          "title": ""
         },
         "legendgroup": "y1",
         "marker": {
          "color": "rgba(255, 76, 76, 1.000)",
          "line": {
           "color": "rgba(0, 0, 0, 1.000)",
           "width": 1
          },
          "size": 8,
          "symbol": "circle"
         },
         "mode": "markers",
         "name": "y1",
         "showlegend": false,
         "type": "scatter",
         "x": [
          4.9890205
         ],
         "xaxis": "x",
         "y": [
          -1.8173486
         ],
         "yaxis": "y",
         "zmax": 2,
         "zmin": 1
        },
        {
         "colorbar": {
          "title": ""
         },
         "legendgroup": "y1",
         "marker": {
          "color": "rgba(255, 76, 76, 1.000)",
          "line": {
           "color": "rgba(0, 0, 0, 1.000)",
           "width": 1
          },
          "size": 8,
          "symbol": "circle"
         },
         "mode": "markers",
         "name": "y1",
         "showlegend": false,
         "type": "scatter",
         "x": [
          5.5089342
         ],
         "xaxis": "x",
         "y": [
          0.96709047
         ],
         "yaxis": "y",
         "zmax": 2,
         "zmin": 1
        },
        {
         "colorbar": {
          "title": ""
         },
         "legendgroup": "y1",
         "marker": {
          "color": "rgba(255, 76, 76, 1.000)",
          "line": {
           "color": "rgba(0, 0, 0, 1.000)",
           "width": 1
          },
          "size": 8,
          "symbol": "circle"
         },
         "mode": "markers",
         "name": "y1",
         "showlegend": false,
         "type": "scatter",
         "x": [
          6.3062556
         ],
         "xaxis": "x",
         "y": [
          -1.5953943
         ],
         "yaxis": "y",
         "zmax": 2,
         "zmin": 1
        },
        {
         "colorbar": {
          "title": ""
         },
         "legendgroup": "y1",
         "marker": {
          "color": "rgba(255, 76, 76, 1.000)",
          "line": {
           "color": "rgba(0, 0, 0, 1.000)",
           "width": 1
          },
          "size": 8,
          "symbol": "circle"
         },
         "mode": "markers",
         "name": "y1",
         "showlegend": false,
         "type": "scatter",
         "x": [
          5.9725569
         ],
         "xaxis": "x",
         "y": [
          1.2873578
         ],
         "yaxis": "y",
         "zmax": 2,
         "zmin": 1
        },
        {
         "colorbar": {
          "title": ""
         },
         "legendgroup": "y1",
         "marker": {
          "color": "rgba(255, 76, 76, 1.000)",
          "line": {
           "color": "rgba(0, 0, 0, 1.000)",
           "width": 1
          },
          "size": 8,
          "symbol": "circle"
         },
         "mode": "markers",
         "name": "y1",
         "showlegend": false,
         "type": "scatter",
         "x": [
          5.440634
         ],
         "xaxis": "x",
         "y": [
          -2.0632402
         ],
         "yaxis": "y",
         "zmax": 2,
         "zmin": 1
        },
        {
         "colorbar": {
          "title": ""
         },
         "legendgroup": "y1",
         "marker": {
          "color": "rgba(255, 76, 76, 1.000)",
          "line": {
           "color": "rgba(0, 0, 0, 1.000)",
           "width": 1
          },
          "size": 8,
          "symbol": "circle"
         },
         "mode": "markers",
         "name": "y1",
         "showlegend": false,
         "type": "scatter",
         "x": [
          5.6868107
         ],
         "xaxis": "x",
         "y": [
          0.94513146
         ],
         "yaxis": "y",
         "zmax": 2,
         "zmin": 1
        },
        {
         "colorbar": {
          "title": ""
         },
         "legendgroup": "y1",
         "marker": {
          "color": "rgba(255, 76, 76, 1.000)",
          "line": {
           "color": "rgba(0, 0, 0, 1.000)",
           "width": 1
          },
          "size": 8,
          "symbol": "circle"
         },
         "mode": "markers",
         "name": "y1",
         "showlegend": false,
         "type": "scatter",
         "x": [
          6.1247589
         ],
         "xaxis": "x",
         "y": [
          -2.044501
         ],
         "yaxis": "y",
         "zmax": 2,
         "zmin": 1
        },
        {
         "colorbar": {
          "title": ""
         },
         "legendgroup": "y1",
         "marker": {
          "color": "rgba(255, 76, 76, 1.000)",
          "line": {
           "color": "rgba(0, 0, 0, 1.000)",
           "width": 1
          },
          "size": 8,
          "symbol": "circle"
         },
         "mode": "markers",
         "name": "y1",
         "showlegend": false,
         "type": "scatter",
         "x": [
          5.5034905
         ],
         "xaxis": "x",
         "y": [
          -0.64684441
         ],
         "yaxis": "y",
         "zmax": 2,
         "zmin": 1
        },
        {
         "colorbar": {
          "title": ""
         },
         "legendgroup": "y1",
         "marker": {
          "color": "rgba(255, 76, 76, 1.000)",
          "line": {
           "color": "rgba(0, 0, 0, 1.000)",
           "width": 1
          },
          "size": 8,
          "symbol": "circle"
         },
         "mode": "markers",
         "name": "y1",
         "showlegend": false,
         "type": "scatter",
         "x": [
          6.4874751
         ],
         "xaxis": "x",
         "y": [
          0.94147565
         ],
         "yaxis": "y",
         "zmax": 2,
         "zmin": 1
        },
        {
         "colorbar": {
          "title": ""
         },
         "legendgroup": "y1",
         "marker": {
          "color": "rgba(255, 76, 76, 1.000)",
          "line": {
           "color": "rgba(0, 0, 0, 1.000)",
           "width": 1
          },
          "size": 8,
          "symbol": "circle"
         },
         "mode": "markers",
         "name": "y1",
         "showlegend": false,
         "type": "scatter",
         "x": [
          5.6796452
         ],
         "xaxis": "x",
         "y": [
          -1.8279445
         ],
         "yaxis": "y",
         "zmax": 2,
         "zmin": 1
        },
        {
         "colorbar": {
          "title": ""
         },
         "legendgroup": "y1",
         "marker": {
          "color": "rgba(255, 76, 76, 1.000)",
          "line": {
           "color": "rgba(0, 0, 0, 1.000)",
           "width": 1
          },
          "size": 8,
          "symbol": "circle"
         },
         "mode": "markers",
         "name": "y1",
         "showlegend": false,
         "type": "scatter",
         "x": [
          6.9044313
         ],
         "xaxis": "x",
         "y": [
          -1.876541
         ],
         "yaxis": "y",
         "zmax": 2,
         "zmin": 1
        },
        {
         "colorbar": {
          "title": ""
         },
         "legendgroup": "y1",
         "marker": {
          "color": "rgba(255, 76, 76, 1.000)",
          "line": {
           "color": "rgba(0, 0, 0, 1.000)",
           "width": 1
          },
          "size": 8,
          "symbol": "circle"
         },
         "mode": "markers",
         "name": "y1",
         "showlegend": false,
         "type": "scatter",
         "x": [
          5.4600669
         ],
         "xaxis": "x",
         "y": [
          3.0067812
         ],
         "yaxis": "y",
         "zmax": 2,
         "zmin": 1
        },
        {
         "colorbar": {
          "title": ""
         },
         "legendgroup": "y1",
         "marker": {
          "color": "rgba(255, 76, 76, 1.000)",
          "line": {
           "color": "rgba(0, 0, 0, 1.000)",
           "width": 1
          },
          "size": 8,
          "symbol": "circle"
         },
         "mode": "markers",
         "name": "y1",
         "showlegend": false,
         "type": "scatter",
         "x": [
          6.0995947
         ],
         "xaxis": "x",
         "y": [
          0.901987
         ],
         "yaxis": "y",
         "zmax": 2,
         "zmin": 1
        },
        {
         "colorbar": {
          "title": ""
         },
         "legendgroup": "y1",
         "marker": {
          "color": "rgba(255, 76, 76, 1.000)",
          "line": {
           "color": "rgba(0, 0, 0, 1.000)",
           "width": 1
          },
          "size": 8,
          "symbol": "circle"
         },
         "mode": "markers",
         "name": "y1",
         "showlegend": false,
         "type": "scatter",
         "x": [
          5.2394867
         ],
         "xaxis": "x",
         "y": [
          -1.8640077
         ],
         "yaxis": "y",
         "zmax": 2,
         "zmin": 1
        },
        {
         "colorbar": {
          "title": ""
         },
         "legendgroup": "y1",
         "marker": {
          "color": "rgba(255, 76, 76, 1.000)",
          "line": {
           "color": "rgba(0, 0, 0, 1.000)",
           "width": 1
          },
          "size": 8,
          "symbol": "circle"
         },
         "mode": "markers",
         "name": "y1",
         "showlegend": false,
         "type": "scatter",
         "x": [
          5.6381844
         ],
         "xaxis": "x",
         "y": [
          0.29788147
         ],
         "yaxis": "y",
         "zmax": 2,
         "zmin": 1
        },
        {
         "colorbar": {
          "title": ""
         },
         "legendgroup": "y1",
         "marker": {
          "color": "rgba(255, 76, 76, 1.000)",
          "line": {
           "color": "rgba(0, 0, 0, 1.000)",
           "width": 1
          },
          "size": 8,
          "symbol": "circle"
         },
         "mode": "markers",
         "name": "y1",
         "showlegend": false,
         "type": "scatter",
         "x": [
          5.7033748
         ],
         "xaxis": "x",
         "y": [
          -1.7201526
         ],
         "yaxis": "y",
         "zmax": 2,
         "zmin": 1
        },
        {
         "colorbar": {
          "title": ""
         },
         "legendgroup": "y1",
         "marker": {
          "color": "rgba(255, 76, 76, 1.000)",
          "line": {
           "color": "rgba(0, 0, 0, 1.000)",
           "width": 1
          },
          "size": 8,
          "symbol": "circle"
         },
         "mode": "markers",
         "name": "y1",
         "showlegend": false,
         "type": "scatter",
         "x": [
          6.2006682
         ],
         "xaxis": "x",
         "y": [
          0.41177004
         ],
         "yaxis": "y",
         "zmax": 2,
         "zmin": 1
        },
        {
         "colorbar": {
          "title": ""
         },
         "legendgroup": "y1",
         "marker": {
          "color": "rgba(255, 76, 76, 1.000)",
          "line": {
           "color": "rgba(0, 0, 0, 1.000)",
           "width": 1
          },
          "size": 8,
          "symbol": "circle"
         },
         "mode": "markers",
         "name": "y1",
         "showlegend": false,
         "type": "scatter",
         "x": [
          6.4710667
         ],
         "xaxis": "x",
         "y": [
          1.8316981
         ],
         "yaxis": "y",
         "zmax": 2,
         "zmin": 1
        },
        {
         "colorbar": {
          "title": ""
         },
         "legendgroup": "y1",
         "marker": {
          "color": "rgba(255, 76, 76, 1.000)",
          "line": {
           "color": "rgba(0, 0, 0, 1.000)",
           "width": 1
          },
          "size": 8,
          "symbol": "circle"
         },
         "mode": "markers",
         "name": "y1",
         "showlegend": false,
         "type": "scatter",
         "x": [
          6.150243
         ],
         "xaxis": "x",
         "y": [
          -4.2090313
         ],
         "yaxis": "y",
         "zmax": 2,
         "zmin": 1
        },
        {
         "colorbar": {
          "title": ""
         },
         "legendgroup": "y1",
         "marker": {
          "color": "rgba(255, 76, 76, 1.000)",
          "line": {
           "color": "rgba(0, 0, 0, 1.000)",
           "width": 1
          },
          "size": 8,
          "symbol": "circle"
         },
         "mode": "markers",
         "name": "y1",
         "showlegend": false,
         "type": "scatter",
         "x": [
          5.8134647
         ],
         "xaxis": "x",
         "y": [
          1.0577061
         ],
         "yaxis": "y",
         "zmax": 2,
         "zmin": 1
        },
        {
         "colorbar": {
          "title": ""
         },
         "legendgroup": "y1",
         "marker": {
          "color": "rgba(255, 76, 76, 1.000)",
          "line": {
           "color": "rgba(0, 0, 0, 1.000)",
           "width": 1
          },
          "size": 8,
          "symbol": "circle"
         },
         "mode": "markers",
         "name": "y1",
         "showlegend": false,
         "type": "scatter",
         "x": [
          6.4077443
         ],
         "xaxis": "x",
         "y": [
          1.9159356
         ],
         "yaxis": "y",
         "zmax": 2,
         "zmin": 1
        },
        {
         "colorbar": {
          "title": ""
         },
         "legendgroup": "y1",
         "marker": {
          "color": "rgba(255, 76, 76, 1.000)",
          "line": {
           "color": "rgba(0, 0, 0, 1.000)",
           "width": 1
          },
          "size": 8,
          "symbol": "circle"
         },
         "mode": "markers",
         "name": "y1",
         "showlegend": false,
         "type": "scatter",
         "x": [
          6.3994435
         ],
         "xaxis": "x",
         "y": [
          -0.90505735
         ],
         "yaxis": "y",
         "zmax": 2,
         "zmin": 1
        },
        {
         "colorbar": {
          "title": ""
         },
         "legendgroup": "y1",
         "marker": {
          "color": "rgba(255, 76, 76, 1.000)",
          "line": {
           "color": "rgba(0, 0, 0, 1.000)",
           "width": 1
          },
          "size": 8,
          "symbol": "circle"
         },
         "mode": "markers",
         "name": "y1",
         "showlegend": false,
         "type": "scatter",
         "x": [
          6.0601026
         ],
         "xaxis": "x",
         "y": [
          2.4925134
         ],
         "yaxis": "y",
         "zmax": 2,
         "zmin": 1
        },
        {
         "colorbar": {
          "title": ""
         },
         "legendgroup": "y1",
         "marker": {
          "color": "rgba(255, 76, 76, 1.000)",
          "line": {
           "color": "rgba(0, 0, 0, 1.000)",
           "width": 1
          },
          "size": 8,
          "symbol": "circle"
         },
         "mode": "markers",
         "name": "y1",
         "showlegend": false,
         "type": "scatter",
         "x": [
          6.2856238
         ],
         "xaxis": "x",
         "y": [
          -0.68922497
         ],
         "yaxis": "y",
         "zmax": 2,
         "zmin": 1
        },
        {
         "colorbar": {
          "title": ""
         },
         "legendgroup": "y1",
         "marker": {
          "color": "rgba(255, 76, 76, 1.000)",
          "line": {
           "color": "rgba(0, 0, 0, 1.000)",
           "width": 1
          },
          "size": 8,
          "symbol": "circle"
         },
         "mode": "markers",
         "name": "y1",
         "showlegend": false,
         "type": "scatter",
         "x": [
          6.206398
         ],
         "xaxis": "x",
         "y": [
          -3.4742394
         ],
         "yaxis": "y",
         "zmax": 2,
         "zmin": 1
        },
        {
         "colorbar": {
          "title": ""
         },
         "legendgroup": "y1",
         "marker": {
          "color": "rgba(255, 76, 76, 1.000)",
          "line": {
           "color": "rgba(0, 0, 0, 1.000)",
           "width": 1
          },
          "size": 8,
          "symbol": "circle"
         },
         "mode": "markers",
         "name": "y1",
         "showlegend": false,
         "type": "scatter",
         "x": [
          5.5065191
         ],
         "xaxis": "x",
         "y": [
          -5.3869886
         ],
         "yaxis": "y",
         "zmax": 2,
         "zmin": 1
        },
        {
         "colorbar": {
          "title": ""
         },
         "legendgroup": "y1",
         "marker": {
          "color": "rgba(255, 76, 76, 1.000)",
          "line": {
           "color": "rgba(0, 0, 0, 1.000)",
           "width": 1
          },
          "size": 8,
          "symbol": "circle"
         },
         "mode": "markers",
         "name": "y1",
         "showlegend": false,
         "type": "scatter",
         "x": [
          6.3797842
         ],
         "xaxis": "x",
         "y": [
          -1.6668141
         ],
         "yaxis": "y",
         "zmax": 2,
         "zmin": 1
        },
        {
         "colorbar": {
          "title": ""
         },
         "legendgroup": "y1",
         "marker": {
          "color": "rgba(255, 76, 76, 1.000)",
          "line": {
           "color": "rgba(0, 0, 0, 1.000)",
           "width": 1
          },
          "size": 8,
          "symbol": "circle"
         },
         "mode": "markers",
         "name": "y1",
         "showlegend": false,
         "type": "scatter",
         "x": [
          5.6713994
         ],
         "xaxis": "x",
         "y": [
          0.42708661
         ],
         "yaxis": "y",
         "zmax": 2,
         "zmin": 1
        },
        {
         "colorbar": {
          "title": ""
         },
         "legendgroup": "y1",
         "marker": {
          "color": "rgba(255, 76, 76, 1.000)",
          "line": {
           "color": "rgba(0, 0, 0, 1.000)",
           "width": 1
          },
          "size": 8,
          "symbol": "circle"
         },
         "mode": "markers",
         "name": "y1",
         "showlegend": false,
         "type": "scatter",
         "x": [
          5.6980408
         ],
         "xaxis": "x",
         "y": [
          -0.36518453
         ],
         "yaxis": "y",
         "zmax": 2,
         "zmin": 1
        },
        {
         "colorbar": {
          "title": ""
         },
         "legendgroup": "y1",
         "marker": {
          "color": "rgba(255, 76, 76, 1.000)",
          "line": {
           "color": "rgba(0, 0, 0, 1.000)",
           "width": 1
          },
          "size": 8,
          "symbol": "circle"
         },
         "mode": "markers",
         "name": "y1",
         "showlegend": false,
         "type": "scatter",
         "x": [
          6.0884734
         ],
         "xaxis": "x",
         "y": [
          -0.17277922
         ],
         "yaxis": "y",
         "zmax": 2,
         "zmin": 1
        },
        {
         "colorbar": {
          "title": ""
         },
         "legendgroup": "y1",
         "marker": {
          "color": "rgba(255, 76, 76, 1.000)",
          "line": {
           "color": "rgba(0, 0, 0, 1.000)",
           "width": 1
          },
          "size": 8,
          "symbol": "circle"
         },
         "mode": "markers",
         "name": "y1",
         "showlegend": false,
         "type": "scatter",
         "x": [
          5.8462483
         ],
         "xaxis": "x",
         "y": [
          -2.1541712
         ],
         "yaxis": "y",
         "zmax": 2,
         "zmin": 1
        },
        {
         "colorbar": {
          "title": ""
         },
         "legendgroup": "y1",
         "marker": {
          "color": "rgba(255, 76, 76, 1.000)",
          "line": {
           "color": "rgba(0, 0, 0, 1.000)",
           "width": 1
          },
          "size": 8,
          "symbol": "circle"
         },
         "mode": "markers",
         "name": "y1",
         "showlegend": false,
         "type": "scatter",
         "x": [
          5.9340898
         ],
         "xaxis": "x",
         "y": [
          -0.7119964
         ],
         "yaxis": "y",
         "zmax": 2,
         "zmin": 1
        },
        {
         "colorbar": {
          "title": ""
         },
         "legendgroup": "y1",
         "marker": {
          "color": "rgba(255, 76, 76, 1.000)",
          "line": {
           "color": "rgba(0, 0, 0, 1.000)",
           "width": 1
          },
          "size": 8,
          "symbol": "circle"
         },
         "mode": "markers",
         "name": "y1",
         "showlegend": false,
         "type": "scatter",
         "x": [
          6.2976788
         ],
         "xaxis": "x",
         "y": [
          -4.2773315
         ],
         "yaxis": "y",
         "zmax": 2,
         "zmin": 1
        },
        {
         "colorbar": {
          "title": ""
         },
         "legendgroup": "y1",
         "marker": {
          "color": "rgba(255, 76, 76, 1.000)",
          "line": {
           "color": "rgba(0, 0, 0, 1.000)",
           "width": 1
          },
          "size": 8,
          "symbol": "circle"
         },
         "mode": "markers",
         "name": "y1",
         "showlegend": false,
         "type": "scatter",
         "x": [
          6.5234164
         ],
         "xaxis": "x",
         "y": [
          -2.52018
         ],
         "yaxis": "y",
         "zmax": 2,
         "zmin": 1
        },
        {
         "colorbar": {
          "title": ""
         },
         "legendgroup": "y1",
         "marker": {
          "color": "rgba(255, 76, 76, 1.000)",
          "line": {
           "color": "rgba(0, 0, 0, 1.000)",
           "width": 1
          },
          "size": 8,
          "symbol": "circle"
         },
         "mode": "markers",
         "name": "y1",
         "showlegend": false,
         "type": "scatter",
         "x": [
          5.9010207
         ],
         "xaxis": "x",
         "y": [
          -2.6375862
         ],
         "yaxis": "y",
         "zmax": 2,
         "zmin": 1
        },
        {
         "colorbar": {
          "title": ""
         },
         "legendgroup": "y1",
         "marker": {
          "color": "rgba(255, 76, 76, 1.000)",
          "line": {
           "color": "rgba(0, 0, 0, 1.000)",
           "width": 1
          },
          "size": 8,
          "symbol": "circle"
         },
         "mode": "markers",
         "name": "y1",
         "showlegend": false,
         "type": "scatter",
         "x": [
          6.1638391
         ],
         "xaxis": "x",
         "y": [
          0.039457776
         ],
         "yaxis": "y",
         "zmax": 2,
         "zmin": 1
        },
        {
         "colorbar": {
          "title": ""
         },
         "legendgroup": "y1",
         "marker": {
          "color": "rgba(255, 76, 76, 1.000)",
          "line": {
           "color": "rgba(0, 0, 0, 1.000)",
           "width": 1
          },
          "size": 8,
          "symbol": "circle"
         },
         "mode": "markers",
         "name": "y1",
         "showlegend": false,
         "type": "scatter",
         "x": [
          5.8808492
         ],
         "xaxis": "x",
         "y": [
          -1.0283201
         ],
         "yaxis": "y",
         "zmax": 2,
         "zmin": 1
        },
        {
         "colorbar": {
          "title": ""
         },
         "legendgroup": "y1",
         "marker": {
          "color": "rgba(255, 76, 76, 1.000)",
          "line": {
           "color": "rgba(0, 0, 0, 1.000)",
           "width": 1
          },
          "size": 8,
          "symbol": "circle"
         },
         "mode": "markers",
         "name": "y1",
         "showlegend": false,
         "type": "scatter",
         "x": [
          6.1147984
         ],
         "xaxis": "x",
         "y": [
          -3.3110587
         ],
         "yaxis": "y",
         "zmax": 2,
         "zmin": 1
        },
        {
         "colorbar": {
          "title": ""
         },
         "legendgroup": "y1",
         "marker": {
          "color": "rgba(255, 76, 76, 1.000)",
          "line": {
           "color": "rgba(0, 0, 0, 1.000)",
           "width": 1
          },
          "size": 8,
          "symbol": "circle"
         },
         "mode": "markers",
         "name": "y1",
         "showlegend": false,
         "type": "scatter",
         "x": [
          6.219999
         ],
         "xaxis": "x",
         "y": [
          -1.0190498
         ],
         "yaxis": "y",
         "zmax": 2,
         "zmin": 1
        },
        {
         "colorbar": {
          "title": ""
         },
         "legendgroup": "y1",
         "marker": {
          "color": "rgba(255, 76, 76, 1.000)",
          "line": {
           "color": "rgba(0, 0, 0, 1.000)",
           "width": 1
          },
          "size": 8,
          "symbol": "circle"
         },
         "mode": "markers",
         "name": "y1",
         "showlegend": false,
         "type": "scatter",
         "x": [
          5.691567
         ],
         "xaxis": "x",
         "y": [
          -2.3796211
         ],
         "yaxis": "y",
         "zmax": 2,
         "zmin": 1
        },
        {
         "colorbar": {
          "title": ""
         },
         "legendgroup": "y1",
         "marker": {
          "color": "rgba(255, 76, 76, 1.000)",
          "line": {
           "color": "rgba(0, 0, 0, 1.000)",
           "width": 1
          },
          "size": 8,
          "symbol": "circle"
         },
         "mode": "markers",
         "name": "y1",
         "showlegend": false,
         "type": "scatter",
         "x": [
          6.1374184
         ],
         "xaxis": "x",
         "y": [
          -2.3333983
         ],
         "yaxis": "y",
         "zmax": 2,
         "zmin": 1
        },
        {
         "colorbar": {
          "title": ""
         },
         "legendgroup": "y1",
         "marker": {
          "color": "rgba(255, 76, 76, 1.000)",
          "line": {
           "color": "rgba(0, 0, 0, 1.000)",
           "width": 1
          },
          "size": 8,
          "symbol": "circle"
         },
         "mode": "markers",
         "name": "y1",
         "showlegend": false,
         "type": "scatter",
         "x": [
          6.300551
         ],
         "xaxis": "x",
         "y": [
          0.72829884
         ],
         "yaxis": "y",
         "zmax": 2,
         "zmin": 1
        },
        {
         "colorbar": {
          "title": ""
         },
         "legendgroup": "y1",
         "marker": {
          "color": "rgba(255, 76, 76, 1.000)",
          "line": {
           "color": "rgba(0, 0, 0, 1.000)",
           "width": 1
          },
          "size": 8,
          "symbol": "circle"
         },
         "mode": "markers",
         "name": "y1",
         "showlegend": false,
         "type": "scatter",
         "x": [
          6.046154
         ],
         "xaxis": "x",
         "y": [
          -0.77316113
         ],
         "yaxis": "y",
         "zmax": 2,
         "zmin": 1
        },
        {
         "colorbar": {
          "title": ""
         },
         "legendgroup": "y1",
         "marker": {
          "color": "rgba(255, 76, 76, 1.000)",
          "line": {
           "color": "rgba(0, 0, 0, 1.000)",
           "width": 1
          },
          "size": 8,
          "symbol": "circle"
         },
         "mode": "markers",
         "name": "y1",
         "showlegend": false,
         "type": "scatter",
         "x": [
          6.8649207
         ],
         "xaxis": "x",
         "y": [
          -0.20327431
         ],
         "yaxis": "y",
         "zmax": 2,
         "zmin": 1
        },
        {
         "colorbar": {
          "title": ""
         },
         "legendgroup": "y1",
         "marker": {
          "color": "rgba(255, 76, 76, 1.000)",
          "line": {
           "color": "rgba(0, 0, 0, 1.000)",
           "width": 1
          },
          "size": 8,
          "symbol": "circle"
         },
         "mode": "markers",
         "name": "y1",
         "showlegend": false,
         "type": "scatter",
         "x": [
          5.6957213
         ],
         "xaxis": "x",
         "y": [
          0.76793978
         ],
         "yaxis": "y",
         "zmax": 2,
         "zmin": 1
        },
        {
         "colorbar": {
          "title": ""
         },
         "legendgroup": "y1",
         "marker": {
          "color": "rgba(255, 76, 76, 1.000)",
          "line": {
           "color": "rgba(0, 0, 0, 1.000)",
           "width": 1
          },
          "size": 8,
          "symbol": "circle"
         },
         "mode": "markers",
         "name": "y1",
         "showlegend": false,
         "type": "scatter",
         "x": [
          5.6314701
         ],
         "xaxis": "x",
         "y": [
          -0.63948461
         ],
         "yaxis": "y",
         "zmax": 2,
         "zmin": 1
        },
        {
         "colorbar": {
          "title": ""
         },
         "legendgroup": "y1",
         "marker": {
          "color": "rgba(255, 76, 76, 1.000)",
          "line": {
           "color": "rgba(0, 0, 0, 1.000)",
           "width": 1
          },
          "size": 8,
          "symbol": "circle"
         },
         "mode": "markers",
         "name": "y1",
         "showlegend": false,
         "type": "scatter",
         "x": [
          5.1250603
         ],
         "xaxis": "x",
         "y": [
          0.10170904
         ],
         "yaxis": "y",
         "zmax": 2,
         "zmin": 1
        },
        {
         "colorbar": {
          "title": ""
         },
         "legendgroup": "y1",
         "marker": {
          "color": "rgba(255, 76, 76, 1.000)",
          "line": {
           "color": "rgba(0, 0, 0, 1.000)",
           "width": 1
          },
          "size": 8,
          "symbol": "circle"
         },
         "mode": "markers",
         "name": "y1",
         "showlegend": false,
         "type": "scatter",
         "x": [
          6.4552413
         ],
         "xaxis": "x",
         "y": [
          0.36592855
         ],
         "yaxis": "y",
         "zmax": 2,
         "zmin": 1
        },
        {
         "colorbar": {
          "title": ""
         },
         "legendgroup": "y1",
         "marker": {
          "color": "rgba(255, 76, 76, 1.000)",
          "line": {
           "color": "rgba(0, 0, 0, 1.000)",
           "width": 1
          },
          "size": 8,
          "symbol": "circle"
         },
         "mode": "markers",
         "name": "y1",
         "showlegend": false,
         "type": "scatter",
         "x": [
          6.4335413
         ],
         "xaxis": "x",
         "y": [
          1.3412173
         ],
         "yaxis": "y",
         "zmax": 2,
         "zmin": 1
        },
        {
         "colorbar": {
          "title": ""
         },
         "legendgroup": "y1",
         "marker": {
          "color": "rgba(255, 76, 76, 1.000)",
          "line": {
           "color": "rgba(0, 0, 0, 1.000)",
           "width": 1
          },
          "size": 8,
          "symbol": "circle"
         },
         "mode": "markers",
         "name": "y1",
         "showlegend": false,
         "type": "scatter",
         "x": [
          5.9600536
         ],
         "xaxis": "x",
         "y": [
          -0.048278825
         ],
         "yaxis": "y",
         "zmax": 2,
         "zmin": 1
        },
        {
         "colorbar": {
          "title": ""
         },
         "legendgroup": "y1",
         "marker": {
          "color": "rgba(255, 76, 76, 1.000)",
          "line": {
           "color": "rgba(0, 0, 0, 1.000)",
           "width": 1
          },
          "size": 8,
          "symbol": "circle"
         },
         "mode": "markers",
         "name": "y1",
         "showlegend": false,
         "type": "scatter",
         "x": [
          6.449238
         ],
         "xaxis": "x",
         "y": [
          1.8244654
         ],
         "yaxis": "y",
         "zmax": 2,
         "zmin": 1
        },
        {
         "colorbar": {
          "title": ""
         },
         "legendgroup": "y1",
         "marker": {
          "color": "rgba(255, 76, 76, 1.000)",
          "line": {
           "color": "rgba(0, 0, 0, 1.000)",
           "width": 1
          },
          "size": 8,
          "symbol": "circle"
         },
         "mode": "markers",
         "name": "y1",
         "showlegend": false,
         "type": "scatter",
         "x": [
          6.0918517
         ],
         "xaxis": "x",
         "y": [
          -0.95478303
         ],
         "yaxis": "y",
         "zmax": 2,
         "zmin": 1
        },
        {
         "colorbar": {
          "title": ""
         },
         "legendgroup": "y1",
         "marker": {
          "color": "rgba(255, 76, 76, 1.000)",
          "line": {
           "color": "rgba(0, 0, 0, 1.000)",
           "width": 1
          },
          "size": 8,
          "symbol": "circle"
         },
         "mode": "markers",
         "name": "y1",
         "showlegend": false,
         "type": "scatter",
         "x": [
          6.1453951
         ],
         "xaxis": "x",
         "y": [
          -1.0957388
         ],
         "yaxis": "y",
         "zmax": 2,
         "zmin": 1
        },
        {
         "colorbar": {
          "title": ""
         },
         "legendgroup": "y1",
         "marker": {
          "color": "rgba(255, 76, 76, 1.000)",
          "line": {
           "color": "rgba(0, 0, 0, 1.000)",
           "width": 1
          },
          "size": 8,
          "symbol": "circle"
         },
         "mode": "markers",
         "name": "y1",
         "showlegend": false,
         "type": "scatter",
         "x": [
          6.0564724
         ],
         "xaxis": "x",
         "y": [
          2.4026693
         ],
         "yaxis": "y",
         "zmax": 2,
         "zmin": 1
        },
        {
         "colorbar": {
          "title": ""
         },
         "legendgroup": "y1",
         "marker": {
          "color": "rgba(255, 76, 76, 1.000)",
          "line": {
           "color": "rgba(0, 0, 0, 1.000)",
           "width": 1
          },
          "size": 8,
          "symbol": "circle"
         },
         "mode": "markers",
         "name": "y1",
         "showlegend": false,
         "type": "scatter",
         "x": [
          6.2199761
         ],
         "xaxis": "x",
         "y": [
          -2.0194234
         ],
         "yaxis": "y",
         "zmax": 2,
         "zmin": 1
        },
        {
         "colorbar": {
          "title": ""
         },
         "legendgroup": "y1",
         "marker": {
          "color": "rgba(255, 76, 76, 1.000)",
          "line": {
           "color": "rgba(0, 0, 0, 1.000)",
           "width": 1
          },
          "size": 8,
          "symbol": "circle"
         },
         "mode": "markers",
         "name": "y1",
         "showlegend": false,
         "type": "scatter",
         "x": [
          6.0508312
         ],
         "xaxis": "x",
         "y": [
          -1.0057099
         ],
         "yaxis": "y",
         "zmax": 2,
         "zmin": 1
        },
        {
         "colorbar": {
          "title": ""
         },
         "legendgroup": "y1",
         "marker": {
          "color": "rgba(255, 76, 76, 1.000)",
          "line": {
           "color": "rgba(0, 0, 0, 1.000)",
           "width": 1
          },
          "size": 8,
          "symbol": "circle"
         },
         "mode": "markers",
         "name": "y1",
         "showlegend": false,
         "type": "scatter",
         "x": [
          7.3936676
         ],
         "xaxis": "x",
         "y": [
          0.83973416
         ],
         "yaxis": "y",
         "zmax": 2,
         "zmin": 1
        },
        {
         "colorbar": {
          "title": ""
         },
         "legendgroup": "y1",
         "marker": {
          "color": "rgba(255, 76, 76, 1.000)",
          "line": {
           "color": "rgba(0, 0, 0, 1.000)",
           "width": 1
          },
          "size": 8,
          "symbol": "circle"
         },
         "mode": "markers",
         "name": "y1",
         "showlegend": false,
         "type": "scatter",
         "x": [
          5.4166675
         ],
         "xaxis": "x",
         "y": [
          -0.70038253
         ],
         "yaxis": "y",
         "zmax": 2,
         "zmin": 1
        },
        {
         "colorbar": {
          "title": ""
         },
         "legendgroup": "y1",
         "marker": {
          "color": "rgba(255, 76, 76, 1.000)",
          "line": {
           "color": "rgba(0, 0, 0, 1.000)",
           "width": 1
          },
          "size": 8,
          "symbol": "circle"
         },
         "mode": "markers",
         "name": "y1",
         "showlegend": false,
         "type": "scatter",
         "x": [
          5.0728505
         ],
         "xaxis": "x",
         "y": [
          1.8098669
         ],
         "yaxis": "y",
         "zmax": 2,
         "zmin": 1
        },
        {
         "colorbar": {
          "title": ""
         },
         "legendgroup": "y1",
         "marker": {
          "color": "rgba(255, 76, 76, 1.000)",
          "line": {
           "color": "rgba(0, 0, 0, 1.000)",
           "width": 1
          },
          "size": 8,
          "symbol": "circle"
         },
         "mode": "markers",
         "name": "y1",
         "showlegend": false,
         "type": "scatter",
         "x": [
          5.4296594
         ],
         "xaxis": "x",
         "y": [
          1.0682431
         ],
         "yaxis": "y",
         "zmax": 2,
         "zmin": 1
        },
        {
         "colorbar": {
          "title": ""
         },
         "legendgroup": "y1",
         "marker": {
          "color": "rgba(255, 76, 76, 1.000)",
          "line": {
           "color": "rgba(0, 0, 0, 1.000)",
           "width": 1
          },
          "size": 8,
          "symbol": "circle"
         },
         "mode": "markers",
         "name": "y1",
         "showlegend": false,
         "type": "scatter",
         "x": [
          5.4533283
         ],
         "xaxis": "x",
         "y": [
          -0.41685942
         ],
         "yaxis": "y",
         "zmax": 2,
         "zmin": 1
        },
        {
         "colorbar": {
          "title": ""
         },
         "legendgroup": "y1",
         "marker": {
          "color": "rgba(255, 76, 76, 1.000)",
          "line": {
           "color": "rgba(0, 0, 0, 1.000)",
           "width": 1
          },
          "size": 8,
          "symbol": "circle"
         },
         "mode": "markers",
         "name": "y1",
         "showlegend": false,
         "type": "scatter",
         "x": [
          5.7831954
         ],
         "xaxis": "x",
         "y": [
          -2.5553971
         ],
         "yaxis": "y",
         "zmax": 2,
         "zmin": 1
        },
        {
         "colorbar": {
          "title": ""
         },
         "legendgroup": "y1",
         "marker": {
          "color": "rgba(255, 76, 76, 1.000)",
          "line": {
           "color": "rgba(0, 0, 0, 1.000)",
           "width": 1
          },
          "size": 8,
          "symbol": "circle"
         },
         "mode": "markers",
         "name": "y1",
         "showlegend": false,
         "type": "scatter",
         "x": [
          5.9157651
         ],
         "xaxis": "x",
         "y": [
          0.1333922
         ],
         "yaxis": "y",
         "zmax": 2,
         "zmin": 1
        },
        {
         "colorbar": {
          "title": ""
         },
         "legendgroup": "y1",
         "marker": {
          "color": "rgba(255, 76, 76, 1.000)",
          "line": {
           "color": "rgba(0, 0, 0, 1.000)",
           "width": 1
          },
          "size": 8,
          "symbol": "circle"
         },
         "mode": "markers",
         "name": "y1",
         "showlegend": false,
         "type": "scatter",
         "x": [
          5.8907332
         ],
         "xaxis": "x",
         "y": [
          -3.7652423
         ],
         "yaxis": "y",
         "zmax": 2,
         "zmin": 1
        },
        {
         "colorbar": {
          "title": ""
         },
         "legendgroup": "y1",
         "marker": {
          "color": "rgba(255, 76, 76, 1.000)",
          "line": {
           "color": "rgba(0, 0, 0, 1.000)",
           "width": 1
          },
          "size": 8,
          "symbol": "circle"
         },
         "mode": "markers",
         "name": "y1",
         "showlegend": false,
         "type": "scatter",
         "x": [
          6.2706672
         ],
         "xaxis": "x",
         "y": [
          -0.51105065
         ],
         "yaxis": "y",
         "zmax": 2,
         "zmin": 1
        },
        {
         "colorbar": {
          "title": ""
         },
         "legendgroup": "y1",
         "marker": {
          "color": "rgba(255, 76, 76, 1.000)",
          "line": {
           "color": "rgba(0, 0, 0, 1.000)",
           "width": 1
          },
          "size": 8,
          "symbol": "circle"
         },
         "mode": "markers",
         "name": "y1",
         "showlegend": false,
         "type": "scatter",
         "x": [
          6.1946331
         ],
         "xaxis": "x",
         "y": [
          0.61687761
         ],
         "yaxis": "y",
         "zmax": 2,
         "zmin": 1
        },
        {
         "colorbar": {
          "title": ""
         },
         "hoverinfo": "none",
         "marker": {
          "cmax": 2,
          "cmin": 1,
          "color": [
           0.5
          ],
          "colorscale": [
           [
            0,
            "rgba(204, 76, 204, 1.000)"
           ],
           [
            0.25,
            "rgba(76, 76, 255, 1.000)"
           ],
           [
            0.5,
            "rgba(76, 204, 76, 1.000)"
           ],
           [
            0.75,
            "rgba(255, 242, 76, 1.000)"
           ],
           [
            1,
            "rgba(255, 76, 76, 1.000)"
           ]
          ],
          "opacity": 1e-10,
          "showscale": false,
          "size": 1e-10
         },
         "mode": "markers",
         "name": "y1",
         "showlegend": false,
         "type": "scatter",
         "x": [
          -1.1339681
         ],
         "xaxis": "x",
         "y": [
          2.8831157
         ],
         "yaxis": "y",
         "zmax": 2,
         "zmin": 1
        },
        {
         "colorbar": {
          "title": ""
         },
         "legendgroup": "y2",
         "marker": {
          "color": "rgba(0, 0, 0, 1.000)",
          "line": {
           "color": "rgba(0, 0, 0, 1.000)",
           "width": 1
          },
          "size": 20,
          "symbol": "circle"
         },
         "mode": "markers",
         "name": "y2",
         "showlegend": true,
         "type": "scatter",
         "x": [
          -0.22208367537606843,
          5.843916497435895
         ],
         "xaxis": "x",
         "y": [
          3.1636694534939753,
          -0.6085490081566267
         ],
         "yaxis": "y",
         "zmax": 2,
         "zmin": 1
        }
       ],
       "layout": {
        "annotations": [
         {
          "font": {
           "color": "rgba(0, 0, 0, 1.000)",
           "family": "sans-serif",
           "size": 20
          },
          "rotation": 0,
          "showarrow": false,
          "text": "k-means Clustering",
          "x": 0.5423611111111111,
          "xanchor": "center",
          "xref": "paper",
          "y": 1,
          "yanchor": "top",
          "yref": "paper"
         }
        ],
        "height": 400,
        "margin": {
         "b": 20,
         "l": 0,
         "r": 0,
         "t": 20
        },
        "paper_bgcolor": "rgba(255, 255, 255, 1.000)",
        "plot_bgcolor": "rgba(255, 255, 255, 1.000)",
        "showlegend": false,
        "width": 600,
        "xaxis": {
         "anchor": "y",
         "domain": [
          0.09128390201224845,
          0.9934383202099738
         ],
         "gridcolor": "rgba(0, 0, 0, 0.100)",
         "gridwidth": 0.5,
         "linecolor": "rgba(0, 0, 0, 1.000)",
         "mirror": false,
         "range": [
          -8.730002187,
          9.326623887
         ],
         "showgrid": true,
         "showline": true,
         "showticklabels": true,
         "tickangle": 0,
         "tickcolor": "rgb(0, 0, 0)",
         "tickfont": {
          "color": "rgba(0, 0, 0, 1.000)",
          "family": "sans-serif",
          "size": 11
         },
         "tickmode": "array",
         "ticks": "inside",
         "ticktext": [
          "-7.5",
          "-5.0",
          "-2.5",
          "0.0",
          "2.5",
          "5.0",
          "7.5"
         ],
         "tickvals": [
          -7.5,
          -5,
          -2.5,
          0,
          2.5,
          5,
          7.5
         ],
         "title": "x values",
         "titlefont": {
          "color": "rgba(0, 0, 0, 1.000)",
          "family": "sans-serif",
          "size": 15
         },
         "type": "-",
         "visible": true,
         "zeroline": false,
         "zerolinecolor": "rgba(0, 0, 0, 1.000)"
        },
        "yaxis": {
         "anchor": "x",
         "domain": [
          0.07581474190726165,
          0.9415463692038496
         ],
         "gridcolor": "rgba(0, 0, 0, 0.100)",
         "gridwidth": 0.5,
         "linecolor": "rgba(0, 0, 0, 1.000)",
         "mirror": false,
         "range": [
          -6.023446604,
          6.892215404
         ],
         "showgrid": true,
         "showline": true,
         "showticklabels": true,
         "tickangle": 0,
         "tickcolor": "rgb(0, 0, 0)",
         "tickfont": {
          "color": "rgba(0, 0, 0, 1.000)",
          "family": "sans-serif",
          "size": 11
         },
         "tickmode": "array",
         "ticks": "inside",
         "ticktext": [
          "-5.0",
          "-2.5",
          "0.0",
          "2.5",
          "5.0"
         ],
         "tickvals": [
          -5,
          -2.5,
          0,
          2.5,
          5
         ],
         "title": "y values",
         "titlefont": {
          "color": "rgba(0, 0, 0, 1.000)",
          "family": "sans-serif",
          "size": 15
         },
         "type": "-",
         "visible": true,
         "zeroline": false,
         "zerolinecolor": "rgba(0, 0, 0, 1.000)"
        }
       }
      },
      "text/html": [
       "    <div id=\"9cc74975-1cfa-4a61-9f1a-9418919e6fc3\" style=\"width:600px;height:400px;\"></div>\n",
       "    <script>\n",
       "        requirejs.config({\n",
       "        paths: {\n",
       "            Plotly: 'https://cdn.plot.ly/plotly-2.6.3.min'\n",
       "        }\n",
       "    });\n",
       "    require(['Plotly'], function (Plotly) {\n",
       "\n",
       "        Plotly.newPlot('9cc74975-1cfa-4a61-9f1a-9418919e6fc3', [\n",
       "    {\n",
       "        \"xaxis\": \"x\",\n",
       "        \"colorbar\": {\n",
       "            \"title\": \"\"\n",
       "        },\n",
       "        \"yaxis\": \"y\",\n",
       "        \"x\": [\n",
       "            -1.1339681\n",
       "        ],\n",
       "        \"showlegend\": true,\n",
       "        \"mode\": \"markers\",\n",
       "        \"name\": \"y1\",\n",
       "        \"zmin\": 1.0,\n",
       "        \"legendgroup\": \"y1\",\n",
       "        \"marker\": {\n",
       "            \"symbol\": \"circle\",\n",
       "            \"color\": \"rgba(204, 76, 204, 1.000)\",\n",
       "            \"line\": {\n",
       "                \"color\": \"rgba(0, 0, 0, 1.000)\",\n",
       "                \"width\": 1\n",
       "            },\n",
       "            \"size\": 8\n",
       "        },\n",
       "        \"zmax\": 2.0,\n",
       "        \"y\": [\n",
       "            2.8831157\n",
       "        ],\n",
       "        \"type\": \"scatter\"\n",
       "    },\n",
       "    {\n",
       "        \"xaxis\": \"x\",\n",
       "        \"colorbar\": {\n",
       "            \"title\": \"\"\n",
       "        },\n",
       "        \"yaxis\": \"y\",\n",
       "        \"x\": [\n",
       "            1.1843365\n",
       "        ],\n",
       "        \"showlegend\": false,\n",
       "        \"mode\": \"markers\",\n",
       "        \"name\": \"y1\",\n",
       "        \"zmin\": 1.0,\n",
       "        \"legendgroup\": \"y1\",\n",
       "        \"marker\": {\n",
       "            \"symbol\": \"circle\",\n",
       "            \"color\": \"rgba(204, 76, 204, 1.000)\",\n",
       "            \"line\": {\n",
       "                \"color\": \"rgba(0, 0, 0, 1.000)\",\n",
       "                \"width\": 1\n",
       "            },\n",
       "            \"size\": 8\n",
       "        },\n",
       "        \"zmax\": 2.0,\n",
       "        \"y\": [\n",
       "            2.6798038\n",
       "        ],\n",
       "        \"type\": \"scatter\"\n",
       "    },\n",
       "    {\n",
       "        \"xaxis\": \"x\",\n",
       "        \"colorbar\": {\n",
       "            \"title\": \"\"\n",
       "        },\n",
       "        \"yaxis\": \"y\",\n",
       "        \"x\": [\n",
       "            -4.5383877\n",
       "        ],\n",
       "        \"showlegend\": false,\n",
       "        \"mode\": \"markers\",\n",
       "        \"name\": \"y1\",\n",
       "        \"zmin\": 1.0,\n",
       "        \"legendgroup\": \"y1\",\n",
       "        \"marker\": {\n",
       "            \"symbol\": \"circle\",\n",
       "            \"color\": \"rgba(204, 76, 204, 1.000)\",\n",
       "            \"line\": {\n",
       "                \"color\": \"rgba(0, 0, 0, 1.000)\",\n",
       "                \"width\": 1\n",
       "            },\n",
       "            \"size\": 8\n",
       "        },\n",
       "        \"zmax\": 2.0,\n",
       "        \"y\": [\n",
       "            3.8175163\n",
       "        ],\n",
       "        \"type\": \"scatter\"\n",
       "    },\n",
       "    {\n",
       "        \"xaxis\": \"x\",\n",
       "        \"colorbar\": {\n",
       "            \"title\": \"\"\n",
       "        },\n",
       "        \"yaxis\": \"y\",\n",
       "        \"x\": [\n",
       "            -0.19499936\n",
       "        ],\n",
       "        \"showlegend\": false,\n",
       "        \"mode\": \"markers\",\n",
       "        \"name\": \"y1\",\n",
       "        \"zmin\": 1.0,\n",
       "        \"legendgroup\": \"y1\",\n",
       "        \"marker\": {\n",
       "            \"symbol\": \"circle\",\n",
       "            \"color\": \"rgba(204, 76, 204, 1.000)\",\n",
       "            \"line\": {\n",
       "                \"color\": \"rgba(0, 0, 0, 1.000)\",\n",
       "                \"width\": 1\n",
       "            },\n",
       "            \"size\": 8\n",
       "        },\n",
       "        \"zmax\": 2.0,\n",
       "        \"y\": [\n",
       "            3.4901592\n",
       "        ],\n",
       "        \"type\": \"scatter\"\n",
       "    },\n",
       "    {\n",
       "        \"xaxis\": \"x\",\n",
       "        \"colorbar\": {\n",
       "            \"title\": \"\"\n",
       "        },\n",
       "        \"yaxis\": \"y\",\n",
       "        \"x\": [\n",
       "            -0.63064436\n",
       "        ],\n",
       "        \"showlegend\": false,\n",
       "        \"mode\": \"markers\",\n",
       "        \"name\": \"y1\",\n",
       "        \"zmin\": 1.0,\n",
       "        \"legendgroup\": \"y1\",\n",
       "        \"marker\": {\n",
       "            \"symbol\": \"circle\",\n",
       "            \"color\": \"rgba(204, 76, 204, 1.000)\",\n",
       "            \"line\": {\n",
       "                \"color\": \"rgba(0, 0, 0, 1.000)\",\n",
       "                \"width\": 1\n",
       "            },\n",
       "            \"size\": 8\n",
       "        },\n",
       "        \"zmax\": 2.0,\n",
       "        \"y\": [\n",
       "            3.7652512\n",
       "        ],\n",
       "        \"type\": \"scatter\"\n",
       "    },\n",
       "    {\n",
       "        \"xaxis\": \"x\",\n",
       "        \"colorbar\": {\n",
       "            \"title\": \"\"\n",
       "        },\n",
       "        \"yaxis\": \"y\",\n",
       "        \"x\": [\n",
       "            -1.7356955\n",
       "        ],\n",
       "        \"showlegend\": false,\n",
       "        \"mode\": \"markers\",\n",
       "        \"name\": \"y1\",\n",
       "        \"zmin\": 1.0,\n",
       "        \"legendgroup\": \"y1\",\n",
       "        \"marker\": {\n",
       "            \"symbol\": \"circle\",\n",
       "            \"color\": \"rgba(204, 76, 204, 1.000)\",\n",
       "            \"line\": {\n",
       "                \"color\": \"rgba(0, 0, 0, 1.000)\",\n",
       "                \"width\": 1\n",
       "            },\n",
       "            \"size\": 8\n",
       "        },\n",
       "        \"zmax\": 2.0,\n",
       "        \"y\": [\n",
       "            3.778279\n",
       "        ],\n",
       "        \"type\": \"scatter\"\n",
       "    },\n",
       "    {\n",
       "        \"xaxis\": \"x\",\n",
       "        \"colorbar\": {\n",
       "            \"title\": \"\"\n",
       "        },\n",
       "        \"yaxis\": \"y\",\n",
       "        \"x\": [\n",
       "            2.9580958\n",
       "        ],\n",
       "        \"showlegend\": false,\n",
       "        \"mode\": \"markers\",\n",
       "        \"name\": \"y1\",\n",
       "        \"zmin\": 1.0,\n",
       "        \"legendgroup\": \"y1\",\n",
       "        \"marker\": {\n",
       "            \"symbol\": \"circle\",\n",
       "            \"color\": \"rgba(255, 76, 76, 1.000)\",\n",
       "            \"line\": {\n",
       "                \"color\": \"rgba(0, 0, 0, 1.000)\",\n",
       "                \"width\": 1\n",
       "            },\n",
       "            \"size\": 8\n",
       "        },\n",
       "        \"zmax\": 2.0,\n",
       "        \"y\": [\n",
       "            1.5196948\n",
       "        ],\n",
       "        \"type\": \"scatter\"\n",
       "    },\n",
       "    {\n",
       "        \"xaxis\": \"x\",\n",
       "        \"colorbar\": {\n",
       "            \"title\": \"\"\n",
       "        },\n",
       "        \"yaxis\": \"y\",\n",
       "        \"x\": [\n",
       "            -1.2028138\n",
       "        ],\n",
       "        \"showlegend\": false,\n",
       "        \"mode\": \"markers\",\n",
       "        \"name\": \"y1\",\n",
       "        \"zmin\": 1.0,\n",
       "        \"legendgroup\": \"y1\",\n",
       "        \"marker\": {\n",
       "            \"symbol\": \"circle\",\n",
       "            \"color\": \"rgba(204, 76, 204, 1.000)\",\n",
       "            \"line\": {\n",
       "                \"color\": \"rgba(0, 0, 0, 1.000)\",\n",
       "                \"width\": 1\n",
       "            },\n",
       "            \"size\": 8\n",
       "        },\n",
       "        \"zmax\": 2.0,\n",
       "        \"y\": [\n",
       "            3.540364\n",
       "        ],\n",
       "        \"type\": \"scatter\"\n",
       "    },\n",
       "    {\n",
       "        \"xaxis\": \"x\",\n",
       "        \"colorbar\": {\n",
       "            \"title\": \"\"\n",
       "        },\n",
       "        \"yaxis\": \"y\",\n",
       "        \"x\": [\n",
       "            2.6218993\n",
       "        ],\n",
       "        \"showlegend\": false,\n",
       "        \"mode\": \"markers\",\n",
       "        \"name\": \"y1\",\n",
       "        \"zmin\": 1.0,\n",
       "        \"legendgroup\": \"y1\",\n",
       "        \"marker\": {\n",
       "            \"symbol\": \"circle\",\n",
       "            \"color\": \"rgba(204, 76, 204, 1.000)\",\n",
       "            \"line\": {\n",
       "                \"color\": \"rgba(0, 0, 0, 1.000)\",\n",
       "                \"width\": 1\n",
       "            },\n",
       "            \"size\": 8\n",
       "        },\n",
       "        \"zmax\": 2.0,\n",
       "        \"y\": [\n",
       "            2.908461\n",
       "        ],\n",
       "        \"type\": \"scatter\"\n",
       "    },\n",
       "    {\n",
       "        \"xaxis\": \"x\",\n",
       "        \"colorbar\": {\n",
       "            \"title\": \"\"\n",
       "        },\n",
       "        \"yaxis\": \"y\",\n",
       "        \"x\": [\n",
       "            3.9275227\n",
       "        ],\n",
       "        \"showlegend\": false,\n",
       "        \"mode\": \"markers\",\n",
       "        \"name\": \"y1\",\n",
       "        \"zmin\": 1.0,\n",
       "        \"legendgroup\": \"y1\",\n",
       "        \"marker\": {\n",
       "            \"symbol\": \"circle\",\n",
       "            \"color\": \"rgba(255, 76, 76, 1.000)\",\n",
       "            \"line\": {\n",
       "                \"color\": \"rgba(0, 0, 0, 1.000)\",\n",
       "                \"width\": 1\n",
       "            },\n",
       "            \"size\": 8\n",
       "        },\n",
       "        \"zmax\": 2.0,\n",
       "        \"y\": [\n",
       "            2.2397476\n",
       "        ],\n",
       "        \"type\": \"scatter\"\n",
       "    },\n",
       "    {\n",
       "        \"xaxis\": \"x\",\n",
       "        \"colorbar\": {\n",
       "            \"title\": \"\"\n",
       "        },\n",
       "        \"yaxis\": \"y\",\n",
       "        \"x\": [\n",
       "            0.52938876\n",
       "        ],\n",
       "        \"showlegend\": false,\n",
       "        \"mode\": \"markers\",\n",
       "        \"name\": \"y1\",\n",
       "        \"zmin\": 1.0,\n",
       "        \"legendgroup\": \"y1\",\n",
       "        \"marker\": {\n",
       "            \"symbol\": \"circle\",\n",
       "            \"color\": \"rgba(204, 76, 204, 1.000)\",\n",
       "            \"line\": {\n",
       "                \"color\": \"rgba(0, 0, 0, 1.000)\",\n",
       "                \"width\": 1\n",
       "            },\n",
       "            \"size\": 8\n",
       "        },\n",
       "        \"zmax\": 2.0,\n",
       "        \"y\": [\n",
       "            2.3064046\n",
       "        ],\n",
       "        \"type\": \"scatter\"\n",
       "    },\n",
       "    {\n",
       "        \"xaxis\": \"x\",\n",
       "        \"colorbar\": {\n",
       "            \"title\": \"\"\n",
       "        },\n",
       "        \"yaxis\": \"y\",\n",
       "        \"x\": [\n",
       "            1.833398\n",
       "        ],\n",
       "        \"showlegend\": false,\n",
       "        \"mode\": \"markers\",\n",
       "        \"name\": \"y1\",\n",
       "        \"zmin\": 1.0,\n",
       "        \"legendgroup\": \"y1\",\n",
       "        \"marker\": {\n",
       "            \"symbol\": \"circle\",\n",
       "            \"color\": \"rgba(204, 76, 204, 1.000)\",\n",
       "            \"line\": {\n",
       "                \"color\": \"rgba(0, 0, 0, 1.000)\",\n",
       "                \"width\": 1\n",
       "            },\n",
       "            \"size\": 8\n",
       "        },\n",
       "        \"zmax\": 2.0,\n",
       "        \"y\": [\n",
       "            4.2814578\n",
       "        ],\n",
       "        \"type\": \"scatter\"\n",
       "    },\n",
       "    {\n",
       "        \"xaxis\": \"x\",\n",
       "        \"colorbar\": {\n",
       "            \"title\": \"\"\n",
       "        },\n",
       "        \"yaxis\": \"y\",\n",
       "        \"x\": [\n",
       "            2.9185519\n",
       "        ],\n",
       "        \"showlegend\": false,\n",
       "        \"mode\": \"markers\",\n",
       "        \"name\": \"y1\",\n",
       "        \"zmin\": 1.0,\n",
       "        \"legendgroup\": \"y1\",\n",
       "        \"marker\": {\n",
       "            \"symbol\": \"circle\",\n",
       "            \"color\": \"rgba(204, 76, 204, 1.000)\",\n",
       "            \"line\": {\n",
       "                \"color\": \"rgba(0, 0, 0, 1.000)\",\n",
       "                \"width\": 1\n",
       "            },\n",
       "            \"size\": 8\n",
       "        },\n",
       "        \"zmax\": 2.0,\n",
       "        \"y\": [\n",
       "            2.1902624\n",
       "        ],\n",
       "        \"type\": \"scatter\"\n",
       "    },\n",
       "    {\n",
       "        \"xaxis\": \"x\",\n",
       "        \"colorbar\": {\n",
       "            \"title\": \"\"\n",
       "        },\n",
       "        \"yaxis\": \"y\",\n",
       "        \"x\": [\n",
       "            0.75706595\n",
       "        ],\n",
       "        \"showlegend\": false,\n",
       "        \"mode\": \"markers\",\n",
       "        \"name\": \"y1\",\n",
       "        \"zmin\": 1.0,\n",
       "        \"legendgroup\": \"y1\",\n",
       "        \"marker\": {\n",
       "            \"symbol\": \"circle\",\n",
       "            \"color\": \"rgba(204, 76, 204, 1.000)\",\n",
       "            \"line\": {\n",
       "                \"color\": \"rgba(0, 0, 0, 1.000)\",\n",
       "                \"width\": 1\n",
       "            },\n",
       "            \"size\": 8\n",
       "        },\n",
       "        \"zmax\": 2.0,\n",
       "        \"y\": [\n",
       "            1.7631816\n",
       "        ],\n",
       "        \"type\": \"scatter\"\n",
       "    },\n",
       "    {\n",
       "        \"xaxis\": \"x\",\n",
       "        \"colorbar\": {\n",
       "            \"title\": \"\"\n",
       "        },\n",
       "        \"yaxis\": \"y\",\n",
       "        \"x\": [\n",
       "            2.6226104\n",
       "        ],\n",
       "        \"showlegend\": false,\n",
       "        \"mode\": \"markers\",\n",
       "        \"name\": \"y1\",\n",
       "        \"zmin\": 1.0,\n",
       "        \"legendgroup\": \"y1\",\n",
       "        \"marker\": {\n",
       "            \"symbol\": \"circle\",\n",
       "            \"color\": \"rgba(204, 76, 204, 1.000)\",\n",
       "            \"line\": {\n",
       "                \"color\": \"rgba(0, 0, 0, 1.000)\",\n",
       "                \"width\": 1\n",
       "            },\n",
       "            \"size\": 8\n",
       "        },\n",
       "        \"zmax\": 2.0,\n",
       "        \"y\": [\n",
       "            3.2146864\n",
       "        ],\n",
       "        \"type\": \"scatter\"\n",
       "    },\n",
       "    {\n",
       "        \"xaxis\": \"x\",\n",
       "        \"colorbar\": {\n",
       "            \"title\": \"\"\n",
       "        },\n",
       "        \"yaxis\": \"y\",\n",
       "        \"x\": [\n",
       "            -2.7876945\n",
       "        ],\n",
       "        \"showlegend\": false,\n",
       "        \"mode\": \"markers\",\n",
       "        \"name\": \"y1\",\n",
       "        \"zmin\": 1.0,\n",
       "        \"legendgroup\": \"y1\",\n",
       "        \"marker\": {\n",
       "            \"symbol\": \"circle\",\n",
       "            \"color\": \"rgba(204, 76, 204, 1.000)\",\n",
       "            \"line\": {\n",
       "                \"color\": \"rgba(0, 0, 0, 1.000)\",\n",
       "                \"width\": 1\n",
       "            },\n",
       "            \"size\": 8\n",
       "        },\n",
       "        \"zmax\": 2.0,\n",
       "        \"y\": [\n",
       "            5.0107718\n",
       "        ],\n",
       "        \"type\": \"scatter\"\n",
       "    },\n",
       "    {\n",
       "        \"xaxis\": \"x\",\n",
       "        \"colorbar\": {\n",
       "            \"title\": \"\"\n",
       "        },\n",
       "        \"yaxis\": \"y\",\n",
       "        \"x\": [\n",
       "            4.3312715\n",
       "        ],\n",
       "        \"showlegend\": false,\n",
       "        \"mode\": \"markers\",\n",
       "        \"name\": \"y1\",\n",
       "        \"zmin\": 1.0,\n",
       "        \"legendgroup\": \"y1\",\n",
       "        \"marker\": {\n",
       "            \"symbol\": \"circle\",\n",
       "            \"color\": \"rgba(255, 76, 76, 1.000)\",\n",
       "            \"line\": {\n",
       "                \"color\": \"rgba(0, 0, 0, 1.000)\",\n",
       "                \"width\": 1\n",
       "            },\n",
       "            \"size\": 8\n",
       "        },\n",
       "        \"zmax\": 2.0,\n",
       "        \"y\": [\n",
       "            3.0255544\n",
       "        ],\n",
       "        \"type\": \"scatter\"\n",
       "    },\n",
       "    {\n",
       "        \"xaxis\": \"x\",\n",
       "        \"colorbar\": {\n",
       "            \"title\": \"\"\n",
       "        },\n",
       "        \"yaxis\": \"y\",\n",
       "        \"x\": [\n",
       "            -1.968688\n",
       "        ],\n",
       "        \"showlegend\": false,\n",
       "        \"mode\": \"markers\",\n",
       "        \"name\": \"y1\",\n",
       "        \"zmin\": 1.0,\n",
       "        \"legendgroup\": \"y1\",\n",
       "        \"marker\": {\n",
       "            \"symbol\": \"circle\",\n",
       "            \"color\": \"rgba(204, 76, 204, 1.000)\",\n",
       "            \"line\": {\n",
       "                \"color\": \"rgba(0, 0, 0, 1.000)\",\n",
       "                \"width\": 1\n",
       "            },\n",
       "            \"size\": 8\n",
       "        },\n",
       "        \"zmax\": 2.0,\n",
       "        \"y\": [\n",
       "            3.3082994\n",
       "        ],\n",
       "        \"type\": \"scatter\"\n",
       "    },\n",
       "    {\n",
       "        \"xaxis\": \"x\",\n",
       "        \"colorbar\": {\n",
       "            \"title\": \"\"\n",
       "        },\n",
       "        \"yaxis\": \"y\",\n",
       "        \"x\": [\n",
       "            -4.4865078\n",
       "        ],\n",
       "        \"showlegend\": false,\n",
       "        \"mode\": \"markers\",\n",
       "        \"name\": \"y1\",\n",
       "        \"zmin\": 1.0,\n",
       "        \"legendgroup\": \"y1\",\n",
       "        \"marker\": {\n",
       "            \"symbol\": \"circle\",\n",
       "            \"color\": \"rgba(204, 76, 204, 1.000)\",\n",
       "            \"line\": {\n",
       "                \"color\": \"rgba(0, 0, 0, 1.000)\",\n",
       "                \"width\": 1\n",
       "            },\n",
       "            \"size\": 8\n",
       "        },\n",
       "        \"zmax\": 2.0,\n",
       "        \"y\": [\n",
       "            2.0617528\n",
       "        ],\n",
       "        \"type\": \"scatter\"\n",
       "    },\n",
       "    {\n",
       "        \"xaxis\": \"x\",\n",
       "        \"colorbar\": {\n",
       "            \"title\": \"\"\n",
       "        },\n",
       "        \"yaxis\": \"y\",\n",
       "        \"x\": [\n",
       "            5.1534955\n",
       "        ],\n",
       "        \"showlegend\": false,\n",
       "        \"mode\": \"markers\",\n",
       "        \"name\": \"y1\",\n",
       "        \"zmin\": 1.0,\n",
       "        \"legendgroup\": \"y1\",\n",
       "        \"marker\": {\n",
       "            \"symbol\": \"circle\",\n",
       "            \"color\": \"rgba(255, 76, 76, 1.000)\",\n",
       "            \"line\": {\n",
       "                \"color\": \"rgba(0, 0, 0, 1.000)\",\n",
       "                \"width\": 1\n",
       "            },\n",
       "            \"size\": 8\n",
       "        },\n",
       "        \"zmax\": 2.0,\n",
       "        \"y\": [\n",
       "            4.674216\n",
       "        ],\n",
       "        \"type\": \"scatter\"\n",
       "    },\n",
       "    {\n",
       "        \"xaxis\": \"x\",\n",
       "        \"colorbar\": {\n",
       "            \"title\": \"\"\n",
       "        },\n",
       "        \"yaxis\": \"y\",\n",
       "        \"x\": [\n",
       "            0.81181962\n",
       "        ],\n",
       "        \"showlegend\": false,\n",
       "        \"mode\": \"markers\",\n",
       "        \"name\": \"y1\",\n",
       "        \"zmin\": 1.0,\n",
       "        \"legendgroup\": \"y1\",\n",
       "        \"marker\": {\n",
       "            \"symbol\": \"circle\",\n",
       "            \"color\": \"rgba(204, 76, 204, 1.000)\",\n",
       "            \"line\": {\n",
       "                \"color\": \"rgba(0, 0, 0, 1.000)\",\n",
       "                \"width\": 1\n",
       "            },\n",
       "            \"size\": 8\n",
       "        },\n",
       "        \"zmax\": 2.0,\n",
       "        \"y\": [\n",
       "            3.1249882\n",
       "        ],\n",
       "        \"type\": \"scatter\"\n",
       "    },\n",
       "    {\n",
       "        \"xaxis\": \"x\",\n",
       "        \"colorbar\": {\n",
       "            \"title\": \"\"\n",
       "        },\n",
       "        \"yaxis\": \"y\",\n",
       "        \"x\": [\n",
       "            2.3467634\n",
       "        ],\n",
       "        \"showlegend\": false,\n",
       "        \"mode\": \"markers\",\n",
       "        \"name\": \"y1\",\n",
       "        \"zmin\": 1.0,\n",
       "        \"legendgroup\": \"y1\",\n",
       "        \"marker\": {\n",
       "            \"symbol\": \"circle\",\n",
       "            \"color\": \"rgba(204, 76, 204, 1.000)\",\n",
       "            \"line\": {\n",
       "                \"color\": \"rgba(0, 0, 0, 1.000)\",\n",
       "                \"width\": 1\n",
       "            },\n",
       "            \"size\": 8\n",
       "        },\n",
       "        \"zmax\": 2.0,\n",
       "        \"y\": [\n",
       "            3.5301013\n",
       "        ],\n",
       "        \"type\": \"scatter\"\n",
       "    },\n",
       "    {\n",
       "        \"xaxis\": \"x\",\n",
       "        \"colorbar\": {\n",
       "            \"title\": \"\"\n",
       "        },\n",
       "        \"yaxis\": \"y\",\n",
       "        \"x\": [\n",
       "            -0.089775417\n",
       "        ],\n",
       "        \"showlegend\": false,\n",
       "        \"mode\": \"markers\",\n",
       "        \"name\": \"y1\",\n",
       "        \"zmin\": 1.0,\n",
       "        \"legendgroup\": \"y1\",\n",
       "        \"marker\": {\n",
       "            \"symbol\": \"circle\",\n",
       "            \"color\": \"rgba(204, 76, 204, 1.000)\",\n",
       "            \"line\": {\n",
       "                \"color\": \"rgba(0, 0, 0, 1.000)\",\n",
       "                \"width\": 1\n",
       "            },\n",
       "            \"size\": 8\n",
       "        },\n",
       "        \"zmax\": 2.0,\n",
       "        \"y\": [\n",
       "            2.0479318\n",
       "        ],\n",
       "        \"type\": \"scatter\"\n",
       "    },\n",
       "    {\n",
       "        \"xaxis\": \"x\",\n",
       "        \"colorbar\": {\n",
       "            \"title\": \"\"\n",
       "        },\n",
       "        \"yaxis\": \"y\",\n",
       "        \"x\": [\n",
       "            -2.0617502\n",
       "        ],\n",
       "        \"showlegend\": false,\n",
       "        \"mode\": \"markers\",\n",
       "        \"name\": \"y1\",\n",
       "        \"zmin\": 1.0,\n",
       "        \"legendgroup\": \"y1\",\n",
       "        \"marker\": {\n",
       "            \"symbol\": \"circle\",\n",
       "            \"color\": \"rgba(204, 76, 204, 1.000)\",\n",
       "            \"line\": {\n",
       "                \"color\": \"rgba(0, 0, 0, 1.000)\",\n",
       "                \"width\": 1\n",
       "            },\n",
       "            \"size\": 8\n",
       "        },\n",
       "        \"zmax\": 2.0,\n",
       "        \"y\": [\n",
       "            3.8540428\n",
       "        ],\n",
       "        \"type\": \"scatter\"\n",
       "    },\n",
       "    {\n",
       "        \"xaxis\": \"x\",\n",
       "        \"colorbar\": {\n",
       "            \"title\": \"\"\n",
       "        },\n",
       "        \"yaxis\": \"y\",\n",
       "        \"x\": [\n",
       "            -8.2189656\n",
       "        ],\n",
       "        \"showlegend\": false,\n",
       "        \"mode\": \"markers\",\n",
       "        \"name\": \"y1\",\n",
       "        \"zmin\": 1.0,\n",
       "        \"legendgroup\": \"y1\",\n",
       "        \"marker\": {\n",
       "            \"symbol\": \"circle\",\n",
       "            \"color\": \"rgba(204, 76, 204, 1.000)\",\n",
       "            \"line\": {\n",
       "                \"color\": \"rgba(0, 0, 0, 1.000)\",\n",
       "                \"width\": 1\n",
       "            },\n",
       "            \"size\": 8\n",
       "        },\n",
       "        \"zmax\": 2.0,\n",
       "        \"y\": [\n",
       "            3.3891457\n",
       "        ],\n",
       "        \"type\": \"scatter\"\n",
       "    },\n",
       "    {\n",
       "        \"xaxis\": \"x\",\n",
       "        \"colorbar\": {\n",
       "            \"title\": \"\"\n",
       "        },\n",
       "        \"yaxis\": \"y\",\n",
       "        \"x\": [\n",
       "            2.878837\n",
       "        ],\n",
       "        \"showlegend\": false,\n",
       "        \"mode\": \"markers\",\n",
       "        \"name\": \"y1\",\n",
       "        \"zmin\": 1.0,\n",
       "        \"legendgroup\": \"y1\",\n",
       "        \"marker\": {\n",
       "            \"symbol\": \"circle\",\n",
       "            \"color\": \"rgba(255, 76, 76, 1.000)\",\n",
       "            \"line\": {\n",
       "                \"color\": \"rgba(0, 0, 0, 1.000)\",\n",
       "                \"width\": 1\n",
       "            },\n",
       "            \"size\": 8\n",
       "        },\n",
       "        \"zmax\": 2.0,\n",
       "        \"y\": [\n",
       "            1.8439989\n",
       "        ],\n",
       "        \"type\": \"scatter\"\n",
       "    },\n",
       "    {\n",
       "        \"xaxis\": \"x\",\n",
       "        \"colorbar\": {\n",
       "            \"title\": \"\"\n",
       "        },\n",
       "        \"yaxis\": \"y\",\n",
       "        \"x\": [\n",
       "            0.1399464\n",
       "        ],\n",
       "        \"showlegend\": false,\n",
       "        \"mode\": \"markers\",\n",
       "        \"name\": \"y1\",\n",
       "        \"zmin\": 1.0,\n",
       "        \"legendgroup\": \"y1\",\n",
       "        \"marker\": {\n",
       "            \"symbol\": \"circle\",\n",
       "            \"color\": \"rgba(204, 76, 204, 1.000)\",\n",
       "            \"line\": {\n",
       "                \"color\": \"rgba(0, 0, 0, 1.000)\",\n",
       "                \"width\": 1\n",
       "            },\n",
       "            \"size\": 8\n",
       "        },\n",
       "        \"zmax\": 2.0,\n",
       "        \"y\": [\n",
       "            3.0397401\n",
       "        ],\n",
       "        \"type\": \"scatter\"\n",
       "    },\n",
       "    {\n",
       "        \"xaxis\": \"x\",\n",
       "        \"colorbar\": {\n",
       "            \"title\": \"\"\n",
       "        },\n",
       "        \"yaxis\": \"y\",\n",
       "        \"x\": [\n",
       "            0.40797128\n",
       "        ],\n",
       "        \"showlegend\": false,\n",
       "        \"mode\": \"markers\",\n",
       "        \"name\": \"y1\",\n",
       "        \"zmin\": 1.0,\n",
       "        \"legendgroup\": \"y1\",\n",
       "        \"marker\": {\n",
       "            \"symbol\": \"circle\",\n",
       "            \"color\": \"rgba(204, 76, 204, 1.000)\",\n",
       "            \"line\": {\n",
       "                \"color\": \"rgba(0, 0, 0, 1.000)\",\n",
       "                \"width\": 1\n",
       "            },\n",
       "            \"size\": 8\n",
       "        },\n",
       "        \"zmax\": 2.0,\n",
       "        \"y\": [\n",
       "            2.5494014\n",
       "        ],\n",
       "        \"type\": \"scatter\"\n",
       "    },\n",
       "    {\n",
       "        \"xaxis\": \"x\",\n",
       "        \"colorbar\": {\n",
       "            \"title\": \"\"\n",
       "        },\n",
       "        \"yaxis\": \"y\",\n",
       "        \"x\": [\n",
       "            2.2168161\n",
       "        ],\n",
       "        \"showlegend\": false,\n",
       "        \"mode\": \"markers\",\n",
       "        \"name\": \"y1\",\n",
       "        \"zmin\": 1.0,\n",
       "        \"legendgroup\": \"y1\",\n",
       "        \"marker\": {\n",
       "            \"symbol\": \"circle\",\n",
       "            \"color\": \"rgba(204, 76, 204, 1.000)\",\n",
       "            \"line\": {\n",
       "                \"color\": \"rgba(0, 0, 0, 1.000)\",\n",
       "                \"width\": 1\n",
       "            },\n",
       "            \"size\": 8\n",
       "        },\n",
       "        \"zmax\": 2.0,\n",
       "        \"y\": [\n",
       "            3.1092479\n",
       "        ],\n",
       "        \"type\": \"scatter\"\n",
       "    },\n",
       "    {\n",
       "        \"xaxis\": \"x\",\n",
       "        \"colorbar\": {\n",
       "            \"title\": \"\"\n",
       "        },\n",
       "        \"yaxis\": \"y\",\n",
       "        \"x\": [\n",
       "            -3.2580454\n",
       "        ],\n",
       "        \"showlegend\": false,\n",
       "        \"mode\": \"markers\",\n",
       "        \"name\": \"y1\",\n",
       "        \"zmin\": 1.0,\n",
       "        \"legendgroup\": \"y1\",\n",
       "        \"marker\": {\n",
       "            \"symbol\": \"circle\",\n",
       "            \"color\": \"rgba(204, 76, 204, 1.000)\",\n",
       "            \"line\": {\n",
       "                \"color\": \"rgba(0, 0, 0, 1.000)\",\n",
       "                \"width\": 1\n",
       "            },\n",
       "            \"size\": 8\n",
       "        },\n",
       "        \"zmax\": 2.0,\n",
       "        \"y\": [\n",
       "            2.7494472\n",
       "        ],\n",
       "        \"type\": \"scatter\"\n",
       "    },\n",
       "    {\n",
       "        \"xaxis\": \"x\",\n",
       "        \"colorbar\": {\n",
       "            \"title\": \"\"\n",
       "        },\n",
       "        \"yaxis\": \"y\",\n",
       "        \"x\": [\n",
       "            -1.1883357\n",
       "        ],\n",
       "        \"showlegend\": false,\n",
       "        \"mode\": \"markers\",\n",
       "        \"name\": \"y1\",\n",
       "        \"zmin\": 1.0,\n",
       "        \"legendgroup\": \"y1\",\n",
       "        \"marker\": {\n",
       "            \"symbol\": \"circle\",\n",
       "            \"color\": \"rgba(204, 76, 204, 1.000)\",\n",
       "            \"line\": {\n",
       "                \"color\": \"rgba(0, 0, 0, 1.000)\",\n",
       "                \"width\": 1\n",
       "            },\n",
       "            \"size\": 8\n",
       "        },\n",
       "        \"zmax\": 2.0,\n",
       "        \"y\": [\n",
       "            2.8100983\n",
       "        ],\n",
       "        \"type\": \"scatter\"\n",
       "    },\n",
       "    {\n",
       "        \"xaxis\": \"x\",\n",
       "        \"colorbar\": {\n",
       "            \"title\": \"\"\n",
       "        },\n",
       "        \"yaxis\": \"y\",\n",
       "        \"x\": [\n",
       "            4.4419835\n",
       "        ],\n",
       "        \"showlegend\": false,\n",
       "        \"mode\": \"markers\",\n",
       "        \"name\": \"y1\",\n",
       "        \"zmin\": 1.0,\n",
       "        \"legendgroup\": \"y1\",\n",
       "        \"marker\": {\n",
       "            \"symbol\": \"circle\",\n",
       "            \"color\": \"rgba(255, 76, 76, 1.000)\",\n",
       "            \"line\": {\n",
       "                \"color\": \"rgba(0, 0, 0, 1.000)\",\n",
       "                \"width\": 1\n",
       "            },\n",
       "            \"size\": 8\n",
       "        },\n",
       "        \"zmax\": 2.0,\n",
       "        \"y\": [\n",
       "            1.9670865\n",
       "        ],\n",
       "        \"type\": \"scatter\"\n",
       "    },\n",
       "    {\n",
       "        \"xaxis\": \"x\",\n",
       "        \"colorbar\": {\n",
       "            \"title\": \"\"\n",
       "        },\n",
       "        \"yaxis\": \"y\",\n",
       "        \"x\": [\n",
       "            2.7935939\n",
       "        ],\n",
       "        \"showlegend\": false,\n",
       "        \"mode\": \"markers\",\n",
       "        \"name\": \"y1\",\n",
       "        \"zmin\": 1.0,\n",
       "        \"legendgroup\": \"y1\",\n",
       "        \"marker\": {\n",
       "            \"symbol\": \"circle\",\n",
       "            \"color\": \"rgba(204, 76, 204, 1.000)\",\n",
       "            \"line\": {\n",
       "                \"color\": \"rgba(0, 0, 0, 1.000)\",\n",
       "                \"width\": 1\n",
       "            },\n",
       "            \"size\": 8\n",
       "        },\n",
       "        \"zmax\": 2.0,\n",
       "        \"y\": [\n",
       "            2.6767081\n",
       "        ],\n",
       "        \"type\": \"scatter\"\n",
       "    },\n",
       "    {\n",
       "        \"xaxis\": \"x\",\n",
       "        \"colorbar\": {\n",
       "            \"title\": \"\"\n",
       "        },\n",
       "        \"yaxis\": \"y\",\n",
       "        \"x\": [\n",
       "            -2.8438438\n",
       "        ],\n",
       "        \"showlegend\": false,\n",
       "        \"mode\": \"markers\",\n",
       "        \"name\": \"y1\",\n",
       "        \"zmin\": 1.0,\n",
       "        \"legendgroup\": \"y1\",\n",
       "        \"marker\": {\n",
       "            \"symbol\": \"circle\",\n",
       "            \"color\": \"rgba(204, 76, 204, 1.000)\",\n",
       "            \"line\": {\n",
       "                \"color\": \"rgba(0, 0, 0, 1.000)\",\n",
       "                \"width\": 1\n",
       "            },\n",
       "            \"size\": 8\n",
       "        },\n",
       "        \"zmax\": 2.0,\n",
       "        \"y\": [\n",
       "            3.7665269\n",
       "        ],\n",
       "        \"type\": \"scatter\"\n",
       "    },\n",
       "    {\n",
       "        \"xaxis\": \"x\",\n",
       "        \"colorbar\": {\n",
       "            \"title\": \"\"\n",
       "        },\n",
       "        \"yaxis\": \"y\",\n",
       "        \"x\": [\n",
       "            -5.6097927\n",
       "        ],\n",
       "        \"showlegend\": false,\n",
       "        \"mode\": \"markers\",\n",
       "        \"name\": \"y1\",\n",
       "        \"zmin\": 1.0,\n",
       "        \"legendgroup\": \"y1\",\n",
       "        \"marker\": {\n",
       "            \"symbol\": \"circle\",\n",
       "            \"color\": \"rgba(204, 76, 204, 1.000)\",\n",
       "            \"line\": {\n",
       "                \"color\": \"rgba(0, 0, 0, 1.000)\",\n",
       "                \"width\": 1\n",
       "            },\n",
       "            \"size\": 8\n",
       "        },\n",
       "        \"zmax\": 2.0,\n",
       "        \"y\": [\n",
       "            4.7446732\n",
       "        ],\n",
       "        \"type\": \"scatter\"\n",
       "    },\n",
       "    {\n",
       "        \"xaxis\": \"x\",\n",
       "        \"colorbar\": {\n",
       "            \"title\": \"\"\n",
       "        },\n",
       "        \"yaxis\": \"y\",\n",
       "        \"x\": [\n",
       "            -0.71373896\n",
       "        ],\n",
       "        \"showlegend\": false,\n",
       "        \"mode\": \"markers\",\n",
       "        \"name\": \"y1\",\n",
       "        \"zmin\": 1.0,\n",
       "        \"legendgroup\": \"y1\",\n",
       "        \"marker\": {\n",
       "            \"symbol\": \"circle\",\n",
       "            \"color\": \"rgba(204, 76, 204, 1.000)\",\n",
       "            \"line\": {\n",
       "                \"color\": \"rgba(0, 0, 0, 1.000)\",\n",
       "                \"width\": 1\n",
       "            },\n",
       "            \"size\": 8\n",
       "        },\n",
       "        \"zmax\": 2.0,\n",
       "        \"y\": [\n",
       "            1.8394801\n",
       "        ],\n",
       "        \"type\": \"scatter\"\n",
       "    },\n",
       "    {\n",
       "        \"xaxis\": \"x\",\n",
       "        \"colorbar\": {\n",
       "            \"title\": \"\"\n",
       "        },\n",
       "        \"yaxis\": \"y\",\n",
       "        \"x\": [\n",
       "            1.6419894\n",
       "        ],\n",
       "        \"showlegend\": false,\n",
       "        \"mode\": \"markers\",\n",
       "        \"name\": \"y1\",\n",
       "        \"zmin\": 1.0,\n",
       "        \"legendgroup\": \"y1\",\n",
       "        \"marker\": {\n",
       "            \"symbol\": \"circle\",\n",
       "            \"color\": \"rgba(204, 76, 204, 1.000)\",\n",
       "            \"line\": {\n",
       "                \"color\": \"rgba(0, 0, 0, 1.000)\",\n",
       "                \"width\": 1\n",
       "            },\n",
       "            \"size\": 8\n",
       "        },\n",
       "        \"zmax\": 2.0,\n",
       "        \"y\": [\n",
       "            5.3774119\n",
       "        ],\n",
       "        \"type\": \"scatter\"\n",
       "    },\n",
       "    {\n",
       "        \"xaxis\": \"x\",\n",
       "        \"colorbar\": {\n",
       "            \"title\": \"\"\n",
       "        },\n",
       "        \"yaxis\": \"y\",\n",
       "        \"x\": [\n",
       "            3.8271308\n",
       "        ],\n",
       "        \"showlegend\": false,\n",
       "        \"mode\": \"markers\",\n",
       "        \"name\": \"y1\",\n",
       "        \"zmin\": 1.0,\n",
       "        \"legendgroup\": \"y1\",\n",
       "        \"marker\": {\n",
       "            \"symbol\": \"circle\",\n",
       "            \"color\": \"rgba(204, 76, 204, 1.000)\",\n",
       "            \"line\": {\n",
       "                \"color\": \"rgba(0, 0, 0, 1.000)\",\n",
       "                \"width\": 1\n",
       "            },\n",
       "            \"size\": 8\n",
       "        },\n",
       "        \"zmax\": 2.0,\n",
       "        \"y\": [\n",
       "            4.526078\n",
       "        ],\n",
       "        \"type\": \"scatter\"\n",
       "    },\n",
       "    {\n",
       "        \"xaxis\": \"x\",\n",
       "        \"colorbar\": {\n",
       "            \"title\": \"\"\n",
       "        },\n",
       "        \"yaxis\": \"y\",\n",
       "        \"x\": [\n",
       "            1.2811765\n",
       "        ],\n",
       "        \"showlegend\": false,\n",
       "        \"mode\": \"markers\",\n",
       "        \"name\": \"y1\",\n",
       "        \"zmin\": 1.0,\n",
       "        \"legendgroup\": \"y1\",\n",
       "        \"marker\": {\n",
       "            \"symbol\": \"circle\",\n",
       "            \"color\": \"rgba(204, 76, 204, 1.000)\",\n",
       "            \"line\": {\n",
       "                \"color\": \"rgba(0, 0, 0, 1.000)\",\n",
       "                \"width\": 1\n",
       "            },\n",
       "            \"size\": 8\n",
       "        },\n",
       "        \"zmax\": 2.0,\n",
       "        \"y\": [\n",
       "            3.1685075\n",
       "        ],\n",
       "        \"type\": \"scatter\"\n",
       "    },\n",
       "    {\n",
       "        \"xaxis\": \"x\",\n",
       "        \"colorbar\": {\n",
       "            \"title\": \"\"\n",
       "        },\n",
       "        \"yaxis\": \"y\",\n",
       "        \"x\": [\n",
       "            -2.3669352\n",
       "        ],\n",
       "        \"showlegend\": false,\n",
       "        \"mode\": \"markers\",\n",
       "        \"name\": \"y1\",\n",
       "        \"zmin\": 1.0,\n",
       "        \"legendgroup\": \"y1\",\n",
       "        \"marker\": {\n",
       "            \"symbol\": \"circle\",\n",
       "            \"color\": \"rgba(204, 76, 204, 1.000)\",\n",
       "            \"line\": {\n",
       "                \"color\": \"rgba(0, 0, 0, 1.000)\",\n",
       "                \"width\": 1\n",
       "            },\n",
       "            \"size\": 8\n",
       "        },\n",
       "        \"zmax\": 2.0,\n",
       "        \"y\": [\n",
       "            2.6987935\n",
       "        ],\n",
       "        \"type\": \"scatter\"\n",
       "    },\n",
       "    {\n",
       "        \"xaxis\": \"x\",\n",
       "        \"colorbar\": {\n",
       "            \"title\": \"\"\n",
       "        },\n",
       "        \"yaxis\": \"y\",\n",
       "        \"x\": [\n",
       "            1.9184735\n",
       "        ],\n",
       "        \"showlegend\": false,\n",
       "        \"mode\": \"markers\",\n",
       "        \"name\": \"y1\",\n",
       "        \"zmin\": 1.0,\n",
       "        \"legendgroup\": \"y1\",\n",
       "        \"marker\": {\n",
       "            \"symbol\": \"circle\",\n",
       "            \"color\": \"rgba(204, 76, 204, 1.000)\",\n",
       "            \"line\": {\n",
       "                \"color\": \"rgba(0, 0, 0, 1.000)\",\n",
       "                \"width\": 1\n",
       "            },\n",
       "            \"size\": 8\n",
       "        },\n",
       "        \"zmax\": 2.0,\n",
       "        \"y\": [\n",
       "            2.3013457\n",
       "        ],\n",
       "        \"type\": \"scatter\"\n",
       "    },\n",
       "    {\n",
       "        \"xaxis\": \"x\",\n",
       "        \"colorbar\": {\n",
       "            \"title\": \"\"\n",
       "        },\n",
       "        \"yaxis\": \"y\",\n",
       "        \"x\": [\n",
       "            -2.5170046\n",
       "        ],\n",
       "        \"showlegend\": false,\n",
       "        \"mode\": \"markers\",\n",
       "        \"name\": \"y1\",\n",
       "        \"zmin\": 1.0,\n",
       "        \"legendgroup\": \"y1\",\n",
       "        \"marker\": {\n",
       "            \"symbol\": \"circle\",\n",
       "            \"color\": \"rgba(204, 76, 204, 1.000)\",\n",
       "            \"line\": {\n",
       "                \"color\": \"rgba(0, 0, 0, 1.000)\",\n",
       "                \"width\": 1\n",
       "            },\n",
       "            \"size\": 8\n",
       "        },\n",
       "        \"zmax\": 2.0,\n",
       "        \"y\": [\n",
       "            3.8327706\n",
       "        ],\n",
       "        \"type\": \"scatter\"\n",
       "    },\n",
       "    {\n",
       "        \"xaxis\": \"x\",\n",
       "        \"colorbar\": {\n",
       "            \"title\": \"\"\n",
       "        },\n",
       "        \"yaxis\": \"y\",\n",
       "        \"x\": [\n",
       "            -1.8828997\n",
       "        ],\n",
       "        \"showlegend\": false,\n",
       "        \"mode\": \"markers\",\n",
       "        \"name\": \"y1\",\n",
       "        \"zmin\": 1.0,\n",
       "        \"legendgroup\": \"y1\",\n",
       "        \"marker\": {\n",
       "            \"symbol\": \"circle\",\n",
       "            \"color\": \"rgba(204, 76, 204, 1.000)\",\n",
       "            \"line\": {\n",
       "                \"color\": \"rgba(0, 0, 0, 1.000)\",\n",
       "                \"width\": 1\n",
       "            },\n",
       "            \"size\": 8\n",
       "        },\n",
       "        \"zmax\": 2.0,\n",
       "        \"y\": [\n",
       "            2.3053947\n",
       "        ],\n",
       "        \"type\": \"scatter\"\n",
       "    },\n",
       "    {\n",
       "        \"xaxis\": \"x\",\n",
       "        \"colorbar\": {\n",
       "            \"title\": \"\"\n",
       "        },\n",
       "        \"yaxis\": \"y\",\n",
       "        \"x\": [\n",
       "            -0.96120505\n",
       "        ],\n",
       "        \"showlegend\": false,\n",
       "        \"mode\": \"markers\",\n",
       "        \"name\": \"y1\",\n",
       "        \"zmin\": 1.0,\n",
       "        \"legendgroup\": \"y1\",\n",
       "        \"marker\": {\n",
       "            \"symbol\": \"circle\",\n",
       "            \"color\": \"rgba(204, 76, 204, 1.000)\",\n",
       "            \"line\": {\n",
       "                \"color\": \"rgba(0, 0, 0, 1.000)\",\n",
       "                \"width\": 1\n",
       "            },\n",
       "            \"size\": 8\n",
       "        },\n",
       "        \"zmax\": 2.0,\n",
       "        \"y\": [\n",
       "            2.538117\n",
       "        ],\n",
       "        \"type\": \"scatter\"\n",
       "    },\n",
       "    {\n",
       "        \"xaxis\": \"x\",\n",
       "        \"colorbar\": {\n",
       "            \"title\": \"\"\n",
       "        },\n",
       "        \"yaxis\": \"y\",\n",
       "        \"x\": [\n",
       "            -2.6881809\n",
       "        ],\n",
       "        \"showlegend\": false,\n",
       "        \"mode\": \"markers\",\n",
       "        \"name\": \"y1\",\n",
       "        \"zmin\": 1.0,\n",
       "        \"legendgroup\": \"y1\",\n",
       "        \"marker\": {\n",
       "            \"symbol\": \"circle\",\n",
       "            \"color\": \"rgba(204, 76, 204, 1.000)\",\n",
       "            \"line\": {\n",
       "                \"color\": \"rgba(0, 0, 0, 1.000)\",\n",
       "                \"width\": 1\n",
       "            },\n",
       "            \"size\": 8\n",
       "        },\n",
       "        \"zmax\": 2.0,\n",
       "        \"y\": [\n",
       "            3.8836171\n",
       "        ],\n",
       "        \"type\": \"scatter\"\n",
       "    },\n",
       "    {\n",
       "        \"xaxis\": \"x\",\n",
       "        \"colorbar\": {\n",
       "            \"title\": \"\"\n",
       "        },\n",
       "        \"yaxis\": \"y\",\n",
       "        \"x\": [\n",
       "            0.18710461\n",
       "        ],\n",
       "        \"showlegend\": false,\n",
       "        \"mode\": \"markers\",\n",
       "        \"name\": \"y1\",\n",
       "        \"zmin\": 1.0,\n",
       "        \"legendgroup\": \"y1\",\n",
       "        \"marker\": {\n",
       "            \"symbol\": \"circle\",\n",
       "            \"color\": \"rgba(204, 76, 204, 1.000)\",\n",
       "            \"line\": {\n",
       "                \"color\": \"rgba(0, 0, 0, 1.000)\",\n",
       "                \"width\": 1\n",
       "            },\n",
       "            \"size\": 8\n",
       "        },\n",
       "        \"zmax\": 2.0,\n",
       "        \"y\": [\n",
       "            3.4359442\n",
       "        ],\n",
       "        \"type\": \"scatter\"\n",
       "    },\n",
       "    {\n",
       "        \"xaxis\": \"x\",\n",
       "        \"colorbar\": {\n",
       "            \"title\": \"\"\n",
       "        },\n",
       "        \"yaxis\": \"y\",\n",
       "        \"x\": [\n",
       "            -1.6998502\n",
       "        ],\n",
       "        \"showlegend\": false,\n",
       "        \"mode\": \"markers\",\n",
       "        \"name\": \"y1\",\n",
       "        \"zmin\": 1.0,\n",
       "        \"legendgroup\": \"y1\",\n",
       "        \"marker\": {\n",
       "            \"symbol\": \"circle\",\n",
       "            \"color\": \"rgba(204, 76, 204, 1.000)\",\n",
       "            \"line\": {\n",
       "                \"color\": \"rgba(0, 0, 0, 1.000)\",\n",
       "                \"width\": 1\n",
       "            },\n",
       "            \"size\": 8\n",
       "        },\n",
       "        \"zmax\": 2.0,\n",
       "        \"y\": [\n",
       "            3.8967474\n",
       "        ],\n",
       "        \"type\": \"scatter\"\n",
       "    },\n",
       "    {\n",
       "        \"xaxis\": \"x\",\n",
       "        \"colorbar\": {\n",
       "            \"title\": \"\"\n",
       "        },\n",
       "        \"yaxis\": \"y\",\n",
       "        \"x\": [\n",
       "            0.14294159\n",
       "        ],\n",
       "        \"showlegend\": false,\n",
       "        \"mode\": \"markers\",\n",
       "        \"name\": \"y1\",\n",
       "        \"zmin\": 1.0,\n",
       "        \"legendgroup\": \"y1\",\n",
       "        \"marker\": {\n",
       "            \"symbol\": \"circle\",\n",
       "            \"color\": \"rgba(204, 76, 204, 1.000)\",\n",
       "            \"line\": {\n",
       "                \"color\": \"rgba(0, 0, 0, 1.000)\",\n",
       "                \"width\": 1\n",
       "            },\n",
       "            \"size\": 8\n",
       "        },\n",
       "        \"zmax\": 2.0,\n",
       "        \"y\": [\n",
       "            3.504732\n",
       "        ],\n",
       "        \"type\": \"scatter\"\n",
       "    },\n",
       "    {\n",
       "        \"xaxis\": \"x\",\n",
       "        \"colorbar\": {\n",
       "            \"title\": \"\"\n",
       "        },\n",
       "        \"yaxis\": \"y\",\n",
       "        \"x\": [\n",
       "            -0.38726463\n",
       "        ],\n",
       "        \"showlegend\": false,\n",
       "        \"mode\": \"markers\",\n",
       "        \"name\": \"y1\",\n",
       "        \"zmin\": 1.0,\n",
       "        \"legendgroup\": \"y1\",\n",
       "        \"marker\": {\n",
       "            \"symbol\": \"circle\",\n",
       "            \"color\": \"rgba(204, 76, 204, 1.000)\",\n",
       "            \"line\": {\n",
       "                \"color\": \"rgba(0, 0, 0, 1.000)\",\n",
       "                \"width\": 1\n",
       "            },\n",
       "            \"size\": 8\n",
       "        },\n",
       "        \"zmax\": 2.0,\n",
       "        \"y\": [\n",
       "            2.5991029\n",
       "        ],\n",
       "        \"type\": \"scatter\"\n",
       "    },\n",
       "    {\n",
       "        \"xaxis\": \"x\",\n",
       "        \"colorbar\": {\n",
       "            \"title\": \"\"\n",
       "        },\n",
       "        \"yaxis\": \"y\",\n",
       "        \"x\": [\n",
       "            -0.22935564\n",
       "        ],\n",
       "        \"showlegend\": false,\n",
       "        \"mode\": \"markers\",\n",
       "        \"name\": \"y1\",\n",
       "        \"zmin\": 1.0,\n",
       "        \"legendgroup\": \"y1\",\n",
       "        \"marker\": {\n",
       "            \"symbol\": \"circle\",\n",
       "            \"color\": \"rgba(204, 76, 204, 1.000)\",\n",
       "            \"line\": {\n",
       "                \"color\": \"rgba(0, 0, 0, 1.000)\",\n",
       "                \"width\": 1\n",
       "            },\n",
       "            \"size\": 8\n",
       "        },\n",
       "        \"zmax\": 2.0,\n",
       "        \"y\": [\n",
       "            2.486152\n",
       "        ],\n",
       "        \"type\": \"scatter\"\n",
       "    },\n",
       "    {\n",
       "        \"xaxis\": \"x\",\n",
       "        \"colorbar\": {\n",
       "            \"title\": \"\"\n",
       "        },\n",
       "        \"yaxis\": \"y\",\n",
       "        \"x\": [\n",
       "            -0.51061695\n",
       "        ],\n",
       "        \"showlegend\": false,\n",
       "        \"mode\": \"markers\",\n",
       "        \"name\": \"y1\",\n",
       "        \"zmin\": 1.0,\n",
       "        \"legendgroup\": \"y1\",\n",
       "        \"marker\": {\n",
       "            \"symbol\": \"circle\",\n",
       "            \"color\": \"rgba(204, 76, 204, 1.000)\",\n",
       "            \"line\": {\n",
       "                \"color\": \"rgba(0, 0, 0, 1.000)\",\n",
       "                \"width\": 1\n",
       "            },\n",
       "            \"size\": 8\n",
       "        },\n",
       "        \"zmax\": 2.0,\n",
       "        \"y\": [\n",
       "            3.7963676\n",
       "        ],\n",
       "        \"type\": \"scatter\"\n",
       "    },\n",
       "    {\n",
       "        \"xaxis\": \"x\",\n",
       "        \"colorbar\": {\n",
       "            \"title\": \"\"\n",
       "        },\n",
       "        \"yaxis\": \"y\",\n",
       "        \"x\": [\n",
       "            4.6998913\n",
       "        ],\n",
       "        \"showlegend\": false,\n",
       "        \"mode\": \"markers\",\n",
       "        \"name\": \"y1\",\n",
       "        \"zmin\": 1.0,\n",
       "        \"legendgroup\": \"y1\",\n",
       "        \"marker\": {\n",
       "            \"symbol\": \"circle\",\n",
       "            \"color\": \"rgba(255, 76, 76, 1.000)\",\n",
       "            \"line\": {\n",
       "                \"color\": \"rgba(0, 0, 0, 1.000)\",\n",
       "                \"width\": 1\n",
       "            },\n",
       "            \"size\": 8\n",
       "        },\n",
       "        \"zmax\": 2.0,\n",
       "        \"y\": [\n",
       "            2.3288098\n",
       "        ],\n",
       "        \"type\": \"scatter\"\n",
       "    },\n",
       "    {\n",
       "        \"xaxis\": \"x\",\n",
       "        \"colorbar\": {\n",
       "            \"title\": \"\"\n",
       "        },\n",
       "        \"yaxis\": \"y\",\n",
       "        \"x\": [\n",
       "            2.8309157\n",
       "        ],\n",
       "        \"showlegend\": false,\n",
       "        \"mode\": \"markers\",\n",
       "        \"name\": \"y1\",\n",
       "        \"zmin\": 1.0,\n",
       "        \"legendgroup\": \"y1\",\n",
       "        \"marker\": {\n",
       "            \"symbol\": \"circle\",\n",
       "            \"color\": \"rgba(204, 76, 204, 1.000)\",\n",
       "            \"line\": {\n",
       "                \"color\": \"rgba(0, 0, 0, 1.000)\",\n",
       "                \"width\": 1\n",
       "            },\n",
       "            \"size\": 8\n",
       "        },\n",
       "        \"zmax\": 2.0,\n",
       "        \"y\": [\n",
       "            4.186659\n",
       "        ],\n",
       "        \"type\": \"scatter\"\n",
       "    },\n",
       "    {\n",
       "        \"xaxis\": \"x\",\n",
       "        \"colorbar\": {\n",
       "            \"title\": \"\"\n",
       "        },\n",
       "        \"yaxis\": \"y\",\n",
       "        \"x\": [\n",
       "            1.1772165\n",
       "        ],\n",
       "        \"showlegend\": false,\n",
       "        \"mode\": \"markers\",\n",
       "        \"name\": \"y1\",\n",
       "        \"zmin\": 1.0,\n",
       "        \"legendgroup\": \"y1\",\n",
       "        \"marker\": {\n",
       "            \"symbol\": \"circle\",\n",
       "            \"color\": \"rgba(204, 76, 204, 1.000)\",\n",
       "            \"line\": {\n",
       "                \"color\": \"rgba(0, 0, 0, 1.000)\",\n",
       "                \"width\": 1\n",
       "            },\n",
       "            \"size\": 8\n",
       "        },\n",
       "        \"zmax\": 2.0,\n",
       "        \"y\": [\n",
       "            3.790702\n",
       "        ],\n",
       "        \"type\": \"scatter\"\n",
       "    },\n",
       "    {\n",
       "        \"xaxis\": \"x\",\n",
       "        \"colorbar\": {\n",
       "            \"title\": \"\"\n",
       "        },\n",
       "        \"yaxis\": \"y\",\n",
       "        \"x\": [\n",
       "            -3.4008402\n",
       "        ],\n",
       "        \"showlegend\": false,\n",
       "        \"mode\": \"markers\",\n",
       "        \"name\": \"y1\",\n",
       "        \"zmin\": 1.0,\n",
       "        \"legendgroup\": \"y1\",\n",
       "        \"marker\": {\n",
       "            \"symbol\": \"circle\",\n",
       "            \"color\": \"rgba(204, 76, 204, 1.000)\",\n",
       "            \"line\": {\n",
       "                \"color\": \"rgba(0, 0, 0, 1.000)\",\n",
       "                \"width\": 1\n",
       "            },\n",
       "            \"size\": 8\n",
       "        },\n",
       "        \"zmax\": 2.0,\n",
       "        \"y\": [\n",
       "            3.2877215\n",
       "        ],\n",
       "        \"type\": \"scatter\"\n",
       "    },\n",
       "    {\n",
       "        \"xaxis\": \"x\",\n",
       "        \"colorbar\": {\n",
       "            \"title\": \"\"\n",
       "        },\n",
       "        \"yaxis\": \"y\",\n",
       "        \"x\": [\n",
       "            -3.8774098\n",
       "        ],\n",
       "        \"showlegend\": false,\n",
       "        \"mode\": \"markers\",\n",
       "        \"name\": \"y1\",\n",
       "        \"zmin\": 1.0,\n",
       "        \"legendgroup\": \"y1\",\n",
       "        \"marker\": {\n",
       "            \"symbol\": \"circle\",\n",
       "            \"color\": \"rgba(204, 76, 204, 1.000)\",\n",
       "            \"line\": {\n",
       "                \"color\": \"rgba(0, 0, 0, 1.000)\",\n",
       "                \"width\": 1\n",
       "            },\n",
       "            \"size\": 8\n",
       "        },\n",
       "        \"zmax\": 2.0,\n",
       "        \"y\": [\n",
       "            3.0032261\n",
       "        ],\n",
       "        \"type\": \"scatter\"\n",
       "    },\n",
       "    {\n",
       "        \"xaxis\": \"x\",\n",
       "        \"colorbar\": {\n",
       "            \"title\": \"\"\n",
       "        },\n",
       "        \"yaxis\": \"y\",\n",
       "        \"x\": [\n",
       "            -4.8942572\n",
       "        ],\n",
       "        \"showlegend\": false,\n",
       "        \"mode\": \"markers\",\n",
       "        \"name\": \"y1\",\n",
       "        \"zmin\": 1.0,\n",
       "        \"legendgroup\": \"y1\",\n",
       "        \"marker\": {\n",
       "            \"symbol\": \"circle\",\n",
       "            \"color\": \"rgba(204, 76, 204, 1.000)\",\n",
       "            \"line\": {\n",
       "                \"color\": \"rgba(0, 0, 0, 1.000)\",\n",
       "                \"width\": 1\n",
       "            },\n",
       "            \"size\": 8\n",
       "        },\n",
       "        \"zmax\": 2.0,\n",
       "        \"y\": [\n",
       "            3.3656172\n",
       "        ],\n",
       "        \"type\": \"scatter\"\n",
       "    },\n",
       "    {\n",
       "        \"xaxis\": \"x\",\n",
       "        \"colorbar\": {\n",
       "            \"title\": \"\"\n",
       "        },\n",
       "        \"yaxis\": \"y\",\n",
       "        \"x\": [\n",
       "            8.8155873\n",
       "        ],\n",
       "        \"showlegend\": false,\n",
       "        \"mode\": \"markers\",\n",
       "        \"name\": \"y1\",\n",
       "        \"zmin\": 1.0,\n",
       "        \"legendgroup\": \"y1\",\n",
       "        \"marker\": {\n",
       "            \"symbol\": \"circle\",\n",
       "            \"color\": \"rgba(255, 76, 76, 1.000)\",\n",
       "            \"line\": {\n",
       "                \"color\": \"rgba(0, 0, 0, 1.000)\",\n",
       "                \"width\": 1\n",
       "            },\n",
       "            \"size\": 8\n",
       "        },\n",
       "        \"zmax\": 2.0,\n",
       "        \"y\": [\n",
       "            6.5266778\n",
       "        ],\n",
       "        \"type\": \"scatter\"\n",
       "    },\n",
       "    {\n",
       "        \"xaxis\": \"x\",\n",
       "        \"colorbar\": {\n",
       "            \"title\": \"\"\n",
       "        },\n",
       "        \"yaxis\": \"y\",\n",
       "        \"x\": [\n",
       "            3.9171244\n",
       "        ],\n",
       "        \"showlegend\": false,\n",
       "        \"mode\": \"markers\",\n",
       "        \"name\": \"y1\",\n",
       "        \"zmin\": 1.0,\n",
       "        \"legendgroup\": \"y1\",\n",
       "        \"marker\": {\n",
       "            \"symbol\": \"circle\",\n",
       "            \"color\": \"rgba(255, 76, 76, 1.000)\",\n",
       "            \"line\": {\n",
       "                \"color\": \"rgba(0, 0, 0, 1.000)\",\n",
       "                \"width\": 1\n",
       "            },\n",
       "            \"size\": 8\n",
       "        },\n",
       "        \"zmax\": 2.0,\n",
       "        \"y\": [\n",
       "            2.8875633\n",
       "        ],\n",
       "        \"type\": \"scatter\"\n",
       "    },\n",
       "    {\n",
       "        \"xaxis\": \"x\",\n",
       "        \"colorbar\": {\n",
       "            \"title\": \"\"\n",
       "        },\n",
       "        \"yaxis\": \"y\",\n",
       "        \"x\": [\n",
       "            1.7709429\n",
       "        ],\n",
       "        \"showlegend\": false,\n",
       "        \"mode\": \"markers\",\n",
       "        \"name\": \"y1\",\n",
       "        \"zmin\": 1.0,\n",
       "        \"legendgroup\": \"y1\",\n",
       "        \"marker\": {\n",
       "            \"symbol\": \"circle\",\n",
       "            \"color\": \"rgba(204, 76, 204, 1.000)\",\n",
       "            \"line\": {\n",
       "                \"color\": \"rgba(0, 0, 0, 1.000)\",\n",
       "                \"width\": 1\n",
       "            },\n",
       "            \"size\": 8\n",
       "        },\n",
       "        \"zmax\": 2.0,\n",
       "        \"y\": [\n",
       "            1.4434061\n",
       "        ],\n",
       "        \"type\": \"scatter\"\n",
       "    },\n",
       "    {\n",
       "        \"xaxis\": \"x\",\n",
       "        \"colorbar\": {\n",
       "            \"title\": \"\"\n",
       "        },\n",
       "        \"yaxis\": \"y\",\n",
       "        \"x\": [\n",
       "            -1.9227214\n",
       "        ],\n",
       "        \"showlegend\": false,\n",
       "        \"mode\": \"markers\",\n",
       "        \"name\": \"y1\",\n",
       "        \"zmin\": 1.0,\n",
       "        \"legendgroup\": \"y1\",\n",
       "        \"marker\": {\n",
       "            \"symbol\": \"circle\",\n",
       "            \"color\": \"rgba(204, 76, 204, 1.000)\",\n",
       "            \"line\": {\n",
       "                \"color\": \"rgba(0, 0, 0, 1.000)\",\n",
       "                \"width\": 1\n",
       "            },\n",
       "            \"size\": 8\n",
       "        },\n",
       "        \"zmax\": 2.0,\n",
       "        \"y\": [\n",
       "            4.9151023\n",
       "        ],\n",
       "        \"type\": \"scatter\"\n",
       "    },\n",
       "    {\n",
       "        \"xaxis\": \"x\",\n",
       "        \"colorbar\": {\n",
       "            \"title\": \"\"\n",
       "        },\n",
       "        \"yaxis\": \"y\",\n",
       "        \"x\": [\n",
       "            -2.4390932\n",
       "        ],\n",
       "        \"showlegend\": false,\n",
       "        \"mode\": \"markers\",\n",
       "        \"name\": \"y1\",\n",
       "        \"zmin\": 1.0,\n",
       "        \"legendgroup\": \"y1\",\n",
       "        \"marker\": {\n",
       "            \"symbol\": \"circle\",\n",
       "            \"color\": \"rgba(204, 76, 204, 1.000)\",\n",
       "            \"line\": {\n",
       "                \"color\": \"rgba(0, 0, 0, 1.000)\",\n",
       "                \"width\": 1\n",
       "            },\n",
       "            \"size\": 8\n",
       "        },\n",
       "        \"zmax\": 2.0,\n",
       "        \"y\": [\n",
       "            3.6098461\n",
       "        ],\n",
       "        \"type\": \"scatter\"\n",
       "    },\n",
       "    {\n",
       "        \"xaxis\": \"x\",\n",
       "        \"colorbar\": {\n",
       "            \"title\": \"\"\n",
       "        },\n",
       "        \"yaxis\": \"y\",\n",
       "        \"x\": [\n",
       "            2.6429185\n",
       "        ],\n",
       "        \"showlegend\": false,\n",
       "        \"mode\": \"markers\",\n",
       "        \"name\": \"y1\",\n",
       "        \"zmin\": 1.0,\n",
       "        \"legendgroup\": \"y1\",\n",
       "        \"marker\": {\n",
       "            \"symbol\": \"circle\",\n",
       "            \"color\": \"rgba(204, 76, 204, 1.000)\",\n",
       "            \"line\": {\n",
       "                \"color\": \"rgba(0, 0, 0, 1.000)\",\n",
       "                \"width\": 1\n",
       "            },\n",
       "            \"size\": 8\n",
       "        },\n",
       "        \"zmax\": 2.0,\n",
       "        \"y\": [\n",
       "            2.3520884\n",
       "        ],\n",
       "        \"type\": \"scatter\"\n",
       "    },\n",
       "    {\n",
       "        \"xaxis\": \"x\",\n",
       "        \"colorbar\": {\n",
       "            \"title\": \"\"\n",
       "        },\n",
       "        \"yaxis\": \"y\",\n",
       "        \"x\": [\n",
       "            5.695252\n",
       "        ],\n",
       "        \"showlegend\": false,\n",
       "        \"mode\": \"markers\",\n",
       "        \"name\": \"y1\",\n",
       "        \"zmin\": 1.0,\n",
       "        \"legendgroup\": \"y1\",\n",
       "        \"marker\": {\n",
       "            \"symbol\": \"circle\",\n",
       "            \"color\": \"rgba(255, 76, 76, 1.000)\",\n",
       "            \"line\": {\n",
       "                \"color\": \"rgba(0, 0, 0, 1.000)\",\n",
       "                \"width\": 1\n",
       "            },\n",
       "            \"size\": 8\n",
       "        },\n",
       "        \"zmax\": 2.0,\n",
       "        \"y\": [\n",
       "            5.6173349\n",
       "        ],\n",
       "        \"type\": \"scatter\"\n",
       "    },\n",
       "    {\n",
       "        \"xaxis\": \"x\",\n",
       "        \"colorbar\": {\n",
       "            \"title\": \"\"\n",
       "        },\n",
       "        \"yaxis\": \"y\",\n",
       "        \"x\": [\n",
       "            -4.080031\n",
       "        ],\n",
       "        \"showlegend\": false,\n",
       "        \"mode\": \"markers\",\n",
       "        \"name\": \"y1\",\n",
       "        \"zmin\": 1.0,\n",
       "        \"legendgroup\": \"y1\",\n",
       "        \"marker\": {\n",
       "            \"symbol\": \"circle\",\n",
       "            \"color\": \"rgba(204, 76, 204, 1.000)\",\n",
       "            \"line\": {\n",
       "                \"color\": \"rgba(0, 0, 0, 1.000)\",\n",
       "                \"width\": 1\n",
       "            },\n",
       "            \"size\": 8\n",
       "        },\n",
       "        \"zmax\": 2.0,\n",
       "        \"y\": [\n",
       "            3.5509504\n",
       "        ],\n",
       "        \"type\": \"scatter\"\n",
       "    },\n",
       "    {\n",
       "        \"xaxis\": \"x\",\n",
       "        \"colorbar\": {\n",
       "            \"title\": \"\"\n",
       "        },\n",
       "        \"yaxis\": \"y\",\n",
       "        \"x\": [\n",
       "            -0.34819208\n",
       "        ],\n",
       "        \"showlegend\": false,\n",
       "        \"mode\": \"markers\",\n",
       "        \"name\": \"y1\",\n",
       "        \"zmin\": 1.0,\n",
       "        \"legendgroup\": \"y1\",\n",
       "        \"marker\": {\n",
       "            \"symbol\": \"circle\",\n",
       "            \"color\": \"rgba(204, 76, 204, 1.000)\",\n",
       "            \"line\": {\n",
       "                \"color\": \"rgba(0, 0, 0, 1.000)\",\n",
       "                \"width\": 1\n",
       "            },\n",
       "            \"size\": 8\n",
       "        },\n",
       "        \"zmax\": 2.0,\n",
       "        \"y\": [\n",
       "            3.2942037\n",
       "        ],\n",
       "        \"type\": \"scatter\"\n",
       "    },\n",
       "    {\n",
       "        \"xaxis\": \"x\",\n",
       "        \"colorbar\": {\n",
       "            \"title\": \"\"\n",
       "        },\n",
       "        \"yaxis\": \"y\",\n",
       "        \"x\": [\n",
       "            0.74712378\n",
       "        ],\n",
       "        \"showlegend\": false,\n",
       "        \"mode\": \"markers\",\n",
       "        \"name\": \"y1\",\n",
       "        \"zmin\": 1.0,\n",
       "        \"legendgroup\": \"y1\",\n",
       "        \"marker\": {\n",
       "            \"symbol\": \"circle\",\n",
       "            \"color\": \"rgba(204, 76, 204, 1.000)\",\n",
       "            \"line\": {\n",
       "                \"color\": \"rgba(0, 0, 0, 1.000)\",\n",
       "                \"width\": 1\n",
       "            },\n",
       "            \"size\": 8\n",
       "        },\n",
       "        \"zmax\": 2.0,\n",
       "        \"y\": [\n",
       "            2.2221562\n",
       "        ],\n",
       "        \"type\": \"scatter\"\n",
       "    },\n",
       "    {\n",
       "        \"xaxis\": \"x\",\n",
       "        \"colorbar\": {\n",
       "            \"title\": \"\"\n",
       "        },\n",
       "        \"yaxis\": \"y\",\n",
       "        \"x\": [\n",
       "            -4.9759915\n",
       "        ],\n",
       "        \"showlegend\": false,\n",
       "        \"mode\": \"markers\",\n",
       "        \"name\": \"y1\",\n",
       "        \"zmin\": 1.0,\n",
       "        \"legendgroup\": \"y1\",\n",
       "        \"marker\": {\n",
       "            \"symbol\": \"circle\",\n",
       "            \"color\": \"rgba(204, 76, 204, 1.000)\",\n",
       "            \"line\": {\n",
       "                \"color\": \"rgba(0, 0, 0, 1.000)\",\n",
       "                \"width\": 1\n",
       "            },\n",
       "            \"size\": 8\n",
       "        },\n",
       "        \"zmax\": 2.0,\n",
       "        \"y\": [\n",
       "            1.9350699\n",
       "        ],\n",
       "        \"type\": \"scatter\"\n",
       "    },\n",
       "    {\n",
       "        \"xaxis\": \"x\",\n",
       "        \"colorbar\": {\n",
       "            \"title\": \"\"\n",
       "        },\n",
       "        \"yaxis\": \"y\",\n",
       "        \"x\": [\n",
       "            3.523737\n",
       "        ],\n",
       "        \"showlegend\": false,\n",
       "        \"mode\": \"markers\",\n",
       "        \"name\": \"y1\",\n",
       "        \"zmin\": 1.0,\n",
       "        \"legendgroup\": \"y1\",\n",
       "        \"marker\": {\n",
       "            \"symbol\": \"circle\",\n",
       "            \"color\": \"rgba(255, 76, 76, 1.000)\",\n",
       "            \"line\": {\n",
       "                \"color\": \"rgba(0, 0, 0, 1.000)\",\n",
       "                \"width\": 1\n",
       "            },\n",
       "            \"size\": 8\n",
       "        },\n",
       "        \"zmax\": 2.0,\n",
       "        \"y\": [\n",
       "            1.231586\n",
       "        ],\n",
       "        \"type\": \"scatter\"\n",
       "    },\n",
       "    {\n",
       "        \"xaxis\": \"x\",\n",
       "        \"colorbar\": {\n",
       "            \"title\": \"\"\n",
       "        },\n",
       "        \"yaxis\": \"y\",\n",
       "        \"x\": [\n",
       "            -0.24397675\n",
       "        ],\n",
       "        \"showlegend\": false,\n",
       "        \"mode\": \"markers\",\n",
       "        \"name\": \"y1\",\n",
       "        \"zmin\": 1.0,\n",
       "        \"legendgroup\": \"y1\",\n",
       "        \"marker\": {\n",
       "            \"symbol\": \"circle\",\n",
       "            \"color\": \"rgba(204, 76, 204, 1.000)\",\n",
       "            \"line\": {\n",
       "                \"color\": \"rgba(0, 0, 0, 1.000)\",\n",
       "                \"width\": 1\n",
       "            },\n",
       "            \"size\": 8\n",
       "        },\n",
       "        \"zmax\": 2.0,\n",
       "        \"y\": [\n",
       "            2.5770805\n",
       "        ],\n",
       "        \"type\": \"scatter\"\n",
       "    },\n",
       "    {\n",
       "        \"xaxis\": \"x\",\n",
       "        \"colorbar\": {\n",
       "            \"title\": \"\"\n",
       "        },\n",
       "        \"yaxis\": \"y\",\n",
       "        \"x\": [\n",
       "            6.7365425\n",
       "        ],\n",
       "        \"showlegend\": false,\n",
       "        \"mode\": \"markers\",\n",
       "        \"name\": \"y1\",\n",
       "        \"zmin\": 1.0,\n",
       "        \"legendgroup\": \"y1\",\n",
       "        \"marker\": {\n",
       "            \"symbol\": \"circle\",\n",
       "            \"color\": \"rgba(255, 76, 76, 1.000)\",\n",
       "            \"line\": {\n",
       "                \"color\": \"rgba(0, 0, 0, 1.000)\",\n",
       "                \"width\": 1\n",
       "            },\n",
       "            \"size\": 8\n",
       "        },\n",
       "        \"zmax\": 2.0,\n",
       "        \"y\": [\n",
       "            1.9468976\n",
       "        ],\n",
       "        \"type\": \"scatter\"\n",
       "    },\n",
       "    {\n",
       "        \"xaxis\": \"x\",\n",
       "        \"colorbar\": {\n",
       "            \"title\": \"\"\n",
       "        },\n",
       "        \"yaxis\": \"y\",\n",
       "        \"x\": [\n",
       "            -0.1726962\n",
       "        ],\n",
       "        \"showlegend\": false,\n",
       "        \"mode\": \"markers\",\n",
       "        \"name\": \"y1\",\n",
       "        \"zmin\": 1.0,\n",
       "        \"legendgroup\": \"y1\",\n",
       "        \"marker\": {\n",
       "            \"symbol\": \"circle\",\n",
       "            \"color\": \"rgba(204, 76, 204, 1.000)\",\n",
       "            \"line\": {\n",
       "                \"color\": \"rgba(0, 0, 0, 1.000)\",\n",
       "                \"width\": 1\n",
       "            },\n",
       "            \"size\": 8\n",
       "        },\n",
       "        \"zmax\": 2.0,\n",
       "        \"y\": [\n",
       "            3.6477552\n",
       "        ],\n",
       "        \"type\": \"scatter\"\n",
       "    },\n",
       "    {\n",
       "        \"xaxis\": \"x\",\n",
       "        \"colorbar\": {\n",
       "            \"title\": \"\"\n",
       "        },\n",
       "        \"yaxis\": \"y\",\n",
       "        \"x\": [\n",
       "            2.2275462\n",
       "        ],\n",
       "        \"showlegend\": false,\n",
       "        \"mode\": \"markers\",\n",
       "        \"name\": \"y1\",\n",
       "        \"zmin\": 1.0,\n",
       "        \"legendgroup\": \"y1\",\n",
       "        \"marker\": {\n",
       "            \"symbol\": \"circle\",\n",
       "            \"color\": \"rgba(204, 76, 204, 1.000)\",\n",
       "            \"line\": {\n",
       "                \"color\": \"rgba(0, 0, 0, 1.000)\",\n",
       "                \"width\": 1\n",
       "            },\n",
       "            \"size\": 8\n",
       "        },\n",
       "        \"zmax\": 2.0,\n",
       "        \"y\": [\n",
       "            2.6823718\n",
       "        ],\n",
       "        \"type\": \"scatter\"\n",
       "    },\n",
       "    {\n",
       "        \"xaxis\": \"x\",\n",
       "        \"colorbar\": {\n",
       "            \"title\": \"\"\n",
       "        },\n",
       "        \"yaxis\": \"y\",\n",
       "        \"x\": [\n",
       "            -2.4272845\n",
       "        ],\n",
       "        \"showlegend\": false,\n",
       "        \"mode\": \"markers\",\n",
       "        \"name\": \"y1\",\n",
       "        \"zmin\": 1.0,\n",
       "        \"legendgroup\": \"y1\",\n",
       "        \"marker\": {\n",
       "            \"symbol\": \"circle\",\n",
       "            \"color\": \"rgba(204, 76, 204, 1.000)\",\n",
       "            \"line\": {\n",
       "                \"color\": \"rgba(0, 0, 0, 1.000)\",\n",
       "                \"width\": 1\n",
       "            },\n",
       "            \"size\": 8\n",
       "        },\n",
       "        \"zmax\": 2.0,\n",
       "        \"y\": [\n",
       "            4.7689916\n",
       "        ],\n",
       "        \"type\": \"scatter\"\n",
       "    },\n",
       "    {\n",
       "        \"xaxis\": \"x\",\n",
       "        \"colorbar\": {\n",
       "            \"title\": \"\"\n",
       "        },\n",
       "        \"yaxis\": \"y\",\n",
       "        \"x\": [\n",
       "            -0.87459133\n",
       "        ],\n",
       "        \"showlegend\": false,\n",
       "        \"mode\": \"markers\",\n",
       "        \"name\": \"y1\",\n",
       "        \"zmin\": 1.0,\n",
       "        \"legendgroup\": \"y1\",\n",
       "        \"marker\": {\n",
       "            \"symbol\": \"circle\",\n",
       "            \"color\": \"rgba(204, 76, 204, 1.000)\",\n",
       "            \"line\": {\n",
       "                \"color\": \"rgba(0, 0, 0, 1.000)\",\n",
       "                \"width\": 1\n",
       "            },\n",
       "            \"size\": 8\n",
       "        },\n",
       "        \"zmax\": 2.0,\n",
       "        \"y\": [\n",
       "            4.5105824\n",
       "        ],\n",
       "        \"type\": \"scatter\"\n",
       "    },\n",
       "    {\n",
       "        \"xaxis\": \"x\",\n",
       "        \"colorbar\": {\n",
       "            \"title\": \"\"\n",
       "        },\n",
       "        \"yaxis\": \"y\",\n",
       "        \"x\": [\n",
       "            -2.5061685\n",
       "        ],\n",
       "        \"showlegend\": false,\n",
       "        \"mode\": \"markers\",\n",
       "        \"name\": \"y1\",\n",
       "        \"zmin\": 1.0,\n",
       "        \"legendgroup\": \"y1\",\n",
       "        \"marker\": {\n",
       "            \"symbol\": \"circle\",\n",
       "            \"color\": \"rgba(204, 76, 204, 1.000)\",\n",
       "            \"line\": {\n",
       "                \"color\": \"rgba(0, 0, 0, 1.000)\",\n",
       "                \"width\": 1\n",
       "            },\n",
       "            \"size\": 8\n",
       "        },\n",
       "        \"zmax\": 2.0,\n",
       "        \"y\": [\n",
       "            3.1640103\n",
       "        ],\n",
       "        \"type\": \"scatter\"\n",
       "    },\n",
       "    {\n",
       "        \"xaxis\": \"x\",\n",
       "        \"colorbar\": {\n",
       "            \"title\": \"\"\n",
       "        },\n",
       "        \"yaxis\": \"y\",\n",
       "        \"x\": [\n",
       "            2.1777258\n",
       "        ],\n",
       "        \"showlegend\": false,\n",
       "        \"mode\": \"markers\",\n",
       "        \"name\": \"y1\",\n",
       "        \"zmin\": 1.0,\n",
       "        \"legendgroup\": \"y1\",\n",
       "        \"marker\": {\n",
       "            \"symbol\": \"circle\",\n",
       "            \"color\": \"rgba(204, 76, 204, 1.000)\",\n",
       "            \"line\": {\n",
       "                \"color\": \"rgba(0, 0, 0, 1.000)\",\n",
       "                \"width\": 1\n",
       "            },\n",
       "            \"size\": 8\n",
       "        },\n",
       "        \"zmax\": 2.0,\n",
       "        \"y\": [\n",
       "            2.7172363\n",
       "        ],\n",
       "        \"type\": \"scatter\"\n",
       "    },\n",
       "    {\n",
       "        \"xaxis\": \"x\",\n",
       "        \"colorbar\": {\n",
       "            \"title\": \"\"\n",
       "        },\n",
       "        \"yaxis\": \"y\",\n",
       "        \"x\": [\n",
       "            4.9055185\n",
       "        ],\n",
       "        \"showlegend\": false,\n",
       "        \"mode\": \"markers\",\n",
       "        \"name\": \"y1\",\n",
       "        \"zmin\": 1.0,\n",
       "        \"legendgroup\": \"y1\",\n",
       "        \"marker\": {\n",
       "            \"symbol\": \"circle\",\n",
       "            \"color\": \"rgba(255, 76, 76, 1.000)\",\n",
       "            \"line\": {\n",
       "                \"color\": \"rgba(0, 0, 0, 1.000)\",\n",
       "                \"width\": 1\n",
       "            },\n",
       "            \"size\": 8\n",
       "        },\n",
       "        \"zmax\": 2.0,\n",
       "        \"y\": [\n",
       "            4.1521658\n",
       "        ],\n",
       "        \"type\": \"scatter\"\n",
       "    },\n",
       "    {\n",
       "        \"xaxis\": \"x\",\n",
       "        \"colorbar\": {\n",
       "            \"title\": \"\"\n",
       "        },\n",
       "        \"yaxis\": \"y\",\n",
       "        \"x\": [\n",
       "            -0.78092529\n",
       "        ],\n",
       "        \"showlegend\": false,\n",
       "        \"mode\": \"markers\",\n",
       "        \"name\": \"y1\",\n",
       "        \"zmin\": 1.0,\n",
       "        \"legendgroup\": \"y1\",\n",
       "        \"marker\": {\n",
       "            \"symbol\": \"circle\",\n",
       "            \"color\": \"rgba(204, 76, 204, 1.000)\",\n",
       "            \"line\": {\n",
       "                \"color\": \"rgba(0, 0, 0, 1.000)\",\n",
       "                \"width\": 1\n",
       "            },\n",
       "            \"size\": 8\n",
       "        },\n",
       "        \"zmax\": 2.0,\n",
       "        \"y\": [\n",
       "            1.8534924\n",
       "        ],\n",
       "        \"type\": \"scatter\"\n",
       "    },\n",
       "    {\n",
       "        \"xaxis\": \"x\",\n",
       "        \"colorbar\": {\n",
       "            \"title\": \"\"\n",
       "        },\n",
       "        \"yaxis\": \"y\",\n",
       "        \"x\": [\n",
       "            2.3091262\n",
       "        ],\n",
       "        \"showlegend\": false,\n",
       "        \"mode\": \"markers\",\n",
       "        \"name\": \"y1\",\n",
       "        \"zmin\": 1.0,\n",
       "        \"legendgroup\": \"y1\",\n",
       "        \"marker\": {\n",
       "            \"symbol\": \"circle\",\n",
       "            \"color\": \"rgba(204, 76, 204, 1.000)\",\n",
       "            \"line\": {\n",
       "                \"color\": \"rgba(0, 0, 0, 1.000)\",\n",
       "                \"width\": 1\n",
       "            },\n",
       "            \"size\": 8\n",
       "        },\n",
       "        \"zmax\": 2.0,\n",
       "        \"y\": [\n",
       "            3.6736987\n",
       "        ],\n",
       "        \"type\": \"scatter\"\n",
       "    },\n",
       "    {\n",
       "        \"xaxis\": \"x\",\n",
       "        \"colorbar\": {\n",
       "            \"title\": \"\"\n",
       "        },\n",
       "        \"yaxis\": \"y\",\n",
       "        \"x\": [\n",
       "            -0.51308744\n",
       "        ],\n",
       "        \"showlegend\": false,\n",
       "        \"mode\": \"markers\",\n",
       "        \"name\": \"y1\",\n",
       "        \"zmin\": 1.0,\n",
       "        \"legendgroup\": \"y1\",\n",
       "        \"marker\": {\n",
       "            \"symbol\": \"circle\",\n",
       "            \"color\": \"rgba(204, 76, 204, 1.000)\",\n",
       "            \"line\": {\n",
       "                \"color\": \"rgba(0, 0, 0, 1.000)\",\n",
       "                \"width\": 1\n",
       "            },\n",
       "            \"size\": 8\n",
       "        },\n",
       "        \"zmax\": 2.0,\n",
       "        \"y\": [\n",
       "            2.330887\n",
       "        ],\n",
       "        \"type\": \"scatter\"\n",
       "    },\n",
       "    {\n",
       "        \"xaxis\": \"x\",\n",
       "        \"colorbar\": {\n",
       "            \"title\": \"\"\n",
       "        },\n",
       "        \"yaxis\": \"y\",\n",
       "        \"x\": [\n",
       "            1.3063231\n",
       "        ],\n",
       "        \"showlegend\": false,\n",
       "        \"mode\": \"markers\",\n",
       "        \"name\": \"y1\",\n",
       "        \"zmin\": 1.0,\n",
       "        \"legendgroup\": \"y1\",\n",
       "        \"marker\": {\n",
       "            \"symbol\": \"circle\",\n",
       "            \"color\": \"rgba(204, 76, 204, 1.000)\",\n",
       "            \"line\": {\n",
       "                \"color\": \"rgba(0, 0, 0, 1.000)\",\n",
       "                \"width\": 1\n",
       "            },\n",
       "            \"size\": 8\n",
       "        },\n",
       "        \"zmax\": 2.0,\n",
       "        \"y\": [\n",
       "            2.5996773\n",
       "        ],\n",
       "        \"type\": \"scatter\"\n",
       "    },\n",
       "    {\n",
       "        \"xaxis\": \"x\",\n",
       "        \"colorbar\": {\n",
       "            \"title\": \"\"\n",
       "        },\n",
       "        \"yaxis\": \"y\",\n",
       "        \"x\": [\n",
       "            4.5887516\n",
       "        ],\n",
       "        \"showlegend\": false,\n",
       "        \"mode\": \"markers\",\n",
       "        \"name\": \"y1\",\n",
       "        \"zmin\": 1.0,\n",
       "        \"legendgroup\": \"y1\",\n",
       "        \"marker\": {\n",
       "            \"symbol\": \"circle\",\n",
       "            \"color\": \"rgba(255, 76, 76, 1.000)\",\n",
       "            \"line\": {\n",
       "                \"color\": \"rgba(0, 0, 0, 1.000)\",\n",
       "                \"width\": 1\n",
       "            },\n",
       "            \"size\": 8\n",
       "        },\n",
       "        \"zmax\": 2.0,\n",
       "        \"y\": [\n",
       "            2.3281976\n",
       "        ],\n",
       "        \"type\": \"scatter\"\n",
       "    },\n",
       "    {\n",
       "        \"xaxis\": \"x\",\n",
       "        \"colorbar\": {\n",
       "            \"title\": \"\"\n",
       "        },\n",
       "        \"yaxis\": \"y\",\n",
       "        \"x\": [\n",
       "            1.3608484\n",
       "        ],\n",
       "        \"showlegend\": false,\n",
       "        \"mode\": \"markers\",\n",
       "        \"name\": \"y1\",\n",
       "        \"zmin\": 1.0,\n",
       "        \"legendgroup\": \"y1\",\n",
       "        \"marker\": {\n",
       "            \"symbol\": \"circle\",\n",
       "            \"color\": \"rgba(204, 76, 204, 1.000)\",\n",
       "            \"line\": {\n",
       "                \"color\": \"rgba(0, 0, 0, 1.000)\",\n",
       "                \"width\": 1\n",
       "            },\n",
       "            \"size\": 8\n",
       "        },\n",
       "        \"zmax\": 2.0,\n",
       "        \"y\": [\n",
       "            3.575629\n",
       "        ],\n",
       "        \"type\": \"scatter\"\n",
       "    },\n",
       "    {\n",
       "        \"xaxis\": \"x\",\n",
       "        \"colorbar\": {\n",
       "            \"title\": \"\"\n",
       "        },\n",
       "        \"yaxis\": \"y\",\n",
       "        \"x\": [\n",
       "            -2.1105302\n",
       "        ],\n",
       "        \"showlegend\": false,\n",
       "        \"mode\": \"markers\",\n",
       "        \"name\": \"y1\",\n",
       "        \"zmin\": 1.0,\n",
       "        \"legendgroup\": \"y1\",\n",
       "        \"marker\": {\n",
       "            \"symbol\": \"circle\",\n",
       "            \"color\": \"rgba(204, 76, 204, 1.000)\",\n",
       "            \"line\": {\n",
       "                \"color\": \"rgba(0, 0, 0, 1.000)\",\n",
       "                \"width\": 1\n",
       "            },\n",
       "            \"size\": 8\n",
       "        },\n",
       "        \"zmax\": 2.0,\n",
       "        \"y\": [\n",
       "            2.2219065\n",
       "        ],\n",
       "        \"type\": \"scatter\"\n",
       "    },\n",
       "    {\n",
       "        \"xaxis\": \"x\",\n",
       "        \"colorbar\": {\n",
       "            \"title\": \"\"\n",
       "        },\n",
       "        \"yaxis\": \"y\",\n",
       "        \"x\": [\n",
       "            -1.5713097\n",
       "        ],\n",
       "        \"showlegend\": false,\n",
       "        \"mode\": \"markers\",\n",
       "        \"name\": \"y1\",\n",
       "        \"zmin\": 1.0,\n",
       "        \"legendgroup\": \"y1\",\n",
       "        \"marker\": {\n",
       "            \"symbol\": \"circle\",\n",
       "            \"color\": \"rgba(204, 76, 204, 1.000)\",\n",
       "            \"line\": {\n",
       "                \"color\": \"rgba(0, 0, 0, 1.000)\",\n",
       "                \"width\": 1\n",
       "            },\n",
       "            \"size\": 8\n",
       "        },\n",
       "        \"zmax\": 2.0,\n",
       "        \"y\": [\n",
       "            1.9364388\n",
       "        ],\n",
       "        \"type\": \"scatter\"\n",
       "    },\n",
       "    {\n",
       "        \"xaxis\": \"x\",\n",
       "        \"colorbar\": {\n",
       "            \"title\": \"\"\n",
       "        },\n",
       "        \"yaxis\": \"y\",\n",
       "        \"x\": [\n",
       "            0.49037709\n",
       "        ],\n",
       "        \"showlegend\": false,\n",
       "        \"mode\": \"markers\",\n",
       "        \"name\": \"y1\",\n",
       "        \"zmin\": 1.0,\n",
       "        \"legendgroup\": \"y1\",\n",
       "        \"marker\": {\n",
       "            \"symbol\": \"circle\",\n",
       "            \"color\": \"rgba(204, 76, 204, 1.000)\",\n",
       "            \"line\": {\n",
       "                \"color\": \"rgba(0, 0, 0, 1.000)\",\n",
       "                \"width\": 1\n",
       "            },\n",
       "            \"size\": 8\n",
       "        },\n",
       "        \"zmax\": 2.0,\n",
       "        \"y\": [\n",
       "            3.5529783\n",
       "        ],\n",
       "        \"type\": \"scatter\"\n",
       "    },\n",
       "    {\n",
       "        \"xaxis\": \"x\",\n",
       "        \"colorbar\": {\n",
       "            \"title\": \"\"\n",
       "        },\n",
       "        \"yaxis\": \"y\",\n",
       "        \"x\": [\n",
       "            0.42499516\n",
       "        ],\n",
       "        \"showlegend\": false,\n",
       "        \"mode\": \"markers\",\n",
       "        \"name\": \"y1\",\n",
       "        \"zmin\": 1.0,\n",
       "        \"legendgroup\": \"y1\",\n",
       "        \"marker\": {\n",
       "            \"symbol\": \"circle\",\n",
       "            \"color\": \"rgba(204, 76, 204, 1.000)\",\n",
       "            \"line\": {\n",
       "                \"color\": \"rgba(0, 0, 0, 1.000)\",\n",
       "                \"width\": 1\n",
       "            },\n",
       "            \"size\": 8\n",
       "        },\n",
       "        \"zmax\": 2.0,\n",
       "        \"y\": [\n",
       "            2.5765712\n",
       "        ],\n",
       "        \"type\": \"scatter\"\n",
       "    },\n",
       "    {\n",
       "        \"xaxis\": \"x\",\n",
       "        \"colorbar\": {\n",
       "            \"title\": \"\"\n",
       "        },\n",
       "        \"yaxis\": \"y\",\n",
       "        \"x\": [\n",
       "            -1.5974456\n",
       "        ],\n",
       "        \"showlegend\": false,\n",
       "        \"mode\": \"markers\",\n",
       "        \"name\": \"y1\",\n",
       "        \"zmin\": 1.0,\n",
       "        \"legendgroup\": \"y1\",\n",
       "        \"marker\": {\n",
       "            \"symbol\": \"circle\",\n",
       "            \"color\": \"rgba(204, 76, 204, 1.000)\",\n",
       "            \"line\": {\n",
       "                \"color\": \"rgba(0, 0, 0, 1.000)\",\n",
       "                \"width\": 1\n",
       "            },\n",
       "            \"size\": 8\n",
       "        },\n",
       "        \"zmax\": 2.0,\n",
       "        \"y\": [\n",
       "            3.3615872\n",
       "        ],\n",
       "        \"type\": \"scatter\"\n",
       "    },\n",
       "    {\n",
       "        \"xaxis\": \"x\",\n",
       "        \"colorbar\": {\n",
       "            \"title\": \"\"\n",
       "        },\n",
       "        \"yaxis\": \"y\",\n",
       "        \"x\": [\n",
       "            1.5419924\n",
       "        ],\n",
       "        \"showlegend\": false,\n",
       "        \"mode\": \"markers\",\n",
       "        \"name\": \"y1\",\n",
       "        \"zmin\": 1.0,\n",
       "        \"legendgroup\": \"y1\",\n",
       "        \"marker\": {\n",
       "            \"symbol\": \"circle\",\n",
       "            \"color\": \"rgba(204, 76, 204, 1.000)\",\n",
       "            \"line\": {\n",
       "                \"color\": \"rgba(0, 0, 0, 1.000)\",\n",
       "                \"width\": 1\n",
       "            },\n",
       "            \"size\": 8\n",
       "        },\n",
       "        \"zmax\": 2.0,\n",
       "        \"y\": [\n",
       "            2.6481108\n",
       "        ],\n",
       "        \"type\": \"scatter\"\n",
       "    },\n",
       "    {\n",
       "        \"xaxis\": \"x\",\n",
       "        \"colorbar\": {\n",
       "            \"title\": \"\"\n",
       "        },\n",
       "        \"yaxis\": \"y\",\n",
       "        \"x\": [\n",
       "            4.7995854\n",
       "        ],\n",
       "        \"showlegend\": false,\n",
       "        \"mode\": \"markers\",\n",
       "        \"name\": \"y1\",\n",
       "        \"zmin\": 1.0,\n",
       "        \"legendgroup\": \"y1\",\n",
       "        \"marker\": {\n",
       "            \"symbol\": \"circle\",\n",
       "            \"color\": \"rgba(255, 76, 76, 1.000)\",\n",
       "            \"line\": {\n",
       "                \"color\": \"rgba(0, 0, 0, 1.000)\",\n",
       "                \"width\": 1\n",
       "            },\n",
       "            \"size\": 8\n",
       "        },\n",
       "        \"zmax\": 2.0,\n",
       "        \"y\": [\n",
       "            3.2695407\n",
       "        ],\n",
       "        \"type\": \"scatter\"\n",
       "    },\n",
       "    {\n",
       "        \"xaxis\": \"x\",\n",
       "        \"colorbar\": {\n",
       "            \"title\": \"\"\n",
       "        },\n",
       "        \"yaxis\": \"y\",\n",
       "        \"x\": [\n",
       "            0.24649214\n",
       "        ],\n",
       "        \"showlegend\": false,\n",
       "        \"mode\": \"markers\",\n",
       "        \"name\": \"y1\",\n",
       "        \"zmin\": 1.0,\n",
       "        \"legendgroup\": \"y1\",\n",
       "        \"marker\": {\n",
       "            \"symbol\": \"circle\",\n",
       "            \"color\": \"rgba(204, 76, 204, 1.000)\",\n",
       "            \"line\": {\n",
       "                \"color\": \"rgba(0, 0, 0, 1.000)\",\n",
       "                \"width\": 1\n",
       "            },\n",
       "            \"size\": 8\n",
       "        },\n",
       "        \"zmax\": 2.0,\n",
       "        \"y\": [\n",
       "            0.43555064\n",
       "        ],\n",
       "        \"type\": \"scatter\"\n",
       "    },\n",
       "    {\n",
       "        \"xaxis\": \"x\",\n",
       "        \"colorbar\": {\n",
       "            \"title\": \"\"\n",
       "        },\n",
       "        \"yaxis\": \"y\",\n",
       "        \"x\": [\n",
       "            0.38628985\n",
       "        ],\n",
       "        \"showlegend\": false,\n",
       "        \"mode\": \"markers\",\n",
       "        \"name\": \"y1\",\n",
       "        \"zmin\": 1.0,\n",
       "        \"legendgroup\": \"y1\",\n",
       "        \"marker\": {\n",
       "            \"symbol\": \"circle\",\n",
       "            \"color\": \"rgba(204, 76, 204, 1.000)\",\n",
       "            \"line\": {\n",
       "                \"color\": \"rgba(0, 0, 0, 1.000)\",\n",
       "                \"width\": 1\n",
       "            },\n",
       "            \"size\": 8\n",
       "        },\n",
       "        \"zmax\": 2.0,\n",
       "        \"y\": [\n",
       "            3.4658641\n",
       "        ],\n",
       "        \"type\": \"scatter\"\n",
       "    },\n",
       "    {\n",
       "        \"xaxis\": \"x\",\n",
       "        \"colorbar\": {\n",
       "            \"title\": \"\"\n",
       "        },\n",
       "        \"yaxis\": \"y\",\n",
       "        \"x\": [\n",
       "            -5.6045657\n",
       "        ],\n",
       "        \"showlegend\": false,\n",
       "        \"mode\": \"markers\",\n",
       "        \"name\": \"y1\",\n",
       "        \"zmin\": 1.0,\n",
       "        \"legendgroup\": \"y1\",\n",
       "        \"marker\": {\n",
       "            \"symbol\": \"circle\",\n",
       "            \"color\": \"rgba(204, 76, 204, 1.000)\",\n",
       "            \"line\": {\n",
       "                \"color\": \"rgba(0, 0, 0, 1.000)\",\n",
       "                \"width\": 1\n",
       "            },\n",
       "            \"size\": 8\n",
       "        },\n",
       "        \"zmax\": 2.0,\n",
       "        \"y\": [\n",
       "            4.8535609\n",
       "        ],\n",
       "        \"type\": \"scatter\"\n",
       "    },\n",
       "    {\n",
       "        \"xaxis\": \"x\",\n",
       "        \"colorbar\": {\n",
       "            \"title\": \"\"\n",
       "        },\n",
       "        \"yaxis\": \"y\",\n",
       "        \"x\": [\n",
       "            -1.3235393\n",
       "        ],\n",
       "        \"showlegend\": false,\n",
       "        \"mode\": \"markers\",\n",
       "        \"name\": \"y1\",\n",
       "        \"zmin\": 1.0,\n",
       "        \"legendgroup\": \"y1\",\n",
       "        \"marker\": {\n",
       "            \"symbol\": \"circle\",\n",
       "            \"color\": \"rgba(204, 76, 204, 1.000)\",\n",
       "            \"line\": {\n",
       "                \"color\": \"rgba(0, 0, 0, 1.000)\",\n",
       "                \"width\": 1\n",
       "            },\n",
       "            \"size\": 8\n",
       "        },\n",
       "        \"zmax\": 2.0,\n",
       "        \"y\": [\n",
       "            4.0392893\n",
       "        ],\n",
       "        \"type\": \"scatter\"\n",
       "    },\n",
       "    {\n",
       "        \"xaxis\": \"x\",\n",
       "        \"colorbar\": {\n",
       "            \"title\": \"\"\n",
       "        },\n",
       "        \"yaxis\": \"y\",\n",
       "        \"x\": [\n",
       "            -3.1798178\n",
       "        ],\n",
       "        \"showlegend\": false,\n",
       "        \"mode\": \"markers\",\n",
       "        \"name\": \"y1\",\n",
       "        \"zmin\": 1.0,\n",
       "        \"legendgroup\": \"y1\",\n",
       "        \"marker\": {\n",
       "            \"symbol\": \"circle\",\n",
       "            \"color\": \"rgba(204, 76, 204, 1.000)\",\n",
       "            \"line\": {\n",
       "                \"color\": \"rgba(0, 0, 0, 1.000)\",\n",
       "                \"width\": 1\n",
       "            },\n",
       "            \"size\": 8\n",
       "        },\n",
       "        \"zmax\": 2.0,\n",
       "        \"y\": [\n",
       "            3.9108966\n",
       "        ],\n",
       "        \"type\": \"scatter\"\n",
       "    },\n",
       "    {\n",
       "        \"xaxis\": \"x\",\n",
       "        \"colorbar\": {\n",
       "            \"title\": \"\"\n",
       "        },\n",
       "        \"yaxis\": \"y\",\n",
       "        \"x\": [\n",
       "            -0.15870395\n",
       "        ],\n",
       "        \"showlegend\": false,\n",
       "        \"mode\": \"markers\",\n",
       "        \"name\": \"y1\",\n",
       "        \"zmin\": 1.0,\n",
       "        \"legendgroup\": \"y1\",\n",
       "        \"marker\": {\n",
       "            \"symbol\": \"circle\",\n",
       "            \"color\": \"rgba(204, 76, 204, 1.000)\",\n",
       "            \"line\": {\n",
       "                \"color\": \"rgba(0, 0, 0, 1.000)\",\n",
       "                \"width\": 1\n",
       "            },\n",
       "            \"size\": 8\n",
       "        },\n",
       "        \"zmax\": 2.0,\n",
       "        \"y\": [\n",
       "            2.7602687\n",
       "        ],\n",
       "        \"type\": \"scatter\"\n",
       "    },\n",
       "    {\n",
       "        \"xaxis\": \"x\",\n",
       "        \"colorbar\": {\n",
       "            \"title\": \"\"\n",
       "        },\n",
       "        \"yaxis\": \"y\",\n",
       "        \"x\": [\n",
       "            2.5767591\n",
       "        ],\n",
       "        \"showlegend\": false,\n",
       "        \"mode\": \"markers\",\n",
       "        \"name\": \"y1\",\n",
       "        \"zmin\": 1.0,\n",
       "        \"legendgroup\": \"y1\",\n",
       "        \"marker\": {\n",
       "            \"symbol\": \"circle\",\n",
       "            \"color\": \"rgba(204, 76, 204, 1.000)\",\n",
       "            \"line\": {\n",
       "                \"color\": \"rgba(0, 0, 0, 1.000)\",\n",
       "                \"width\": 1\n",
       "            },\n",
       "            \"size\": 8\n",
       "        },\n",
       "        \"zmax\": 2.0,\n",
       "        \"y\": [\n",
       "            3.1809981\n",
       "        ],\n",
       "        \"type\": \"scatter\"\n",
       "    },\n",
       "    {\n",
       "        \"xaxis\": \"x\",\n",
       "        \"colorbar\": {\n",
       "            \"title\": \"\"\n",
       "        },\n",
       "        \"yaxis\": \"y\",\n",
       "        \"x\": [\n",
       "            5.5698078\n",
       "        ],\n",
       "        \"showlegend\": false,\n",
       "        \"mode\": \"markers\",\n",
       "        \"name\": \"y1\",\n",
       "        \"zmin\": 1.0,\n",
       "        \"legendgroup\": \"y1\",\n",
       "        \"marker\": {\n",
       "            \"symbol\": \"circle\",\n",
       "            \"color\": \"rgba(255, 76, 76, 1.000)\",\n",
       "            \"line\": {\n",
       "                \"color\": \"rgba(0, 0, 0, 1.000)\",\n",
       "                \"width\": 1\n",
       "            },\n",
       "            \"size\": 8\n",
       "        },\n",
       "        \"zmax\": 2.0,\n",
       "        \"y\": [\n",
       "            3.2442495\n",
       "        ],\n",
       "        \"type\": \"scatter\"\n",
       "    },\n",
       "    {\n",
       "        \"xaxis\": \"x\",\n",
       "        \"colorbar\": {\n",
       "            \"title\": \"\"\n",
       "        },\n",
       "        \"yaxis\": \"y\",\n",
       "        \"x\": [\n",
       "            6.3954834\n",
       "        ],\n",
       "        \"showlegend\": false,\n",
       "        \"mode\": \"markers\",\n",
       "        \"name\": \"y1\",\n",
       "        \"zmin\": 1.0,\n",
       "        \"legendgroup\": \"y1\",\n",
       "        \"marker\": {\n",
       "            \"symbol\": \"circle\",\n",
       "            \"color\": \"rgba(255, 76, 76, 1.000)\",\n",
       "            \"line\": {\n",
       "                \"color\": \"rgba(0, 0, 0, 1.000)\",\n",
       "                \"width\": 1\n",
       "            },\n",
       "            \"size\": 8\n",
       "        },\n",
       "        \"zmax\": 2.0,\n",
       "        \"y\": [\n",
       "            3.0963929\n",
       "        ],\n",
       "        \"type\": \"scatter\"\n",
       "    },\n",
       "    {\n",
       "        \"xaxis\": \"x\",\n",
       "        \"colorbar\": {\n",
       "            \"title\": \"\"\n",
       "        },\n",
       "        \"yaxis\": \"y\",\n",
       "        \"x\": [\n",
       "            5.7296068\n",
       "        ],\n",
       "        \"showlegend\": false,\n",
       "        \"mode\": \"markers\",\n",
       "        \"name\": \"y1\",\n",
       "        \"zmin\": 1.0,\n",
       "        \"legendgroup\": \"y1\",\n",
       "        \"marker\": {\n",
       "            \"symbol\": \"circle\",\n",
       "            \"color\": \"rgba(255, 76, 76, 1.000)\",\n",
       "            \"line\": {\n",
       "                \"color\": \"rgba(0, 0, 0, 1.000)\",\n",
       "                \"width\": 1\n",
       "            },\n",
       "            \"size\": 8\n",
       "        },\n",
       "        \"zmax\": 2.0,\n",
       "        \"y\": [\n",
       "            0.50245797\n",
       "        ],\n",
       "        \"type\": \"scatter\"\n",
       "    },\n",
       "    {\n",
       "        \"xaxis\": \"x\",\n",
       "        \"colorbar\": {\n",
       "            \"title\": \"\"\n",
       "        },\n",
       "        \"yaxis\": \"y\",\n",
       "        \"x\": [\n",
       "            5.8456791\n",
       "        ],\n",
       "        \"showlegend\": false,\n",
       "        \"mode\": \"markers\",\n",
       "        \"name\": \"y1\",\n",
       "        \"zmin\": 1.0,\n",
       "        \"legendgroup\": \"y1\",\n",
       "        \"marker\": {\n",
       "            \"symbol\": \"circle\",\n",
       "            \"color\": \"rgba(255, 76, 76, 1.000)\",\n",
       "            \"line\": {\n",
       "                \"color\": \"rgba(0, 0, 0, 1.000)\",\n",
       "                \"width\": 1\n",
       "            },\n",
       "            \"size\": 8\n",
       "        },\n",
       "        \"zmax\": 2.0,\n",
       "        \"y\": [\n",
       "            2.5565118\n",
       "        ],\n",
       "        \"type\": \"scatter\"\n",
       "    },\n",
       "    {\n",
       "        \"xaxis\": \"x\",\n",
       "        \"colorbar\": {\n",
       "            \"title\": \"\"\n",
       "        },\n",
       "        \"yaxis\": \"y\",\n",
       "        \"x\": [\n",
       "            5.4517033\n",
       "        ],\n",
       "        \"showlegend\": false,\n",
       "        \"mode\": \"markers\",\n",
       "        \"name\": \"y1\",\n",
       "        \"zmin\": 1.0,\n",
       "        \"legendgroup\": \"y1\",\n",
       "        \"marker\": {\n",
       "            \"symbol\": \"circle\",\n",
       "            \"color\": \"rgba(255, 76, 76, 1.000)\",\n",
       "            \"line\": {\n",
       "                \"color\": \"rgba(0, 0, 0, 1.000)\",\n",
       "                \"width\": 1\n",
       "            },\n",
       "            \"size\": 8\n",
       "        },\n",
       "        \"zmax\": 2.0,\n",
       "        \"y\": [\n",
       "            1.4461251\n",
       "        ],\n",
       "        \"type\": \"scatter\"\n",
       "    },\n",
       "    {\n",
       "        \"xaxis\": \"x\",\n",
       "        \"colorbar\": {\n",
       "            \"title\": \"\"\n",
       "        },\n",
       "        \"yaxis\": \"y\",\n",
       "        \"x\": [\n",
       "            5.7534951\n",
       "        ],\n",
       "        \"showlegend\": false,\n",
       "        \"mode\": \"markers\",\n",
       "        \"name\": \"y1\",\n",
       "        \"zmin\": 1.0,\n",
       "        \"legendgroup\": \"y1\",\n",
       "        \"marker\": {\n",
       "            \"symbol\": \"circle\",\n",
       "            \"color\": \"rgba(255, 76, 76, 1.000)\",\n",
       "            \"line\": {\n",
       "                \"color\": \"rgba(0, 0, 0, 1.000)\",\n",
       "                \"width\": 1\n",
       "            },\n",
       "            \"size\": 8\n",
       "        },\n",
       "        \"zmax\": 2.0,\n",
       "        \"y\": [\n",
       "            -3.5665122\n",
       "        ],\n",
       "        \"type\": \"scatter\"\n",
       "    },\n",
       "    {\n",
       "        \"xaxis\": \"x\",\n",
       "        \"colorbar\": {\n",
       "            \"title\": \"\"\n",
       "        },\n",
       "        \"yaxis\": \"y\",\n",
       "        \"x\": [\n",
       "            5.9096303\n",
       "        ],\n",
       "        \"showlegend\": false,\n",
       "        \"mode\": \"markers\",\n",
       "        \"name\": \"y1\",\n",
       "        \"zmin\": 1.0,\n",
       "        \"legendgroup\": \"y1\",\n",
       "        \"marker\": {\n",
       "            \"symbol\": \"circle\",\n",
       "            \"color\": \"rgba(255, 76, 76, 1.000)\",\n",
       "            \"line\": {\n",
       "                \"color\": \"rgba(0, 0, 0, 1.000)\",\n",
       "                \"width\": 1\n",
       "            },\n",
       "            \"size\": 8\n",
       "        },\n",
       "        \"zmax\": 2.0,\n",
       "        \"y\": [\n",
       "            -5.657909\n",
       "        ],\n",
       "        \"type\": \"scatter\"\n",
       "    },\n",
       "    {\n",
       "        \"xaxis\": \"x\",\n",
       "        \"colorbar\": {\n",
       "            \"title\": \"\"\n",
       "        },\n",
       "        \"yaxis\": \"y\",\n",
       "        \"x\": [\n",
       "            6.0229206\n",
       "        ],\n",
       "        \"showlegend\": false,\n",
       "        \"mode\": \"markers\",\n",
       "        \"name\": \"y1\",\n",
       "        \"zmin\": 1.0,\n",
       "        \"legendgroup\": \"y1\",\n",
       "        \"marker\": {\n",
       "            \"symbol\": \"circle\",\n",
       "            \"color\": \"rgba(255, 76, 76, 1.000)\",\n",
       "            \"line\": {\n",
       "                \"color\": \"rgba(0, 0, 0, 1.000)\",\n",
       "                \"width\": 1\n",
       "            },\n",
       "            \"size\": 8\n",
       "        },\n",
       "        \"zmax\": 2.0,\n",
       "        \"y\": [\n",
       "            0.80386293\n",
       "        ],\n",
       "        \"type\": \"scatter\"\n",
       "    },\n",
       "    {\n",
       "        \"xaxis\": \"x\",\n",
       "        \"colorbar\": {\n",
       "            \"title\": \"\"\n",
       "        },\n",
       "        \"yaxis\": \"y\",\n",
       "        \"x\": [\n",
       "            5.9681084\n",
       "        ],\n",
       "        \"showlegend\": false,\n",
       "        \"mode\": \"markers\",\n",
       "        \"name\": \"y1\",\n",
       "        \"zmin\": 1.0,\n",
       "        \"legendgroup\": \"y1\",\n",
       "        \"marker\": {\n",
       "            \"symbol\": \"circle\",\n",
       "            \"color\": \"rgba(255, 76, 76, 1.000)\",\n",
       "            \"line\": {\n",
       "                \"color\": \"rgba(0, 0, 0, 1.000)\",\n",
       "                \"width\": 1\n",
       "            },\n",
       "            \"size\": 8\n",
       "        },\n",
       "        \"zmax\": 2.0,\n",
       "        \"y\": [\n",
       "            -4.6712774\n",
       "        ],\n",
       "        \"type\": \"scatter\"\n",
       "    },\n",
       "    {\n",
       "        \"xaxis\": \"x\",\n",
       "        \"colorbar\": {\n",
       "            \"title\": \"\"\n",
       "        },\n",
       "        \"yaxis\": \"y\",\n",
       "        \"x\": [\n",
       "            6.3056676\n",
       "        ],\n",
       "        \"showlegend\": false,\n",
       "        \"mode\": \"markers\",\n",
       "        \"name\": \"y1\",\n",
       "        \"zmin\": 1.0,\n",
       "        \"legendgroup\": \"y1\",\n",
       "        \"marker\": {\n",
       "            \"symbol\": \"circle\",\n",
       "            \"color\": \"rgba(255, 76, 76, 1.000)\",\n",
       "            \"line\": {\n",
       "                \"color\": \"rgba(0, 0, 0, 1.000)\",\n",
       "                \"width\": 1\n",
       "            },\n",
       "            \"size\": 8\n",
       "        },\n",
       "        \"zmax\": 2.0,\n",
       "        \"y\": [\n",
       "            -0.86648618\n",
       "        ],\n",
       "        \"type\": \"scatter\"\n",
       "    },\n",
       "    {\n",
       "        \"xaxis\": \"x\",\n",
       "        \"colorbar\": {\n",
       "            \"title\": \"\"\n",
       "        },\n",
       "        \"yaxis\": \"y\",\n",
       "        \"x\": [\n",
       "            6.0546588\n",
       "        ],\n",
       "        \"showlegend\": false,\n",
       "        \"mode\": \"markers\",\n",
       "        \"name\": \"y1\",\n",
       "        \"zmin\": 1.0,\n",
       "        \"legendgroup\": \"y1\",\n",
       "        \"marker\": {\n",
       "            \"symbol\": \"circle\",\n",
       "            \"color\": \"rgba(255, 76, 76, 1.000)\",\n",
       "            \"line\": {\n",
       "                \"color\": \"rgba(0, 0, 0, 1.000)\",\n",
       "                \"width\": 1\n",
       "            },\n",
       "            \"size\": 8\n",
       "        },\n",
       "        \"zmax\": 2.0,\n",
       "        \"y\": [\n",
       "            -0.92904103\n",
       "        ],\n",
       "        \"type\": \"scatter\"\n",
       "    },\n",
       "    {\n",
       "        \"xaxis\": \"x\",\n",
       "        \"colorbar\": {\n",
       "            \"title\": \"\"\n",
       "        },\n",
       "        \"yaxis\": \"y\",\n",
       "        \"x\": [\n",
       "            6.9070077\n",
       "        ],\n",
       "        \"showlegend\": false,\n",
       "        \"mode\": \"markers\",\n",
       "        \"name\": \"y1\",\n",
       "        \"zmin\": 1.0,\n",
       "        \"legendgroup\": \"y1\",\n",
       "        \"marker\": {\n",
       "            \"symbol\": \"circle\",\n",
       "            \"color\": \"rgba(255, 76, 76, 1.000)\",\n",
       "            \"line\": {\n",
       "                \"color\": \"rgba(0, 0, 0, 1.000)\",\n",
       "                \"width\": 1\n",
       "            },\n",
       "            \"size\": 8\n",
       "        },\n",
       "        \"zmax\": 2.0,\n",
       "        \"y\": [\n",
       "            3.4543362\n",
       "        ],\n",
       "        \"type\": \"scatter\"\n",
       "    },\n",
       "    {\n",
       "        \"xaxis\": \"x\",\n",
       "        \"colorbar\": {\n",
       "            \"title\": \"\"\n",
       "        },\n",
       "        \"yaxis\": \"y\",\n",
       "        \"x\": [\n",
       "            6.1560119\n",
       "        ],\n",
       "        \"showlegend\": false,\n",
       "        \"mode\": \"markers\",\n",
       "        \"name\": \"y1\",\n",
       "        \"zmin\": 1.0,\n",
       "        \"legendgroup\": \"y1\",\n",
       "        \"marker\": {\n",
       "            \"symbol\": \"circle\",\n",
       "            \"color\": \"rgba(255, 76, 76, 1.000)\",\n",
       "            \"line\": {\n",
       "                \"color\": \"rgba(0, 0, 0, 1.000)\",\n",
       "                \"width\": 1\n",
       "            },\n",
       "            \"size\": 8\n",
       "        },\n",
       "        \"zmax\": 2.0,\n",
       "        \"y\": [\n",
       "            -1.1384285\n",
       "        ],\n",
       "        \"type\": \"scatter\"\n",
       "    },\n",
       "    {\n",
       "        \"xaxis\": \"x\",\n",
       "        \"colorbar\": {\n",
       "            \"title\": \"\"\n",
       "        },\n",
       "        \"yaxis\": \"y\",\n",
       "        \"x\": [\n",
       "            6.9022469\n",
       "        ],\n",
       "        \"showlegend\": false,\n",
       "        \"mode\": \"markers\",\n",
       "        \"name\": \"y1\",\n",
       "        \"zmin\": 1.0,\n",
       "        \"legendgroup\": \"y1\",\n",
       "        \"marker\": {\n",
       "            \"symbol\": \"circle\",\n",
       "            \"color\": \"rgba(255, 76, 76, 1.000)\",\n",
       "            \"line\": {\n",
       "                \"color\": \"rgba(0, 0, 0, 1.000)\",\n",
       "                \"width\": 1\n",
       "            },\n",
       "            \"size\": 8\n",
       "        },\n",
       "        \"zmax\": 2.0,\n",
       "        \"y\": [\n",
       "            -2.0146461\n",
       "        ],\n",
       "        \"type\": \"scatter\"\n",
       "    },\n",
       "    {\n",
       "        \"xaxis\": \"x\",\n",
       "        \"colorbar\": {\n",
       "            \"title\": \"\"\n",
       "        },\n",
       "        \"yaxis\": \"y\",\n",
       "        \"x\": [\n",
       "            5.6384393\n",
       "        ],\n",
       "        \"showlegend\": false,\n",
       "        \"mode\": \"markers\",\n",
       "        \"name\": \"y1\",\n",
       "        \"zmin\": 1.0,\n",
       "        \"legendgroup\": \"y1\",\n",
       "        \"marker\": {\n",
       "            \"symbol\": \"circle\",\n",
       "            \"color\": \"rgba(255, 76, 76, 1.000)\",\n",
       "            \"line\": {\n",
       "                \"color\": \"rgba(0, 0, 0, 1.000)\",\n",
       "                \"width\": 1\n",
       "            },\n",
       "            \"size\": 8\n",
       "        },\n",
       "        \"zmax\": 2.0,\n",
       "        \"y\": [\n",
       "            -0.52838065\n",
       "        ],\n",
       "        \"type\": \"scatter\"\n",
       "    },\n",
       "    {\n",
       "        \"xaxis\": \"x\",\n",
       "        \"colorbar\": {\n",
       "            \"title\": \"\"\n",
       "        },\n",
       "        \"yaxis\": \"y\",\n",
       "        \"x\": [\n",
       "            6.2632735\n",
       "        ],\n",
       "        \"showlegend\": false,\n",
       "        \"mode\": \"markers\",\n",
       "        \"name\": \"y1\",\n",
       "        \"zmin\": 1.0,\n",
       "        \"legendgroup\": \"y1\",\n",
       "        \"marker\": {\n",
       "            \"symbol\": \"circle\",\n",
       "            \"color\": \"rgba(255, 76, 76, 1.000)\",\n",
       "            \"line\": {\n",
       "                \"color\": \"rgba(0, 0, 0, 1.000)\",\n",
       "                \"width\": 1\n",
       "            },\n",
       "            \"size\": 8\n",
       "        },\n",
       "        \"zmax\": 2.0,\n",
       "        \"y\": [\n",
       "            -0.5083903\n",
       "        ],\n",
       "        \"type\": \"scatter\"\n",
       "    },\n",
       "    {\n",
       "        \"xaxis\": \"x\",\n",
       "        \"colorbar\": {\n",
       "            \"title\": \"\"\n",
       "        },\n",
       "        \"yaxis\": \"y\",\n",
       "        \"x\": [\n",
       "            5.8698746\n",
       "        ],\n",
       "        \"showlegend\": false,\n",
       "        \"mode\": \"markers\",\n",
       "        \"name\": \"y1\",\n",
       "        \"zmin\": 1.0,\n",
       "        \"legendgroup\": \"y1\",\n",
       "        \"marker\": {\n",
       "            \"symbol\": \"circle\",\n",
       "            \"color\": \"rgba(255, 76, 76, 1.000)\",\n",
       "            \"line\": {\n",
       "                \"color\": \"rgba(0, 0, 0, 1.000)\",\n",
       "                \"width\": 1\n",
       "            },\n",
       "            \"size\": 8\n",
       "        },\n",
       "        \"zmax\": 2.0,\n",
       "        \"y\": [\n",
       "            -0.85990958\n",
       "        ],\n",
       "        \"type\": \"scatter\"\n",
       "    },\n",
       "    {\n",
       "        \"xaxis\": \"x\",\n",
       "        \"colorbar\": {\n",
       "            \"title\": \"\"\n",
       "        },\n",
       "        \"yaxis\": \"y\",\n",
       "        \"x\": [\n",
       "            6.3000713\n",
       "        ],\n",
       "        \"showlegend\": false,\n",
       "        \"mode\": \"markers\",\n",
       "        \"name\": \"y1\",\n",
       "        \"zmin\": 1.0,\n",
       "        \"legendgroup\": \"y1\",\n",
       "        \"marker\": {\n",
       "            \"symbol\": \"circle\",\n",
       "            \"color\": \"rgba(255, 76, 76, 1.000)\",\n",
       "            \"line\": {\n",
       "                \"color\": \"rgba(0, 0, 0, 1.000)\",\n",
       "                \"width\": 1\n",
       "            },\n",
       "            \"size\": 8\n",
       "        },\n",
       "        \"zmax\": 2.0,\n",
       "        \"y\": [\n",
       "            -2.217161\n",
       "        ],\n",
       "        \"type\": \"scatter\"\n",
       "    },\n",
       "    {\n",
       "        \"xaxis\": \"x\",\n",
       "        \"colorbar\": {\n",
       "            \"title\": \"\"\n",
       "        },\n",
       "        \"yaxis\": \"y\",\n",
       "        \"x\": [\n",
       "            6.2969654\n",
       "        ],\n",
       "        \"showlegend\": false,\n",
       "        \"mode\": \"markers\",\n",
       "        \"name\": \"y1\",\n",
       "        \"zmin\": 1.0,\n",
       "        \"legendgroup\": \"y1\",\n",
       "        \"marker\": {\n",
       "            \"symbol\": \"circle\",\n",
       "            \"color\": \"rgba(255, 76, 76, 1.000)\",\n",
       "            \"line\": {\n",
       "                \"color\": \"rgba(0, 0, 0, 1.000)\",\n",
       "                \"width\": 1\n",
       "            },\n",
       "            \"size\": 8\n",
       "        },\n",
       "        \"zmax\": 2.0,\n",
       "        \"y\": [\n",
       "            -3.4451868\n",
       "        ],\n",
       "        \"type\": \"scatter\"\n",
       "    },\n",
       "    {\n",
       "        \"xaxis\": \"x\",\n",
       "        \"colorbar\": {\n",
       "            \"title\": \"\"\n",
       "        },\n",
       "        \"yaxis\": \"y\",\n",
       "        \"x\": [\n",
       "            4.9069892\n",
       "        ],\n",
       "        \"showlegend\": false,\n",
       "        \"mode\": \"markers\",\n",
       "        \"name\": \"y1\",\n",
       "        \"zmin\": 1.0,\n",
       "        \"legendgroup\": \"y1\",\n",
       "        \"marker\": {\n",
       "            \"symbol\": \"circle\",\n",
       "            \"color\": \"rgba(255, 76, 76, 1.000)\",\n",
       "            \"line\": {\n",
       "                \"color\": \"rgba(0, 0, 0, 1.000)\",\n",
       "                \"width\": 1\n",
       "            },\n",
       "            \"size\": 8\n",
       "        },\n",
       "        \"zmax\": 2.0,\n",
       "        \"y\": [\n",
       "            -0.36699928\n",
       "        ],\n",
       "        \"type\": \"scatter\"\n",
       "    },\n",
       "    {\n",
       "        \"xaxis\": \"x\",\n",
       "        \"colorbar\": {\n",
       "            \"title\": \"\"\n",
       "        },\n",
       "        \"yaxis\": \"y\",\n",
       "        \"x\": [\n",
       "            5.3364784\n",
       "        ],\n",
       "        \"showlegend\": false,\n",
       "        \"mode\": \"markers\",\n",
       "        \"name\": \"y1\",\n",
       "        \"zmin\": 1.0,\n",
       "        \"legendgroup\": \"y1\",\n",
       "        \"marker\": {\n",
       "            \"symbol\": \"circle\",\n",
       "            \"color\": \"rgba(255, 76, 76, 1.000)\",\n",
       "            \"line\": {\n",
       "                \"color\": \"rgba(0, 0, 0, 1.000)\",\n",
       "                \"width\": 1\n",
       "            },\n",
       "            \"size\": 8\n",
       "        },\n",
       "        \"zmax\": 2.0,\n",
       "        \"y\": [\n",
       "            -3.6857385\n",
       "        ],\n",
       "        \"type\": \"scatter\"\n",
       "    },\n",
       "    {\n",
       "        \"xaxis\": \"x\",\n",
       "        \"colorbar\": {\n",
       "            \"title\": \"\"\n",
       "        },\n",
       "        \"yaxis\": \"y\",\n",
       "        \"x\": [\n",
       "            5.2794932\n",
       "        ],\n",
       "        \"showlegend\": false,\n",
       "        \"mode\": \"markers\",\n",
       "        \"name\": \"y1\",\n",
       "        \"zmin\": 1.0,\n",
       "        \"legendgroup\": \"y1\",\n",
       "        \"marker\": {\n",
       "            \"symbol\": \"circle\",\n",
       "            \"color\": \"rgba(255, 76, 76, 1.000)\",\n",
       "            \"line\": {\n",
       "                \"color\": \"rgba(0, 0, 0, 1.000)\",\n",
       "                \"width\": 1\n",
       "            },\n",
       "            \"size\": 8\n",
       "        },\n",
       "        \"zmax\": 2.0,\n",
       "        \"y\": [\n",
       "            -3.0643687\n",
       "        ],\n",
       "        \"type\": \"scatter\"\n",
       "    },\n",
       "    {\n",
       "        \"xaxis\": \"x\",\n",
       "        \"colorbar\": {\n",
       "            \"title\": \"\"\n",
       "        },\n",
       "        \"yaxis\": \"y\",\n",
       "        \"x\": [\n",
       "            6.2009222\n",
       "        ],\n",
       "        \"showlegend\": false,\n",
       "        \"mode\": \"markers\",\n",
       "        \"name\": \"y1\",\n",
       "        \"zmin\": 1.0,\n",
       "        \"legendgroup\": \"y1\",\n",
       "        \"marker\": {\n",
       "            \"symbol\": \"circle\",\n",
       "            \"color\": \"rgba(255, 76, 76, 1.000)\",\n",
       "            \"line\": {\n",
       "                \"color\": \"rgba(0, 0, 0, 1.000)\",\n",
       "                \"width\": 1\n",
       "            },\n",
       "            \"size\": 8\n",
       "        },\n",
       "        \"zmax\": 2.0,\n",
       "        \"y\": [\n",
       "            1.6624318\n",
       "        ],\n",
       "        \"type\": \"scatter\"\n",
       "    },\n",
       "    {\n",
       "        \"xaxis\": \"x\",\n",
       "        \"colorbar\": {\n",
       "            \"title\": \"\"\n",
       "        },\n",
       "        \"yaxis\": \"y\",\n",
       "        \"x\": [\n",
       "            6.7351006\n",
       "        ],\n",
       "        \"showlegend\": false,\n",
       "        \"mode\": \"markers\",\n",
       "        \"name\": \"y1\",\n",
       "        \"zmin\": 1.0,\n",
       "        \"legendgroup\": \"y1\",\n",
       "        \"marker\": {\n",
       "            \"symbol\": \"circle\",\n",
       "            \"color\": \"rgba(255, 76, 76, 1.000)\",\n",
       "            \"line\": {\n",
       "                \"color\": \"rgba(0, 0, 0, 1.000)\",\n",
       "                \"width\": 1\n",
       "            },\n",
       "            \"size\": 8\n",
       "        },\n",
       "        \"zmax\": 2.0,\n",
       "        \"y\": [\n",
       "            -1.8378064\n",
       "        ],\n",
       "        \"type\": \"scatter\"\n",
       "    },\n",
       "    {\n",
       "        \"xaxis\": \"x\",\n",
       "        \"colorbar\": {\n",
       "            \"title\": \"\"\n",
       "        },\n",
       "        \"yaxis\": \"y\",\n",
       "        \"x\": [\n",
       "            5.8365929\n",
       "        ],\n",
       "        \"showlegend\": false,\n",
       "        \"mode\": \"markers\",\n",
       "        \"name\": \"y1\",\n",
       "        \"zmin\": 1.0,\n",
       "        \"legendgroup\": \"y1\",\n",
       "        \"marker\": {\n",
       "            \"symbol\": \"circle\",\n",
       "            \"color\": \"rgba(255, 76, 76, 1.000)\",\n",
       "            \"line\": {\n",
       "                \"color\": \"rgba(0, 0, 0, 1.000)\",\n",
       "                \"width\": 1\n",
       "            },\n",
       "            \"size\": 8\n",
       "        },\n",
       "        \"zmax\": 2.0,\n",
       "        \"y\": [\n",
       "            -1.2806434\n",
       "        ],\n",
       "        \"type\": \"scatter\"\n",
       "    },\n",
       "    {\n",
       "        \"xaxis\": \"x\",\n",
       "        \"colorbar\": {\n",
       "            \"title\": \"\"\n",
       "        },\n",
       "        \"yaxis\": \"y\",\n",
       "        \"x\": [\n",
       "            6.4061615\n",
       "        ],\n",
       "        \"showlegend\": false,\n",
       "        \"mode\": \"markers\",\n",
       "        \"name\": \"y1\",\n",
       "        \"zmin\": 1.0,\n",
       "        \"legendgroup\": \"y1\",\n",
       "        \"marker\": {\n",
       "            \"symbol\": \"circle\",\n",
       "            \"color\": \"rgba(255, 76, 76, 1.000)\",\n",
       "            \"line\": {\n",
       "                \"color\": \"rgba(0, 0, 0, 1.000)\",\n",
       "                \"width\": 1\n",
       "            },\n",
       "            \"size\": 8\n",
       "        },\n",
       "        \"zmax\": 2.0,\n",
       "        \"y\": [\n",
       "            0.79964466\n",
       "        ],\n",
       "        \"type\": \"scatter\"\n",
       "    },\n",
       "    {\n",
       "        \"xaxis\": \"x\",\n",
       "        \"colorbar\": {\n",
       "            \"title\": \"\"\n",
       "        },\n",
       "        \"yaxis\": \"y\",\n",
       "        \"x\": [\n",
       "            6.2727701\n",
       "        ],\n",
       "        \"showlegend\": false,\n",
       "        \"mode\": \"markers\",\n",
       "        \"name\": \"y1\",\n",
       "        \"zmin\": 1.0,\n",
       "        \"legendgroup\": \"y1\",\n",
       "        \"marker\": {\n",
       "            \"symbol\": \"circle\",\n",
       "            \"color\": \"rgba(255, 76, 76, 1.000)\",\n",
       "            \"line\": {\n",
       "                \"color\": \"rgba(0, 0, 0, 1.000)\",\n",
       "                \"width\": 1\n",
       "            },\n",
       "            \"size\": 8\n",
       "        },\n",
       "        \"zmax\": 2.0,\n",
       "        \"y\": [\n",
       "            -1.600222\n",
       "        ],\n",
       "        \"type\": \"scatter\"\n",
       "    },\n",
       "    {\n",
       "        \"xaxis\": \"x\",\n",
       "        \"colorbar\": {\n",
       "            \"title\": \"\"\n",
       "        },\n",
       "        \"yaxis\": \"y\",\n",
       "        \"x\": [\n",
       "            5.4741838\n",
       "        ],\n",
       "        \"showlegend\": false,\n",
       "        \"mode\": \"markers\",\n",
       "        \"name\": \"y1\",\n",
       "        \"zmin\": 1.0,\n",
       "        \"legendgroup\": \"y1\",\n",
       "        \"marker\": {\n",
       "            \"symbol\": \"circle\",\n",
       "            \"color\": \"rgba(255, 76, 76, 1.000)\",\n",
       "            \"line\": {\n",
       "                \"color\": \"rgba(0, 0, 0, 1.000)\",\n",
       "                \"width\": 1\n",
       "            },\n",
       "            \"size\": 8\n",
       "        },\n",
       "        \"zmax\": 2.0,\n",
       "        \"y\": [\n",
       "            1.0587314\n",
       "        ],\n",
       "        \"type\": \"scatter\"\n",
       "    },\n",
       "    {\n",
       "        \"xaxis\": \"x\",\n",
       "        \"colorbar\": {\n",
       "            \"title\": \"\"\n",
       "        },\n",
       "        \"yaxis\": \"y\",\n",
       "        \"x\": [\n",
       "            6.1987335\n",
       "        ],\n",
       "        \"showlegend\": false,\n",
       "        \"mode\": \"markers\",\n",
       "        \"name\": \"y1\",\n",
       "        \"zmin\": 1.0,\n",
       "        \"legendgroup\": \"y1\",\n",
       "        \"marker\": {\n",
       "            \"symbol\": \"circle\",\n",
       "            \"color\": \"rgba(255, 76, 76, 1.000)\",\n",
       "            \"line\": {\n",
       "                \"color\": \"rgba(0, 0, 0, 1.000)\",\n",
       "                \"width\": 1\n",
       "            },\n",
       "            \"size\": 8\n",
       "        },\n",
       "        \"zmax\": 2.0,\n",
       "        \"y\": [\n",
       "            -1.6901319\n",
       "        ],\n",
       "        \"type\": \"scatter\"\n",
       "    },\n",
       "    {\n",
       "        \"xaxis\": \"x\",\n",
       "        \"colorbar\": {\n",
       "            \"title\": \"\"\n",
       "        },\n",
       "        \"yaxis\": \"y\",\n",
       "        \"x\": [\n",
       "            5.6240526\n",
       "        ],\n",
       "        \"showlegend\": false,\n",
       "        \"mode\": \"markers\",\n",
       "        \"name\": \"y1\",\n",
       "        \"zmin\": 1.0,\n",
       "        \"legendgroup\": \"y1\",\n",
       "        \"marker\": {\n",
       "            \"symbol\": \"circle\",\n",
       "            \"color\": \"rgba(255, 76, 76, 1.000)\",\n",
       "            \"line\": {\n",
       "                \"color\": \"rgba(0, 0, 0, 1.000)\",\n",
       "                \"width\": 1\n",
       "            },\n",
       "            \"size\": 8\n",
       "        },\n",
       "        \"zmax\": 2.0,\n",
       "        \"y\": [\n",
       "            1.0256037\n",
       "        ],\n",
       "        \"type\": \"scatter\"\n",
       "    },\n",
       "    {\n",
       "        \"xaxis\": \"x\",\n",
       "        \"colorbar\": {\n",
       "            \"title\": \"\"\n",
       "        },\n",
       "        \"yaxis\": \"y\",\n",
       "        \"x\": [\n",
       "            6.7581334\n",
       "        ],\n",
       "        \"showlegend\": false,\n",
       "        \"mode\": \"markers\",\n",
       "        \"name\": \"y1\",\n",
       "        \"zmin\": 1.0,\n",
       "        \"legendgroup\": \"y1\",\n",
       "        \"marker\": {\n",
       "            \"symbol\": \"circle\",\n",
       "            \"color\": \"rgba(255, 76, 76, 1.000)\",\n",
       "            \"line\": {\n",
       "                \"color\": \"rgba(0, 0, 0, 1.000)\",\n",
       "                \"width\": 1\n",
       "            },\n",
       "            \"size\": 8\n",
       "        },\n",
       "        \"zmax\": 2.0,\n",
       "        \"y\": [\n",
       "            0.25866917\n",
       "        ],\n",
       "        \"type\": \"scatter\"\n",
       "    },\n",
       "    {\n",
       "        \"xaxis\": \"x\",\n",
       "        \"colorbar\": {\n",
       "            \"title\": \"\"\n",
       "        },\n",
       "        \"yaxis\": \"y\",\n",
       "        \"x\": [\n",
       "            5.9837167\n",
       "        ],\n",
       "        \"showlegend\": false,\n",
       "        \"mode\": \"markers\",\n",
       "        \"name\": \"y1\",\n",
       "        \"zmin\": 1.0,\n",
       "        \"legendgroup\": \"y1\",\n",
       "        \"marker\": {\n",
       "            \"symbol\": \"circle\",\n",
       "            \"color\": \"rgba(255, 76, 76, 1.000)\",\n",
       "            \"line\": {\n",
       "                \"color\": \"rgba(0, 0, 0, 1.000)\",\n",
       "                \"width\": 1\n",
       "            },\n",
       "            \"size\": 8\n",
       "        },\n",
       "        \"zmax\": 2.0,\n",
       "        \"y\": [\n",
       "            -1.4260302\n",
       "        ],\n",
       "        \"type\": \"scatter\"\n",
       "    },\n",
       "    {\n",
       "        \"xaxis\": \"x\",\n",
       "        \"colorbar\": {\n",
       "            \"title\": \"\"\n",
       "        },\n",
       "        \"yaxis\": \"y\",\n",
       "        \"x\": [\n",
       "            6.8179998\n",
       "        ],\n",
       "        \"showlegend\": false,\n",
       "        \"mode\": \"markers\",\n",
       "        \"name\": \"y1\",\n",
       "        \"zmin\": 1.0,\n",
       "        \"legendgroup\": \"y1\",\n",
       "        \"marker\": {\n",
       "            \"symbol\": \"circle\",\n",
       "            \"color\": \"rgba(255, 76, 76, 1.000)\",\n",
       "            \"line\": {\n",
       "                \"color\": \"rgba(0, 0, 0, 1.000)\",\n",
       "                \"width\": 1\n",
       "            },\n",
       "            \"size\": 8\n",
       "        },\n",
       "        \"zmax\": 2.0,\n",
       "        \"y\": [\n",
       "            -2.7313946\n",
       "        ],\n",
       "        \"type\": \"scatter\"\n",
       "    },\n",
       "    {\n",
       "        \"xaxis\": \"x\",\n",
       "        \"colorbar\": {\n",
       "            \"title\": \"\"\n",
       "        },\n",
       "        \"yaxis\": \"y\",\n",
       "        \"x\": [\n",
       "            5.7874708\n",
       "        ],\n",
       "        \"showlegend\": false,\n",
       "        \"mode\": \"markers\",\n",
       "        \"name\": \"y1\",\n",
       "        \"zmin\": 1.0,\n",
       "        \"legendgroup\": \"y1\",\n",
       "        \"marker\": {\n",
       "            \"symbol\": \"circle\",\n",
       "            \"color\": \"rgba(255, 76, 76, 1.000)\",\n",
       "            \"line\": {\n",
       "                \"color\": \"rgba(0, 0, 0, 1.000)\",\n",
       "                \"width\": 1\n",
       "            },\n",
       "            \"size\": 8\n",
       "        },\n",
       "        \"zmax\": 2.0,\n",
       "        \"y\": [\n",
       "            -3.0862166\n",
       "        ],\n",
       "        \"type\": \"scatter\"\n",
       "    },\n",
       "    {\n",
       "        \"xaxis\": \"x\",\n",
       "        \"colorbar\": {\n",
       "            \"title\": \"\"\n",
       "        },\n",
       "        \"yaxis\": \"y\",\n",
       "        \"x\": [\n",
       "            6.2947167\n",
       "        ],\n",
       "        \"showlegend\": false,\n",
       "        \"mode\": \"markers\",\n",
       "        \"name\": \"y1\",\n",
       "        \"zmin\": 1.0,\n",
       "        \"legendgroup\": \"y1\",\n",
       "        \"marker\": {\n",
       "            \"symbol\": \"circle\",\n",
       "            \"color\": \"rgba(255, 76, 76, 1.000)\",\n",
       "            \"line\": {\n",
       "                \"color\": \"rgba(0, 0, 0, 1.000)\",\n",
       "                \"width\": 1\n",
       "            },\n",
       "            \"size\": 8\n",
       "        },\n",
       "        \"zmax\": 2.0,\n",
       "        \"y\": [\n",
       "            -1.5401376\n",
       "        ],\n",
       "        \"type\": \"scatter\"\n",
       "    },\n",
       "    {\n",
       "        \"xaxis\": \"x\",\n",
       "        \"colorbar\": {\n",
       "            \"title\": \"\"\n",
       "        },\n",
       "        \"yaxis\": \"y\",\n",
       "        \"x\": [\n",
       "            5.9686044\n",
       "        ],\n",
       "        \"showlegend\": false,\n",
       "        \"mode\": \"markers\",\n",
       "        \"name\": \"y1\",\n",
       "        \"zmin\": 1.0,\n",
       "        \"legendgroup\": \"y1\",\n",
       "        \"marker\": {\n",
       "            \"symbol\": \"circle\",\n",
       "            \"color\": \"rgba(255, 76, 76, 1.000)\",\n",
       "            \"line\": {\n",
       "                \"color\": \"rgba(0, 0, 0, 1.000)\",\n",
       "                \"width\": 1\n",
       "            },\n",
       "            \"size\": 8\n",
       "        },\n",
       "        \"zmax\": 2.0,\n",
       "        \"y\": [\n",
       "            -1.8762827\n",
       "        ],\n",
       "        \"type\": \"scatter\"\n",
       "    },\n",
       "    {\n",
       "        \"xaxis\": \"x\",\n",
       "        \"colorbar\": {\n",
       "            \"title\": \"\"\n",
       "        },\n",
       "        \"yaxis\": \"y\",\n",
       "        \"x\": [\n",
       "            4.9890205\n",
       "        ],\n",
       "        \"showlegend\": false,\n",
       "        \"mode\": \"markers\",\n",
       "        \"name\": \"y1\",\n",
       "        \"zmin\": 1.0,\n",
       "        \"legendgroup\": \"y1\",\n",
       "        \"marker\": {\n",
       "            \"symbol\": \"circle\",\n",
       "            \"color\": \"rgba(255, 76, 76, 1.000)\",\n",
       "            \"line\": {\n",
       "                \"color\": \"rgba(0, 0, 0, 1.000)\",\n",
       "                \"width\": 1\n",
       "            },\n",
       "            \"size\": 8\n",
       "        },\n",
       "        \"zmax\": 2.0,\n",
       "        \"y\": [\n",
       "            -1.8173486\n",
       "        ],\n",
       "        \"type\": \"scatter\"\n",
       "    },\n",
       "    {\n",
       "        \"xaxis\": \"x\",\n",
       "        \"colorbar\": {\n",
       "            \"title\": \"\"\n",
       "        },\n",
       "        \"yaxis\": \"y\",\n",
       "        \"x\": [\n",
       "            5.5089342\n",
       "        ],\n",
       "        \"showlegend\": false,\n",
       "        \"mode\": \"markers\",\n",
       "        \"name\": \"y1\",\n",
       "        \"zmin\": 1.0,\n",
       "        \"legendgroup\": \"y1\",\n",
       "        \"marker\": {\n",
       "            \"symbol\": \"circle\",\n",
       "            \"color\": \"rgba(255, 76, 76, 1.000)\",\n",
       "            \"line\": {\n",
       "                \"color\": \"rgba(0, 0, 0, 1.000)\",\n",
       "                \"width\": 1\n",
       "            },\n",
       "            \"size\": 8\n",
       "        },\n",
       "        \"zmax\": 2.0,\n",
       "        \"y\": [\n",
       "            0.96709047\n",
       "        ],\n",
       "        \"type\": \"scatter\"\n",
       "    },\n",
       "    {\n",
       "        \"xaxis\": \"x\",\n",
       "        \"colorbar\": {\n",
       "            \"title\": \"\"\n",
       "        },\n",
       "        \"yaxis\": \"y\",\n",
       "        \"x\": [\n",
       "            6.3062556\n",
       "        ],\n",
       "        \"showlegend\": false,\n",
       "        \"mode\": \"markers\",\n",
       "        \"name\": \"y1\",\n",
       "        \"zmin\": 1.0,\n",
       "        \"legendgroup\": \"y1\",\n",
       "        \"marker\": {\n",
       "            \"symbol\": \"circle\",\n",
       "            \"color\": \"rgba(255, 76, 76, 1.000)\",\n",
       "            \"line\": {\n",
       "                \"color\": \"rgba(0, 0, 0, 1.000)\",\n",
       "                \"width\": 1\n",
       "            },\n",
       "            \"size\": 8\n",
       "        },\n",
       "        \"zmax\": 2.0,\n",
       "        \"y\": [\n",
       "            -1.5953943\n",
       "        ],\n",
       "        \"type\": \"scatter\"\n",
       "    },\n",
       "    {\n",
       "        \"xaxis\": \"x\",\n",
       "        \"colorbar\": {\n",
       "            \"title\": \"\"\n",
       "        },\n",
       "        \"yaxis\": \"y\",\n",
       "        \"x\": [\n",
       "            5.9725569\n",
       "        ],\n",
       "        \"showlegend\": false,\n",
       "        \"mode\": \"markers\",\n",
       "        \"name\": \"y1\",\n",
       "        \"zmin\": 1.0,\n",
       "        \"legendgroup\": \"y1\",\n",
       "        \"marker\": {\n",
       "            \"symbol\": \"circle\",\n",
       "            \"color\": \"rgba(255, 76, 76, 1.000)\",\n",
       "            \"line\": {\n",
       "                \"color\": \"rgba(0, 0, 0, 1.000)\",\n",
       "                \"width\": 1\n",
       "            },\n",
       "            \"size\": 8\n",
       "        },\n",
       "        \"zmax\": 2.0,\n",
       "        \"y\": [\n",
       "            1.2873578\n",
       "        ],\n",
       "        \"type\": \"scatter\"\n",
       "    },\n",
       "    {\n",
       "        \"xaxis\": \"x\",\n",
       "        \"colorbar\": {\n",
       "            \"title\": \"\"\n",
       "        },\n",
       "        \"yaxis\": \"y\",\n",
       "        \"x\": [\n",
       "            5.440634\n",
       "        ],\n",
       "        \"showlegend\": false,\n",
       "        \"mode\": \"markers\",\n",
       "        \"name\": \"y1\",\n",
       "        \"zmin\": 1.0,\n",
       "        \"legendgroup\": \"y1\",\n",
       "        \"marker\": {\n",
       "            \"symbol\": \"circle\",\n",
       "            \"color\": \"rgba(255, 76, 76, 1.000)\",\n",
       "            \"line\": {\n",
       "                \"color\": \"rgba(0, 0, 0, 1.000)\",\n",
       "                \"width\": 1\n",
       "            },\n",
       "            \"size\": 8\n",
       "        },\n",
       "        \"zmax\": 2.0,\n",
       "        \"y\": [\n",
       "            -2.0632402\n",
       "        ],\n",
       "        \"type\": \"scatter\"\n",
       "    },\n",
       "    {\n",
       "        \"xaxis\": \"x\",\n",
       "        \"colorbar\": {\n",
       "            \"title\": \"\"\n",
       "        },\n",
       "        \"yaxis\": \"y\",\n",
       "        \"x\": [\n",
       "            5.6868107\n",
       "        ],\n",
       "        \"showlegend\": false,\n",
       "        \"mode\": \"markers\",\n",
       "        \"name\": \"y1\",\n",
       "        \"zmin\": 1.0,\n",
       "        \"legendgroup\": \"y1\",\n",
       "        \"marker\": {\n",
       "            \"symbol\": \"circle\",\n",
       "            \"color\": \"rgba(255, 76, 76, 1.000)\",\n",
       "            \"line\": {\n",
       "                \"color\": \"rgba(0, 0, 0, 1.000)\",\n",
       "                \"width\": 1\n",
       "            },\n",
       "            \"size\": 8\n",
       "        },\n",
       "        \"zmax\": 2.0,\n",
       "        \"y\": [\n",
       "            0.94513146\n",
       "        ],\n",
       "        \"type\": \"scatter\"\n",
       "    },\n",
       "    {\n",
       "        \"xaxis\": \"x\",\n",
       "        \"colorbar\": {\n",
       "            \"title\": \"\"\n",
       "        },\n",
       "        \"yaxis\": \"y\",\n",
       "        \"x\": [\n",
       "            6.1247589\n",
       "        ],\n",
       "        \"showlegend\": false,\n",
       "        \"mode\": \"markers\",\n",
       "        \"name\": \"y1\",\n",
       "        \"zmin\": 1.0,\n",
       "        \"legendgroup\": \"y1\",\n",
       "        \"marker\": {\n",
       "            \"symbol\": \"circle\",\n",
       "            \"color\": \"rgba(255, 76, 76, 1.000)\",\n",
       "            \"line\": {\n",
       "                \"color\": \"rgba(0, 0, 0, 1.000)\",\n",
       "                \"width\": 1\n",
       "            },\n",
       "            \"size\": 8\n",
       "        },\n",
       "        \"zmax\": 2.0,\n",
       "        \"y\": [\n",
       "            -2.044501\n",
       "        ],\n",
       "        \"type\": \"scatter\"\n",
       "    },\n",
       "    {\n",
       "        \"xaxis\": \"x\",\n",
       "        \"colorbar\": {\n",
       "            \"title\": \"\"\n",
       "        },\n",
       "        \"yaxis\": \"y\",\n",
       "        \"x\": [\n",
       "            5.5034905\n",
       "        ],\n",
       "        \"showlegend\": false,\n",
       "        \"mode\": \"markers\",\n",
       "        \"name\": \"y1\",\n",
       "        \"zmin\": 1.0,\n",
       "        \"legendgroup\": \"y1\",\n",
       "        \"marker\": {\n",
       "            \"symbol\": \"circle\",\n",
       "            \"color\": \"rgba(255, 76, 76, 1.000)\",\n",
       "            \"line\": {\n",
       "                \"color\": \"rgba(0, 0, 0, 1.000)\",\n",
       "                \"width\": 1\n",
       "            },\n",
       "            \"size\": 8\n",
       "        },\n",
       "        \"zmax\": 2.0,\n",
       "        \"y\": [\n",
       "            -0.64684441\n",
       "        ],\n",
       "        \"type\": \"scatter\"\n",
       "    },\n",
       "    {\n",
       "        \"xaxis\": \"x\",\n",
       "        \"colorbar\": {\n",
       "            \"title\": \"\"\n",
       "        },\n",
       "        \"yaxis\": \"y\",\n",
       "        \"x\": [\n",
       "            6.4874751\n",
       "        ],\n",
       "        \"showlegend\": false,\n",
       "        \"mode\": \"markers\",\n",
       "        \"name\": \"y1\",\n",
       "        \"zmin\": 1.0,\n",
       "        \"legendgroup\": \"y1\",\n",
       "        \"marker\": {\n",
       "            \"symbol\": \"circle\",\n",
       "            \"color\": \"rgba(255, 76, 76, 1.000)\",\n",
       "            \"line\": {\n",
       "                \"color\": \"rgba(0, 0, 0, 1.000)\",\n",
       "                \"width\": 1\n",
       "            },\n",
       "            \"size\": 8\n",
       "        },\n",
       "        \"zmax\": 2.0,\n",
       "        \"y\": [\n",
       "            0.94147565\n",
       "        ],\n",
       "        \"type\": \"scatter\"\n",
       "    },\n",
       "    {\n",
       "        \"xaxis\": \"x\",\n",
       "        \"colorbar\": {\n",
       "            \"title\": \"\"\n",
       "        },\n",
       "        \"yaxis\": \"y\",\n",
       "        \"x\": [\n",
       "            5.6796452\n",
       "        ],\n",
       "        \"showlegend\": false,\n",
       "        \"mode\": \"markers\",\n",
       "        \"name\": \"y1\",\n",
       "        \"zmin\": 1.0,\n",
       "        \"legendgroup\": \"y1\",\n",
       "        \"marker\": {\n",
       "            \"symbol\": \"circle\",\n",
       "            \"color\": \"rgba(255, 76, 76, 1.000)\",\n",
       "            \"line\": {\n",
       "                \"color\": \"rgba(0, 0, 0, 1.000)\",\n",
       "                \"width\": 1\n",
       "            },\n",
       "            \"size\": 8\n",
       "        },\n",
       "        \"zmax\": 2.0,\n",
       "        \"y\": [\n",
       "            -1.8279445\n",
       "        ],\n",
       "        \"type\": \"scatter\"\n",
       "    },\n",
       "    {\n",
       "        \"xaxis\": \"x\",\n",
       "        \"colorbar\": {\n",
       "            \"title\": \"\"\n",
       "        },\n",
       "        \"yaxis\": \"y\",\n",
       "        \"x\": [\n",
       "            6.9044313\n",
       "        ],\n",
       "        \"showlegend\": false,\n",
       "        \"mode\": \"markers\",\n",
       "        \"name\": \"y1\",\n",
       "        \"zmin\": 1.0,\n",
       "        \"legendgroup\": \"y1\",\n",
       "        \"marker\": {\n",
       "            \"symbol\": \"circle\",\n",
       "            \"color\": \"rgba(255, 76, 76, 1.000)\",\n",
       "            \"line\": {\n",
       "                \"color\": \"rgba(0, 0, 0, 1.000)\",\n",
       "                \"width\": 1\n",
       "            },\n",
       "            \"size\": 8\n",
       "        },\n",
       "        \"zmax\": 2.0,\n",
       "        \"y\": [\n",
       "            -1.876541\n",
       "        ],\n",
       "        \"type\": \"scatter\"\n",
       "    },\n",
       "    {\n",
       "        \"xaxis\": \"x\",\n",
       "        \"colorbar\": {\n",
       "            \"title\": \"\"\n",
       "        },\n",
       "        \"yaxis\": \"y\",\n",
       "        \"x\": [\n",
       "            5.4600669\n",
       "        ],\n",
       "        \"showlegend\": false,\n",
       "        \"mode\": \"markers\",\n",
       "        \"name\": \"y1\",\n",
       "        \"zmin\": 1.0,\n",
       "        \"legendgroup\": \"y1\",\n",
       "        \"marker\": {\n",
       "            \"symbol\": \"circle\",\n",
       "            \"color\": \"rgba(255, 76, 76, 1.000)\",\n",
       "            \"line\": {\n",
       "                \"color\": \"rgba(0, 0, 0, 1.000)\",\n",
       "                \"width\": 1\n",
       "            },\n",
       "            \"size\": 8\n",
       "        },\n",
       "        \"zmax\": 2.0,\n",
       "        \"y\": [\n",
       "            3.0067812\n",
       "        ],\n",
       "        \"type\": \"scatter\"\n",
       "    },\n",
       "    {\n",
       "        \"xaxis\": \"x\",\n",
       "        \"colorbar\": {\n",
       "            \"title\": \"\"\n",
       "        },\n",
       "        \"yaxis\": \"y\",\n",
       "        \"x\": [\n",
       "            6.0995947\n",
       "        ],\n",
       "        \"showlegend\": false,\n",
       "        \"mode\": \"markers\",\n",
       "        \"name\": \"y1\",\n",
       "        \"zmin\": 1.0,\n",
       "        \"legendgroup\": \"y1\",\n",
       "        \"marker\": {\n",
       "            \"symbol\": \"circle\",\n",
       "            \"color\": \"rgba(255, 76, 76, 1.000)\",\n",
       "            \"line\": {\n",
       "                \"color\": \"rgba(0, 0, 0, 1.000)\",\n",
       "                \"width\": 1\n",
       "            },\n",
       "            \"size\": 8\n",
       "        },\n",
       "        \"zmax\": 2.0,\n",
       "        \"y\": [\n",
       "            0.901987\n",
       "        ],\n",
       "        \"type\": \"scatter\"\n",
       "    },\n",
       "    {\n",
       "        \"xaxis\": \"x\",\n",
       "        \"colorbar\": {\n",
       "            \"title\": \"\"\n",
       "        },\n",
       "        \"yaxis\": \"y\",\n",
       "        \"x\": [\n",
       "            5.2394867\n",
       "        ],\n",
       "        \"showlegend\": false,\n",
       "        \"mode\": \"markers\",\n",
       "        \"name\": \"y1\",\n",
       "        \"zmin\": 1.0,\n",
       "        \"legendgroup\": \"y1\",\n",
       "        \"marker\": {\n",
       "            \"symbol\": \"circle\",\n",
       "            \"color\": \"rgba(255, 76, 76, 1.000)\",\n",
       "            \"line\": {\n",
       "                \"color\": \"rgba(0, 0, 0, 1.000)\",\n",
       "                \"width\": 1\n",
       "            },\n",
       "            \"size\": 8\n",
       "        },\n",
       "        \"zmax\": 2.0,\n",
       "        \"y\": [\n",
       "            -1.8640077\n",
       "        ],\n",
       "        \"type\": \"scatter\"\n",
       "    },\n",
       "    {\n",
       "        \"xaxis\": \"x\",\n",
       "        \"colorbar\": {\n",
       "            \"title\": \"\"\n",
       "        },\n",
       "        \"yaxis\": \"y\",\n",
       "        \"x\": [\n",
       "            5.6381844\n",
       "        ],\n",
       "        \"showlegend\": false,\n",
       "        \"mode\": \"markers\",\n",
       "        \"name\": \"y1\",\n",
       "        \"zmin\": 1.0,\n",
       "        \"legendgroup\": \"y1\",\n",
       "        \"marker\": {\n",
       "            \"symbol\": \"circle\",\n",
       "            \"color\": \"rgba(255, 76, 76, 1.000)\",\n",
       "            \"line\": {\n",
       "                \"color\": \"rgba(0, 0, 0, 1.000)\",\n",
       "                \"width\": 1\n",
       "            },\n",
       "            \"size\": 8\n",
       "        },\n",
       "        \"zmax\": 2.0,\n",
       "        \"y\": [\n",
       "            0.29788147\n",
       "        ],\n",
       "        \"type\": \"scatter\"\n",
       "    },\n",
       "    {\n",
       "        \"xaxis\": \"x\",\n",
       "        \"colorbar\": {\n",
       "            \"title\": \"\"\n",
       "        },\n",
       "        \"yaxis\": \"y\",\n",
       "        \"x\": [\n",
       "            5.7033748\n",
       "        ],\n",
       "        \"showlegend\": false,\n",
       "        \"mode\": \"markers\",\n",
       "        \"name\": \"y1\",\n",
       "        \"zmin\": 1.0,\n",
       "        \"legendgroup\": \"y1\",\n",
       "        \"marker\": {\n",
       "            \"symbol\": \"circle\",\n",
       "            \"color\": \"rgba(255, 76, 76, 1.000)\",\n",
       "            \"line\": {\n",
       "                \"color\": \"rgba(0, 0, 0, 1.000)\",\n",
       "                \"width\": 1\n",
       "            },\n",
       "            \"size\": 8\n",
       "        },\n",
       "        \"zmax\": 2.0,\n",
       "        \"y\": [\n",
       "            -1.7201526\n",
       "        ],\n",
       "        \"type\": \"scatter\"\n",
       "    },\n",
       "    {\n",
       "        \"xaxis\": \"x\",\n",
       "        \"colorbar\": {\n",
       "            \"title\": \"\"\n",
       "        },\n",
       "        \"yaxis\": \"y\",\n",
       "        \"x\": [\n",
       "            6.2006682\n",
       "        ],\n",
       "        \"showlegend\": false,\n",
       "        \"mode\": \"markers\",\n",
       "        \"name\": \"y1\",\n",
       "        \"zmin\": 1.0,\n",
       "        \"legendgroup\": \"y1\",\n",
       "        \"marker\": {\n",
       "            \"symbol\": \"circle\",\n",
       "            \"color\": \"rgba(255, 76, 76, 1.000)\",\n",
       "            \"line\": {\n",
       "                \"color\": \"rgba(0, 0, 0, 1.000)\",\n",
       "                \"width\": 1\n",
       "            },\n",
       "            \"size\": 8\n",
       "        },\n",
       "        \"zmax\": 2.0,\n",
       "        \"y\": [\n",
       "            0.41177004\n",
       "        ],\n",
       "        \"type\": \"scatter\"\n",
       "    },\n",
       "    {\n",
       "        \"xaxis\": \"x\",\n",
       "        \"colorbar\": {\n",
       "            \"title\": \"\"\n",
       "        },\n",
       "        \"yaxis\": \"y\",\n",
       "        \"x\": [\n",
       "            6.4710667\n",
       "        ],\n",
       "        \"showlegend\": false,\n",
       "        \"mode\": \"markers\",\n",
       "        \"name\": \"y1\",\n",
       "        \"zmin\": 1.0,\n",
       "        \"legendgroup\": \"y1\",\n",
       "        \"marker\": {\n",
       "            \"symbol\": \"circle\",\n",
       "            \"color\": \"rgba(255, 76, 76, 1.000)\",\n",
       "            \"line\": {\n",
       "                \"color\": \"rgba(0, 0, 0, 1.000)\",\n",
       "                \"width\": 1\n",
       "            },\n",
       "            \"size\": 8\n",
       "        },\n",
       "        \"zmax\": 2.0,\n",
       "        \"y\": [\n",
       "            1.8316981\n",
       "        ],\n",
       "        \"type\": \"scatter\"\n",
       "    },\n",
       "    {\n",
       "        \"xaxis\": \"x\",\n",
       "        \"colorbar\": {\n",
       "            \"title\": \"\"\n",
       "        },\n",
       "        \"yaxis\": \"y\",\n",
       "        \"x\": [\n",
       "            6.150243\n",
       "        ],\n",
       "        \"showlegend\": false,\n",
       "        \"mode\": \"markers\",\n",
       "        \"name\": \"y1\",\n",
       "        \"zmin\": 1.0,\n",
       "        \"legendgroup\": \"y1\",\n",
       "        \"marker\": {\n",
       "            \"symbol\": \"circle\",\n",
       "            \"color\": \"rgba(255, 76, 76, 1.000)\",\n",
       "            \"line\": {\n",
       "                \"color\": \"rgba(0, 0, 0, 1.000)\",\n",
       "                \"width\": 1\n",
       "            },\n",
       "            \"size\": 8\n",
       "        },\n",
       "        \"zmax\": 2.0,\n",
       "        \"y\": [\n",
       "            -4.2090313\n",
       "        ],\n",
       "        \"type\": \"scatter\"\n",
       "    },\n",
       "    {\n",
       "        \"xaxis\": \"x\",\n",
       "        \"colorbar\": {\n",
       "            \"title\": \"\"\n",
       "        },\n",
       "        \"yaxis\": \"y\",\n",
       "        \"x\": [\n",
       "            5.8134647\n",
       "        ],\n",
       "        \"showlegend\": false,\n",
       "        \"mode\": \"markers\",\n",
       "        \"name\": \"y1\",\n",
       "        \"zmin\": 1.0,\n",
       "        \"legendgroup\": \"y1\",\n",
       "        \"marker\": {\n",
       "            \"symbol\": \"circle\",\n",
       "            \"color\": \"rgba(255, 76, 76, 1.000)\",\n",
       "            \"line\": {\n",
       "                \"color\": \"rgba(0, 0, 0, 1.000)\",\n",
       "                \"width\": 1\n",
       "            },\n",
       "            \"size\": 8\n",
       "        },\n",
       "        \"zmax\": 2.0,\n",
       "        \"y\": [\n",
       "            1.0577061\n",
       "        ],\n",
       "        \"type\": \"scatter\"\n",
       "    },\n",
       "    {\n",
       "        \"xaxis\": \"x\",\n",
       "        \"colorbar\": {\n",
       "            \"title\": \"\"\n",
       "        },\n",
       "        \"yaxis\": \"y\",\n",
       "        \"x\": [\n",
       "            6.4077443\n",
       "        ],\n",
       "        \"showlegend\": false,\n",
       "        \"mode\": \"markers\",\n",
       "        \"name\": \"y1\",\n",
       "        \"zmin\": 1.0,\n",
       "        \"legendgroup\": \"y1\",\n",
       "        \"marker\": {\n",
       "            \"symbol\": \"circle\",\n",
       "            \"color\": \"rgba(255, 76, 76, 1.000)\",\n",
       "            \"line\": {\n",
       "                \"color\": \"rgba(0, 0, 0, 1.000)\",\n",
       "                \"width\": 1\n",
       "            },\n",
       "            \"size\": 8\n",
       "        },\n",
       "        \"zmax\": 2.0,\n",
       "        \"y\": [\n",
       "            1.9159356\n",
       "        ],\n",
       "        \"type\": \"scatter\"\n",
       "    },\n",
       "    {\n",
       "        \"xaxis\": \"x\",\n",
       "        \"colorbar\": {\n",
       "            \"title\": \"\"\n",
       "        },\n",
       "        \"yaxis\": \"y\",\n",
       "        \"x\": [\n",
       "            6.3994435\n",
       "        ],\n",
       "        \"showlegend\": false,\n",
       "        \"mode\": \"markers\",\n",
       "        \"name\": \"y1\",\n",
       "        \"zmin\": 1.0,\n",
       "        \"legendgroup\": \"y1\",\n",
       "        \"marker\": {\n",
       "            \"symbol\": \"circle\",\n",
       "            \"color\": \"rgba(255, 76, 76, 1.000)\",\n",
       "            \"line\": {\n",
       "                \"color\": \"rgba(0, 0, 0, 1.000)\",\n",
       "                \"width\": 1\n",
       "            },\n",
       "            \"size\": 8\n",
       "        },\n",
       "        \"zmax\": 2.0,\n",
       "        \"y\": [\n",
       "            -0.90505735\n",
       "        ],\n",
       "        \"type\": \"scatter\"\n",
       "    },\n",
       "    {\n",
       "        \"xaxis\": \"x\",\n",
       "        \"colorbar\": {\n",
       "            \"title\": \"\"\n",
       "        },\n",
       "        \"yaxis\": \"y\",\n",
       "        \"x\": [\n",
       "            6.0601026\n",
       "        ],\n",
       "        \"showlegend\": false,\n",
       "        \"mode\": \"markers\",\n",
       "        \"name\": \"y1\",\n",
       "        \"zmin\": 1.0,\n",
       "        \"legendgroup\": \"y1\",\n",
       "        \"marker\": {\n",
       "            \"symbol\": \"circle\",\n",
       "            \"color\": \"rgba(255, 76, 76, 1.000)\",\n",
       "            \"line\": {\n",
       "                \"color\": \"rgba(0, 0, 0, 1.000)\",\n",
       "                \"width\": 1\n",
       "            },\n",
       "            \"size\": 8\n",
       "        },\n",
       "        \"zmax\": 2.0,\n",
       "        \"y\": [\n",
       "            2.4925134\n",
       "        ],\n",
       "        \"type\": \"scatter\"\n",
       "    },\n",
       "    {\n",
       "        \"xaxis\": \"x\",\n",
       "        \"colorbar\": {\n",
       "            \"title\": \"\"\n",
       "        },\n",
       "        \"yaxis\": \"y\",\n",
       "        \"x\": [\n",
       "            6.2856238\n",
       "        ],\n",
       "        \"showlegend\": false,\n",
       "        \"mode\": \"markers\",\n",
       "        \"name\": \"y1\",\n",
       "        \"zmin\": 1.0,\n",
       "        \"legendgroup\": \"y1\",\n",
       "        \"marker\": {\n",
       "            \"symbol\": \"circle\",\n",
       "            \"color\": \"rgba(255, 76, 76, 1.000)\",\n",
       "            \"line\": {\n",
       "                \"color\": \"rgba(0, 0, 0, 1.000)\",\n",
       "                \"width\": 1\n",
       "            },\n",
       "            \"size\": 8\n",
       "        },\n",
       "        \"zmax\": 2.0,\n",
       "        \"y\": [\n",
       "            -0.68922497\n",
       "        ],\n",
       "        \"type\": \"scatter\"\n",
       "    },\n",
       "    {\n",
       "        \"xaxis\": \"x\",\n",
       "        \"colorbar\": {\n",
       "            \"title\": \"\"\n",
       "        },\n",
       "        \"yaxis\": \"y\",\n",
       "        \"x\": [\n",
       "            6.206398\n",
       "        ],\n",
       "        \"showlegend\": false,\n",
       "        \"mode\": \"markers\",\n",
       "        \"name\": \"y1\",\n",
       "        \"zmin\": 1.0,\n",
       "        \"legendgroup\": \"y1\",\n",
       "        \"marker\": {\n",
       "            \"symbol\": \"circle\",\n",
       "            \"color\": \"rgba(255, 76, 76, 1.000)\",\n",
       "            \"line\": {\n",
       "                \"color\": \"rgba(0, 0, 0, 1.000)\",\n",
       "                \"width\": 1\n",
       "            },\n",
       "            \"size\": 8\n",
       "        },\n",
       "        \"zmax\": 2.0,\n",
       "        \"y\": [\n",
       "            -3.4742394\n",
       "        ],\n",
       "        \"type\": \"scatter\"\n",
       "    },\n",
       "    {\n",
       "        \"xaxis\": \"x\",\n",
       "        \"colorbar\": {\n",
       "            \"title\": \"\"\n",
       "        },\n",
       "        \"yaxis\": \"y\",\n",
       "        \"x\": [\n",
       "            5.5065191\n",
       "        ],\n",
       "        \"showlegend\": false,\n",
       "        \"mode\": \"markers\",\n",
       "        \"name\": \"y1\",\n",
       "        \"zmin\": 1.0,\n",
       "        \"legendgroup\": \"y1\",\n",
       "        \"marker\": {\n",
       "            \"symbol\": \"circle\",\n",
       "            \"color\": \"rgba(255, 76, 76, 1.000)\",\n",
       "            \"line\": {\n",
       "                \"color\": \"rgba(0, 0, 0, 1.000)\",\n",
       "                \"width\": 1\n",
       "            },\n",
       "            \"size\": 8\n",
       "        },\n",
       "        \"zmax\": 2.0,\n",
       "        \"y\": [\n",
       "            -5.3869886\n",
       "        ],\n",
       "        \"type\": \"scatter\"\n",
       "    },\n",
       "    {\n",
       "        \"xaxis\": \"x\",\n",
       "        \"colorbar\": {\n",
       "            \"title\": \"\"\n",
       "        },\n",
       "        \"yaxis\": \"y\",\n",
       "        \"x\": [\n",
       "            6.3797842\n",
       "        ],\n",
       "        \"showlegend\": false,\n",
       "        \"mode\": \"markers\",\n",
       "        \"name\": \"y1\",\n",
       "        \"zmin\": 1.0,\n",
       "        \"legendgroup\": \"y1\",\n",
       "        \"marker\": {\n",
       "            \"symbol\": \"circle\",\n",
       "            \"color\": \"rgba(255, 76, 76, 1.000)\",\n",
       "            \"line\": {\n",
       "                \"color\": \"rgba(0, 0, 0, 1.000)\",\n",
       "                \"width\": 1\n",
       "            },\n",
       "            \"size\": 8\n",
       "        },\n",
       "        \"zmax\": 2.0,\n",
       "        \"y\": [\n",
       "            -1.6668141\n",
       "        ],\n",
       "        \"type\": \"scatter\"\n",
       "    },\n",
       "    {\n",
       "        \"xaxis\": \"x\",\n",
       "        \"colorbar\": {\n",
       "            \"title\": \"\"\n",
       "        },\n",
       "        \"yaxis\": \"y\",\n",
       "        \"x\": [\n",
       "            5.6713994\n",
       "        ],\n",
       "        \"showlegend\": false,\n",
       "        \"mode\": \"markers\",\n",
       "        \"name\": \"y1\",\n",
       "        \"zmin\": 1.0,\n",
       "        \"legendgroup\": \"y1\",\n",
       "        \"marker\": {\n",
       "            \"symbol\": \"circle\",\n",
       "            \"color\": \"rgba(255, 76, 76, 1.000)\",\n",
       "            \"line\": {\n",
       "                \"color\": \"rgba(0, 0, 0, 1.000)\",\n",
       "                \"width\": 1\n",
       "            },\n",
       "            \"size\": 8\n",
       "        },\n",
       "        \"zmax\": 2.0,\n",
       "        \"y\": [\n",
       "            0.42708661\n",
       "        ],\n",
       "        \"type\": \"scatter\"\n",
       "    },\n",
       "    {\n",
       "        \"xaxis\": \"x\",\n",
       "        \"colorbar\": {\n",
       "            \"title\": \"\"\n",
       "        },\n",
       "        \"yaxis\": \"y\",\n",
       "        \"x\": [\n",
       "            5.6980408\n",
       "        ],\n",
       "        \"showlegend\": false,\n",
       "        \"mode\": \"markers\",\n",
       "        \"name\": \"y1\",\n",
       "        \"zmin\": 1.0,\n",
       "        \"legendgroup\": \"y1\",\n",
       "        \"marker\": {\n",
       "            \"symbol\": \"circle\",\n",
       "            \"color\": \"rgba(255, 76, 76, 1.000)\",\n",
       "            \"line\": {\n",
       "                \"color\": \"rgba(0, 0, 0, 1.000)\",\n",
       "                \"width\": 1\n",
       "            },\n",
       "            \"size\": 8\n",
       "        },\n",
       "        \"zmax\": 2.0,\n",
       "        \"y\": [\n",
       "            -0.36518453\n",
       "        ],\n",
       "        \"type\": \"scatter\"\n",
       "    },\n",
       "    {\n",
       "        \"xaxis\": \"x\",\n",
       "        \"colorbar\": {\n",
       "            \"title\": \"\"\n",
       "        },\n",
       "        \"yaxis\": \"y\",\n",
       "        \"x\": [\n",
       "            6.0884734\n",
       "        ],\n",
       "        \"showlegend\": false,\n",
       "        \"mode\": \"markers\",\n",
       "        \"name\": \"y1\",\n",
       "        \"zmin\": 1.0,\n",
       "        \"legendgroup\": \"y1\",\n",
       "        \"marker\": {\n",
       "            \"symbol\": \"circle\",\n",
       "            \"color\": \"rgba(255, 76, 76, 1.000)\",\n",
       "            \"line\": {\n",
       "                \"color\": \"rgba(0, 0, 0, 1.000)\",\n",
       "                \"width\": 1\n",
       "            },\n",
       "            \"size\": 8\n",
       "        },\n",
       "        \"zmax\": 2.0,\n",
       "        \"y\": [\n",
       "            -0.17277922\n",
       "        ],\n",
       "        \"type\": \"scatter\"\n",
       "    },\n",
       "    {\n",
       "        \"xaxis\": \"x\",\n",
       "        \"colorbar\": {\n",
       "            \"title\": \"\"\n",
       "        },\n",
       "        \"yaxis\": \"y\",\n",
       "        \"x\": [\n",
       "            5.8462483\n",
       "        ],\n",
       "        \"showlegend\": false,\n",
       "        \"mode\": \"markers\",\n",
       "        \"name\": \"y1\",\n",
       "        \"zmin\": 1.0,\n",
       "        \"legendgroup\": \"y1\",\n",
       "        \"marker\": {\n",
       "            \"symbol\": \"circle\",\n",
       "            \"color\": \"rgba(255, 76, 76, 1.000)\",\n",
       "            \"line\": {\n",
       "                \"color\": \"rgba(0, 0, 0, 1.000)\",\n",
       "                \"width\": 1\n",
       "            },\n",
       "            \"size\": 8\n",
       "        },\n",
       "        \"zmax\": 2.0,\n",
       "        \"y\": [\n",
       "            -2.1541712\n",
       "        ],\n",
       "        \"type\": \"scatter\"\n",
       "    },\n",
       "    {\n",
       "        \"xaxis\": \"x\",\n",
       "        \"colorbar\": {\n",
       "            \"title\": \"\"\n",
       "        },\n",
       "        \"yaxis\": \"y\",\n",
       "        \"x\": [\n",
       "            5.9340898\n",
       "        ],\n",
       "        \"showlegend\": false,\n",
       "        \"mode\": \"markers\",\n",
       "        \"name\": \"y1\",\n",
       "        \"zmin\": 1.0,\n",
       "        \"legendgroup\": \"y1\",\n",
       "        \"marker\": {\n",
       "            \"symbol\": \"circle\",\n",
       "            \"color\": \"rgba(255, 76, 76, 1.000)\",\n",
       "            \"line\": {\n",
       "                \"color\": \"rgba(0, 0, 0, 1.000)\",\n",
       "                \"width\": 1\n",
       "            },\n",
       "            \"size\": 8\n",
       "        },\n",
       "        \"zmax\": 2.0,\n",
       "        \"y\": [\n",
       "            -0.7119964\n",
       "        ],\n",
       "        \"type\": \"scatter\"\n",
       "    },\n",
       "    {\n",
       "        \"xaxis\": \"x\",\n",
       "        \"colorbar\": {\n",
       "            \"title\": \"\"\n",
       "        },\n",
       "        \"yaxis\": \"y\",\n",
       "        \"x\": [\n",
       "            6.2976788\n",
       "        ],\n",
       "        \"showlegend\": false,\n",
       "        \"mode\": \"markers\",\n",
       "        \"name\": \"y1\",\n",
       "        \"zmin\": 1.0,\n",
       "        \"legendgroup\": \"y1\",\n",
       "        \"marker\": {\n",
       "            \"symbol\": \"circle\",\n",
       "            \"color\": \"rgba(255, 76, 76, 1.000)\",\n",
       "            \"line\": {\n",
       "                \"color\": \"rgba(0, 0, 0, 1.000)\",\n",
       "                \"width\": 1\n",
       "            },\n",
       "            \"size\": 8\n",
       "        },\n",
       "        \"zmax\": 2.0,\n",
       "        \"y\": [\n",
       "            -4.2773315\n",
       "        ],\n",
       "        \"type\": \"scatter\"\n",
       "    },\n",
       "    {\n",
       "        \"xaxis\": \"x\",\n",
       "        \"colorbar\": {\n",
       "            \"title\": \"\"\n",
       "        },\n",
       "        \"yaxis\": \"y\",\n",
       "        \"x\": [\n",
       "            6.5234164\n",
       "        ],\n",
       "        \"showlegend\": false,\n",
       "        \"mode\": \"markers\",\n",
       "        \"name\": \"y1\",\n",
       "        \"zmin\": 1.0,\n",
       "        \"legendgroup\": \"y1\",\n",
       "        \"marker\": {\n",
       "            \"symbol\": \"circle\",\n",
       "            \"color\": \"rgba(255, 76, 76, 1.000)\",\n",
       "            \"line\": {\n",
       "                \"color\": \"rgba(0, 0, 0, 1.000)\",\n",
       "                \"width\": 1\n",
       "            },\n",
       "            \"size\": 8\n",
       "        },\n",
       "        \"zmax\": 2.0,\n",
       "        \"y\": [\n",
       "            -2.52018\n",
       "        ],\n",
       "        \"type\": \"scatter\"\n",
       "    },\n",
       "    {\n",
       "        \"xaxis\": \"x\",\n",
       "        \"colorbar\": {\n",
       "            \"title\": \"\"\n",
       "        },\n",
       "        \"yaxis\": \"y\",\n",
       "        \"x\": [\n",
       "            5.9010207\n",
       "        ],\n",
       "        \"showlegend\": false,\n",
       "        \"mode\": \"markers\",\n",
       "        \"name\": \"y1\",\n",
       "        \"zmin\": 1.0,\n",
       "        \"legendgroup\": \"y1\",\n",
       "        \"marker\": {\n",
       "            \"symbol\": \"circle\",\n",
       "            \"color\": \"rgba(255, 76, 76, 1.000)\",\n",
       "            \"line\": {\n",
       "                \"color\": \"rgba(0, 0, 0, 1.000)\",\n",
       "                \"width\": 1\n",
       "            },\n",
       "            \"size\": 8\n",
       "        },\n",
       "        \"zmax\": 2.0,\n",
       "        \"y\": [\n",
       "            -2.6375862\n",
       "        ],\n",
       "        \"type\": \"scatter\"\n",
       "    },\n",
       "    {\n",
       "        \"xaxis\": \"x\",\n",
       "        \"colorbar\": {\n",
       "            \"title\": \"\"\n",
       "        },\n",
       "        \"yaxis\": \"y\",\n",
       "        \"x\": [\n",
       "            6.1638391\n",
       "        ],\n",
       "        \"showlegend\": false,\n",
       "        \"mode\": \"markers\",\n",
       "        \"name\": \"y1\",\n",
       "        \"zmin\": 1.0,\n",
       "        \"legendgroup\": \"y1\",\n",
       "        \"marker\": {\n",
       "            \"symbol\": \"circle\",\n",
       "            \"color\": \"rgba(255, 76, 76, 1.000)\",\n",
       "            \"line\": {\n",
       "                \"color\": \"rgba(0, 0, 0, 1.000)\",\n",
       "                \"width\": 1\n",
       "            },\n",
       "            \"size\": 8\n",
       "        },\n",
       "        \"zmax\": 2.0,\n",
       "        \"y\": [\n",
       "            0.039457776\n",
       "        ],\n",
       "        \"type\": \"scatter\"\n",
       "    },\n",
       "    {\n",
       "        \"xaxis\": \"x\",\n",
       "        \"colorbar\": {\n",
       "            \"title\": \"\"\n",
       "        },\n",
       "        \"yaxis\": \"y\",\n",
       "        \"x\": [\n",
       "            5.8808492\n",
       "        ],\n",
       "        \"showlegend\": false,\n",
       "        \"mode\": \"markers\",\n",
       "        \"name\": \"y1\",\n",
       "        \"zmin\": 1.0,\n",
       "        \"legendgroup\": \"y1\",\n",
       "        \"marker\": {\n",
       "            \"symbol\": \"circle\",\n",
       "            \"color\": \"rgba(255, 76, 76, 1.000)\",\n",
       "            \"line\": {\n",
       "                \"color\": \"rgba(0, 0, 0, 1.000)\",\n",
       "                \"width\": 1\n",
       "            },\n",
       "            \"size\": 8\n",
       "        },\n",
       "        \"zmax\": 2.0,\n",
       "        \"y\": [\n",
       "            -1.0283201\n",
       "        ],\n",
       "        \"type\": \"scatter\"\n",
       "    },\n",
       "    {\n",
       "        \"xaxis\": \"x\",\n",
       "        \"colorbar\": {\n",
       "            \"title\": \"\"\n",
       "        },\n",
       "        \"yaxis\": \"y\",\n",
       "        \"x\": [\n",
       "            6.1147984\n",
       "        ],\n",
       "        \"showlegend\": false,\n",
       "        \"mode\": \"markers\",\n",
       "        \"name\": \"y1\",\n",
       "        \"zmin\": 1.0,\n",
       "        \"legendgroup\": \"y1\",\n",
       "        \"marker\": {\n",
       "            \"symbol\": \"circle\",\n",
       "            \"color\": \"rgba(255, 76, 76, 1.000)\",\n",
       "            \"line\": {\n",
       "                \"color\": \"rgba(0, 0, 0, 1.000)\",\n",
       "                \"width\": 1\n",
       "            },\n",
       "            \"size\": 8\n",
       "        },\n",
       "        \"zmax\": 2.0,\n",
       "        \"y\": [\n",
       "            -3.3110587\n",
       "        ],\n",
       "        \"type\": \"scatter\"\n",
       "    },\n",
       "    {\n",
       "        \"xaxis\": \"x\",\n",
       "        \"colorbar\": {\n",
       "            \"title\": \"\"\n",
       "        },\n",
       "        \"yaxis\": \"y\",\n",
       "        \"x\": [\n",
       "            6.219999\n",
       "        ],\n",
       "        \"showlegend\": false,\n",
       "        \"mode\": \"markers\",\n",
       "        \"name\": \"y1\",\n",
       "        \"zmin\": 1.0,\n",
       "        \"legendgroup\": \"y1\",\n",
       "        \"marker\": {\n",
       "            \"symbol\": \"circle\",\n",
       "            \"color\": \"rgba(255, 76, 76, 1.000)\",\n",
       "            \"line\": {\n",
       "                \"color\": \"rgba(0, 0, 0, 1.000)\",\n",
       "                \"width\": 1\n",
       "            },\n",
       "            \"size\": 8\n",
       "        },\n",
       "        \"zmax\": 2.0,\n",
       "        \"y\": [\n",
       "            -1.0190498\n",
       "        ],\n",
       "        \"type\": \"scatter\"\n",
       "    },\n",
       "    {\n",
       "        \"xaxis\": \"x\",\n",
       "        \"colorbar\": {\n",
       "            \"title\": \"\"\n",
       "        },\n",
       "        \"yaxis\": \"y\",\n",
       "        \"x\": [\n",
       "            5.691567\n",
       "        ],\n",
       "        \"showlegend\": false,\n",
       "        \"mode\": \"markers\",\n",
       "        \"name\": \"y1\",\n",
       "        \"zmin\": 1.0,\n",
       "        \"legendgroup\": \"y1\",\n",
       "        \"marker\": {\n",
       "            \"symbol\": \"circle\",\n",
       "            \"color\": \"rgba(255, 76, 76, 1.000)\",\n",
       "            \"line\": {\n",
       "                \"color\": \"rgba(0, 0, 0, 1.000)\",\n",
       "                \"width\": 1\n",
       "            },\n",
       "            \"size\": 8\n",
       "        },\n",
       "        \"zmax\": 2.0,\n",
       "        \"y\": [\n",
       "            -2.3796211\n",
       "        ],\n",
       "        \"type\": \"scatter\"\n",
       "    },\n",
       "    {\n",
       "        \"xaxis\": \"x\",\n",
       "        \"colorbar\": {\n",
       "            \"title\": \"\"\n",
       "        },\n",
       "        \"yaxis\": \"y\",\n",
       "        \"x\": [\n",
       "            6.1374184\n",
       "        ],\n",
       "        \"showlegend\": false,\n",
       "        \"mode\": \"markers\",\n",
       "        \"name\": \"y1\",\n",
       "        \"zmin\": 1.0,\n",
       "        \"legendgroup\": \"y1\",\n",
       "        \"marker\": {\n",
       "            \"symbol\": \"circle\",\n",
       "            \"color\": \"rgba(255, 76, 76, 1.000)\",\n",
       "            \"line\": {\n",
       "                \"color\": \"rgba(0, 0, 0, 1.000)\",\n",
       "                \"width\": 1\n",
       "            },\n",
       "            \"size\": 8\n",
       "        },\n",
       "        \"zmax\": 2.0,\n",
       "        \"y\": [\n",
       "            -2.3333983\n",
       "        ],\n",
       "        \"type\": \"scatter\"\n",
       "    },\n",
       "    {\n",
       "        \"xaxis\": \"x\",\n",
       "        \"colorbar\": {\n",
       "            \"title\": \"\"\n",
       "        },\n",
       "        \"yaxis\": \"y\",\n",
       "        \"x\": [\n",
       "            6.300551\n",
       "        ],\n",
       "        \"showlegend\": false,\n",
       "        \"mode\": \"markers\",\n",
       "        \"name\": \"y1\",\n",
       "        \"zmin\": 1.0,\n",
       "        \"legendgroup\": \"y1\",\n",
       "        \"marker\": {\n",
       "            \"symbol\": \"circle\",\n",
       "            \"color\": \"rgba(255, 76, 76, 1.000)\",\n",
       "            \"line\": {\n",
       "                \"color\": \"rgba(0, 0, 0, 1.000)\",\n",
       "                \"width\": 1\n",
       "            },\n",
       "            \"size\": 8\n",
       "        },\n",
       "        \"zmax\": 2.0,\n",
       "        \"y\": [\n",
       "            0.72829884\n",
       "        ],\n",
       "        \"type\": \"scatter\"\n",
       "    },\n",
       "    {\n",
       "        \"xaxis\": \"x\",\n",
       "        \"colorbar\": {\n",
       "            \"title\": \"\"\n",
       "        },\n",
       "        \"yaxis\": \"y\",\n",
       "        \"x\": [\n",
       "            6.046154\n",
       "        ],\n",
       "        \"showlegend\": false,\n",
       "        \"mode\": \"markers\",\n",
       "        \"name\": \"y1\",\n",
       "        \"zmin\": 1.0,\n",
       "        \"legendgroup\": \"y1\",\n",
       "        \"marker\": {\n",
       "            \"symbol\": \"circle\",\n",
       "            \"color\": \"rgba(255, 76, 76, 1.000)\",\n",
       "            \"line\": {\n",
       "                \"color\": \"rgba(0, 0, 0, 1.000)\",\n",
       "                \"width\": 1\n",
       "            },\n",
       "            \"size\": 8\n",
       "        },\n",
       "        \"zmax\": 2.0,\n",
       "        \"y\": [\n",
       "            -0.77316113\n",
       "        ],\n",
       "        \"type\": \"scatter\"\n",
       "    },\n",
       "    {\n",
       "        \"xaxis\": \"x\",\n",
       "        \"colorbar\": {\n",
       "            \"title\": \"\"\n",
       "        },\n",
       "        \"yaxis\": \"y\",\n",
       "        \"x\": [\n",
       "            6.8649207\n",
       "        ],\n",
       "        \"showlegend\": false,\n",
       "        \"mode\": \"markers\",\n",
       "        \"name\": \"y1\",\n",
       "        \"zmin\": 1.0,\n",
       "        \"legendgroup\": \"y1\",\n",
       "        \"marker\": {\n",
       "            \"symbol\": \"circle\",\n",
       "            \"color\": \"rgba(255, 76, 76, 1.000)\",\n",
       "            \"line\": {\n",
       "                \"color\": \"rgba(0, 0, 0, 1.000)\",\n",
       "                \"width\": 1\n",
       "            },\n",
       "            \"size\": 8\n",
       "        },\n",
       "        \"zmax\": 2.0,\n",
       "        \"y\": [\n",
       "            -0.20327431\n",
       "        ],\n",
       "        \"type\": \"scatter\"\n",
       "    },\n",
       "    {\n",
       "        \"xaxis\": \"x\",\n",
       "        \"colorbar\": {\n",
       "            \"title\": \"\"\n",
       "        },\n",
       "        \"yaxis\": \"y\",\n",
       "        \"x\": [\n",
       "            5.6957213\n",
       "        ],\n",
       "        \"showlegend\": false,\n",
       "        \"mode\": \"markers\",\n",
       "        \"name\": \"y1\",\n",
       "        \"zmin\": 1.0,\n",
       "        \"legendgroup\": \"y1\",\n",
       "        \"marker\": {\n",
       "            \"symbol\": \"circle\",\n",
       "            \"color\": \"rgba(255, 76, 76, 1.000)\",\n",
       "            \"line\": {\n",
       "                \"color\": \"rgba(0, 0, 0, 1.000)\",\n",
       "                \"width\": 1\n",
       "            },\n",
       "            \"size\": 8\n",
       "        },\n",
       "        \"zmax\": 2.0,\n",
       "        \"y\": [\n",
       "            0.76793978\n",
       "        ],\n",
       "        \"type\": \"scatter\"\n",
       "    },\n",
       "    {\n",
       "        \"xaxis\": \"x\",\n",
       "        \"colorbar\": {\n",
       "            \"title\": \"\"\n",
       "        },\n",
       "        \"yaxis\": \"y\",\n",
       "        \"x\": [\n",
       "            5.6314701\n",
       "        ],\n",
       "        \"showlegend\": false,\n",
       "        \"mode\": \"markers\",\n",
       "        \"name\": \"y1\",\n",
       "        \"zmin\": 1.0,\n",
       "        \"legendgroup\": \"y1\",\n",
       "        \"marker\": {\n",
       "            \"symbol\": \"circle\",\n",
       "            \"color\": \"rgba(255, 76, 76, 1.000)\",\n",
       "            \"line\": {\n",
       "                \"color\": \"rgba(0, 0, 0, 1.000)\",\n",
       "                \"width\": 1\n",
       "            },\n",
       "            \"size\": 8\n",
       "        },\n",
       "        \"zmax\": 2.0,\n",
       "        \"y\": [\n",
       "            -0.63948461\n",
       "        ],\n",
       "        \"type\": \"scatter\"\n",
       "    },\n",
       "    {\n",
       "        \"xaxis\": \"x\",\n",
       "        \"colorbar\": {\n",
       "            \"title\": \"\"\n",
       "        },\n",
       "        \"yaxis\": \"y\",\n",
       "        \"x\": [\n",
       "            5.1250603\n",
       "        ],\n",
       "        \"showlegend\": false,\n",
       "        \"mode\": \"markers\",\n",
       "        \"name\": \"y1\",\n",
       "        \"zmin\": 1.0,\n",
       "        \"legendgroup\": \"y1\",\n",
       "        \"marker\": {\n",
       "            \"symbol\": \"circle\",\n",
       "            \"color\": \"rgba(255, 76, 76, 1.000)\",\n",
       "            \"line\": {\n",
       "                \"color\": \"rgba(0, 0, 0, 1.000)\",\n",
       "                \"width\": 1\n",
       "            },\n",
       "            \"size\": 8\n",
       "        },\n",
       "        \"zmax\": 2.0,\n",
       "        \"y\": [\n",
       "            0.10170904\n",
       "        ],\n",
       "        \"type\": \"scatter\"\n",
       "    },\n",
       "    {\n",
       "        \"xaxis\": \"x\",\n",
       "        \"colorbar\": {\n",
       "            \"title\": \"\"\n",
       "        },\n",
       "        \"yaxis\": \"y\",\n",
       "        \"x\": [\n",
       "            6.4552413\n",
       "        ],\n",
       "        \"showlegend\": false,\n",
       "        \"mode\": \"markers\",\n",
       "        \"name\": \"y1\",\n",
       "        \"zmin\": 1.0,\n",
       "        \"legendgroup\": \"y1\",\n",
       "        \"marker\": {\n",
       "            \"symbol\": \"circle\",\n",
       "            \"color\": \"rgba(255, 76, 76, 1.000)\",\n",
       "            \"line\": {\n",
       "                \"color\": \"rgba(0, 0, 0, 1.000)\",\n",
       "                \"width\": 1\n",
       "            },\n",
       "            \"size\": 8\n",
       "        },\n",
       "        \"zmax\": 2.0,\n",
       "        \"y\": [\n",
       "            0.36592855\n",
       "        ],\n",
       "        \"type\": \"scatter\"\n",
       "    },\n",
       "    {\n",
       "        \"xaxis\": \"x\",\n",
       "        \"colorbar\": {\n",
       "            \"title\": \"\"\n",
       "        },\n",
       "        \"yaxis\": \"y\",\n",
       "        \"x\": [\n",
       "            6.4335413\n",
       "        ],\n",
       "        \"showlegend\": false,\n",
       "        \"mode\": \"markers\",\n",
       "        \"name\": \"y1\",\n",
       "        \"zmin\": 1.0,\n",
       "        \"legendgroup\": \"y1\",\n",
       "        \"marker\": {\n",
       "            \"symbol\": \"circle\",\n",
       "            \"color\": \"rgba(255, 76, 76, 1.000)\",\n",
       "            \"line\": {\n",
       "                \"color\": \"rgba(0, 0, 0, 1.000)\",\n",
       "                \"width\": 1\n",
       "            },\n",
       "            \"size\": 8\n",
       "        },\n",
       "        \"zmax\": 2.0,\n",
       "        \"y\": [\n",
       "            1.3412173\n",
       "        ],\n",
       "        \"type\": \"scatter\"\n",
       "    },\n",
       "    {\n",
       "        \"xaxis\": \"x\",\n",
       "        \"colorbar\": {\n",
       "            \"title\": \"\"\n",
       "        },\n",
       "        \"yaxis\": \"y\",\n",
       "        \"x\": [\n",
       "            5.9600536\n",
       "        ],\n",
       "        \"showlegend\": false,\n",
       "        \"mode\": \"markers\",\n",
       "        \"name\": \"y1\",\n",
       "        \"zmin\": 1.0,\n",
       "        \"legendgroup\": \"y1\",\n",
       "        \"marker\": {\n",
       "            \"symbol\": \"circle\",\n",
       "            \"color\": \"rgba(255, 76, 76, 1.000)\",\n",
       "            \"line\": {\n",
       "                \"color\": \"rgba(0, 0, 0, 1.000)\",\n",
       "                \"width\": 1\n",
       "            },\n",
       "            \"size\": 8\n",
       "        },\n",
       "        \"zmax\": 2.0,\n",
       "        \"y\": [\n",
       "            -0.048278825\n",
       "        ],\n",
       "        \"type\": \"scatter\"\n",
       "    },\n",
       "    {\n",
       "        \"xaxis\": \"x\",\n",
       "        \"colorbar\": {\n",
       "            \"title\": \"\"\n",
       "        },\n",
       "        \"yaxis\": \"y\",\n",
       "        \"x\": [\n",
       "            6.449238\n",
       "        ],\n",
       "        \"showlegend\": false,\n",
       "        \"mode\": \"markers\",\n",
       "        \"name\": \"y1\",\n",
       "        \"zmin\": 1.0,\n",
       "        \"legendgroup\": \"y1\",\n",
       "        \"marker\": {\n",
       "            \"symbol\": \"circle\",\n",
       "            \"color\": \"rgba(255, 76, 76, 1.000)\",\n",
       "            \"line\": {\n",
       "                \"color\": \"rgba(0, 0, 0, 1.000)\",\n",
       "                \"width\": 1\n",
       "            },\n",
       "            \"size\": 8\n",
       "        },\n",
       "        \"zmax\": 2.0,\n",
       "        \"y\": [\n",
       "            1.8244654\n",
       "        ],\n",
       "        \"type\": \"scatter\"\n",
       "    },\n",
       "    {\n",
       "        \"xaxis\": \"x\",\n",
       "        \"colorbar\": {\n",
       "            \"title\": \"\"\n",
       "        },\n",
       "        \"yaxis\": \"y\",\n",
       "        \"x\": [\n",
       "            6.0918517\n",
       "        ],\n",
       "        \"showlegend\": false,\n",
       "        \"mode\": \"markers\",\n",
       "        \"name\": \"y1\",\n",
       "        \"zmin\": 1.0,\n",
       "        \"legendgroup\": \"y1\",\n",
       "        \"marker\": {\n",
       "            \"symbol\": \"circle\",\n",
       "            \"color\": \"rgba(255, 76, 76, 1.000)\",\n",
       "            \"line\": {\n",
       "                \"color\": \"rgba(0, 0, 0, 1.000)\",\n",
       "                \"width\": 1\n",
       "            },\n",
       "            \"size\": 8\n",
       "        },\n",
       "        \"zmax\": 2.0,\n",
       "        \"y\": [\n",
       "            -0.95478303\n",
       "        ],\n",
       "        \"type\": \"scatter\"\n",
       "    },\n",
       "    {\n",
       "        \"xaxis\": \"x\",\n",
       "        \"colorbar\": {\n",
       "            \"title\": \"\"\n",
       "        },\n",
       "        \"yaxis\": \"y\",\n",
       "        \"x\": [\n",
       "            6.1453951\n",
       "        ],\n",
       "        \"showlegend\": false,\n",
       "        \"mode\": \"markers\",\n",
       "        \"name\": \"y1\",\n",
       "        \"zmin\": 1.0,\n",
       "        \"legendgroup\": \"y1\",\n",
       "        \"marker\": {\n",
       "            \"symbol\": \"circle\",\n",
       "            \"color\": \"rgba(255, 76, 76, 1.000)\",\n",
       "            \"line\": {\n",
       "                \"color\": \"rgba(0, 0, 0, 1.000)\",\n",
       "                \"width\": 1\n",
       "            },\n",
       "            \"size\": 8\n",
       "        },\n",
       "        \"zmax\": 2.0,\n",
       "        \"y\": [\n",
       "            -1.0957388\n",
       "        ],\n",
       "        \"type\": \"scatter\"\n",
       "    },\n",
       "    {\n",
       "        \"xaxis\": \"x\",\n",
       "        \"colorbar\": {\n",
       "            \"title\": \"\"\n",
       "        },\n",
       "        \"yaxis\": \"y\",\n",
       "        \"x\": [\n",
       "            6.0564724\n",
       "        ],\n",
       "        \"showlegend\": false,\n",
       "        \"mode\": \"markers\",\n",
       "        \"name\": \"y1\",\n",
       "        \"zmin\": 1.0,\n",
       "        \"legendgroup\": \"y1\",\n",
       "        \"marker\": {\n",
       "            \"symbol\": \"circle\",\n",
       "            \"color\": \"rgba(255, 76, 76, 1.000)\",\n",
       "            \"line\": {\n",
       "                \"color\": \"rgba(0, 0, 0, 1.000)\",\n",
       "                \"width\": 1\n",
       "            },\n",
       "            \"size\": 8\n",
       "        },\n",
       "        \"zmax\": 2.0,\n",
       "        \"y\": [\n",
       "            2.4026693\n",
       "        ],\n",
       "        \"type\": \"scatter\"\n",
       "    },\n",
       "    {\n",
       "        \"xaxis\": \"x\",\n",
       "        \"colorbar\": {\n",
       "            \"title\": \"\"\n",
       "        },\n",
       "        \"yaxis\": \"y\",\n",
       "        \"x\": [\n",
       "            6.2199761\n",
       "        ],\n",
       "        \"showlegend\": false,\n",
       "        \"mode\": \"markers\",\n",
       "        \"name\": \"y1\",\n",
       "        \"zmin\": 1.0,\n",
       "        \"legendgroup\": \"y1\",\n",
       "        \"marker\": {\n",
       "            \"symbol\": \"circle\",\n",
       "            \"color\": \"rgba(255, 76, 76, 1.000)\",\n",
       "            \"line\": {\n",
       "                \"color\": \"rgba(0, 0, 0, 1.000)\",\n",
       "                \"width\": 1\n",
       "            },\n",
       "            \"size\": 8\n",
       "        },\n",
       "        \"zmax\": 2.0,\n",
       "        \"y\": [\n",
       "            -2.0194234\n",
       "        ],\n",
       "        \"type\": \"scatter\"\n",
       "    },\n",
       "    {\n",
       "        \"xaxis\": \"x\",\n",
       "        \"colorbar\": {\n",
       "            \"title\": \"\"\n",
       "        },\n",
       "        \"yaxis\": \"y\",\n",
       "        \"x\": [\n",
       "            6.0508312\n",
       "        ],\n",
       "        \"showlegend\": false,\n",
       "        \"mode\": \"markers\",\n",
       "        \"name\": \"y1\",\n",
       "        \"zmin\": 1.0,\n",
       "        \"legendgroup\": \"y1\",\n",
       "        \"marker\": {\n",
       "            \"symbol\": \"circle\",\n",
       "            \"color\": \"rgba(255, 76, 76, 1.000)\",\n",
       "            \"line\": {\n",
       "                \"color\": \"rgba(0, 0, 0, 1.000)\",\n",
       "                \"width\": 1\n",
       "            },\n",
       "            \"size\": 8\n",
       "        },\n",
       "        \"zmax\": 2.0,\n",
       "        \"y\": [\n",
       "            -1.0057099\n",
       "        ],\n",
       "        \"type\": \"scatter\"\n",
       "    },\n",
       "    {\n",
       "        \"xaxis\": \"x\",\n",
       "        \"colorbar\": {\n",
       "            \"title\": \"\"\n",
       "        },\n",
       "        \"yaxis\": \"y\",\n",
       "        \"x\": [\n",
       "            7.3936676\n",
       "        ],\n",
       "        \"showlegend\": false,\n",
       "        \"mode\": \"markers\",\n",
       "        \"name\": \"y1\",\n",
       "        \"zmin\": 1.0,\n",
       "        \"legendgroup\": \"y1\",\n",
       "        \"marker\": {\n",
       "            \"symbol\": \"circle\",\n",
       "            \"color\": \"rgba(255, 76, 76, 1.000)\",\n",
       "            \"line\": {\n",
       "                \"color\": \"rgba(0, 0, 0, 1.000)\",\n",
       "                \"width\": 1\n",
       "            },\n",
       "            \"size\": 8\n",
       "        },\n",
       "        \"zmax\": 2.0,\n",
       "        \"y\": [\n",
       "            0.83973416\n",
       "        ],\n",
       "        \"type\": \"scatter\"\n",
       "    },\n",
       "    {\n",
       "        \"xaxis\": \"x\",\n",
       "        \"colorbar\": {\n",
       "            \"title\": \"\"\n",
       "        },\n",
       "        \"yaxis\": \"y\",\n",
       "        \"x\": [\n",
       "            5.4166675\n",
       "        ],\n",
       "        \"showlegend\": false,\n",
       "        \"mode\": \"markers\",\n",
       "        \"name\": \"y1\",\n",
       "        \"zmin\": 1.0,\n",
       "        \"legendgroup\": \"y1\",\n",
       "        \"marker\": {\n",
       "            \"symbol\": \"circle\",\n",
       "            \"color\": \"rgba(255, 76, 76, 1.000)\",\n",
       "            \"line\": {\n",
       "                \"color\": \"rgba(0, 0, 0, 1.000)\",\n",
       "                \"width\": 1\n",
       "            },\n",
       "            \"size\": 8\n",
       "        },\n",
       "        \"zmax\": 2.0,\n",
       "        \"y\": [\n",
       "            -0.70038253\n",
       "        ],\n",
       "        \"type\": \"scatter\"\n",
       "    },\n",
       "    {\n",
       "        \"xaxis\": \"x\",\n",
       "        \"colorbar\": {\n",
       "            \"title\": \"\"\n",
       "        },\n",
       "        \"yaxis\": \"y\",\n",
       "        \"x\": [\n",
       "            5.0728505\n",
       "        ],\n",
       "        \"showlegend\": false,\n",
       "        \"mode\": \"markers\",\n",
       "        \"name\": \"y1\",\n",
       "        \"zmin\": 1.0,\n",
       "        \"legendgroup\": \"y1\",\n",
       "        \"marker\": {\n",
       "            \"symbol\": \"circle\",\n",
       "            \"color\": \"rgba(255, 76, 76, 1.000)\",\n",
       "            \"line\": {\n",
       "                \"color\": \"rgba(0, 0, 0, 1.000)\",\n",
       "                \"width\": 1\n",
       "            },\n",
       "            \"size\": 8\n",
       "        },\n",
       "        \"zmax\": 2.0,\n",
       "        \"y\": [\n",
       "            1.8098669\n",
       "        ],\n",
       "        \"type\": \"scatter\"\n",
       "    },\n",
       "    {\n",
       "        \"xaxis\": \"x\",\n",
       "        \"colorbar\": {\n",
       "            \"title\": \"\"\n",
       "        },\n",
       "        \"yaxis\": \"y\",\n",
       "        \"x\": [\n",
       "            5.4296594\n",
       "        ],\n",
       "        \"showlegend\": false,\n",
       "        \"mode\": \"markers\",\n",
       "        \"name\": \"y1\",\n",
       "        \"zmin\": 1.0,\n",
       "        \"legendgroup\": \"y1\",\n",
       "        \"marker\": {\n",
       "            \"symbol\": \"circle\",\n",
       "            \"color\": \"rgba(255, 76, 76, 1.000)\",\n",
       "            \"line\": {\n",
       "                \"color\": \"rgba(0, 0, 0, 1.000)\",\n",
       "                \"width\": 1\n",
       "            },\n",
       "            \"size\": 8\n",
       "        },\n",
       "        \"zmax\": 2.0,\n",
       "        \"y\": [\n",
       "            1.0682431\n",
       "        ],\n",
       "        \"type\": \"scatter\"\n",
       "    },\n",
       "    {\n",
       "        \"xaxis\": \"x\",\n",
       "        \"colorbar\": {\n",
       "            \"title\": \"\"\n",
       "        },\n",
       "        \"yaxis\": \"y\",\n",
       "        \"x\": [\n",
       "            5.4533283\n",
       "        ],\n",
       "        \"showlegend\": false,\n",
       "        \"mode\": \"markers\",\n",
       "        \"name\": \"y1\",\n",
       "        \"zmin\": 1.0,\n",
       "        \"legendgroup\": \"y1\",\n",
       "        \"marker\": {\n",
       "            \"symbol\": \"circle\",\n",
       "            \"color\": \"rgba(255, 76, 76, 1.000)\",\n",
       "            \"line\": {\n",
       "                \"color\": \"rgba(0, 0, 0, 1.000)\",\n",
       "                \"width\": 1\n",
       "            },\n",
       "            \"size\": 8\n",
       "        },\n",
       "        \"zmax\": 2.0,\n",
       "        \"y\": [\n",
       "            -0.41685942\n",
       "        ],\n",
       "        \"type\": \"scatter\"\n",
       "    },\n",
       "    {\n",
       "        \"xaxis\": \"x\",\n",
       "        \"colorbar\": {\n",
       "            \"title\": \"\"\n",
       "        },\n",
       "        \"yaxis\": \"y\",\n",
       "        \"x\": [\n",
       "            5.7831954\n",
       "        ],\n",
       "        \"showlegend\": false,\n",
       "        \"mode\": \"markers\",\n",
       "        \"name\": \"y1\",\n",
       "        \"zmin\": 1.0,\n",
       "        \"legendgroup\": \"y1\",\n",
       "        \"marker\": {\n",
       "            \"symbol\": \"circle\",\n",
       "            \"color\": \"rgba(255, 76, 76, 1.000)\",\n",
       "            \"line\": {\n",
       "                \"color\": \"rgba(0, 0, 0, 1.000)\",\n",
       "                \"width\": 1\n",
       "            },\n",
       "            \"size\": 8\n",
       "        },\n",
       "        \"zmax\": 2.0,\n",
       "        \"y\": [\n",
       "            -2.5553971\n",
       "        ],\n",
       "        \"type\": \"scatter\"\n",
       "    },\n",
       "    {\n",
       "        \"xaxis\": \"x\",\n",
       "        \"colorbar\": {\n",
       "            \"title\": \"\"\n",
       "        },\n",
       "        \"yaxis\": \"y\",\n",
       "        \"x\": [\n",
       "            5.9157651\n",
       "        ],\n",
       "        \"showlegend\": false,\n",
       "        \"mode\": \"markers\",\n",
       "        \"name\": \"y1\",\n",
       "        \"zmin\": 1.0,\n",
       "        \"legendgroup\": \"y1\",\n",
       "        \"marker\": {\n",
       "            \"symbol\": \"circle\",\n",
       "            \"color\": \"rgba(255, 76, 76, 1.000)\",\n",
       "            \"line\": {\n",
       "                \"color\": \"rgba(0, 0, 0, 1.000)\",\n",
       "                \"width\": 1\n",
       "            },\n",
       "            \"size\": 8\n",
       "        },\n",
       "        \"zmax\": 2.0,\n",
       "        \"y\": [\n",
       "            0.1333922\n",
       "        ],\n",
       "        \"type\": \"scatter\"\n",
       "    },\n",
       "    {\n",
       "        \"xaxis\": \"x\",\n",
       "        \"colorbar\": {\n",
       "            \"title\": \"\"\n",
       "        },\n",
       "        \"yaxis\": \"y\",\n",
       "        \"x\": [\n",
       "            5.8907332\n",
       "        ],\n",
       "        \"showlegend\": false,\n",
       "        \"mode\": \"markers\",\n",
       "        \"name\": \"y1\",\n",
       "        \"zmin\": 1.0,\n",
       "        \"legendgroup\": \"y1\",\n",
       "        \"marker\": {\n",
       "            \"symbol\": \"circle\",\n",
       "            \"color\": \"rgba(255, 76, 76, 1.000)\",\n",
       "            \"line\": {\n",
       "                \"color\": \"rgba(0, 0, 0, 1.000)\",\n",
       "                \"width\": 1\n",
       "            },\n",
       "            \"size\": 8\n",
       "        },\n",
       "        \"zmax\": 2.0,\n",
       "        \"y\": [\n",
       "            -3.7652423\n",
       "        ],\n",
       "        \"type\": \"scatter\"\n",
       "    },\n",
       "    {\n",
       "        \"xaxis\": \"x\",\n",
       "        \"colorbar\": {\n",
       "            \"title\": \"\"\n",
       "        },\n",
       "        \"yaxis\": \"y\",\n",
       "        \"x\": [\n",
       "            6.2706672\n",
       "        ],\n",
       "        \"showlegend\": false,\n",
       "        \"mode\": \"markers\",\n",
       "        \"name\": \"y1\",\n",
       "        \"zmin\": 1.0,\n",
       "        \"legendgroup\": \"y1\",\n",
       "        \"marker\": {\n",
       "            \"symbol\": \"circle\",\n",
       "            \"color\": \"rgba(255, 76, 76, 1.000)\",\n",
       "            \"line\": {\n",
       "                \"color\": \"rgba(0, 0, 0, 1.000)\",\n",
       "                \"width\": 1\n",
       "            },\n",
       "            \"size\": 8\n",
       "        },\n",
       "        \"zmax\": 2.0,\n",
       "        \"y\": [\n",
       "            -0.51105065\n",
       "        ],\n",
       "        \"type\": \"scatter\"\n",
       "    },\n",
       "    {\n",
       "        \"xaxis\": \"x\",\n",
       "        \"colorbar\": {\n",
       "            \"title\": \"\"\n",
       "        },\n",
       "        \"yaxis\": \"y\",\n",
       "        \"x\": [\n",
       "            6.1946331\n",
       "        ],\n",
       "        \"showlegend\": false,\n",
       "        \"mode\": \"markers\",\n",
       "        \"name\": \"y1\",\n",
       "        \"zmin\": 1.0,\n",
       "        \"legendgroup\": \"y1\",\n",
       "        \"marker\": {\n",
       "            \"symbol\": \"circle\",\n",
       "            \"color\": \"rgba(255, 76, 76, 1.000)\",\n",
       "            \"line\": {\n",
       "                \"color\": \"rgba(0, 0, 0, 1.000)\",\n",
       "                \"width\": 1\n",
       "            },\n",
       "            \"size\": 8\n",
       "        },\n",
       "        \"zmax\": 2.0,\n",
       "        \"y\": [\n",
       "            0.61687761\n",
       "        ],\n",
       "        \"type\": \"scatter\"\n",
       "    },\n",
       "    {\n",
       "        \"xaxis\": \"x\",\n",
       "        \"colorbar\": {\n",
       "            \"title\": \"\"\n",
       "        },\n",
       "        \"yaxis\": \"y\",\n",
       "        \"x\": [\n",
       "            -1.1339681\n",
       "        ],\n",
       "        \"showlegend\": false,\n",
       "        \"mode\": \"markers\",\n",
       "        \"name\": \"y1\",\n",
       "        \"zmin\": 1.0,\n",
       "        \"marker\": {\n",
       "            \"color\": [\n",
       "                0.5\n",
       "            ],\n",
       "            \"cmin\": 1.0,\n",
       "            \"opacity\": 1.0e-10,\n",
       "            \"size\": 1.0e-10,\n",
       "            \"colorscale\": [\n",
       "                [\n",
       "                    0.0,\n",
       "                    \"rgba(204, 76, 204, 1.000)\"\n",
       "                ],\n",
       "                [\n",
       "                    0.25,\n",
       "                    \"rgba(76, 76, 255, 1.000)\"\n",
       "                ],\n",
       "                [\n",
       "                    0.5,\n",
       "                    \"rgba(76, 204, 76, 1.000)\"\n",
       "                ],\n",
       "                [\n",
       "                    0.75,\n",
       "                    \"rgba(255, 242, 76, 1.000)\"\n",
       "                ],\n",
       "                [\n",
       "                    1.0,\n",
       "                    \"rgba(255, 76, 76, 1.000)\"\n",
       "                ]\n",
       "            ],\n",
       "            \"cmax\": 2.0,\n",
       "            \"showscale\": false\n",
       "        },\n",
       "        \"zmax\": 2.0,\n",
       "        \"y\": [\n",
       "            2.8831157\n",
       "        ],\n",
       "        \"type\": \"scatter\",\n",
       "        \"hoverinfo\": \"none\"\n",
       "    },\n",
       "    {\n",
       "        \"xaxis\": \"x\",\n",
       "        \"colorbar\": {\n",
       "            \"title\": \"\"\n",
       "        },\n",
       "        \"yaxis\": \"y\",\n",
       "        \"x\": [\n",
       "            -0.22208367537606843,\n",
       "            5.843916497435895\n",
       "        ],\n",
       "        \"showlegend\": true,\n",
       "        \"mode\": \"markers\",\n",
       "        \"name\": \"y2\",\n",
       "        \"zmin\": 1.0,\n",
       "        \"legendgroup\": \"y2\",\n",
       "        \"marker\": {\n",
       "            \"symbol\": \"circle\",\n",
       "            \"color\": \"rgba(0, 0, 0, 1.000)\",\n",
       "            \"line\": {\n",
       "                \"color\": \"rgba(0, 0, 0, 1.000)\",\n",
       "                \"width\": 1\n",
       "            },\n",
       "            \"size\": 20\n",
       "        },\n",
       "        \"zmax\": 2.0,\n",
       "        \"y\": [\n",
       "            3.1636694534939753,\n",
       "            -0.6085490081566267\n",
       "        ],\n",
       "        \"type\": \"scatter\"\n",
       "    }\n",
       "]\n",
       ", {\n",
       "    \"showlegend\": false,\n",
       "    \"xaxis\": {\n",
       "        \"showticklabels\": true,\n",
       "        \"gridwidth\": 0.5,\n",
       "        \"tickvals\": [\n",
       "            -7.5,\n",
       "            -5.0,\n",
       "            -2.5,\n",
       "            0.0,\n",
       "            2.5,\n",
       "            5.0,\n",
       "            7.5\n",
       "        ],\n",
       "        \"range\": [\n",
       "            -8.730002187,\n",
       "            9.326623887\n",
       "        ],\n",
       "        \"domain\": [\n",
       "            0.09128390201224845,\n",
       "            0.9934383202099738\n",
       "        ],\n",
       "        \"mirror\": false,\n",
       "        \"tickangle\": 0,\n",
       "        \"showline\": true,\n",
       "        \"ticktext\": [\n",
       "            \"-7.5\",\n",
       "            \"-5.0\",\n",
       "            \"-2.5\",\n",
       "            \"0.0\",\n",
       "            \"2.5\",\n",
       "            \"5.0\",\n",
       "            \"7.5\"\n",
       "        ],\n",
       "        \"zeroline\": false,\n",
       "        \"tickfont\": {\n",
       "            \"color\": \"rgba(0, 0, 0, 1.000)\",\n",
       "            \"family\": \"sans-serif\",\n",
       "            \"size\": 11\n",
       "        },\n",
       "        \"zerolinecolor\": \"rgba(0, 0, 0, 1.000)\",\n",
       "        \"anchor\": \"y\",\n",
       "        \"visible\": true,\n",
       "        \"ticks\": \"inside\",\n",
       "        \"tickmode\": \"array\",\n",
       "        \"linecolor\": \"rgba(0, 0, 0, 1.000)\",\n",
       "        \"showgrid\": true,\n",
       "        \"title\": \"x values\",\n",
       "        \"gridcolor\": \"rgba(0, 0, 0, 0.100)\",\n",
       "        \"titlefont\": {\n",
       "            \"color\": \"rgba(0, 0, 0, 1.000)\",\n",
       "            \"family\": \"sans-serif\",\n",
       "            \"size\": 15\n",
       "        },\n",
       "        \"tickcolor\": \"rgb(0, 0, 0)\",\n",
       "        \"type\": \"-\"\n",
       "    },\n",
       "    \"paper_bgcolor\": \"rgba(255, 255, 255, 1.000)\",\n",
       "    \"annotations\": [\n",
       "        {\n",
       "            \"yanchor\": \"top\",\n",
       "            \"xanchor\": \"center\",\n",
       "            \"rotation\": -0.0,\n",
       "            \"y\": 1.0,\n",
       "            \"font\": {\n",
       "                \"color\": \"rgba(0, 0, 0, 1.000)\",\n",
       "                \"family\": \"sans-serif\",\n",
       "                \"size\": 20\n",
       "            },\n",
       "            \"yref\": \"paper\",\n",
       "            \"showarrow\": false,\n",
       "            \"text\": \"k-means Clustering\",\n",
       "            \"xref\": \"paper\",\n",
       "            \"x\": 0.5423611111111111\n",
       "        }\n",
       "    ],\n",
       "    \"height\": 400,\n",
       "    \"margin\": {\n",
       "        \"l\": 0,\n",
       "        \"b\": 20,\n",
       "        \"r\": 0,\n",
       "        \"t\": 20\n",
       "    },\n",
       "    \"plot_bgcolor\": \"rgba(255, 255, 255, 1.000)\",\n",
       "    \"yaxis\": {\n",
       "        \"showticklabels\": true,\n",
       "        \"gridwidth\": 0.5,\n",
       "        \"tickvals\": [\n",
       "            -5.0,\n",
       "            -2.5,\n",
       "            0.0,\n",
       "            2.5,\n",
       "            5.0\n",
       "        ],\n",
       "        \"range\": [\n",
       "            -6.023446604,\n",
       "            6.892215404\n",
       "        ],\n",
       "        \"domain\": [\n",
       "            0.07581474190726165,\n",
       "            0.9415463692038496\n",
       "        ],\n",
       "        \"mirror\": false,\n",
       "        \"tickangle\": 0,\n",
       "        \"showline\": true,\n",
       "        \"ticktext\": [\n",
       "            \"-5.0\",\n",
       "            \"-2.5\",\n",
       "            \"0.0\",\n",
       "            \"2.5\",\n",
       "            \"5.0\"\n",
       "        ],\n",
       "        \"zeroline\": false,\n",
       "        \"tickfont\": {\n",
       "            \"color\": \"rgba(0, 0, 0, 1.000)\",\n",
       "            \"family\": \"sans-serif\",\n",
       "            \"size\": 11\n",
       "        },\n",
       "        \"zerolinecolor\": \"rgba(0, 0, 0, 1.000)\",\n",
       "        \"anchor\": \"x\",\n",
       "        \"visible\": true,\n",
       "        \"ticks\": \"inside\",\n",
       "        \"tickmode\": \"array\",\n",
       "        \"linecolor\": \"rgba(0, 0, 0, 1.000)\",\n",
       "        \"showgrid\": true,\n",
       "        \"title\": \"y values\",\n",
       "        \"gridcolor\": \"rgba(0, 0, 0, 0.100)\",\n",
       "        \"titlefont\": {\n",
       "            \"color\": \"rgba(0, 0, 0, 1.000)\",\n",
       "            \"family\": \"sans-serif\",\n",
       "            \"size\": 15\n",
       "        },\n",
       "        \"tickcolor\": \"rgb(0, 0, 0)\",\n",
       "        \"type\": \"-\"\n",
       "    },\n",
       "    \"width\": 600\n",
       "}\n",
       ");\n",
       "\n",
       "    });\n",
       "    </script>\n"
      ]
     },
     "metadata": {},
     "output_type": "display_data"
    }
   ],
   "source": [
    "p2 = scatter(clustdata[2,:],clustdata[1,:], marker_z = clusters.assignments, color = :lightrainbow, legend=false, title=\"k-means Clustering\")\n",
    "scatter!(centers[:,2],centers[:,1],markercolor= :black, markersize = 10)\n",
    "xlabel!(\"x values\")\n",
    "ylabel!(\"y values\")\n",
    "savefig(\"prob2.png\")\n",
    "display(p2)"
   ]
  },
  {
   "cell_type": "markdown",
   "metadata": {},
   "source": [
    "## 3) Clustering and Markov State Models"
   ]
  },
  {
   "cell_type": "code",
   "execution_count": 98,
   "metadata": {},
   "outputs": [
    {
     "data": {
      "text/plain": [
       "10×500001×3 Array{Float64, 3}:\n",
       "[:, :, 1] =\n",
       " -34.7416  -34.7436  -34.7456  -34.7475  …  -45.0737  -45.0716  -45.0695\n",
       " -35.4515  -35.4576  -35.4636  -35.4697     -46.1405  -46.1428  -46.1453\n",
       " -36.0034  -36.0022  -36.001   -35.9997     -47.0515  -47.0512  -47.0508\n",
       " -35.8079  -35.8087  -35.8096  -35.8104     -45.9729  -45.9723  -45.9714\n",
       " -34.9422  -34.9448  -34.9475  -34.9501     -45.981   -45.9795  -45.9779\n",
       " -34.6659  -34.6582  -34.6504  -34.6427  …  -47.0449  -47.0473  -47.0496\n",
       " -34.2428  -34.2455  -34.2481  -34.2508     -46.4067  -46.4045  -46.4025\n",
       " -35.1962  -35.1934  -35.1908  -35.1881     -47.1033  -47.1035  -47.1037\n",
       " -34.4876  -34.4811  -34.4746  -34.4682     -46.1683  -46.1634  -46.1585\n",
       " -34.4024  -34.4064  -34.4105  -34.4146     -45.6626  -45.6593  -45.656\n",
       "\n",
       "[:, :, 2] =\n",
       " -106.491  -106.482  -106.473  -106.464  …  -136.075  -136.077  -136.079\n",
       " -106.831  -106.833  -106.835  -106.838     -134.976  -134.976  -134.975\n",
       " -106.82   -106.826  -106.831  -106.836     -134.27   -134.27   -134.271\n",
       " -106.326  -106.329  -106.333  -106.337     -133.588  -133.584  -133.579\n",
       " -106.541  -106.543  -106.544  -106.546     -132.992  -132.99   -132.989\n",
       " -106.276  -106.275  -106.274  -106.274  …  -133.612  -133.606  -133.599\n",
       " -105.877  -105.876  -105.875  -105.874     -134.284  -134.285  -134.286\n",
       " -106.259  -106.256  -106.252  -106.248     -134.442  -134.443  -134.444\n",
       " -107.107  -107.107  -107.106  -107.105     -134.732  -134.731  -134.729\n",
       " -107.397  -107.399  -107.402  -107.404     -133.845  -133.842  -133.84\n",
       "\n",
       "[:, :, 3] =\n",
       " 90.4004  90.4064  90.4123  90.4182  …  176.471  176.473  176.475  176.477\n",
       " 90.179   90.1838  90.1886  90.1934     176.195  176.194  176.194  176.193\n",
       " 89.4011  89.3998  89.3985  89.3971     176.685  176.683  176.68   176.677\n",
       " 88.7188  88.7133  88.7079  88.7024     177.335  177.339  177.342  177.345\n",
       " 88.7263  88.7219  88.7175  88.7131     177.776  177.781  177.786  177.791\n",
       " 87.8338  87.8394  87.845   87.8507  …  178.046  178.045  178.044  178.044\n",
       " 87.4707  87.4672  87.4637  87.4602     177.808  177.805  177.803  177.8\n",
       " 86.9435  86.9491  86.9547  86.9603     178.689  178.696  178.703  178.71\n",
       " 87.1299  87.1211  87.1123  87.1035     179.391  179.395  179.399  179.403\n",
       " 88.0301  88.0315  88.0329  88.0341     178.646  178.647  178.648  178.65"
      ]
     },
     "execution_count": 98,
     "metadata": {},
     "output_type": "execute_result"
    }
   ],
   "source": [
    "xtraj = readdlm(\"Xvstime.dat\")\n",
    "ytraj = readdlm(\"Yvstime.dat\")\n",
    "ztraj = readdlm(\"Zvstime.dat\")\n",
    "traj = cat(xtraj,ytraj,ztraj, dims=3) #trajectory matrix "
   ]
  },
  {
   "cell_type": "code",
   "execution_count": 99,
   "metadata": {},
   "outputs": [
    {
     "data": {
      "text/plain": [
       "get_internaldistances (generic function with 1 method)"
      ]
     },
     "execution_count": 99,
     "metadata": {},
     "output_type": "execute_result"
    }
   ],
   "source": [
    "function get_internaldistances(traj) #measure internal distances and return feature matrix for clustering \n",
    "    features = Array{Float64}(undef,7,size(traj)[2])\n",
    "    for (i,t) in enumerate(eachslice(traj, dims=2)) #get each internal distance and update feature matrix \n",
    "        features[1,i] = norm(t[1,:]-t[10,:]) \n",
    "        features[2,i] = norm(t[1,:]-t[4,:])\n",
    "        features[3,i] = norm(t[1,:]-t[5,:])\n",
    "        features[4,i] = norm(t[2,:]-t[6,:])\n",
    "        features[5,i] = norm(t[4,:]-t[7,:])\n",
    "        features[6,i] = norm(t[5,:]-t[10,:])\n",
    "        features[7,i] = norm(t[5,:]-t[9,:])\n",
    "    end\n",
    "    return features \n",
    "end"
   ]
  },
  {
   "cell_type": "markdown",
   "metadata": {},
   "source": [
    "### a) Define each structure by vector of 7 internal distances"
   ]
  },
  {
   "cell_type": "code",
   "execution_count": 100,
   "metadata": {},
   "outputs": [
    {
     "data": {
      "text/plain": [
       "7×500001 Matrix{Float64}:\n",
       " 2.56024  2.56817  2.57601  2.58393  2.59188  …  3.16938  3.17205   3.17468\n",
       " 1.99799  2.00604  2.01419  2.02242  2.03073     2.78243  2.78909   2.7958\n",
       " 1.68688  1.69755  1.70828  1.71904  1.72988     3.46962  3.47411   3.47861\n",
       " 2.53469  2.53906  2.54328  2.54769  2.55201     2.47079  2.47411   2.47718\n",
       " 2.05153  2.0499   2.04845  2.04698  2.04539     0.944    0.944072  0.945135\n",
       " 1.22834  1.22489  1.22144  1.21806  1.21458  …  1.25649  1.25389   1.25127\n",
       " 1.75366  1.75945  1.76514  1.77088  1.77662     2.38161  2.38074   2.37986"
      ]
     },
     "execution_count": 100,
     "metadata": {},
     "output_type": "execute_result"
    }
   ],
   "source": [
    "features = get_internaldistances(traj) #internal distances x timesteps matrix "
   ]
  },
  {
   "cell_type": "markdown",
   "metadata": {},
   "source": [
    "### b) k-means clustering -> 7 x 6 matrix of cluster centers (Julia's kmeans algorith is column-wise rather than row-wise)"
   ]
  },
  {
   "cell_type": "code",
   "execution_count": 145,
   "metadata": {},
   "outputs": [
    {
     "data": {
      "text/plain": [
       "7×6 Matrix{Float64}:\n",
       " 1.97807  3.10196  3.2726   4.787    1.88152  3.69951\n",
       " 1.71643  1.71301  2.34365  2.31921  2.03379  1.75439\n",
       " 1.81977  1.77514  2.87895  2.81168  2.42261  1.90579\n",
       " 2.00613  1.86085  2.5985   2.6843   1.89473  1.92745\n",
       " 1.94198  1.78838  1.79827  2.04948  1.68483  1.96883\n",
       " 1.60974  2.27     1.82777  2.77058  2.65857  3.42\n",
       " 1.66893  2.00983  1.83306  2.31235  2.49602  2.92559"
      ]
     },
     "execution_count": 145,
     "metadata": {},
     "output_type": "execute_result"
    }
   ],
   "source": [
    "Random.seed!(1234)\n",
    "stateclusters = kmeans(features, 6) #cluster into 6 clusters \n",
    "stateclusters.centers"
   ]
  },
  {
   "cell_type": "markdown",
   "metadata": {},
   "source": [
    "### c) Calculate transition matrix"
   ]
  },
  {
   "cell_type": "code",
   "execution_count": 146,
   "metadata": {},
   "outputs": [
    {
     "data": {
      "text/plain": [
       "count_trans (generic function with 1 method)"
      ]
     },
     "execution_count": 146,
     "metadata": {},
     "output_type": "execute_result"
    }
   ],
   "source": [
    "function count_trans(clusters; lag=50) #counts frequency of each state, looping through cluster assignments with lag of 50 to preserve markovian behavior \n",
    "    trans_matrix = zeros((6,6))\n",
    "    a_prev = clusters.assignments[1]\n",
    "    for a in clusters.assignments[1:lag:end] #loop through cluster assignments with step size of 50 \n",
    "        trans_matrix[a_prev,a] += 1 #update transition matrix at index [from, to]\n",
    "        a_prev = a \n",
    "    end\n",
    "\n",
    "    for (i,row) in enumerate(eachrow(trans_matrix)) #normalize each row of transition matrix\n",
    "        trans_matrix[i,:] = row./sum(row)\n",
    "    end\n",
    "    return trans_matrix\n",
    "end"
   ]
  },
  {
   "cell_type": "code",
   "execution_count": 147,
   "metadata": {},
   "outputs": [
    {
     "data": {
      "text/plain": [
       "6×6 Matrix{Float64}:\n",
       " 0.850959   0.0580098  0.0325747   0.0         0.058456   0.0\n",
       " 0.0675338  0.789895   0.0530265   0.00850425  0.0310155  0.050025\n",
       " 0.0421649  0.0585274  0.814349    0.0440529   0.0352423  0.00566394\n",
       " 0.0        0.0189702  0.0623306   0.869015    0.0        0.0496838\n",
       " 0.074095   0.0339367  0.0226244   0.0         0.84276    0.0265837\n",
       " 0.0        0.0894372  0.00616808  0.0447186   0.0223593  0.837317"
      ]
     },
     "execution_count": 147,
     "metadata": {},
     "output_type": "execute_result"
    }
   ],
   "source": [
    "trans_matrix = count_trans(stateclusters) #transition matrix where row is previous state, column is future state "
   ]
  },
  {
   "cell_type": "code",
   "execution_count": 148,
   "metadata": {},
   "outputs": [
    {
     "data": {
      "text/plain": [
       "findmaxes (generic function with 1 method)"
      ]
     },
     "execution_count": 148,
     "metadata": {},
     "output_type": "execute_result"
    }
   ],
   "source": [
    "function findmaxes(trans_matrix)\n",
    "    maxprobs = []\n",
    "    for (i,row) in enumerate(eachrow(trans_matrix))\n",
    "        # newrow = row[1:end .!=i] #new row excludes diagonal element \n",
    "        newrow = replace(row, row[i] => 0.0)\n",
    "        push!(maxprobs,\"Most probable transition from $(i): $(findmax(newrow)[2]) with probability $(findmax(newrow)[1])\")\n",
    "    end\n",
    "    return maxprobs\n",
    "end"
   ]
  },
  {
   "cell_type": "markdown",
   "metadata": {},
   "source": [
    "Most probable transitions, excluding self -> self"
   ]
  },
  {
   "cell_type": "code",
   "execution_count": 149,
   "metadata": {},
   "outputs": [
    {
     "data": {
      "text/plain": [
       "6-element Vector{Any}:\n",
       " \"Most probable transition from 1: 5 with probability 0.05845604640785364\"\n",
       " \"Most probable transition from 2: 1 with probability 0.06753376688344172\"\n",
       " \"Most probable transition from 3: 2 with probability 0.05852737570799245\"\n",
       " \"Most probable transition from 4: 3 with probability 0.06233062330623306\"\n",
       " \"Most probable transition from 5: 1 with probability 0.07409502262443439\"\n",
       " \"Most probable transition from 6: 2 with probability 0.08943716268311488\""
      ]
     },
     "execution_count": 149,
     "metadata": {},
     "output_type": "execute_result"
    }
   ],
   "source": [
    "findmaxes(trans_matrix)"
   ]
  },
  {
   "cell_type": "markdown",
   "metadata": {},
   "source": [
    "Why some transitions more probable than others? Structure"
   ]
  },
  {
   "cell_type": "code",
   "execution_count": 151,
   "metadata": {},
   "outputs": [
    {
     "data": {
      "application/vnd.plotly.v1+json": {
       "data": [
        {
         "colorbar": {
          "title": ""
         },
         "legendgroup": "y1",
         "marker": {
          "color": "rgba(0, 0, 0, 1.000)",
          "line": {
           "color": "rgba(0, 0, 0, 1.000)",
           "width": 1
          },
          "size": 8,
          "symbol": "circle"
         },
         "mode": "markers+lines",
         "name": "y1",
         "scene": "scene1",
         "showlegend": true,
         "type": "scatter3d",
         "x": [
          -37.05015,
          -36.861589,
          -35.729276,
          -34.648813,
          -34.767573,
          -34.01229,
          -34.758517,
          -34.495774,
          -35.217257,
          -34.244184
         ],
         "xaxis": "x1",
         "y": [
          -107.0512,
          -106.45073,
          -106.2074,
          -106.24793,
          -107.26918,
          -106.97038,
          -106.39994,
          -106.62652,
          -105.98117,
          -107.01296
         ],
         "yaxis": "y1",
         "z": [
          88.52259,
          89.566338,
          90.043221,
          89.355684,
          89.260618,
          88.601345,
          88.357085,
          87.341401,
          86.626105,
          86.36453
         ],
         "zaxis": "z1",
         "zmax": null,
         "zmin": null
        },
        {
         "colorbar": {
          "title": ""
         },
         "legendgroup": "y1",
         "marker": {
          "color": "rgba(0, 128, 0, 1.000)",
          "line": {
           "color": "rgba(0, 0, 0, 1.000)",
           "width": 1
          },
          "size": 8,
          "symbol": "circle"
         },
         "mode": "markers+lines",
         "name": "y1",
         "scene": "scene2",
         "showlegend": true,
         "type": "scatter3d",
         "x": [
          -36.266231,
          -37.31446,
          -35.835558,
          -35.964953,
          -35.040199,
          -34.936445,
          -34.838173,
          -34.497754,
          -34.468915,
          -33.988595
         ],
         "xaxis": "x2",
         "y": [
          -106.9972,
          -106.56591,
          -107.14488,
          -106.0434,
          -106.47563,
          -107.50792,
          -107.69013,
          -107.15434,
          -106.5674,
          -105.69343
         ],
         "yaxis": "y2",
         "z": [
          87.647703,
          88.101859,
          88.750663,
          89.250535,
          89.432381,
          89.460502,
          88.571845,
          88.200466,
          87.110388,
          87.182626
         ],
         "zaxis": "z2",
         "zmax": null,
         "zmin": null
        },
        {
         "colorbar": {
          "title": ""
         },
         "legendgroup": "y1",
         "marker": {
          "color": "rgba(0, 0, 0, 1.000)",
          "line": {
           "color": "rgba(0, 0, 0, 1.000)",
           "width": 1
          },
          "size": 8,
          "symbol": "circle"
         },
         "mode": "markers+lines",
         "name": "y1",
         "scene": "scene3",
         "showlegend": true,
         "type": "scatter3d",
         "x": [
          -37.05015,
          -36.861589,
          -35.729276,
          -34.648813,
          -34.767573,
          -34.01229,
          -34.758517,
          -34.495774,
          -35.217257,
          -34.244184
         ],
         "xaxis": "x3",
         "y": [
          -107.0512,
          -106.45073,
          -106.2074,
          -106.24793,
          -107.26918,
          -106.97038,
          -106.39994,
          -106.62652,
          -105.98117,
          -107.01296
         ],
         "yaxis": "y3",
         "z": [
          88.52259,
          89.566338,
          90.043221,
          89.355684,
          89.260618,
          88.601345,
          88.357085,
          87.341401,
          86.626105,
          86.36453
         ],
         "zaxis": "z3",
         "zmax": null,
         "zmin": null
        },
        {
         "colorbar": {
          "title": ""
         },
         "legendgroup": "y1",
         "marker": {
          "color": "rgba(255, 0, 0, 1.000)",
          "line": {
           "color": "rgba(0, 0, 0, 1.000)",
           "width": 1
          },
          "size": 8,
          "symbol": "circle"
         },
         "mode": "markers+lines",
         "name": "y1",
         "scene": "scene4",
         "showlegend": true,
         "type": "scatter3d",
         "x": [
          -34.741563,
          -35.45149,
          -36.003446,
          -35.807851,
          -34.942177,
          -34.665865,
          -34.242838,
          -35.196212,
          -34.487647,
          -34.402359
         ],
         "xaxis": "x4",
         "y": [
          -106.49074,
          -106.83073,
          -106.82042,
          -106.32578,
          -106.54109,
          -106.27599,
          -105.87674,
          -106.25935,
          -107.10712,
          -107.39714
         ],
         "yaxis": "y4",
         "z": [
          90.400428,
          90.178986,
          89.401077,
          88.718824,
          88.726272,
          87.833842,
          87.47068,
          86.943475,
          87.129925,
          88.030147
         ],
         "zaxis": "z4",
         "zmax": null,
         "zmin": null
        }
       ],
       "layout": {
        "annotations": [
         {
          "font": {
           "color": "rgba(0, 0, 0, 1.000)",
           "family": "sans-serif",
           "size": 20
          },
          "rotation": 0,
          "showarrow": false,
          "text": "Cluster 6",
          "x": 0.28492063492063496,
          "xanchor": "center",
          "xref": "paper",
          "y": 0.95,
          "yanchor": "top",
          "yref": "paper"
         },
         {
          "font": {
           "color": "rgba(0, 0, 0, 1.000)",
           "family": "sans-serif",
           "size": 20
          },
          "rotation": 0,
          "showarrow": false,
          "text": "Cluster 2",
          "x": 0.7912698412698413,
          "xanchor": "center",
          "xref": "paper",
          "y": 0.95,
          "yanchor": "top",
          "yref": "paper"
         },
         {
          "font": {
           "color": "rgba(0, 0, 0, 1.000)",
           "family": "sans-serif",
           "size": 20
          },
          "rotation": 0,
          "showarrow": false,
          "text": "Cluster 6",
          "x": 0.28492063492063496,
          "xanchor": "center",
          "xref": "paper",
          "y": 0.475,
          "yanchor": "top",
          "yref": "paper"
         },
         {
          "font": {
           "color": "rgba(0, 0, 0, 1.000)",
           "family": "sans-serif",
           "size": 20
          },
          "rotation": 0,
          "showarrow": false,
          "text": "Cluster 1",
          "x": 0.7912698412698413,
          "xanchor": "center",
          "xref": "paper",
          "y": 0.475,
          "yanchor": "top",
          "yref": "paper"
         },
         {
          "font": {
           "color": "rgba(0, 0, 0, 1.000)",
           "family": "sans-serif",
           "size": 22
          },
          "rotation": 0,
          "showarrow": false,
          "text": "Comparison of Cluster 6 to 2/1",
          "x": 0.5380952380952382,
          "xanchor": "center",
          "xref": "paper",
          "y": 1,
          "yanchor": "top",
          "yref": "paper"
         }
        ],
        "height": 600,
        "legend_position": {
         "bgcolor": "rgba(255, 255, 255, 1.000)",
         "bordercolor": "rgba(0, 0, 0, 1.000)",
         "borderwidth": 1,
         "font": {
          "color": "rgba(0, 0, 0, 1.000)",
          "family": "sans-serif",
          "size": 11
         },
         "title": {
          "font": {
           "color": "rgba(0, 0, 0, 1.000)",
           "family": "sans-serif",
           "size": 15
          },
          "text": ""
         },
         "tracegroupgap": 0,
         "traceorder": "normal",
         "x": 1,
         "xanchor": "auto",
         "y": 1,
         "yanchor": "auto"
        },
        "margin": {
         "b": 20,
         "l": 0,
         "r": 0,
         "t": 20
        },
        "paper_bgcolor": "rgba(255, 255, 255, 1.000)",
        "plot_bgcolor": "rgba(255, 255, 255, 1.000)",
        "scene1": {
         "camera": {
          "eye": {
           "x": 1.12583302491977,
           "y": -1.9499999999999997,
           "z": 1.3
          }
         },
         "domain": {
          "x": [
           0.08181477315335582,
           0.4880264966879141
          ],
          "y": [
           0.5000801983085448,
           0.9110309128025664
          ]
         },
         "xaxis1": {
          "gridcolor": "rgba(0, 0, 0, 0.100)",
          "gridwidth": 0.5,
          "linecolor": "rgba(0, 0, 0, 1.000)",
          "mirror": false,
          "range": [
           -37.141285800000006,
           -33.9211542
          ],
          "showgrid": true,
          "showline": true,
          "showticklabels": true,
          "tickangle": 0,
          "tickcolor": "rgb(0, 0, 0)",
          "tickfont": {
           "color": "rgba(0, 0, 0, 1.000)",
           "family": "sans-serif",
           "size": 11
          },
          "tickmode": "array",
          "ticks": "inside",
          "ticktext": [
           "-37",
           "-36",
           "-35",
           "-34"
          ],
          "tickvals": [
           -37,
           -36,
           -35,
           -34
          ],
          "title": "",
          "titlefont": {
           "color": "rgba(0, 0, 0, 1.000)",
           "family": "sans-serif",
           "size": 15
          },
          "type": "-",
          "visible": true,
          "zeroline": false,
          "zerolinecolor": "rgba(0, 0, 0, 1.000)"
         },
         "yaxis1": {
          "gridcolor": "rgba(0, 0, 0, 0.100)",
          "gridwidth": 0.5,
          "linecolor": "rgba(0, 0, 0, 1.000)",
          "mirror": false,
          "range": [
           -107.3078203,
           -105.94252970000001
          ],
          "showgrid": true,
          "showline": true,
          "showticklabels": true,
          "tickangle": 0,
          "tickcolor": "rgb(0, 0, 0)",
          "tickfont": {
           "color": "rgba(0, 0, 0, 1.000)",
           "family": "sans-serif",
           "size": 11
          },
          "tickmode": "array",
          "ticks": "inside",
          "ticktext": [
           "-107.1",
           "-106.8",
           "-106.5",
           "-106.2"
          ],
          "tickvals": [
           -107.10000000000002,
           -106.80000000000001,
           -106.50000000000001,
           -106.20000000000002
          ],
          "title": "",
          "titlefont": {
           "color": "rgba(0, 0, 0, 1.000)",
           "family": "sans-serif",
           "size": 15
          },
          "type": "-",
          "visible": true,
          "zeroline": false,
          "zerolinecolor": "rgba(0, 0, 0, 1.000)"
         },
         "zaxis1": {
          "gridcolor": "rgba(0, 0, 0, 0.100)",
          "gridwidth": 0.5,
          "linecolor": "rgba(0, 0, 0, 1.000)",
          "mirror": false,
          "range": [
           86.25416927,
           90.15358173
          ],
          "showgrid": true,
          "showline": true,
          "showticklabels": true,
          "tickangle": 0,
          "tickcolor": "rgb(0, 0, 0)",
          "tickfont": {
           "color": "rgba(0, 0, 0, 1.000)",
           "family": "sans-serif",
           "size": 11
          },
          "tickmode": "array",
          "ticks": "inside",
          "ticktext": [
           "87",
           "88",
           "89",
           "90"
          ],
          "tickvals": [
           87,
           88,
           89,
           90
          ],
          "title": "",
          "titlefont": {
           "color": "rgba(0, 0, 0, 1.000)",
           "family": "sans-serif",
           "size": 15
          },
          "type": "-",
          "visible": true,
          "zeroline": false,
          "zerolinecolor": "rgba(0, 0, 0, 1.000)"
         }
        },
        "scene2": {
         "camera": {
          "eye": {
           "x": 1.12583302491977,
           "y": -1.9499999999999997,
           "z": 1.3
          }
         },
         "domain": {
          "x": [
           0.5881639795025622,
           0.9943757030371204
          ],
          "y": [
           0.5000801983085448,
           0.9110309128025664
          ]
         },
         "xaxis2": {
          "gridcolor": "rgba(0, 0, 0, 0.100)",
          "gridwidth": 0.5,
          "linecolor": "rgba(0, 0, 0, 1.000)",
          "mirror": false,
          "range": [
           -37.41423595,
           -33.888819049999995
          ],
          "showgrid": true,
          "showline": true,
          "showticklabels": true,
          "tickangle": 0,
          "tickcolor": "rgb(0, 0, 0)",
          "tickfont": {
           "color": "rgba(0, 0, 0, 1.000)",
           "family": "sans-serif",
           "size": 11
          },
          "tickmode": "array",
          "ticks": "inside",
          "ticktext": [
           "-37",
           "-36",
           "-35",
           "-34"
          ],
          "tickvals": [
           -37,
           -36,
           -35,
           -34
          ],
          "title": "",
          "titlefont": {
           "color": "rgba(0, 0, 0, 1.000)",
           "family": "sans-serif",
           "size": 15
          },
          "type": "-",
          "visible": true,
          "zeroline": false,
          "zerolinecolor": "rgba(0, 0, 0, 1.000)"
         },
         "yaxis2": {
          "gridcolor": "rgba(0, 0, 0, 0.100)",
          "gridwidth": 0.5,
          "linecolor": "rgba(0, 0, 0, 1.000)",
          "mirror": false,
          "range": [
           -107.75003099999999,
           -105.63352900000001
          ],
          "showgrid": true,
          "showline": true,
          "showticklabels": true,
          "tickangle": 0,
          "tickcolor": "rgb(0, 0, 0)",
          "tickfont": {
           "color": "rgba(0, 0, 0, 1.000)",
           "family": "sans-serif",
           "size": 11
          },
          "tickmode": "array",
          "ticks": "inside",
          "ticktext": [
           "-107.5",
           "-107.0",
           "-106.5",
           "-106.0"
          ],
          "tickvals": [
           -107.5,
           -107,
           -106.5,
           -106
          ],
          "title": "",
          "titlefont": {
           "color": "rgba(0, 0, 0, 1.000)",
           "family": "sans-serif",
           "size": 15
          },
          "type": "-",
          "visible": true,
          "zeroline": false,
          "zerolinecolor": "rgba(0, 0, 0, 1.000)"
         },
         "zaxis2": {
          "gridcolor": "rgba(0, 0, 0, 0.100)",
          "gridwidth": 0.5,
          "linecolor": "rgba(0, 0, 0, 1.000)",
          "mirror": false,
          "range": [
           87.03988458,
           89.53100542
          ],
          "showgrid": true,
          "showline": true,
          "showticklabels": true,
          "tickangle": 0,
          "tickcolor": "rgb(0, 0, 0)",
          "tickfont": {
           "color": "rgba(0, 0, 0, 1.000)",
           "family": "sans-serif",
           "size": 11
          },
          "tickmode": "array",
          "ticks": "inside",
          "ticktext": [
           "87.5",
           "88.0",
           "88.5",
           "89.0",
           "89.5"
          ],
          "tickvals": [
           87.5,
           88,
           88.5,
           89,
           89.5
          ],
          "title": "",
          "titlefont": {
           "color": "rgba(0, 0, 0, 1.000)",
           "family": "sans-serif",
           "size": 15
          },
          "type": "-",
          "visible": true,
          "zeroline": false,
          "zerolinecolor": "rgba(0, 0, 0, 1.000)"
         }
        },
        "scene3": {
         "camera": {
          "eye": {
           "x": 1.12583302491977,
           "y": -1.9499999999999997,
           "z": 1.3
          }
         },
         "domain": {
          "x": [
           0.08181477315335582,
           0.4880264966879141
          ],
          "y": [
           0.025080198308544768,
           0.43603091280256634
          ]
         },
         "xaxis3": {
          "gridcolor": "rgba(0, 0, 0, 0.100)",
          "gridwidth": 0.5,
          "linecolor": "rgba(0, 0, 0, 1.000)",
          "mirror": false,
          "range": [
           -37.141285800000006,
           -33.9211542
          ],
          "showgrid": true,
          "showline": true,
          "showticklabels": true,
          "tickangle": 0,
          "tickcolor": "rgb(0, 0, 0)",
          "tickfont": {
           "color": "rgba(0, 0, 0, 1.000)",
           "family": "sans-serif",
           "size": 11
          },
          "tickmode": "array",
          "ticks": "inside",
          "ticktext": [
           "-37",
           "-36",
           "-35",
           "-34"
          ],
          "tickvals": [
           -37,
           -36,
           -35,
           -34
          ],
          "title": "",
          "titlefont": {
           "color": "rgba(0, 0, 0, 1.000)",
           "family": "sans-serif",
           "size": 15
          },
          "type": "-",
          "visible": true,
          "zeroline": false,
          "zerolinecolor": "rgba(0, 0, 0, 1.000)"
         },
         "yaxis3": {
          "gridcolor": "rgba(0, 0, 0, 0.100)",
          "gridwidth": 0.5,
          "linecolor": "rgba(0, 0, 0, 1.000)",
          "mirror": false,
          "range": [
           -107.3078203,
           -105.94252970000001
          ],
          "showgrid": true,
          "showline": true,
          "showticklabels": true,
          "tickangle": 0,
          "tickcolor": "rgb(0, 0, 0)",
          "tickfont": {
           "color": "rgba(0, 0, 0, 1.000)",
           "family": "sans-serif",
           "size": 11
          },
          "tickmode": "array",
          "ticks": "inside",
          "ticktext": [
           "-107.1",
           "-106.8",
           "-106.5",
           "-106.2"
          ],
          "tickvals": [
           -107.10000000000002,
           -106.80000000000001,
           -106.50000000000001,
           -106.20000000000002
          ],
          "title": "",
          "titlefont": {
           "color": "rgba(0, 0, 0, 1.000)",
           "family": "sans-serif",
           "size": 15
          },
          "type": "-",
          "visible": true,
          "zeroline": false,
          "zerolinecolor": "rgba(0, 0, 0, 1.000)"
         },
         "zaxis3": {
          "gridcolor": "rgba(0, 0, 0, 0.100)",
          "gridwidth": 0.5,
          "linecolor": "rgba(0, 0, 0, 1.000)",
          "mirror": false,
          "range": [
           86.25416927,
           90.15358173
          ],
          "showgrid": true,
          "showline": true,
          "showticklabels": true,
          "tickangle": 0,
          "tickcolor": "rgb(0, 0, 0)",
          "tickfont": {
           "color": "rgba(0, 0, 0, 1.000)",
           "family": "sans-serif",
           "size": 11
          },
          "tickmode": "array",
          "ticks": "inside",
          "ticktext": [
           "87",
           "88",
           "89",
           "90"
          ],
          "tickvals": [
           87,
           88,
           89,
           90
          ],
          "title": "",
          "titlefont": {
           "color": "rgba(0, 0, 0, 1.000)",
           "family": "sans-serif",
           "size": 15
          },
          "type": "-",
          "visible": true,
          "zeroline": false,
          "zerolinecolor": "rgba(0, 0, 0, 1.000)"
         }
        },
        "scene4": {
         "camera": {
          "eye": {
           "x": 1.12583302491977,
           "y": -1.9499999999999997,
           "z": 1.3
          }
         },
         "domain": {
          "x": [
           0.5881639795025622,
           0.9943757030371204
          ],
          "y": [
           0.025080198308544768,
           0.43603091280256634
          ]
         },
         "xaxis4": {
          "gridcolor": "rgba(0, 0, 0, 0.100)",
          "gridwidth": 0.5,
          "linecolor": "rgba(0, 0, 0, 1.000)",
          "mirror": false,
          "range": [
           -36.05626424,
           -34.19001976
          ],
          "showgrid": true,
          "showline": true,
          "showticklabels": true,
          "tickangle": 0,
          "tickcolor": "rgb(0, 0, 0)",
          "tickfont": {
           "color": "rgba(0, 0, 0, 1.000)",
           "family": "sans-serif",
           "size": 11
          },
          "tickmode": "array",
          "ticks": "inside",
          "ticktext": [
           "-36.0",
           "-35.5",
           "-35.0",
           "-34.5"
          ],
          "tickvals": [
           -36,
           -35.5,
           -35,
           -34.5
          ],
          "title": "",
          "titlefont": {
           "color": "rgba(0, 0, 0, 1.000)",
           "family": "sans-serif",
           "size": 15
          },
          "type": "-",
          "visible": true,
          "zeroline": false,
          "zerolinecolor": "rgba(0, 0, 0, 1.000)"
         },
         "yaxis4": {
          "gridcolor": "rgba(0, 0, 0, 0.100)",
          "gridwidth": 0.5,
          "linecolor": "rgba(0, 0, 0, 1.000)",
          "mirror": false,
          "range": [
           -107.442752,
           -105.83112799999999
          ],
          "showgrid": true,
          "showline": true,
          "showticklabels": true,
          "tickangle": 0,
          "tickcolor": "rgb(0, 0, 0)",
          "tickfont": {
           "color": "rgba(0, 0, 0, 1.000)",
           "family": "sans-serif",
           "size": 11
          },
          "tickmode": "array",
          "ticks": "inside",
          "ticktext": [
           "-107.25",
           "-107.00",
           "-106.75",
           "-106.50",
           "-106.25",
           "-106.00"
          ],
          "tickvals": [
           -107.25,
           -107,
           -106.75,
           -106.5,
           -106.25,
           -106
          ],
          "title": "",
          "titlefont": {
           "color": "rgba(0, 0, 0, 1.000)",
           "family": "sans-serif",
           "size": 15
          },
          "type": "-",
          "visible": true,
          "zeroline": false,
          "zerolinecolor": "rgba(0, 0, 0, 1.000)"
         },
         "zaxis4": {
          "gridcolor": "rgba(0, 0, 0, 0.100)",
          "gridwidth": 0.5,
          "linecolor": "rgba(0, 0, 0, 1.000)",
          "mirror": false,
          "range": [
           86.83976641000001,
           90.50413659
          ],
          "showgrid": true,
          "showline": true,
          "showticklabels": true,
          "tickangle": 0,
          "tickcolor": "rgb(0, 0, 0)",
          "tickfont": {
           "color": "rgba(0, 0, 0, 1.000)",
           "family": "sans-serif",
           "size": 11
          },
          "tickmode": "array",
          "ticks": "inside",
          "ticktext": [
           "87",
           "88",
           "89",
           "90"
          ],
          "tickvals": [
           87,
           88,
           89,
           90
          ],
          "title": "",
          "titlefont": {
           "color": "rgba(0, 0, 0, 1.000)",
           "family": "sans-serif",
           "size": 15
          },
          "type": "-",
          "visible": true,
          "zeroline": false,
          "zerolinecolor": "rgba(0, 0, 0, 1.000)"
         }
        },
        "showlegend": true,
        "width": 700,
        "xaxis5": {
         "anchor": "y5",
         "domain": [
          0.08181477315335582,
          0.9943757030371203
         ],
         "gridcolor": "rgba(0, 0, 0, 0.100)",
         "gridwidth": 0.5,
         "linecolor": "rgba(0, 0, 0, 1.000)",
         "mirror": false,
         "range": [
          0,
          1
         ],
         "showgrid": true,
         "showline": false,
         "showticklabels": true,
         "tickangle": 0,
         "tickcolor": "rgb(0, 0, 0)",
         "tickfont": {
          "color": "rgba(0, 0, 0, 1.000)",
          "family": "sans-serif",
          "size": 11
         },
         "tickmode": "array",
         "ticks": "inside",
         "ticktext": [
          "0.0",
          "0.2",
          "0.4",
          "0.6",
          "0.8",
          "1.0"
         ],
         "tickvals": [
          0,
          0.2,
          0.4,
          0.6000000000000001,
          0.8,
          1
         ],
         "title": "",
         "titlefont": {
          "color": "rgba(0, 0, 0, 1.000)",
          "family": "sans-serif",
          "size": 15
         },
         "type": "-",
         "visible": false,
         "zeroline": false,
         "zerolinecolor": "rgba(0, 0, 0, 1.000)"
        },
        "yaxis5": {
         "anchor": "x5",
         "domain": [
          0.95,
          1
         ],
         "gridcolor": "rgba(0, 0, 0, 0.100)",
         "gridwidth": 0.5,
         "linecolor": "rgba(0, 0, 0, 1.000)",
         "mirror": false,
         "range": [
          0,
          1
         ],
         "showgrid": true,
         "showline": false,
         "showticklabels": true,
         "tickangle": 0,
         "tickcolor": "rgb(0, 0, 0)",
         "tickfont": {
          "color": "rgba(0, 0, 0, 1.000)",
          "family": "sans-serif",
          "size": 11
         },
         "tickmode": "array",
         "ticks": "inside",
         "ticktext": [
          "0.0",
          "0.2",
          "0.4",
          "0.6",
          "0.8",
          "1.0"
         ],
         "tickvals": [
          0,
          0.2,
          0.4,
          0.6000000000000001,
          0.8,
          1
         ],
         "title": "",
         "titlefont": {
          "color": "rgba(0, 0, 0, 1.000)",
          "family": "sans-serif",
          "size": 15
         },
         "type": "-",
         "visible": false,
         "zeroline": false,
         "zerolinecolor": "rgba(0, 0, 0, 1.000)"
        }
       }
      },
      "text/html": [
       "    <div id=\"0218fdc7-d83d-43b2-ad1b-67d5f14d89f0\" style=\"width:700px;height:600px;\"></div>\n",
       "    <script>\n",
       "        requirejs.config({\n",
       "        paths: {\n",
       "            Plotly: 'https://cdn.plot.ly/plotly-2.6.3.min'\n",
       "        }\n",
       "    });\n",
       "    require(['Plotly'], function (Plotly) {\n",
       "\n",
       "        Plotly.newPlot('0218fdc7-d83d-43b2-ad1b-67d5f14d89f0', [\n",
       "    {\n",
       "        \"xaxis\": \"x1\",\n",
       "        \"colorbar\": {\n",
       "            \"title\": \"\"\n",
       "        },\n",
       "        \"yaxis\": \"y1\",\n",
       "        \"zaxis\": \"z1\",\n",
       "        \"x\": [\n",
       "            -37.05015,\n",
       "            -36.861589,\n",
       "            -35.729276,\n",
       "            -34.648813,\n",
       "            -34.767573,\n",
       "            -34.01229,\n",
       "            -34.758517,\n",
       "            -34.495774,\n",
       "            -35.217257,\n",
       "            -34.244184\n",
       "        ],\n",
       "        \"showlegend\": true,\n",
       "        \"mode\": \"markers+lines\",\n",
       "        \"name\": \"y1\",\n",
       "        \"zmin\": null,\n",
       "        \"legendgroup\": \"y1\",\n",
       "        \"z\": [\n",
       "            88.52259,\n",
       "            89.566338,\n",
       "            90.043221,\n",
       "            89.355684,\n",
       "            89.260618,\n",
       "            88.601345,\n",
       "            88.357085,\n",
       "            87.341401,\n",
       "            86.626105,\n",
       "            86.36453\n",
       "        ],\n",
       "        \"marker\": {\n",
       "            \"symbol\": \"circle\",\n",
       "            \"color\": \"rgba(0, 0, 0, 1.000)\",\n",
       "            \"line\": {\n",
       "                \"color\": \"rgba(0, 0, 0, 1.000)\",\n",
       "                \"width\": 1\n",
       "            },\n",
       "            \"size\": 8\n",
       "        },\n",
       "        \"zmax\": null,\n",
       "        \"y\": [\n",
       "            -107.0512,\n",
       "            -106.45073,\n",
       "            -106.2074,\n",
       "            -106.24793,\n",
       "            -107.26918,\n",
       "            -106.97038,\n",
       "            -106.39994,\n",
       "            -106.62652,\n",
       "            -105.98117,\n",
       "            -107.01296\n",
       "        ],\n",
       "        \"type\": \"scatter3d\",\n",
       "        \"scene\": \"scene1\"\n",
       "    },\n",
       "    {\n",
       "        \"xaxis\": \"x2\",\n",
       "        \"colorbar\": {\n",
       "            \"title\": \"\"\n",
       "        },\n",
       "        \"yaxis\": \"y2\",\n",
       "        \"zaxis\": \"z2\",\n",
       "        \"x\": [\n",
       "            -36.266231,\n",
       "            -37.31446,\n",
       "            -35.835558,\n",
       "            -35.964953,\n",
       "            -35.040199,\n",
       "            -34.936445,\n",
       "            -34.838173,\n",
       "            -34.497754,\n",
       "            -34.468915,\n",
       "            -33.988595\n",
       "        ],\n",
       "        \"showlegend\": true,\n",
       "        \"mode\": \"markers+lines\",\n",
       "        \"name\": \"y1\",\n",
       "        \"zmin\": null,\n",
       "        \"legendgroup\": \"y1\",\n",
       "        \"z\": [\n",
       "            87.647703,\n",
       "            88.101859,\n",
       "            88.750663,\n",
       "            89.250535,\n",
       "            89.432381,\n",
       "            89.460502,\n",
       "            88.571845,\n",
       "            88.200466,\n",
       "            87.110388,\n",
       "            87.182626\n",
       "        ],\n",
       "        \"marker\": {\n",
       "            \"symbol\": \"circle\",\n",
       "            \"color\": \"rgba(0, 128, 0, 1.000)\",\n",
       "            \"line\": {\n",
       "                \"color\": \"rgba(0, 0, 0, 1.000)\",\n",
       "                \"width\": 1\n",
       "            },\n",
       "            \"size\": 8\n",
       "        },\n",
       "        \"zmax\": null,\n",
       "        \"y\": [\n",
       "            -106.9972,\n",
       "            -106.56591,\n",
       "            -107.14488,\n",
       "            -106.0434,\n",
       "            -106.47563,\n",
       "            -107.50792,\n",
       "            -107.69013,\n",
       "            -107.15434,\n",
       "            -106.5674,\n",
       "            -105.69343\n",
       "        ],\n",
       "        \"type\": \"scatter3d\",\n",
       "        \"scene\": \"scene2\"\n",
       "    },\n",
       "    {\n",
       "        \"xaxis\": \"x3\",\n",
       "        \"colorbar\": {\n",
       "            \"title\": \"\"\n",
       "        },\n",
       "        \"yaxis\": \"y3\",\n",
       "        \"zaxis\": \"z3\",\n",
       "        \"x\": [\n",
       "            -37.05015,\n",
       "            -36.861589,\n",
       "            -35.729276,\n",
       "            -34.648813,\n",
       "            -34.767573,\n",
       "            -34.01229,\n",
       "            -34.758517,\n",
       "            -34.495774,\n",
       "            -35.217257,\n",
       "            -34.244184\n",
       "        ],\n",
       "        \"showlegend\": true,\n",
       "        \"mode\": \"markers+lines\",\n",
       "        \"name\": \"y1\",\n",
       "        \"zmin\": null,\n",
       "        \"legendgroup\": \"y1\",\n",
       "        \"z\": [\n",
       "            88.52259,\n",
       "            89.566338,\n",
       "            90.043221,\n",
       "            89.355684,\n",
       "            89.260618,\n",
       "            88.601345,\n",
       "            88.357085,\n",
       "            87.341401,\n",
       "            86.626105,\n",
       "            86.36453\n",
       "        ],\n",
       "        \"marker\": {\n",
       "            \"symbol\": \"circle\",\n",
       "            \"color\": \"rgba(0, 0, 0, 1.000)\",\n",
       "            \"line\": {\n",
       "                \"color\": \"rgba(0, 0, 0, 1.000)\",\n",
       "                \"width\": 1\n",
       "            },\n",
       "            \"size\": 8\n",
       "        },\n",
       "        \"zmax\": null,\n",
       "        \"y\": [\n",
       "            -107.0512,\n",
       "            -106.45073,\n",
       "            -106.2074,\n",
       "            -106.24793,\n",
       "            -107.26918,\n",
       "            -106.97038,\n",
       "            -106.39994,\n",
       "            -106.62652,\n",
       "            -105.98117,\n",
       "            -107.01296\n",
       "        ],\n",
       "        \"type\": \"scatter3d\",\n",
       "        \"scene\": \"scene3\"\n",
       "    },\n",
       "    {\n",
       "        \"xaxis\": \"x4\",\n",
       "        \"colorbar\": {\n",
       "            \"title\": \"\"\n",
       "        },\n",
       "        \"yaxis\": \"y4\",\n",
       "        \"zaxis\": \"z4\",\n",
       "        \"x\": [\n",
       "            -34.741563,\n",
       "            -35.45149,\n",
       "            -36.003446,\n",
       "            -35.807851,\n",
       "            -34.942177,\n",
       "            -34.665865,\n",
       "            -34.242838,\n",
       "            -35.196212,\n",
       "            -34.487647,\n",
       "            -34.402359\n",
       "        ],\n",
       "        \"showlegend\": true,\n",
       "        \"mode\": \"markers+lines\",\n",
       "        \"name\": \"y1\",\n",
       "        \"zmin\": null,\n",
       "        \"legendgroup\": \"y1\",\n",
       "        \"z\": [\n",
       "            90.400428,\n",
       "            90.178986,\n",
       "            89.401077,\n",
       "            88.718824,\n",
       "            88.726272,\n",
       "            87.833842,\n",
       "            87.47068,\n",
       "            86.943475,\n",
       "            87.129925,\n",
       "            88.030147\n",
       "        ],\n",
       "        \"marker\": {\n",
       "            \"symbol\": \"circle\",\n",
       "            \"color\": \"rgba(255, 0, 0, 1.000)\",\n",
       "            \"line\": {\n",
       "                \"color\": \"rgba(0, 0, 0, 1.000)\",\n",
       "                \"width\": 1\n",
       "            },\n",
       "            \"size\": 8\n",
       "        },\n",
       "        \"zmax\": null,\n",
       "        \"y\": [\n",
       "            -106.49074,\n",
       "            -106.83073,\n",
       "            -106.82042,\n",
       "            -106.32578,\n",
       "            -106.54109,\n",
       "            -106.27599,\n",
       "            -105.87674,\n",
       "            -106.25935,\n",
       "            -107.10712,\n",
       "            -107.39714\n",
       "        ],\n",
       "        \"type\": \"scatter3d\",\n",
       "        \"scene\": \"scene4\"\n",
       "    }\n",
       "]\n",
       ", {\n",
       "    \"showlegend\": true,\n",
       "    \"paper_bgcolor\": \"rgba(255, 255, 255, 1.000)\",\n",
       "    \"height\": 600,\n",
       "    \"legend_position\": {\n",
       "        \"yanchor\": \"auto\",\n",
       "        \"xanchor\": \"auto\",\n",
       "        \"bordercolor\": \"rgba(0, 0, 0, 1.000)\",\n",
       "        \"bgcolor\": \"rgba(255, 255, 255, 1.000)\",\n",
       "        \"borderwidth\": 1,\n",
       "        \"tracegroupgap\": 0,\n",
       "        \"y\": 1.0,\n",
       "        \"font\": {\n",
       "            \"color\": \"rgba(0, 0, 0, 1.000)\",\n",
       "            \"family\": \"sans-serif\",\n",
       "            \"size\": 11\n",
       "        },\n",
       "        \"title\": {\n",
       "            \"font\": {\n",
       "                \"color\": \"rgba(0, 0, 0, 1.000)\",\n",
       "                \"family\": \"sans-serif\",\n",
       "                \"size\": 15\n",
       "            },\n",
       "            \"text\": \"\"\n",
       "        },\n",
       "        \"traceorder\": \"normal\",\n",
       "        \"x\": 1.0\n",
       "    },\n",
       "    \"scene2\": {\n",
       "        \"camera\": {\n",
       "            \"eye\": {\n",
       "                \"y\": -1.9499999999999997,\n",
       "                \"z\": 1.3,\n",
       "                \"x\": 1.12583302491977\n",
       "            }\n",
       "        },\n",
       "        \"xaxis2\": {\n",
       "            \"tickangle\": 0,\n",
       "            \"showline\": true,\n",
       "            \"gridcolor\": \"rgba(0, 0, 0, 0.100)\",\n",
       "            \"showticklabels\": true,\n",
       "            \"gridwidth\": 0.5,\n",
       "            \"titlefont\": {\n",
       "                \"color\": \"rgba(0, 0, 0, 1.000)\",\n",
       "                \"family\": \"sans-serif\",\n",
       "                \"size\": 15\n",
       "            },\n",
       "            \"visible\": true,\n",
       "            \"ticks\": \"inside\",\n",
       "            \"range\": [\n",
       "                -37.41423595,\n",
       "                -33.888819049999995\n",
       "            ],\n",
       "            \"tickmode\": \"array\",\n",
       "            \"tickvals\": [\n",
       "                -37.0,\n",
       "                -36.0,\n",
       "                -35.0,\n",
       "                -34.0\n",
       "            ],\n",
       "            \"tickcolor\": \"rgb(0, 0, 0)\",\n",
       "            \"ticktext\": [\n",
       "                \"-37\",\n",
       "                \"-36\",\n",
       "                \"-35\",\n",
       "                \"-34\"\n",
       "            ],\n",
       "            \"linecolor\": \"rgba(0, 0, 0, 1.000)\",\n",
       "            \"showgrid\": true,\n",
       "            \"zeroline\": false,\n",
       "            \"type\": \"-\",\n",
       "            \"tickfont\": {\n",
       "                \"color\": \"rgba(0, 0, 0, 1.000)\",\n",
       "                \"family\": \"sans-serif\",\n",
       "                \"size\": 11\n",
       "            },\n",
       "            \"title\": \"\",\n",
       "            \"zerolinecolor\": \"rgba(0, 0, 0, 1.000)\",\n",
       "            \"mirror\": false\n",
       "        },\n",
       "        \"zaxis2\": {\n",
       "            \"tickangle\": 0,\n",
       "            \"showline\": true,\n",
       "            \"gridcolor\": \"rgba(0, 0, 0, 0.100)\",\n",
       "            \"showticklabels\": true,\n",
       "            \"gridwidth\": 0.5,\n",
       "            \"titlefont\": {\n",
       "                \"color\": \"rgba(0, 0, 0, 1.000)\",\n",
       "                \"family\": \"sans-serif\",\n",
       "                \"size\": 15\n",
       "            },\n",
       "            \"visible\": true,\n",
       "            \"ticks\": \"inside\",\n",
       "            \"range\": [\n",
       "                87.03988458,\n",
       "                89.53100542\n",
       "            ],\n",
       "            \"tickmode\": \"array\",\n",
       "            \"tickvals\": [\n",
       "                87.5,\n",
       "                88.0,\n",
       "                88.5,\n",
       "                89.0,\n",
       "                89.5\n",
       "            ],\n",
       "            \"tickcolor\": \"rgb(0, 0, 0)\",\n",
       "            \"ticktext\": [\n",
       "                \"87.5\",\n",
       "                \"88.0\",\n",
       "                \"88.5\",\n",
       "                \"89.0\",\n",
       "                \"89.5\"\n",
       "            ],\n",
       "            \"linecolor\": \"rgba(0, 0, 0, 1.000)\",\n",
       "            \"showgrid\": true,\n",
       "            \"zeroline\": false,\n",
       "            \"type\": \"-\",\n",
       "            \"tickfont\": {\n",
       "                \"color\": \"rgba(0, 0, 0, 1.000)\",\n",
       "                \"family\": \"sans-serif\",\n",
       "                \"size\": 11\n",
       "            },\n",
       "            \"title\": \"\",\n",
       "            \"zerolinecolor\": \"rgba(0, 0, 0, 1.000)\",\n",
       "            \"mirror\": false\n",
       "        },\n",
       "        \"domain\": {\n",
       "            \"y\": [\n",
       "                0.5000801983085448,\n",
       "                0.9110309128025664\n",
       "            ],\n",
       "            \"x\": [\n",
       "                0.5881639795025622,\n",
       "                0.9943757030371204\n",
       "            ]\n",
       "        },\n",
       "        \"yaxis2\": {\n",
       "            \"tickangle\": 0,\n",
       "            \"showline\": true,\n",
       "            \"gridcolor\": \"rgba(0, 0, 0, 0.100)\",\n",
       "            \"showticklabels\": true,\n",
       "            \"gridwidth\": 0.5,\n",
       "            \"titlefont\": {\n",
       "                \"color\": \"rgba(0, 0, 0, 1.000)\",\n",
       "                \"family\": \"sans-serif\",\n",
       "                \"size\": 15\n",
       "            },\n",
       "            \"visible\": true,\n",
       "            \"ticks\": \"inside\",\n",
       "            \"range\": [\n",
       "                -107.75003099999999,\n",
       "                -105.63352900000001\n",
       "            ],\n",
       "            \"tickmode\": \"array\",\n",
       "            \"tickvals\": [\n",
       "                -107.5,\n",
       "                -107.0,\n",
       "                -106.5,\n",
       "                -106.0\n",
       "            ],\n",
       "            \"tickcolor\": \"rgb(0, 0, 0)\",\n",
       "            \"ticktext\": [\n",
       "                \"-107.5\",\n",
       "                \"-107.0\",\n",
       "                \"-106.5\",\n",
       "                \"-106.0\"\n",
       "            ],\n",
       "            \"linecolor\": \"rgba(0, 0, 0, 1.000)\",\n",
       "            \"showgrid\": true,\n",
       "            \"zeroline\": false,\n",
       "            \"type\": \"-\",\n",
       "            \"tickfont\": {\n",
       "                \"color\": \"rgba(0, 0, 0, 1.000)\",\n",
       "                \"family\": \"sans-serif\",\n",
       "                \"size\": 11\n",
       "            },\n",
       "            \"title\": \"\",\n",
       "            \"zerolinecolor\": \"rgba(0, 0, 0, 1.000)\",\n",
       "            \"mirror\": false\n",
       "        }\n",
       "    },\n",
       "    \"scene3\": {\n",
       "        \"zaxis3\": {\n",
       "            \"tickangle\": 0,\n",
       "            \"showline\": true,\n",
       "            \"gridcolor\": \"rgba(0, 0, 0, 0.100)\",\n",
       "            \"showticklabels\": true,\n",
       "            \"gridwidth\": 0.5,\n",
       "            \"titlefont\": {\n",
       "                \"color\": \"rgba(0, 0, 0, 1.000)\",\n",
       "                \"family\": \"sans-serif\",\n",
       "                \"size\": 15\n",
       "            },\n",
       "            \"visible\": true,\n",
       "            \"ticks\": \"inside\",\n",
       "            \"range\": [\n",
       "                86.25416927,\n",
       "                90.15358173\n",
       "            ],\n",
       "            \"tickmode\": \"array\",\n",
       "            \"tickvals\": [\n",
       "                87.0,\n",
       "                88.0,\n",
       "                89.0,\n",
       "                90.0\n",
       "            ],\n",
       "            \"tickcolor\": \"rgb(0, 0, 0)\",\n",
       "            \"ticktext\": [\n",
       "                \"87\",\n",
       "                \"88\",\n",
       "                \"89\",\n",
       "                \"90\"\n",
       "            ],\n",
       "            \"linecolor\": \"rgba(0, 0, 0, 1.000)\",\n",
       "            \"showgrid\": true,\n",
       "            \"zeroline\": false,\n",
       "            \"type\": \"-\",\n",
       "            \"tickfont\": {\n",
       "                \"color\": \"rgba(0, 0, 0, 1.000)\",\n",
       "                \"family\": \"sans-serif\",\n",
       "                \"size\": 11\n",
       "            },\n",
       "            \"title\": \"\",\n",
       "            \"zerolinecolor\": \"rgba(0, 0, 0, 1.000)\",\n",
       "            \"mirror\": false\n",
       "        },\n",
       "        \"camera\": {\n",
       "            \"eye\": {\n",
       "                \"y\": -1.9499999999999997,\n",
       "                \"z\": 1.3,\n",
       "                \"x\": 1.12583302491977\n",
       "            }\n",
       "        },\n",
       "        \"yaxis3\": {\n",
       "            \"tickangle\": 0,\n",
       "            \"showline\": true,\n",
       "            \"gridcolor\": \"rgba(0, 0, 0, 0.100)\",\n",
       "            \"showticklabels\": true,\n",
       "            \"gridwidth\": 0.5,\n",
       "            \"titlefont\": {\n",
       "                \"color\": \"rgba(0, 0, 0, 1.000)\",\n",
       "                \"family\": \"sans-serif\",\n",
       "                \"size\": 15\n",
       "            },\n",
       "            \"visible\": true,\n",
       "            \"ticks\": \"inside\",\n",
       "            \"range\": [\n",
       "                -107.3078203,\n",
       "                -105.94252970000001\n",
       "            ],\n",
       "            \"tickmode\": \"array\",\n",
       "            \"tickvals\": [\n",
       "                -107.10000000000002,\n",
       "                -106.80000000000001,\n",
       "                -106.50000000000001,\n",
       "                -106.20000000000002\n",
       "            ],\n",
       "            \"tickcolor\": \"rgb(0, 0, 0)\",\n",
       "            \"ticktext\": [\n",
       "                \"-107.1\",\n",
       "                \"-106.8\",\n",
       "                \"-106.5\",\n",
       "                \"-106.2\"\n",
       "            ],\n",
       "            \"linecolor\": \"rgba(0, 0, 0, 1.000)\",\n",
       "            \"showgrid\": true,\n",
       "            \"zeroline\": false,\n",
       "            \"type\": \"-\",\n",
       "            \"tickfont\": {\n",
       "                \"color\": \"rgba(0, 0, 0, 1.000)\",\n",
       "                \"family\": \"sans-serif\",\n",
       "                \"size\": 11\n",
       "            },\n",
       "            \"title\": \"\",\n",
       "            \"zerolinecolor\": \"rgba(0, 0, 0, 1.000)\",\n",
       "            \"mirror\": false\n",
       "        },\n",
       "        \"domain\": {\n",
       "            \"y\": [\n",
       "                0.025080198308544768,\n",
       "                0.43603091280256634\n",
       "            ],\n",
       "            \"x\": [\n",
       "                0.08181477315335582,\n",
       "                0.4880264966879141\n",
       "            ]\n",
       "        },\n",
       "        \"xaxis3\": {\n",
       "            \"tickangle\": 0,\n",
       "            \"showline\": true,\n",
       "            \"gridcolor\": \"rgba(0, 0, 0, 0.100)\",\n",
       "            \"showticklabels\": true,\n",
       "            \"gridwidth\": 0.5,\n",
       "            \"titlefont\": {\n",
       "                \"color\": \"rgba(0, 0, 0, 1.000)\",\n",
       "                \"family\": \"sans-serif\",\n",
       "                \"size\": 15\n",
       "            },\n",
       "            \"visible\": true,\n",
       "            \"ticks\": \"inside\",\n",
       "            \"range\": [\n",
       "                -37.141285800000006,\n",
       "                -33.9211542\n",
       "            ],\n",
       "            \"tickmode\": \"array\",\n",
       "            \"tickvals\": [\n",
       "                -37.0,\n",
       "                -36.0,\n",
       "                -35.0,\n",
       "                -34.0\n",
       "            ],\n",
       "            \"tickcolor\": \"rgb(0, 0, 0)\",\n",
       "            \"ticktext\": [\n",
       "                \"-37\",\n",
       "                \"-36\",\n",
       "                \"-35\",\n",
       "                \"-34\"\n",
       "            ],\n",
       "            \"linecolor\": \"rgba(0, 0, 0, 1.000)\",\n",
       "            \"showgrid\": true,\n",
       "            \"zeroline\": false,\n",
       "            \"type\": \"-\",\n",
       "            \"tickfont\": {\n",
       "                \"color\": \"rgba(0, 0, 0, 1.000)\",\n",
       "                \"family\": \"sans-serif\",\n",
       "                \"size\": 11\n",
       "            },\n",
       "            \"title\": \"\",\n",
       "            \"zerolinecolor\": \"rgba(0, 0, 0, 1.000)\",\n",
       "            \"mirror\": false\n",
       "        }\n",
       "    },\n",
       "    \"yaxis5\": {\n",
       "        \"showticklabels\": true,\n",
       "        \"gridwidth\": 0.5,\n",
       "        \"tickvals\": [\n",
       "            0.0,\n",
       "            0.2,\n",
       "            0.4,\n",
       "            0.6000000000000001,\n",
       "            0.8,\n",
       "            1.0\n",
       "        ],\n",
       "        \"range\": [\n",
       "            0.0,\n",
       "            1.0\n",
       "        ],\n",
       "        \"domain\": [\n",
       "            0.95,\n",
       "            1.0\n",
       "        ],\n",
       "        \"mirror\": false,\n",
       "        \"tickangle\": 0,\n",
       "        \"showline\": false,\n",
       "        \"ticktext\": [\n",
       "            \"0.0\",\n",
       "            \"0.2\",\n",
       "            \"0.4\",\n",
       "            \"0.6\",\n",
       "            \"0.8\",\n",
       "            \"1.0\"\n",
       "        ],\n",
       "        \"zeroline\": false,\n",
       "        \"tickfont\": {\n",
       "            \"color\": \"rgba(0, 0, 0, 1.000)\",\n",
       "            \"family\": \"sans-serif\",\n",
       "            \"size\": 11\n",
       "        },\n",
       "        \"zerolinecolor\": \"rgba(0, 0, 0, 1.000)\",\n",
       "        \"anchor\": \"x5\",\n",
       "        \"visible\": false,\n",
       "        \"ticks\": \"inside\",\n",
       "        \"tickmode\": \"array\",\n",
       "        \"linecolor\": \"rgba(0, 0, 0, 1.000)\",\n",
       "        \"showgrid\": true,\n",
       "        \"title\": \"\",\n",
       "        \"gridcolor\": \"rgba(0, 0, 0, 0.100)\",\n",
       "        \"titlefont\": {\n",
       "            \"color\": \"rgba(0, 0, 0, 1.000)\",\n",
       "            \"family\": \"sans-serif\",\n",
       "            \"size\": 15\n",
       "        },\n",
       "        \"tickcolor\": \"rgb(0, 0, 0)\",\n",
       "        \"type\": \"-\"\n",
       "    },\n",
       "    \"scene1\": {\n",
       "        \"camera\": {\n",
       "            \"eye\": {\n",
       "                \"y\": -1.9499999999999997,\n",
       "                \"z\": 1.3,\n",
       "                \"x\": 1.12583302491977\n",
       "            }\n",
       "        },\n",
       "        \"xaxis1\": {\n",
       "            \"tickangle\": 0,\n",
       "            \"showline\": true,\n",
       "            \"gridcolor\": \"rgba(0, 0, 0, 0.100)\",\n",
       "            \"showticklabels\": true,\n",
       "            \"gridwidth\": 0.5,\n",
       "            \"titlefont\": {\n",
       "                \"color\": \"rgba(0, 0, 0, 1.000)\",\n",
       "                \"family\": \"sans-serif\",\n",
       "                \"size\": 15\n",
       "            },\n",
       "            \"visible\": true,\n",
       "            \"ticks\": \"inside\",\n",
       "            \"range\": [\n",
       "                -37.141285800000006,\n",
       "                -33.9211542\n",
       "            ],\n",
       "            \"tickmode\": \"array\",\n",
       "            \"tickvals\": [\n",
       "                -37.0,\n",
       "                -36.0,\n",
       "                -35.0,\n",
       "                -34.0\n",
       "            ],\n",
       "            \"tickcolor\": \"rgb(0, 0, 0)\",\n",
       "            \"ticktext\": [\n",
       "                \"-37\",\n",
       "                \"-36\",\n",
       "                \"-35\",\n",
       "                \"-34\"\n",
       "            ],\n",
       "            \"linecolor\": \"rgba(0, 0, 0, 1.000)\",\n",
       "            \"showgrid\": true,\n",
       "            \"zeroline\": false,\n",
       "            \"type\": \"-\",\n",
       "            \"tickfont\": {\n",
       "                \"color\": \"rgba(0, 0, 0, 1.000)\",\n",
       "                \"family\": \"sans-serif\",\n",
       "                \"size\": 11\n",
       "            },\n",
       "            \"title\": \"\",\n",
       "            \"zerolinecolor\": \"rgba(0, 0, 0, 1.000)\",\n",
       "            \"mirror\": false\n",
       "        },\n",
       "        \"yaxis1\": {\n",
       "            \"tickangle\": 0,\n",
       "            \"showline\": true,\n",
       "            \"gridcolor\": \"rgba(0, 0, 0, 0.100)\",\n",
       "            \"showticklabels\": true,\n",
       "            \"gridwidth\": 0.5,\n",
       "            \"titlefont\": {\n",
       "                \"color\": \"rgba(0, 0, 0, 1.000)\",\n",
       "                \"family\": \"sans-serif\",\n",
       "                \"size\": 15\n",
       "            },\n",
       "            \"visible\": true,\n",
       "            \"ticks\": \"inside\",\n",
       "            \"range\": [\n",
       "                -107.3078203,\n",
       "                -105.94252970000001\n",
       "            ],\n",
       "            \"tickmode\": \"array\",\n",
       "            \"tickvals\": [\n",
       "                -107.10000000000002,\n",
       "                -106.80000000000001,\n",
       "                -106.50000000000001,\n",
       "                -106.20000000000002\n",
       "            ],\n",
       "            \"tickcolor\": \"rgb(0, 0, 0)\",\n",
       "            \"ticktext\": [\n",
       "                \"-107.1\",\n",
       "                \"-106.8\",\n",
       "                \"-106.5\",\n",
       "                \"-106.2\"\n",
       "            ],\n",
       "            \"linecolor\": \"rgba(0, 0, 0, 1.000)\",\n",
       "            \"showgrid\": true,\n",
       "            \"zeroline\": false,\n",
       "            \"type\": \"-\",\n",
       "            \"tickfont\": {\n",
       "                \"color\": \"rgba(0, 0, 0, 1.000)\",\n",
       "                \"family\": \"sans-serif\",\n",
       "                \"size\": 11\n",
       "            },\n",
       "            \"title\": \"\",\n",
       "            \"zerolinecolor\": \"rgba(0, 0, 0, 1.000)\",\n",
       "            \"mirror\": false\n",
       "        },\n",
       "        \"domain\": {\n",
       "            \"y\": [\n",
       "                0.5000801983085448,\n",
       "                0.9110309128025664\n",
       "            ],\n",
       "            \"x\": [\n",
       "                0.08181477315335582,\n",
       "                0.4880264966879141\n",
       "            ]\n",
       "        },\n",
       "        \"zaxis1\": {\n",
       "            \"tickangle\": 0,\n",
       "            \"showline\": true,\n",
       "            \"gridcolor\": \"rgba(0, 0, 0, 0.100)\",\n",
       "            \"showticklabels\": true,\n",
       "            \"gridwidth\": 0.5,\n",
       "            \"titlefont\": {\n",
       "                \"color\": \"rgba(0, 0, 0, 1.000)\",\n",
       "                \"family\": \"sans-serif\",\n",
       "                \"size\": 15\n",
       "            },\n",
       "            \"visible\": true,\n",
       "            \"ticks\": \"inside\",\n",
       "            \"range\": [\n",
       "                86.25416927,\n",
       "                90.15358173\n",
       "            ],\n",
       "            \"tickmode\": \"array\",\n",
       "            \"tickvals\": [\n",
       "                87.0,\n",
       "                88.0,\n",
       "                89.0,\n",
       "                90.0\n",
       "            ],\n",
       "            \"tickcolor\": \"rgb(0, 0, 0)\",\n",
       "            \"ticktext\": [\n",
       "                \"87\",\n",
       "                \"88\",\n",
       "                \"89\",\n",
       "                \"90\"\n",
       "            ],\n",
       "            \"linecolor\": \"rgba(0, 0, 0, 1.000)\",\n",
       "            \"showgrid\": true,\n",
       "            \"zeroline\": false,\n",
       "            \"type\": \"-\",\n",
       "            \"tickfont\": {\n",
       "                \"color\": \"rgba(0, 0, 0, 1.000)\",\n",
       "                \"family\": \"sans-serif\",\n",
       "                \"size\": 11\n",
       "            },\n",
       "            \"title\": \"\",\n",
       "            \"zerolinecolor\": \"rgba(0, 0, 0, 1.000)\",\n",
       "            \"mirror\": false\n",
       "        }\n",
       "    },\n",
       "    \"annotations\": [\n",
       "        {\n",
       "            \"yanchor\": \"top\",\n",
       "            \"xanchor\": \"center\",\n",
       "            \"rotation\": -0.0,\n",
       "            \"y\": 0.95,\n",
       "            \"font\": {\n",
       "                \"color\": \"rgba(0, 0, 0, 1.000)\",\n",
       "                \"family\": \"sans-serif\",\n",
       "                \"size\": 20\n",
       "            },\n",
       "            \"yref\": \"paper\",\n",
       "            \"showarrow\": false,\n",
       "            \"text\": \"Cluster 6\",\n",
       "            \"xref\": \"paper\",\n",
       "            \"x\": 0.28492063492063496\n",
       "        },\n",
       "        {\n",
       "            \"yanchor\": \"top\",\n",
       "            \"xanchor\": \"center\",\n",
       "            \"rotation\": -0.0,\n",
       "            \"y\": 0.95,\n",
       "            \"font\": {\n",
       "                \"color\": \"rgba(0, 0, 0, 1.000)\",\n",
       "                \"family\": \"sans-serif\",\n",
       "                \"size\": 20\n",
       "            },\n",
       "            \"yref\": \"paper\",\n",
       "            \"showarrow\": false,\n",
       "            \"text\": \"Cluster 2\",\n",
       "            \"xref\": \"paper\",\n",
       "            \"x\": 0.7912698412698413\n",
       "        },\n",
       "        {\n",
       "            \"yanchor\": \"top\",\n",
       "            \"xanchor\": \"center\",\n",
       "            \"rotation\": -0.0,\n",
       "            \"y\": 0.475,\n",
       "            \"font\": {\n",
       "                \"color\": \"rgba(0, 0, 0, 1.000)\",\n",
       "                \"family\": \"sans-serif\",\n",
       "                \"size\": 20\n",
       "            },\n",
       "            \"yref\": \"paper\",\n",
       "            \"showarrow\": false,\n",
       "            \"text\": \"Cluster 6\",\n",
       "            \"xref\": \"paper\",\n",
       "            \"x\": 0.28492063492063496\n",
       "        },\n",
       "        {\n",
       "            \"yanchor\": \"top\",\n",
       "            \"xanchor\": \"center\",\n",
       "            \"rotation\": -0.0,\n",
       "            \"y\": 0.475,\n",
       "            \"font\": {\n",
       "                \"color\": \"rgba(0, 0, 0, 1.000)\",\n",
       "                \"family\": \"sans-serif\",\n",
       "                \"size\": 20\n",
       "            },\n",
       "            \"yref\": \"paper\",\n",
       "            \"showarrow\": false,\n",
       "            \"text\": \"Cluster 1\",\n",
       "            \"xref\": \"paper\",\n",
       "            \"x\": 0.7912698412698413\n",
       "        },\n",
       "        {\n",
       "            \"yanchor\": \"top\",\n",
       "            \"xanchor\": \"center\",\n",
       "            \"rotation\": -0.0,\n",
       "            \"y\": 1.0,\n",
       "            \"font\": {\n",
       "                \"color\": \"rgba(0, 0, 0, 1.000)\",\n",
       "                \"family\": \"sans-serif\",\n",
       "                \"size\": 22\n",
       "            },\n",
       "            \"yref\": \"paper\",\n",
       "            \"showarrow\": false,\n",
       "            \"text\": \"Comparison of Cluster 6 to 2/1\",\n",
       "            \"xref\": \"paper\",\n",
       "            \"x\": 0.5380952380952382\n",
       "        }\n",
       "    ],\n",
       "    \"scene4\": {\n",
       "        \"camera\": {\n",
       "            \"eye\": {\n",
       "                \"y\": -1.9499999999999997,\n",
       "                \"z\": 1.3,\n",
       "                \"x\": 1.12583302491977\n",
       "            }\n",
       "        },\n",
       "        \"xaxis4\": {\n",
       "            \"tickangle\": 0,\n",
       "            \"showline\": true,\n",
       "            \"gridcolor\": \"rgba(0, 0, 0, 0.100)\",\n",
       "            \"showticklabels\": true,\n",
       "            \"gridwidth\": 0.5,\n",
       "            \"titlefont\": {\n",
       "                \"color\": \"rgba(0, 0, 0, 1.000)\",\n",
       "                \"family\": \"sans-serif\",\n",
       "                \"size\": 15\n",
       "            },\n",
       "            \"visible\": true,\n",
       "            \"ticks\": \"inside\",\n",
       "            \"range\": [\n",
       "                -36.05626424,\n",
       "                -34.19001976\n",
       "            ],\n",
       "            \"tickmode\": \"array\",\n",
       "            \"tickvals\": [\n",
       "                -36.0,\n",
       "                -35.5,\n",
       "                -35.0,\n",
       "                -34.5\n",
       "            ],\n",
       "            \"tickcolor\": \"rgb(0, 0, 0)\",\n",
       "            \"ticktext\": [\n",
       "                \"-36.0\",\n",
       "                \"-35.5\",\n",
       "                \"-35.0\",\n",
       "                \"-34.5\"\n",
       "            ],\n",
       "            \"linecolor\": \"rgba(0, 0, 0, 1.000)\",\n",
       "            \"showgrid\": true,\n",
       "            \"zeroline\": false,\n",
       "            \"type\": \"-\",\n",
       "            \"tickfont\": {\n",
       "                \"color\": \"rgba(0, 0, 0, 1.000)\",\n",
       "                \"family\": \"sans-serif\",\n",
       "                \"size\": 11\n",
       "            },\n",
       "            \"title\": \"\",\n",
       "            \"zerolinecolor\": \"rgba(0, 0, 0, 1.000)\",\n",
       "            \"mirror\": false\n",
       "        },\n",
       "        \"yaxis4\": {\n",
       "            \"tickangle\": 0,\n",
       "            \"showline\": true,\n",
       "            \"gridcolor\": \"rgba(0, 0, 0, 0.100)\",\n",
       "            \"showticklabels\": true,\n",
       "            \"gridwidth\": 0.5,\n",
       "            \"titlefont\": {\n",
       "                \"color\": \"rgba(0, 0, 0, 1.000)\",\n",
       "                \"family\": \"sans-serif\",\n",
       "                \"size\": 15\n",
       "            },\n",
       "            \"visible\": true,\n",
       "            \"ticks\": \"inside\",\n",
       "            \"range\": [\n",
       "                -107.442752,\n",
       "                -105.83112799999999\n",
       "            ],\n",
       "            \"tickmode\": \"array\",\n",
       "            \"tickvals\": [\n",
       "                -107.25,\n",
       "                -107.0,\n",
       "                -106.75,\n",
       "                -106.5,\n",
       "                -106.25,\n",
       "                -106.0\n",
       "            ],\n",
       "            \"tickcolor\": \"rgb(0, 0, 0)\",\n",
       "            \"ticktext\": [\n",
       "                \"-107.25\",\n",
       "                \"-107.00\",\n",
       "                \"-106.75\",\n",
       "                \"-106.50\",\n",
       "                \"-106.25\",\n",
       "                \"-106.00\"\n",
       "            ],\n",
       "            \"linecolor\": \"rgba(0, 0, 0, 1.000)\",\n",
       "            \"showgrid\": true,\n",
       "            \"zeroline\": false,\n",
       "            \"type\": \"-\",\n",
       "            \"tickfont\": {\n",
       "                \"color\": \"rgba(0, 0, 0, 1.000)\",\n",
       "                \"family\": \"sans-serif\",\n",
       "                \"size\": 11\n",
       "            },\n",
       "            \"title\": \"\",\n",
       "            \"zerolinecolor\": \"rgba(0, 0, 0, 1.000)\",\n",
       "            \"mirror\": false\n",
       "        },\n",
       "        \"zaxis4\": {\n",
       "            \"tickangle\": 0,\n",
       "            \"showline\": true,\n",
       "            \"gridcolor\": \"rgba(0, 0, 0, 0.100)\",\n",
       "            \"showticklabels\": true,\n",
       "            \"gridwidth\": 0.5,\n",
       "            \"titlefont\": {\n",
       "                \"color\": \"rgba(0, 0, 0, 1.000)\",\n",
       "                \"family\": \"sans-serif\",\n",
       "                \"size\": 15\n",
       "            },\n",
       "            \"visible\": true,\n",
       "            \"ticks\": \"inside\",\n",
       "            \"range\": [\n",
       "                86.83976641000001,\n",
       "                90.50413659\n",
       "            ],\n",
       "            \"tickmode\": \"array\",\n",
       "            \"tickvals\": [\n",
       "                87.0,\n",
       "                88.0,\n",
       "                89.0,\n",
       "                90.0\n",
       "            ],\n",
       "            \"tickcolor\": \"rgb(0, 0, 0)\",\n",
       "            \"ticktext\": [\n",
       "                \"87\",\n",
       "                \"88\",\n",
       "                \"89\",\n",
       "                \"90\"\n",
       "            ],\n",
       "            \"linecolor\": \"rgba(0, 0, 0, 1.000)\",\n",
       "            \"showgrid\": true,\n",
       "            \"zeroline\": false,\n",
       "            \"type\": \"-\",\n",
       "            \"tickfont\": {\n",
       "                \"color\": \"rgba(0, 0, 0, 1.000)\",\n",
       "                \"family\": \"sans-serif\",\n",
       "                \"size\": 11\n",
       "            },\n",
       "            \"title\": \"\",\n",
       "            \"zerolinecolor\": \"rgba(0, 0, 0, 1.000)\",\n",
       "            \"mirror\": false\n",
       "        },\n",
       "        \"domain\": {\n",
       "            \"y\": [\n",
       "                0.025080198308544768,\n",
       "                0.43603091280256634\n",
       "            ],\n",
       "            \"x\": [\n",
       "                0.5881639795025622,\n",
       "                0.9943757030371204\n",
       "            ]\n",
       "        }\n",
       "    },\n",
       "    \"plot_bgcolor\": \"rgba(255, 255, 255, 1.000)\",\n",
       "    \"margin\": {\n",
       "        \"l\": 0,\n",
       "        \"b\": 20,\n",
       "        \"r\": 0,\n",
       "        \"t\": 20\n",
       "    },\n",
       "    \"xaxis5\": {\n",
       "        \"showticklabels\": true,\n",
       "        \"gridwidth\": 0.5,\n",
       "        \"tickvals\": [\n",
       "            0.0,\n",
       "            0.2,\n",
       "            0.4,\n",
       "            0.6000000000000001,\n",
       "            0.8,\n",
       "            1.0\n",
       "        ],\n",
       "        \"range\": [\n",
       "            0.0,\n",
       "            1.0\n",
       "        ],\n",
       "        \"domain\": [\n",
       "            0.08181477315335582,\n",
       "            0.9943757030371203\n",
       "        ],\n",
       "        \"mirror\": false,\n",
       "        \"tickangle\": 0,\n",
       "        \"showline\": false,\n",
       "        \"ticktext\": [\n",
       "            \"0.0\",\n",
       "            \"0.2\",\n",
       "            \"0.4\",\n",
       "            \"0.6\",\n",
       "            \"0.8\",\n",
       "            \"1.0\"\n",
       "        ],\n",
       "        \"zeroline\": false,\n",
       "        \"tickfont\": {\n",
       "            \"color\": \"rgba(0, 0, 0, 1.000)\",\n",
       "            \"family\": \"sans-serif\",\n",
       "            \"size\": 11\n",
       "        },\n",
       "        \"zerolinecolor\": \"rgba(0, 0, 0, 1.000)\",\n",
       "        \"anchor\": \"y5\",\n",
       "        \"visible\": false,\n",
       "        \"ticks\": \"inside\",\n",
       "        \"tickmode\": \"array\",\n",
       "        \"linecolor\": \"rgba(0, 0, 0, 1.000)\",\n",
       "        \"showgrid\": true,\n",
       "        \"title\": \"\",\n",
       "        \"gridcolor\": \"rgba(0, 0, 0, 0.100)\",\n",
       "        \"titlefont\": {\n",
       "            \"color\": \"rgba(0, 0, 0, 1.000)\",\n",
       "            \"family\": \"sans-serif\",\n",
       "            \"size\": 15\n",
       "        },\n",
       "        \"tickcolor\": \"rgb(0, 0, 0)\",\n",
       "        \"type\": \"-\"\n",
       "    },\n",
       "    \"width\": 700\n",
       "}\n",
       ");\n",
       "\n",
       "    });\n",
       "    </script>\n"
      ]
     },
     "metadata": {},
     "output_type": "display_data"
    }
   ],
   "source": [
    "clust6idx = findfirst(x->x==6,stateclusters.assignments)\n",
    "clust2idx = findfirst(x->x==2,stateclusters.assignments)\n",
    "clust1idx = findfirst(x->x==1,stateclusters.assignments)\n",
    "\n",
    "c6plot = scatter(traj[:,clust6idx,1],traj[:,clust6idx,2],traj[:,clust6idx,3], mode=\"markers+lines\", title = \"Cluster 6\", color = :black, legend = false)\n",
    "c2plot = scatter(traj[:,clust2idx,1],traj[:,clust2idx,2],traj[:,clust2idx,3], mode=\"markers+lines\", title = \"Cluster 2\", color = :green, legend = false)\n",
    "c1plot = scatter(traj[:,clust1idx,1],traj[:,clust1idx,2],traj[:,clust1idx,3], mode=\"markers+lines\", title = \"Cluster 1\", color = :red, legend = false)\n",
    "\n",
    "l = @layout [a b; a c]\n",
    "p3 = plot(c6plot, c2plot, c6plot, c1plot, layout = l, size = (700,600), plot_title = \"Comparison of Cluster 6 to 2/1\", legend = false)\n",
    "savefig(\"prob3.png\")\n",
    "display(p3)"
   ]
  },
  {
   "cell_type": "code",
   "execution_count": 156,
   "metadata": {},
   "outputs": [
    {
     "name": "stdout",
     "output_type": "stream",
     "text": [
      "Comparing the transition of cluster 6 to 2 (p = 0.08943716268311488 vs 6 to 1 (p = 0.0), as well as between other row extrema from the transition matrix, favored transitions conserve internal distances compared to disfavored transitions\n",
      "This isn't especially clear from the figure, but the quantitative comparison below supports this point better\n"
     ]
    }
   ],
   "source": [
    "println(\"Comparing the transition of cluster 6 to 2 (p = $(trans_matrix[6,2]) vs 6 to 1 (p = $(trans_matrix[6,1])), as well as between other row extrema from the transition matrix, favored transitions conserve internal distances compared to disfavored transitions\")\n",
    "println(\"This isn't especially clear from the figure, but the quantitative comparison below supports this point better\")"
   ]
  },
  {
   "cell_type": "code",
   "execution_count": 157,
   "metadata": {},
   "outputs": [
    {
     "name": "stdout",
     "output_type": "stream",
     "text": [
      "Comparing difference in center coordinates between clusters 6 -> 2 vs. 6 -> 1, the difference in transition probability can be better understood\n"
     ]
    }
   ],
   "source": [
    "println(\"Comparing difference in center coordinates between clusters 6 -> 2 vs. 6 -> 1, the difference in transition probability can be better understood\")"
   ]
  },
  {
   "cell_type": "code",
   "execution_count": 158,
   "metadata": {},
   "outputs": [
    {
     "data": {
      "text/plain": [
       "7-element Vector{Float64}:\n",
       " 0.5975504072146842\n",
       " 0.04137716304367167\n",
       " 0.13065268084126958\n",
       " 0.06659791891805411\n",
       " 0.18045314912402177\n",
       " 1.1500061666566932\n",
       " 0.9157653161242876"
      ]
     },
     "execution_count": 158,
     "metadata": {},
     "output_type": "execute_result"
    }
   ],
   "source": [
    "stateclusters.centers[:,6] - stateclusters.centers[:,2] #6 -> 2. \n",
    "#Only one internal distance larger than 1"
   ]
  },
  {
   "cell_type": "code",
   "execution_count": 159,
   "metadata": {},
   "outputs": [
    {
     "data": {
      "text/plain": [
       "7-element Vector{Float64}:\n",
       "  1.721441811315709\n",
       "  0.03795629130033773\n",
       "  0.08602071195466454\n",
       " -0.07867669327259286\n",
       "  0.02685003571751854\n",
       "  1.8102665864224416\n",
       "  1.2566592253833588"
      ]
     },
     "execution_count": 159,
     "metadata": {},
     "output_type": "execute_result"
    }
   ],
   "source": [
    "stateclusters.centers[:,6] - stateclusters.centers[:,1] #6 -> 1 \n",
    "#Multiple internal distances larger than 1, nearly half in fact "
   ]
  },
  {
   "cell_type": "markdown",
   "metadata": {},
   "source": [
    "### d) Probability of being in each state"
   ]
  },
  {
   "cell_type": "code",
   "execution_count": 160,
   "metadata": {},
   "outputs": [
    {
     "data": {
      "text/plain": [
       "find_steadystate (generic function with 1 method)"
      ]
     },
     "execution_count": 160,
     "metadata": {},
     "output_type": "execute_result"
    }
   ],
   "source": [
    "function find_steadystate(trans_matrix) #function iterates state matrix by transition matrix until convergence \n",
    "    prevstate = [1,0,0,0,0,0] #initial state \n",
    "\n",
    "    while prevstate != vec(prevstate' * trans_matrix) #loop until next state matches previous state \n",
    "        prevstate = vec(prevstate' * trans_matrix) \n",
    "    end\n",
    "\n",
    "    return prevstate\n",
    "end"
   ]
  },
  {
   "cell_type": "code",
   "execution_count": 164,
   "metadata": {},
   "outputs": [
    {
     "name": "stdout",
     "output_type": "stream",
     "text": [
      "Probability of state 1: 0.2234849778779593\n",
      "Probability of state 2: 0.19987056269593056\n",
      "Probability of state 3: 0.15936448137935272\n",
      "Probability of state 4: 0.1108671945627782\n",
      "Probability of state 5: 0.1766750245126744\n",
      "Probability of state 6: 0.12973775897130285\n"
     ]
    }
   ],
   "source": [
    "probs = find_steadystate(trans_matrix)\n",
    "for (i,clust) in enumerate(probs)\n",
    "    println(\"Probability of state $(i): $(clust)\")\n",
    "end"
   ]
  },
  {
   "cell_type": "markdown",
   "metadata": {},
   "source": [
    "### e) Time lag of 100 steps"
   ]
  },
  {
   "cell_type": "code",
   "execution_count": 165,
   "metadata": {},
   "outputs": [
    {
     "data": {
      "text/plain": [
       "6×6 Matrix{Float64}:\n",
       " 0.726465   0.105684   0.0603908  0.0         0.10746    0.0\n",
       " 0.115423   0.634826   0.0915423  0.0218905   0.0517413  0.0845771\n",
       " 0.0901015  0.0951777  0.659898   0.0774112   0.0609137  0.0164975\n",
       " 0.0        0.0448029  0.105735   0.756272    0.0        0.09319\n",
       " 0.133183   0.0541761  0.0428894  0.00225734  0.716704   0.0507901\n",
       " 0.0031348  0.15674    0.0188088  0.0799373   0.0470219  0.694357"
      ]
     },
     "execution_count": 165,
     "metadata": {},
     "output_type": "execute_result"
    }
   ],
   "source": [
    "#Transition matrix using a time lag of 100 steps\n",
    "count_trans(stateclusters; lag=100)"
   ]
  },
  {
   "cell_type": "code",
   "execution_count": 166,
   "metadata": {},
   "outputs": [
    {
     "data": {
      "text/plain": [
       "6×6 Matrix{Float64}:\n",
       " 0.733754    0.099076   0.0586456  0.00192834  0.101955    0.00464042\n",
       " 0.115347    0.636643   0.0888077  0.0186808   0.0575727   0.0829487\n",
       " 0.0767814   0.0988764  0.671219   0.074908    0.062807    0.0154084\n",
       " 0.00390929  0.0395615  0.106238   0.760317    0.00389594  0.0860791\n",
       " 0.128742    0.0634068  0.0418683  0.00247406  0.71702     0.0464885\n",
       " 0.00795682  0.147501   0.0182233  0.0773371   0.0405566   0.708425"
      ]
     },
     "execution_count": 166,
     "metadata": {},
     "output_type": "execute_result"
    }
   ],
   "source": [
    "#Squared transition matrix using time lag of 50 steps \n",
    "count_trans(stateclusters; lag=50)^2"
   ]
  },
  {
   "cell_type": "code",
   "execution_count": 167,
   "metadata": {},
   "outputs": [
    {
     "name": "stdout",
     "output_type": "stream",
     "text": [
      "Pretty close to perfectly markovian but not exact past two decimal places\n"
     ]
    }
   ],
   "source": [
    "println(\"Pretty close to perfectly markovian but not exact past two decimal places\")"
   ]
  },
  {
   "cell_type": "markdown",
   "metadata": {},
   "source": [
    "## 4) Local Optimization using Steepest Descent"
   ]
  },
  {
   "cell_type": "code",
   "execution_count": 168,
   "metadata": {},
   "outputs": [
    {
     "data": {
      "text/plain": [
       "loadbeads (generic function with 1 method)"
      ]
     },
     "execution_count": 168,
     "metadata": {},
     "output_type": "execute_result"
    }
   ],
   "source": [
    "function loadbeads() #load protein coordinate data into matrix R, with species (H,P) into seq vector \n",
    "    oneseq = readdlm(\"onesequence_-22.79.dat\")\n",
    "    R = oneseq[2:end,2:end]\n",
    "    seq = oneseq[2:end,1]\n",
    "    return R, seq \n",
    "end"
   ]
  },
  {
   "cell_type": "code",
   "execution_count": 169,
   "metadata": {},
   "outputs": [
    {
     "data": {
      "text/plain": [
       "calc_LJ (generic function with 1 method)"
      ]
     },
     "execution_count": 169,
     "metadata": {},
     "output_type": "execute_result"
    }
   ],
   "source": [
    "function calc_LJ(r, epsilon; sigma = 1) # calculate Lennard_Jones potential for a pairwise distance\n",
    "    4*epsilon*((sigma/r)^12 - (sigma/r)^6) \n",
    "end"
   ]
  },
  {
   "cell_type": "code",
   "execution_count": 170,
   "metadata": {},
   "outputs": [
    {
     "data": {
      "text/plain": [
       "calc_harmU (generic function with 1 method)"
      ]
     },
     "execution_count": 170,
     "metadata": {},
     "output_type": "execute_result"
    }
   ],
   "source": [
    "function calc_harmU(r; k=20,l=1) #calculate bonded energy potential\n",
    "    0.5k*(r-l)^2\n",
    "end"
   ]
  },
  {
   "cell_type": "code",
   "execution_count": 171,
   "metadata": {},
   "outputs": [
    {
     "data": {
      "text/plain": [
       "calc_LJforce (generic function with 2 methods)"
      ]
     },
     "execution_count": 171,
     "metadata": {},
     "output_type": "execute_result"
    }
   ],
   "source": [
    "function calc_LJforce(r, epsilon; sigma = 1) #calculate LJ force (gradient)\n",
    "    48*epsilon*((sigma^12/r^13)-0.5*(sigma^6/r^7))\n",
    "end"
   ]
  },
  {
   "cell_type": "code",
   "execution_count": 172,
   "metadata": {},
   "outputs": [
    {
     "data": {
      "text/plain": [
       "calc_harmforce (generic function with 1 method)"
      ]
     },
     "execution_count": 172,
     "metadata": {},
     "output_type": "execute_result"
    }
   ],
   "source": [
    "function calc_harmforce(r;k=20,l=1) #calculate force from covalent bond\n",
    "    -k*(r-l)\n",
    "end"
   ]
  },
  {
   "cell_type": "code",
   "execution_count": 173,
   "metadata": {},
   "outputs": [
    {
     "data": {
      "text/plain": [
       "update_F (generic function with 1 method)"
      ]
     },
     "execution_count": 173,
     "metadata": {},
     "output_type": "execute_result"
    }
   ],
   "source": [
    "function update_F(R, dt, seq) #update gradient matrix F \n",
    "    PE = 0 #initialize potential energy\n",
    "    N = size(R)[1] #number of beads \n",
    "    F = zeros(N,3) #initialize force (grad) matrix \n",
    "\n",
    "    for i in 1:N-1\n",
    "        for j in i+1:N\n",
    "            dr = R[i,:] - R[j,:] #calculate distance vector between two points\n",
    "            r_mag = norm(dr) #calculate magnitude of distance vector\n",
    "            if j - i > 1\n",
    "                if seq[i]*seq[j] == \"HH\" #if pairwise interaction between H and H, use epsilon = 1\n",
    "                    epsilon = 1.\n",
    "                    PE += calc_LJ(r_mag, epsilon)  #accumulate LJ potential energy\n",
    "\n",
    "                    F[i,:] += calc_LJforce(r_mag,epsilon) * dr / r_mag #update force matrix with gradient for bead i \n",
    "                    F[j,:] -= calc_LJforce(r_mag,epsilon) * dr / r_mag #update force matrix with gradient for bead j \n",
    "                else #if pairwise interaction not between H and H, use epsilon = 2/3\n",
    "                    epsilon = 2/3\n",
    "                    PE += calc_LJ(r_mag, epsilon)  #accumulate LJ potential energy\n",
    "\n",
    "                    F[i,:] += calc_LJforce(r_mag,epsilon) * dr / r_mag\n",
    "                    F[j,:] -= calc_LJforce(r_mag,epsilon) * dr / r_mag\n",
    "                end\n",
    "            else \n",
    "                PE += calc_harmU(r_mag) #accumulate bonded potential energy \n",
    "            \n",
    "                fvector = calc_harmforce(r_mag) * dr / r_mag #get gradient \n",
    "                F[i,:] += fvector #update force matrix with gradient for bead i \n",
    "                F[j,:] -= fvector #update foce matrix with gradient for bead j \n",
    "            end\n",
    "        end\n",
    "    end\n",
    "    return PE, F #return energy and gradient matrix \n",
    "end"
   ]
  },
  {
   "cell_type": "code",
   "execution_count": 174,
   "metadata": {},
   "outputs": [
    {
     "data": {
      "text/plain": [
       "calc_position (generic function with 2 methods)"
      ]
     },
     "execution_count": 174,
     "metadata": {},
     "output_type": "execute_result"
    }
   ],
   "source": [
    "function calc_position(r, a, dt) #update position vector for single particle\n",
    "    r + (a*dt) #current position plus gradient x timestep \n",
    "end"
   ]
  },
  {
   "cell_type": "code",
   "execution_count": 175,
   "metadata": {},
   "outputs": [
    {
     "data": {
      "text/plain": [
       "update_R! (generic function with 2 methods)"
      ]
     },
     "execution_count": 175,
     "metadata": {},
     "output_type": "execute_result"
    }
   ],
   "source": [
    "function update_R!(R, A, dt) #updates position matrix R IN PLACE\n",
    "    broadcast!(calc_position,R,R,A,dt) #vectorized operation passed R by reference \n",
    "end"
   ]
  },
  {
   "cell_type": "code",
   "execution_count": 176,
   "metadata": {},
   "outputs": [
    {
     "data": {
      "text/plain": [
       "descend (generic function with 2 methods)"
      ]
     },
     "execution_count": 176,
     "metadata": {},
     "output_type": "execute_result"
    }
   ],
   "source": [
    "function descend(learnrate) #gradient descent function \n",
    "    R, seq = loadbeads() #load coordinates, and species sequence\n",
    "    N = size(R)[1] #number of beads \n",
    "\n",
    "    E = 0 #initialize energy \n",
    "    dt = 0.001 #trial timestep \n",
    "    initE, F = update_F(R,dt,seq) #get initial energy and F \n",
    "\n",
    "    converged = false \n",
    "    i = 0 #iteration counter \n",
    "    maxiter = 100000 #max iterations allowed \n",
    "\n",
    "    while ! converged #loop until covergence criterion satisfied \n",
    "        update_R!(R,F,dt) #new R updated to t+dt\n",
    "        newE, F = update_F(R,dt,seq) #new A updated in-place to t+dt, and returns PE into array \n",
    " \n",
    "        newE > E ? dt = dt*learnrate : dt = dt  #adaptive timestep, if new energy < previous energy, scale timestep by learnrate [0,1]\n",
    "        E = newE\n",
    "\n",
    "        if all(x->x<0.01,F) #CONVERGENCE CRITERION: if new gradient is less than some tolerance, accept and end loop\n",
    "            converged = true \n",
    "        end \n",
    "\n",
    "        if i == maxiter #time out of while loop if max iterations reached\n",
    "            return \"Max iter reached, final energy was $(E)\"\n",
    "        end\n",
    "        \n",
    "        i += 1 #add to iter counter \n",
    "    end  \n",
    "\n",
    "    return initE, E, F, R, i #return initial energy, final energy, force matrix, position matrix, number of iterations \n",
    "end"
   ]
  },
  {
   "cell_type": "code",
   "execution_count": 177,
   "metadata": {},
   "outputs": [
    {
     "data": {
      "text/plain": [
       "(-22.791333899668558, -66.67340308741058, [0.0023651425500831325 0.0008214279617829168 -0.0013713968125922543; -0.00351496857697442 -0.001965000168323905 0.0017562463447207133; … ; -0.0015765209731071726 -0.004178864718901554 0.0010598532369650304; -0.0026384424038948286 -0.001289625088547408 -0.00047115781754261676], Any[15.217620989872813 -6.792843057297345 7.811714145364959; 15.312931592867873 -7.459630835224506 7.280291327104291; … ; 16.293809738359347 -7.098675318640377 7.530942724938206; 16.236442931964152 -8.052056100344762 7.30583531164843], 8178)"
      ]
     },
     "execution_count": 177,
     "metadata": {},
     "output_type": "execute_result"
    }
   ],
   "source": [
    "initE, E, F, R, i = descend(0.7)"
   ]
  },
  {
   "cell_type": "markdown",
   "metadata": {},
   "source": [
    "### b) Convergence criteria "
   ]
  },
  {
   "cell_type": "code",
   "execution_count": 178,
   "metadata": {},
   "outputs": [
    {
     "data": {
      "text/plain": [
       "\"Convergence criterion to be met was if each element of gradient matrix F was less than tolerance (0.01 in my case), then accept convergence. If all force elements are close to zero, local minimum energy well has been reached\""
      ]
     },
     "execution_count": 178,
     "metadata": {},
     "output_type": "execute_result"
    }
   ],
   "source": [
    "\"Convergence criterion to be met was if each element of gradient matrix F was less than tolerance (0.01 in my case), then accept convergence. If all force elements are close to zero, local minimum energy well has been reached\""
   ]
  },
  {
   "cell_type": "markdown",
   "metadata": {},
   "source": [
    "### c) Energy minima"
   ]
  },
  {
   "cell_type": "code",
   "execution_count": 179,
   "metadata": {},
   "outputs": [
    {
     "data": {
      "text/plain": [
       "\"The minimum energy after convergence was -66.67340308741058, compared to initial energy of -22.791333899668558\""
      ]
     },
     "execution_count": 179,
     "metadata": {},
     "output_type": "execute_result"
    }
   ],
   "source": [
    "\"The minimum energy after convergence was $(E), compared to initial energy of $(initE)\""
   ]
  },
  {
   "cell_type": "markdown",
   "metadata": {},
   "source": [
    "### d) Plot of final configuration"
   ]
  },
  {
   "cell_type": "code",
   "execution_count": 180,
   "metadata": {},
   "outputs": [
    {
     "data": {
      "application/vnd.plotly.v1+json": {
       "data": [
        {
         "colorbar": {
          "title": ""
         },
         "legendgroup": "y1",
         "marker": {
          "color": "rgba(255, 0, 0, 1.000)",
          "line": {
           "color": "rgba(0, 0, 0, 1.000)",
           "width": 1
          },
          "size": 8,
          "symbol": "circle"
         },
         "mode": "markers+lines",
         "name": "y1",
         "scene": "scene1",
         "showlegend": true,
         "type": "scatter3d",
         "x": [
          15.626935,
          15.872621,
          14.843317,
          14.484313,
          13.614839,
          13.526408,
          12.776543,
          12.665014,
          13.461215,
          13.429609,
          13.714174,
          13.899854,
          14.316455,
          14.545318,
          14.511203,
          15.123136,
          15.381337,
          16.311164,
          16.36515,
          15.426363,
          15.596722,
          15.95078,
          15.549734,
          16.428542,
          16.541795,
          16.919671,
          17.083913
         ],
         "xaxis": "x1",
         "y": [
          -6.7114188,
          -7.1256596,
          -8.0363975,
          -7.187576,
          -7.3549481,
          -7.1643265,
          -7.5281028,
          -8.3717766,
          -8.9707179,
          -9.4261849,
          -8.542153,
          -8.3131604,
          -7.8425355,
          -7.7385146,
          -9.0091728,
          -8.6337144,
          -8.5878298,
          -7.8442735,
          -7.5525993,
          -7.5411986,
          -8.4141825,
          -8.5287881,
          -9.0064234,
          -8.037923,
          -7.1984435,
          -7.2783527,
          -7.8929887
         ],
         "yaxis": "y1",
         "z": [
          8.1360272,
          7.2677312,
          7.4385361,
          7.6002173,
          7.6335055,
          6.4921794,
          6.4599572,
          6.0822651,
          5.6817398,
          6.8544535,
          7.3151225,
          6.6142473,
          6.5161121,
          5.6639855,
          5.7458976,
          5.6696985,
          5.1792795,
          5.6522213,
          6.3991767,
          6.2097194,
          6.5075292,
          7.3827174,
          7.7274525,
          8.3758148,
          8.8253945,
          7.9272573,
          7.5638355
         ],
         "zaxis": "z1",
         "zmax": null,
         "zmin": null
        },
        {
         "colorbar": {
          "title": ""
         },
         "legendgroup": "y1",
         "marker": {
          "color": "rgba(0, 128, 0, 1.000)",
          "line": {
           "color": "rgba(0, 0, 0, 1.000)",
           "width": 1
          },
          "size": 8,
          "symbol": "circle"
         },
         "mode": "markers+lines",
         "name": "y1",
         "scene": "scene2",
         "showlegend": true,
         "type": "scatter3d",
         "x": [
          15.217620989872813,
          15.312931592867873,
          15.082915616621312,
          14.554306939152125,
          14.204259355304135,
          13.528976311036715,
          13.410348955658014,
          13.283960480483897,
          13.786869209479804,
          13.923505779043174,
          14.340822260500419,
          14.369215618449742,
          14.10410086397772,
          14.740252260883771,
          14.77191380948808,
          15.61449960632459,
          15.825793113414049,
          16.433421647800536,
          16.069071681051234,
          15.20411249396277,
          15.401715409175393,
          15.741127934406359,
          14.97635032502148,
          15.67169635356284,
          15.86608372213752,
          16.293809738359347,
          16.236442931964152
         ],
         "xaxis": "x2",
         "y": [
          -6.792843057297345,
          -7.459630835224506,
          -7.868390672263861,
          -6.843495409213708,
          -7.283939402546318,
          -7.211015680710949,
          -8.041170941464486,
          -8.162294163088228,
          -8.648665378335608,
          -8.927839200088886,
          -8.21709309245957,
          -7.882255510041774,
          -7.529144299056159,
          -8.261111300529752,
          -9.050378139551132,
          -8.965533660680242,
          -8.047096529214254,
          -8.315659986674934,
          -7.373297281967584,
          -7.3974071205362595,
          -8.239004697127205,
          -8.943900808362802,
          -8.940741340781676,
          -8.65208131949883,
          -7.634641254298826,
          -7.098675318640377,
          -8.052056100344762
         ],
         "yaxis": "y2",
         "z": [
          7.811714145364959,
          7.280291327104291,
          7.556993058473415,
          6.879156332881475,
          7.589383053109907,
          6.958042749739512,
          7.440486638203925,
          6.496285466082072,
          6.040721484150691,
          6.997275255905295,
          6.903094980195963,
          6.674937440544938,
          6.048497009347556,
          5.7100937574242066,
          6.293980346499768,
          5.793244223163887,
          5.570419362864169,
          6.25414954739677,
          6.457417300544352,
          6.191214703558083,
          6.580789969499221,
          6.900422816984806,
          7.38398491132398,
          8.011434169437788,
          8.261265813612493,
          7.530942724938206,
          7.30583531164843
         ],
         "zaxis": "z2",
         "zmax": null,
         "zmin": null
        }
       ],
       "layout": {
        "annotations": [
         {
          "font": {
           "color": "rgba(0, 0, 0, 1.000)",
           "family": "sans-serif",
           "size": 20
          },
          "rotation": 0,
          "showarrow": false,
          "text": "Initial protein configuration",
          "x": 0.2796296296296296,
          "xanchor": "center",
          "xref": "paper",
          "y": 1,
          "yanchor": "top",
          "yref": "paper"
         },
         {
          "font": {
           "color": "rgba(0, 0, 0, 1.000)",
           "family": "sans-serif",
           "size": 20
          },
          "rotation": 0,
          "showarrow": false,
          "text": "Final protein configuration",
          "x": 0.7796296296296297,
          "xanchor": "center",
          "xref": "paper",
          "y": 1,
          "yanchor": "top",
          "yref": "paper"
         }
        ],
        "height": 400,
        "margin": {
         "b": 20,
         "l": 0,
         "r": 0,
         "t": 20
        },
        "paper_bgcolor": "rgba(255, 255, 255, 1.000)",
        "plot_bgcolor": "rgba(255, 255, 255, 1.000)",
        "scene1": {
         "camera": {
          "eye": {
           "x": 1.12583302491977,
           "y": -1.9499999999999997,
           "z": 1.3
          }
         },
         "domain": {
          "x": [
           0.0658209390492855,
           0.4934383202099737
          ],
          "y": [
           0.03762029746281716,
           0.9415463692038496
          ]
         },
         "xaxis1": {
          "gridcolor": "rgba(0, 0, 0, 0.100)",
          "gridwidth": 0.5,
          "linecolor": "rgba(0, 0, 0, 1.000)",
          "mirror": false,
          "range": [
           12.53244703,
           17.216479969999998
          ],
          "showgrid": true,
          "showline": true,
          "showticklabels": true,
          "tickangle": 0,
          "tickcolor": "rgb(0, 0, 0)",
          "tickfont": {
           "color": "rgba(0, 0, 0, 1.000)",
           "family": "sans-serif",
           "size": 11
          },
          "tickmode": "array",
          "ticks": "inside",
          "ticktext": [
           "13",
           "14",
           "15",
           "16",
           "17"
          ],
          "tickvals": [
           13,
           14,
           15,
           16,
           17
          ],
          "title": "",
          "titlefont": {
           "color": "rgba(0, 0, 0, 1.000)",
           "family": "sans-serif",
           "size": 15
          },
          "type": "-",
          "visible": true,
          "zeroline": false,
          "zerolinecolor": "rgba(0, 0, 0, 1.000)"
         },
         "yaxis1": {
          "gridcolor": "rgba(0, 0, 0, 0.100)",
          "gridwidth": 0.5,
          "linecolor": "rgba(0, 0, 0, 1.000)",
          "mirror": false,
          "range": [
           -9.507627883000001,
           -6.629975817
          ],
          "showgrid": true,
          "showline": true,
          "showticklabels": true,
          "tickangle": 0,
          "tickcolor": "rgb(0, 0, 0)",
          "tickfont": {
           "color": "rgba(0, 0, 0, 1.000)",
           "family": "sans-serif",
           "size": 11
          },
          "tickmode": "array",
          "ticks": "inside",
          "ticktext": [
           "-9.5",
           "-9.0",
           "-8.5",
           "-8.0",
           "-7.5",
           "-7.0"
          ],
          "tickvals": [
           -9.5,
           -9,
           -8.5,
           -8,
           -7.5,
           -7
          ],
          "title": "",
          "titlefont": {
           "color": "rgba(0, 0, 0, 1.000)",
           "family": "sans-serif",
           "size": 15
          },
          "type": "-",
          "visible": true,
          "zeroline": false,
          "zerolinecolor": "rgba(0, 0, 0, 1.000)"
         },
         "zaxis1": {
          "gridcolor": "rgba(0, 0, 0, 0.100)",
          "gridwidth": 0.5,
          "linecolor": "rgba(0, 0, 0, 1.000)",
          "mirror": false,
          "range": [
           5.06989605,
           8.934777949999999
          ],
          "showgrid": true,
          "showline": true,
          "showticklabels": true,
          "tickangle": 0,
          "tickcolor": "rgb(0, 0, 0)",
          "tickfont": {
           "color": "rgba(0, 0, 0, 1.000)",
           "family": "sans-serif",
           "size": 11
          },
          "tickmode": "array",
          "ticks": "inside",
          "ticktext": [
           "5.5",
           "6.0",
           "6.5",
           "7.0",
           "7.5",
           "8.0",
           "8.5"
          ],
          "tickvals": [
           5.5,
           6,
           6.5,
           7,
           7.5,
           8,
           8.5
          ],
          "title": "",
          "titlefont": {
           "color": "rgba(0, 0, 0, 1.000)",
           "family": "sans-serif",
           "size": 15
          },
          "type": "-",
          "visible": true,
          "zeroline": false,
          "zerolinecolor": "rgba(0, 0, 0, 1.000)"
         }
        },
        "scene2": {
         "camera": {
          "eye": {
           "x": 1.12583302491977,
           "y": -1.9499999999999997,
           "z": 1.3
          }
         },
         "domain": {
          "x": [
           0.5658209390492855,
           0.9934383202099737
          ],
          "y": [
           0.03762029746281716,
           0.9415463692038496
          ]
         },
         "xaxis2": {
          "gridcolor": "rgba(0, 0, 0, 0.100)",
          "gridwidth": 0.5,
          "linecolor": "rgba(0, 0, 0, 1.000)",
          "mirror": false,
          "range": [
           13.189476645464397,
           16.527905482820035
          ],
          "showgrid": true,
          "showline": true,
          "showticklabels": true,
          "tickangle": 0,
          "tickcolor": "rgb(0, 0, 0)",
          "tickfont": {
           "color": "rgba(0, 0, 0, 1.000)",
           "family": "sans-serif",
           "size": 11
          },
          "tickmode": "array",
          "ticks": "inside",
          "ticktext": [
           "13.5",
           "14.0",
           "14.5",
           "15.0",
           "15.5",
           "16.0",
           "16.5"
          ],
          "tickvals": [
           13.5,
           14,
           14.5,
           15,
           15.5,
           16,
           16.5
          ],
          "title": "",
          "titlefont": {
           "color": "rgba(0, 0, 0, 1.000)",
           "family": "sans-serif",
           "size": 15
          },
          "type": "-",
          "visible": true,
          "zeroline": false,
          "zerolinecolor": "rgba(0, 0, 0, 1.000)"
         },
         "yaxis2": {
          "gridcolor": "rgba(0, 0, 0, 0.100)",
          "gridwidth": 0.5,
          "linecolor": "rgba(0, 0, 0, 1.000)",
          "mirror": false,
          "range": [
           -9.118104192018745,
           -6.725117004829731
          ],
          "showgrid": true,
          "showline": true,
          "showticklabels": true,
          "tickangle": 0,
          "tickcolor": "rgb(0, 0, 0)",
          "tickfont": {
           "color": "rgba(0, 0, 0, 1.000)",
           "family": "sans-serif",
           "size": 11
          },
          "tickmode": "array",
          "ticks": "inside",
          "ticktext": [
           "-9.0",
           "-8.5",
           "-8.0",
           "-7.5",
           "-7.0"
          ],
          "tickvals": [
           -9,
           -8.5,
           -8,
           -7.5,
           -7
          ],
          "title": "",
          "titlefont": {
           "color": "rgba(0, 0, 0, 1.000)",
           "family": "sans-serif",
           "size": 15
          },
          "type": "-",
          "visible": true,
          "zeroline": false,
          "zerolinecolor": "rgba(0, 0, 0, 1.000)"
         },
         "zaxis2": {
          "gridcolor": "rgba(0, 0, 0, 0.100)",
          "gridwidth": 0.5,
          "linecolor": "rgba(0, 0, 0, 1.000)",
          "mirror": false,
          "range": [
           5.48969396934172,
           8.341991207134942
          ],
          "showgrid": true,
          "showline": true,
          "showticklabels": true,
          "tickangle": 0,
          "tickcolor": "rgb(0, 0, 0)",
          "tickfont": {
           "color": "rgba(0, 0, 0, 1.000)",
           "family": "sans-serif",
           "size": 11
          },
          "tickmode": "array",
          "ticks": "inside",
          "ticktext": [
           "5.5",
           "6.0",
           "6.5",
           "7.0",
           "7.5",
           "8.0"
          ],
          "tickvals": [
           5.5,
           6,
           6.5,
           7,
           7.5,
           8
          ],
          "title": "",
          "titlefont": {
           "color": "rgba(0, 0, 0, 1.000)",
           "family": "sans-serif",
           "size": 15
          },
          "type": "-",
          "visible": true,
          "zeroline": false,
          "zerolinecolor": "rgba(0, 0, 0, 1.000)"
         }
        },
        "showlegend": false,
        "width": 600
       }
      },
      "text/html": [
       "    <div id=\"dc972d3f-cc7a-4877-b975-fcfc555e8621\" style=\"width:600px;height:400px;\"></div>\n",
       "    <script>\n",
       "        requirejs.config({\n",
       "        paths: {\n",
       "            Plotly: 'https://cdn.plot.ly/plotly-2.6.3.min'\n",
       "        }\n",
       "    });\n",
       "    require(['Plotly'], function (Plotly) {\n",
       "\n",
       "        Plotly.newPlot('dc972d3f-cc7a-4877-b975-fcfc555e8621', [\n",
       "    {\n",
       "        \"xaxis\": \"x1\",\n",
       "        \"colorbar\": {\n",
       "            \"title\": \"\"\n",
       "        },\n",
       "        \"yaxis\": \"y1\",\n",
       "        \"zaxis\": \"z1\",\n",
       "        \"x\": [\n",
       "            15.626935,\n",
       "            15.872621,\n",
       "            14.843317,\n",
       "            14.484313,\n",
       "            13.614839,\n",
       "            13.526408,\n",
       "            12.776543,\n",
       "            12.665014,\n",
       "            13.461215,\n",
       "            13.429609,\n",
       "            13.714174,\n",
       "            13.899854,\n",
       "            14.316455,\n",
       "            14.545318,\n",
       "            14.511203,\n",
       "            15.123136,\n",
       "            15.381337,\n",
       "            16.311164,\n",
       "            16.36515,\n",
       "            15.426363,\n",
       "            15.596722,\n",
       "            15.95078,\n",
       "            15.549734,\n",
       "            16.428542,\n",
       "            16.541795,\n",
       "            16.919671,\n",
       "            17.083913\n",
       "        ],\n",
       "        \"showlegend\": true,\n",
       "        \"mode\": \"markers+lines\",\n",
       "        \"name\": \"y1\",\n",
       "        \"zmin\": null,\n",
       "        \"legendgroup\": \"y1\",\n",
       "        \"z\": [\n",
       "            8.1360272,\n",
       "            7.2677312,\n",
       "            7.4385361,\n",
       "            7.6002173,\n",
       "            7.6335055,\n",
       "            6.4921794,\n",
       "            6.4599572,\n",
       "            6.0822651,\n",
       "            5.6817398,\n",
       "            6.8544535,\n",
       "            7.3151225,\n",
       "            6.6142473,\n",
       "            6.5161121,\n",
       "            5.6639855,\n",
       "            5.7458976,\n",
       "            5.6696985,\n",
       "            5.1792795,\n",
       "            5.6522213,\n",
       "            6.3991767,\n",
       "            6.2097194,\n",
       "            6.5075292,\n",
       "            7.3827174,\n",
       "            7.7274525,\n",
       "            8.3758148,\n",
       "            8.8253945,\n",
       "            7.9272573,\n",
       "            7.5638355\n",
       "        ],\n",
       "        \"marker\": {\n",
       "            \"symbol\": \"circle\",\n",
       "            \"color\": \"rgba(255, 0, 0, 1.000)\",\n",
       "            \"line\": {\n",
       "                \"color\": \"rgba(0, 0, 0, 1.000)\",\n",
       "                \"width\": 1\n",
       "            },\n",
       "            \"size\": 8\n",
       "        },\n",
       "        \"zmax\": null,\n",
       "        \"y\": [\n",
       "            -6.7114188,\n",
       "            -7.1256596,\n",
       "            -8.0363975,\n",
       "            -7.187576,\n",
       "            -7.3549481,\n",
       "            -7.1643265,\n",
       "            -7.5281028,\n",
       "            -8.3717766,\n",
       "            -8.9707179,\n",
       "            -9.4261849,\n",
       "            -8.542153,\n",
       "            -8.3131604,\n",
       "            -7.8425355,\n",
       "            -7.7385146,\n",
       "            -9.0091728,\n",
       "            -8.6337144,\n",
       "            -8.5878298,\n",
       "            -7.8442735,\n",
       "            -7.5525993,\n",
       "            -7.5411986,\n",
       "            -8.4141825,\n",
       "            -8.5287881,\n",
       "            -9.0064234,\n",
       "            -8.037923,\n",
       "            -7.1984435,\n",
       "            -7.2783527,\n",
       "            -7.8929887\n",
       "        ],\n",
       "        \"type\": \"scatter3d\",\n",
       "        \"scene\": \"scene1\"\n",
       "    },\n",
       "    {\n",
       "        \"xaxis\": \"x2\",\n",
       "        \"colorbar\": {\n",
       "            \"title\": \"\"\n",
       "        },\n",
       "        \"yaxis\": \"y2\",\n",
       "        \"zaxis\": \"z2\",\n",
       "        \"x\": [\n",
       "            15.217620989872813,\n",
       "            15.312931592867873,\n",
       "            15.082915616621312,\n",
       "            14.554306939152125,\n",
       "            14.204259355304135,\n",
       "            13.528976311036715,\n",
       "            13.410348955658014,\n",
       "            13.283960480483897,\n",
       "            13.786869209479804,\n",
       "            13.923505779043174,\n",
       "            14.340822260500419,\n",
       "            14.369215618449742,\n",
       "            14.10410086397772,\n",
       "            14.740252260883771,\n",
       "            14.77191380948808,\n",
       "            15.61449960632459,\n",
       "            15.825793113414049,\n",
       "            16.433421647800536,\n",
       "            16.069071681051234,\n",
       "            15.20411249396277,\n",
       "            15.401715409175393,\n",
       "            15.741127934406359,\n",
       "            14.97635032502148,\n",
       "            15.67169635356284,\n",
       "            15.86608372213752,\n",
       "            16.293809738359347,\n",
       "            16.236442931964152\n",
       "        ],\n",
       "        \"showlegend\": true,\n",
       "        \"mode\": \"markers+lines\",\n",
       "        \"name\": \"y1\",\n",
       "        \"zmin\": null,\n",
       "        \"legendgroup\": \"y1\",\n",
       "        \"z\": [\n",
       "            7.811714145364959,\n",
       "            7.280291327104291,\n",
       "            7.556993058473415,\n",
       "            6.879156332881475,\n",
       "            7.589383053109907,\n",
       "            6.958042749739512,\n",
       "            7.440486638203925,\n",
       "            6.496285466082072,\n",
       "            6.040721484150691,\n",
       "            6.997275255905295,\n",
       "            6.903094980195963,\n",
       "            6.674937440544938,\n",
       "            6.048497009347556,\n",
       "            5.7100937574242066,\n",
       "            6.293980346499768,\n",
       "            5.793244223163887,\n",
       "            5.570419362864169,\n",
       "            6.25414954739677,\n",
       "            6.457417300544352,\n",
       "            6.191214703558083,\n",
       "            6.580789969499221,\n",
       "            6.900422816984806,\n",
       "            7.38398491132398,\n",
       "            8.011434169437788,\n",
       "            8.261265813612493,\n",
       "            7.530942724938206,\n",
       "            7.30583531164843\n",
       "        ],\n",
       "        \"marker\": {\n",
       "            \"symbol\": \"circle\",\n",
       "            \"color\": \"rgba(0, 128, 0, 1.000)\",\n",
       "            \"line\": {\n",
       "                \"color\": \"rgba(0, 0, 0, 1.000)\",\n",
       "                \"width\": 1\n",
       "            },\n",
       "            \"size\": 8\n",
       "        },\n",
       "        \"zmax\": null,\n",
       "        \"y\": [\n",
       "            -6.792843057297345,\n",
       "            -7.459630835224506,\n",
       "            -7.868390672263861,\n",
       "            -6.843495409213708,\n",
       "            -7.283939402546318,\n",
       "            -7.211015680710949,\n",
       "            -8.041170941464486,\n",
       "            -8.162294163088228,\n",
       "            -8.648665378335608,\n",
       "            -8.927839200088886,\n",
       "            -8.21709309245957,\n",
       "            -7.882255510041774,\n",
       "            -7.529144299056159,\n",
       "            -8.261111300529752,\n",
       "            -9.050378139551132,\n",
       "            -8.965533660680242,\n",
       "            -8.047096529214254,\n",
       "            -8.315659986674934,\n",
       "            -7.373297281967584,\n",
       "            -7.3974071205362595,\n",
       "            -8.239004697127205,\n",
       "            -8.943900808362802,\n",
       "            -8.940741340781676,\n",
       "            -8.65208131949883,\n",
       "            -7.634641254298826,\n",
       "            -7.098675318640377,\n",
       "            -8.052056100344762\n",
       "        ],\n",
       "        \"type\": \"scatter3d\",\n",
       "        \"scene\": \"scene2\"\n",
       "    }\n",
       "]\n",
       ", {\n",
       "    \"showlegend\": false,\n",
       "    \"paper_bgcolor\": \"rgba(255, 255, 255, 1.000)\",\n",
       "    \"scene1\": {\n",
       "        \"camera\": {\n",
       "            \"eye\": {\n",
       "                \"y\": -1.9499999999999997,\n",
       "                \"z\": 1.3,\n",
       "                \"x\": 1.12583302491977\n",
       "            }\n",
       "        },\n",
       "        \"xaxis1\": {\n",
       "            \"tickangle\": 0,\n",
       "            \"showline\": true,\n",
       "            \"gridcolor\": \"rgba(0, 0, 0, 0.100)\",\n",
       "            \"showticklabels\": true,\n",
       "            \"gridwidth\": 0.5,\n",
       "            \"titlefont\": {\n",
       "                \"color\": \"rgba(0, 0, 0, 1.000)\",\n",
       "                \"family\": \"sans-serif\",\n",
       "                \"size\": 15\n",
       "            },\n",
       "            \"visible\": true,\n",
       "            \"ticks\": \"inside\",\n",
       "            \"range\": [\n",
       "                12.53244703,\n",
       "                17.216479969999998\n",
       "            ],\n",
       "            \"tickmode\": \"array\",\n",
       "            \"tickvals\": [\n",
       "                13.0,\n",
       "                14.0,\n",
       "                15.0,\n",
       "                16.0,\n",
       "                17.0\n",
       "            ],\n",
       "            \"tickcolor\": \"rgb(0, 0, 0)\",\n",
       "            \"ticktext\": [\n",
       "                \"13\",\n",
       "                \"14\",\n",
       "                \"15\",\n",
       "                \"16\",\n",
       "                \"17\"\n",
       "            ],\n",
       "            \"linecolor\": \"rgba(0, 0, 0, 1.000)\",\n",
       "            \"showgrid\": true,\n",
       "            \"zeroline\": false,\n",
       "            \"type\": \"-\",\n",
       "            \"tickfont\": {\n",
       "                \"color\": \"rgba(0, 0, 0, 1.000)\",\n",
       "                \"family\": \"sans-serif\",\n",
       "                \"size\": 11\n",
       "            },\n",
       "            \"title\": \"\",\n",
       "            \"zerolinecolor\": \"rgba(0, 0, 0, 1.000)\",\n",
       "            \"mirror\": false\n",
       "        },\n",
       "        \"yaxis1\": {\n",
       "            \"tickangle\": 0,\n",
       "            \"showline\": true,\n",
       "            \"gridcolor\": \"rgba(0, 0, 0, 0.100)\",\n",
       "            \"showticklabels\": true,\n",
       "            \"gridwidth\": 0.5,\n",
       "            \"titlefont\": {\n",
       "                \"color\": \"rgba(0, 0, 0, 1.000)\",\n",
       "                \"family\": \"sans-serif\",\n",
       "                \"size\": 15\n",
       "            },\n",
       "            \"visible\": true,\n",
       "            \"ticks\": \"inside\",\n",
       "            \"range\": [\n",
       "                -9.507627883000001,\n",
       "                -6.629975817\n",
       "            ],\n",
       "            \"tickmode\": \"array\",\n",
       "            \"tickvals\": [\n",
       "                -9.5,\n",
       "                -9.0,\n",
       "                -8.5,\n",
       "                -8.0,\n",
       "                -7.5,\n",
       "                -7.0\n",
       "            ],\n",
       "            \"tickcolor\": \"rgb(0, 0, 0)\",\n",
       "            \"ticktext\": [\n",
       "                \"-9.5\",\n",
       "                \"-9.0\",\n",
       "                \"-8.5\",\n",
       "                \"-8.0\",\n",
       "                \"-7.5\",\n",
       "                \"-7.0\"\n",
       "            ],\n",
       "            \"linecolor\": \"rgba(0, 0, 0, 1.000)\",\n",
       "            \"showgrid\": true,\n",
       "            \"zeroline\": false,\n",
       "            \"type\": \"-\",\n",
       "            \"tickfont\": {\n",
       "                \"color\": \"rgba(0, 0, 0, 1.000)\",\n",
       "                \"family\": \"sans-serif\",\n",
       "                \"size\": 11\n",
       "            },\n",
       "            \"title\": \"\",\n",
       "            \"zerolinecolor\": \"rgba(0, 0, 0, 1.000)\",\n",
       "            \"mirror\": false\n",
       "        },\n",
       "        \"domain\": {\n",
       "            \"y\": [\n",
       "                0.03762029746281716,\n",
       "                0.9415463692038496\n",
       "            ],\n",
       "            \"x\": [\n",
       "                0.0658209390492855,\n",
       "                0.4934383202099737\n",
       "            ]\n",
       "        },\n",
       "        \"zaxis1\": {\n",
       "            \"tickangle\": 0,\n",
       "            \"showline\": true,\n",
       "            \"gridcolor\": \"rgba(0, 0, 0, 0.100)\",\n",
       "            \"showticklabels\": true,\n",
       "            \"gridwidth\": 0.5,\n",
       "            \"titlefont\": {\n",
       "                \"color\": \"rgba(0, 0, 0, 1.000)\",\n",
       "                \"family\": \"sans-serif\",\n",
       "                \"size\": 15\n",
       "            },\n",
       "            \"visible\": true,\n",
       "            \"ticks\": \"inside\",\n",
       "            \"range\": [\n",
       "                5.06989605,\n",
       "                8.934777949999999\n",
       "            ],\n",
       "            \"tickmode\": \"array\",\n",
       "            \"tickvals\": [\n",
       "                5.5,\n",
       "                6.0,\n",
       "                6.5,\n",
       "                7.0,\n",
       "                7.5,\n",
       "                8.0,\n",
       "                8.5\n",
       "            ],\n",
       "            \"tickcolor\": \"rgb(0, 0, 0)\",\n",
       "            \"ticktext\": [\n",
       "                \"5.5\",\n",
       "                \"6.0\",\n",
       "                \"6.5\",\n",
       "                \"7.0\",\n",
       "                \"7.5\",\n",
       "                \"8.0\",\n",
       "                \"8.5\"\n",
       "            ],\n",
       "            \"linecolor\": \"rgba(0, 0, 0, 1.000)\",\n",
       "            \"showgrid\": true,\n",
       "            \"zeroline\": false,\n",
       "            \"type\": \"-\",\n",
       "            \"tickfont\": {\n",
       "                \"color\": \"rgba(0, 0, 0, 1.000)\",\n",
       "                \"family\": \"sans-serif\",\n",
       "                \"size\": 11\n",
       "            },\n",
       "            \"title\": \"\",\n",
       "            \"zerolinecolor\": \"rgba(0, 0, 0, 1.000)\",\n",
       "            \"mirror\": false\n",
       "        }\n",
       "    },\n",
       "    \"annotations\": [\n",
       "        {\n",
       "            \"yanchor\": \"top\",\n",
       "            \"xanchor\": \"center\",\n",
       "            \"rotation\": -0.0,\n",
       "            \"y\": 1.0,\n",
       "            \"font\": {\n",
       "                \"color\": \"rgba(0, 0, 0, 1.000)\",\n",
       "                \"family\": \"sans-serif\",\n",
       "                \"size\": 20\n",
       "            },\n",
       "            \"yref\": \"paper\",\n",
       "            \"showarrow\": false,\n",
       "            \"text\": \"Initial protein configuration\",\n",
       "            \"xref\": \"paper\",\n",
       "            \"x\": 0.2796296296296296\n",
       "        },\n",
       "        {\n",
       "            \"yanchor\": \"top\",\n",
       "            \"xanchor\": \"center\",\n",
       "            \"rotation\": -0.0,\n",
       "            \"y\": 1.0,\n",
       "            \"font\": {\n",
       "                \"color\": \"rgba(0, 0, 0, 1.000)\",\n",
       "                \"family\": \"sans-serif\",\n",
       "                \"size\": 20\n",
       "            },\n",
       "            \"yref\": \"paper\",\n",
       "            \"showarrow\": false,\n",
       "            \"text\": \"Final protein configuration\",\n",
       "            \"xref\": \"paper\",\n",
       "            \"x\": 0.7796296296296297\n",
       "        }\n",
       "    ],\n",
       "    \"height\": 400,\n",
       "    \"margin\": {\n",
       "        \"l\": 0,\n",
       "        \"b\": 20,\n",
       "        \"r\": 0,\n",
       "        \"t\": 20\n",
       "    },\n",
       "    \"plot_bgcolor\": \"rgba(255, 255, 255, 1.000)\",\n",
       "    \"scene2\": {\n",
       "        \"camera\": {\n",
       "            \"eye\": {\n",
       "                \"y\": -1.9499999999999997,\n",
       "                \"z\": 1.3,\n",
       "                \"x\": 1.12583302491977\n",
       "            }\n",
       "        },\n",
       "        \"xaxis2\": {\n",
       "            \"tickangle\": 0,\n",
       "            \"showline\": true,\n",
       "            \"gridcolor\": \"rgba(0, 0, 0, 0.100)\",\n",
       "            \"showticklabels\": true,\n",
       "            \"gridwidth\": 0.5,\n",
       "            \"titlefont\": {\n",
       "                \"color\": \"rgba(0, 0, 0, 1.000)\",\n",
       "                \"family\": \"sans-serif\",\n",
       "                \"size\": 15\n",
       "            },\n",
       "            \"visible\": true,\n",
       "            \"ticks\": \"inside\",\n",
       "            \"range\": [\n",
       "                13.189476645464397,\n",
       "                16.527905482820035\n",
       "            ],\n",
       "            \"tickmode\": \"array\",\n",
       "            \"tickvals\": [\n",
       "                13.5,\n",
       "                14.0,\n",
       "                14.5,\n",
       "                15.0,\n",
       "                15.5,\n",
       "                16.0,\n",
       "                16.5\n",
       "            ],\n",
       "            \"tickcolor\": \"rgb(0, 0, 0)\",\n",
       "            \"ticktext\": [\n",
       "                \"13.5\",\n",
       "                \"14.0\",\n",
       "                \"14.5\",\n",
       "                \"15.0\",\n",
       "                \"15.5\",\n",
       "                \"16.0\",\n",
       "                \"16.5\"\n",
       "            ],\n",
       "            \"linecolor\": \"rgba(0, 0, 0, 1.000)\",\n",
       "            \"showgrid\": true,\n",
       "            \"zeroline\": false,\n",
       "            \"type\": \"-\",\n",
       "            \"tickfont\": {\n",
       "                \"color\": \"rgba(0, 0, 0, 1.000)\",\n",
       "                \"family\": \"sans-serif\",\n",
       "                \"size\": 11\n",
       "            },\n",
       "            \"title\": \"\",\n",
       "            \"zerolinecolor\": \"rgba(0, 0, 0, 1.000)\",\n",
       "            \"mirror\": false\n",
       "        },\n",
       "        \"zaxis2\": {\n",
       "            \"tickangle\": 0,\n",
       "            \"showline\": true,\n",
       "            \"gridcolor\": \"rgba(0, 0, 0, 0.100)\",\n",
       "            \"showticklabels\": true,\n",
       "            \"gridwidth\": 0.5,\n",
       "            \"titlefont\": {\n",
       "                \"color\": \"rgba(0, 0, 0, 1.000)\",\n",
       "                \"family\": \"sans-serif\",\n",
       "                \"size\": 15\n",
       "            },\n",
       "            \"visible\": true,\n",
       "            \"ticks\": \"inside\",\n",
       "            \"range\": [\n",
       "                5.48969396934172,\n",
       "                8.341991207134942\n",
       "            ],\n",
       "            \"tickmode\": \"array\",\n",
       "            \"tickvals\": [\n",
       "                5.5,\n",
       "                6.0,\n",
       "                6.5,\n",
       "                7.0,\n",
       "                7.5,\n",
       "                8.0\n",
       "            ],\n",
       "            \"tickcolor\": \"rgb(0, 0, 0)\",\n",
       "            \"ticktext\": [\n",
       "                \"5.5\",\n",
       "                \"6.0\",\n",
       "                \"6.5\",\n",
       "                \"7.0\",\n",
       "                \"7.5\",\n",
       "                \"8.0\"\n",
       "            ],\n",
       "            \"linecolor\": \"rgba(0, 0, 0, 1.000)\",\n",
       "            \"showgrid\": true,\n",
       "            \"zeroline\": false,\n",
       "            \"type\": \"-\",\n",
       "            \"tickfont\": {\n",
       "                \"color\": \"rgba(0, 0, 0, 1.000)\",\n",
       "                \"family\": \"sans-serif\",\n",
       "                \"size\": 11\n",
       "            },\n",
       "            \"title\": \"\",\n",
       "            \"zerolinecolor\": \"rgba(0, 0, 0, 1.000)\",\n",
       "            \"mirror\": false\n",
       "        },\n",
       "        \"domain\": {\n",
       "            \"y\": [\n",
       "                0.03762029746281716,\n",
       "                0.9415463692038496\n",
       "            ],\n",
       "            \"x\": [\n",
       "                0.5658209390492855,\n",
       "                0.9934383202099737\n",
       "            ]\n",
       "        },\n",
       "        \"yaxis2\": {\n",
       "            \"tickangle\": 0,\n",
       "            \"showline\": true,\n",
       "            \"gridcolor\": \"rgba(0, 0, 0, 0.100)\",\n",
       "            \"showticklabels\": true,\n",
       "            \"gridwidth\": 0.5,\n",
       "            \"titlefont\": {\n",
       "                \"color\": \"rgba(0, 0, 0, 1.000)\",\n",
       "                \"family\": \"sans-serif\",\n",
       "                \"size\": 15\n",
       "            },\n",
       "            \"visible\": true,\n",
       "            \"ticks\": \"inside\",\n",
       "            \"range\": [\n",
       "                -9.118104192018745,\n",
       "                -6.725117004829731\n",
       "            ],\n",
       "            \"tickmode\": \"array\",\n",
       "            \"tickvals\": [\n",
       "                -9.0,\n",
       "                -8.5,\n",
       "                -8.0,\n",
       "                -7.5,\n",
       "                -7.0\n",
       "            ],\n",
       "            \"tickcolor\": \"rgb(0, 0, 0)\",\n",
       "            \"ticktext\": [\n",
       "                \"-9.0\",\n",
       "                \"-8.5\",\n",
       "                \"-8.0\",\n",
       "                \"-7.5\",\n",
       "                \"-7.0\"\n",
       "            ],\n",
       "            \"linecolor\": \"rgba(0, 0, 0, 1.000)\",\n",
       "            \"showgrid\": true,\n",
       "            \"zeroline\": false,\n",
       "            \"type\": \"-\",\n",
       "            \"tickfont\": {\n",
       "                \"color\": \"rgba(0, 0, 0, 1.000)\",\n",
       "                \"family\": \"sans-serif\",\n",
       "                \"size\": 11\n",
       "            },\n",
       "            \"title\": \"\",\n",
       "            \"zerolinecolor\": \"rgba(0, 0, 0, 1.000)\",\n",
       "            \"mirror\": false\n",
       "        }\n",
       "    },\n",
       "    \"width\": 600\n",
       "}\n",
       ");\n",
       "\n",
       "    });\n",
       "    </script>\n"
      ]
     },
     "metadata": {},
     "output_type": "display_data"
    }
   ],
   "source": [
    "initR, _ = loadbeads()\n",
    "initconfigplot = scatter(initR[:,1],initR[:,2],initR[:,3], mode=\"markers+lines\",color=:red, title = \"Initial protein configuration\", legend = false)\n",
    "\n",
    "finalconfigplot = scatter(R[:,1],R[:,2],R[:,3], mode=\"markers+lines\",color=:green, title = \"Final protein configuration\", legend = false)\n",
    "\n",
    "p4 = plot(initconfigplot, finalconfigplot)\n",
    "savefig(\"prob4.png\")\n",
    "display(p4)"
   ]
  }
 ],
 "metadata": {
  "kernelspec": {
   "display_name": "Julia 1.7.3",
   "language": "julia",
   "name": "julia-1.7"
  },
  "language_info": {
   "file_extension": ".jl",
   "mimetype": "application/julia",
   "name": "julia",
   "version": "1.7.3"
  },
  "orig_nbformat": 4,
  "vscode": {
   "interpreter": {
    "hash": "97650612f190689b99c6e021287d2f2e8b9034f26a70891df7accfb106e93556"
   }
  }
 },
 "nbformat": 4,
 "nbformat_minor": 2
}
