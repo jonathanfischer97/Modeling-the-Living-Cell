{
 "cells": [
  {
   "cell_type": "code",
   "execution_count": 1,
   "metadata": {},
   "outputs": [],
   "source": [
    "using Random, Distributions\n",
    "using Plots\n",
    "# plotlyjs()\n",
    "# using PlotlyJS\n",
    "using DataFrames\n",
    "using StatsBase\n",
    "using DelimitedFiles\n",
    "using LinearAlgebra\n",
    "# using Distances\n",
    "# using Symbolics\n",
    "# using Latexify"
   ]
  },
  {
   "cell_type": "markdown",
   "metadata": {},
   "source": [
    "# Problem Set 5 (Jonathan Fischer using Julia)"
   ]
  },
  {
   "cell_type": "markdown",
   "metadata": {},
   "source": [
    "## 1) Langevin Dynamics of minimalist HP "
   ]
  },
  {
   "cell_type": "markdown",
   "metadata": {},
   "source": [
    "### Initialize Positions R"
   ]
  },
  {
   "cell_type": "code",
   "execution_count": 2,
   "metadata": {},
   "outputs": [
    {
     "data": {
      "text/plain": [
       "initR (generic function with 1 method)"
      ]
     },
     "execution_count": 2,
     "metadata": {},
     "output_type": "execute_result"
    }
   ],
   "source": [
    "function initR()\n",
    "    R = zeros((5,3))\n",
    "    R[:,3] .= 1,2,3,4,5\n",
    "    R\n",
    "end"
   ]
  },
  {
   "cell_type": "code",
   "execution_count": 11,
   "metadata": {},
   "outputs": [
    {
     "data": {
      "text/plain": [
       "5×3 Matrix{Float64}:\n",
       " 0.0  0.0  1.0\n",
       " 0.0  0.0  2.0\n",
       " 0.0  0.0  3.0\n",
       " 0.0  0.0  4.0\n",
       " 0.0  0.0  5.0"
      ]
     },
     "execution_count": 11,
     "metadata": {},
     "output_type": "execute_result"
    }
   ],
   "source": [
    "initR()"
   ]
  },
  {
   "cell_type": "markdown",
   "metadata": {},
   "source": [
    "### Calculate distance (single component)"
   ]
  },
  {
   "cell_type": "code",
   "execution_count": 3,
   "metadata": {},
   "outputs": [
    {
     "data": {
      "text/plain": [
       "calc_dist (generic function with 1 method)"
      ]
     },
     "execution_count": 3,
     "metadata": {},
     "output_type": "execute_result"
    }
   ],
   "source": [
    "function calc_dist(x1,x2) #calculate distance between a single pair of points along single component\n",
    "    x1-x2 \n",
    "    # dx - L*round(dx/L) #distance using minimum image convention \n",
    "end"
   ]
  },
  {
   "cell_type": "markdown",
   "metadata": {},
   "source": [
    "### Calculate non-bonded potential "
   ]
  },
  {
   "cell_type": "code",
   "execution_count": 4,
   "metadata": {},
   "outputs": [
    {
     "data": {
      "text/plain": [
       "calc_LJ (generic function with 2 methods)"
      ]
     },
     "execution_count": 4,
     "metadata": {},
     "output_type": "execute_result"
    }
   ],
   "source": [
    "function calc_LJ(r, epsilon, sigma = 1) # calculate Lennard_Jones potential for a pairwise distance\n",
    "    4*epsilon*((sigma/r)^12 - (sigma/r)^6) \n",
    "end"
   ]
  },
  {
   "cell_type": "markdown",
   "metadata": {},
   "source": [
    "### Calculate force (dU + friction + noise) returns tuple of force terms"
   ]
  },
  {
   "cell_type": "code",
   "execution_count": 142,
   "metadata": {},
   "outputs": [
    {
     "data": {
      "text/plain": [
       "calc_LJforce (generic function with 5 methods)"
      ]
     },
     "execution_count": 142,
     "metadata": {},
     "output_type": "execute_result"
    }
   ],
   "source": [
    "function calc_LJforce(r, epsilon, T, v, dt, sigma = 1, k=1, m=1, eta=0.05)\n",
    "    # (48*epsilon*((sigma^12/r^13)-0.5*(sigma^6/r^7)) + randn()*√(2kT*m*eta/dt) - eta*m*v, \n",
    "    [48*epsilon*((sigma^12/r^13)-0.5*(sigma^6/r^7)),\n",
    "    randn()*√(2k*T*m*eta/dt),\n",
    "    -(eta*m*v)]\n",
    "end"
   ]
  },
  {
   "cell_type": "markdown",
   "metadata": {},
   "source": [
    "### Calculate bonded potential"
   ]
  },
  {
   "cell_type": "code",
   "execution_count": 6,
   "metadata": {},
   "outputs": [
    {
     "data": {
      "text/plain": [
       "calc_harmU (generic function with 3 methods)"
      ]
     },
     "execution_count": 6,
     "metadata": {},
     "output_type": "execute_result"
    }
   ],
   "source": [
    "function calc_harmU(r,k=20,l=1)\n",
    "    0.5k*(r-l)^2\n",
    "end"
   ]
  },
  {
   "cell_type": "markdown",
   "metadata": {},
   "source": [
    "### Calculate bond force"
   ]
  },
  {
   "cell_type": "code",
   "execution_count": 131,
   "metadata": {},
   "outputs": [
    {
     "data": {
      "text/plain": [
       "calc_harmforce (generic function with 3 methods)"
      ]
     },
     "execution_count": 131,
     "metadata": {},
     "output_type": "execute_result"
    }
   ],
   "source": [
    "function calc_harmforce(r,k=20,l=1)\n",
    "    k*(r-l),0.,0.\n",
    "end"
   ]
  },
  {
   "cell_type": "markdown",
   "metadata": {},
   "source": [
    "### Update acceleration matrix A"
   ]
  },
  {
   "cell_type": "code",
   "execution_count": 154,
   "metadata": {},
   "outputs": [
    {
     "data": {
      "text/plain": [
       "update_A (generic function with 3 methods)"
      ]
     },
     "execution_count": 154,
     "metadata": {},
     "output_type": "execute_result"
    }
   ],
   "source": [
    "function update_A(R, T, V, dt, m = 1) #update distance matrix D and acceleration matrix A \n",
    "    PE = 0 #initialize potential energy\n",
    "    N = length(R[:,1])\n",
    "    A = zeros((N,3))\n",
    "    for i in 1:N-1\n",
    "        for j in i+1:N\n",
    "            dr = calc_dist.(R[i,:],R[j,:]) #calculate distance vector between two points\n",
    "            r_mag = norm(dr) #calculate magnitude of distance vector\n",
    "            if j - i > 1\n",
    "                if (i,j) == (1,4) || (i,j) == (1,5) || (i,j) == (4,5)\n",
    "                    epsilon = 1.\n",
    "                    PE += calc_LJ(r_mag, epsilon)  #accumulate LJ potential energy\n",
    "                    # f_scalars = calc_LJforce(r_mag,epsilon,T,v,dt) #scalar magnitude of force\n",
    "                    A[i,:] += [x * dr / r_mag for x in calc_LJforce(r_mag,epsilon,T,norm(V[i]),dt)] #force vector with each component\n",
    "                    A[j,:] -= [x * dr / r_mag for x in calc_LJforce(r_mag,epsilon,T,norm(V[i]),dt)] #force vector with each component\n",
    "                else\n",
    "                    epsilon = 2/3\n",
    "                    PE += calc_LJ(r_mag, epsilon)  #accumulate LJ potential energy\n",
    "                    A[i,:] += [x * dr / r_mag for x in calc_LJforce(r_mag,epsilon,T,norm(V[i]),dt)] #force vector with each component\n",
    "                    A[j,:] -= [x * dr / r_mag for x in calc_LJforce(r_mag,epsilon,T,norm(V[j]),dt)] #force vector with each component\n",
    "                end\n",
    "            else \n",
    "                PE += calc_harmU(r_mag)\n",
    "                # fvector = [x * dr/ r_mag for x in calc_harmforce(r_mag)]\n",
    "                fvector = calc_harmforce(r_mag).*dr/r_mag\n",
    "                # return fvector\n",
    "                A[i,:,:] .+= fvector\n",
    "                A[j,:,:] .-= fvector\n",
    "            end\n",
    "        end\n",
    "    end\n",
    "    return PE, A\n",
    "end"
   ]
  },
  {
   "cell_type": "code",
   "execution_count": 171,
   "metadata": {},
   "outputs": [
    {
     "ename": "LoadError",
     "evalue": "DimensionMismatch: dimensions must match: a has dims (Base.OneTo(3), Base.OneTo(3)), must have singleton at dim 2",
     "output_type": "error",
     "traceback": [
      "DimensionMismatch: dimensions must match: a has dims (Base.OneTo(3), Base.OneTo(3)), must have singleton at dim 2",
      "",
      "Stacktrace:",
      " [1] promote_shape",
      "   @ ./indices.jl:183 [inlined]",
      " [2] promote_shape(a::Matrix{Float64}, b::Vector{Vector{Float64}})",
      "   @ Base ./indices.jl:169",
      " [3] +(A::Matrix{Float64}, Bs::Vector{Vector{Float64}})",
      "   @ Base ./arraymath.jl:14",
      " [4] top-level scope",
      "   @ In[171]:22",
      " [5] eval",
      "   @ ./boot.jl:368 [inlined]",
      " [6] include_string(mapexpr::typeof(REPL.softscope), mod::Module, code::String, filename::String)",
      "   @ Base ./loading.jl:1428"
     ]
    }
   ],
   "source": [
    "dt = 0.003\n",
    "T = 2.\n",
    "PE = 0 #initialize potential energy\n",
    "N = length(R[:,1])\n",
    "V = init_velocity(T,N) #velocity for t\n",
    "A = zeros((N,3,3))\n",
    "# A = Matrix(Vector{Float64})(undef, (N,3))\n",
    "for i in 1:N-1\n",
    "    for j in i+1:N\n",
    "        dr = calc_dist.(R[i,:],R[j,:]) #calculate distance vector between two points\n",
    "        r_mag = norm(dr) #calculate magnitude of distance vector\n",
    "        if j - i > 1\n",
    "            if (i,j) == (1,4) || (i,j) == (1,5) || (i,j) == (4,5)\n",
    "                epsilon = 1.\n",
    "                PE += calc_LJ(r_mag, epsilon)  #accumulate LJ potential energy\n",
    "                # f_scalars = calc_LJforce(r_mag,epsilon,T,v,dt) #scalar magnitude of force\n",
    "                A[i,:,:] += [x * dr / r_mag for x in calc_LJforce(r_mag,epsilon,T,norm(V[i]),dt)] #force vector with each component\n",
    "                A[j,:,:] -= [x * dr / r_mag for x in calc_LJforce(r_mag,epsilon,T,norm(V[i]),dt)] #force vector with each component\n",
    "            else\n",
    "                epsilon = 2/3\n",
    "                PE += calc_LJ(r_mag, epsilon)  #accumulate LJ potential energy\n",
    "                A[i,:,:] += [x * dr / r_mag for x in calc_LJforce(r_mag,epsilon,T,norm(V[i]),dt)] #force vector with each component\n",
    "                A[j,:,:] -= [x * dr / r_mag for x in calc_LJforce(r_mag,epsilon,T,norm(V[j]),dt)] #force vector with each component\n",
    "            end\n",
    "        else \n",
    "            PE += calc_harmU(r_mag)\n",
    "            # fvector = [x * dr/ r_mag for x in calc_harmforce(r_mag)]\n",
    "            fvector = calc_harmforce(r_mag).*dr/r_mag\n",
    "            # return fvector\n",
    "            A[i,:,:] .+= fvector\n",
    "            A[j,:,:] .-= fvector\n",
    "        end\n",
    "    end\n",
    "end"
   ]
  },
  {
   "cell_type": "code",
   "execution_count": 168,
   "metadata": {},
   "outputs": [
    {
     "data": {
      "text/plain": [
       "3×3 Matrix{Float64}:\n",
       " 1.86221   1.03084    0.33084\n",
       " 1.46432  -0.161977   2.49733\n",
       " 1.42788  -1.0537    -0.562378"
      ]
     },
     "execution_count": 168,
     "metadata": {},
     "output_type": "execute_result"
    }
   ],
   "source": [
    "randn((3,3))"
   ]
  },
  {
   "cell_type": "code",
   "execution_count": 166,
   "metadata": {},
   "outputs": [
    {
     "data": {
      "text/plain": [
       "3×3 Matrix{Float64}:\n",
       " -0.45967    -0.0598998  -0.290438\n",
       " -0.620965   -1.30737     0.277781\n",
       "  0.0907327   0.146263    0.377251"
      ]
     },
     "execution_count": 166,
     "metadata": {},
     "output_type": "execute_result"
    }
   ],
   "source": [
    "A[1,:,:] =  randn((3,3))"
   ]
  },
  {
   "cell_type": "code",
   "execution_count": 167,
   "metadata": {},
   "outputs": [
    {
     "data": {
      "text/plain": [
       "5×3×3 Array{Float64, 3}:\n",
       "[:, :, 1] =\n",
       " -0.45967  -0.620965  0.0907327\n",
       "  0.0       0.0       0.0\n",
       "  0.0       0.0       0.0\n",
       "  0.0       0.0       0.0\n",
       "  0.0       0.0       0.0\n",
       "\n",
       "[:, :, 2] =\n",
       " -0.0598998  -1.30737  0.146263\n",
       "  0.0         0.0      0.0\n",
       "  0.0         0.0      0.0\n",
       "  0.0         0.0      0.0\n",
       "  0.0         0.0      0.0\n",
       "\n",
       "[:, :, 3] =\n",
       " -0.290438  0.277781  0.377251\n",
       "  0.0       0.0       0.0\n",
       "  0.0       0.0       0.0\n",
       "  0.0       0.0       0.0\n",
       "  0.0       0.0       0.0"
      ]
     },
     "execution_count": 167,
     "metadata": {},
     "output_type": "execute_result"
    }
   ],
   "source": [
    "A"
   ]
  },
  {
   "cell_type": "code",
   "execution_count": 170,
   "metadata": {},
   "outputs": [
    {
     "ename": "LoadError",
     "evalue": "UndefVarError: epsilon not defined",
     "output_type": "error",
     "traceback": [
      "UndefVarError: epsilon not defined",
      "",
      "Stacktrace:",
      " [1] top-level scope",
      "   @ In[170]:1",
      " [2] eval",
      "   @ ./boot.jl:368 [inlined]",
      " [3] include_string(mapexpr::typeof(REPL.softscope), mod::Module, code::String, filename::String)",
      "   @ Base ./loading.jl:1428"
     ]
    }
   ],
   "source": [
    "[x * dr / r_mag for x in calc_LJforce(r_mag,epsilon,T,norm(V[2]),dt)]"
   ]
  },
  {
   "cell_type": "code",
   "execution_count": 121,
   "metadata": {},
   "outputs": [
    {
     "data": {
      "text/plain": [
       "2.0"
      ]
     },
     "execution_count": 121,
     "metadata": {},
     "output_type": "execute_result"
    }
   ],
   "source": [
    "R = initR() # 5x3 Matrix{Float64}\n",
    "dr = calc_dist.(R[1,:],R[3,:])\n",
    "r_mag = norm(dr) #scalar"
   ]
  },
  {
   "cell_type": "code",
   "execution_count": 66,
   "metadata": {},
   "outputs": [
    {
     "data": {
      "text/plain": [
       "5×3 Matrix{Float64}:\n",
       " 0.0  0.0  1.0\n",
       " 0.0  0.0  2.0\n",
       " 0.0  0.0  3.0\n",
       " 0.0  0.0  4.0\n",
       " 0.0  0.0  5.0"
      ]
     },
     "execution_count": 66,
     "metadata": {},
     "output_type": "execute_result"
    }
   ],
   "source": [
    "R "
   ]
  },
  {
   "cell_type": "code",
   "execution_count": 93,
   "metadata": {},
   "outputs": [
    {
     "data": {
      "text/plain": [
       "3-element Vector{Int64}:\n",
       " 3\n",
       " 9\n",
       " 7"
      ]
     },
     "execution_count": 93,
     "metadata": {},
     "output_type": "execute_result"
    }
   ],
   "source": [
    "test = [3;9;7]\n"
   ]
  },
  {
   "cell_type": "code",
   "execution_count": 92,
   "metadata": {},
   "outputs": [
    {
     "data": {
      "text/plain": [
       "3-element Vector{Float64}:\n",
       "   0.0\n",
       "   0.0\n",
       " -14.0"
      ]
     },
     "execution_count": 92,
     "metadata": {},
     "output_type": "execute_result"
    }
   ],
   "source": [
    "dr .* test"
   ]
  },
  {
   "cell_type": "code",
   "execution_count": 120,
   "metadata": {},
   "outputs": [
    {
     "data": {
      "text/plain": [
       "2.0"
      ]
     },
     "execution_count": 120,
     "metadata": {},
     "output_type": "execute_result"
    }
   ],
   "source": [
    "r_mag"
   ]
  },
  {
   "cell_type": "code",
   "execution_count": 132,
   "metadata": {},
   "outputs": [
    {
     "data": {
      "text/plain": [
       "(20.0, 0.0, 0.0)"
      ]
     },
     "execution_count": 132,
     "metadata": {},
     "output_type": "execute_result"
    }
   ],
   "source": [
    "# dr = [1,4,2]\n",
    "# r_mag = 5\n",
    "# fvector = [x * dr/ r_mag for x in calc_harmforce(r_mag)]\n",
    "fvector  = calc_harmforce(r_mag)#/r_mag # fvector is Vector{Float64}\n",
    "# for comp in fvector\n",
    "#     comp*dr/r_mag\n",
    "# end\n",
    "    \n",
    "    \n",
    "\n"
   ]
  },
  {
   "cell_type": "code",
   "execution_count": 127,
   "metadata": {},
   "outputs": [
    {
     "data": {
      "text/plain": [
       "0.0"
      ]
     },
     "execution_count": 127,
     "metadata": {},
     "output_type": "execute_result"
    }
   ],
   "source": [
    "fvector"
   ]
  },
  {
   "cell_type": "code",
   "execution_count": 129,
   "metadata": {},
   "outputs": [
    {
     "data": {
      "text/plain": [
       "(20.0, 0.0, 0.0)"
      ]
     },
     "execution_count": 129,
     "metadata": {},
     "output_type": "execute_result"
    }
   ],
   "source": [
    "calc_harmforce(r_mag)"
   ]
  },
  {
   "cell_type": "code",
   "execution_count": 130,
   "metadata": {},
   "outputs": [
    {
     "data": {
      "text/plain": [
       "Float64"
      ]
     },
     "execution_count": 130,
     "metadata": {},
     "output_type": "execute_result"
    }
   ],
   "source": [
    "typeof(fvector)"
   ]
  },
  {
   "cell_type": "code",
   "execution_count": 98,
   "metadata": {},
   "outputs": [
    {
     "ename": "LoadError",
     "evalue": "LoadError: UndefVarError: @typeof_str not defined\nin expression starting at In[98]:1",
     "output_type": "error",
     "traceback": [
      "LoadError: UndefVarError: @typeof_str not defined\nin expression starting at In[98]:1",
      "",
      "Stacktrace:",
      " [1] top-level scope",
      "   @ :0",
      " [2] eval",
      "   @ ./boot.jl:368 [inlined]",
      " [3] include_string(mapexpr::typeof(REPL.softscope), mod::Module, code::String, filename::String)",
      "   @ Base ./loading.jl:1428"
     ]
    }
   ],
   "source": [
    "println('typeof($(r_mag) typeof(dr) typeof(fvector)'))"
   ]
  },
  {
   "cell_type": "code",
   "execution_count": 42,
   "metadata": {},
   "outputs": [
    {
     "data": {
      "text/plain": [
       "30×3×3 Array{Float64, 3}:\n",
       "[:, :, 1] =\n",
       " 0.0  0.0  0.0\n",
       " 0.0  0.0  0.0\n",
       " 0.0  0.0  0.0\n",
       " 0.0  0.0  0.0\n",
       " 0.0  0.0  0.0\n",
       " 0.0  0.0  0.0\n",
       " 0.0  0.0  0.0\n",
       " 0.0  0.0  0.0\n",
       " 0.0  0.0  0.0\n",
       " 0.0  0.0  0.0\n",
       " 0.0  0.0  0.0\n",
       " 0.0  0.0  0.0\n",
       " 0.0  0.0  0.0\n",
       " ⋮         \n",
       " 0.0  0.0  0.0\n",
       " 0.0  0.0  0.0\n",
       " 0.0  0.0  0.0\n",
       " 0.0  0.0  0.0\n",
       " 0.0  0.0  0.0\n",
       " 0.0  0.0  0.0\n",
       " 0.0  0.0  0.0\n",
       " 0.0  0.0  0.0\n",
       " 0.0  0.0  0.0\n",
       " 0.0  0.0  0.0\n",
       " 0.0  0.0  0.0\n",
       " 0.0  0.0  0.0\n",
       "\n",
       "[:, :, 2] =\n",
       " 0.0  0.0  0.0\n",
       " 0.0  0.0  0.0\n",
       " 0.0  0.0  0.0\n",
       " 0.0  0.0  0.0\n",
       " 0.0  0.0  0.0\n",
       " 0.0  0.0  0.0\n",
       " 0.0  0.0  0.0\n",
       " 0.0  0.0  0.0\n",
       " 0.0  0.0  0.0\n",
       " 0.0  0.0  0.0\n",
       " 0.0  0.0  0.0\n",
       " 0.0  0.0  0.0\n",
       " 0.0  0.0  0.0\n",
       " ⋮         \n",
       " 0.0  0.0  0.0\n",
       " 0.0  0.0  0.0\n",
       " 0.0  0.0  0.0\n",
       " 0.0  0.0  0.0\n",
       " 0.0  0.0  0.0\n",
       " 0.0  0.0  0.0\n",
       " 0.0  0.0  0.0\n",
       " 0.0  0.0  0.0\n",
       " 0.0  0.0  0.0\n",
       " 0.0  0.0  0.0\n",
       " 0.0  0.0  0.0\n",
       " 0.0  0.0  0.0\n",
       "\n",
       "[:, :, 3] =\n",
       " 0.0  0.0  0.0\n",
       " 0.0  0.0  0.0\n",
       " 0.0  0.0  0.0\n",
       " 0.0  0.0  0.0\n",
       " 0.0  0.0  0.0\n",
       " 0.0  0.0  0.0\n",
       " 0.0  0.0  0.0\n",
       " 0.0  0.0  0.0\n",
       " 0.0  0.0  0.0\n",
       " 0.0  0.0  0.0\n",
       " 0.0  0.0  0.0\n",
       " 0.0  0.0  0.0\n",
       " 0.0  0.0  0.0\n",
       " ⋮         \n",
       " 0.0  0.0  0.0\n",
       " 0.0  0.0  0.0\n",
       " 0.0  0.0  0.0\n",
       " 0.0  0.0  0.0\n",
       " 0.0  0.0  0.0\n",
       " 0.0  0.0  0.0\n",
       " 0.0  0.0  0.0\n",
       " 0.0  0.0  0.0\n",
       " 0.0  0.0  0.0\n",
       " 0.0  0.0  0.0\n",
       " 0.0  0.0  0.0\n",
       " 0.0  0.0  0.0"
      ]
     },
     "execution_count": 42,
     "metadata": {},
     "output_type": "execute_result"
    }
   ],
   "source": [
    "A = zeros((30,3,3))"
   ]
  },
  {
   "cell_type": "code",
   "execution_count": 139,
   "metadata": {},
   "outputs": [
    {
     "data": {
      "text/plain": [
       "3×3 view(::Array{Float64, 3}, 1, :, :) with eltype Float64:\n",
       " 40.0  40.0  40.0\n",
       "  0.0   0.0   0.0\n",
       "  0.0   0.0   0.0"
      ]
     },
     "execution_count": 139,
     "metadata": {},
     "output_type": "execute_result"
    }
   ],
   "source": [
    "A[1,:,:] .+= fvector"
   ]
  },
  {
   "cell_type": "code",
   "execution_count": 138,
   "metadata": {},
   "outputs": [
    {
     "data": {
      "text/plain": [
       "30×3×3 Array{Float64, 3}:\n",
       "[:, :, 1] =\n",
       " 20.0  0.0  0.0\n",
       "  0.0  0.0  0.0\n",
       "  0.0  0.0  0.0\n",
       "  0.0  0.0  0.0\n",
       "  0.0  0.0  0.0\n",
       "  0.0  0.0  0.0\n",
       "  0.0  0.0  0.0\n",
       "  0.0  0.0  0.0\n",
       "  0.0  0.0  0.0\n",
       "  0.0  0.0  0.0\n",
       "  0.0  0.0  0.0\n",
       "  0.0  0.0  0.0\n",
       "  0.0  0.0  0.0\n",
       "  ⋮         \n",
       "  0.0  0.0  0.0\n",
       "  0.0  0.0  0.0\n",
       "  0.0  0.0  0.0\n",
       "  0.0  0.0  0.0\n",
       "  0.0  0.0  0.0\n",
       "  0.0  0.0  0.0\n",
       "  0.0  0.0  0.0\n",
       "  0.0  0.0  0.0\n",
       "  0.0  0.0  0.0\n",
       "  0.0  0.0  0.0\n",
       "  0.0  0.0  0.0\n",
       "  0.0  0.0  0.0\n",
       "\n",
       "[:, :, 2] =\n",
       " 20.0  0.0  0.0\n",
       "  0.0  0.0  0.0\n",
       "  0.0  0.0  0.0\n",
       "  0.0  0.0  0.0\n",
       "  0.0  0.0  0.0\n",
       "  0.0  0.0  0.0\n",
       "  0.0  0.0  0.0\n",
       "  0.0  0.0  0.0\n",
       "  0.0  0.0  0.0\n",
       "  0.0  0.0  0.0\n",
       "  0.0  0.0  0.0\n",
       "  0.0  0.0  0.0\n",
       "  0.0  0.0  0.0\n",
       "  ⋮         \n",
       "  0.0  0.0  0.0\n",
       "  0.0  0.0  0.0\n",
       "  0.0  0.0  0.0\n",
       "  0.0  0.0  0.0\n",
       "  0.0  0.0  0.0\n",
       "  0.0  0.0  0.0\n",
       "  0.0  0.0  0.0\n",
       "  0.0  0.0  0.0\n",
       "  0.0  0.0  0.0\n",
       "  0.0  0.0  0.0\n",
       "  0.0  0.0  0.0\n",
       "  0.0  0.0  0.0\n",
       "\n",
       "[:, :, 3] =\n",
       " 20.0  0.0  0.0\n",
       "  0.0  0.0  0.0\n",
       "  0.0  0.0  0.0\n",
       "  0.0  0.0  0.0\n",
       "  0.0  0.0  0.0\n",
       "  0.0  0.0  0.0\n",
       "  0.0  0.0  0.0\n",
       "  0.0  0.0  0.0\n",
       "  0.0  0.0  0.0\n",
       "  0.0  0.0  0.0\n",
       "  0.0  0.0  0.0\n",
       "  0.0  0.0  0.0\n",
       "  0.0  0.0  0.0\n",
       "  ⋮         \n",
       "  0.0  0.0  0.0\n",
       "  0.0  0.0  0.0\n",
       "  0.0  0.0  0.0\n",
       "  0.0  0.0  0.0\n",
       "  0.0  0.0  0.0\n",
       "  0.0  0.0  0.0\n",
       "  0.0  0.0  0.0\n",
       "  0.0  0.0  0.0\n",
       "  0.0  0.0  0.0\n",
       "  0.0  0.0  0.0\n",
       "  0.0  0.0  0.0\n",
       "  0.0  0.0  0.0"
      ]
     },
     "execution_count": 138,
     "metadata": {},
     "output_type": "execute_result"
    }
   ],
   "source": [
    "A"
   ]
  },
  {
   "cell_type": "code",
   "execution_count": 32,
   "metadata": {},
   "outputs": [
    {
     "data": {
      "text/plain": [
       "3×2×2 Array{Int64, 3}:\n",
       "[:, :, 1] =\n",
       " 1  4\n",
       " 2  5\n",
       " 3  6\n",
       "\n",
       "[:, :, 2] =\n",
       " 7  4\n",
       " 8  7\n",
       " 9  4"
      ]
     },
     "execution_count": 32,
     "metadata": {},
     "output_type": "execute_result"
    }
   ],
   "source": [
    "test = [[1,2,3];;[4,5,6];;;[7,8,9];;[4,7,4]]"
   ]
  },
  {
   "cell_type": "code",
   "execution_count": 86,
   "metadata": {},
   "outputs": [
    {
     "data": {
      "text/plain": [
       "3-element Vector{Vector{Float64}}:\n",
       " [10.0, 20.0, 30.0]\n",
       " [0.0, 0.0, 0.0]\n",
       " [0.0, 0.0, 0.0]"
      ]
     },
     "execution_count": 86,
     "metadata": {},
     "output_type": "execute_result"
    }
   ],
   "source": [
    "r_mag = 2\n",
    "dr = [1,2,3]\n",
    "\n",
    "fvector = [x * dr/ r_mag for x in calc_harmforce(r_mag)]\n"
   ]
  },
  {
   "cell_type": "code",
   "execution_count": 87,
   "metadata": {},
   "outputs": [
    {
     "data": {
      "text/plain": [
       "3-element Vector{Int64}:\n",
       " 20\n",
       "  0\n",
       "  0"
      ]
     },
     "execution_count": 87,
     "metadata": {},
     "output_type": "execute_result"
    }
   ],
   "source": [
    "calc_harmforce(r_mag)"
   ]
  },
  {
   "cell_type": "markdown",
   "metadata": {},
   "source": [
    "### Calculate new position {vector}"
   ]
  },
  {
   "cell_type": "code",
   "execution_count": 9,
   "metadata": {},
   "outputs": [
    {
     "data": {
      "text/plain": [
       "calc_position (generic function with 1 method)"
      ]
     },
     "execution_count": 9,
     "metadata": {},
     "output_type": "execute_result"
    }
   ],
   "source": [
    "function calc_position(r, v, a, dt) #update position vector for single particle\n",
    "    r + (v*dt) + 0.5(a*dt^2)\n",
    "end"
   ]
  },
  {
   "cell_type": "markdown",
   "metadata": {},
   "source": [
    "### Update position matrix R in place (V,A,dt)"
   ]
  },
  {
   "cell_type": "code",
   "execution_count": 10,
   "metadata": {},
   "outputs": [
    {
     "data": {
      "text/plain": [
       "update_R! (generic function with 1 method)"
      ]
     },
     "execution_count": 10,
     "metadata": {},
     "output_type": "execute_result"
    }
   ],
   "source": [
    "function update_R!(R, V, A, dt) #updates position matrix R IN PLACE\n",
    "    broadcast!(calc_position,R,R,V,A,dt) #vectorized operation passed R by reference \n",
    "end"
   ]
  },
  {
   "cell_type": "markdown",
   "metadata": {},
   "source": [
    "### Calculate velocity {v::float, a1::float, a2::float, dt::float} with BBK"
   ]
  },
  {
   "cell_type": "code",
   "execution_count": 11,
   "metadata": {},
   "outputs": [
    {
     "data": {
      "text/plain": [
       "calc_velocity (generic function with 2 methods)"
      ]
     },
     "execution_count": 11,
     "metadata": {},
     "output_type": "execute_result"
    }
   ],
   "source": [
    "function calc_velocity(v,a1,a2,dt,eta=0.05) #velocity verlet update of velocity for single component\n",
    "    (1+dt*eta/2)^-2 * (v + 0.5(a1)*dt + 0.5(a2[1] + a2[2])*dt) #average current and new accelerations\n",
    "end"
   ]
  },
  {
   "cell_type": "markdown",
   "metadata": {},
   "source": [
    "### Update velocity matrix V (V,A1,A2,dt)"
   ]
  },
  {
   "cell_type": "code",
   "execution_count": 12,
   "metadata": {},
   "outputs": [
    {
     "data": {
      "text/plain": [
       "update_V! (generic function with 1 method)"
      ]
     },
     "execution_count": 12,
     "metadata": {},
     "output_type": "execute_result"
    }
   ],
   "source": [
    "function update_V!(V,A1,A2,dt) #updates velocity matrix V IN PLACE (passed by reference)\n",
    "    broadcast!(calc_velocity,V,V,A1,A2,dt)\n",
    "end"
   ]
  },
  {
   "cell_type": "markdown",
   "metadata": {},
   "source": [
    "### Initialize velocity (T,N,m,k)"
   ]
  },
  {
   "cell_type": "code",
   "execution_count": 13,
   "metadata": {},
   "outputs": [
    {
     "data": {
      "text/plain": [
       "init_velocity (generic function with 3 methods)"
      ]
     },
     "execution_count": 13,
     "metadata": {},
     "output_type": "execute_result"
    }
   ],
   "source": [
    "function init_velocity(T, N, m=1, k=1) #temperature, count, and mass\n",
    "    V = √(k*T/m)*randn((N,3)) #return N x 3 matrix of initialized velocities sampled from Maxwell-Boltzmann distribution\n",
    "    V[end,:] = -sum(V[1:end-1,:],dims=1) #Momentum conservation: last row equals minus sum of all other rows. Mass cancels out because same species \n",
    "    return V\n",
    "end"
   ]
  },
  {
   "cell_type": "markdown",
   "metadata": {},
   "source": [
    "### Calculate KE and T"
   ]
  },
  {
   "cell_type": "code",
   "execution_count": 14,
   "metadata": {},
   "outputs": [
    {
     "data": {
      "text/plain": [
       "calc_KE (generic function with 2 methods)"
      ]
     },
     "execution_count": 14,
     "metadata": {},
     "output_type": "execute_result"
    }
   ],
   "source": [
    "function calc_KE(V, N, m =1)\n",
    "    KE = 0.\n",
    "    T = 0.\n",
    "    for p in eachrow(V)\n",
    "        v_squared = sum(p.^2) #get squared magnitude of velocity vector\n",
    "        KE += 0.5(m*v_squared) #accumulate KE for each particle\n",
    "        T += v_squared/(3N-3)\n",
    "    end\n",
    "    return KE, T \n",
    "end"
   ]
  },
  {
   "cell_type": "markdown",
   "metadata": {},
   "source": [
    "### LD Simulation"
   ]
  },
  {
   "cell_type": "code",
   "execution_count": 152,
   "metadata": {},
   "outputs": [
    {
     "data": {
      "text/plain": [
       "LD (generic function with 2 methods)"
      ]
     },
     "execution_count": 152,
     "metadata": {},
     "output_type": "execute_result"
    }
   ],
   "source": [
    "function LD(T, dt, iters, R=initR())\n",
    "\n",
    "    N = length(R[:,1]) #number of particles\n",
    "    V = init_velocity(T,N) #velocity for t\n",
    "    A = zeros(N,3,3) #acceleration matrix\n",
    "    \n",
    "    PE = Vector{Float64}(undef,iters+1) #initialize array of potential energies \n",
    "    return fvector = update_A(R,T,V,dt) #initialize acceleration matrix and return initial PE\n",
    "\n",
    "    PE[1], A = update_A(A,R,T,V,dt) #initialize acceleration matrix and return initial PE\n",
    "    \n",
    "\n",
    "    KE = Vector{Float64}(undef,iters+1) #initialize array of kinetic energies \n",
    "    KE[1], = calc_KE(V,N) #initial KE \n",
    "\n",
    "    T_list = Vector{Float64}(undef,iters+1) #initialize array of kinetic energies \n",
    "    T_list[1] = T #initial temperature\n",
    "\n",
    "\n",
    "    for i in 1:iters\n",
    "        curr_A = sum(copy(A),dims=3) #A for current t\n",
    "        update_R!(R,V,curr_A,dt) #new R updated to t+dt\n",
    "        PE[i+1],A = update_A(R,T,V,dt) #new A updated in-place to t+dt, and returns PE into array \n",
    "        update_V!(V,curr_A,A,dt) #new V updated to t+dt\n",
    "        KE[i+1],T_list[i+1] = calc_KE(V,N) #add KE\n",
    "        # T_list[i+1] = calc_T(KE[i+1],kb,N) #add T\n",
    "    end\n",
    "    return  PE, KE, T_list, A, V, R \n",
    "end"
   ]
  },
  {
   "cell_type": "code",
   "execution_count": 153,
   "metadata": {},
   "outputs": [
    {
     "ename": "LoadError",
     "evalue": "MethodError: no method matching update_A(::Matrix{Float64}, ::Float64, ::Matrix{Float64}, ::Float64)\n\u001b[0mClosest candidates are:\n\u001b[0m  update_A(::Any, ::Any, ::Any, ::Any, \u001b[91m::Any\u001b[39m) at In[149]:1\n\u001b[0m  update_A(::Any, ::Any, ::Any, ::Any, \u001b[91m::Any\u001b[39m, \u001b[91m::Any\u001b[39m) at In[149]:1",
     "output_type": "error",
     "traceback": [
      "MethodError: no method matching update_A(::Matrix{Float64}, ::Float64, ::Matrix{Float64}, ::Float64)\n\u001b[0mClosest candidates are:\n\u001b[0m  update_A(::Any, ::Any, ::Any, ::Any, \u001b[91m::Any\u001b[39m) at In[149]:1\n\u001b[0m  update_A(::Any, ::Any, ::Any, ::Any, \u001b[91m::Any\u001b[39m, \u001b[91m::Any\u001b[39m) at In[149]:1",
      "",
      "Stacktrace:",
      " [1] LD(T::Float64, dt::Float64, iters::Int64, R::Matrix{Float64})",
      "   @ Main ./In[152]:8",
      " [2] LD(T::Float64, dt::Float64, iters::Int64)",
      "   @ Main ./In[152]:3",
      " [3] top-level scope",
      "   @ In[153]:2",
      " [4] eval",
      "   @ ./boot.jl:368 [inlined]",
      " [5] include_string(mapexpr::typeof(REPL.softscope), mod::Module, code::String, filename::String)",
      "   @ Base ./loading.jl:1428"
     ]
    }
   ],
   "source": [
    "# Random.seed!(1234)\n",
    "PE, KE, T_list, A, V, R= LD(2.,0.003,10000)"
   ]
  },
  {
   "cell_type": "code",
   "execution_count": 47,
   "metadata": {},
   "outputs": [
    {
     "data": {
      "text/plain": [
       "3-element Vector{Vector{Float64}}:\n",
       " [0.0, 0.0, -0.0]\n",
       " [0.0, 0.0, -0.0]\n",
       " [0.0, 0.0, -0.0]"
      ]
     },
     "execution_count": 47,
     "metadata": {},
     "output_type": "execute_result"
    }
   ],
   "source": [
    "fvector = LD(2.,0.003,10000)"
   ]
  },
  {
   "cell_type": "code",
   "execution_count": null,
   "metadata": {},
   "outputs": [],
   "source": []
  }
 ],
 "metadata": {
  "kernelspec": {
   "display_name": "Julia 1.8.0-rc3",
   "language": "julia",
   "name": "julia-1.8"
  },
  "language_info": {
   "file_extension": ".jl",
   "mimetype": "application/julia",
   "name": "julia",
   "version": "1.8.0"
  },
  "orig_nbformat": 4
 },
 "nbformat": 4,
 "nbformat_minor": 2
}
