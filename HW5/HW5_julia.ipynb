{
 "cells": [
  {
   "cell_type": "code",
   "execution_count": null,
   "metadata": {},
   "outputs": [],
   "source": [
    "using Random, Distributions\n",
    "using Plots\n",
    "# plotlyjs()\n",
    "# using PlotlyJS\n",
    "using DataFrames\n",
    "using StatsBase\n",
    "using DelimitedFiles\n",
    "using LinearAlgebra\n",
    "# using Distances\n",
    "# using Symbolics\n",
    "# using Latexify"
   ]
  },
  {
   "cell_type": "markdown",
   "metadata": {},
   "source": [
    "# Problem Set 5 (Jonathan Fischer using Julia)"
   ]
  },
  {
   "cell_type": "markdown",
   "metadata": {},
   "source": [
    "## 1) Langevin Dynamics of minimalist HP "
   ]
  },
  {
   "cell_type": "code",
   "execution_count": null,
   "metadata": {},
   "outputs": [],
   "source": [
    "function calc_dist(x1,x2, L=3.5) #calculate distance between a single pair of points along single component\n",
    "    dx = x1-x2 \n",
    "    dx - L*round(dx/L) #distance using minimum image convention \n",
    "end"
   ]
  },
  {
   "cell_type": "code",
   "execution_count": null,
   "metadata": {},
   "outputs": [],
   "source": [
    "function calc_LJ(r, sigma = 1, epsilon = 0.25) # calculate Lennard_Jones potential for a pairwise distance\n",
    "    4*epsilon*((sigma/r)^12 - (sigma/r)^6) \n",
    "end"
   ]
  },
  {
   "cell_type": "code",
   "execution_count": null,
   "metadata": {},
   "outputs": [],
   "source": [
    "function calc_force(r, sigma = 1, epsilon = 0.25)\n",
    "    48*epsilon*((sigma^12/r^13)-0.5*(sigma^6/r^7))\n",
    "end"
   ]
  }
 ],
 "metadata": {
  "kernelspec": {
   "display_name": "Julia 1.7.3",
   "language": "julia",
   "name": "julia-1.7"
  },
  "language_info": {
   "name": "julia"
  },
  "orig_nbformat": 4
 },
 "nbformat": 4,
 "nbformat_minor": 2
}
