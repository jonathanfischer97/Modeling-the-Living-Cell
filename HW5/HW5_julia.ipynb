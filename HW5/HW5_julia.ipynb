{
 "cells": [
  {
   "cell_type": "code",
   "execution_count": 1,
   "metadata": {},
   "outputs": [],
   "source": [
    "using Random, Distributions\n",
    "using Plots\n",
    "# plotlyjs()\n",
    "# using PlotlyJS\n",
    "using DataFrames\n",
    "using StatsBase\n",
    "using DelimitedFiles\n",
    "using LinearAlgebra\n",
    "# using Distances\n",
    "# using Symbolics\n",
    "# using Latexify"
   ]
  },
  {
   "cell_type": "markdown",
   "metadata": {},
   "source": [
    "# Problem Set 5 (Jonathan Fischer using Julia)"
   ]
  },
  {
   "cell_type": "markdown",
   "metadata": {},
   "source": [
    "## 1) Langevin Dynamics of minimalist HP "
   ]
  },
  {
   "cell_type": "markdown",
   "metadata": {},
   "source": [
    "### Initialize Positions R"
   ]
  },
  {
   "cell_type": "code",
   "execution_count": 10,
   "metadata": {},
   "outputs": [
    {
     "data": {
      "text/plain": [
       "initR (generic function with 1 method)"
      ]
     },
     "execution_count": 10,
     "metadata": {},
     "output_type": "execute_result"
    }
   ],
   "source": [
    "function initR()\n",
    "    R = zeros((5,3))\n",
    "    R[:,3] .= 1,2,3,4,5\n",
    "    R\n",
    "end"
   ]
  },
  {
   "cell_type": "code",
   "execution_count": 11,
   "metadata": {},
   "outputs": [
    {
     "data": {
      "text/plain": [
       "5×3 Matrix{Float64}:\n",
       " 0.0  0.0  1.0\n",
       " 0.0  0.0  2.0\n",
       " 0.0  0.0  3.0\n",
       " 0.0  0.0  4.0\n",
       " 0.0  0.0  5.0"
      ]
     },
     "execution_count": 11,
     "metadata": {},
     "output_type": "execute_result"
    }
   ],
   "source": [
    "initR()"
   ]
  },
  {
   "cell_type": "markdown",
   "metadata": {},
   "source": [
    "### Calculate distance (single component)"
   ]
  },
  {
   "cell_type": "code",
   "execution_count": 17,
   "metadata": {},
   "outputs": [
    {
     "data": {
      "text/plain": [
       "calc_dist (generic function with 2 methods)"
      ]
     },
     "execution_count": 17,
     "metadata": {},
     "output_type": "execute_result"
    }
   ],
   "source": [
    "function calc_dist(x1,x2) #calculate distance between a single pair of points along single component\n",
    "    x1-x2 \n",
    "    # dx - L*round(dx/L) #distance using minimum image convention \n",
    "end"
   ]
  },
  {
   "cell_type": "markdown",
   "metadata": {},
   "source": [
    "### Calculate non-bonded potential "
   ]
  },
  {
   "cell_type": "code",
   "execution_count": 18,
   "metadata": {},
   "outputs": [
    {
     "data": {
      "text/plain": [
       "calc_LJ (generic function with 2 methods)"
      ]
     },
     "execution_count": 18,
     "metadata": {},
     "output_type": "execute_result"
    }
   ],
   "source": [
    "function calc_LJ(r, epsilon, sigma = 1) # calculate Lennard_Jones potential for a pairwise distance\n",
    "    4*epsilon*((sigma/r)^12 - (sigma/r)^6) \n",
    "end"
   ]
  },
  {
   "cell_type": "markdown",
   "metadata": {},
   "source": [
    "### Calculate force (dU + friction + noise) returns tuple of force terms"
   ]
  },
  {
   "cell_type": "code",
   "execution_count": 35,
   "metadata": {},
   "outputs": [
    {
     "data": {
      "text/plain": [
       "calc_LJforce (generic function with 5 methods)"
      ]
     },
     "execution_count": 35,
     "metadata": {},
     "output_type": "execute_result"
    }
   ],
   "source": [
    "function calc_LJforce(r, epsilon, T, v, dt, sigma = 1, k=1, m=1, eta=0.05)\n",
    "    # (48*epsilon*((sigma^12/r^13)-0.5*(sigma^6/r^7)) + randn()*√(2kT*m*eta/dt) - eta*m*v, \n",
    "    [48*epsilon*((sigma^12/r^13)-0.5*(sigma^6/r^7)),\n",
    "    randn()*√(2kT*m*eta/dt),\n",
    "    -(eta*m*v)]\n",
    "end"
   ]
  },
  {
   "cell_type": "markdown",
   "metadata": {},
   "source": [
    "### Calculate bonded potential"
   ]
  },
  {
   "cell_type": "code",
   "execution_count": 79,
   "metadata": {},
   "outputs": [
    {
     "data": {
      "text/plain": [
       "calc_harmU (generic function with 3 methods)"
      ]
     },
     "execution_count": 79,
     "metadata": {},
     "output_type": "execute_result"
    }
   ],
   "source": [
    "function calc_harmU(r,k=20,l=1)\n",
    "    0.5k*(r-l)^2\n",
    "end"
   ]
  },
  {
   "cell_type": "markdown",
   "metadata": {},
   "source": [
    "### Calculate bond force"
   ]
  },
  {
   "cell_type": "code",
   "execution_count": 80,
   "metadata": {},
   "outputs": [
    {
     "data": {
      "text/plain": [
       "calc_harmforce (generic function with 3 methods)"
      ]
     },
     "execution_count": 80,
     "metadata": {},
     "output_type": "execute_result"
    }
   ],
   "source": [
    "function calc_harmforce(r,k=20,l=1)\n",
    "    [k*(r-l),0,0]\n",
    "end"
   ]
  },
  {
   "cell_type": "markdown",
   "metadata": {},
   "source": [
    "### Update acceleration matrix A"
   ]
  },
  {
   "cell_type": "code",
   "execution_count": 84,
   "metadata": {},
   "outputs": [
    {
     "data": {
      "text/plain": [
       "update_A (generic function with 2 methods)"
      ]
     },
     "execution_count": 84,
     "metadata": {},
     "output_type": "execute_result"
    }
   ],
   "source": [
    "function update_A(A, R, T, V, dt, m = 1) #update distance matrix D and acceleration matrix A \n",
    "    PE = 0 #initialize potential energy\n",
    "    N = length(R[:,1])\n",
    "    A = zeros((N,3,3))\n",
    "    for i in 1:N-1\n",
    "        for j in i+1:N\n",
    "            dr = calc_dist.(R[i,:],R[j,:]) #calculate distance vector between two points\n",
    "            r_mag = norm(dr) #calculate magnitude of distance vector\n",
    "            if j - i > 1\n",
    "                if (i,j) == (1,4) || (i,j) == (1,5) || (i,j) == (4,5)\n",
    "                    epsilon = 1.\n",
    "                    PE += calc_LJ(r_mag, epsilon)  #accumulate LJ potential energy\n",
    "                    # f_scalars = calc_LJforce(r_mag,epsilon,T,v,dt) #scalar magnitude of force\n",
    "                    A[i,:,:] += calc_LJforce(r_mag,epsilon,T,norm(V[i]),dt)  * dr / r_mag #force vector with each component\n",
    "                    A[j,:,:] -= calc_LJforce(r_mag,epsilon,T,norm(V[j]),dt)  * dr / r_mag #force vector with each component\n",
    "                else\n",
    "                    epsilon = 2/3\n",
    "                    PE += calc_LJ(r_mag, epsilon)  #accumulate LJ potential energy\n",
    "                    A[i,:,:] += [x * dr / r_mag for x in calc_LJforce(r_mag,epsilon,T,norm(V[i]),dt)] #force vector with each component\n",
    "                    A[j,:,:] -= [x * dr / r_mag for x in calc_LJforce(r_mag,epsilon,T,norm(V[j]),dt)] #force vector with each component\n",
    "                end\n",
    "            else \n",
    "                PE += calc_harmU(r_mag)\n",
    "                fvector = [x * dr/ r_mag for x in calc_harmforce(r_mag)]\n",
    "                A[i,:,:] += fvector\n",
    "                A[j,:,:] -= fvector\n",
    "            end\n",
    "        end\n",
    "    end\n",
    "    return PE, A\n",
    "end"
   ]
  },
  {
   "cell_type": "code",
   "execution_count": 86,
   "metadata": {},
   "outputs": [
    {
     "data": {
      "text/plain": [
       "3-element Vector{Vector{Float64}}:\n",
       " [10.0, 20.0, 30.0]\n",
       " [0.0, 0.0, 0.0]\n",
       " [0.0, 0.0, 0.0]"
      ]
     },
     "execution_count": 86,
     "metadata": {},
     "output_type": "execute_result"
    }
   ],
   "source": [
    "r_mag = 2\n",
    "dr = [1,2,3]\n",
    "\n",
    "fvector = [x * dr/ r_mag for x in calc_harmforce(r_mag)]\n"
   ]
  },
  {
   "cell_type": "code",
   "execution_count": 87,
   "metadata": {},
   "outputs": [
    {
     "data": {
      "text/plain": [
       "3-element Vector{Int64}:\n",
       " 20\n",
       "  0\n",
       "  0"
      ]
     },
     "execution_count": 87,
     "metadata": {},
     "output_type": "execute_result"
    }
   ],
   "source": [
    "calc_harmforce(r_mag)"
   ]
  },
  {
   "cell_type": "markdown",
   "metadata": {},
   "source": [
    "### Calculate new position {vector}"
   ]
  },
  {
   "cell_type": "code",
   "execution_count": 63,
   "metadata": {},
   "outputs": [
    {
     "data": {
      "text/plain": [
       "calc_position (generic function with 1 method)"
      ]
     },
     "execution_count": 63,
     "metadata": {},
     "output_type": "execute_result"
    }
   ],
   "source": [
    "function calc_position(r, v, a, dt) #update position vector for single particle\n",
    "    r + (v*dt) + 0.5(a*dt^2)\n",
    "end"
   ]
  },
  {
   "cell_type": "markdown",
   "metadata": {},
   "source": [
    "### Update position matrix R in place (V,A,dt)"
   ]
  },
  {
   "cell_type": "code",
   "execution_count": 64,
   "metadata": {},
   "outputs": [
    {
     "data": {
      "text/plain": [
       "update_R! (generic function with 1 method)"
      ]
     },
     "execution_count": 64,
     "metadata": {},
     "output_type": "execute_result"
    }
   ],
   "source": [
    "function update_R!(R, V, A, dt) #updates position matrix R IN PLACE\n",
    "    broadcast!(calc_position,R,R,V,A,dt) #vectorized operation passed R by reference \n",
    "end"
   ]
  },
  {
   "cell_type": "markdown",
   "metadata": {},
   "source": [
    "### Calculate velocity {v::float, a1::float, a2::float, dt::float} with BBK"
   ]
  },
  {
   "cell_type": "code",
   "execution_count": 65,
   "metadata": {},
   "outputs": [
    {
     "data": {
      "text/plain": [
       "calc_velocity (generic function with 2 methods)"
      ]
     },
     "execution_count": 65,
     "metadata": {},
     "output_type": "execute_result"
    }
   ],
   "source": [
    "function calc_velocity(v,a1,a2,dt,eta=0.05) #velocity verlet update of velocity for single component\n",
    "    (1+dt*eta/2)^-2 * (v + 0.5(a1)*dt + 0.5(a2[1] + a2[2])*dt) #average current and new accelerations\n",
    "end"
   ]
  },
  {
   "cell_type": "markdown",
   "metadata": {},
   "source": [
    "### Update velocity matrix V (V,A1,A2,dt)"
   ]
  },
  {
   "cell_type": "code",
   "execution_count": 66,
   "metadata": {},
   "outputs": [
    {
     "data": {
      "text/plain": [
       "update_V! (generic function with 1 method)"
      ]
     },
     "execution_count": 66,
     "metadata": {},
     "output_type": "execute_result"
    }
   ],
   "source": [
    "function update_V!(V,A1,A2,dt) #updates velocity matrix V IN PLACE (passed by reference)\n",
    "    broadcast!(calc_velocity,V,V,A1,A2,dt)\n",
    "end"
   ]
  },
  {
   "cell_type": "markdown",
   "metadata": {},
   "source": [
    "### Initialize velocity (T,N,m,k)"
   ]
  },
  {
   "cell_type": "code",
   "execution_count": 67,
   "metadata": {},
   "outputs": [
    {
     "data": {
      "text/plain": [
       "init_velocity (generic function with 3 methods)"
      ]
     },
     "execution_count": 67,
     "metadata": {},
     "output_type": "execute_result"
    }
   ],
   "source": [
    "function init_velocity(T, N, m=1, k=1) #temperature, count, and mass\n",
    "    V = √(k*T/m)*randn((N,3)) #return N x 3 matrix of initialized velocities sampled from Maxwell-Boltzmann distribution\n",
    "    V[end,:] = -sum(V[1:end-1,:],dims=1) #Momentum conservation: last row equals minus sum of all other rows. Mass cancels out because same species \n",
    "    return V\n",
    "end"
   ]
  },
  {
   "cell_type": "markdown",
   "metadata": {},
   "source": [
    "### Calculate KE and T"
   ]
  },
  {
   "cell_type": "code",
   "execution_count": 68,
   "metadata": {},
   "outputs": [
    {
     "data": {
      "text/plain": [
       "calc_KE (generic function with 2 methods)"
      ]
     },
     "execution_count": 68,
     "metadata": {},
     "output_type": "execute_result"
    }
   ],
   "source": [
    "function calc_KE(V, N, m =1)\n",
    "    KE = 0.\n",
    "    T = 0.\n",
    "    for p in eachrow(V)\n",
    "        v_squared = sum(p.^2) #get squared magnitude of velocity vector\n",
    "        KE += 0.5(m*v_squared) #accumulate KE for each particle\n",
    "        T += v_squared/(3N-3)\n",
    "    end\n",
    "    return KE, T \n",
    "end"
   ]
  },
  {
   "cell_type": "markdown",
   "metadata": {},
   "source": [
    "### LD Simulation"
   ]
  },
  {
   "cell_type": "code",
   "execution_count": 82,
   "metadata": {},
   "outputs": [
    {
     "data": {
      "text/plain": [
       "LD (generic function with 2 methods)"
      ]
     },
     "execution_count": 82,
     "metadata": {},
     "output_type": "execute_result"
    }
   ],
   "source": [
    "function LD(T, dt, iters, R=initR())\n",
    "\n",
    "    N = length(R[:,1]) #number of particles\n",
    "    V = init_velocity(T,N) #velocity for t\n",
    "    A = zeros(N,3,3) #acceleration matrix\n",
    "    \n",
    "    PE = Vector{Float64}(undef,iters+1) #initialize array of potential energies \n",
    "    PE[1], A = update_A(A,R,T,V,dt) #initialize acceleration matrix and return initial PE\n",
    "    \n",
    "\n",
    "    KE = Vector{Float64}(undef,iters+1) #initialize array of kinetic energies \n",
    "    KE[1], = calc_KE(V,N) #initial KE \n",
    "\n",
    "    T_list = Vector{Float64}(undef,iters+1) #initialize array of kinetic energies \n",
    "    T_list[1] = T #initial temperature\n",
    "\n",
    "\n",
    "    for i in 1:iters\n",
    "        curr_A = sum(copy(A),dims=3) #A for current t\n",
    "        update_R!(R,V,curr_A,dt) #new R updated to t+dt\n",
    "        PE[i+1],A = update_A(A, R,T,V,dt) #new A updated in-place to t+dt, and returns PE into array \n",
    "        update_V!(V,curr_A,A,dt) #new V updated to t+dt\n",
    "        KE[i+1],T_list[i+1] = calc_KE(V,N) #add KE\n",
    "        # T_list[i+1] = calc_T(KE[i+1],kb,N) #add T\n",
    "    end\n",
    "    return  PE, KE, T_list, A, V, R \n",
    "end"
   ]
  },
  {
   "cell_type": "code",
   "execution_count": 85,
   "metadata": {},
   "outputs": [
    {
     "ename": "LoadError",
     "evalue": "DimensionMismatch: dimensions must match: a has dims (Base.OneTo(3), Base.OneTo(3)), must have singleton at dim 2",
     "output_type": "error",
     "traceback": [
      "DimensionMismatch: dimensions must match: a has dims (Base.OneTo(3), Base.OneTo(3)), must have singleton at dim 2",
      "",
      "Stacktrace:",
      "  [1] promote_shape",
      "    @ ./indices.jl:183 [inlined]",
      "  [2] promote_shape(a::Matrix{Float64}, b::Vector{Vector{Float64}})",
      "    @ Base ./indices.jl:169",
      "  [3] +(A::Matrix{Float64}, Bs::Vector{Vector{Float64}})",
      "    @ Base ./arraymath.jl:14",
      "  [4] update_A(A::Array{Float64, 3}, R::Matrix{Float64}, T::Float64, V::Matrix{Float64}, dt::Float64, m::Int64)",
      "    @ Main ./In[84]:25",
      "  [5] update_A",
      "    @ ./In[84]:2 [inlined]",
      "  [6] LD(T::Float64, dt::Float64, iters::Int64, R::Matrix{Float64})",
      "    @ Main ./In[82]:8",
      "  [7] LD(T::Float64, dt::Float64, iters::Int64)",
      "    @ Main ./In[82]:3",
      "  [8] top-level scope",
      "    @ In[85]:2",
      "  [9] eval",
      "    @ ./boot.jl:368 [inlined]",
      " [10] include_string(mapexpr::typeof(REPL.softscope), mod::Module, code::String, filename::String)",
      "    @ Base ./loading.jl:1428"
     ]
    }
   ],
   "source": [
    "# Random.seed!(1234)\n",
    "PE, KE, T_list, A, V, R= LD(2.,0.003,10000)"
   ]
  },
  {
   "cell_type": "code",
   "execution_count": null,
   "metadata": {},
   "outputs": [],
   "source": []
  }
 ],
 "metadata": {
  "kernelspec": {
   "display_name": "Julia 1.8.0-rc3",
   "language": "julia",
   "name": "julia-1.8"
  },
  "language_info": {
   "file_extension": ".jl",
   "mimetype": "application/julia",
   "name": "julia",
   "version": "1.8.0"
  },
  "orig_nbformat": 4
 },
 "nbformat": 4,
 "nbformat_minor": 2
}
