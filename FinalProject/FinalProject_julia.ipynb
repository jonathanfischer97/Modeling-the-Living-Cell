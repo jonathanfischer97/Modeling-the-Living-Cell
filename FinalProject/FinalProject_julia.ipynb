{
 "cells": [
  {
   "cell_type": "code",
   "execution_count": null,
   "metadata": {},
   "outputs": [],
   "source": [
    "using Random, Distributions\n",
    "using Plots\n",
    "using DataFrames\n",
    "using StatsBase\n",
    "using DelimitedFiles\n",
    "using LinearAlgebra\n",
    "# using Distances\n",
    "# using Symbolics\n",
    "# using Latexify\n",
    "# using LsqFit\n",
    "# using Clustering\n",
    "using Findpeaks"
   ]
  },
  {
   "cell_type": "markdown",
   "metadata": {},
   "source": [
    "# Final Project: Oscillations from phase separation "
   ]
  },
  {
   "cell_type": "code",
   "execution_count": null,
   "metadata": {},
   "outputs": [],
   "source": []
  }
 ],
 "metadata": {
  "kernelspec": {
   "display_name": "Julia 1.8.0-rc3",
   "language": "julia",
   "name": "julia-1.8"
  },
  "language_info": {
   "name": "julia",
   "version": "3.9.13"
  },
  "orig_nbformat": 4,
  "vscode": {
   "interpreter": {
    "hash": "97650612f190689b99c6e021287d2f2e8b9034f26a70891df7accfb106e93556"
   }
  }
 },
 "nbformat": 4,
 "nbformat_minor": 2
}
